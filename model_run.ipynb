{
 "cells": [
  {
   "cell_type": "code",
   "execution_count": 1,
   "id": "ccfc525e",
   "metadata": {
    "vscode": {
     "languageId": "r"
    }
   },
   "outputs": [
    {
     "name": "stderr",
     "output_type": "stream",
     "text": [
      "Loading required package: Hmisc\n",
      "\n",
      "\n",
      "Attaching package: ‘Hmisc’\n",
      "\n",
      "\n",
      "The following objects are masked from ‘package:base’:\n",
      "\n",
      "    format.pval, units\n",
      "\n",
      "\n",
      "Loading required package: survival\n",
      "\n"
     ]
    }
   ],
   "source": [
    "# install.packages(\"ggplot2\")\n",
    "# install.packages('rms')\n",
    "# install.packages(\"timereg\")\n",
    "# install.packages(\"svglite\")\n",
    "# install.packages(\"htmltools\",version=\"0.5.7\")\n",
    "# install.packages(\"Hmisc\")\n",
    "library(ggplot2)\n",
    "library(rms)\n",
    "library(timereg)\n",
    "# library(broom)\n",
    "library(svglite)"
   ]
  },
  {
   "cell_type": "markdown",
   "id": "09db08ec",
   "metadata": {},
   "source": [
    "# Functions to find bounds and plot the data"
   ]
  },
  {
   "cell_type": "code",
   "execution_count": 2,
   "id": "40117109",
   "metadata": {
    "vscode": {
     "languageId": "r"
    }
   },
   "outputs": [],
   "source": [
    "find_bounds <- function(df, ...) {\n",
    "    pre_data <- df[1,1]\n",
    "    pre_y <- df[1,'yhat']\n",
    "    bounds <- c()\n",
    "    point <- c()\n",
    "    for (i in 1:nrow(df)) {\n",
    "        cur_y <- df[i,'yhat']\n",
    "        cur_data <- df[i,1]\n",
    "        if (pre_y > 1 && cur_y < 1){\n",
    "            bounds <- c(bounds,c(cur_data))\n",
    "            point <- c(point,'down')\n",
    "        }\n",
    "        if (pre_y <= 1 && cur_y > 1){\n",
    "            bounds <- c(bounds,c(pre_data))\n",
    "            point <- c(point,'up')\n",
    "            \n",
    "        }\n",
    "        pre_data <- cur_data\n",
    "        pre_y <- cur_y\n",
    "\n",
    "    }\n",
    "    return (bounds)\n",
    "}\n",
    "find_point <- function(df, ...) {\n",
    "    pre_data <- df[1,1]\n",
    "    pre_y <- df[1,'yhat']\n",
    "    bounds <- c()\n",
    "    point <- c()\n",
    "    for (i in 1:nrow(df)) {\n",
    "        cur_y <- df[i,'yhat']\n",
    "        cur_data <- df[i,1]\n",
    "        if (pre_y > 1 && cur_y < 1){\n",
    "            bounds <- c(bounds,c(cur_data))\n",
    "            point <- c(point,'down')\n",
    "        }\n",
    "        if (pre_y <= 1 && cur_y > 1){\n",
    "            bounds <- c(bounds,c(pre_data))\n",
    "            point <- c(point,'up')\n",
    "            \n",
    "        }\n",
    "        pre_data <- cur_data\n",
    "        pre_y <- cur_y\n",
    "\n",
    "    }\n",
    "    return (point)\n",
    "}\n"
   ]
  },
  {
   "cell_type": "code",
   "execution_count": 3,
   "id": "b7d0b251",
   "metadata": {
    "vscode": {
     "languageId": "r"
    }
   },
   "outputs": [],
   "source": [
    "save_pic_bounds <- function(HR,col,bounds,group,group_by,p,p_linear,is_first,col_for_pic){\n",
    "    max_data = max(HR['data_col'])\n",
    "    max_y = max(HR['upper'])\n",
    "    pp<-ggplot()+\n",
    "    geom_line(data=HR, aes(data_col,yhat),\n",
    "            linetype=\"solid\",size=1,alpha = 0.7,colour=\"#0070b9\")+\n",
    "    geom_ribbon(data=HR, \n",
    "              aes(data_col,ymin = lower, ymax = upper),\n",
    "              alpha = 0.1,fill=\"#0070b9\")+\n",
    "    theme_classic()+\n",
    "    geom_hline(yintercept=1, linetype=3,size=1)+\n",
    "    theme(text = element_text(size = 22)) # set the font size of the plot\n",
    "    \n",
    "    if(group == 3)\n",
    "        pp <- pp + labs(title = paste(\"Risk\"),x=paste(col_for_pic), y=\"HR (95%CI)\")\n",
    "    else{\n",
    "        strs = c(\"0\"='Low-Albumin',\"1\"='Mid-Albumin',\"2\"='High-Albumin')\n",
    "        pp <- pp + labs(title = paste(\"Risk \",\"(\", strs[group],\")\",sep=\"\"), x=paste(col_for_pic), y=\"HR (95%CI)\")\n",
    "        \n",
    "    }\n",
    "    \n",
    "    # the vertical line\n",
    "    i <-  0\n",
    "    for (bound in bounds){\n",
    "        pp <- pp + geom_vline(xintercept=bound, size=1, color='#d40e8c', linetype=\"dashed\", alpha=0.5)\n",
    "        if (i == 0){\n",
    "            pp <- pp + annotate(\"text\", x = bound, y = 0, label = paste('A:',round(bound,2)),size = 7)\n",
    "        }else if(i == 1){\n",
    "            pp <- pp + annotate(\"text\", x = bound, y = 0.5, label = paste('B:',round(bound,2)),size = 7)\n",
    "            \n",
    "        }else{\n",
    "            pp <- pp + annotate(\"text\", x = bound, y = 1.3, label = paste('C:',round(bound,2)),size = 7)\n",
    "\n",
    "        }\n",
    "        i <- i + 1\n",
    "    }\n",
    "    \n",
    "    # save the result\n",
    "    filename = paste(\"result/statistics_r/res/time/r_pic_png/\",group_by,\"/\",col,\"_\",group,\".png\",sep=\"\")\n",
    "    filename = paste(\"result/statistics_r/res/time/r_pic_svg/\",group_by,\"/\",col,\"_\",group,\".svg\",sep=\"\")\n",
    "    filename = paste(\"result/statistics_r/res/time/r_pic_pdf/\",group_by,\"/\",col,\"_\",group,\".pdf\",sep=\"\")\n",
    "    # get the folder path\n",
    "    folder_path <- dirname(filename)\n",
    "    \n",
    "    if (!dir.exists(folder_path)) {\n",
    "        # create the folder\n",
    "        dir.create(folder_path, recursive = TRUE)\n",
    "    }\n",
    "    \n",
    "    if (!file.exists(filename)) {\n",
    "        file.create(filename)\n",
    "    }\n",
    "    pp <- pp + annotate(\"text\", x = max_data*0.7, y = max_y*0.8, \n",
    "                    label = paste(\"p\", ifelse(p < 0.001, \"< 0.001\", ifelse(p < 0.01, \"< 0.01\", paste(\"=\", round(p, 2)))),\n",
    "                                  \"p(non-linear)\", ifelse(p_linear < 0.001, \"< 0.001\", ifelse(p_linear < 0.01, \"< 0.01\", paste(\"=\", round(p_linear, 2)))),\n",
    "                                  sep=\" \"), size = 7)\n",
    "\n",
    "    ggsave(\n",
    "      filename = filename, # the filename (pdf/png/svg)\n",
    "      width = 7,             # width\n",
    "      height = 7,            # height\n",
    "      units = \"in\",          # units\n",
    "      dpi = 300              # dpi\n",
    "\n",
    "    )\n",
    "}"
   ]
  },
  {
   "cell_type": "markdown",
   "id": "8bb8edb1",
   "metadata": {},
   "source": [
    "# Run the model and save the result for stage1 and stage2"
   ]
  },
  {
   "cell_type": "code",
   "execution_count": 4,
   "id": "bc1eafeb",
   "metadata": {
    "vscode": {
     "languageId": "r"
    }
   },
   "outputs": [
    {
     "name": "stderr",
     "output_type": "stream",
     "text": [
      "Warning message:\n",
      "“\u001b[1m\u001b[22mUsing `size` aesthetic for lines was deprecated in ggplot2 3.4.0.\n",
      "\u001b[36mℹ\u001b[39m Please use `linewidth` instead.”\n"
     ]
    },
    {
     "name": "stdout",
     "output_type": "stream",
     "text": [
      "[1] \" the result of stage1 is saved at result/statistics_r/res/time/res_cox_Albumin.csv\"\n",
      "[1] \" the result of stage2 is saved at result/statistics_r/res/time/res_Albumin.csv\"\n"
     ]
    }
   ],
   "source": [
    "\n",
    "vars <- c('water', 'protein', 'fat', 'carbohydrate', 'Calories', 'df', \n",
    "'k', 'na', 'mg', 'ca', 'p', 'fe', 'zn', 'cu', 'mn', 'se', 'retinol', 'vitaminA', 'carotene', \n",
    "'vitaminE', 'thiamine', 'riboflavin', 'nicotinic', 'ascorbic', 'dpi','dei')\n",
    "\n",
    "vars_for_pic <- c('Date','Water (100g/d)','Protein (g/d)','Fat (10g/d)','Carbohydrate (g/d)','Calories (10kcal/d)','Df (g/d)',\n",
    "                  'K (mg/d)','Na (100mg/d)',\n",
    "            'Mg (10mg/d)','Ca (100mg/d)','P (mg/d)','Fe (mg/d)','Zn (mg/d)','Cu (mg/d)',\n",
    "                  'Mn (mg/d)','Se (ug/d)','Retinol(ug/d)','VitaminA (100ugRAE/d)','Carotene (100ug/d)','VitaminE (ug/d)','Thiamine (mg/d)',\n",
    "            'Riboflavin (mg/d)','Nicotinic (mgNE/d)','Ascorbic (mg/d)','DPI (0.1g/kg/d)','DEI (kcal/kg/d)')\n",
    "stages <- c(\"0\",\"1\",\"2\",\"3\")\n",
    "res <- c()\n",
    "all <- 1\n",
    "\n",
    "res_cox = c()\n",
    "# for (group_by in c('Albumin','age','DBP','SBP','diab')){\n",
    "for (group_by in c('Albumin')){\n",
    "    if (group_by == 'diab'){\n",
    "        stages <- c(\"0\",\"1\",\"2\")\n",
    "    }\n",
    "    for (stage in stages){\n",
    "        col_index <- 1\n",
    "        for (col in vars){\n",
    "            col_index <- col_index + 1\n",
    "            \n",
    "            filename <- paste('./result/statistics_r/group_data_time_new/group_by_',group_by,'_',col,'_',stage,'.csv',sep=\"\")\n",
    "            # print(filename)\n",
    "            data <- read.csv(filename)\n",
    "            # package the data\n",
    "            dd <- datadist(data) #set the data environment for the code\n",
    "            options(datadist='dd')\n",
    "\n",
    "            \n",
    "            \n",
    "            # fit the model\n",
    "            if (group_by == 'diab'){\n",
    "\n",
    "                fit<- cph(Surv(live_time,death) ~ rcs(data_col,4)+Cl+CO2CP+Urea+Na+Scr+P+Albumin+hsCRP+Glucose+Weight+SBP+DBP+gfr+K+bmi+WBC+age+height,data=data)  # 节点数设为4\n",
    "                \n",
    "            }else{\n",
    "                fit<- cph(Surv(live_time,death) ~ rcs(data_col,4)+diab+Cl+CO2CP+Urea+Na+Scr+P+hsCRP+Glucose+Weight+SBP+DBP+gfr+K+bmi+WBC+age+height,data=data)  # 节点数设为4\n",
    "                res_coxph<- coxph(Surv(live_time,death) ~ data_col+Cl+CO2CP+Urea+Na+Scr+P+Albumin+hsCRP+Glucose+Weight+SBP+DBP+gfr+K+bmi+WBC+age+height,data=data)  # 节点数设为4\n",
    "                # risk_score <- predict(res_coxph, newdata=data, type='risk')\n",
    "                # roc_curve <-timeROC(Surv(live_time, death)~risk_score, data=data, times=c(1))\n",
    "                # plot(roc_curve)\n",
    "                \n",
    "            }\n",
    "            line_1 = as.matrix(summary(res_coxph)$coefficients)[1,]\n",
    "            confidence_interval = exp(confint(res_coxph)[1, ])\n",
    "            # print(confidence_interval[1])\n",
    "            line = c(col,stage,line_1[1],line_1[2],line_1[3],line_1[4],line_1[5],confidence_interval[1],confidence_interval[2])\n",
    "            res_cox = c(res_cox,line)\n",
    "            res_cox_all  <- matrix(res_cox, ncol = 9,byrow = TRUE) # 行的顺序不变，不然会乱序\n",
    "            colnames(res_cox_all) <- c(\"col\",\"stage\",\"c\",\"c1\",\"c2\",\"z\",\"p\",'951','952')\n",
    "            \n",
    "    \n",
    "            # non-linear test\n",
    "            # P<0.05 denotes that the non-linear effect is significant\n",
    "            anova_res = anova(fit)\n",
    "            # print(anova_res)\n",
    "            # print(anova_res)\n",
    "            p <- anova_res[1,3]\n",
    "            p_linear <- anova_res[2,3]\n",
    "            \n",
    "            HR<-Predict(fit, data_col,fun=exp,ref.zero = TRUE)\n",
    "            bounds = find_bounds(HR)\n",
    "            point = find_point(HR)\n",
    "            save_pic_bounds(HR,col,bounds,stage,group_by,p,p_linear,is_first,vars_for_pic[col_index])\n",
    "            b1 = bounds[1]\n",
    "\n",
    "            while(length(bounds)<3){ # there are 1-3 lines, if less than 3, fill it up to 3\n",
    "                bounds = c(bounds,c(-1))\n",
    "            }\n",
    "            while(length(point)<3){ # there are 1-3 lines, if less than 3, fill it up to 3\n",
    "                point = c(point,c(-1))\n",
    "            }\n",
    "            row <-c(col,stage,round(bounds[1],2),round(bounds[2],2),round(bounds[3],2),round(p,4),round(p_linear,4),point[1],point[2],point[3])\n",
    "            res <- c(res,row)\n",
    "            all  <- matrix(res, ncol = 10,byrow = TRUE) # keep the order of the rows, otherwise it will be disordered\n",
    "            colnames(all) <- c(\"diet\",\"stage\",\"round1\",\"round2\",\"round3\",\"p\",\"p_nonlinear\",\"d1\",\"d2\",\"d3\")\n",
    "        }\n",
    "    }\n",
    "    write.csv(all,file=paste(\"result/statistics_r/res/time/res_\",group_by,\".csv\",sep=''))\n",
    "    write.csv(res_cox_all,file=paste(\"result/statistics_r/res/time/res_cox_\",group_by,\".csv\",sep=''))\n",
    "    print(paste(\" the result of stage1 is saved at result/statistics_r/res/time/res_cox_\",group_by,\".csv\",sep=''))\n",
    "    print(paste(\" the result of stage2 is saved at result/statistics_r/res/time/res_\",group_by,\".csv\",sep=''))\n",
    "}\n"
   ]
  }
 ],
 "metadata": {
  "kernelspec": {
   "display_name": "R",
   "language": "R",
   "name": "ir"
  },
  "language_info": {
   "codemirror_mode": "r",
   "file_extension": ".r",
   "mimetype": "text/x-r-source",
   "name": "R",
   "pygments_lexer": "r",
   "version": "4.3.1"
  }
 },
 "nbformat": 4,
 "nbformat_minor": 5
}
