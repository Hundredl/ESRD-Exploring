{
 "cells": [
  {
   "cell_type": "code",
   "execution_count": 34,
   "metadata": {},
   "outputs": [],
   "source": [
    "import datetime\n",
    "from unittest import result\n",
    "from loguru import logger\n",
    "import argparse\n",
    "import pickle\n",
    "from typing import Dict,List\n",
    "import pandas as pd\n",
    "import numpy as np\n",
    "import seaborn as sns\n",
    "import matplotlib.pyplot as plt\n",
    "from sklearn import preprocessing\n",
    "import global_const as gconst\n",
    "import copy\n",
    "import numpy as np\n",
    "import pickle"
   ]
  },
  {
   "cell_type": "markdown",
   "metadata": {},
   "source": [
    "# import data\n"
   ]
  },
  {
   "cell_type": "code",
   "execution_count": 35,
   "metadata": {},
   "outputs": [
    {
     "name": "stderr",
     "output_type": "stream",
     "text": [
      "\u001b[32m2024-04-05 11:08:53.744\u001b[0m | \u001b[34m\u001b[1mDEBUG   \u001b[0m | \u001b[36m__main__\u001b[0m:\u001b[36m<module>\u001b[0m:\u001b[36m30\u001b[0m - \u001b[34m\u001b[1mverify x and y data length len(x_656), len(y_656)= 656, 656. different count:0\u001b[0m\n"
     ]
    }
   ],
   "source": [
    "# import \n",
    "\n",
    "data_path_prefix = \"./esrd\"\n",
    "data_path=f\"{data_path_prefix}/processed/\"\n",
    "\n",
    "project_path=\"./\"\n",
    "result_path=f\"{project_path}/result/\"\n",
    "# 656 origin data\n",
    "pdid_656 = pickle.load(open(f'{data_path}656_pdid','rb'))\n",
    "x_656 = pickle.load(open(f'{data_path}raw_x_17_656','rb'))\n",
    "y_656 = pickle.load(open(f'{data_path}656_y','rb'))\n",
    "static_656 = pickle.load(open(f'{data_path}raw_static_4_656','rb'))\n",
    "\n",
    "\n",
    "# diet data\n",
    "diet = pickle.load(open(f'{data_path}diet656_picked.dict','rb'))\n",
    "from data_diet import get_diet_in\n",
    "diet_656 = get_diet_in(diet,pdid_656)\n",
    "\n",
    "\n",
    "date_656 = pickle.load(open(f'{data_path}656_date','rb'))\n",
    "days_656 = pickle.load(open(f'{data_path}656_days','rb'))\n",
    "\n",
    "# verify x and y data length\n",
    "count = 0\n",
    "for i in range(656):\n",
    "    if(len(x_656[i])!=len(y_656[i])):\n",
    "        count += 1\n",
    "\n",
    "logger.debug(f'verify x and y data length len(x_656), len(y_656)= {len(x_656)}, {len(y_656)}. different count:{count}')"
   ]
  },
  {
   "cell_type": "markdown",
   "metadata": {},
   "source": [
    "# data preprocess"
   ]
  },
  {
   "cell_type": "code",
   "execution_count": 36,
   "metadata": {},
   "outputs": [
    {
     "data": {
      "text/plain": [
       "['water',\n",
       " 'protein',\n",
       " 'fat',\n",
       " 'carbohydrate',\n",
       " 'Calories',\n",
       " 'df',\n",
       " 'k',\n",
       " 'na',\n",
       " 'mg',\n",
       " 'ca',\n",
       " 'p',\n",
       " 'fe',\n",
       " 'zn',\n",
       " 'cu',\n",
       " 'mn',\n",
       " 'se',\n",
       " 'retinol',\n",
       " 'vitaminA',\n",
       " 'carotene',\n",
       " 'vitaminE',\n",
       " 'thiamine',\n",
       " 'riboflavin',\n",
       " 'nicotinic',\n",
       " 'ascorbic']"
      ]
     },
     "execution_count": 36,
     "metadata": {},
     "output_type": "execute_result"
    }
   ],
   "source": [
    "gconst.get_labels_diet()"
   ]
  },
  {
   "cell_type": "code",
   "execution_count": 37,
   "metadata": {},
   "outputs": [],
   "source": [
    "def cal_dpi(protain,kg):\n",
    "    \"\"\"cal dpi\"\"\"\n",
    "    return float(protain)/float(kg + 0.0000001)\n",
    "def cal_dei(calories,kg):\n",
    "    \"\"\"cal dei\"\"\"\n",
    "    return float(calories)/float(kg + 0.0000001)\n",
    "\n",
    "def cal_dpi_ibw(protain,height):\n",
    "    \"\"\"cal dpi, use height to calculate ideal body weight\"\"\"\n",
    "    if height < 105:\n",
    "        height +=100\n",
    "    weight = height - 105\n",
    "    \n",
    "    return float(protain)/(weight + 0.0000001)\n",
    "\n",
    "def cal_dei_ibw(calories,height):\n",
    "    \"\"\"cal dei, use height to calculate ideal body weight\"\"\"\n",
    "    if height < 105:\n",
    "        height +=100\n",
    "    weight = height - 105\n",
    "    return float(calories)/(weight + 0.0000001)\n",
    "\n",
    "def cal_bmi(height,weight):\n",
    "    \"\"\"calculate bmi, height unit cm, weight unit kg\"\"\"\n",
    "    height = height/100\n",
    "    return float(weight)/(height * height)\n",
    "\n",
    "def cal_gfr(scr,gender,age):\n",
    "    \"\"\"calculate gfr\"\"\"\n",
    "    gfr = 141 * pow(scr,-1.209)*pow(0.993,int(age))\n",
    "    if gender ==0:\n",
    "        gfr = gfr*1.018\n",
    "    return gfr\n",
    "def cal_age(birthday,day):\n",
    "    birthday_obj = datetime.datetime.strptime(birthday,'%Y/%m/%d')\n",
    "    day_obj = datetime.datetime.strptime(day,'%Y/%m/%d')\n",
    "    age = (day_obj - birthday_obj).days / 365\n",
    "    return age"
   ]
  },
  {
   "cell_type": "markdown",
   "metadata": {},
   "source": [
    "## visit data"
   ]
  },
  {
   "cell_type": "code",
   "execution_count": 38,
   "metadata": {},
   "outputs": [
    {
     "name": "stdout",
     "output_type": "stream",
     "text": [
      "['Cl', 'CO2CP', 'WBC', 'Hb', 'Urea', 'Ca', 'K', 'Na', 'Scr', 'P', 'Albumin', 'hs-CRP', 'Glucose', 'Appetite', 'Weight', 'SBP', 'DBP']\n",
      "['birthday', 'admission_day', 'age', 'death', 'death_day', 'death_age']\n",
      "['birthday', 'admission_day', 'age', 'death', 'death_day', 'death_age']\n",
      "656 656\n"
     ]
    }
   ],
   "source": [
    "# concate the dynamic and static data, add bmi and gfr\n",
    "# recalculate age\n",
    "labels_visit, labels_static, labels_days = gconst.get_labels_visit(),gconst.get_labels_static(),gconst.get_labels_days()\n",
    "print(labels_visit)\n",
    "print(labels_days)\n",
    "print(labels_days)\n",
    "res_visit = []\n",
    "print(len(x_656),len(static_656))\n",
    "for cur_visits, cur_statics,cur_dates,cur_days in list(zip(x_656,static_656,date_656,days_656)):\n",
    "    # print(pd.DataFrame(cur_visit,columns=labels_visit))\n",
    "    # print(pd.DataFrame([cur_statics],columns=labels_static)) \n",
    "    # print(cur_days)\n",
    "    cur_values = []\n",
    "    for i in range(len(cur_visits)):\n",
    "        cur_value = list(cur_visits[i])\n",
    "        # age \n",
    "        birthday = cur_days[labels_days.index('birthday')]\n",
    "        cur_date = cur_dates[i]\n",
    "        age = cal_age(birthday,cur_date)\n",
    "        cur_value.append(age)\n",
    "        cur_value += list(cur_statics[1:])\n",
    "        # bmi\n",
    "        height = cur_statics[labels_static.index('height')]\n",
    "        weight = cur_visits[i][labels_visit.index('Weight')]\n",
    "        bmi = cal_bmi(height,weight)\n",
    "        cur_value.append(bmi)\n",
    "        # mGFR\n",
    "        scr = cur_visits[i][labels_visit.index('Scr')]\n",
    "        gender = cur_statics[labels_static.index('gender')]\n",
    "        gfr = cal_gfr(scr,gender,age)\n",
    "        cur_value.append(gfr)\n",
    "        cur_values.append(cur_value)\n",
    "    res_visit.append(cur_values)\n",
    "labels_statistics_visit = labels_visit + labels_static + ['bmi','gfr']\n",
    "\n",
    "with open(f'{data_path}statistics_visit','wb') as f:\n",
    "    pickle.dump(res_visit,f)\n",
    "\n"
   ]
  },
  {
   "cell_type": "code",
   "execution_count": 39,
   "metadata": {},
   "outputs": [
    {
     "name": "stdout",
     "output_type": "stream",
     "text": [
      "656\n"
     ]
    }
   ],
   "source": [
    "# 初次就诊\n",
    "res_visit_first = [i[0] for i in res_visit]\n",
    "print(len(res_visit_first))\n",
    "with open(f'{data_path}statistics_visit_first','wb') as f:\n",
    "    pickle.dump(res_visit_first,f)"
   ]
  },
  {
   "cell_type": "code",
   "execution_count": 40,
   "metadata": {},
   "outputs": [
    {
     "data": {
      "text/plain": [
       "23"
      ]
     },
     "execution_count": 40,
     "metadata": {},
     "output_type": "execute_result"
    }
   ],
   "source": [
    "len(labels_statistics_visit)"
   ]
  },
  {
   "cell_type": "code",
   "execution_count": 41,
   "metadata": {},
   "outputs": [
    {
     "name": "stdout",
     "output_type": "stream",
     "text": [
      "(656, 23)\n"
     ]
    }
   ],
   "source": [
    "res_visit_mean = []\n",
    "for cur_visit in res_visit:\n",
    "    cur_visit_np = np.array(cur_visit)\n",
    "    cur_visit_np_nodate = np.array(cur_visit_np,float) \n",
    "    cur_visit_mean = np.mean(cur_visit_np_nodate,axis=0)\n",
    "    # print(cur_diet_mean.shape)\n",
    "    cur_value = list(cur_visit_mean)\n",
    "    res_visit_mean.append(cur_value)\n",
    "\n",
    "print(np.array(res_visit_mean).shape)\n",
    "with open(f'{data_path}statistics_visit_mean','wb') as f:\n",
    "    pickle.dump(res_visit_mean,f)\n"
   ]
  },
  {
   "cell_type": "markdown",
   "metadata": {},
   "source": [
    "## diet data"
   ]
  },
  {
   "cell_type": "code",
   "execution_count": 42,
   "metadata": {},
   "outputs": [
    {
     "name": "stdout",
     "output_type": "stream",
     "text": [
      "['water', 'protein', 'fat', 'carbohydrate', 'Calories', 'df', 'k', 'na', 'mg', 'ca', 'p', 'fe', 'zn', 'cu', 'mn', 'se', 'retinol', 'vitaminA', 'carotene', 'vitaminE', 'thiamine', 'riboflavin', 'nicotinic', 'ascorbic']\n"
     ]
    }
   ],
   "source": [
    "\n",
    "labels_diet = gconst.get_labels_diet()\n",
    "print(labels_diet)\n",
    "labels_statistics_diet = ['date'] + labels_diet + ['dpi']\n",
    "\n",
    "from data_diet import diet_dict2matrix,diet_dict2dict,get_diet_visit_align_index\n",
    "diet_matrixs = []\n",
    "for id in pdid_656:\n",
    "    diet_matrix = diet_dict2matrix({id:diet_656[id]},no_id=True,no_date=False)\n",
    "    diet_matrixs.append(diet_matrix)\n",
    "\n",
    "diet_visit_align = get_diet_visit_align_index(pdid_656,diet_656,date_656)\n",
    "\n",
    "res_diet = []\n",
    "for cur_visits,cur_diets,cur_align,cur_statics in list(zip(x_656,diet_matrixs,diet_visit_align,static_656)):\n",
    "    cur_values = []\n",
    "    for i in range(len(cur_diets)):\n",
    "        cur_value = list(cur_diets[i])\n",
    "        cur_align_index = cur_align[i]\n",
    "        weight = cur_visits[cur_align_index][labels_visit.index(\"Weight\")]\n",
    "        protein  = cur_diets[i][labels_statistics_diet.index(\"protein\")]\n",
    "        calories  = cur_diets[i][labels_statistics_diet.index(\"Calories\")]\n",
    "        height = cur_statics[labels_static.index(\"height\")]\n",
    "        # dpi = cal_dpi(protein,weight)\n",
    "        # dei = cal_dei(calories,weight)\n",
    "        dpi_ibw = cal_dpi_ibw(protein,height)\n",
    "        dei_ibw = cal_dei_ibw(calories,height)\n",
    "        dpi = dpi_ibw\n",
    "        dei = dei_ibw\n",
    "        cur_value.append(dpi)\n",
    "        cur_value.append(dei)\n",
    "        cur_values.append(cur_value)\n",
    "    res_diet.append(cur_values)\n",
    "\n",
    "with open(f'{data_path}statistics_diet','wb') as f:\n",
    "    pickle.dump(res_diet,f)\n"
   ]
  },
  {
   "cell_type": "code",
   "execution_count": 43,
   "metadata": {},
   "outputs": [
    {
     "name": "stdout",
     "output_type": "stream",
     "text": [
      "656\n"
     ]
    }
   ],
   "source": [
    "res_diet_first = [i[0] for i in res_diet]\n",
    "print(len(res_visit_first))\n",
    "with open(f'{data_path}statistics_diet_first','wb') as f:\n",
    "    pickle.dump(res_diet_first,f)"
   ]
  },
  {
   "cell_type": "code",
   "execution_count": 44,
   "metadata": {},
   "outputs": [
    {
     "name": "stdout",
     "output_type": "stream",
     "text": [
      "(656, 27)\n"
     ]
    }
   ],
   "source": [
    "res_diet_mean = []\n",
    "for cur_diet in res_diet:\n",
    "    cur_diet_np = np.array(cur_diet)\n",
    "    cur_diet_np_nodate = np.array(cur_diet_np[:,1:],float)\n",
    "    cur_diet_mean = np.mean(cur_diet_np_nodate,axis=0)\n",
    "    # print(cur_diet_mean.shape)\n",
    "    cur_value = ['mean'] + list(cur_diet_mean)\n",
    "    res_diet_mean.append(cur_value)\n",
    "\n",
    "print(np.array(res_diet_mean).shape)\n",
    "with open(f'{data_path}statistics_diet_mean','wb') as f:\n",
    "    pickle.dump(res_diet_mean,f)\n"
   ]
  },
  {
   "cell_type": "code",
   "execution_count": null,
   "metadata": {},
   "outputs": [],
   "source": []
  }
 ],
 "metadata": {
  "kernelspec": {
   "display_name": "healthier",
   "language": "python",
   "name": "python3"
  },
  "language_info": {
   "codemirror_mode": {
    "name": "ipython",
    "version": 3
   },
   "file_extension": ".py",
   "mimetype": "text/x-python",
   "name": "python",
   "nbconvert_exporter": "python",
   "pygments_lexer": "ipython3",
   "version": "3.10.14"
  },
  "orig_nbformat": 4,
  "vscode": {
   "interpreter": {
    "hash": "4292d9b6ba137feda9ff328c18e49b2ba87df453a2fe3099bc69b7eacdc9406a"
   }
  }
 },
 "nbformat": 4,
 "nbformat_minor": 2
}
