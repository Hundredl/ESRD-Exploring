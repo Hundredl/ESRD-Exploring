{
 "cells": [
  {
   "cell_type": "code",
   "execution_count": 119,
   "metadata": {},
   "outputs": [],
   "source": [
    "import datetime\n",
    "from unittest import result\n",
    "from loguru import logger\n",
    "import pickle\n",
    "import pandas as pd\n",
    "import numpy as np\n",
    "import seaborn as sns\n",
    "import matplotlib.pyplot as plt\n",
    "\n",
    "import global_const as gconst\n",
    "import numpy as np\n",
    "import pickle\n",
    "from lifelines import KaplanMeierFitter,CoxPHFitter\n",
    "from lifelines.utils import median_survival_times\n",
    "from lifelines.statistics import logrank_test,multivariate_logrank_test\n",
    "from scipy import stats\n",
    "from tqdm import tqdm\n",
    "\n",
    "from scipy import stats\n",
    "from statsmodels.formula.api import ols\n",
    "from statsmodels.stats.anova import anova_lm\n",
    "from statsmodels.stats.multicomp import MultiComparison\n",
    "\n",
    "from pathlib import Path\n"
   ]
  },
  {
   "cell_type": "markdown",
   "metadata": {},
   "source": [
    "# import data"
   ]
  },
  {
   "cell_type": "code",
   "execution_count": 120,
   "metadata": {},
   "outputs": [],
   "source": [
    "# import \n",
    "\n",
    "data_path_prefix = \"./esrd\"\n",
    "project_path_prefix = \"./\"\n",
    "\n",
    "origin_data_path=f\"{data_path_prefix}/origin/ckd/\"\n",
    "data_path=f\"{data_path_prefix}/processed/\"\n",
    "result_path=f\"{project_path_prefix}/result/\"\n",
    "\n",
    "Path(result_path).mkdir(parents=True, exist_ok=True)\n",
    "\n",
    "\n",
    "pdid_656 = pickle.load(open(f'{data_path}656_pdid','rb'))\n",
    "days_656 = pickle.load(open(f'{data_path}656_days','rb'))\n",
    "date_656 = pickle.load(open(f'{data_path}656_date','rb'))\n",
    "visit_sta = pickle.load(open(f'{data_path}statistics_visit','rb'))\n",
    "diet_sta = pickle.load(open(f'{data_path}statistics_diet','rb'))\n",
    "visit_sta_first = pickle.load(open(f'{data_path}statistics_visit_first','rb'))\n",
    "visit_sta_mean = pickle.load(open(f'{data_path}statistics_visit_mean','rb'))\n",
    "diet_sta_first = pickle.load(open(f'{data_path}statistics_diet_first','rb'))\n",
    "diet_sta_mean = pickle.load(open(f'{data_path}statistics_diet_mean','rb'))\n",
    "\n",
    "labels_visit_sta = gconst.get_labels_statistics_visit()\n",
    "labels_diet_sta = gconst.get_labels_statistics_diet()\n"
   ]
  },
  {
   "cell_type": "code",
   "execution_count": 121,
   "metadata": {},
   "outputs": [
    {
     "name": "stdout",
     "output_type": "stream",
     "text": [
      "count of male:329.0, ratio:0.5015243902439024\n",
      "count of diab:244.0, ratio:0.3719512195121951\n"
     ]
    }
   ],
   "source": [
    "# 查看 gender \n",
    "a = np.array(visit_sta_first)\n",
    "print(f'count of male:{sum(a[:,18])}, ratio:{sum(a[:,18])/len(a)}')\n",
    "print(f'count of diab:{sum(a[:,19])}, ratio:{sum(a[:,19])/len(a)}')\n"
   ]
  },
  {
   "cell_type": "markdown",
   "metadata": {},
   "source": [
    "# KM survival analysis for all visits"
   ]
  },
  {
   "cell_type": "code",
   "execution_count": 122,
   "metadata": {},
   "outputs": [],
   "source": [
    "def append_livedatas(pdid,visit_single,days,labels=gconst.get_labels_statistics_visit()):\n",
    "    \"\"\"在统计指标的基础上，增加 live_time 和death两个指标\"\"\"\n",
    "    labels_days = gconst.get_labels_days()\n",
    "    res = []\n",
    "    for index in range(len(pdid)):\n",
    "        death_day = days[index][labels_days.index('death_day')]\n",
    "        admission_day = days[index][labels_days.index('admission_day')]\n",
    "        death = days[index][labels_days.index('death')]  \n",
    "        cure_time = (datetime.datetime.strptime(death_day,'%Y/%m/%d')-datetime.datetime.strptime(admission_day,'%Y/%m/%d')).days/365\n",
    "        live_data = [cure_time,death]\n",
    "        cur_data = list(visit_single[index]) + live_data\n",
    "        res.append(cur_data)\n",
    "    labels_appended = labels + ['live_time','death']\n",
    "    return res,labels_appended"
   ]
  },
  {
   "cell_type": "code",
   "execution_count": 123,
   "metadata": {},
   "outputs": [],
   "source": [
    "res, labels = append_livedatas(pdid_656,visit_sta_first,days_656)"
   ]
  },
  {
   "cell_type": "code",
   "execution_count": 124,
   "metadata": {},
   "outputs": [],
   "source": [
    "def get_groups(col,data_df,q):\n",
    "    '''获取组\n",
    "    @param col：列\n",
    "    @param data_df: 数据\n",
    "    @param q：分层数\n",
    "    @return group_counts: 组\n",
    "    @return groups:分别属于哪组\n",
    "    @return data_rounds:组的数据范围\n",
    "    '''\n",
    "    cols = list(data_df.keys())\n",
    "    datas = data_df.values\n",
    "    if col == 'diab' or col == 'gender':\n",
    "        group_counts = [0,1] # 分组\n",
    "        groups = data_df[col]\n",
    "        data_rounds = [(0,0),(1,1)]\n",
    "    elif col == 'all':\n",
    "        group_counts = [0]\n",
    "        groups = data_df[col]\n",
    "        data_rounds = [(0,0)]\n",
    "\n",
    "    else :\n",
    "        group_counts = list(range(q))\n",
    "        index = cols.index(col)\n",
    "        cur_data = datas[:,index]\n",
    "        \n",
    "        data_rounds = gconst.get_data_rounds(cur_data,'q'+str(q))\n",
    "        cur_data_stage = gconst.get_data_rounds_indexs(cur_data,data_rounds)\n",
    "        # cur_df = data_df[['live_time','death']]\n",
    "        cur_df = data_df[[col]]\n",
    "        cur_df.insert(cur_df.shape[1],f'{col}_stage',cur_data_stage)\n",
    "        groups = cur_df[f'{col}_stage']\n",
    "    return group_counts, groups, data_rounds\n",
    "\n",
    "def do_lifelines(pdid,visit_single,days,result_path,save,confi,col,labels,q):\n",
    "    \"\"\"KM法生存分析，输出km曲线图和生存范围结果\"\"\"\n",
    "        # print(labels)\n",
    "    datas,cols = append_livedatas(pdid_656,visit_single,days_656)\n",
    "    datas = np.array(datas)\n",
    "    df = pd.DataFrame(datas,columns=cols)\n",
    "    df.insert(df.shape[1],column='all',value=0)\n",
    "    \n",
    "    kmf = KaplanMeierFitter()\n",
    "    ax = ''\n",
    "    confi50s = []\n",
    "    \n",
    "    group_counts, groups, data_rounds = get_groups(col,df,q)\n",
    "    # log rank\n",
    "    result = multivariate_logrank_test(df[['live_time']],groups,df[['death']])\n",
    "    # result.print_summary()\n",
    "    p_value = result.p_value\n",
    "\n",
    "    for i in group_counts:\n",
    "        ix = (groups == i)\n",
    "        kmf.fit(df['live_time'][ix],df['death'][ix],label=labels[i])\n",
    "        treatment_median_confidence_interval_ = median_survival_times(kmf.confidence_interval_)\n",
    "        median_survival_time_ = kmf.median_survival_time_\n",
    "        npm = treatment_median_confidence_interval_.to_numpy()[0]\n",
    "        confi50s.append([median_survival_time_]+list(npm))\n",
    "        if ax == '':\n",
    "            ax = kmf.plot(ci_show=confi) # at_risk_counts=True\n",
    "        else :\n",
    "            ax = kmf.plot(ax = ax,ci_show=confi,)\n",
    "    if save:\n",
    "        Path(f'{result_path}lifelines').mkdir(parents=True, exist_ok=True)\n",
    "        if confi:\n",
    "            # print(gconst.get_data_rounds_str(data_rounds))\n",
    "\n",
    "            ax.set_title(f'{col}_lifelines_confi')\n",
    "            ax.get_figure().savefig(f'{result_path}lifelines/{col}_lifelines_confi.png')\n",
    "            plt.close(ax.get_figure())\n",
    "            bound_df = pd.DataFrame(confi50s,index=labels,columns=['median','lower','upper'])\n",
    "            filename=f'{result_path}lifelines/{col}_lifelines_confi.xlsx'\n",
    "            with pd.ExcelWriter(filename) as writer:\n",
    "                bound_df.to_excel(writer,float_format='%.4f')\n",
    "                logger.debug(f'result saved as {filename}')\n",
    "        else:\n",
    "            ax.set_title(f'{col}_lifelines')\n",
    "            ax.get_figure().savefig(f'{result_path}lifelines/{col}_lifelines.png')\n",
    "            plt.close(ax.get_figure())\n",
    "            # plt.close()\n",
    "    return p_value,confi50s"
   ]
  },
  {
   "cell_type": "code",
   "execution_count": 125,
   "metadata": {},
   "outputs": [
    {
     "name": "stderr",
     "output_type": "stream",
     "text": [
      "\u001b[32m2024-04-05 11:04:28.262\u001b[0m | \u001b[34m\u001b[1mDEBUG   \u001b[0m | \u001b[36m__main__\u001b[0m:\u001b[36mget_data_rounds_allcol\u001b[0m:\u001b[36m20\u001b[0m - \u001b[34m\u001b[1mresult saved as .//result/data_rounds_allcol.xlsx\u001b[0m\n"
     ]
    }
   ],
   "source": [
    "import collections\n",
    "def get_data_rounds_allcol(pdid_656, visit_single, days_656, q, result_path):\n",
    "    '''分组范围'''\n",
    "    datas,cols = append_livedatas(pdid_656,visit_single,days_656)\n",
    "    datas = np.array(datas)\n",
    "    df = pd.DataFrame(datas,columns=cols)\n",
    "    df.insert(df.shape[1],column='all',value=0)\n",
    "    res = {'cols':cols,'rounds':[],'count':[]}\n",
    "    for col in cols:\n",
    "        group_counts, groups, data_rounds = get_groups(col,df,q)\n",
    "        # print(gconst.get_data_rounds_str(data_rounds))\n",
    "        # print(data_rounds)\n",
    "        res['rounds'].append(gconst.get_data_rounds_str(data_rounds))\n",
    "        c = collections.Counter(groups)\n",
    "        res['count'].append(dict(c))\n",
    "    filename = f'{result_path}data_rounds_allcol.xlsx'\n",
    "    res_df = pd.DataFrame(res)\n",
    "    with pd.ExcelWriter(filename) as writer:\n",
    "        res_df.to_excel(writer,float_format='%.4f')\n",
    "        logger.debug(f'result saved as {filename}')\n",
    "get_data_rounds_allcol(pdid_656,visit_sta_first,days_656,3,result_path)"
   ]
  },
  {
   "cell_type": "markdown",
   "metadata": {},
   "source": [
    "## Perform KM analysis for each indicator group"
   ]
  },
  {
   "cell_type": "code",
   "execution_count": 126,
   "metadata": {},
   "outputs": [
    {
     "name": "stderr",
     "output_type": "stream",
     "text": [
      "\u001b[32m2024-04-05 11:04:28.454\u001b[0m | \u001b[34m\u001b[1mDEBUG   \u001b[0m | \u001b[36m__main__\u001b[0m:\u001b[36mdo_lifelines\u001b[0m:\u001b[36m75\u001b[0m - \u001b[34m\u001b[1mresult saved as .//result/lifelines/diab_lifelines_confi.xlsx\u001b[0m\n",
      "\u001b[32m2024-04-05 11:04:28.732\u001b[0m | \u001b[34m\u001b[1mDEBUG   \u001b[0m | \u001b[36m__main__\u001b[0m:\u001b[36mdo_lifelines\u001b[0m:\u001b[36m75\u001b[0m - \u001b[34m\u001b[1mresult saved as .//result/lifelines/gender_lifelines_confi.xlsx\u001b[0m\n"
     ]
    },
    {
     "name": "stderr",
     "output_type": "stream",
     "text": [
      "\u001b[32m2024-04-05 11:04:29.029\u001b[0m | \u001b[34m\u001b[1mDEBUG   \u001b[0m | \u001b[36m__main__\u001b[0m:\u001b[36mdo_lifelines\u001b[0m:\u001b[36m75\u001b[0m - \u001b[34m\u001b[1mresult saved as .//result/lifelines/Cl_lifelines_confi.xlsx\u001b[0m\n",
      "\u001b[32m2024-04-05 11:04:29.350\u001b[0m | \u001b[34m\u001b[1mDEBUG   \u001b[0m | \u001b[36m__main__\u001b[0m:\u001b[36mdo_lifelines\u001b[0m:\u001b[36m75\u001b[0m - \u001b[34m\u001b[1mresult saved as .//result/lifelines/CO2CP_lifelines_confi.xlsx\u001b[0m\n",
      "\u001b[32m2024-04-05 11:04:29.673\u001b[0m | \u001b[34m\u001b[1mDEBUG   \u001b[0m | \u001b[36m__main__\u001b[0m:\u001b[36mdo_lifelines\u001b[0m:\u001b[36m75\u001b[0m - \u001b[34m\u001b[1mresult saved as .//result/lifelines/WBC_lifelines_confi.xlsx\u001b[0m\n",
      "\u001b[32m2024-04-05 11:04:29.992\u001b[0m | \u001b[34m\u001b[1mDEBUG   \u001b[0m | \u001b[36m__main__\u001b[0m:\u001b[36mdo_lifelines\u001b[0m:\u001b[36m75\u001b[0m - \u001b[34m\u001b[1mresult saved as .//result/lifelines/Hb_lifelines_confi.xlsx\u001b[0m\n",
      "\u001b[32m2024-04-05 11:04:30.313\u001b[0m | \u001b[34m\u001b[1mDEBUG   \u001b[0m | \u001b[36m__main__\u001b[0m:\u001b[36mdo_lifelines\u001b[0m:\u001b[36m75\u001b[0m - \u001b[34m\u001b[1mresult saved as .//result/lifelines/Urea_lifelines_confi.xlsx\u001b[0m\n",
      "\u001b[32m2024-04-05 11:04:30.631\u001b[0m | \u001b[34m\u001b[1mDEBUG   \u001b[0m | \u001b[36m__main__\u001b[0m:\u001b[36mdo_lifelines\u001b[0m:\u001b[36m75\u001b[0m - \u001b[34m\u001b[1mresult saved as .//result/lifelines/Ca_lifelines_confi.xlsx\u001b[0m\n",
      "\u001b[32m2024-04-05 11:04:31.165\u001b[0m | \u001b[34m\u001b[1mDEBUG   \u001b[0m | \u001b[36m__main__\u001b[0m:\u001b[36mdo_lifelines\u001b[0m:\u001b[36m75\u001b[0m - \u001b[34m\u001b[1mresult saved as .//result/lifelines/K_lifelines_confi.xlsx\u001b[0m\n",
      "\u001b[32m2024-04-05 11:04:31.484\u001b[0m | \u001b[34m\u001b[1mDEBUG   \u001b[0m | \u001b[36m__main__\u001b[0m:\u001b[36mdo_lifelines\u001b[0m:\u001b[36m75\u001b[0m - \u001b[34m\u001b[1mresult saved as .//result/lifelines/Na_lifelines_confi.xlsx\u001b[0m\n",
      "\u001b[32m2024-04-05 11:04:31.805\u001b[0m | \u001b[34m\u001b[1mDEBUG   \u001b[0m | \u001b[36m__main__\u001b[0m:\u001b[36mdo_lifelines\u001b[0m:\u001b[36m75\u001b[0m - \u001b[34m\u001b[1mresult saved as .//result/lifelines/Scr_lifelines_confi.xlsx\u001b[0m\n",
      "\u001b[32m2024-04-05 11:04:32.124\u001b[0m | \u001b[34m\u001b[1mDEBUG   \u001b[0m | \u001b[36m__main__\u001b[0m:\u001b[36mdo_lifelines\u001b[0m:\u001b[36m75\u001b[0m - \u001b[34m\u001b[1mresult saved as .//result/lifelines/P_lifelines_confi.xlsx\u001b[0m\n",
      "\u001b[32m2024-04-05 11:04:32.443\u001b[0m | \u001b[34m\u001b[1mDEBUG   \u001b[0m | \u001b[36m__main__\u001b[0m:\u001b[36mdo_lifelines\u001b[0m:\u001b[36m75\u001b[0m - \u001b[34m\u001b[1mresult saved as .//result/lifelines/Albumin_lifelines_confi.xlsx\u001b[0m\n",
      "\u001b[32m2024-04-05 11:04:32.760\u001b[0m | \u001b[34m\u001b[1mDEBUG   \u001b[0m | \u001b[36m__main__\u001b[0m:\u001b[36mdo_lifelines\u001b[0m:\u001b[36m75\u001b[0m - \u001b[34m\u001b[1mresult saved as .//result/lifelines/hs-CRP_lifelines_confi.xlsx\u001b[0m\n",
      "\u001b[32m2024-04-05 11:04:33.078\u001b[0m | \u001b[34m\u001b[1mDEBUG   \u001b[0m | \u001b[36m__main__\u001b[0m:\u001b[36mdo_lifelines\u001b[0m:\u001b[36m75\u001b[0m - \u001b[34m\u001b[1mresult saved as .//result/lifelines/Glucose_lifelines_confi.xlsx\u001b[0m\n",
      "\u001b[32m2024-04-05 11:04:33.398\u001b[0m | \u001b[34m\u001b[1mDEBUG   \u001b[0m | \u001b[36m__main__\u001b[0m:\u001b[36mdo_lifelines\u001b[0m:\u001b[36m75\u001b[0m - \u001b[34m\u001b[1mresult saved as .//result/lifelines/Appetite_lifelines_confi.xlsx\u001b[0m\n",
      "\u001b[32m2024-04-05 11:04:33.724\u001b[0m | \u001b[34m\u001b[1mDEBUG   \u001b[0m | \u001b[36m__main__\u001b[0m:\u001b[36mdo_lifelines\u001b[0m:\u001b[36m75\u001b[0m - \u001b[34m\u001b[1mresult saved as .//result/lifelines/Weight_lifelines_confi.xlsx\u001b[0m\n",
      "\u001b[32m2024-04-05 11:04:34.074\u001b[0m | \u001b[34m\u001b[1mDEBUG   \u001b[0m | \u001b[36m__main__\u001b[0m:\u001b[36mdo_lifelines\u001b[0m:\u001b[36m75\u001b[0m - \u001b[34m\u001b[1mresult saved as .//result/lifelines/SBP_lifelines_confi.xlsx\u001b[0m\n",
      "\u001b[32m2024-04-05 11:04:34.396\u001b[0m | \u001b[34m\u001b[1mDEBUG   \u001b[0m | \u001b[36m__main__\u001b[0m:\u001b[36mdo_lifelines\u001b[0m:\u001b[36m75\u001b[0m - \u001b[34m\u001b[1mresult saved as .//result/lifelines/DBP_lifelines_confi.xlsx\u001b[0m\n",
      "\u001b[32m2024-04-05 11:04:34.715\u001b[0m | \u001b[34m\u001b[1mDEBUG   \u001b[0m | \u001b[36m__main__\u001b[0m:\u001b[36mdo_lifelines\u001b[0m:\u001b[36m75\u001b[0m - \u001b[34m\u001b[1mresult saved as .//result/lifelines/age_lifelines_confi.xlsx\u001b[0m\n",
      "\u001b[32m2024-04-05 11:04:35.036\u001b[0m | \u001b[34m\u001b[1mDEBUG   \u001b[0m | \u001b[36m__main__\u001b[0m:\u001b[36mdo_lifelines\u001b[0m:\u001b[36m75\u001b[0m - \u001b[34m\u001b[1mresult saved as .//result/lifelines/height_lifelines_confi.xlsx\u001b[0m\n",
      "\u001b[32m2024-04-05 11:04:35.357\u001b[0m | \u001b[34m\u001b[1mDEBUG   \u001b[0m | \u001b[36m__main__\u001b[0m:\u001b[36mdo_lifelines\u001b[0m:\u001b[36m75\u001b[0m - \u001b[34m\u001b[1mresult saved as .//result/lifelines/bmi_lifelines_confi.xlsx\u001b[0m\n",
      "\u001b[32m2024-04-05 11:04:35.678\u001b[0m | \u001b[34m\u001b[1mDEBUG   \u001b[0m | \u001b[36m__main__\u001b[0m:\u001b[36mdo_lifelines\u001b[0m:\u001b[36m75\u001b[0m - \u001b[34m\u001b[1mresult saved as .//result/lifelines/gfr_lifelines_confi.xlsx\u001b[0m\n",
      "\u001b[32m2024-04-05 11:04:35.948\u001b[0m | \u001b[34m\u001b[1mDEBUG   \u001b[0m | \u001b[36m__main__\u001b[0m:\u001b[36mdo_lifelines\u001b[0m:\u001b[36m75\u001b[0m - \u001b[34m\u001b[1mresult saved as .//result/lifelines/all_lifelines_confi.xlsx\u001b[0m\n"
     ]
    },
    {
     "data": {
      "text/plain": [
       "(nan, [[6.1506849315068495, 5.64931506849315, 6.835616438356165]])"
      ]
     },
     "execution_count": 126,
     "metadata": {},
     "output_type": "execute_result"
    }
   ],
   "source": [
    "# 做每个指标的分组KM分析\n",
    "save = True\n",
    "res = []\n",
    "q = 3\n",
    "p_value,confi50s = do_lifelines(pdid_656,visit_sta_first,days_656,result_path,save,confi=True,col='diab',labels=['no diab','diab'], q=3)\n",
    "res.append(['diab',p_value])\n",
    "p_value,confi50s = do_lifelines(pdid_656,visit_sta_first,days_656,result_path,save,confi=False,col='diab',labels=['no diab','diab'], q=3)\n",
    "\n",
    "p_value,confi50s = do_lifelines(pdid_656,visit_sta_first,days_656,result_path,save,confi=True,col='gender',labels=['female','male'], q=3)\n",
    "res.append(['gender',p_value])\n",
    "p_value,confi50s = do_lifelines(pdid_656,visit_sta_first,days_656,result_path,save,confi=False,col='gender',labels=['female','male'], q=3)\n",
    "cols =  gconst.get_labels_visit() + ['age','height','bmi','gfr']\n",
    "# cols = ['age','height']\n",
    "\n",
    "for col in cols:\n",
    "    p_value,confi50s = do_lifelines(pdid_656,visit_sta_first,days_656,result_path,save,confi=True,col=col,labels=[f'{col}_{i}' for i in range(3)], q=3)\n",
    "    do_lifelines(pdid_656,visit_sta_first,days_656,result_path,save,confi=False,col=col,labels=[f'{col}_{i}' for i in range(3)], q=3)\n",
    "    res.append([f'{col}',p_value])\n",
    "\n",
    "col = 'all'\n",
    "p_value,confi50s = do_lifelines(pdid_656,visit_sta_first,days_656,result_path,save,confi=True,col=col,labels=[f'{col}'],q=q)\n",
    "do_lifelines(pdid_656,visit_sta_first,days_656,result_path,save,confi=False,col=col,labels=[f'{col}'],q=q)\n"
   ]
  },
  {
   "cell_type": "markdown",
   "metadata": {},
   "source": [
    "## output p-value"
   ]
  },
  {
   "cell_type": "code",
   "execution_count": 127,
   "metadata": {},
   "outputs": [
    {
     "name": "stderr",
     "output_type": "stream",
     "text": [
      "\u001b[32m2024-04-05 11:04:36.307\u001b[0m | \u001b[34m\u001b[1mDEBUG   \u001b[0m | \u001b[36m__main__\u001b[0m:\u001b[36m<module>\u001b[0m:\u001b[36m8\u001b[0m - \u001b[34m\u001b[1mresult saved as .//result/km_p_value.xlsx\u001b[0m\n"
     ]
    }
   ],
   "source": [
    "pd.set_option('display.float_format', lambda x: '%.4f' % x)\n",
    "df = pd.DataFrame(res,columns=['label','p_value'])\n",
    "# print(df[df['p_value']<0.01])\n",
    "# print(df)\n",
    "filename = f'{result_path}km_p_value.xlsx'\n",
    "with pd.ExcelWriter(filename) as writer:\n",
    "    df.to_excel(writer,float_format='%.4f')\n",
    "    logger.debug(f'result saved as {filename}')\n"
   ]
  },
  {
   "cell_type": "markdown",
   "metadata": {},
   "source": [
    "# Analysis of good and bad diet groups\n"
   ]
  },
  {
   "cell_type": "code",
   "execution_count": 128,
   "metadata": {},
   "outputs": [],
   "source": [
    "def get_medium_time(pdid,visit_single,days,result_path,save,cols,q):\n",
    "    '''获取中位生存时间'''\n",
    "    result = {}\n",
    "    for col in cols:\n",
    "        coef =  do_lifelines(pdid_656,visit_single,days_656,result_path,save=False,confi=True,col=col,labels=[f'{col}_{i}' for i in range(q)],q = q)\n",
    "        result[col] = coef\n",
    "    return result"
   ]
  },
  {
   "cell_type": "code",
   "execution_count": 129,
   "metadata": {},
   "outputs": [
    {
     "name": "stdout",
     "output_type": "stream",
     "text": [
      "[(19.45205479452055, 53.05986301369863), (53.05986301369863, 67.59041095890412), (67.59041095890412, 102.21369863013699)]\n",
      "{'age': (5.487633988747042e-26, [[10.284931506849315, 9.517808219178082, 10.693150684931506], [6.616438356164384, 5.936986301369863, 7.0849315068493155], [4.2684931506849315, 3.589041095890411, 4.594520547945206]])}\n"
     ]
    },
    {
     "data": {
      "image/png": "[encoded data removed]",
      "text/plain": [
       "<Figure size 640x480 with 1 Axes>"
      ]
     },
     "metadata": {},
     "output_type": "display_data"
    }
   ],
   "source": [
    "# 按年龄的分组\n",
    "ages = np.array(visit_sta_first)[:,labels_visit_sta.index('age')]\n",
    "data_rounds = gconst.get_data_rounds(ages,\"q3\")\n",
    "print(data_rounds)\n",
    "data_rounds_index = gconst.get_data_rounds_indexs(ages,data_rounds)\n",
    "medium_time = get_medium_time(pdid_656,visit_sta_first,days_656,result_path,save,['age'],3)\n",
    "print(medium_time)"
   ]
  },
  {
   "cell_type": "code",
   "execution_count": 130,
   "metadata": {},
   "outputs": [
    {
     "name": "stdout",
     "output_type": "stream",
     "text": [
      "[2, 2, 0, 2, 1, 0, 0, 2, 2, 2, 0, 2, 1, 0, 2, 1, 0, 1, 2, 0, 0, 2, 1, 1, 0, 2, 1, 2, 2, 1, 2, 2, 0, 1, 2, 1, 1, 2, 2, 1, 0, 2, 1, 1, 1, 0, 1, 2, 1, 1, 2, 0, 2, 0, 0, 0, 1, 2, 0, 2, 0, 1, 2, 1, 1, 0, 1, 1, 2, 1, 0, 0, 1, 2, 0, 1, 1, 1, 1, 0, 1, 0, 1, 2, 0, 1, 2, 2, 2, 0, 1, 2, 1, 0, 1, 1, 2, 1, 2, 2, 1, 0, 2, 0, 0, 1, 2, 0, 2, 0, 1, 1, 0, 2, 0, 2, 1, 1, 0, 1, 1, 2, 1, 1, 0, 2, 1, 1, 0, 1, 2, 1, 0, 1, 2, 1, 1, 0, 2, 0, 1, 0, 1, 1, 0, 0, 1, 1, 1, 2, 2, 2, 0, 0, 1, 0, 2, 1, 2, 2, 1, 0, 1, 0, 2, 2, 0, 2, 0, 1, 2, 0, 0, 1, 2, 0, 2, 2, 2, 1, 1, 2, 1, 1, 1, 0, 2, 1, 0, 2, 0, 0, 0, 2, 2, 0, 2, 0, 0, 0, 2, 2, 0, 1, 0, 1, 1, 1, 1, 2, 0, 0, 0, 2, 1, 2, 2, 1, 1, 0, 1, 1, 2, 1, 1, 1, 2, 0, 1, 2, 0, 2, 0, 1, 0, 2, 0, 0, 0, 1, 1, 0, 0, 1, 1, 1, 1, 2, 0, 2, 0, 2, 0, 2, 1, 2, 2, 1, 0, 0, 1, 1, 0, 0, 0, 0, 0, 1, 1, 0, 2, 2, 0, 0, 2, 2, 2, 2, 2, 2, 2, 2, 1, 2, 2, 2, 1, 1, 2, 1, 0, 0, 0, 0, 2, 1, 2, 2, 2, 1, 0, 1, 0, 0, 0, 0, 1, 1, 1, 1, 0, 1, 2, 0, 0, 2, 0, 0, 2, 1, 0, 1, 2, 2, 1, 2, 0, 2, 0, 1, 1, 2, 1, 1, 1, 1, 2, 1, 0, 0, 0, 0, 2, 0, 0, 0, 1, 0, 2, 1, 0, 0, 2, 2, 1, 2, 2, 2, 1, 2, 1, 2, 0, 1, 0, 0, 2, 1, 2, 1, 2, 2, 1, 2, 1, 2, 1, 1, 2, 1, 0, 1, 0, 0, 2, 1, 0, 2, 1, 1, 1, 1, 1, 1, 0, 2, 2, 0, 0, 1, 0, 2, 0, 2, 2, 2, 2, 2, 0, 2, 1, 0, 1, 2, 2, 0, 0, 0, 2, 2, 0, 2, 1, 2, 0, 0, 0, 2, 0, 2, 2, 1, 0, 0, 2, 1, 1, 2, 2, 0, 0, 2, 2, 2, 2, 2, 0, 1, 0, 1, 1, 2, 2, 2, 0, 1, 0, 2, 2, 0, 0, 2, 2, 1, 2, 0, 2, 0, 1, 1, 1, 1, 1, 1, 0, 1, 2, 0, 0, 1, 2, 0, 2, 2, 1, 2, 2, 2, 1, 0, 2, 1, 0, 1, 2, 2, 2, 2, 1, 0, 0, 2, 1, 1, 2, 2, 2, 0, 2, 2, 1, 0, 0, 0, 2, 2, 2, 1, 1, 1, 1, 2, 1, 2, 2, 0, 1, 2, 1, 0, 2, 2, 2, 0, 1, 0, 2, 1, 0, 1, 0, 2, 0, 1, 0, 0, 0, 1, 1, 2, 1, 2, 0, 1, 2, 0, 1, 0, 1, 0, 1, 2, 0, 2, 0, 1, 0, 2, 2, 1, 0, 0, 1, 1, 2, 1, 1, 0, 1, 2, 2, 2, 1, 2, 2, 0, 1, 0, 0, 2, 2, 0, 0, 2, 2, 1, 1, 0, 0, 2, 2, 0, 0, 1, 0, 1, 2, 1, 1, 0, 0, 0, 0, 0, 0, 0, 1, 1, 0, 1, 2, 0, 0, 1, 0, 2, 2, 1, 1, 0, 2, 1, 0, 0, 0, 2, 1, 1, 0, 0, 2, 2, 2, 1, 0, 0, 0, 0, 2, 0, 1, 2, 2, 0, 0, 1]\n"
     ]
    }
   ],
   "source": [
    "print(data_rounds_index)"
   ]
  },
  {
   "cell_type": "code",
   "execution_count": null,
   "metadata": {},
   "outputs": [],
   "source": []
  },
  {
   "cell_type": "code",
   "execution_count": 131,
   "metadata": {},
   "outputs": [
    {
     "name": "stdout",
     "output_type": "stream",
     "text": [
      "[[10.284931506849315, 9.517808219178082, 10.693150684931506], [6.616438356164384, 5.936986301369863, 7.0849315068493155], [4.2684931506849315, 3.589041095890411, 4.594520547945206]]\n",
      "40 177\n",
      "72 144\n",
      "97 126\n",
      "209 447\n"
     ]
    }
   ],
   "source": [
    "# 数据分组 0是坏饮食组\n",
    "feature_label = 'age'\n",
    "groups = []\n",
    "death_ages = np.array(days_656)[:,gconst.get_labels_days().index('death_age')]\n",
    "visit_time = [float(death_ages[i])-float(ages[i]) for i in range(len(pdid_656))]\n",
    "death = np.array(days_656)[:,gconst.get_labels_days().index('death')]\n",
    "cur_medium_time = medium_time[feature_label][1]\n",
    "print(cur_medium_time)\n",
    "for i in range(len(data_rounds)):\n",
    "    groups.append([[],[]])\n",
    "for index,id in enumerate(pdid_656):\n",
    "    q = data_rounds_index[index]\n",
    "    \n",
    "    if visit_time[index] < cur_medium_time[q][0] and death[index] == '1':\n",
    "        if death[index] == '1':\n",
    "            groups[q][0].append(id) # 0是坏饮食组\n",
    "        # groups[q][0].append(id)\n",
    "        \n",
    "    else:\n",
    "        groups[q][1].append(id)\n",
    "sum0,sum1 = 0,0\n",
    "for group in groups:\n",
    "    sum0+=len(group[0])\n",
    "    sum1+=len(group[1])\n",
    "    print(len(group[0]),len(group[1]))\n",
    "print(sum0,sum1)"
   ]
  },
  {
   "cell_type": "code",
   "execution_count": 132,
   "metadata": {},
   "outputs": [
    {
     "name": "stdout",
     "output_type": "stream",
     "text": [
      "209 447\n"
     ]
    }
   ],
   "source": [
    "all_0, all_1 = [],[]\n",
    "for group in groups:\n",
    "    all_0 += group[0]\n",
    "    all_1 += group[1]\n",
    "print(len(all_0),len(all_1))\n",
    "groups.append([all_0,all_1])\n"
   ]
  },
  {
   "cell_type": "code",
   "execution_count": null,
   "metadata": {},
   "outputs": [],
   "source": []
  },
  {
   "cell_type": "markdown",
   "metadata": {},
   "source": [
    "## Examine whether there is a difference between the good diet group and the bad diet group"
   ]
  },
  {
   "cell_type": "code",
   "execution_count": 133,
   "metadata": {},
   "outputs": [
    {
     "name": "stdout",
     "output_type": "stream",
     "text": [
      "(656, 26)\n",
      "['water', 'protein', 'fat', 'carbohydrate', 'Calories', 'df', 'k', 'na', 'mg', 'ca', 'p', 'fe', 'zn', 'cu', 'mn', 'se', 'retinol', 'vitaminA', 'carotene', 'vitaminE', 'thiamine', 'riboflavin', 'nicotinic', 'ascorbic', 'dpi', 'dei']\n"
     ]
    }
   ],
   "source": [
    "# 数据提取，好坏饮食组\n",
    "print(np.array(diet_sta_mean)[:,1:].shape)\n",
    "print(gconst.get_labels_statistics_diet()[1:])"
   ]
  },
  {
   "cell_type": "code",
   "execution_count": 134,
   "metadata": {},
   "outputs": [
    {
     "name": "stderr",
     "output_type": "stream",
     "text": [
      "\u001b[32m2024-04-05 11:04:37.305\u001b[0m | \u001b[34m\u001b[1mDEBUG   \u001b[0m | \u001b[36m__main__\u001b[0m:\u001b[36mget_diff_group_diet\u001b[0m:\u001b[36m27\u001b[0m - \u001b[34m\u001b[1mresult saved at .//result/ttest.xlsx\u001b[0m\n"
     ]
    }
   ],
   "source": [
    "# 计算区别\n",
    "def get_diff_group_diet(diet_means,groups,result_path,pdid):\n",
    "    '''按某指标分组，好坏饮食的区别检验'''\n",
    "    diet_labels = gconst.get_labels_statistics_diet()[1:] #第一列为日期，不参与计算\n",
    "    diet_means = np.array(diet_means)[:,1:] #第一列为日期，不参与计算\n",
    "    df_labels = ['group','nutrition','shapiro0','shapiro1','levene','t_test','kruskal','mean0','mean1','std0','std1']\n",
    "    results = []\n",
    "    for group_index in range(len(groups)):\n",
    "        diet_data_group0 = np.array([diet_means[i] for i in range(len(pdid)) if pdid[i] in groups[group_index][0]],dtype=float)\n",
    "        diet_data_group1 = np.array([diet_means[i] for i in range(len(pdid)) if pdid[i] in groups[group_index][1]],dtype=float)\n",
    "        for index,label in enumerate(diet_labels):\n",
    "            data0 = diet_data_group0[:,index]\n",
    "            data1 = diet_data_group1[:,index]\n",
    "            n_test0 = stats.shapiro(data0)#正态性检验\n",
    "            n_test1 = stats.shapiro(data1)#正态性检验\n",
    "            levene = stats.levene(data0,data1)#方差齐性检验\n",
    "            t_test = stats.ttest_ind(data0,data1,equal_var=False) # t检验\n",
    "            kruskal = stats.kruskal(data0,data1) # kruskal检验\n",
    "            mean0,mean1 = np.mean(data0),np.mean(data1)\n",
    "            std0,std1 = np.std(data0),np.std(data1)\n",
    "            result = [f'{feature_label}_{group_index}',f'{label}',n_test0[1],n_test1[1],levene[1],t_test[1],kruskal[1],mean0,mean1,std0,std1]\n",
    "            results.append(result)\n",
    "    df = pd.DataFrame(results,columns=df_labels)\n",
    "    filename = f'{result_path}ttest.xlsx'\n",
    "    with pd.ExcelWriter(filename) as writer:\n",
    "        df.to_excel(writer,float_format='%.4f')\n",
    "        logger.debug(f'result saved at {filename}')\n",
    "get_diff_group_diet(diet_sta_mean,groups,result_path,pdid_656)"
   ]
  },
  {
   "attachments": {},
   "cell_type": "markdown",
   "metadata": {},
   "source": [
    "## Does the diet vary by indicator\n"
   ]
  },
  {
   "cell_type": "code",
   "execution_count": 135,
   "metadata": {},
   "outputs": [
    {
     "name": "stdout",
     "output_type": "stream",
     "text": [
      "Cl\n"
     ]
    },
    {
     "name": "stdout",
     "output_type": "stream",
     "text": [
      "CO2CP\n",
      "WBC\n",
      "Hb\n",
      "Urea\n",
      "Ca\n",
      "K\n",
      "Na\n",
      "Scr\n",
      "P\n",
      "Albumin\n",
      "hs-CRP\n",
      "Glucose\n",
      "Appetite\n",
      "Weight\n",
      "SBP\n",
      "DBP\n",
      "age\n",
      "gender\n",
      "diab\n",
      "height\n",
      "bmi\n",
      "gfr\n"
     ]
    },
    {
     "name": "stderr",
     "output_type": "stream",
     "text": [
      "\u001b[32m2024-04-05 11:04:42.089\u001b[0m | \u001b[34m\u001b[1mDEBUG   \u001b[0m | \u001b[36m__main__\u001b[0m:\u001b[36m<module>\u001b[0m:\u001b[36m52\u001b[0m - \u001b[34m\u001b[1mresult saved as .//result/anova_visit_diet.xlsx\u001b[0m\n"
     ]
    }
   ],
   "source": [
    "# 按年龄段分组\n",
    "from scipy import stats\n",
    "from statsmodels.formula.api import ols\n",
    "from statsmodels.stats.anova import anova_lm\n",
    "from statsmodels.stats.multicomp import MultiComparison\n",
    "diet_sta_mean_np = np.array(diet_sta_mean)\n",
    "q = 3\n",
    "# cols = gconst.get_labels_visit() + ['age','height','bmi','gfr']\n",
    "cols = gconst.get_labels_statistics_visit()\n",
    "res = {'label':labels_diet_sta[1:]}\n",
    "for col in cols:\n",
    "    res[col] = []\n",
    "\n",
    "for col in cols: # 对于visit的每个指标，探究这个指标不同的患者，倾向于如何饮食\n",
    "    print(col)\n",
    "    # data离散化，如果是diab或者gender则不用离散化\n",
    "    if col == 'diab' or col =='gender':\n",
    "        data_rounds_index = np.array(visit_sta_first)[:,labels_visit_sta.index(col)]\n",
    "    else:\n",
    "        datas = np.array(visit_sta_first)[:,labels_visit_sta.index(col)]\n",
    "        data_rounds = gconst.get_data_rounds(datas,f\"q{q}\") # data分组的上下界\n",
    "        data_rounds_index = gconst.get_data_rounds_indexs(datas,data_rounds) # data分组的具体分组\n",
    "    \n",
    "    data_rounds_index = [i + 1 for i in data_rounds_index] # 最小的分组不能为0\n",
    "    for index,diet_label in enumerate(labels_diet_sta): # 对于每个饮食营养指标，检验不同的分组是否有区别\n",
    "        if(index == 0): # 第一列是date要跳过\n",
    "            continue\n",
    "        cur_data = diet_sta_mean_np[:,index] # 获取饮食均值\n",
    "        # print(cur_data)\n",
    "        cur_data = [float(i) for i in cur_data]\n",
    "        data_concated = np.concatenate((np.array(cur_data).reshape(-1,1),np.array(data_rounds_index).reshape(-1,1)),axis=1) # 饮食均值和患者分组匹配\n",
    "        df = pd.DataFrame(data_concated,columns=[\"data\",\"group\"])  \n",
    "        \n",
    "        #example8_2=pd.read_csv(\"example8_2.csv\",encoding=\"gbk\") \n",
    "        model = ols(formula='data~group',data=df).fit()  #拟合方差分析模型\n",
    "        table = anova_lm(model,typ=1)\n",
    "        # print(table)\n",
    "        # print(table['PR(>F)']['group'])\n",
    "\n",
    "        # 分别检验\n",
    "        # mc = MultiComparison(df['data'],groups=df['group'])\n",
    "        # print(mc.tukeyhsd(alpha=0.05))  \n",
    "        \n",
    "        res[col].append(table['PR(>F)']['group']) # 均值记录\n",
    "\n",
    "# print(pd.DataFrame(res))\n",
    "# 保存res\n",
    "df_anova_visit_diet = pd.DataFrame(res)\n",
    "filename = f'{result_path}anova_visit_diet.xlsx'\n",
    "with pd.ExcelWriter(filename) as writer:\n",
    "    df_anova_visit_diet.to_excel(writer,float_format='%.4f')\n",
    "    logger.debug(f'result saved as {filename}')"
   ]
  },
  {
   "attachments": {},
   "cell_type": "markdown",
   "metadata": {},
   "source": [
    "# cox test"
   ]
  },
  {
   "cell_type": "code",
   "execution_count": 136,
   "metadata": {},
   "outputs": [],
   "source": [
    "# def do_cox(pdid,data,days,labels=gconst.get_labels_statistics_visit()):\n",
    "#     data_append, labels_append = append_livedatas(pdid, data,days,labels)\n",
    "#     df = pd.DataFrame(data_append,columns=labels_append)\n",
    "#     cph = CoxPHFitter()\n",
    "#     cph.fit(df,duration_col='live_time',event_col='death')\n",
    "#     cph.print_summary()\n",
    "\n",
    "# do_cox(pdid_656,visit_sta_first,days_656)\n"
   ]
  },
  {
   "cell_type": "code",
   "execution_count": 137,
   "metadata": {},
   "outputs": [
    {
     "name": "stderr",
     "output_type": "stream",
     "text": [
      "/tmp/ipykernel_4160600/3512376114.py:14: FutureWarning: Calling float on a single element Series is deprecated and will raise a TypeError in the future. Use float(ser.iloc[0]) instead\n",
      "  p = float(df_summary['p'])\n",
      "/tmp/ipykernel_4160600/3512376114.py:14: FutureWarning: Calling float on a single element Series is deprecated and will raise a TypeError in the future. Use float(ser.iloc[0]) instead\n",
      "  p = float(df_summary['p'])\n",
      "/tmp/ipykernel_4160600/3512376114.py:14: FutureWarning: Calling float on a single element Series is deprecated and will raise a TypeError in the future. Use float(ser.iloc[0]) instead\n",
      "  p = float(df_summary['p'])\n",
      "/tmp/ipykernel_4160600/3512376114.py:14: FutureWarning: Calling float on a single element Series is deprecated and will raise a TypeError in the future. Use float(ser.iloc[0]) instead\n",
      "  p = float(df_summary['p'])\n"
     ]
    },
    {
     "name": "stderr",
     "output_type": "stream",
     "text": [
      "/tmp/ipykernel_4160600/3512376114.py:14: FutureWarning: Calling float on a single element Series is deprecated and will raise a TypeError in the future. Use float(ser.iloc[0]) instead\n",
      "  p = float(df_summary['p'])\n",
      "/tmp/ipykernel_4160600/3512376114.py:14: FutureWarning: Calling float on a single element Series is deprecated and will raise a TypeError in the future. Use float(ser.iloc[0]) instead\n",
      "  p = float(df_summary['p'])\n",
      "/tmp/ipykernel_4160600/3512376114.py:14: FutureWarning: Calling float on a single element Series is deprecated and will raise a TypeError in the future. Use float(ser.iloc[0]) instead\n",
      "  p = float(df_summary['p'])\n",
      "/tmp/ipykernel_4160600/3512376114.py:14: FutureWarning: Calling float on a single element Series is deprecated and will raise a TypeError in the future. Use float(ser.iloc[0]) instead\n",
      "  p = float(df_summary['p'])\n",
      "/tmp/ipykernel_4160600/3512376114.py:14: FutureWarning: Calling float on a single element Series is deprecated and will raise a TypeError in the future. Use float(ser.iloc[0]) instead\n",
      "  p = float(df_summary['p'])\n",
      "/tmp/ipykernel_4160600/3512376114.py:14: FutureWarning: Calling float on a single element Series is deprecated and will raise a TypeError in the future. Use float(ser.iloc[0]) instead\n",
      "  p = float(df_summary['p'])\n",
      "/tmp/ipykernel_4160600/3512376114.py:14: FutureWarning: Calling float on a single element Series is deprecated and will raise a TypeError in the future. Use float(ser.iloc[0]) instead\n",
      "  p = float(df_summary['p'])\n",
      "/tmp/ipykernel_4160600/3512376114.py:14: FutureWarning: Calling float on a single element Series is deprecated and will raise a TypeError in the future. Use float(ser.iloc[0]) instead\n",
      "  p = float(df_summary['p'])\n",
      "/tmp/ipykernel_4160600/3512376114.py:14: FutureWarning: Calling float on a single element Series is deprecated and will raise a TypeError in the future. Use float(ser.iloc[0]) instead\n",
      "  p = float(df_summary['p'])\n",
      "/tmp/ipykernel_4160600/3512376114.py:14: FutureWarning: Calling float on a single element Series is deprecated and will raise a TypeError in the future. Use float(ser.iloc[0]) instead\n",
      "  p = float(df_summary['p'])\n",
      "/tmp/ipykernel_4160600/3512376114.py:14: FutureWarning: Calling float on a single element Series is deprecated and will raise a TypeError in the future. Use float(ser.iloc[0]) instead\n",
      "  p = float(df_summary['p'])\n",
      "/tmp/ipykernel_4160600/3512376114.py:14: FutureWarning: Calling float on a single element Series is deprecated and will raise a TypeError in the future. Use float(ser.iloc[0]) instead\n",
      "  p = float(df_summary['p'])\n",
      "/tmp/ipykernel_4160600/3512376114.py:14: FutureWarning: Calling float on a single element Series is deprecated and will raise a TypeError in the future. Use float(ser.iloc[0]) instead\n",
      "  p = float(df_summary['p'])\n",
      "/tmp/ipykernel_4160600/3512376114.py:14: FutureWarning: Calling float on a single element Series is deprecated and will raise a TypeError in the future. Use float(ser.iloc[0]) instead\n",
      "  p = float(df_summary['p'])\n",
      "/tmp/ipykernel_4160600/3512376114.py:14: FutureWarning: Calling float on a single element Series is deprecated and will raise a TypeError in the future. Use float(ser.iloc[0]) instead\n",
      "  p = float(df_summary['p'])\n",
      "/tmp/ipykernel_4160600/3512376114.py:14: FutureWarning: Calling float on a single element Series is deprecated and will raise a TypeError in the future. Use float(ser.iloc[0]) instead\n",
      "  p = float(df_summary['p'])\n"
     ]
    },
    {
     "name": "stdout",
     "output_type": "stream",
     "text": [
      "result saved as .//result/sta_cox_single.xlsx\n",
      "['Cl', 'WBC', 'Urea', 'K', 'Na', 'Scr', 'P', 'Albumin', 'hs-CRP', 'Glucose', 'Appetite', 'Weight', 'SBP', 'DBP', 'age', 'diab', 'bmi']\n"
     ]
    },
    {
     "name": "stderr",
     "output_type": "stream",
     "text": [
      "/tmp/ipykernel_4160600/3512376114.py:14: FutureWarning: Calling float on a single element Series is deprecated and will raise a TypeError in the future. Use float(ser.iloc[0]) instead\n",
      "  p = float(df_summary['p'])\n",
      "/tmp/ipykernel_4160600/3512376114.py:14: FutureWarning: Calling float on a single element Series is deprecated and will raise a TypeError in the future. Use float(ser.iloc[0]) instead\n",
      "  p = float(df_summary['p'])\n",
      "/home/v-wuyueying/miniconda3/envs/esrd/lib/python3.10/site-packages/lifelines/fitters/coxph_fitter.py:1614: ConvergenceWarning: Newton-Raphson failed to converge sufficiently. Please see the following tips in the lifelines documentation: https://lifelines.readthedocs.io/en/latest/Examples.html#problems-with-convergence-in-the-cox-proportional-hazard-model\n",
      "  warnings.warn(\n",
      "/tmp/ipykernel_4160600/3512376114.py:14: FutureWarning: Calling float on a single element Series is deprecated and will raise a TypeError in the future. Use float(ser.iloc[0]) instead\n",
      "  p = float(df_summary['p'])\n"
     ]
    }
   ],
   "source": [
    "# 单变量分析\n",
    "def do_cox_single(pdid,data,days,result_path,save=True): \n",
    "    '''单变量分析，返回分析结果和p值<0.05的列list'''\n",
    "    results = []\n",
    "    col_p_lt = []\n",
    "    data_append, labels_append = append_livedatas(pdid,data,days)\n",
    "    df = pd.DataFrame(data_append,columns=labels_append)\n",
    "    for index,cur_label in enumerate(labels_visit_sta):\n",
    "        df1 = df[[cur_label,'live_time','death']]\n",
    "        cph = CoxPHFitter()\n",
    "        cph.fit(df1,'live_time','death')\n",
    "        df_summary = cph.summary\n",
    "        results.append(df_summary)\n",
    "        p = float(df_summary['p'])\n",
    "        if p < 0.05:\n",
    "            col_p_lt.append(cur_label)\n",
    "\n",
    "    res = pd.concat(results)\n",
    "    if save :\n",
    "        filename = f'{result_path}sta_cox_single.xlsx'\n",
    "        with pd.ExcelWriter(filename) as writer:\n",
    "            res.to_excel(writer,float_format='%.4f')\n",
    "            print(f'result saved as {filename}')\n",
    "    return res,col_p_lt\n",
    "res,col_p_lt = do_cox_single(pdid_656,visit_sta_first,days_656,result_path,save=True)\n",
    "print(col_p_lt)"
   ]
  },
  {
   "cell_type": "code",
   "execution_count": 138,
   "metadata": {},
   "outputs": [
    {
     "name": "stderr",
     "output_type": "stream",
     "text": [
      "/tmp/ipykernel_4160600/3512376114.py:14: FutureWarning: Calling float on a single element Series is deprecated and will raise a TypeError in the future. Use float(ser.iloc[0]) instead\n",
      "  p = float(df_summary['p'])\n",
      "/tmp/ipykernel_4160600/3512376114.py:14: FutureWarning: Calling float on a single element Series is deprecated and will raise a TypeError in the future. Use float(ser.iloc[0]) instead\n",
      "  p = float(df_summary['p'])\n",
      "/tmp/ipykernel_4160600/3512376114.py:14: FutureWarning: Calling float on a single element Series is deprecated and will raise a TypeError in the future. Use float(ser.iloc[0]) instead\n",
      "  p = float(df_summary['p'])\n",
      "/tmp/ipykernel_4160600/3512376114.py:14: FutureWarning: Calling float on a single element Series is deprecated and will raise a TypeError in the future. Use float(ser.iloc[0]) instead\n",
      "  p = float(df_summary['p'])\n",
      "/tmp/ipykernel_4160600/3512376114.py:14: FutureWarning: Calling float on a single element Series is deprecated and will raise a TypeError in the future. Use float(ser.iloc[0]) instead\n",
      "  p = float(df_summary['p'])\n",
      "/tmp/ipykernel_4160600/3512376114.py:14: FutureWarning: Calling float on a single element Series is deprecated and will raise a TypeError in the future. Use float(ser.iloc[0]) instead\n",
      "  p = float(df_summary['p'])\n",
      "/tmp/ipykernel_4160600/3512376114.py:14: FutureWarning: Calling float on a single element Series is deprecated and will raise a TypeError in the future. Use float(ser.iloc[0]) instead\n",
      "  p = float(df_summary['p'])\n",
      "/tmp/ipykernel_4160600/3512376114.py:14: FutureWarning: Calling float on a single element Series is deprecated and will raise a TypeError in the future. Use float(ser.iloc[0]) instead\n",
      "  p = float(df_summary['p'])\n",
      "/tmp/ipykernel_4160600/3512376114.py:14: FutureWarning: Calling float on a single element Series is deprecated and will raise a TypeError in the future. Use float(ser.iloc[0]) instead\n",
      "  p = float(df_summary['p'])\n",
      "/tmp/ipykernel_4160600/3512376114.py:14: FutureWarning: Calling float on a single element Series is deprecated and will raise a TypeError in the future. Use float(ser.iloc[0]) instead\n",
      "  p = float(df_summary['p'])\n",
      "/tmp/ipykernel_4160600/3512376114.py:14: FutureWarning: Calling float on a single element Series is deprecated and will raise a TypeError in the future. Use float(ser.iloc[0]) instead\n",
      "  p = float(df_summary['p'])\n",
      "/tmp/ipykernel_4160600/3512376114.py:14: FutureWarning: Calling float on a single element Series is deprecated and will raise a TypeError in the future. Use float(ser.iloc[0]) instead\n",
      "  p = float(df_summary['p'])\n",
      "/tmp/ipykernel_4160600/3512376114.py:14: FutureWarning: Calling float on a single element Series is deprecated and will raise a TypeError in the future. Use float(ser.iloc[0]) instead\n",
      "  p = float(df_summary['p'])\n",
      "/tmp/ipykernel_4160600/3512376114.py:14: FutureWarning: Calling float on a single element Series is deprecated and will raise a TypeError in the future. Use float(ser.iloc[0]) instead\n",
      "  p = float(df_summary['p'])\n",
      "/tmp/ipykernel_4160600/3512376114.py:14: FutureWarning: Calling float on a single element Series is deprecated and will raise a TypeError in the future. Use float(ser.iloc[0]) instead\n",
      "  p = float(df_summary['p'])\n",
      "/tmp/ipykernel_4160600/3512376114.py:14: FutureWarning: Calling float on a single element Series is deprecated and will raise a TypeError in the future. Use float(ser.iloc[0]) instead\n",
      "  p = float(df_summary['p'])\n",
      "/tmp/ipykernel_4160600/3512376114.py:14: FutureWarning: Calling float on a single element Series is deprecated and will raise a TypeError in the future. Use float(ser.iloc[0]) instead\n",
      "  p = float(df_summary['p'])\n",
      "/tmp/ipykernel_4160600/3512376114.py:14: FutureWarning: Calling float on a single element Series is deprecated and will raise a TypeError in the future. Use float(ser.iloc[0]) instead\n",
      "  p = float(df_summary['p'])\n",
      "/tmp/ipykernel_4160600/3512376114.py:14: FutureWarning: Calling float on a single element Series is deprecated and will raise a TypeError in the future. Use float(ser.iloc[0]) instead\n",
      "  p = float(df_summary['p'])\n",
      "/tmp/ipykernel_4160600/3512376114.py:14: FutureWarning: Calling float on a single element Series is deprecated and will raise a TypeError in the future. Use float(ser.iloc[0]) instead\n",
      "  p = float(df_summary['p'])\n",
      "/tmp/ipykernel_4160600/3512376114.py:14: FutureWarning: Calling float on a single element Series is deprecated and will raise a TypeError in the future. Use float(ser.iloc[0]) instead\n",
      "  p = float(df_summary['p'])\n",
      "/tmp/ipykernel_4160600/3512376114.py:14: FutureWarning: Calling float on a single element Series is deprecated and will raise a TypeError in the future. Use float(ser.iloc[0]) instead\n",
      "  p = float(df_summary['p'])\n",
      "/home/v-wuyueying/miniconda3/envs/esrd/lib/python3.10/site-packages/lifelines/fitters/coxph_fitter.py:1614: ConvergenceWarning: Newton-Raphson failed to converge sufficiently. Please see the following tips in the lifelines documentation: https://lifelines.readthedocs.io/en/latest/Examples.html#problems-with-convergence-in-the-cox-proportional-hazard-model\n",
      "  warnings.warn(\n",
      "/tmp/ipykernel_4160600/3512376114.py:14: FutureWarning: Calling float on a single element Series is deprecated and will raise a TypeError in the future. Use float(ser.iloc[0]) instead\n",
      "  p = float(df_summary['p'])\n"
     ]
    },
    {
     "name": "stdout",
     "output_type": "stream",
     "text": [
      "['Cl', 'WBC', 'Urea', 'K', 'Na', 'Scr', 'P', 'Albumin', 'hs-CRP', 'Glucose', 'Appetite', 'Weight', 'SBP', 'DBP', 'age', 'diab', 'bmi']\n",
      "result saved as .//result/sta_cox_multi.xlsx\n"
     ]
    },
    {
     "data": {
      "text/plain": [
       "(             coef  exp(coef)  se(coef)  coef lower 95%  coef upper 95%  \\\n",
       " covariate                                                                \n",
       " Cl        -0.0140     0.9861    0.0124         -0.0383          0.0102   \n",
       " WBC        0.0347     1.0353    0.0297         -0.0236          0.0930   \n",
       " Urea      -0.0107     0.9894    0.0138         -0.0377          0.0163   \n",
       " K          0.0599     1.0617    0.0874         -0.1113          0.2312   \n",
       " Na        -0.0200     0.9802    0.0155         -0.0504          0.0104   \n",
       " Scr       -0.0005     0.9995    0.0003         -0.0011          0.0002   \n",
       " P          0.1097     1.1160    0.1663         -0.2163          0.4357   \n",
       " Albumin   -0.0724     0.9302    0.0150         -0.1018         -0.0429   \n",
       " hs-CRP     0.0010     1.0010    0.0054         -0.0096          0.0115   \n",
       " Glucose    0.0338     1.0344    0.0240         -0.0133          0.0809   \n",
       " Weight     0.0096     1.0096    0.0100         -0.0101          0.0292   \n",
       " SBP       -0.0075     0.9925    0.0040         -0.0152          0.0003   \n",
       " DBP       -0.0023     0.9977    0.0073         -0.0166          0.0121   \n",
       " age        0.0487     1.0499    0.0064          0.0362          0.0612   \n",
       " diab       0.1409     1.1513    0.1553         -0.1635          0.4453   \n",
       " bmi       -0.0339     0.9667    0.0284         -0.0895          0.0217   \n",
       " \n",
       "            exp(coef) lower 95%  exp(coef) upper 95%  cmp to       z      p  \\\n",
       " covariate                                                                    \n",
       " Cl                      0.9625               1.0103  0.0000 -1.1352 0.2563   \n",
       " WBC                     0.9767               1.0974  0.0000  1.1662 0.2435   \n",
       " Urea                    0.9630               1.0165  0.0000 -0.7754 0.4381   \n",
       " K                       0.8946               1.2601  0.0000  0.6857 0.4929   \n",
       " Na                      0.9508               1.0105  0.0000 -1.2879 0.1978   \n",
       " Scr                     0.9989               1.0002  0.0000 -1.4341 0.1515   \n",
       " P                       0.8055               1.5461  0.0000  0.6596 0.5095   \n",
       " Albumin                 0.9032               0.9580  0.0000 -4.8165 0.0000   \n",
       " hs-CRP                  0.9905               1.0116  0.0000  0.1794 0.8576   \n",
       " Glucose                 0.9868               1.0842  0.0000  1.4079 0.1592   \n",
       " Weight                  0.9900               1.0296  0.0000  0.9533 0.3404   \n",
       " SBP                     0.9849               1.0003  0.0000 -1.8960 0.0580   \n",
       " DBP                     0.9835               1.0121  0.0000 -0.3127 0.7545   \n",
       " age                     1.0369               1.0631  0.0000  7.6510 0.0000   \n",
       " diab                    0.8492               1.5609  0.0000  0.9074 0.3642   \n",
       " bmi                     0.9144               1.0219  0.0000 -1.1953 0.2320   \n",
       " \n",
       "            -log2(p)  \n",
       " covariate            \n",
       " Cl           1.9641  \n",
       " WBC          2.0379  \n",
       " Urea         1.1906  \n",
       " K            1.0206  \n",
       " Na           2.3380  \n",
       " Scr          2.7222  \n",
       " P            0.9729  \n",
       " Albumin     19.3850  \n",
       " hs-CRP       0.2216  \n",
       " Glucose      2.6514  \n",
       " Weight       1.5546  \n",
       " SBP          4.1089  \n",
       " DBP          0.4063  \n",
       " age         45.5117  \n",
       " diab         1.4571  \n",
       " bmi          2.1080  ,\n",
       " ['Albumin', 'SBP', 'age'])"
      ]
     },
     "execution_count": 138,
     "metadata": {},
     "output_type": "execute_result"
    }
   ],
   "source": [
    "# 多变量分析\n",
    "def do_cox_multi(pdid, data, days, labels,result_path,filename='sta_cox_multi.xlsx',save=True):\n",
    "    '''多变量分析cox'''\n",
    "    data_append, labels_append = append_livedatas(pdid,data,days,labels)\n",
    "    df = pd.DataFrame(data_append,columns=labels_append)\n",
    "    _,col_p_lt = do_cox_single(pdid,data,days,result_path,save=False)\n",
    "    # print(col_p_lt)\n",
    "    # col_p_lt.remove('bmi')\n",
    "    print(col_p_lt)\n",
    "    if 'Appetite' in col_p_lt:\n",
    "        col_p_lt.remove('Appetite')\n",
    "    df1 = df[(col_p_lt + ['live_time','death'])]\n",
    "    cph = CoxPHFitter()\n",
    "    cph.fit(df1,duration_col='live_time',event_col='death')\n",
    "    df_summary = cph.summary\n",
    "    col_p_lt = []\n",
    "    for index,row in df_summary.iterrows():\n",
    "        if row['p'] < 0.1:\n",
    "            col_p_lt.append(index)\n",
    "    res = df_summary\n",
    "    if save:\n",
    "        filename = f'{result_path}{filename}'\n",
    "        with pd.ExcelWriter(filename) as writer:\n",
    "            res.to_excel(writer,float_format='%.4f')\n",
    "            print(f'result saved as {filename}')\n",
    "    return res,col_p_lt\n",
    "do_cox_multi(pdid_656,visit_sta_first,days_656,labels_visit_sta,result_path,save=True)\n"
   ]
  },
  {
   "cell_type": "code",
   "execution_count": 139,
   "metadata": {},
   "outputs": [],
   "source": [
    "## 某一饮食营养对全因死亡率的影响"
   ]
  },
  {
   "cell_type": "code",
   "execution_count": 140,
   "metadata": {},
   "outputs": [
    {
     "name": "stderr",
     "output_type": "stream",
     "text": [
      "/tmp/ipykernel_4160600/3512376114.py:14: FutureWarning: Calling float on a single element Series is deprecated and will raise a TypeError in the future. Use float(ser.iloc[0]) instead\n",
      "  p = float(df_summary['p'])\n",
      "/tmp/ipykernel_4160600/3512376114.py:14: FutureWarning: Calling float on a single element Series is deprecated and will raise a TypeError in the future. Use float(ser.iloc[0]) instead\n",
      "  p = float(df_summary['p'])\n",
      "/tmp/ipykernel_4160600/3512376114.py:14: FutureWarning: Calling float on a single element Series is deprecated and will raise a TypeError in the future. Use float(ser.iloc[0]) instead\n",
      "  p = float(df_summary['p'])\n",
      "/tmp/ipykernel_4160600/3512376114.py:14: FutureWarning: Calling float on a single element Series is deprecated and will raise a TypeError in the future. Use float(ser.iloc[0]) instead\n",
      "  p = float(df_summary['p'])\n"
     ]
    },
    {
     "name": "stderr",
     "output_type": "stream",
     "text": [
      "/tmp/ipykernel_4160600/3512376114.py:14: FutureWarning: Calling float on a single element Series is deprecated and will raise a TypeError in the future. Use float(ser.iloc[0]) instead\n",
      "  p = float(df_summary['p'])\n",
      "/tmp/ipykernel_4160600/3512376114.py:14: FutureWarning: Calling float on a single element Series is deprecated and will raise a TypeError in the future. Use float(ser.iloc[0]) instead\n",
      "  p = float(df_summary['p'])\n",
      "/tmp/ipykernel_4160600/3512376114.py:14: FutureWarning: Calling float on a single element Series is deprecated and will raise a TypeError in the future. Use float(ser.iloc[0]) instead\n",
      "  p = float(df_summary['p'])\n",
      "/tmp/ipykernel_4160600/3512376114.py:14: FutureWarning: Calling float on a single element Series is deprecated and will raise a TypeError in the future. Use float(ser.iloc[0]) instead\n",
      "  p = float(df_summary['p'])\n",
      "/tmp/ipykernel_4160600/3512376114.py:14: FutureWarning: Calling float on a single element Series is deprecated and will raise a TypeError in the future. Use float(ser.iloc[0]) instead\n",
      "  p = float(df_summary['p'])\n",
      "/tmp/ipykernel_4160600/3512376114.py:14: FutureWarning: Calling float on a single element Series is deprecated and will raise a TypeError in the future. Use float(ser.iloc[0]) instead\n",
      "  p = float(df_summary['p'])\n",
      "/tmp/ipykernel_4160600/3512376114.py:14: FutureWarning: Calling float on a single element Series is deprecated and will raise a TypeError in the future. Use float(ser.iloc[0]) instead\n",
      "  p = float(df_summary['p'])\n",
      "/tmp/ipykernel_4160600/3512376114.py:14: FutureWarning: Calling float on a single element Series is deprecated and will raise a TypeError in the future. Use float(ser.iloc[0]) instead\n",
      "  p = float(df_summary['p'])\n",
      "/tmp/ipykernel_4160600/3512376114.py:14: FutureWarning: Calling float on a single element Series is deprecated and will raise a TypeError in the future. Use float(ser.iloc[0]) instead\n",
      "  p = float(df_summary['p'])\n",
      "/tmp/ipykernel_4160600/3512376114.py:14: FutureWarning: Calling float on a single element Series is deprecated and will raise a TypeError in the future. Use float(ser.iloc[0]) instead\n",
      "  p = float(df_summary['p'])\n",
      "/tmp/ipykernel_4160600/3512376114.py:14: FutureWarning: Calling float on a single element Series is deprecated and will raise a TypeError in the future. Use float(ser.iloc[0]) instead\n",
      "  p = float(df_summary['p'])\n",
      "/tmp/ipykernel_4160600/3512376114.py:14: FutureWarning: Calling float on a single element Series is deprecated and will raise a TypeError in the future. Use float(ser.iloc[0]) instead\n",
      "  p = float(df_summary['p'])\n",
      "/tmp/ipykernel_4160600/3512376114.py:14: FutureWarning: Calling float on a single element Series is deprecated and will raise a TypeError in the future. Use float(ser.iloc[0]) instead\n",
      "  p = float(df_summary['p'])\n",
      "/tmp/ipykernel_4160600/3512376114.py:14: FutureWarning: Calling float on a single element Series is deprecated and will raise a TypeError in the future. Use float(ser.iloc[0]) instead\n",
      "  p = float(df_summary['p'])\n",
      "/tmp/ipykernel_4160600/3512376114.py:14: FutureWarning: Calling float on a single element Series is deprecated and will raise a TypeError in the future. Use float(ser.iloc[0]) instead\n",
      "  p = float(df_summary['p'])\n",
      "/tmp/ipykernel_4160600/3512376114.py:14: FutureWarning: Calling float on a single element Series is deprecated and will raise a TypeError in the future. Use float(ser.iloc[0]) instead\n",
      "  p = float(df_summary['p'])\n",
      "/tmp/ipykernel_4160600/3512376114.py:14: FutureWarning: Calling float on a single element Series is deprecated and will raise a TypeError in the future. Use float(ser.iloc[0]) instead\n",
      "  p = float(df_summary['p'])\n",
      "/tmp/ipykernel_4160600/3512376114.py:14: FutureWarning: Calling float on a single element Series is deprecated and will raise a TypeError in the future. Use float(ser.iloc[0]) instead\n",
      "  p = float(df_summary['p'])\n",
      "/home/v-wuyueying/miniconda3/envs/esrd/lib/python3.10/site-packages/lifelines/fitters/coxph_fitter.py:1614: ConvergenceWarning: Newton-Raphson failed to converge sufficiently. Please see the following tips in the lifelines documentation: https://lifelines.readthedocs.io/en/latest/Examples.html#problems-with-convergence-in-the-cox-proportional-hazard-model\n",
      "  warnings.warn(\n",
      "/tmp/ipykernel_4160600/3512376114.py:14: FutureWarning: Calling float on a single element Series is deprecated and will raise a TypeError in the future. Use float(ser.iloc[0]) instead\n",
      "  p = float(df_summary['p'])\n",
      "19it [00:17,  1.11it/s]/home/v-wuyueying/miniconda3/envs/esrd/lib/python3.10/site-packages/seaborn/axisgrid.py:453: RuntimeWarning: More than 20 figures have been opened. Figures created through the pyplot interface (`matplotlib.pyplot.figure`) are retained until explicitly closed and may consume too much memory. (To control this warning, see the rcParam `figure.max_open_warning`). Consider using `matplotlib.pyplot.close()`.\n",
      "  fig = plt.figure(figsize=figsize)\n",
      "20it [00:18,  1.10it/s]/tmp/ipykernel_4160600/3757905501.py:31: RuntimeWarning: More than 20 figures have been opened. Figures created through the pyplot interface (`matplotlib.pyplot.figure`) are retained until explicitly closed and may consume too much memory. (To control this warning, see the rcParam `figure.max_open_warning`). Consider using `matplotlib.pyplot.close()`.\n",
      "  plt.figure()\n",
      "26it [00:23,  1.10it/s]"
     ]
    },
    {
     "name": "stdout",
     "output_type": "stream",
     "text": [
      "result saved as .//result//hazard/sta_cox_diet_single_first.xlsx\n"
     ]
    },
    {
     "name": "stderr",
     "output_type": "stream",
     "text": [
      "\n"
     ]
    },
    {
     "data": {
      "text/plain": [
       "(                coef  exp(coef)  se(coef)  coef lower 95%  coef upper 95%  \\\n",
       " covariate                                                                   \n",
       " water        -0.0004     0.9996    0.0003         -0.0009          0.0001   \n",
       " protein      -0.0032     0.9968    0.0070         -0.0168          0.0105   \n",
       " fat           0.0020     1.0020    0.0042         -0.0062          0.0102   \n",
       " carbohydrate  0.0018     1.0018    0.0014         -0.0008          0.0045   \n",
       " Calories      0.0004     1.0004    0.0003         -0.0002          0.0009   \n",
       " df            0.0244     1.0247    0.0119          0.0012          0.0476   \n",
       " k            -0.0002     0.9998    0.0002         -0.0005          0.0002   \n",
       " na            0.0001     1.0001    0.0001         -0.0000          0.0003   \n",
       " mg            0.0001     1.0001    0.0012         -0.0021          0.0024   \n",
       " ca           -0.0004     0.9996    0.0003         -0.0010          0.0003   \n",
       " p            -0.0002     0.9998    0.0004         -0.0010          0.0007   \n",
       " fe            0.0217     1.0219    0.0133         -0.0043          0.0476   \n",
       " zn            0.0836     1.0872    0.0323          0.0202          0.1469   \n",
       " cu            0.0856     1.0894    0.0738         -0.0591          0.2303   \n",
       " mn            0.0316     1.0321    0.0499         -0.0661          0.1294   \n",
       " se            0.0055     1.0055    0.0027          0.0002          0.0109   \n",
       " retinol      -0.0003     0.9997    0.0005         -0.0012          0.0006   \n",
       " vitaminA     -0.0002     0.9998    0.0002         -0.0005          0.0002   \n",
       " carotene     -0.0000     1.0000    0.0000         -0.0001          0.0000   \n",
       " vitaminE     -0.0066     0.9934    0.0083         -0.0229          0.0098   \n",
       " thiamine      0.0026     1.0026    0.0046         -0.0063          0.0115   \n",
       " riboflavin    0.0028     1.0028    0.0046         -0.0062          0.0118   \n",
       " nicotinic     0.0242     1.0245    0.0180         -0.0110          0.0594   \n",
       " ascorbic      0.0007     1.0007    0.0010         -0.0013          0.0028   \n",
       " dpi          -0.0121     0.9880    0.3837         -0.7641          0.7398   \n",
       " dei           0.0233     1.0235    0.0162         -0.0084          0.0550   \n",
       " \n",
       "               exp(coef) lower 95%  exp(coef) upper 95%  cmp to       z      p  \\\n",
       " covariate                                                                       \n",
       " water                      0.9991               1.0001  0.0000 -1.4478 0.1477   \n",
       " protein                    0.9833               1.0106  0.0000 -0.4541 0.6498   \n",
       " fat                        0.9938               1.0103  0.0000  0.4769 0.6334   \n",
       " carbohydrate               0.9992               1.0045  0.0000  1.3593 0.1741   \n",
       " Calories                   0.9998               1.0009  0.0000  1.1776 0.2389   \n",
       " df                         1.0012               1.0488  0.0000  2.0570 0.0397   \n",
       " k                          0.9995               1.0002  0.0000 -0.8953 0.3706   \n",
       " na                         1.0000               1.0003  0.0000  1.5329 0.1253   \n",
       " mg                         0.9979               1.0024  0.0000  0.1078 0.9142   \n",
       " ca                         0.9990               1.0003  0.0000 -1.1015 0.2707   \n",
       " p                          0.9990               1.0007  0.0000 -0.4299 0.6673   \n",
       " fe                         0.9957               1.0488  0.0000  1.6354 0.1020   \n",
       " zn                         1.0204               1.1582  0.0000  2.5863 0.0097   \n",
       " cu                         0.9426               1.2590  0.0000  1.1599 0.2461   \n",
       " mn                         0.9360               1.1381  0.0000  0.6344 0.5258   \n",
       " se                         1.0002               1.0109  0.0000  2.0319 0.0422   \n",
       " retinol                    0.9988               1.0006  0.0000 -0.5960 0.5512   \n",
       " vitaminA                   0.9995               1.0002  0.0000 -0.7669 0.4431   \n",
       " carotene                   0.9999               1.0000  0.0000 -0.7925 0.4281   \n",
       " vitaminE                   0.9773               1.0098  0.0000 -0.7911 0.4289   \n",
       " thiamine                   0.9937               1.0116  0.0000  0.5695 0.5690   \n",
       " riboflavin                 0.9938               1.0119  0.0000  0.6153 0.5384   \n",
       " nicotinic                  0.9890               1.0612  0.0000  1.3469 0.1780   \n",
       " ascorbic                   0.9987               1.0028  0.0000  0.7138 0.4754   \n",
       " dpi                        0.4658               2.0956  0.0000 -0.0316 0.9748   \n",
       " dei                        0.9916               1.0565  0.0000  1.4401 0.1498   \n",
       " \n",
       "               -log2(p)  \n",
       " covariate               \n",
       " water           2.7594  \n",
       " protein         0.6220  \n",
       " fat             0.6588  \n",
       " carbohydrate    2.5224  \n",
       " Calories        2.0653  \n",
       " df              4.6554  \n",
       " k               1.4320  \n",
       " na              2.9965  \n",
       " mg              0.1295  \n",
       " ca              1.8853  \n",
       " p               0.5836  \n",
       " fe              3.2938  \n",
       " zn              6.6877  \n",
       " cu              2.0227  \n",
       " mn              0.9274  \n",
       " se              4.5677  \n",
       " retinol         0.8594  \n",
       " vitaminA        1.1742  \n",
       " carotene        1.2240  \n",
       " vitaminE        1.2213  \n",
       " thiamine        0.8134  \n",
       " riboflavin      0.8933  \n",
       " nicotinic       2.4899  \n",
       " ascorbic        1.0729  \n",
       " dpi             0.0368  \n",
       " dei             2.7386  ,\n",
       " ['df', 'zn', 'se'])"
      ]
     },
     "execution_count": 140,
     "metadata": {},
     "output_type": "execute_result"
    },
    {
     "data": {
      "text/plain": [
       "<Figure size 640x480 with 0 Axes>"
      ]
     },
     "metadata": {},
     "output_type": "display_data"
    },
    {
     "data": {
      "text/plain": [
       "<Figure size 640x480 with 0 Axes>"
      ]
     },
     "metadata": {},
     "output_type": "display_data"
    },
    {
     "data": {
      "text/plain": [
       "<Figure size 640x480 with 0 Axes>"
      ]
     },
     "metadata": {},
     "output_type": "display_data"
    },
    {
     "data": {
      "text/plain": [
       "<Figure size 640x480 with 0 Axes>"
      ]
     },
     "metadata": {},
     "output_type": "display_data"
    },
    {
     "data": {
      "text/plain": [
       "<Figure size 640x480 with 0 Axes>"
      ]
     },
     "metadata": {},
     "output_type": "display_data"
    },
    {
     "data": {
      "text/plain": [
       "<Figure size 640x480 with 0 Axes>"
      ]
     },
     "metadata": {},
     "output_type": "display_data"
    },
    {
     "data": {
      "text/plain": [
       "<Figure size 640x480 with 0 Axes>"
      ]
     },
     "metadata": {},
     "output_type": "display_data"
    },
    {
     "data": {
      "text/plain": [
       "<Figure size 640x480 with 0 Axes>"
      ]
     },
     "metadata": {},
     "output_type": "display_data"
    },
    {
     "data": {
      "text/plain": [
       "<Figure size 640x480 with 0 Axes>"
      ]
     },
     "metadata": {},
     "output_type": "display_data"
    },
    {
     "data": {
      "text/plain": [
       "<Figure size 640x480 with 0 Axes>"
      ]
     },
     "metadata": {},
     "output_type": "display_data"
    },
    {
     "data": {
      "text/plain": [
       "<Figure size 640x480 with 0 Axes>"
      ]
     },
     "metadata": {},
     "output_type": "display_data"
    },
    {
     "data": {
      "text/plain": [
       "<Figure size 640x480 with 0 Axes>"
      ]
     },
     "metadata": {},
     "output_type": "display_data"
    },
    {
     "data": {
      "text/plain": [
       "<Figure size 640x480 with 0 Axes>"
      ]
     },
     "metadata": {},
     "output_type": "display_data"
    },
    {
     "data": {
      "text/plain": [
       "<Figure size 640x480 with 0 Axes>"
      ]
     },
     "metadata": {},
     "output_type": "display_data"
    },
    {
     "data": {
      "text/plain": [
       "<Figure size 640x480 with 0 Axes>"
      ]
     },
     "metadata": {},
     "output_type": "display_data"
    },
    {
     "data": {
      "text/plain": [
       "<Figure size 640x480 with 0 Axes>"
      ]
     },
     "metadata": {},
     "output_type": "display_data"
    },
    {
     "data": {
      "text/plain": [
       "<Figure size 640x480 with 0 Axes>"
      ]
     },
     "metadata": {},
     "output_type": "display_data"
    },
    {
     "data": {
      "text/plain": [
       "<Figure size 640x480 with 0 Axes>"
      ]
     },
     "metadata": {},
     "output_type": "display_data"
    },
    {
     "data": {
      "text/plain": [
       "<Figure size 640x480 with 0 Axes>"
      ]
     },
     "metadata": {},
     "output_type": "display_data"
    },
    {
     "data": {
      "text/plain": [
       "<Figure size 640x480 with 0 Axes>"
      ]
     },
     "metadata": {},
     "output_type": "display_data"
    },
    {
     "data": {
      "text/plain": [
       "<Figure size 640x480 with 0 Axes>"
      ]
     },
     "metadata": {},
     "output_type": "display_data"
    },
    {
     "data": {
      "text/plain": [
       "<Figure size 640x480 with 0 Axes>"
      ]
     },
     "metadata": {},
     "output_type": "display_data"
    },
    {
     "data": {
      "text/plain": [
       "<Figure size 640x480 with 0 Axes>"
      ]
     },
     "metadata": {},
     "output_type": "display_data"
    },
    {
     "data": {
      "text/plain": [
       "<Figure size 640x480 with 0 Axes>"
      ]
     },
     "metadata": {},
     "output_type": "display_data"
    },
    {
     "data": {
      "text/plain": [
       "<Figure size 640x480 with 0 Axes>"
      ]
     },
     "metadata": {},
     "output_type": "display_data"
    },
    {
     "data": {
      "text/plain": [
       "<Figure size 640x480 with 0 Axes>"
      ]
     },
     "metadata": {},
     "output_type": "display_data"
    }
   ],
   "source": [
    "from lifelines.utils import find_best_parametric_model\n",
    "def do_cox_single_diet(pdid, visit,diet, days,result_path,save=True):\n",
    "    \n",
    "    labels_diet = gconst.get_labels_statistics_diet()\n",
    "    labels_visit = gconst.get_labels_statistics_visit()\n",
    "    labels_for_pic = gconst.get_labels_statistics_diet_for_pic_with_unit()\n",
    "    _, col_p_lt = do_cox_single(pdid,visit,days,result_path,save=False) # 单变量分析，获取调整变量\n",
    "    data =np.concatenate([visit,diet],axis=1) # 拼接visit 和 diet\n",
    "    data_append,label_append = append_livedatas(pdid,data,days,labels_visit + labels_diet)\n",
    "    df = pd.DataFrame(data_append,columns=label_append)\n",
    "    # print(df)\n",
    "    results = []\n",
    "    col_p_lt_diet = []\n",
    "    for index,cur_label in tqdm(enumerate(labels_diet[1:])): # 不需要第一个date\n",
    "        \n",
    "        df1 = df[col_p_lt + [cur_label] + ['live_time','death']]\n",
    "        cph = CoxPHFitter()\n",
    "        cph.fit(df1,duration_col='live_time',event_col='death')\n",
    "        df_summary = cph.summary\n",
    "        cur_df_summary = df_summary[df_summary.index == cur_label] # 获取当前营养元素的行\n",
    "        results.append(cur_df_summary)\n",
    "        p = float(df_summary['p'][cur_label])\n",
    "        if p < 0.05:\n",
    "            col_p_lt_diet.append(cur_label)\n",
    "        hazard = list(cph.predict_partial_hazard(df1))\n",
    "        cur_data = list(df1[cur_label])\n",
    "        cur = np.concatenate([np.array(hazard,dtype=float).reshape(-1,1),np.array(cur_data,dtype=float).reshape(-1,1)],axis=1) # 合并\n",
    "        cur_df = pd.DataFrame(cur,columns=['hazard',cur_label])\n",
    "        # print(cur_df)\n",
    "        # break\n",
    "        plt.figure()\n",
    "        sns.set_style('white')\n",
    "        # sns.scatterplot(x=cur_data,y=hazard)\n",
    "        # sns.color_palette(\"Spectral\", as_cmap=True)\n",
    "        # sns.regplot(data=cur_df,x=f'{cur_label}',y=f'hazard',scatter_kws={\"alpha\":.2,\"color\":\"black\"})\n",
    "        # 删除值大于15的点\n",
    "        cur_df_cur = pd.DataFrame(cur_df[cur_df['hazard']<8])\n",
    "\n",
    "        ax = sns.relplot(data=cur_df_cur,x=f'{cur_label}',y=f'hazard',kind='scatter', alpha=0.5,color='black')\n",
    "        ax.set_xlabels(f'{labels_for_pic[labels_diet.index(cur_label)]}',fontsize=20)\n",
    "        ax.set_ylabels(f'HR',fontsize=20)\n",
    "        # xy标签字号设置\n",
    "        plt.xticks(fontsize=18)\n",
    "        plt.yticks(fontsize=18)\n",
    "        # ax.axes_style()\n",
    "        # 字号\n",
    "\n",
    "        # plt.savefig(f'{result_path}hazard/{cur_label}.svg',dpi=300)\n",
    "        plt.savefig(f'{result_path}{cur_label}.pdf',dpi=300,bbox_inches='tight')\n",
    "        plt.savefig(f'{result_path}{cur_label}.png',dpi=300,bbox_inches='tight')\n",
    "        plt.savefig(f'{result_path}{cur_label}.svg',dpi=300,bbox_inches='tight')\n",
    "\n",
    "        plt.close()\n",
    "        # break\n",
    "        # cph.plot_cumulative_hazard()\n",
    "        # print(hazard,cur_data)\n",
    "        # print(cur_df)  \n",
    "        # break  \n",
    "    res = pd.concat(results)\n",
    "    if save:\n",
    "        filename = f'{result_path}sta_cox_diet_single_first.xlsx'\n",
    "        with pd.ExcelWriter(filename) as writer:\n",
    "            res.to_excel(writer,float_format='%.4f')\n",
    "            print(f'result saved as {filename}')\n",
    "\n",
    "    return res,col_p_lt_diet\n",
    "import os\n",
    "# mkdir\n",
    "os.makedirs(f'{result_path}/hazard/',exist_ok=True)\n",
    "do_cox_single_diet(pdid_656,visit_sta_first,diet_sta_first,days_656,f'{result_path}/hazard/',save=True)\n",
    "    "
   ]
  },
  {
   "cell_type": "markdown",
   "metadata": {},
   "source": [
    "## cox for different albumin group"
   ]
  },
  {
   "cell_type": "code",
   "execution_count": 141,
   "metadata": {},
   "outputs": [
    {
     "name": "stderr",
     "output_type": "stream",
     "text": [
      "/tmp/ipykernel_4160600/3512376114.py:14: FutureWarning: Calling float on a single element Series is deprecated and will raise a TypeError in the future. Use float(ser.iloc[0]) instead\n",
      "  p = float(df_summary['p'])\n",
      "/tmp/ipykernel_4160600/3512376114.py:14: FutureWarning: Calling float on a single element Series is deprecated and will raise a TypeError in the future. Use float(ser.iloc[0]) instead\n",
      "  p = float(df_summary['p'])\n",
      "/tmp/ipykernel_4160600/3512376114.py:14: FutureWarning: Calling float on a single element Series is deprecated and will raise a TypeError in the future. Use float(ser.iloc[0]) instead\n",
      "  p = float(df_summary['p'])\n"
     ]
    },
    {
     "name": "stderr",
     "output_type": "stream",
     "text": [
      "/tmp/ipykernel_4160600/3512376114.py:14: FutureWarning: Calling float on a single element Series is deprecated and will raise a TypeError in the future. Use float(ser.iloc[0]) instead\n",
      "  p = float(df_summary['p'])\n",
      "/tmp/ipykernel_4160600/3512376114.py:14: FutureWarning: Calling float on a single element Series is deprecated and will raise a TypeError in the future. Use float(ser.iloc[0]) instead\n",
      "  p = float(df_summary['p'])\n",
      "/tmp/ipykernel_4160600/3512376114.py:14: FutureWarning: Calling float on a single element Series is deprecated and will raise a TypeError in the future. Use float(ser.iloc[0]) instead\n",
      "  p = float(df_summary['p'])\n",
      "/tmp/ipykernel_4160600/3512376114.py:14: FutureWarning: Calling float on a single element Series is deprecated and will raise a TypeError in the future. Use float(ser.iloc[0]) instead\n",
      "  p = float(df_summary['p'])\n",
      "/tmp/ipykernel_4160600/3512376114.py:14: FutureWarning: Calling float on a single element Series is deprecated and will raise a TypeError in the future. Use float(ser.iloc[0]) instead\n",
      "  p = float(df_summary['p'])\n",
      "/tmp/ipykernel_4160600/3512376114.py:14: FutureWarning: Calling float on a single element Series is deprecated and will raise a TypeError in the future. Use float(ser.iloc[0]) instead\n",
      "  p = float(df_summary['p'])\n",
      "/tmp/ipykernel_4160600/3512376114.py:14: FutureWarning: Calling float on a single element Series is deprecated and will raise a TypeError in the future. Use float(ser.iloc[0]) instead\n",
      "  p = float(df_summary['p'])\n",
      "/tmp/ipykernel_4160600/3512376114.py:14: FutureWarning: Calling float on a single element Series is deprecated and will raise a TypeError in the future. Use float(ser.iloc[0]) instead\n",
      "  p = float(df_summary['p'])\n",
      "/tmp/ipykernel_4160600/3512376114.py:14: FutureWarning: Calling float on a single element Series is deprecated and will raise a TypeError in the future. Use float(ser.iloc[0]) instead\n",
      "  p = float(df_summary['p'])\n",
      "/tmp/ipykernel_4160600/3512376114.py:14: FutureWarning: Calling float on a single element Series is deprecated and will raise a TypeError in the future. Use float(ser.iloc[0]) instead\n",
      "  p = float(df_summary['p'])\n",
      "/tmp/ipykernel_4160600/3512376114.py:14: FutureWarning: Calling float on a single element Series is deprecated and will raise a TypeError in the future. Use float(ser.iloc[0]) instead\n",
      "  p = float(df_summary['p'])\n",
      "/tmp/ipykernel_4160600/3512376114.py:14: FutureWarning: Calling float on a single element Series is deprecated and will raise a TypeError in the future. Use float(ser.iloc[0]) instead\n",
      "  p = float(df_summary['p'])\n",
      "/tmp/ipykernel_4160600/3512376114.py:14: FutureWarning: Calling float on a single element Series is deprecated and will raise a TypeError in the future. Use float(ser.iloc[0]) instead\n",
      "  p = float(df_summary['p'])\n",
      "/tmp/ipykernel_4160600/3512376114.py:14: FutureWarning: Calling float on a single element Series is deprecated and will raise a TypeError in the future. Use float(ser.iloc[0]) instead\n",
      "  p = float(df_summary['p'])\n",
      "/tmp/ipykernel_4160600/3512376114.py:14: FutureWarning: Calling float on a single element Series is deprecated and will raise a TypeError in the future. Use float(ser.iloc[0]) instead\n",
      "  p = float(df_summary['p'])\n",
      "/tmp/ipykernel_4160600/3512376114.py:14: FutureWarning: Calling float on a single element Series is deprecated and will raise a TypeError in the future. Use float(ser.iloc[0]) instead\n",
      "  p = float(df_summary['p'])\n",
      "/tmp/ipykernel_4160600/3512376114.py:14: FutureWarning: Calling float on a single element Series is deprecated and will raise a TypeError in the future. Use float(ser.iloc[0]) instead\n",
      "  p = float(df_summary['p'])\n",
      "/tmp/ipykernel_4160600/3512376114.py:14: FutureWarning: Calling float on a single element Series is deprecated and will raise a TypeError in the future. Use float(ser.iloc[0]) instead\n",
      "  p = float(df_summary['p'])\n",
      "/tmp/ipykernel_4160600/3512376114.py:14: FutureWarning: Calling float on a single element Series is deprecated and will raise a TypeError in the future. Use float(ser.iloc[0]) instead\n",
      "  p = float(df_summary['p'])\n",
      "/tmp/ipykernel_4160600/3512376114.py:14: FutureWarning: Calling float on a single element Series is deprecated and will raise a TypeError in the future. Use float(ser.iloc[0]) instead\n",
      "  p = float(df_summary['p'])\n",
      "19it [00:14,  1.29it/s]/home/v-wuyueying/miniconda3/envs/esrd/lib/python3.10/site-packages/seaborn/axisgrid.py:453: RuntimeWarning: More than 20 figures have been opened. Figures created through the pyplot interface (`matplotlib.pyplot.figure`) are retained until explicitly closed and may consume too much memory. (To control this warning, see the rcParam `figure.max_open_warning`). Consider using `matplotlib.pyplot.close()`.\n",
      "  fig = plt.figure(figsize=figsize)\n",
      "20it [00:15,  1.27it/s]/tmp/ipykernel_4160600/3757905501.py:31: RuntimeWarning: More than 20 figures have been opened. Figures created through the pyplot interface (`matplotlib.pyplot.figure`) are retained until explicitly closed and may consume too much memory. (To control this warning, see the rcParam `figure.max_open_warning`). Consider using `matplotlib.pyplot.close()`.\n",
      "  plt.figure()\n",
      "26it [00:20,  1.28it/s]\n",
      "/tmp/ipykernel_4160600/3512376114.py:14: FutureWarning: Calling float on a single element Series is deprecated and will raise a TypeError in the future. Use float(ser.iloc[0]) instead\n",
      "  p = float(df_summary['p'])\n",
      "/tmp/ipykernel_4160600/3512376114.py:14: FutureWarning: Calling float on a single element Series is deprecated and will raise a TypeError in the future. Use float(ser.iloc[0]) instead\n",
      "  p = float(df_summary['p'])\n",
      "/tmp/ipykernel_4160600/3512376114.py:14: FutureWarning: Calling float on a single element Series is deprecated and will raise a TypeError in the future. Use float(ser.iloc[0]) instead\n",
      "  p = float(df_summary['p'])\n",
      "/tmp/ipykernel_4160600/3512376114.py:14: FutureWarning: Calling float on a single element Series is deprecated and will raise a TypeError in the future. Use float(ser.iloc[0]) instead\n",
      "  p = float(df_summary['p'])\n",
      "/tmp/ipykernel_4160600/3512376114.py:14: FutureWarning: Calling float on a single element Series is deprecated and will raise a TypeError in the future. Use float(ser.iloc[0]) instead\n",
      "  p = float(df_summary['p'])\n"
     ]
    },
    {
     "name": "stdout",
     "output_type": "stream",
     "text": [
      "result saved as .//result//hazard/0/sta_cox_diet_single_first.xlsx\n"
     ]
    },
    {
     "name": "stderr",
     "output_type": "stream",
     "text": [
      "/tmp/ipykernel_4160600/3512376114.py:14: FutureWarning: Calling float on a single element Series is deprecated and will raise a TypeError in the future. Use float(ser.iloc[0]) instead\n",
      "  p = float(df_summary['p'])\n",
      "/tmp/ipykernel_4160600/3512376114.py:14: FutureWarning: Calling float on a single element Series is deprecated and will raise a TypeError in the future. Use float(ser.iloc[0]) instead\n",
      "  p = float(df_summary['p'])\n",
      "/tmp/ipykernel_4160600/3512376114.py:14: FutureWarning: Calling float on a single element Series is deprecated and will raise a TypeError in the future. Use float(ser.iloc[0]) instead\n",
      "  p = float(df_summary['p'])\n",
      "/tmp/ipykernel_4160600/3512376114.py:14: FutureWarning: Calling float on a single element Series is deprecated and will raise a TypeError in the future. Use float(ser.iloc[0]) instead\n",
      "  p = float(df_summary['p'])\n",
      "/tmp/ipykernel_4160600/3512376114.py:14: FutureWarning: Calling float on a single element Series is deprecated and will raise a TypeError in the future. Use float(ser.iloc[0]) instead\n",
      "  p = float(df_summary['p'])\n",
      "/tmp/ipykernel_4160600/3512376114.py:14: FutureWarning: Calling float on a single element Series is deprecated and will raise a TypeError in the future. Use float(ser.iloc[0]) instead\n",
      "  p = float(df_summary['p'])\n",
      "/tmp/ipykernel_4160600/3512376114.py:14: FutureWarning: Calling float on a single element Series is deprecated and will raise a TypeError in the future. Use float(ser.iloc[0]) instead\n",
      "  p = float(df_summary['p'])\n",
      "/tmp/ipykernel_4160600/3512376114.py:14: FutureWarning: Calling float on a single element Series is deprecated and will raise a TypeError in the future. Use float(ser.iloc[0]) instead\n",
      "  p = float(df_summary['p'])\n",
      "/tmp/ipykernel_4160600/3512376114.py:14: FutureWarning: Calling float on a single element Series is deprecated and will raise a TypeError in the future. Use float(ser.iloc[0]) instead\n",
      "  p = float(df_summary['p'])\n",
      "/tmp/ipykernel_4160600/3512376114.py:14: FutureWarning: Calling float on a single element Series is deprecated and will raise a TypeError in the future. Use float(ser.iloc[0]) instead\n",
      "  p = float(df_summary['p'])\n",
      "/tmp/ipykernel_4160600/3512376114.py:14: FutureWarning: Calling float on a single element Series is deprecated and will raise a TypeError in the future. Use float(ser.iloc[0]) instead\n",
      "  p = float(df_summary['p'])\n",
      "/tmp/ipykernel_4160600/3512376114.py:14: FutureWarning: Calling float on a single element Series is deprecated and will raise a TypeError in the future. Use float(ser.iloc[0]) instead\n",
      "  p = float(df_summary['p'])\n",
      "/tmp/ipykernel_4160600/3512376114.py:14: FutureWarning: Calling float on a single element Series is deprecated and will raise a TypeError in the future. Use float(ser.iloc[0]) instead\n",
      "  p = float(df_summary['p'])\n",
      "/tmp/ipykernel_4160600/3512376114.py:14: FutureWarning: Calling float on a single element Series is deprecated and will raise a TypeError in the future. Use float(ser.iloc[0]) instead\n",
      "  p = float(df_summary['p'])\n",
      "/tmp/ipykernel_4160600/3512376114.py:14: FutureWarning: Calling float on a single element Series is deprecated and will raise a TypeError in the future. Use float(ser.iloc[0]) instead\n",
      "  p = float(df_summary['p'])\n",
      "/tmp/ipykernel_4160600/3512376114.py:14: FutureWarning: Calling float on a single element Series is deprecated and will raise a TypeError in the future. Use float(ser.iloc[0]) instead\n",
      "  p = float(df_summary['p'])\n",
      "/tmp/ipykernel_4160600/3512376114.py:14: FutureWarning: Calling float on a single element Series is deprecated and will raise a TypeError in the future. Use float(ser.iloc[0]) instead\n",
      "  p = float(df_summary['p'])\n",
      "/tmp/ipykernel_4160600/3512376114.py:14: FutureWarning: Calling float on a single element Series is deprecated and will raise a TypeError in the future. Use float(ser.iloc[0]) instead\n",
      "  p = float(df_summary['p'])\n",
      "26it [00:20,  1.27it/s]\n",
      "/tmp/ipykernel_4160600/3512376114.py:14: FutureWarning: Calling float on a single element Series is deprecated and will raise a TypeError in the future. Use float(ser.iloc[0]) instead\n",
      "  p = float(df_summary['p'])\n",
      "/tmp/ipykernel_4160600/3512376114.py:14: FutureWarning: Calling float on a single element Series is deprecated and will raise a TypeError in the future. Use float(ser.iloc[0]) instead\n",
      "  p = float(df_summary['p'])\n",
      "/tmp/ipykernel_4160600/3512376114.py:14: FutureWarning: Calling float on a single element Series is deprecated and will raise a TypeError in the future. Use float(ser.iloc[0]) instead\n",
      "  p = float(df_summary['p'])\n",
      "/tmp/ipykernel_4160600/3512376114.py:14: FutureWarning: Calling float on a single element Series is deprecated and will raise a TypeError in the future. Use float(ser.iloc[0]) instead\n",
      "  p = float(df_summary['p'])\n",
      "/tmp/ipykernel_4160600/3512376114.py:14: FutureWarning: Calling float on a single element Series is deprecated and will raise a TypeError in the future. Use float(ser.iloc[0]) instead\n",
      "  p = float(df_summary['p'])\n",
      "/tmp/ipykernel_4160600/3512376114.py:14: FutureWarning: Calling float on a single element Series is deprecated and will raise a TypeError in the future. Use float(ser.iloc[0]) instead\n",
      "  p = float(df_summary['p'])\n"
     ]
    },
    {
     "name": "stdout",
     "output_type": "stream",
     "text": [
      "result saved as .//result//hazard/1/sta_cox_diet_single_first.xlsx\n"
     ]
    },
    {
     "name": "stderr",
     "output_type": "stream",
     "text": [
      "/tmp/ipykernel_4160600/3512376114.py:14: FutureWarning: Calling float on a single element Series is deprecated and will raise a TypeError in the future. Use float(ser.iloc[0]) instead\n",
      "  p = float(df_summary['p'])\n",
      "/tmp/ipykernel_4160600/3512376114.py:14: FutureWarning: Calling float on a single element Series is deprecated and will raise a TypeError in the future. Use float(ser.iloc[0]) instead\n",
      "  p = float(df_summary['p'])\n",
      "/tmp/ipykernel_4160600/3512376114.py:14: FutureWarning: Calling float on a single element Series is deprecated and will raise a TypeError in the future. Use float(ser.iloc[0]) instead\n",
      "  p = float(df_summary['p'])\n",
      "/tmp/ipykernel_4160600/3512376114.py:14: FutureWarning: Calling float on a single element Series is deprecated and will raise a TypeError in the future. Use float(ser.iloc[0]) instead\n",
      "  p = float(df_summary['p'])\n",
      "/tmp/ipykernel_4160600/3512376114.py:14: FutureWarning: Calling float on a single element Series is deprecated and will raise a TypeError in the future. Use float(ser.iloc[0]) instead\n",
      "  p = float(df_summary['p'])\n",
      "/tmp/ipykernel_4160600/3512376114.py:14: FutureWarning: Calling float on a single element Series is deprecated and will raise a TypeError in the future. Use float(ser.iloc[0]) instead\n",
      "  p = float(df_summary['p'])\n",
      "/tmp/ipykernel_4160600/3512376114.py:14: FutureWarning: Calling float on a single element Series is deprecated and will raise a TypeError in the future. Use float(ser.iloc[0]) instead\n",
      "  p = float(df_summary['p'])\n",
      "/tmp/ipykernel_4160600/3512376114.py:14: FutureWarning: Calling float on a single element Series is deprecated and will raise a TypeError in the future. Use float(ser.iloc[0]) instead\n",
      "  p = float(df_summary['p'])\n",
      "/tmp/ipykernel_4160600/3512376114.py:14: FutureWarning: Calling float on a single element Series is deprecated and will raise a TypeError in the future. Use float(ser.iloc[0]) instead\n",
      "  p = float(df_summary['p'])\n",
      "/tmp/ipykernel_4160600/3512376114.py:14: FutureWarning: Calling float on a single element Series is deprecated and will raise a TypeError in the future. Use float(ser.iloc[0]) instead\n",
      "  p = float(df_summary['p'])\n",
      "/tmp/ipykernel_4160600/3512376114.py:14: FutureWarning: Calling float on a single element Series is deprecated and will raise a TypeError in the future. Use float(ser.iloc[0]) instead\n",
      "  p = float(df_summary['p'])\n",
      "/tmp/ipykernel_4160600/3512376114.py:14: FutureWarning: Calling float on a single element Series is deprecated and will raise a TypeError in the future. Use float(ser.iloc[0]) instead\n",
      "  p = float(df_summary['p'])\n",
      "/tmp/ipykernel_4160600/3512376114.py:14: FutureWarning: Calling float on a single element Series is deprecated and will raise a TypeError in the future. Use float(ser.iloc[0]) instead\n",
      "  p = float(df_summary['p'])\n",
      "/tmp/ipykernel_4160600/3512376114.py:14: FutureWarning: Calling float on a single element Series is deprecated and will raise a TypeError in the future. Use float(ser.iloc[0]) instead\n",
      "  p = float(df_summary['p'])\n",
      "/tmp/ipykernel_4160600/3512376114.py:14: FutureWarning: Calling float on a single element Series is deprecated and will raise a TypeError in the future. Use float(ser.iloc[0]) instead\n",
      "  p = float(df_summary['p'])\n",
      "/tmp/ipykernel_4160600/3512376114.py:14: FutureWarning: Calling float on a single element Series is deprecated and will raise a TypeError in the future. Use float(ser.iloc[0]) instead\n",
      "  p = float(df_summary['p'])\n",
      "/tmp/ipykernel_4160600/3512376114.py:14: FutureWarning: Calling float on a single element Series is deprecated and will raise a TypeError in the future. Use float(ser.iloc[0]) instead\n",
      "  p = float(df_summary['p'])\n",
      "26it [00:20,  1.28it/s]"
     ]
    },
    {
     "name": "stdout",
     "output_type": "stream",
     "text": [
      "result saved as .//result//hazard/2/sta_cox_diet_single_first.xlsx\n"
     ]
    },
    {
     "name": "stderr",
     "output_type": "stream",
     "text": [
      "\n"
     ]
    },
    {
     "data": {
      "text/plain": [
       "<Figure size 640x480 with 0 Axes>"
      ]
     },
     "metadata": {},
     "output_type": "display_data"
    },
    {
     "data": {
      "text/plain": [
       "<Figure size 640x480 with 0 Axes>"
      ]
     },
     "metadata": {},
     "output_type": "display_data"
    },
    {
     "data": {
      "text/plain": [
       "<Figure size 640x480 with 0 Axes>"
      ]
     },
     "metadata": {},
     "output_type": "display_data"
    },
    {
     "data": {
      "text/plain": [
       "<Figure size 640x480 with 0 Axes>"
      ]
     },
     "metadata": {},
     "output_type": "display_data"
    },
    {
     "data": {
      "text/plain": [
       "<Figure size 640x480 with 0 Axes>"
      ]
     },
     "metadata": {},
     "output_type": "display_data"
    },
    {
     "data": {
      "text/plain": [
       "<Figure size 640x480 with 0 Axes>"
      ]
     },
     "metadata": {},
     "output_type": "display_data"
    },
    {
     "data": {
      "text/plain": [
       "<Figure size 640x480 with 0 Axes>"
      ]
     },
     "metadata": {},
     "output_type": "display_data"
    },
    {
     "data": {
      "text/plain": [
       "<Figure size 640x480 with 0 Axes>"
      ]
     },
     "metadata": {},
     "output_type": "display_data"
    },
    {
     "data": {
      "text/plain": [
       "<Figure size 640x480 with 0 Axes>"
      ]
     },
     "metadata": {},
     "output_type": "display_data"
    },
    {
     "data": {
      "text/plain": [
       "<Figure size 640x480 with 0 Axes>"
      ]
     },
     "metadata": {},
     "output_type": "display_data"
    },
    {
     "data": {
      "text/plain": [
       "<Figure size 640x480 with 0 Axes>"
      ]
     },
     "metadata": {},
     "output_type": "display_data"
    },
    {
     "data": {
      "text/plain": [
       "<Figure size 640x480 with 0 Axes>"
      ]
     },
     "metadata": {},
     "output_type": "display_data"
    },
    {
     "data": {
      "text/plain": [
       "<Figure size 640x480 with 0 Axes>"
      ]
     },
     "metadata": {},
     "output_type": "display_data"
    },
    {
     "data": {
      "text/plain": [
       "<Figure size 640x480 with 0 Axes>"
      ]
     },
     "metadata": {},
     "output_type": "display_data"
    },
    {
     "data": {
      "text/plain": [
       "<Figure size 640x480 with 0 Axes>"
      ]
     },
     "metadata": {},
     "output_type": "display_data"
    },
    {
     "data": {
      "text/plain": [
       "<Figure size 640x480 with 0 Axes>"
      ]
     },
     "metadata": {},
     "output_type": "display_data"
    },
    {
     "data": {
      "text/plain": [
       "<Figure size 640x480 with 0 Axes>"
      ]
     },
     "metadata": {},
     "output_type": "display_data"
    },
    {
     "data": {
      "text/plain": [
       "<Figure size 640x480 with 0 Axes>"
      ]
     },
     "metadata": {},
     "output_type": "display_data"
    },
    {
     "data": {
      "text/plain": [
       "<Figure size 640x480 with 0 Axes>"
      ]
     },
     "metadata": {},
     "output_type": "display_data"
    },
    {
     "data": {
      "text/plain": [
       "<Figure size 640x480 with 0 Axes>"
      ]
     },
     "metadata": {},
     "output_type": "display_data"
    },
    {
     "data": {
      "text/plain": [
       "<Figure size 640x480 with 0 Axes>"
      ]
     },
     "metadata": {},
     "output_type": "display_data"
    },
    {
     "data": {
      "text/plain": [
       "<Figure size 640x480 with 0 Axes>"
      ]
     },
     "metadata": {},
     "output_type": "display_data"
    },
    {
     "data": {
      "text/plain": [
       "<Figure size 640x480 with 0 Axes>"
      ]
     },
     "metadata": {},
     "output_type": "display_data"
    },
    {
     "data": {
      "text/plain": [
       "<Figure size 640x480 with 0 Axes>"
      ]
     },
     "metadata": {},
     "output_type": "display_data"
    },
    {
     "data": {
      "text/plain": [
       "<Figure size 640x480 with 0 Axes>"
      ]
     },
     "metadata": {},
     "output_type": "display_data"
    },
    {
     "data": {
      "text/plain": [
       "<Figure size 640x480 with 0 Axes>"
      ]
     },
     "metadata": {},
     "output_type": "display_data"
    },
    {
     "data": {
      "text/plain": [
       "<Figure size 640x480 with 0 Axes>"
      ]
     },
     "metadata": {},
     "output_type": "display_data"
    },
    {
     "data": {
      "text/plain": [
       "<Figure size 640x480 with 0 Axes>"
      ]
     },
     "metadata": {},
     "output_type": "display_data"
    },
    {
     "data": {
      "text/plain": [
       "<Figure size 640x480 with 0 Axes>"
      ]
     },
     "metadata": {},
     "output_type": "display_data"
    },
    {
     "data": {
      "text/plain": [
       "<Figure size 640x480 with 0 Axes>"
      ]
     },
     "metadata": {},
     "output_type": "display_data"
    },
    {
     "data": {
      "text/plain": [
       "<Figure size 640x480 with 0 Axes>"
      ]
     },
     "metadata": {},
     "output_type": "display_data"
    },
    {
     "data": {
      "text/plain": [
       "<Figure size 640x480 with 0 Axes>"
      ]
     },
     "metadata": {},
     "output_type": "display_data"
    },
    {
     "data": {
      "text/plain": [
       "<Figure size 640x480 with 0 Axes>"
      ]
     },
     "metadata": {},
     "output_type": "display_data"
    },
    {
     "data": {
      "text/plain": [
       "<Figure size 640x480 with 0 Axes>"
      ]
     },
     "metadata": {},
     "output_type": "display_data"
    },
    {
     "data": {
      "text/plain": [
       "<Figure size 640x480 with 0 Axes>"
      ]
     },
     "metadata": {},
     "output_type": "display_data"
    },
    {
     "data": {
      "text/plain": [
       "<Figure size 640x480 with 0 Axes>"
      ]
     },
     "metadata": {},
     "output_type": "display_data"
    },
    {
     "data": {
      "text/plain": [
       "<Figure size 640x480 with 0 Axes>"
      ]
     },
     "metadata": {},
     "output_type": "display_data"
    },
    {
     "data": {
      "text/plain": [
       "<Figure size 640x480 with 0 Axes>"
      ]
     },
     "metadata": {},
     "output_type": "display_data"
    },
    {
     "data": {
      "text/plain": [
       "<Figure size 640x480 with 0 Axes>"
      ]
     },
     "metadata": {},
     "output_type": "display_data"
    },
    {
     "data": {
      "text/plain": [
       "<Figure size 640x480 with 0 Axes>"
      ]
     },
     "metadata": {},
     "output_type": "display_data"
    },
    {
     "data": {
      "text/plain": [
       "<Figure size 640x480 with 0 Axes>"
      ]
     },
     "metadata": {},
     "output_type": "display_data"
    },
    {
     "data": {
      "text/plain": [
       "<Figure size 640x480 with 0 Axes>"
      ]
     },
     "metadata": {},
     "output_type": "display_data"
    },
    {
     "data": {
      "text/plain": [
       "<Figure size 640x480 with 0 Axes>"
      ]
     },
     "metadata": {},
     "output_type": "display_data"
    },
    {
     "data": {
      "text/plain": [
       "<Figure size 640x480 with 0 Axes>"
      ]
     },
     "metadata": {},
     "output_type": "display_data"
    },
    {
     "data": {
      "text/plain": [
       "<Figure size 640x480 with 0 Axes>"
      ]
     },
     "metadata": {},
     "output_type": "display_data"
    },
    {
     "data": {
      "text/plain": [
       "<Figure size 640x480 with 0 Axes>"
      ]
     },
     "metadata": {},
     "output_type": "display_data"
    },
    {
     "data": {
      "text/plain": [
       "<Figure size 640x480 with 0 Axes>"
      ]
     },
     "metadata": {},
     "output_type": "display_data"
    },
    {
     "data": {
      "text/plain": [
       "<Figure size 640x480 with 0 Axes>"
      ]
     },
     "metadata": {},
     "output_type": "display_data"
    },
    {
     "data": {
      "text/plain": [
       "<Figure size 640x480 with 0 Axes>"
      ]
     },
     "metadata": {},
     "output_type": "display_data"
    },
    {
     "data": {
      "text/plain": [
       "<Figure size 640x480 with 0 Axes>"
      ]
     },
     "metadata": {},
     "output_type": "display_data"
    },
    {
     "data": {
      "text/plain": [
       "<Figure size 640x480 with 0 Axes>"
      ]
     },
     "metadata": {},
     "output_type": "display_data"
    },
    {
     "data": {
      "text/plain": [
       "<Figure size 640x480 with 0 Axes>"
      ]
     },
     "metadata": {},
     "output_type": "display_data"
    },
    {
     "data": {
      "text/plain": [
       "<Figure size 640x480 with 0 Axes>"
      ]
     },
     "metadata": {},
     "output_type": "display_data"
    },
    {
     "data": {
      "text/plain": [
       "<Figure size 640x480 with 0 Axes>"
      ]
     },
     "metadata": {},
     "output_type": "display_data"
    },
    {
     "data": {
      "text/plain": [
       "<Figure size 640x480 with 0 Axes>"
      ]
     },
     "metadata": {},
     "output_type": "display_data"
    },
    {
     "data": {
      "text/plain": [
       "<Figure size 640x480 with 0 Axes>"
      ]
     },
     "metadata": {},
     "output_type": "display_data"
    },
    {
     "data": {
      "text/plain": [
       "<Figure size 640x480 with 0 Axes>"
      ]
     },
     "metadata": {},
     "output_type": "display_data"
    },
    {
     "data": {
      "text/plain": [
       "<Figure size 640x480 with 0 Axes>"
      ]
     },
     "metadata": {},
     "output_type": "display_data"
    },
    {
     "data": {
      "text/plain": [
       "<Figure size 640x480 with 0 Axes>"
      ]
     },
     "metadata": {},
     "output_type": "display_data"
    },
    {
     "data": {
      "text/plain": [
       "<Figure size 640x480 with 0 Axes>"
      ]
     },
     "metadata": {},
     "output_type": "display_data"
    },
    {
     "data": {
      "text/plain": [
       "<Figure size 640x480 with 0 Axes>"
      ]
     },
     "metadata": {},
     "output_type": "display_data"
    },
    {
     "data": {
      "text/plain": [
       "<Figure size 640x480 with 0 Axes>"
      ]
     },
     "metadata": {},
     "output_type": "display_data"
    },
    {
     "data": {
      "text/plain": [
       "<Figure size 640x480 with 0 Axes>"
      ]
     },
     "metadata": {},
     "output_type": "display_data"
    },
    {
     "data": {
      "text/plain": [
       "<Figure size 640x480 with 0 Axes>"
      ]
     },
     "metadata": {},
     "output_type": "display_data"
    },
    {
     "data": {
      "text/plain": [
       "<Figure size 640x480 with 0 Axes>"
      ]
     },
     "metadata": {},
     "output_type": "display_data"
    },
    {
     "data": {
      "text/plain": [
       "<Figure size 640x480 with 0 Axes>"
      ]
     },
     "metadata": {},
     "output_type": "display_data"
    },
    {
     "data": {
      "text/plain": [
       "<Figure size 640x480 with 0 Axes>"
      ]
     },
     "metadata": {},
     "output_type": "display_data"
    },
    {
     "data": {
      "text/plain": [
       "<Figure size 640x480 with 0 Axes>"
      ]
     },
     "metadata": {},
     "output_type": "display_data"
    },
    {
     "data": {
      "text/plain": [
       "<Figure size 640x480 with 0 Axes>"
      ]
     },
     "metadata": {},
     "output_type": "display_data"
    },
    {
     "data": {
      "text/plain": [
       "<Figure size 640x480 with 0 Axes>"
      ]
     },
     "metadata": {},
     "output_type": "display_data"
    },
    {
     "data": {
      "text/plain": [
       "<Figure size 640x480 with 0 Axes>"
      ]
     },
     "metadata": {},
     "output_type": "display_data"
    },
    {
     "data": {
      "text/plain": [
       "<Figure size 640x480 with 0 Axes>"
      ]
     },
     "metadata": {},
     "output_type": "display_data"
    },
    {
     "data": {
      "text/plain": [
       "<Figure size 640x480 with 0 Axes>"
      ]
     },
     "metadata": {},
     "output_type": "display_data"
    },
    {
     "data": {
      "text/plain": [
       "<Figure size 640x480 with 0 Axes>"
      ]
     },
     "metadata": {},
     "output_type": "display_data"
    },
    {
     "data": {
      "text/plain": [
       "<Figure size 640x480 with 0 Axes>"
      ]
     },
     "metadata": {},
     "output_type": "display_data"
    },
    {
     "data": {
      "text/plain": [
       "<Figure size 640x480 with 0 Axes>"
      ]
     },
     "metadata": {},
     "output_type": "display_data"
    },
    {
     "data": {
      "text/plain": [
       "<Figure size 640x480 with 0 Axes>"
      ]
     },
     "metadata": {},
     "output_type": "display_data"
    },
    {
     "data": {
      "text/plain": [
       "<Figure size 640x480 with 0 Axes>"
      ]
     },
     "metadata": {},
     "output_type": "display_data"
    }
   ],
   "source": [
    "\n",
    "\n",
    "visit_sta_first_df = pd.DataFrame(visit_sta_first,columns=labels_visit_sta)\n",
    "albumin_data_rounds = gconst.get_data_rounds(visit_sta_first_df['Albumin'])\n",
    "albumin_groups = gconst.get_data_rounds_indexs(visit_sta_first_df['Albumin'],albumin_data_rounds)\n",
    "\n",
    "# 不同albumin组的做cox，保存到 sta_cox_multi_stage_i.xlsx\n",
    "# do_cox_multi(pdid_656,visit_sta_first,days_656,labels_visit_sta,result_path,save=True)\n",
    "\n",
    "\n",
    "for stage in range(3):\n",
    "    # 统计 albumin_groups 中 值为 stage 的 index\n",
    "    cur_index = [i for i in range(len(pdid_656)) if albumin_groups[i] == stage ]\n",
    "    # 筛选值\n",
    "    cur_visit_sta_first = [visit_sta_first[i] for i in cur_index]\n",
    "    cur_diet_sta_first = [diet_sta_first[i] for i in cur_index]\n",
    "    cur_days_656 = [days_656[i] for i in cur_index]\n",
    "    cur_result_path = f'{result_path}/hazard/{stage}/'\n",
    "    import os\n",
    "    if not os.path.exists(cur_result_path):\n",
    "        os.makedirs(cur_result_path)\n",
    "    do_cox_single_diet(cur_index,cur_visit_sta_first,cur_diet_sta_first,cur_days_656,cur_result_path,save=True)\n",
    "    # do_cox_multi(cur_index, cur_visit_sta_first,cur_days_656, labels_visit_sta, result_path=result_path, filename=f'sta_cox_multi_stage{stage}.xlsx',save=True)\n"
   ]
  },
  {
   "cell_type": "code",
   "execution_count": 142,
   "metadata": {},
   "outputs": [
    {
     "name": "stderr",
     "output_type": "stream",
     "text": [
      "/tmp/ipykernel_4160600/3512376114.py:14: FutureWarning: Calling float on a single element Series is deprecated and will raise a TypeError in the future. Use float(ser.iloc[0]) instead\n",
      "  p = float(df_summary['p'])\n",
      "/tmp/ipykernel_4160600/3512376114.py:14: FutureWarning: Calling float on a single element Series is deprecated and will raise a TypeError in the future. Use float(ser.iloc[0]) instead\n",
      "  p = float(df_summary['p'])\n",
      "/tmp/ipykernel_4160600/3512376114.py:14: FutureWarning: Calling float on a single element Series is deprecated and will raise a TypeError in the future. Use float(ser.iloc[0]) instead\n",
      "  p = float(df_summary['p'])\n",
      "/tmp/ipykernel_4160600/3512376114.py:14: FutureWarning: Calling float on a single element Series is deprecated and will raise a TypeError in the future. Use float(ser.iloc[0]) instead\n",
      "  p = float(df_summary['p'])\n",
      "/tmp/ipykernel_4160600/3512376114.py:14: FutureWarning: Calling float on a single element Series is deprecated and will raise a TypeError in the future. Use float(ser.iloc[0]) instead\n",
      "  p = float(df_summary['p'])\n",
      "/tmp/ipykernel_4160600/3512376114.py:14: FutureWarning: Calling float on a single element Series is deprecated and will raise a TypeError in the future. Use float(ser.iloc[0]) instead\n",
      "  p = float(df_summary['p'])\n",
      "/tmp/ipykernel_4160600/3512376114.py:14: FutureWarning: Calling float on a single element Series is deprecated and will raise a TypeError in the future. Use float(ser.iloc[0]) instead\n",
      "  p = float(df_summary['p'])\n"
     ]
    },
    {
     "name": "stderr",
     "output_type": "stream",
     "text": [
      "/tmp/ipykernel_4160600/3512376114.py:14: FutureWarning: Calling float on a single element Series is deprecated and will raise a TypeError in the future. Use float(ser.iloc[0]) instead\n",
      "  p = float(df_summary['p'])\n",
      "/tmp/ipykernel_4160600/3512376114.py:14: FutureWarning: Calling float on a single element Series is deprecated and will raise a TypeError in the future. Use float(ser.iloc[0]) instead\n",
      "  p = float(df_summary['p'])\n",
      "/tmp/ipykernel_4160600/3512376114.py:14: FutureWarning: Calling float on a single element Series is deprecated and will raise a TypeError in the future. Use float(ser.iloc[0]) instead\n",
      "  p = float(df_summary['p'])\n",
      "/tmp/ipykernel_4160600/3512376114.py:14: FutureWarning: Calling float on a single element Series is deprecated and will raise a TypeError in the future. Use float(ser.iloc[0]) instead\n",
      "  p = float(df_summary['p'])\n",
      "/tmp/ipykernel_4160600/3512376114.py:14: FutureWarning: Calling float on a single element Series is deprecated and will raise a TypeError in the future. Use float(ser.iloc[0]) instead\n",
      "  p = float(df_summary['p'])\n",
      "/tmp/ipykernel_4160600/3512376114.py:14: FutureWarning: Calling float on a single element Series is deprecated and will raise a TypeError in the future. Use float(ser.iloc[0]) instead\n",
      "  p = float(df_summary['p'])\n",
      "/tmp/ipykernel_4160600/3512376114.py:14: FutureWarning: Calling float on a single element Series is deprecated and will raise a TypeError in the future. Use float(ser.iloc[0]) instead\n",
      "  p = float(df_summary['p'])\n",
      "/tmp/ipykernel_4160600/3512376114.py:14: FutureWarning: Calling float on a single element Series is deprecated and will raise a TypeError in the future. Use float(ser.iloc[0]) instead\n",
      "  p = float(df_summary['p'])\n",
      "/tmp/ipykernel_4160600/3512376114.py:14: FutureWarning: Calling float on a single element Series is deprecated and will raise a TypeError in the future. Use float(ser.iloc[0]) instead\n",
      "  p = float(df_summary['p'])\n",
      "/tmp/ipykernel_4160600/3512376114.py:14: FutureWarning: Calling float on a single element Series is deprecated and will raise a TypeError in the future. Use float(ser.iloc[0]) instead\n",
      "  p = float(df_summary['p'])\n",
      "/tmp/ipykernel_4160600/3512376114.py:14: FutureWarning: Calling float on a single element Series is deprecated and will raise a TypeError in the future. Use float(ser.iloc[0]) instead\n",
      "  p = float(df_summary['p'])\n",
      "/tmp/ipykernel_4160600/3512376114.py:14: FutureWarning: Calling float on a single element Series is deprecated and will raise a TypeError in the future. Use float(ser.iloc[0]) instead\n",
      "  p = float(df_summary['p'])\n",
      "/tmp/ipykernel_4160600/3512376114.py:14: FutureWarning: Calling float on a single element Series is deprecated and will raise a TypeError in the future. Use float(ser.iloc[0]) instead\n",
      "  p = float(df_summary['p'])\n",
      "/tmp/ipykernel_4160600/3512376114.py:14: FutureWarning: Calling float on a single element Series is deprecated and will raise a TypeError in the future. Use float(ser.iloc[0]) instead\n",
      "  p = float(df_summary['p'])\n",
      "/tmp/ipykernel_4160600/3512376114.py:14: FutureWarning: Calling float on a single element Series is deprecated and will raise a TypeError in the future. Use float(ser.iloc[0]) instead\n",
      "  p = float(df_summary['p'])\n",
      "/tmp/ipykernel_4160600/3512376114.py:14: FutureWarning: Calling float on a single element Series is deprecated and will raise a TypeError in the future. Use float(ser.iloc[0]) instead\n",
      "  p = float(df_summary['p'])\n"
     ]
    },
    {
     "name": "stdout",
     "output_type": "stream",
     "text": [
      "['Cl', 'K', 'Na', 'Scr', 'hs-CRP', 'Appetite', 'Weight', 'SBP', 'DBP', 'age', 'gfr']\n",
      "result saved as .//result/sta_cox_multi_stage0.xlsx\n"
     ]
    },
    {
     "name": "stderr",
     "output_type": "stream",
     "text": [
      "/tmp/ipykernel_4160600/3512376114.py:14: FutureWarning: Calling float on a single element Series is deprecated and will raise a TypeError in the future. Use float(ser.iloc[0]) instead\n",
      "  p = float(df_summary['p'])\n",
      "/tmp/ipykernel_4160600/3512376114.py:14: FutureWarning: Calling float on a single element Series is deprecated and will raise a TypeError in the future. Use float(ser.iloc[0]) instead\n",
      "  p = float(df_summary['p'])\n",
      "/tmp/ipykernel_4160600/3512376114.py:14: FutureWarning: Calling float on a single element Series is deprecated and will raise a TypeError in the future. Use float(ser.iloc[0]) instead\n",
      "  p = float(df_summary['p'])\n",
      "/tmp/ipykernel_4160600/3512376114.py:14: FutureWarning: Calling float on a single element Series is deprecated and will raise a TypeError in the future. Use float(ser.iloc[0]) instead\n",
      "  p = float(df_summary['p'])\n",
      "/tmp/ipykernel_4160600/3512376114.py:14: FutureWarning: Calling float on a single element Series is deprecated and will raise a TypeError in the future. Use float(ser.iloc[0]) instead\n",
      "  p = float(df_summary['p'])\n",
      "/tmp/ipykernel_4160600/3512376114.py:14: FutureWarning: Calling float on a single element Series is deprecated and will raise a TypeError in the future. Use float(ser.iloc[0]) instead\n",
      "  p = float(df_summary['p'])\n",
      "/tmp/ipykernel_4160600/3512376114.py:14: FutureWarning: Calling float on a single element Series is deprecated and will raise a TypeError in the future. Use float(ser.iloc[0]) instead\n",
      "  p = float(df_summary['p'])\n",
      "/tmp/ipykernel_4160600/3512376114.py:14: FutureWarning: Calling float on a single element Series is deprecated and will raise a TypeError in the future. Use float(ser.iloc[0]) instead\n",
      "  p = float(df_summary['p'])\n",
      "/tmp/ipykernel_4160600/3512376114.py:14: FutureWarning: Calling float on a single element Series is deprecated and will raise a TypeError in the future. Use float(ser.iloc[0]) instead\n",
      "  p = float(df_summary['p'])\n",
      "/tmp/ipykernel_4160600/3512376114.py:14: FutureWarning: Calling float on a single element Series is deprecated and will raise a TypeError in the future. Use float(ser.iloc[0]) instead\n",
      "  p = float(df_summary['p'])\n",
      "/tmp/ipykernel_4160600/3512376114.py:14: FutureWarning: Calling float on a single element Series is deprecated and will raise a TypeError in the future. Use float(ser.iloc[0]) instead\n",
      "  p = float(df_summary['p'])\n",
      "/tmp/ipykernel_4160600/3512376114.py:14: FutureWarning: Calling float on a single element Series is deprecated and will raise a TypeError in the future. Use float(ser.iloc[0]) instead\n",
      "  p = float(df_summary['p'])\n",
      "/tmp/ipykernel_4160600/3512376114.py:14: FutureWarning: Calling float on a single element Series is deprecated and will raise a TypeError in the future. Use float(ser.iloc[0]) instead\n",
      "  p = float(df_summary['p'])\n",
      "/tmp/ipykernel_4160600/3512376114.py:14: FutureWarning: Calling float on a single element Series is deprecated and will raise a TypeError in the future. Use float(ser.iloc[0]) instead\n",
      "  p = float(df_summary['p'])\n",
      "/tmp/ipykernel_4160600/3512376114.py:14: FutureWarning: Calling float on a single element Series is deprecated and will raise a TypeError in the future. Use float(ser.iloc[0]) instead\n",
      "  p = float(df_summary['p'])\n",
      "/tmp/ipykernel_4160600/3512376114.py:14: FutureWarning: Calling float on a single element Series is deprecated and will raise a TypeError in the future. Use float(ser.iloc[0]) instead\n",
      "  p = float(df_summary['p'])\n",
      "/tmp/ipykernel_4160600/3512376114.py:14: FutureWarning: Calling float on a single element Series is deprecated and will raise a TypeError in the future. Use float(ser.iloc[0]) instead\n",
      "  p = float(df_summary['p'])\n",
      "/tmp/ipykernel_4160600/3512376114.py:14: FutureWarning: Calling float on a single element Series is deprecated and will raise a TypeError in the future. Use float(ser.iloc[0]) instead\n",
      "  p = float(df_summary['p'])\n",
      "/tmp/ipykernel_4160600/3512376114.py:14: FutureWarning: Calling float on a single element Series is deprecated and will raise a TypeError in the future. Use float(ser.iloc[0]) instead\n",
      "  p = float(df_summary['p'])\n",
      "/tmp/ipykernel_4160600/3512376114.py:14: FutureWarning: Calling float on a single element Series is deprecated and will raise a TypeError in the future. Use float(ser.iloc[0]) instead\n",
      "  p = float(df_summary['p'])\n",
      "/tmp/ipykernel_4160600/3512376114.py:14: FutureWarning: Calling float on a single element Series is deprecated and will raise a TypeError in the future. Use float(ser.iloc[0]) instead\n",
      "  p = float(df_summary['p'])\n",
      "/tmp/ipykernel_4160600/3512376114.py:14: FutureWarning: Calling float on a single element Series is deprecated and will raise a TypeError in the future. Use float(ser.iloc[0]) instead\n",
      "  p = float(df_summary['p'])\n",
      "/tmp/ipykernel_4160600/3512376114.py:14: FutureWarning: Calling float on a single element Series is deprecated and will raise a TypeError in the future. Use float(ser.iloc[0]) instead\n",
      "  p = float(df_summary['p'])\n"
     ]
    },
    {
     "name": "stdout",
     "output_type": "stream",
     "text": [
      "['Cl', 'Urea', 'Ca', 'Na', 'Scr', 'Albumin', 'SBP', 'DBP', 'age', 'diab', 'gfr']\n",
      "result saved as .//result/sta_cox_multi_stage1.xlsx\n"
     ]
    },
    {
     "name": "stderr",
     "output_type": "stream",
     "text": [
      "/tmp/ipykernel_4160600/3512376114.py:14: FutureWarning: Calling float on a single element Series is deprecated and will raise a TypeError in the future. Use float(ser.iloc[0]) instead\n",
      "  p = float(df_summary['p'])\n",
      "/tmp/ipykernel_4160600/3512376114.py:14: FutureWarning: Calling float on a single element Series is deprecated and will raise a TypeError in the future. Use float(ser.iloc[0]) instead\n",
      "  p = float(df_summary['p'])\n",
      "/tmp/ipykernel_4160600/3512376114.py:14: FutureWarning: Calling float on a single element Series is deprecated and will raise a TypeError in the future. Use float(ser.iloc[0]) instead\n",
      "  p = float(df_summary['p'])\n",
      "/tmp/ipykernel_4160600/3512376114.py:14: FutureWarning: Calling float on a single element Series is deprecated and will raise a TypeError in the future. Use float(ser.iloc[0]) instead\n",
      "  p = float(df_summary['p'])\n",
      "/tmp/ipykernel_4160600/3512376114.py:14: FutureWarning: Calling float on a single element Series is deprecated and will raise a TypeError in the future. Use float(ser.iloc[0]) instead\n",
      "  p = float(df_summary['p'])\n",
      "/tmp/ipykernel_4160600/3512376114.py:14: FutureWarning: Calling float on a single element Series is deprecated and will raise a TypeError in the future. Use float(ser.iloc[0]) instead\n",
      "  p = float(df_summary['p'])\n",
      "/tmp/ipykernel_4160600/3512376114.py:14: FutureWarning: Calling float on a single element Series is deprecated and will raise a TypeError in the future. Use float(ser.iloc[0]) instead\n",
      "  p = float(df_summary['p'])\n",
      "/tmp/ipykernel_4160600/3512376114.py:14: FutureWarning: Calling float on a single element Series is deprecated and will raise a TypeError in the future. Use float(ser.iloc[0]) instead\n",
      "  p = float(df_summary['p'])\n",
      "/tmp/ipykernel_4160600/3512376114.py:14: FutureWarning: Calling float on a single element Series is deprecated and will raise a TypeError in the future. Use float(ser.iloc[0]) instead\n",
      "  p = float(df_summary['p'])\n",
      "/tmp/ipykernel_4160600/3512376114.py:14: FutureWarning: Calling float on a single element Series is deprecated and will raise a TypeError in the future. Use float(ser.iloc[0]) instead\n",
      "  p = float(df_summary['p'])\n",
      "/tmp/ipykernel_4160600/3512376114.py:14: FutureWarning: Calling float on a single element Series is deprecated and will raise a TypeError in the future. Use float(ser.iloc[0]) instead\n",
      "  p = float(df_summary['p'])\n",
      "/tmp/ipykernel_4160600/3512376114.py:14: FutureWarning: Calling float on a single element Series is deprecated and will raise a TypeError in the future. Use float(ser.iloc[0]) instead\n",
      "  p = float(df_summary['p'])\n",
      "/tmp/ipykernel_4160600/3512376114.py:14: FutureWarning: Calling float on a single element Series is deprecated and will raise a TypeError in the future. Use float(ser.iloc[0]) instead\n",
      "  p = float(df_summary['p'])\n",
      "/tmp/ipykernel_4160600/3512376114.py:14: FutureWarning: Calling float on a single element Series is deprecated and will raise a TypeError in the future. Use float(ser.iloc[0]) instead\n",
      "  p = float(df_summary['p'])\n",
      "/tmp/ipykernel_4160600/3512376114.py:14: FutureWarning: Calling float on a single element Series is deprecated and will raise a TypeError in the future. Use float(ser.iloc[0]) instead\n",
      "  p = float(df_summary['p'])\n",
      "/tmp/ipykernel_4160600/3512376114.py:14: FutureWarning: Calling float on a single element Series is deprecated and will raise a TypeError in the future. Use float(ser.iloc[0]) instead\n",
      "  p = float(df_summary['p'])\n",
      "/tmp/ipykernel_4160600/3512376114.py:14: FutureWarning: Calling float on a single element Series is deprecated and will raise a TypeError in the future. Use float(ser.iloc[0]) instead\n",
      "  p = float(df_summary['p'])\n",
      "/tmp/ipykernel_4160600/3512376114.py:14: FutureWarning: Calling float on a single element Series is deprecated and will raise a TypeError in the future. Use float(ser.iloc[0]) instead\n",
      "  p = float(df_summary['p'])\n",
      "/tmp/ipykernel_4160600/3512376114.py:14: FutureWarning: Calling float on a single element Series is deprecated and will raise a TypeError in the future. Use float(ser.iloc[0]) instead\n",
      "  p = float(df_summary['p'])\n"
     ]
    },
    {
     "name": "stdout",
     "output_type": "stream",
     "text": [
      "['Scr', 'Albumin', 'Glucose', 'Appetite', 'DBP', 'age', 'diab', 'gfr']\n",
      "result saved as .//result/sta_cox_multi_stage2.xlsx\n"
     ]
    },
    {
     "name": "stderr",
     "output_type": "stream",
     "text": [
      "/tmp/ipykernel_4160600/3512376114.py:14: FutureWarning: Calling float on a single element Series is deprecated and will raise a TypeError in the future. Use float(ser.iloc[0]) instead\n",
      "  p = float(df_summary['p'])\n",
      "/tmp/ipykernel_4160600/3512376114.py:14: FutureWarning: Calling float on a single element Series is deprecated and will raise a TypeError in the future. Use float(ser.iloc[0]) instead\n",
      "  p = float(df_summary['p'])\n",
      "/tmp/ipykernel_4160600/3512376114.py:14: FutureWarning: Calling float on a single element Series is deprecated and will raise a TypeError in the future. Use float(ser.iloc[0]) instead\n",
      "  p = float(df_summary['p'])\n",
      "/tmp/ipykernel_4160600/3512376114.py:14: FutureWarning: Calling float on a single element Series is deprecated and will raise a TypeError in the future. Use float(ser.iloc[0]) instead\n",
      "  p = float(df_summary['p'])\n"
     ]
    }
   ],
   "source": [
    "visit_sta_first_df = pd.DataFrame(visit_sta_first,columns=labels_visit_sta)\n",
    "albumin_data_rounds = gconst.get_data_rounds(visit_sta_first_df['Albumin'])\n",
    "albumin_groups = gconst.get_data_rounds_indexs(visit_sta_first_df['Albumin'],albumin_data_rounds)\n",
    "\n",
    "# 不同albumin组的做cox，保存到 sta_cox_multi_stage_i.xlsx\n",
    "# do_cox_multi(pdid_656,visit_sta_first,days_656,labels_visit_sta,result_path,save=True)\n",
    "\n",
    "\n",
    "for stage in range(3):\n",
    "    # 统计 albumin_groups 中 值为 stage 的 index\n",
    "    cur_index = [i for i in range(len(pdid_656)) if albumin_groups[i] == stage ]\n",
    "    # 筛选值\n",
    "    cur_visit_sta_first = [visit_sta_first[i] for i in cur_index]\n",
    "    cur_days_656 = [days_656[i] for i in cur_index]\n",
    "    do_cox_multi(cur_index, cur_visit_sta_first,cur_days_656, labels_visit_sta, result_path=result_path, filename=f'sta_cox_multi_stage{stage}.xlsx',save=True)"
   ]
  },
  {
   "cell_type": "markdown",
   "metadata": {},
   "source": [
    "# about visits"
   ]
  },
  {
   "cell_type": "markdown",
   "metadata": {},
   "source": [
    "## statistc the visit"
   ]
  },
  {
   "cell_type": "code",
   "execution_count": 143,
   "metadata": {},
   "outputs": [
    {
     "name": "stdout",
     "output_type": "stream",
     "text": [
      "date_diet\n",
      "间隔90天 [656, 599, 563, 533, 517, 489, 469]\n",
      "间隔180天 [656, 563, 517, 469, 414, 364, 316]\n",
      "date_visit\n"
     ]
    }
   ],
   "source": [
    "#统计随访\n",
    "\n",
    "dates_visit = date_656\n",
    "dates_diet = [np.array(diet_sta[i])[:,0] for i in range(len(diet_sta))]\n",
    "date_first = [i[0] for i in dates_visit]\n",
    "dates = dates_diet\n",
    "\n",
    "def get_interval_count(dates,date_first,output=False,interval = 180):\n",
    "    '''统计一个患者最远有几次记录\n",
    "    @param dates: 所有患者的全部的随访/饮食记录的时间\n",
    "    @param date_first:所有患者的首次随访时间，作为初始点\n",
    "    @param output:是否输出\n",
    "    @param interval: 统计间隔，90/180\n",
    "    @return 记录属于第几段 '''\n",
    "    date_first = [datetime.datetime.strptime(i,'%Y/%m/%d') for i in date_first]\n",
    "    have6 = [0 for i in range(7)]\n",
    "    have6_180 = [0 for i in range(7)]\n",
    "    visit_count = []\n",
    "\n",
    "    for j in range(len(dates)):\n",
    "        cur_dates_str = dates[j]\n",
    "        # print(cur_dates_str)\n",
    "        cur_dates = [datetime.datetime.strptime(cur_date_str,'%Y/%m/%d') for cur_date_str in cur_dates_str]\n",
    "        \n",
    "        cur_dates_relative = [max(0,(cur_dates[i] - date_first[j]).days) for i in range(len(cur_dates))] # 记录时间 - 第一次就诊时间\n",
    "        cur_belong = [i // 90 for i in cur_dates_relative]\n",
    "        cur_belong_180 = [i // 180 for i in cur_dates_relative]\n",
    "        visit_count.append([i // interval for i in cur_dates_relative])\n",
    "        # if [i // interval for i in cur_dates_relative].count(-1)!=0:\n",
    "        #     print(\"no\",cur_dates_str)\n",
    "\n",
    "        for i in range(7):\n",
    "            if max(cur_belong)>=i:\n",
    "                have6[i] += 1\n",
    "        for i in range(7):\n",
    "            if max(cur_belong_180)>=i:\n",
    "                have6_180[i] += 1\n",
    "    \n",
    "    if output:\n",
    "        print(\"间隔90天\",have6)\n",
    "        print(\"间隔180天\",have6_180)\n",
    "    return visit_count\n",
    "print('date_diet')\n",
    "visit_count_diet = get_interval_count(dates_diet, date_first,output=True)\n",
    "print('date_visit')\n",
    "# visit_count_visit = get_interval_count(dates_visit, date_first,output=True)"
   ]
  },
  {
   "attachments": {},
   "cell_type": "markdown",
   "metadata": {},
   "source": [
    "## Discrete follow-up data"
   ]
  },
  {
   "cell_type": "code",
   "execution_count": 144,
   "metadata": {},
   "outputs": [
    {
     "name": "stdout",
     "output_type": "stream",
     "text": [
      "diet data, removed date\n"
     ]
    }
   ],
   "source": [
    "# 每位患者随访分7次，对应 0-36月，\n",
    "def get_time_average(data, interval_belong,max_interval_index = 7,filled=False):\n",
    "    '''对数据按时间间隔取平均\n",
    "    @param data: 数据 [p visit feature]\n",
    "    @param interval_belong: 数据对应的interval\n",
    "    @param max_interval_index: 最大的interval_index 如果是0-6个月，那就是7个interval\n",
    "    '''\n",
    "    if type(data[0][0][0]) is np.str_:\n",
    "        print('diet data, removed date')\n",
    "        data = [np.array(data_i)[:,1:] for data_i in data] # #去除第一列\n",
    "    \n",
    "    interval_data = [[[] for _ in range(max_interval_index)] for _ in range(len(interval_belong))]\n",
    "    # print(interval_data)\n",
    "    for i,(cur_p_data, cur_p_interval) in enumerate(zip(data,interval_belong)):\n",
    "        for j,  (cur_data, cur_interval) in enumerate(zip(cur_p_data, cur_p_interval)):\n",
    "            if cur_interval < max_interval_index:\n",
    "                interval_data[i][cur_interval].append(cur_data)\n",
    "        # 后向填充\n",
    "        if filled:\n",
    "            for j, cur_interval_data in enumerate(interval_data[i]):\n",
    "                if len(interval_data[i][j]) == 0:\n",
    "                    interval_data[i][j] += interval_data[i][j - 1]\n",
    "\n",
    "    # for p in range(656):\n",
    "    #     print([len(i) for i in interval_data[p]])\n",
    "    # 求平均\n",
    "    interval_data_average = [[[] for _ in range(max_interval_index)] for _ in range(len(interval_belong))]\n",
    "    for i,cur_p_interval_data in enumerate(interval_data):\n",
    "        for j, cur_interval_data in enumerate(cur_p_interval_data):\n",
    "            if(len(cur_interval_data)!= 0):\n",
    "                interval_data_average[i][j].append(np.mean(np.array(cur_interval_data,dtype=float),axis=0))\n",
    "    return interval_data_average\n",
    "\n",
    "interval_data = get_time_average(diet_sta,visit_count_diet)\n",
    "# print(interval_data[0])\n",
    "# for p in range(656):\n",
    "    # print([len(i) for i in interval_data[p]])\n",
    "# print(interval_data[0][0])\n",
    "# print(np.array(interval_data).shape)\n"
   ]
  },
  {
   "cell_type": "code",
   "execution_count": 145,
   "metadata": {},
   "outputs": [
    {
     "name": "stdout",
     "output_type": "stream",
     "text": [
      "diet data, removed date\n"
     ]
    }
   ],
   "source": [
    "interval_data_time_average = get_time_average(diet_sta,visit_count_diet,max_interval_index=100) #[656,100,1,26]"
   ]
  },
  {
   "cell_type": "code",
   "execution_count": 146,
   "metadata": {},
   "outputs": [
    {
     "name": "stdout",
     "output_type": "stream",
     "text": [
      "100\n",
      "(656, 27)\n"
     ]
    }
   ],
   "source": [
    "print(len(interval_data_time_average[0]))\n",
    "def get_time_average_for_p(time_average_data,):\n",
    "    '''数据类型 [656,100,1,26] 转换为 [656,26], 转换为[656,27]\n",
    "    '''\n",
    "    p_len = len(time_average_data)\n",
    "    diet_mean = []\n",
    "    for time_average_p in time_average_data:\n",
    "        cur_len ,cur_diet_visit = 0, []\n",
    "        for time_average_p_visit in time_average_p:\n",
    "            # print(111111)\n",
    "            # print(len(time_average_p_visit))\n",
    "            # print(time_average_p_visit)\n",
    "            if(len(time_average_p_visit)!=0):\n",
    "                cur_len += 1\n",
    "                cur_diet_visit.append(time_average_p_visit[0])\n",
    "        cur_diet_mean = np.array(cur_diet_visit).mean(axis=0)\n",
    "        diet_mean.append(cur_diet_mean)\n",
    "    diet_mean = np.array(diet_mean)\n",
    "    diet_mean = np.insert(diet_mean,0,[0 for _ in range(len(diet_mean))],axis = 1) # 第一列表示日期\n",
    "    return diet_mean\n",
    "diet_sta_mean_time = get_time_average_for_p(interval_data_time_average)\n",
    "\n",
    "print(diet_sta_mean_time.shape)\n",
    "\n"
   ]
  },
  {
   "cell_type": "code",
   "execution_count": null,
   "metadata": {},
   "outputs": [],
   "source": []
  },
  {
   "cell_type": "code",
   "execution_count": 147,
   "metadata": {},
   "outputs": [],
   "source": [
    "# # 对于每个指标，每个间隔，每位患者的数据\n",
    "def get_interval_data(data,labels,max_interval_index = 7):\n",
    "    if labels[0] == 'date':\n",
    "        labels = labels[1:]\n",
    "    # print(labels)\n",
    "    res = [[[] for _ in range(max_interval_index)] for _ in range(len(labels))]\n",
    "    for i, cur_p_data in enumerate(data):\n",
    "        # print(np.array(cur_p_data).shape)\n",
    "        for j, cur_p_interval in enumerate(cur_p_data):\n",
    "            if len(cur_p_interval) != 0:\n",
    "                for k, label in enumerate(labels):\n",
    "                    res[k][j].append(data[i][j][0][k])\n",
    "    return res\n",
    "        \n",
    "# labels = gconst.get_labels_statistics_diet()\n",
    "# res = get_interval_data(interval_data,labels)\n",
    "# print(np.array(res).shape)"
   ]
  },
  {
   "cell_type": "markdown",
   "metadata": {},
   "source": [
    "## avona test"
   ]
  },
  {
   "cell_type": "code",
   "execution_count": 148,
   "metadata": {},
   "outputs": [],
   "source": [
    "\n",
    "def avona(data,labels,result_path,filename='interval_diet_anova.xlsx',save=True):\n",
    "    '''对数据进行avona检验'''\n",
    "    if labels[0] == 'date':\n",
    "        labels = labels[1:]\n",
    "    res = {'col':labels,'p':[]}\n",
    "    Path(f'{result_path}interval_diet').mkdir(parents=True, exist_ok=True)\n",
    "    Path(f'{result_path}interval_diet/interval_diet_reg').mkdir(parents=True, exist_ok=True)\n",
    "    for i,label in enumerate(labels):\n",
    "        print(label)\n",
    "        cur_data = []\n",
    "        cur_label = []\n",
    "        for j, cur in enumerate(data[i]):\n",
    "            cur_data += cur\n",
    "            cur_label += [j for _ in range(len(cur))]\n",
    "        # print(len(cur_data),len(cur_label))\n",
    "        cur_data_concated = np.concatenate((np.array(cur_data,dtype=float).reshape(-1,1),np.array(cur_label).reshape(-1,1)),axis=1)\n",
    "        cur_df = pd.DataFrame(cur_data_concated,columns=['data','group'])\n",
    "        # print(cur_df)\n",
    "        \n",
    "        model = ols(formula='data~group',data=cur_df).fit()\n",
    "        table = anova_lm(model,typ=1)\n",
    "        # print(table)\n",
    "        mc = MultiComparison(cur_df['data'],groups=cur_df['group'])\n",
    "        # print(mc.tukeyhsd(alpha=0.05))  \n",
    "        \n",
    "        res['p'].append(table['PR(>F)']['group']) # 均值记录\n",
    "        # sns.set_theme(style=\"whitegrid\")\n",
    "        sns.set_theme()\n",
    "        plt.figure(figsize=(6,4),dpi=200)\n",
    "        # sns.catplot(data=cur_df, x=\"group\", y=\"data\", zorder=1,kind=\"point\",capsize=.2, palette=\"YlGnBu_d\", errorbar=\"se\")\n",
    "\n",
    "        sns.violinplot(y=[float(i) for i in cur_df['data']],x=cur_label,bw=.15,palette=\"light:g\")\n",
    "\n",
    "        # sns.catplot(data=cur_df, x=\"group\", y=\"data\", zorder=1,palette=\"light:g\")\n",
    "        plt.title(f\"{label} (p = {table['PR(>F)']['group']:.2f})\")\n",
    "        plt.savefig(f'{result_path}interval_diet/{label}.png')\n",
    "        plt.close()\n",
    "\n",
    "        plt.figure(figsize=(6,6),dpi=200)\n",
    "        # plt.figure()\n",
    "        # sns.regplot(xdata=cur_df, x=\"group\", y=\"data\",scatter=False, truncate=False, order=2, color=\".2\",x_ci='sd')\n",
    "        ax = sns.catplot(data=cur_df, x=\"group\", y=\"data\", kind=\"point\",capsize=.2, palette=\"YlGnBu_d\", errorbar=\"se\")\n",
    "        # sns.relplot(data=cur_df, x=\"group\", y=\"data\",)\n",
    "        # ax.fig.suptitle(\"title\")\n",
    "        ax.fig.suptitle(f\"{label} (p = {table['PR(>F)']['group']:.2f})\")\n",
    "        # plt.title(f\"{label} (p = {table['PR(>F)']['group']:.2f})\")\n",
    "        plt.savefig(f'{result_path}interval_diet/interval_diet_reg/{label}.png')\n",
    "        plt.close()\n",
    "        # break\n",
    "    if save:\n",
    "        filename = f'{result_path}interval_diet_anova.xlsx'\n",
    "        with pd.ExcelWriter(filename) as writer:\n",
    "            pd.DataFrame(res).to_excel(writer,float_format='%.4f')\n",
    "            print(f'result saved as {filename}')\n",
    "    return res\n",
    "# avona_res = avona(res,labels,result_path)"
   ]
  },
  {
   "cell_type": "markdown",
   "metadata": {},
   "source": [
    "## Subdietary Indicators, High, Medium, Low, Test Medical Indicator Changes"
   ]
  },
  {
   "cell_type": "code",
   "execution_count": 150,
   "metadata": {},
   "outputs": [
    {
     "name": "stdout",
     "output_type": "stream",
     "text": [
      "diet data, removed date\n",
      "ok\n",
      "26\n"
     ]
    }
   ],
   "source": [
    "dates_visit = date_656\n",
    "dates_diet = [np.array(diet_sta[i])[:,0] for i in range(len(diet_sta))]\n",
    "date_first = [i[0] for i in dates_visit]\n",
    "# 获取36个月随访饮食指标，并求平均\n",
    "interval_diet_all = get_interval_count(dates_diet, date_first,output=False)\n",
    "# print(interval_diet_all)\n",
    "interval_diet_average = get_time_average(diet_sta,interval_diet_all)\n",
    "# 饮食指标分高中低档，每个指标，每个interval，找到患者和高中低档的对应关系\n",
    "\n",
    "\n",
    "# 获取36个月医疗指标，并求平均\n",
    "interval_visit_all = get_interval_count(dates_visit, date_first,output=False)\n",
    "# print(interval_visit_all)\n",
    "print('ok')\n",
    "\n",
    "interval_visit_average = get_time_average(visit_sta,interval_visit_all)\n",
    "# print(interval_visit_average[0])\n",
    "print(len(interval_diet_average[0][0][0]))\n",
    "# 分别统计7个阶段医疗指标\n",
    "# 检验"
   ]
  },
  {
   "cell_type": "code",
   "execution_count": 151,
   "metadata": {},
   "outputs": [],
   "source": [
    "def get_average_missing(interval_data_average,pdid):\n",
    "    '''存在缺失数据的情况下获取平均值。如果有的患者没有记录，则用其他患者的均值补充，有3位患者没有记录。\n",
    "    @param interval_data_average: 656 7 1 25 （1有可能是0）\n",
    "    @param pdid: 患者id\n",
    "    @return diet_average: 每位患者的饮食营养平均值 656 25 '''\n",
    "    diet_average = []\n",
    "    indexs_miss = []\n",
    "    for i in range(len(pdid)):\n",
    "        avg_cur = []    \n",
    "        for j in range(7):\n",
    "            if len(interval_data_average[i][j]) != 0:\n",
    "                # print(len(interval_diet_average[i][j][0]))\n",
    "                avg_cur.append(interval_data_average[i][j][0])\n",
    "        # print(len(avg_cur))\n",
    "        if(len(avg_cur)!= 0):\n",
    "            diet_average.append(np.mean(avg_cur,axis=0))\n",
    "        else:\n",
    "            indexs_miss.append(i)\n",
    "        # break\n",
    "    diet_average_allmean = np.mean(diet_average,axis=0)\n",
    "    for i in indexs_miss:\n",
    "        diet_average.insert(i,diet_average_allmean)\n",
    "    # for i in indexs_miss:\n",
    "    #     print(diet_average[i])\n",
    "    return np.array(diet_average)"
   ]
  },
  {
   "cell_type": "code",
   "execution_count": 153,
   "metadata": {},
   "outputs": [
    {
     "name": "stdout",
     "output_type": "stream",
     "text": [
      "(656, 27)\n",
      "['date', 'water', 'protein', 'fat', 'carbohydrate', 'Calories', 'df', 'k', 'na', 'mg', 'ca', 'p', 'fe', 'zn', 'cu', 'mn', 'se', 'retinol', 'vitaminA', 'carotene', 'vitaminE', 'thiamine', 'riboflavin', 'nicotinic', 'ascorbic', 'dpi', 'dei']\n",
      "27\n"
     ]
    }
   ],
   "source": [
    "print(np.array(diet_sta_first).shape)\n",
    "print(labels_diet_sta)\n",
    "print(len(diet_sta[0][0]))\n"
   ]
  },
  {
   "cell_type": "markdown",
   "metadata": {},
   "source": [
    "# output table"
   ]
  },
  {
   "cell_type": "code",
   "execution_count": 154,
   "metadata": {},
   "outputs": [
    {
     "name": "stdout",
     "output_type": "stream",
     "text": [
      "(656, 52)\n",
      "['stage', 'water', 'protein', 'fat', 'carbohydrate', 'Calories', 'df', 'k', 'na', 'mg', 'ca', 'p', 'fe', 'zn', 'cu', 'mn', 'se', 'retinol', 'vitaminA', 'carotene', 'vitaminE', 'thiamine', 'riboflavin', 'nicotinic', 'ascorbic', 'dpi', 'dei', 'Cl', 'CO2CP', 'WBC', 'Hb', 'Urea', 'Ca', 'K', 'Na', 'Scr', 'P', 'Albumin', 'hsCRP', 'Glucose', 'Appetite', 'Weight', 'SBP', 'DBP', 'age', 'gender', 'diab', 'height', 'bmi', 'gfr', 'live_time', 'death']\n",
      "217\n",
      "result saved as .//result/statistics_r/group_data_time_new/group_by_Albumin_0.csv\n",
      "222\n",
      "result saved as .//result/statistics_r/group_data_time_new/group_by_Albumin_1.csv\n",
      "217\n",
      "result saved as .//result/statistics_r/group_data_time_new/group_by_Albumin_2.csv\n",
      "656\n",
      "result saved as .//result/statistics_r/group_data_time_new/group_by_Albumin_3.csv\n"
     ]
    }
   ],
   "source": [
    "# 输出表格 diet_mean visit_first event livetime\n",
    "# ['date', 'water', 'protein', 'fat', 'carbohydrate', 'Calories', 'df', 'k', 'na', 'mg', 'ca', 'p', 'fe', 'zn', 'cu', 'mn', 'se', 'retinol', 'vitaminA', 'carotene', 'vitaminE', 'thiamine', 'riboflavin', 'nicotinic', 'ascorbic', 'dpi', 'dei']\n",
    "\n",
    "def output_groupby(group_by,q,labels_visit,labels_diet,visit_data,diet_data,days,pdid,result_path):\n",
    "    '''按照group_by分组，输出数据'''\n",
    "\n",
    "\n",
    "    \n",
    "    diet_data = np.array(diet_data)\n",
    "    visit_data_events,labels_appended = append_livedatas(pdid,visit_data,days,labels_visit)\n",
    "    visit_data_events = np.array(visit_data_events)\n",
    "    \n",
    "    # 删除date一列\n",
    "    if labels_diet[0] == 'date':\n",
    "        labels_diet = labels_diet[1:]\n",
    "        diet_data = diet_data[:,1:]\n",
    "    \n",
    "    # \n",
    "    pos = labels_appended.index('hs-CRP')\n",
    "    labels_appended[pos] = 'hsCRP'\n",
    "\n",
    "    group_targets = np.array(visit_sta_first)[:,labels_visit_sta.index(group_by)]\n",
    "    data_rounds = gconst.get_data_rounds(group_targets,f\"q{q}\")\n",
    "    data_rounds_index = gconst.get_data_rounds_indexs(group_targets,data_rounds)\n",
    "    # medium_time = get_medium_time(pdid_656,visit_sta_first,days_656,result_path,save,['age'],3)\n",
    "    # print(medium_time)\n",
    "    data_labels = ['stage'] + labels_diet + labels_appended\n",
    "    groups = np.array(data_rounds_index,dtype=str).reshape(-1,1)\n",
    "    datas = np.concatenate((groups, diet_data, visit_data_events),axis = 1)\n",
    "    print(datas.shape)\n",
    "    print(data_labels)\n",
    "    datas_df = pd.DataFrame(datas,columns=data_labels)\n",
    "    div_dict = {'water':100,'protein':1,'fat':10,\n",
    "                'carbohydrate':1,'Calories':10,'df':1,'k':10,'na':100,\n",
    "                'mg':10,'ca':100,'p':10,'fe':1,'zn':1,'cu':1,\n",
    "                'mn':1,'se':1,'retinol':10,'vitaminA':100,\n",
    "                'carotene':100,'vitaminE':1,'thiamine':1,'riboflavin':1,\n",
    "                'nicotinic':1,'ascorbic':1,'dpi':0.1,'dei':1,'hsCRP':1}\n",
    "    for key in div_dict.keys():\n",
    "        datas_df[key] = datas_df[key].astype(float) / div_dict[key]\n",
    "        # datas_df[key] = datas_df[key].astype(float) / 1\n",
    "    \n",
    "\n",
    "    for gr in range(q + 1):\n",
    "        cur_df = datas_df[datas_df['stage'] == str(gr)]\n",
    "        if gr == q:\n",
    "            cur_df = datas_df\n",
    "        print(len(cur_df))\n",
    "        filename = f'{result_path}group_by_{group_by}_{gr}.csv'\n",
    "\n",
    "\n",
    "        \n",
    "        \n",
    "        \n",
    "        cur_df.to_csv(filename, index=False)\n",
    "        print(f'result saved as {filename}')\n",
    "\n",
    "\n",
    "\n",
    "        # 分别保存\n",
    "        for diet_label in labels_diet:\n",
    "            sub_labels = ['stage',diet_label] + labels_appended\n",
    "            sub_df = cur_df[sub_labels]\n",
    "            \n",
    "            sub_df.columns = ['stage','data_col'] + labels_appended\n",
    "            # remove stage\n",
    "            sub_df = sub_df.drop(columns=['stage'])\n",
    "\n",
    "            filename = f'{result_path}group_by_{group_by}_{diet_label}_{gr}.csv'\n",
    "            sub_df.to_csv(filename, index=False)\n",
    "\n",
    "            # break\n",
    "\n",
    "target_groupby = ['Albumin','age','DBP','SBP','diab']\n",
    "target_q = [3,3,3,3,2]\n",
    "\n",
    "\n",
    "target_groupby = ['Albumin']\n",
    "target_q = [3]\n",
    "output_path = f'{project_path_prefix}/result/statistics_r/group_data_time_new/'\n",
    "Path(output_path).mkdir(parents=True, exist_ok=True)\n",
    "for (cur_groupby,cur_q) in zip(target_groupby,target_q):\n",
    "    # output_groupby(cur_groupby,cur_q,labels_visit_sta,labels_diet_sta,visit_sta_first,diet_sta_mean_time,days_656,pdid_656,result_path+'group_data_time/')\n",
    "    \n",
    "    output_groupby(cur_groupby,cur_q,labels_visit_sta,labels_diet_sta,visit_sta_first,diet_sta_mean_time,days_656,pdid_656,output_path)"
   ]
  },
  {
   "cell_type": "markdown",
   "metadata": {},
   "source": [
    "# Baseline information statistics"
   ]
  },
  {
   "cell_type": "code",
   "execution_count": 155,
   "metadata": {},
   "outputs": [
    {
     "name": "stdout",
     "output_type": "stream",
     "text": [
      "data rounds: [(19.9, 35.215), (35.215, 39.5), (39.5, 51.3)]\n",
      "data counter: Counter({1: 222, 0: 217, 2: 217})\n",
      "(656, 50) 50\n",
      "group 0.0\n",
      "sum of diabetes: 121.0, ratio: 0.56\n",
      "sum of female: 100.0, ratio: 0.46\n",
      "group 1.0\n",
      "sum of diabetes: 76.0, ratio: 0.34\n",
      "sum of female: 117.0, ratio: 0.53\n",
      "group 2.0\n",
      "sum of diabetes: 47.0, ratio: 0.22\n",
      "sum of female: 110.0, ratio: 0.51\n",
      "group all\n",
      "sum of diabetes: 244.0, ratio: 0.37\n",
      "sum of female: 327.0, ratio: 0.50\n",
      "(49, 3) (49,) (49, 1)\n",
      "result saved as .//result/baseline_sta_Albumin.xlsx\n",
      "Albumin & g/L & 37.15 & 4.90 & 31.58 & 3.00 & 37.56 & 1.20 & 42.29 & 2.12 & <0.001 \\\\\n",
      "Age & year & 59.11 & 15.78 & 63.39 & 14.03 & 60.27 & 15.85 & 53.64 & 15.84 & <0.001 \\\\\n",
      "Gender & male & 0.50 & 0.50 & 0.54 & 0.50 & 0.47 & 0.50 & 0.49 & 0.50 & 0.34 \\\\\n",
      "Height & cm & 162.60 & 9.46 & 162.86 & 8.68 & 161.89 & 10.47 & 163.08 & 9.10 & 0.81 \\\\\n",
      "Weight & kg & 61.17 & 11.95 & 59.95 & 12.13 & 60.44 & 11.58 & 63.13 & 11.95 & <0.01 \\\\\n",
      "BMI & - & 23.19 & 5.89 & 22.50 & 3.66 & 23.42 & 8.71 & 23.66 & 3.67 & 0.04 \\\\\n",
      "Diab & yes & 0.37 & 0.48 & 0.56 & 0.50 & 0.34 & 0.48 & 0.22 & 0.41 & <0.001 \\\\\n",
      "SBP & mmHg & 135.65 & 21.38 & 137.24 & 21.97 & 135.15 & 21.69 & 134.58 & 20.44 & 0.19 \\\\\n",
      "DBP & mmHg & 78.97 & 14.20 & 75.74 & 14.55 & 79.37 & 14.42 & 81.79 & 12.98 & <0.001 \\\\\n",
      "WBC & $\times 10^{9}$/L & 6.88 & 2.28 & 6.88 & 2.46 & 6.77 & 2.40 & 7.00 & 1.94 & 0.58 \\\\\n",
      "Hb & g/L & 108.11 & 21.78 & 104.12 & 20.54 & 109.05 & 21.70 & 111.15 & 22.55 & <0.001 \\\\\n",
      "Urea & mmol/L & 21.26 & 6.54 & 20.02 & 6.91 & 21.13 & 5.82 & 22.63 & 6.62 & <0.001 \\\\\n",
      "Scr & umol/L & 720.38 & 254.87 & 616.76 & 225.81 & 734.61 & 243.01 & 809.44 & 258.08 & <0.001 \\\\\n",
      "K & mmol/L & 4.33 & 0.78 & 4.23 & 0.87 & 4.32 & 0.73 & 4.45 & 0.70 & <0.01 \\\\\n",
      "Na & mmol/L & 139.17 & 4.87 & 138.51 & 7.06 & 139.13 & 3.66 & 139.88 & 2.71 & <0.01 \\\\\n",
      "Cl & mmol/L & 101.48 & 6.33 & 101.63 & 6.31 & 100.76 & 7.47 & 102.06 & 4.86 & 0.48 \\\\\n",
      "Ca & mmol/L & 2.24 & 0.84 & 2.09 & 0.28 & 2.25 & 0.29 & 2.39 & 1.39 & <0.001 \\\\\n",
      "P & mmol/L & 1.61 & 0.49 & 1.52 & 0.45 & 1.63 & 0.44 & 1.69 & 0.55 & <0.001 \\\\\n",
      "Hs-CRP & mg/L & 5.66 & 13.29 & 7.45 & 18.04 & 5.73 & 11.19 & 3.78 & 8.69 & <0.01 \\\\\n",
      "Glucose & mmol/L & 6.19 & 2.94 & 6.74 & 3.88 & 6.09 & 2.13 & 5.74 & 2.45 & <0.001 \\\\\n",
      "CO2CP & mmol/L & 25.87 & 4.44 & 26.56 & 4.33 & 26.13 & 4.42 & 24.93 & 4.43 & <0.001 \\\\\n",
      "Appetite & g & 3395.54 & 1092.43 & 3281.11 & 1031.30 & 3343.14 & 1092.89 & 3563.59 & 1135.29 & <0.01 \\\\\n",
      "GFR & ml/min & 0.06 & 0.60 & 0.12 & 1.04 & 0.04 & 0.01 & 0.03 & 0.02 & 0.14 \\\\\n",
      "Water &g/d & & 1520.81 & 572.28 & 1486.04 & 561.38 & 1490.19 & 585.03 & 1586.90 & 566.77 & 0.07 \\\\\n",
      "Protein &g/d & & 52.01 & 18.30 & 51.40 & 17.36 & 50.96 & 18.89 & 53.69 & 18.57 & 0.19 \\\\\n",
      "Fat &g/d & & 58.32 & 24.01 & 57.85 & 23.15 & 56.65 & 22.79 & 60.49 & 25.93 & 0.25 \\\\\n",
      "Carbohydrate &g/d & & 214.39 & 82.84 & 197.58 & 70.78 & 214.50 & 82.95 & 231.09 & 90.52 & <0.001 \\\\\n",
      "Calories &kcal/d & & 1544.92 & 523.92 & 1471.84 & 477.13 & 1528.79 & 518.59 & 1634.50 & 562.02 & <0.01 \\\\\n",
      "Df &g/d & & 9.89 & 5.90 & 9.18 & 4.37 & 10.04 & 5.86 & 10.44 & 7.10 & 0.03 \\\\\n",
      "K &mg/d & & 1475.64 & 591.13 & 1431.76 & 543.80 & 1457.93 & 625.32 & 1537.64 & 598.10 & 0.06 \\\\\n",
      "Na &mg/d & & 2307.36 & 1182.15 & 2432.96 & 1285.46 & 2267.54 & 1207.20 & 2222.48 & 1034.19 & 0.06 \\\\\n",
      "Mg &mg/d & & 246.99 & 98.91 & 239.63 & 89.11 & 244.99 & 100.59 & 256.40 & 105.96 & 0.08 \\\\\n",
      "Ca &mg/d & & 445.67 & 230.32 & 457.24 & 248.81 & 423.02 & 213.19 & 457.28 & 227.29 & 1.00 \\\\\n",
      "P &mg/d & & 792.38 & 283.65 & 779.30 & 264.41 & 783.71 & 282.33 & 814.33 & 302.94 & 0.20 \\\\\n",
      "Fe &mg/d & & 15.29 & 6.58 & 14.86 & 5.75 & 15.36 & 7.16 & 15.65 & 6.72 & 0.21 \\\\\n",
      "Zn &mg/d & & 7.87 & 3.33 & 7.80 & 3.15 & 7.89 & 3.57 & 7.93 & 3.26 & 0.67 \\\\\n",
      "Cu &mg/d & & 1.33 & 0.89 & 1.19 & 0.76 & 1.28 & 0.63 & 1.51 & 1.16 & <0.001 \\\\\n",
      "Mn &mg/d & & 3.93 & 1.86 & 3.64 & 1.58 & 3.97 & 1.94 & 4.18 & 2.00 & <0.01 \\\\\n",
      "Se &mg/d & & 36.77 & 21.34 & 35.62 & 16.06 & 35.34 & 15.07 & 39.39 & 29.68 & 0.07 \\\\\n",
      "Retinol &ug/d & & 166.30 & 207.21 & 177.98 & 179.76 & 165.28 & 245.23 & 155.67 & 190.00 & 0.26 \\\\\n",
      "VitaminA &ugRAE/d & & 463.23 & 392.35 & 461.16 & 401.21 & 471.56 & 416.81 & 456.78 & 357.71 & 0.91 \\\\\n",
      "Carotene &ug/d & & 1743.30 & 1978.37 & 1671.51 & 2068.62 & 1769.53 & 2071.96 & 1788.24 & 1785.82 & 0.54 \\\\\n",
      "VitaminE &mg/d & & 20.96 & 12.88 & 20.74 & 14.13 & 20.10 & 11.63 & 22.05 & 12.75 & 0.29 \\\\\n",
      "Thiamine &mg/d & & 1.66 & 10.08 & 1.98 & 12.96 & 1.16 & 3.71 & 1.86 & 11.22 & 0.90 \\\\\n",
      "Riboflavin &mg/d & & 1.73 & 9.85 & 2.11 & 12.86 & 1.22 & 3.38 & 1.88 & 10.80 & 0.81 \\\\\n",
      "Nicotinic &mg/d & & 11.98 & 6.00 & 11.61 & 5.17 & 12.13 & 6.76 & 12.20 & 5.94 & 0.31 \\\\\n",
      "Ascorbic &mg/d & & 88.58 & 72.44 & 83.90 & 71.42 & 85.61 & 68.44 & 96.31 & 76.99 & 0.07 \\\\\n",
      "DPI &g/(kg·d) & & 0.91 & 0.30 & 0.89 & 0.29 & 0.89 & 0.31 & 0.93 & 0.29 & 0.19 \\\\\n",
      "DEI &kcal/(kg·d) & & 26.93 & 8.58 & 25.60 & 8.12 & 26.88 & 8.71 & 28.32 & 8.72 & <0.001 \\\\\n",
      "data rounds: [(22.918181818181818, 35.99272522522523), (35.99272522522523, 38.768606557377055), (38.768606557377055, 49.0)]\n",
      "data counter: Counter({2: 223, 0: 217, 1: 216})\n",
      "(656, 50) 50\n",
      "group 0.0\n",
      "sum of diabetes: 103.0, ratio: 0.47\n",
      "sum of female: 101.0, ratio: 0.47\n",
      "group 1.0\n",
      "sum of diabetes: 90.0, ratio: 0.42\n",
      "sum of female: 116.0, ratio: 0.54\n",
      "group 2.0\n",
      "sum of diabetes: 51.0, ratio: 0.23\n",
      "sum of female: 110.0, ratio: 0.49\n",
      "group all\n",
      "sum of diabetes: 244.0, ratio: 0.37\n",
      "sum of female: 327.0, ratio: 0.50\n",
      "(49, 3) (49,) (49, 1)\n",
      "result saved as .//result/baseline_mean_sta_Albumin.xlsx\n",
      "Albumin & g/L & 37.36 & 3.50 & 33.54 & 2.09 & 37.39 & 0.76 & 41.06 & 1.80 & <0.001 \\\\\n",
      "Age & year & 61.12 & 15.59 & 68.20 & 13.87 & 63.34 & 14.26 & 52.07 & 14.03 & <0.001 \\\\\n",
      "Gender & male & 0.50 & 0.50 & 0.53 & 0.50 & 0.46 & 0.50 & 0.51 & 0.50 & 0.57 \\\\\n",
      "Height & cm & 162.60 & 9.46 & 162.21 & 10.43 & 161.77 & 8.74 & 163.80 & 9.03 & 0.07 \\\\\n",
      "Weight & kg & 61.68 & 11.56 & 60.33 & 11.84 & 61.50 & 11.13 & 63.17 & 11.55 & <0.01 \\\\\n",
      "BMI & - & 23.38 & 5.52 & 23.23 & 8.28 & 23.43 & 3.40 & 23.47 & 3.45 & 0.65 \\\\\n",
      "Diab & yes & 0.37 & 0.48 & 0.47 & 0.50 & 0.42 & 0.49 & 0.23 & 0.42 & <0.001 \\\\\n",
      "SBP & mmHg & 133.37 & 15.84 & 131.43 & 19.48 & 133.87 & 12.53 & 134.76 & 14.59 & 0.03 \\\\\n",
      "DBP & mmHg & 77.25 & 10.61 & 72.84 & 10.83 & 76.21 & 9.28 & 82.54 & 9.28 & <0.001 \\\\\n",
      "WBC & $\times 10^{9}$/L & 8.45 & 19.15 & 10.07 & 33.19 & 7.75 & 1.85 & 7.55 & 1.90 & 0.17 \\\\\n",
      "Hb & g/L & 113.76 & 12.04 & 112.88 & 13.24 & 113.60 & 10.67 & 114.78 & 12.02 & 0.10 \\\\\n",
      "Urea & mmol/L & 20.00 & 4.31 & 18.92 & 4.08 & 20.12 & 4.31 & 20.94 & 4.30 & <0.001 \\\\\n",
      "Scr & umol/L & 817.47 & 239.41 & 708.38 & 189.61 & 802.02 & 214.59 & 938.60 & 250.86 & <0.001 \\\\\n",
      "K & mmol/L & 4.29 & 0.45 & 4.19 & 0.45 & 4.30 & 0.42 & 4.39 & 0.46 & <0.001 \\\\\n",
      "Na & mmol/L & 138.53 & 2.42 & 138.03 & 2.72 & 138.45 & 2.36 & 139.08 & 2.04 & <0.001 \\\\\n",
      "Cl & mmol/L & 98.37 & 3.33 & 98.51 & 3.23 & 98.00 & 3.19 & 98.58 & 3.54 & 0.82 \\\\\n",
      "Ca & mmol/L & 2.36 & 0.25 & 2.29 & 0.22 & 2.37 & 0.21 & 2.42 & 0.31 & <0.001 \\\\\n",
      "P & mmol/L & 1.58 & 0.29 & 1.50 & 0.28 & 1.59 & 0.28 & 1.66 & 0.30 & <0.001 \\\\\n",
      "Hs-CRP & mg/L & 8.75 & 10.82 & 12.43 & 14.89 & 8.00 & 7.16 & 5.89 & 7.60 & <0.001 \\\\\n",
      "Glucose & mmol/L & 6.72 & 2.30 & 7.11 & 2.40 & 6.96 & 2.44 & 6.10 & 1.94 & <0.001 \\\\\n",
      "CO2CP & mmol/L & 27.26 & 2.10 & 27.49 & 2.15 & 27.41 & 1.82 & 26.89 & 2.26 & <0.01 \\\\\n",
      "Appetite & g & 3420.86 & 994.86 & 3194.10 & 821.65 & 3424.64 & 940.21 & 3637.85 & 1144.39 & <0.001 \\\\\n",
      "GFR & ml/min & 0.06 & 0.33 & 0.08 & 0.53 & 0.06 & 0.21 & 0.04 & 0.07 & 0.17 \\\\\n",
      "Water &g/d & & 1512.00 & 522.61 & 1441.07 & 471.74 & 1518.35 & 495.35 & 1574.88 & 585.45 & <0.01 \\\\\n",
      "Protein &g/d & & 52.52 & 15.78 & 49.91 & 13.48 & 52.50 & 14.43 & 55.09 & 18.50 & <0.001 \\\\\n",
      "Fat &g/d & & 61.28 & 17.76 & 58.63 & 17.49 & 61.71 & 16.84 & 63.45 & 18.61 & <0.01 \\\\\n",
      "Carbohydrate &g/d & & 215.34 & 68.68 & 192.29 & 54.77 & 216.08 & 64.83 & 237.06 & 77.04 & <0.001 \\\\\n",
      "Calories &kcal/d & & 1582.30 & 450.26 & 1451.05 & 374.35 & 1593.96 & 423.44 & 1698.71 & 507.52 & <0.001 \\\\\n",
      "Df &g/d & & 10.18 & 3.75 & 9.03 & 3.42 & 10.52 & 3.86 & 10.96 & 3.69 & <0.001 \\\\\n",
      "K &mg/d & & 1493.33 & 481.10 & 1388.68 & 428.49 & 1525.76 & 503.01 & 1563.75 & 492.45 & <0.001 \\\\\n",
      "Na &mg/d & & 2595.51 & 925.01 & 2511.73 & 892.66 & 2628.97 & 879.93 & 2644.62 & 994.49 & 0.13 \\\\\n",
      "Mg &mg/d & & 253.39 & 80.37 & 236.79 & 75.59 & 257.28 & 76.78 & 265.78 & 85.72 & <0.001 \\\\\n",
      "Ca &mg/d & & 437.14 & 168.42 & 447.75 & 184.32 & 441.10 & 163.93 & 422.98 & 155.83 & 0.12 \\\\\n",
      "P &mg/d & & 799.52 & 244.67 & 764.02 & 220.35 & 804.01 & 227.36 & 829.70 & 277.75 & <0.01 \\\\\n",
      "Fe &mg/d & & 15.70 & 5.17 & 14.72 & 4.94 & 15.75 & 4.75 & 16.59 & 5.60 & <0.001 \\\\\n",
      "Zn &mg/d & & 8.18 & 2.87 & 7.77 & 2.51 & 8.26 & 2.65 & 8.49 & 3.34 & <0.01 \\\\\n",
      "Cu &mg/d & & 1.26 & 0.44 & 1.15 & 0.38 & 1.27 & 0.41 & 1.37 & 0.49 & <0.001 \\\\\n",
      "Mn &mg/d & & 3.92 & 1.56 & 3.51 & 1.27 & 3.96 & 1.38 & 4.28 & 1.87 & <0.001 \\\\\n",
      "Se &mg/d & & 35.71 & 11.36 & 34.44 & 10.95 & 34.96 & 10.25 & 37.68 & 12.50 & <0.01 \\\\\n",
      "Retinol &ug/d & & 166.44 & 152.01 & 193.04 & 208.15 & 152.79 & 99.26 & 153.78 & 124.27 & <0.01 \\\\\n",
      "VitaminA &ugRAE/d & & 469.28 & 272.27 & 473.60 & 314.27 & 469.66 & 248.05 & 464.70 & 251.00 & 0.73 \\\\\n",
      "Carotene &ug/d & & 1705.64 & 1228.01 & 1503.12 & 1238.72 & 1786.06 & 1211.35 & 1824.82 & 1214.32 & <0.01 \\\\\n",
      "VitaminE &mg/d & & 21.99 & 9.31 & 19.82 & 7.89 & 22.43 & 8.67 & 23.68 & 10.71 & <0.001 \\\\\n",
      "Thiamine &mg/d & & 1.24 & 3.73 & 1.90 & 6.25 & 0.85 & 1.16 & 0.96 & 1.07 & <0.01 \\\\\n",
      "Riboflavin &mg/d & & 1.32 & 3.58 & 2.01 & 6.00 & 0.96 & 1.05 & 1.00 & 0.96 & <0.01 \\\\\n",
      "Nicotinic &mg/d & & 12.45 & 5.15 & 11.59 & 4.41 & 12.43 & 4.51 & 13.32 & 6.19 & <0.001 \\\\\n",
      "Ascorbic &mg/d & & 88.43 & 48.69 & 80.11 & 51.27 & 91.20 & 45.00 & 93.84 & 48.69 & <0.01 \\\\\n",
      "DPI &g/(kg·d) & & 0.92 & 0.26 & 0.88 & 0.24 & 0.93 & 0.24 & 0.94 & 0.29 & <0.01 \\\\\n",
      "DEI &kcal/(kg·d) & & 27.60 & 7.37 & 25.44 & 6.70 & 28.29 & 7.13 & 29.04 & 7.76 & <0.001 \\\\\n"
     ]
    }
   ],
   "source": [
    "import collections\n",
    "# 按基线白蛋白分组\n",
    "def get_labels_dict_statistics_diet_for_tab():\n",
    "    return {'date': 'Date', 'water': 'Water', 'protein': 'Protein', 'fat': 'Fat', 'carbohydrate': 'Carbohydrate', 'Calories': 'Calories', 'df': 'Df', 'k': 'K', 'na': 'Na', 'mg': 'Mg', 'ca': 'Ca', 'p': 'P', 'fe': 'Fe', 'zn': 'Zn', 'cu': 'Cu', 'mn': 'Mn', 'se': 'Se', 'retinol': 'Retinol', 'vitaminA': 'VitaminA', 'carotene': 'Carotene', 'vitaminE': 'VitaminE', 'thiamine': 'Thiamine', 'riboflavin': 'Riboflavin', 'nicotinic': 'Nicotinic', 'ascorbic': 'Ascorbic', 'dpi': 'DPI', 'dei': 'DEI'}\n",
    "def get_baseline_sta_group_by(visit_first,diet_first,labels_visit,labels_diet,resule_path, target_col = 'Albumin',q=3,filename='baseline_sta.xlsx'):\n",
    "    pos = labels_visit.index('hs-CRP')\n",
    "    labels_visit = list(labels_visit)\n",
    "    labels_visit[pos] = 'hsCRP'\n",
    "\n",
    "    visit_first = np.array(visit_first)\n",
    "    if labels_diet[0] == 'date':\n",
    "        labels_diet = labels_diet[1:]\n",
    "        diet_first  = np.array(diet_first)[:,1:]\n",
    "    # 获取目标基线数据\n",
    "    target_data = visit_first[:,labels_visit.index(target_col)]\n",
    "    # 按目标基线数据分组\n",
    "    data_rounds = gconst.get_data_rounds(target_data,'q'+str(q))\n",
    "    data_stage = gconst.get_data_rounds_indexs(target_data,data_rounds)\n",
    "    print(f'data rounds: {data_rounds}')\n",
    "    counter = collections.Counter(data_stage)\n",
    "    print(f'data counter: {counter}')\n",
    "    # 患者分组 [col, datas]\n",
    "    data_merge = np.concatenate((visit_first,diet_first,np.array(data_stage).reshape(-1,1)),axis=1)\n",
    "    labels_merge = labels_visit + labels_diet + ['group']\n",
    "    print(data_merge.shape,len(labels_merge))\n",
    "    data_merge_df = pd.DataFrame(data_merge,dtype = float, columns=labels_merge)\n",
    "    grouped_data_df = data_merge_df.groupby('group')\n",
    "\n",
    "    # 对于每个group，输出一下\n",
    "    for group_index, group_data in grouped_data_df:\n",
    "        print(f'group {group_index}')\n",
    "        print(f'sum of diabetes: {sum(group_data[\"diab\"])}, ratio: {sum(group_data[\"diab\"])/len(group_data):.2f}')\n",
    "        print(f'sum of female: {len(group_data) - sum(group_data[\"gender\"])}, ratio: {(1 - sum(group_data[\"gender\"])/len(group_data)):.2f}')\n",
    "    # for all\n",
    "    print(f'group all')\n",
    "    print(f'sum of diabetes: {sum(data_merge_df[\"diab\"])}, ratio: {sum(data_merge_df[\"diab\"])/len(data_merge_df):.2f}')\n",
    "    print(f'sum of female: {len(data_merge_df) - sum(data_merge_df[\"gender\"])}, ratio: {(1 - sum(data_merge_df[\"gender\"])/len(data_merge_df)):.2f}')\n",
    "\n",
    "\n",
    "    means = grouped_data_df.mean()\n",
    "    stds = grouped_data_df.std()\n",
    "    mean_all = data_merge_df.mean().drop(labels=['group']) # 删除最后一行group\n",
    "    std_all = data_merge_df.std().drop(labels=['group'])\n",
    "    ps = []\n",
    "    group_ps = []\n",
    "    # 检验\n",
    "    for col in labels_visit + labels_diet:\n",
    "        model = ols(formula=f'{col}~group',data=data_merge_df).fit()\n",
    "        table = anova_lm(model,typ=1)\n",
    "        p_val = table['PR(>F)']['group']\n",
    "        ps.append(p_val)\n",
    "\n",
    "        mc = MultiComparison(data_merge_df[col],groups=data_merge_df['group'])\n",
    "        res_group = mc.tukeyhsd(alpha=0.05)\n",
    "        res_group = ['y' if i else 'n' for i in res_group.reject]\n",
    "        group_ps.append(''.join(res_group))\n",
    "        # print(group_ps)\n",
    "        # break\n",
    "    means, stds = means.transpose(), stds.transpose()\n",
    "    ps = pd.DataFrame(np.array(ps).reshape(-1,1),columns=['p'],index=means.index)\n",
    "    inner_ps = pd.DataFrame(np.array(group_ps).reshape(-1,1),columns=['inner_p'],index=means.index)\n",
    "    print(means.shape, mean_all.shape,ps.shape)\n",
    "    res = pd.concat([means,stds,mean_all,std_all,ps,inner_ps],axis=1)\n",
    "    res.columns = [f'mean{i}' for i in range(3)] + [f'std{i}' for i in range(3)] + ['mean3','std3','p','inner_p']\n",
    "\n",
    "    # 增加一列p_str, 如果p<0.001, p_str = \"<0.001\", 如果p<0.01, p_str = \"<0.01\",否则p_str = p\n",
    "    res['p_str'] = res['p'].apply(lambda x: '<0.001' if x < 0.001 else '<0.01' if x < 0.01 else f'{x:.2f}')\n",
    "    # 增加一列order, 用于排序, Albumin、age、gender、height、weight、BMI、diab、SBP、DBP、WBC、Hb、Urea、Scr、K、Na、Cl、P、hs-Crp、Glucose、CO2CP分别为1-20\n",
    "    res['unit'] = [\"mmol/L\", \"mmol/L\", \"$\\times 10^{9}$/L\", \"g/L\", \"mmol/L\", \"mmol/L\", \"mmol/L\", \"mmol/L\", \"umol/L\", \"mmol/L\", \"g/L\", \"mg/L\", \"mmol/L\",\"g\", \"kg\", \"mmHg\", \"mmHg\", \"year\", \"male\", \"yes\", \"cm\", \"-\", \"ml/min\", \"g/d\", \"g/d\", \"g/d\", \"g/d\", \"kcal/d\", \"g/d\", \"mg/d\", \"mg/d\", \"mg/d\", \"mg/d\", \"mg/d\", \"mg/d\", \"mg/d\", \"mg/d\", \"mg/d\", \"mg/d\", \"ug/d\", \"ugRAE/d\", \"ug/d\", \"mg/d\", \"mg/d\", \"mg/d\", \"mg/d\", \"mg/d\", \"g/(kg·d)\", \"kcal/(kg·d)\"]\n",
    "\n",
    "    order_list = [\n",
    "    'Albumin',  # 白蛋白\n",
    "    'age', 'gender', 'height', 'Weight', 'bmi', 'diab',  # 年龄、性别、身高、体重、BMI、糖尿病\n",
    "    'SBP', 'DBP',  # 收缩压、舒张压\n",
    "    'WBC', 'Hb', 'Urea', 'Scr', 'K', 'Na', 'Cl', 'Ca', 'P', 'hsCRP', 'Glucose', 'CO2CP',  # 白细胞计数、血红蛋白、尿素、血清肌酐、钾、钠、氯、钙、磷、高敏C反应蛋白、葡萄糖、二氧化碳结合能力\n",
    "    'Appetite', 'gfr'  # 食欲、肾小球滤过率\n",
    "    ]\n",
    "\n",
    "    visit_labels_dict = gconst.get_labels_dict_statistics_visit_for_tab()\n",
    "    diet_labels_dict = get_labels_dict_statistics_diet_for_tab()\n",
    "    # print(res)\n",
    "    filename = f'{result_path}{filename}'\n",
    "    with pd.ExcelWriter(filename) as writer:\n",
    "            res.to_excel(writer,float_format='%.2f',index=True)\n",
    "    print(f'result saved as {filename}')\n",
    "\n",
    "    # 前面的25个指标按照order_list排序，每行输出index, Unit, mean3, std3, mean0, std0, mean1, std1, mean2, std2, p_str,latex表格格式\n",
    "    for cur_visit_label in order_list:\n",
    "        cur_visit_label_output = visit_labels_dict[cur_visit_label]\n",
    "        cur_res = res.loc[cur_visit_label]\n",
    "        cur_res = cur_res[['unit','mean3','std3','mean0','std0','mean1','std1','mean2','std2','p_str']]\n",
    "        print(f'{cur_visit_label_output} & {cur_res[\"unit\"]} & {cur_res[\"mean3\"]:.2f} & {cur_res[\"std3\"]:.2f} & {cur_res[\"mean0\"]:.2f} & {cur_res[\"std0\"]:.2f} & {cur_res[\"mean1\"]:.2f} & {cur_res[\"std1\"]:.2f} & {cur_res[\"mean2\"]:.2f} & {cur_res[\"std2\"]:.2f} & {cur_res[\"p_str\"]} \\\\\\\\')\n",
    "    for cur_diet_label in labels_diet_sta:\n",
    "        if cur_diet_label == 'date':\n",
    "            continue\n",
    "        cur_diet_label_output = diet_labels_dict[cur_diet_label]\n",
    "        cur_res = res.loc[cur_diet_label]\n",
    "        cur_res = cur_res[['unit','mean3','std3','mean0','std0','mean1','std1','mean2','std2','p_str']]\n",
    "        print(f'{cur_diet_label_output} &{cur_res[\"unit\"]} & & {cur_res[\"mean3\"]:.2f} & {cur_res[\"std3\"]:.2f} & {cur_res[\"mean0\"]:.2f} & {cur_res[\"std0\"]:.2f} & {cur_res[\"mean1\"]:.2f} & {cur_res[\"std1\"]:.2f} & {cur_res[\"mean2\"]:.2f} & {cur_res[\"std2\"]:.2f} & {cur_res[\"p_str\"]} \\\\\\\\')\n",
    "# 统计按白蛋白分组后，各个基线指标的特征\n",
    "\n",
    "get_baseline_sta_group_by(visit_sta_first,diet_sta_first,labels_visit_sta,labels_diet_sta,'Albumin',filename='baseline_sta_Albumin.xlsx')\n",
    "get_baseline_sta_group_by(visit_sta_mean,diet_sta_mean_time,labels_visit_sta,labels_diet_sta,'Albumin',filename='baseline_mean_sta_Albumin.xlsx')"
   ]
  }
 ],
 "metadata": {
  "kernelspec": {
   "display_name": "healthier",
   "language": "python",
   "name": "python3"
  },
  "language_info": {
   "codemirror_mode": {
    "name": "ipython",
    "version": 3
   },
   "file_extension": ".py",
   "mimetype": "text/x-python",
   "name": "python",
   "nbconvert_exporter": "python",
   "pygments_lexer": "ipython3",
   "version": "3.10.14"
  },
  "orig_nbformat": 4,
  "vscode": {
   "interpreter": {
    "hash": "4292d9b6ba137feda9ff328c18e49b2ba87df453a2fe3099bc69b7eacdc9406a"
   }
  }
 },
 "nbformat": 4,
 "nbformat_minor": 2
}
