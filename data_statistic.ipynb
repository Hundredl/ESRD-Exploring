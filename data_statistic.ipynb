{
 "cells": [
  {
   "cell_type": "code",
   "execution_count": 1,
   "metadata": {},
   "outputs": [],
   "source": [
    "import datetime\n",
    "from unittest import result\n",
    "from loguru import logger\n",
    "import pickle\n",
    "import pandas as pd\n",
    "import numpy as np\n",
    "import seaborn as sns\n",
    "import matplotlib.pyplot as plt\n",
    "\n",
    "import global_const as gconst\n",
    "import numpy as np\n",
    "import pickle\n",
    "from lifelines import KaplanMeierFitter,CoxPHFitter\n",
    "from lifelines.utils import median_survival_times\n",
    "from lifelines.statistics import logrank_test,multivariate_logrank_test\n",
    "from scipy import stats\n",
    "from tqdm import tqdm\n",
    "\n",
    "from scipy import stats\n",
    "from statsmodels.formula.api import ols\n",
    "from statsmodels.stats.anova import anova_lm\n",
    "from statsmodels.stats.multicomp import MultiComparison\n",
    "\n",
    "from pathlib import Path\n"
   ]
  },
  {
   "cell_type": "markdown",
   "metadata": {},
   "source": [
    "# import data"
   ]
  },
  {
   "cell_type": "code",
   "execution_count": 2,
   "metadata": {},
   "outputs": [],
   "source": [
    "# import \n",
    "\n",
    "data_path_prefix = \"./esrd\"\n",
    "project_path_prefix = \"./\"\n",
    "\n",
    "origin_data_path=f\"{data_path_prefix}/origin/ckd/\"\n",
    "data_path=f\"{data_path_prefix}/processed/\"\n",
    "result_path=f\"{project_path_prefix}/result/\"\n",
    "\n",
    "Path(result_path).mkdir(parents=True, exist_ok=True)\n",
    "\n",
    "\n",
    "pdid_656 = pickle.load(open(f'{data_path}656_pdid','rb'))\n",
    "days_656 = pickle.load(open(f'{data_path}656_days','rb'))\n",
    "date_656 = pickle.load(open(f'{data_path}656_date','rb'))\n",
    "visit_sta = pickle.load(open(f'{data_path}statistics_visit','rb'))\n",
    "diet_sta = pickle.load(open(f'{data_path}statistics_diet','rb'))\n",
    "visit_sta_first = pickle.load(open(f'{data_path}statistics_visit_first','rb'))\n",
    "visit_sta_mean = pickle.load(open(f'{data_path}statistics_visit_mean','rb'))\n",
    "diet_sta_first = pickle.load(open(f'{data_path}statistics_diet_first','rb'))\n",
    "diet_sta_mean = pickle.load(open(f'{data_path}statistics_diet_mean','rb'))\n",
    "\n",
    "labels_visit_sta = gconst.get_labels_statistics_visit()\n",
    "labels_diet_sta = gconst.get_labels_statistics_diet()\n"
   ]
  },
  {
   "cell_type": "code",
   "execution_count": 3,
   "metadata": {},
   "outputs": [
    {
     "name": "stdout",
     "output_type": "stream",
     "text": [
      "count of male:329.0, ratio:0.5015243902439024\n",
      "count of diab:244.0, ratio:0.3719512195121951\n"
     ]
    }
   ],
   "source": [
    "# 查看 gender \n",
    "a = np.array(visit_sta_first)\n",
    "print(f'count of male:{sum(a[:,18])}, ratio:{sum(a[:,18])/len(a)}')\n",
    "print(f'count of diab:{sum(a[:,19])}, ratio:{sum(a[:,19])/len(a)}')\n"
   ]
  },
  {
   "cell_type": "markdown",
   "metadata": {},
   "source": [
    "# KM survival analysis for all visits"
   ]
  },
  {
   "cell_type": "code",
   "execution_count": 4,
   "metadata": {},
   "outputs": [],
   "source": [
    "def append_livedatas(pdid,visit_single,days,labels=gconst.get_labels_statistics_visit()):\n",
    "    \"\"\"在统计指标的基础上，增加 live_time 和death两个指标\"\"\"\n",
    "    labels_days = gconst.get_labels_days()\n",
    "    res = []\n",
    "    for index in range(len(pdid)):\n",
    "        death_day = days[index][labels_days.index('death_day')]\n",
    "        admission_day = days[index][labels_days.index('admission_day')]\n",
    "        death = days[index][labels_days.index('death')]  \n",
    "        cure_time = (datetime.datetime.strptime(death_day,'%Y/%m/%d')-datetime.datetime.strptime(admission_day,'%Y/%m/%d')).days/365\n",
    "        live_data = [cure_time,death]\n",
    "        cur_data = list(visit_single[index]) + live_data\n",
    "        res.append(cur_data)\n",
    "    labels_appended = labels + ['live_time','death']\n",
    "    return res,labels_appended"
   ]
  },
  {
   "cell_type": "code",
   "execution_count": 5,
   "metadata": {},
   "outputs": [],
   "source": [
    "res, labels = append_livedatas(pdid_656,visit_sta_first,days_656)"
   ]
  },
  {
   "cell_type": "code",
   "execution_count": 6,
   "metadata": {},
   "outputs": [],
   "source": [
    "def get_groups(col,data_df,q):\n",
    "    '''获取组\n",
    "    @param col：列\n",
    "    @param data_df: 数据\n",
    "    @param q：分层数\n",
    "    @return group_counts: 组\n",
    "    @return groups:分别属于哪组\n",
    "    @return data_rounds:组的数据范围\n",
    "    '''\n",
    "    cols = list(data_df.keys())\n",
    "    datas = data_df.values\n",
    "    if col == 'diab' or col == 'gender':\n",
    "        group_counts = [0,1] # 分组\n",
    "        groups = data_df[col]\n",
    "        data_rounds = [(0,0),(1,1)]\n",
    "    elif col == 'all':\n",
    "        group_counts = [0]\n",
    "        groups = data_df[col]\n",
    "        data_rounds = [(0,0)]\n",
    "\n",
    "    else :\n",
    "        group_counts = list(range(q))\n",
    "        index = cols.index(col)\n",
    "        cur_data = datas[:,index]\n",
    "        \n",
    "        data_rounds = gconst.get_data_rounds(cur_data,'q'+str(q))\n",
    "        cur_data_stage = gconst.get_data_rounds_indexs(cur_data,data_rounds)\n",
    "        # cur_df = data_df[['live_time','death']]\n",
    "        cur_df = data_df[[col]]\n",
    "        cur_df.insert(cur_df.shape[1],f'{col}_stage',cur_data_stage)\n",
    "        groups = cur_df[f'{col}_stage']\n",
    "    return group_counts, groups, data_rounds\n",
    "\n",
    "def do_lifelines(pdid,visit_single,days,result_path,save,confi,col,labels,q):\n",
    "    \"\"\"KM法生存分析，输出km曲线图和生存范围结果\"\"\"\n",
    "        # print(labels)\n",
    "    datas,cols = append_livedatas(pdid_656,visit_single,days_656)\n",
    "    datas = np.array(datas)\n",
    "    df = pd.DataFrame(datas,columns=cols)\n",
    "    df.insert(df.shape[1],column='all',value=0)\n",
    "    \n",
    "    kmf = KaplanMeierFitter()\n",
    "    ax = ''\n",
    "    confi50s = []\n",
    "    \n",
    "    group_counts, groups, data_rounds = get_groups(col,df,q)\n",
    "    # log rank\n",
    "    result = multivariate_logrank_test(df[['live_time']],groups,df[['death']])\n",
    "    # result.print_summary()\n",
    "    p_value = result.p_value\n",
    "\n",
    "\n",
    "    print(p_value, labels)\n",
    "    for i in group_counts:\n",
    "        ix = (groups == i)\n",
    "        kmf.fit(df['live_time'][ix],df['death'][ix],label=labels[i])\n",
    "        treatment_median_confidence_interval_ = median_survival_times(kmf.confidence_interval_)\n",
    "        median_survival_time_ = kmf.median_survival_time_\n",
    "        npm = treatment_median_confidence_interval_.to_numpy()[0]\n",
    "        confi50s.append([median_survival_time_]+list(npm))\n",
    "        if ax == '':\n",
    "            ax = kmf.plot(ci_show=confi) # at_risk_counts=True\n",
    "        else :\n",
    "            ax = kmf.plot(ax = ax,ci_show=confi,)\n",
    "    # y轴为 cumulative all-cause mortality-free survival\n",
    "\n",
    "    ax.set_xlabel('Years')\n",
    "    ax.set_ylabel('Cumulative all-cause mortality-free survival')\n",
    "\n",
    "    fontsize = 12\n",
    "    # 标注p值\n",
    "    if p_value < 0.001:\n",
    "        ax.text(0.2,0.2,f'P<0.001',horizontalalignment='center',verticalalignment='center',transform=ax.transAxes, fontsize=fontsize)\n",
    "    else:\n",
    "        ax.text(0.2,0.2,f'P={p_value:.4f}',horizontalalignment='center',verticalalignment='center',transform=ax.transAxes, fontsize=fontsize)\n",
    "    # 字体大小\n",
    "    for item in ([ax.title, ax.xaxis.label, ax.yaxis.label] +\n",
    "                ax.get_xticklabels() + ax.get_yticklabels()):\n",
    "        item.set_fontsize(fontsize)\n",
    "    if save:\n",
    "        Path(f'{result_path}lifelines').mkdir(parents=True, exist_ok=True)\n",
    "        if confi:\n",
    "            # print(gconst.get_data_rounds_str(data_rounds))\n",
    "\n",
    "            # ax.set_title(f'{col}_lifelines_confi')\n",
    "            ax.get_figure().savefig(f'{result_path}lifelines/{col}_lifelines_confi.pdf', bbox_inches='tight')\n",
    "            plt.close(ax.get_figure())\n",
    "            bound_df = pd.DataFrame(confi50s,index=labels,columns=['median','lower','upper'])\n",
    "            filename=f'{result_path}lifelines/{col}_lifelines_confi.xlsx'\n",
    "            with pd.ExcelWriter(filename) as writer:\n",
    "                bound_df.to_excel(writer,float_format='%.4f')\n",
    "                logger.debug(f'result saved as {filename}')\n",
    "        else:\n",
    "            # ax.set_title(f'{col}_lifelines')\n",
    "            ax.get_figure().savefig(f'{result_path}lifelines/{col}_lifelines.pdf', bbox_inches='tight')\n",
    "            plt.close(ax.get_figure())\n",
    "            # plt.close()\n",
    "    return p_value,confi50s"
   ]
  },
  {
   "cell_type": "code",
   "execution_count": 7,
   "metadata": {},
   "outputs": [
    {
     "name": "stderr",
     "output_type": "stream",
     "text": [
      "\u001b[32m2025-01-01 06:40:49.078\u001b[0m | \u001b[34m\u001b[1mDEBUG   \u001b[0m | \u001b[36m__main__\u001b[0m:\u001b[36mget_data_rounds_allcol\u001b[0m:\u001b[36m20\u001b[0m - \u001b[34m\u001b[1mresult saved as .//result/data_rounds_allcol.xlsx\u001b[0m\n"
     ]
    }
   ],
   "source": [
    "import collections\n",
    "def get_data_rounds_allcol(pdid_656, visit_single, days_656, q, result_path):\n",
    "    '''分组范围'''\n",
    "    datas,cols = append_livedatas(pdid_656,visit_single,days_656)\n",
    "    datas = np.array(datas)\n",
    "    df = pd.DataFrame(datas,columns=cols)\n",
    "    df.insert(df.shape[1],column='all',value=0)\n",
    "    res = {'cols':cols,'rounds':[],'count':[]}\n",
    "    for col in cols:\n",
    "        group_counts, groups, data_rounds = get_groups(col,df,q)\n",
    "        # print(gconst.get_data_rounds_str(data_rounds))\n",
    "        # print(data_rounds)\n",
    "        res['rounds'].append(gconst.get_data_rounds_str(data_rounds))\n",
    "        c = collections.Counter(groups)\n",
    "        res['count'].append(dict(c))\n",
    "    filename = f'{result_path}data_rounds_allcol.xlsx'\n",
    "    res_df = pd.DataFrame(res)\n",
    "    with pd.ExcelWriter(filename) as writer:\n",
    "        res_df.to_excel(writer,float_format='%.4f')\n",
    "        logger.debug(f'result saved as {filename}')\n",
    "get_data_rounds_allcol(pdid_656,visit_sta_first,days_656,3,result_path)"
   ]
  },
  {
   "cell_type": "markdown",
   "metadata": {},
   "source": [
    "## Perform KM analysis for each indicator group"
   ]
  },
  {
   "cell_type": "code",
   "execution_count": 8,
   "metadata": {},
   "outputs": [
    {
     "name": "stdout",
     "output_type": "stream",
     "text": [
      "3.7576761061520665e-06 ['no diab', 'diab']\n"
     ]
    },
    {
     "name": "stderr",
     "output_type": "stream",
     "text": [
      "\u001b[32m2025-01-01 06:40:49.787\u001b[0m | \u001b[34m\u001b[1mDEBUG   \u001b[0m | \u001b[36m__main__\u001b[0m:\u001b[36mdo_lifelines\u001b[0m:\u001b[36m92\u001b[0m - \u001b[34m\u001b[1mresult saved as .//result/lifelines/diab_lifelines_confi.xlsx\u001b[0m\n"
     ]
    },
    {
     "name": "stdout",
     "output_type": "stream",
     "text": [
      "3.7576761061520665e-06 ['no diab', 'diab']\n",
      "0.27981020793033656 ['female', 'male']\n"
     ]
    },
    {
     "name": "stderr",
     "output_type": "stream",
     "text": [
      "\u001b[32m2025-01-01 06:40:50.257\u001b[0m | \u001b[34m\u001b[1mDEBUG   \u001b[0m | \u001b[36m__main__\u001b[0m:\u001b[36mdo_lifelines\u001b[0m:\u001b[36m92\u001b[0m - \u001b[34m\u001b[1mresult saved as .//result/lifelines/gender_lifelines_confi.xlsx\u001b[0m\n"
     ]
    },
    {
     "name": "stdout",
     "output_type": "stream",
     "text": [
      "0.27981020793033656 ['female', 'male']\n",
      "0.06732235048350181 ['Low Cl Group', 'Medium Cl Group', 'High Cl Group']\n"
     ]
    },
    {
     "name": "stderr",
     "output_type": "stream",
     "text": [
      "\u001b[32m2025-01-01 06:40:50.735\u001b[0m | \u001b[34m\u001b[1mDEBUG   \u001b[0m | \u001b[36m__main__\u001b[0m:\u001b[36mdo_lifelines\u001b[0m:\u001b[36m92\u001b[0m - \u001b[34m\u001b[1mresult saved as .//result/lifelines/Cl_lifelines_confi.xlsx\u001b[0m\n"
     ]
    },
    {
     "name": "stdout",
     "output_type": "stream",
     "text": [
      "0.06732235048350181 ['Low Cl Group', 'Medium Cl Group', 'High Cl Group']\n",
      "0.029632757507611168 ['Low CO2CP Group', 'Medium CO2CP Group', 'High CO2CP Group']\n"
     ]
    },
    {
     "name": "stderr",
     "output_type": "stream",
     "text": [
      "\u001b[32m2025-01-01 06:40:51.342\u001b[0m | \u001b[34m\u001b[1mDEBUG   \u001b[0m | \u001b[36m__main__\u001b[0m:\u001b[36mdo_lifelines\u001b[0m:\u001b[36m92\u001b[0m - \u001b[34m\u001b[1mresult saved as .//result/lifelines/CO2CP_lifelines_confi.xlsx\u001b[0m\n"
     ]
    },
    {
     "name": "stdout",
     "output_type": "stream",
     "text": [
      "0.029632757507611168 ['Low CO2CP Group', 'Medium CO2CP Group', 'High CO2CP Group']\n",
      "0.723726247112043 ['Low WBC Group', 'Medium WBC Group', 'High WBC Group']\n"
     ]
    },
    {
     "name": "stderr",
     "output_type": "stream",
     "text": [
      "\u001b[32m2025-01-01 06:40:51.853\u001b[0m | \u001b[34m\u001b[1mDEBUG   \u001b[0m | \u001b[36m__main__\u001b[0m:\u001b[36mdo_lifelines\u001b[0m:\u001b[36m92\u001b[0m - \u001b[34m\u001b[1mresult saved as .//result/lifelines/WBC_lifelines_confi.xlsx\u001b[0m\n"
     ]
    },
    {
     "name": "stdout",
     "output_type": "stream",
     "text": [
      "0.723726247112043 ['Low WBC Group', 'Medium WBC Group', 'High WBC Group']\n",
      "0.8758287065961418 ['Low Hb Group', 'Medium Hb Group', 'High Hb Group']\n"
     ]
    },
    {
     "name": "stderr",
     "output_type": "stream",
     "text": [
      "\u001b[32m2025-01-01 06:40:52.408\u001b[0m | \u001b[34m\u001b[1mDEBUG   \u001b[0m | \u001b[36m__main__\u001b[0m:\u001b[36mdo_lifelines\u001b[0m:\u001b[36m92\u001b[0m - \u001b[34m\u001b[1mresult saved as .//result/lifelines/Hb_lifelines_confi.xlsx\u001b[0m\n"
     ]
    },
    {
     "name": "stdout",
     "output_type": "stream",
     "text": [
      "0.8758287065961418 ['Low Hb Group', 'Medium Hb Group', 'High Hb Group']\n",
      "5.910762643376183e-05 ['Low Urea Group', 'Medium Urea Group', 'High Urea Group']\n"
     ]
    },
    {
     "name": "stderr",
     "output_type": "stream",
     "text": [
      "\u001b[32m2025-01-01 06:40:52.977\u001b[0m | \u001b[34m\u001b[1mDEBUG   \u001b[0m | \u001b[36m__main__\u001b[0m:\u001b[36mdo_lifelines\u001b[0m:\u001b[36m92\u001b[0m - \u001b[34m\u001b[1mresult saved as .//result/lifelines/Urea_lifelines_confi.xlsx\u001b[0m\n"
     ]
    },
    {
     "name": "stdout",
     "output_type": "stream",
     "text": [
      "5.910762643376183e-05 ['Low Urea Group', 'Medium Urea Group', 'High Urea Group']\n",
      "0.12639064806348096 ['Low Ca Group', 'Medium Ca Group', 'High Ca Group']\n"
     ]
    },
    {
     "name": "stderr",
     "output_type": "stream",
     "text": [
      "\u001b[32m2025-01-01 06:40:53.654\u001b[0m | \u001b[34m\u001b[1mDEBUG   \u001b[0m | \u001b[36m__main__\u001b[0m:\u001b[36mdo_lifelines\u001b[0m:\u001b[36m92\u001b[0m - \u001b[34m\u001b[1mresult saved as .//result/lifelines/Ca_lifelines_confi.xlsx\u001b[0m\n"
     ]
    },
    {
     "name": "stdout",
     "output_type": "stream",
     "text": [
      "0.12639064806348096 ['Low Ca Group', 'Medium Ca Group', 'High Ca Group']\n",
      "0.06130534326640983 ['Low K Group', 'Medium K Group', 'High K Group']\n"
     ]
    },
    {
     "name": "stderr",
     "output_type": "stream",
     "text": [
      "\u001b[32m2025-01-01 06:40:54.169\u001b[0m | \u001b[34m\u001b[1mDEBUG   \u001b[0m | \u001b[36m__main__\u001b[0m:\u001b[36mdo_lifelines\u001b[0m:\u001b[36m92\u001b[0m - \u001b[34m\u001b[1mresult saved as .//result/lifelines/K_lifelines_confi.xlsx\u001b[0m\n"
     ]
    },
    {
     "name": "stdout",
     "output_type": "stream",
     "text": [
      "0.06130534326640983 ['Low K Group', 'Medium K Group', 'High K Group']\n",
      "0.0025933185170665704 ['Low Na Group', 'Medium Na Group', 'High Na Group']\n"
     ]
    },
    {
     "name": "stderr",
     "output_type": "stream",
     "text": [
      "\u001b[32m2025-01-01 06:40:54.798\u001b[0m | \u001b[34m\u001b[1mDEBUG   \u001b[0m | \u001b[36m__main__\u001b[0m:\u001b[36mdo_lifelines\u001b[0m:\u001b[36m92\u001b[0m - \u001b[34m\u001b[1mresult saved as .//result/lifelines/Na_lifelines_confi.xlsx\u001b[0m\n"
     ]
    },
    {
     "name": "stdout",
     "output_type": "stream",
     "text": [
      "0.0025933185170665704 ['Low Na Group', 'Medium Na Group', 'High Na Group']\n",
      "5.308902618188145e-11 ['Low Scr Group', 'Medium Scr Group', 'High Scr Group']\n"
     ]
    },
    {
     "name": "stderr",
     "output_type": "stream",
     "text": [
      "\u001b[32m2025-01-01 06:40:55.301\u001b[0m | \u001b[34m\u001b[1mDEBUG   \u001b[0m | \u001b[36m__main__\u001b[0m:\u001b[36mdo_lifelines\u001b[0m:\u001b[36m92\u001b[0m - \u001b[34m\u001b[1mresult saved as .//result/lifelines/Scr_lifelines_confi.xlsx\u001b[0m\n"
     ]
    },
    {
     "name": "stdout",
     "output_type": "stream",
     "text": [
      "5.308902618188145e-11 ['Low Scr Group', 'Medium Scr Group', 'High Scr Group']\n",
      "0.04275211605231526 ['Low P Group', 'Medium P Group', 'High P Group']\n"
     ]
    },
    {
     "name": "stderr",
     "output_type": "stream",
     "text": [
      "\u001b[32m2025-01-01 06:40:55.962\u001b[0m | \u001b[34m\u001b[1mDEBUG   \u001b[0m | \u001b[36m__main__\u001b[0m:\u001b[36mdo_lifelines\u001b[0m:\u001b[36m92\u001b[0m - \u001b[34m\u001b[1mresult saved as .//result/lifelines/P_lifelines_confi.xlsx\u001b[0m\n"
     ]
    },
    {
     "name": "stdout",
     "output_type": "stream",
     "text": [
      "0.04275211605231526 ['Low P Group', 'Medium P Group', 'High P Group']\n",
      "2.3228442758580867e-12 ['Low Albumin Group', 'Medium Albumin Group', 'High Albumin Group']\n"
     ]
    },
    {
     "name": "stderr",
     "output_type": "stream",
     "text": [
      "\u001b[32m2025-01-01 06:40:56.464\u001b[0m | \u001b[34m\u001b[1mDEBUG   \u001b[0m | \u001b[36m__main__\u001b[0m:\u001b[36mdo_lifelines\u001b[0m:\u001b[36m92\u001b[0m - \u001b[34m\u001b[1mresult saved as .//result/lifelines/Albumin_lifelines_confi.xlsx\u001b[0m\n"
     ]
    },
    {
     "name": "stdout",
     "output_type": "stream",
     "text": [
      "2.3228442758580867e-12 ['Low Albumin Group', 'Medium Albumin Group', 'High Albumin Group']\n",
      "6.716799525658848e-07 ['Low hs-CRP Group', 'Medium hs-CRP Group', 'High hs-CRP Group']\n"
     ]
    },
    {
     "name": "stderr",
     "output_type": "stream",
     "text": [
      "\u001b[32m2025-01-01 06:40:57.104\u001b[0m | \u001b[34m\u001b[1mDEBUG   \u001b[0m | \u001b[36m__main__\u001b[0m:\u001b[36mdo_lifelines\u001b[0m:\u001b[36m92\u001b[0m - \u001b[34m\u001b[1mresult saved as .//result/lifelines/hs-CRP_lifelines_confi.xlsx\u001b[0m\n"
     ]
    },
    {
     "name": "stdout",
     "output_type": "stream",
     "text": [
      "6.716799525658848e-07 ['Low hs-CRP Group', 'Medium hs-CRP Group', 'High hs-CRP Group']\n",
      "0.0023081566149274774 ['Low Glucose Group', 'Medium Glucose Group', 'High Glucose Group']\n"
     ]
    },
    {
     "name": "stderr",
     "output_type": "stream",
     "text": [
      "\u001b[32m2025-01-01 06:40:57.627\u001b[0m | \u001b[34m\u001b[1mDEBUG   \u001b[0m | \u001b[36m__main__\u001b[0m:\u001b[36mdo_lifelines\u001b[0m:\u001b[36m92\u001b[0m - \u001b[34m\u001b[1mresult saved as .//result/lifelines/Glucose_lifelines_confi.xlsx\u001b[0m\n"
     ]
    },
    {
     "name": "stdout",
     "output_type": "stream",
     "text": [
      "0.0023081566149274774 ['Low Glucose Group', 'Medium Glucose Group', 'High Glucose Group']\n",
      "0.002595298542192129 ['Low Appetite Group', 'Medium Appetite Group', 'High Appetite Group']\n"
     ]
    },
    {
     "name": "stderr",
     "output_type": "stream",
     "text": [
      "\u001b[32m2025-01-01 06:40:58.206\u001b[0m | \u001b[34m\u001b[1mDEBUG   \u001b[0m | \u001b[36m__main__\u001b[0m:\u001b[36mdo_lifelines\u001b[0m:\u001b[36m92\u001b[0m - \u001b[34m\u001b[1mresult saved as .//result/lifelines/Appetite_lifelines_confi.xlsx\u001b[0m\n"
     ]
    },
    {
     "name": "stdout",
     "output_type": "stream",
     "text": [
      "0.002595298542192129 ['Low Appetite Group', 'Medium Appetite Group', 'High Appetite Group']\n",
      "0.02565826605988984 ['Low Weight Group', 'Medium Weight Group', 'High Weight Group']\n"
     ]
    },
    {
     "name": "stderr",
     "output_type": "stream",
     "text": [
      "\u001b[32m2025-01-01 06:40:58.766\u001b[0m | \u001b[34m\u001b[1mDEBUG   \u001b[0m | \u001b[36m__main__\u001b[0m:\u001b[36mdo_lifelines\u001b[0m:\u001b[36m92\u001b[0m - \u001b[34m\u001b[1mresult saved as .//result/lifelines/Weight_lifelines_confi.xlsx\u001b[0m\n"
     ]
    },
    {
     "name": "stdout",
     "output_type": "stream",
     "text": [
      "0.02565826605988984 ['Low Weight Group', 'Medium Weight Group', 'High Weight Group']\n",
      "0.08100034067526529 ['Low SBP Group', 'Medium SBP Group', 'High SBP Group']\n"
     ]
    },
    {
     "name": "stderr",
     "output_type": "stream",
     "text": [
      "\u001b[32m2025-01-01 06:40:59.273\u001b[0m | \u001b[34m\u001b[1mDEBUG   \u001b[0m | \u001b[36m__main__\u001b[0m:\u001b[36mdo_lifelines\u001b[0m:\u001b[36m92\u001b[0m - \u001b[34m\u001b[1mresult saved as .//result/lifelines/SBP_lifelines_confi.xlsx\u001b[0m\n"
     ]
    },
    {
     "name": "stdout",
     "output_type": "stream",
     "text": [
      "0.08100034067526529 ['Low SBP Group', 'Medium SBP Group', 'High SBP Group']\n",
      "6.154466636302411e-13 ['Low DBP Group', 'Medium DBP Group', 'High DBP Group']\n"
     ]
    },
    {
     "name": "stderr",
     "output_type": "stream",
     "text": [
      "\u001b[32m2025-01-01 06:40:59.831\u001b[0m | \u001b[34m\u001b[1mDEBUG   \u001b[0m | \u001b[36m__main__\u001b[0m:\u001b[36mdo_lifelines\u001b[0m:\u001b[36m92\u001b[0m - \u001b[34m\u001b[1mresult saved as .//result/lifelines/DBP_lifelines_confi.xlsx\u001b[0m\n"
     ]
    },
    {
     "name": "stdout",
     "output_type": "stream",
     "text": [
      "6.154466636302411e-13 ['Low DBP Group', 'Medium DBP Group', 'High DBP Group']\n",
      "5.487633988746645e-26 ['Low age Group', 'Medium age Group', 'High age Group']\n"
     ]
    },
    {
     "name": "stderr",
     "output_type": "stream",
     "text": [
      "\u001b[32m2025-01-01 06:41:00.366\u001b[0m | \u001b[34m\u001b[1mDEBUG   \u001b[0m | \u001b[36m__main__\u001b[0m:\u001b[36mdo_lifelines\u001b[0m:\u001b[36m92\u001b[0m - \u001b[34m\u001b[1mresult saved as .//result/lifelines/age_lifelines_confi.xlsx\u001b[0m\n"
     ]
    },
    {
     "name": "stdout",
     "output_type": "stream",
     "text": [
      "5.487633988746645e-26 ['Low age Group', 'Medium age Group', 'High age Group']\n",
      "0.15866637205435455 ['Low height Group', 'Medium height Group', 'High height Group']\n"
     ]
    },
    {
     "name": "stderr",
     "output_type": "stream",
     "text": [
      "\u001b[32m2025-01-01 06:41:01.093\u001b[0m | \u001b[34m\u001b[1mDEBUG   \u001b[0m | \u001b[36m__main__\u001b[0m:\u001b[36mdo_lifelines\u001b[0m:\u001b[36m92\u001b[0m - \u001b[34m\u001b[1mresult saved as .//result/lifelines/height_lifelines_confi.xlsx\u001b[0m\n"
     ]
    },
    {
     "name": "stdout",
     "output_type": "stream",
     "text": [
      "0.15866637205435455 ['Low height Group', 'Medium height Group', 'High height Group']\n",
      "0.3548453421091151 ['Low bmi Group', 'Medium bmi Group', 'High bmi Group']\n"
     ]
    },
    {
     "name": "stderr",
     "output_type": "stream",
     "text": [
      "\u001b[32m2025-01-01 06:41:01.601\u001b[0m | \u001b[34m\u001b[1mDEBUG   \u001b[0m | \u001b[36m__main__\u001b[0m:\u001b[36mdo_lifelines\u001b[0m:\u001b[36m92\u001b[0m - \u001b[34m\u001b[1mresult saved as .//result/lifelines/bmi_lifelines_confi.xlsx\u001b[0m\n"
     ]
    },
    {
     "name": "stdout",
     "output_type": "stream",
     "text": [
      "0.3548453421091151 ['Low bmi Group', 'Medium bmi Group', 'High bmi Group']\n",
      "9.959900338078019e-05 ['Low gfr Group', 'Medium gfr Group', 'High gfr Group']\n"
     ]
    },
    {
     "name": "stderr",
     "output_type": "stream",
     "text": [
      "\u001b[32m2025-01-01 06:41:02.151\u001b[0m | \u001b[34m\u001b[1mDEBUG   \u001b[0m | \u001b[36m__main__\u001b[0m:\u001b[36mdo_lifelines\u001b[0m:\u001b[36m92\u001b[0m - \u001b[34m\u001b[1mresult saved as .//result/lifelines/gfr_lifelines_confi.xlsx\u001b[0m\n"
     ]
    },
    {
     "name": "stdout",
     "output_type": "stream",
     "text": [
      "9.959900338078019e-05 ['Low gfr Group', 'Medium gfr Group', 'High gfr Group']\n",
      "nan ['all']\n"
     ]
    },
    {
     "name": "stderr",
     "output_type": "stream",
     "text": [
      "\u001b[32m2025-01-01 06:41:02.678\u001b[0m | \u001b[34m\u001b[1mDEBUG   \u001b[0m | \u001b[36m__main__\u001b[0m:\u001b[36mdo_lifelines\u001b[0m:\u001b[36m92\u001b[0m - \u001b[34m\u001b[1mresult saved as .//result/lifelines/all_lifelines_confi.xlsx\u001b[0m\n"
     ]
    },
    {
     "name": "stdout",
     "output_type": "stream",
     "text": [
      "nan ['all']\n"
     ]
    },
    {
     "data": {
      "text/plain": [
       "(nan, [[6.1506849315068495, 5.64931506849315, 6.835616438356165]])"
      ]
     },
     "execution_count": 8,
     "metadata": {},
     "output_type": "execute_result"
    }
   ],
   "source": [
    "# 做每个指标的分组KM分析\n",
    "save = True\n",
    "res = []\n",
    "q = 3\n",
    "p_value,confi50s = do_lifelines(pdid_656,visit_sta_first,days_656,result_path,save,confi=True,col='diab',labels=['no diab','diab'], q=3)\n",
    "res.append(['diab',p_value])\n",
    "p_value,confi50s = do_lifelines(pdid_656,visit_sta_first,days_656,result_path,save,confi=False,col='diab',labels=['no diab','diab'], q=3)\n",
    "\n",
    "p_value,confi50s = do_lifelines(pdid_656,visit_sta_first,days_656,result_path,save,confi=True,col='gender',labels=['female','male'], q=3)\n",
    "res.append(['gender',p_value])\n",
    "p_value,confi50s = do_lifelines(pdid_656,visit_sta_first,days_656,result_path,save,confi=False,col='gender',labels=['female','male'], q=3)\n",
    "cols =  gconst.get_labels_visit() + ['age','height','bmi','gfr']\n",
    "# cols = ['age','height']\n",
    "\n",
    "for col in cols:\n",
    "    labels= [f'Low {col} Group',f'Medium {col} Group',f'High {col} Group']\n",
    "    # p_value,confi50s = do_lifelines(pdid_656,visit_sta_first,days_656,result_path,save,confi=True,col=col,labels=[f'{col}_{i}' for i in range(3)], q=3)\n",
    "    p_value,confi50s = do_lifelines(pdid_656,visit_sta_first,days_656,result_path,save,confi=True,col=col,labels=labels, q=3)\n",
    "    # do_lifelines(pdid_656,visit_sta_first,days_656,result_path,save,confi=False,col=col,labels=[f'{col}_{i}' for i in range(3)], q=3)\n",
    "    do_lifelines(pdid_656,visit_sta_first,days_656,result_path,save,confi=False,col=col,labels=labels, q=3)\n",
    "    res.append([f'{col}',p_value])\n",
    "\n",
    "col = 'all'\n",
    "p_value,confi50s = do_lifelines(pdid_656,visit_sta_first,days_656,result_path,save,confi=True,col=col,labels=[f'{col}'],q=q)\n",
    "do_lifelines(pdid_656,visit_sta_first,days_656,result_path,save,confi=False,col=col,labels=[f'{col}'],q=q)\n"
   ]
  },
  {
   "cell_type": "markdown",
   "metadata": {},
   "source": [
    "## output p-value"
   ]
  },
  {
   "cell_type": "code",
   "execution_count": 9,
   "metadata": {},
   "outputs": [
    {
     "name": "stderr",
     "output_type": "stream",
     "text": [
      "\u001b[32m2025-01-01 06:41:02.880\u001b[0m | \u001b[34m\u001b[1mDEBUG   \u001b[0m | \u001b[36m__main__\u001b[0m:\u001b[36m<module>\u001b[0m:\u001b[36m8\u001b[0m - \u001b[34m\u001b[1mresult saved as .//result/km_p_value.xlsx\u001b[0m\n"
     ]
    }
   ],
   "source": [
    "pd.set_option('display.float_format', lambda x: '%.4f' % x)\n",
    "df = pd.DataFrame(res,columns=['label','p_value'])\n",
    "# print(df[df['p_value']<0.01])\n",
    "# print(df)\n",
    "filename = f'{result_path}km_p_value.xlsx'\n",
    "with pd.ExcelWriter(filename) as writer:\n",
    "    df.to_excel(writer,float_format='%.4f')\n",
    "    logger.debug(f'result saved as {filename}')\n"
   ]
  },
  {
   "cell_type": "markdown",
   "metadata": {},
   "source": [
    "# Analysis of good and bad diet groups\n"
   ]
  },
  {
   "cell_type": "code",
   "execution_count": 10,
   "metadata": {},
   "outputs": [],
   "source": [
    "def get_medium_time(pdid,visit_single,days,result_path,save,cols,q):\n",
    "    '''获取中位生存时间'''\n",
    "    result = {}\n",
    "    for col in cols:\n",
    "        coef =  do_lifelines(pdid_656,visit_single,days_656,result_path,save=False,confi=True,col=col,labels=[f'{col}_{i}' for i in range(q)],q = q)\n",
    "        result[col] = coef\n",
    "    return result"
   ]
  },
  {
   "cell_type": "code",
   "execution_count": 11,
   "metadata": {},
   "outputs": [
    {
     "name": "stdout",
     "output_type": "stream",
     "text": [
      "[(19.45205479452055, 53.05986301369863), (53.05986301369863, 67.59041095890412), (67.59041095890412, 102.21369863013699)]\n",
      "5.487633988746645e-26 ['age_0', 'age_1', 'age_2']\n",
      "{'age': (5.487633988746645e-26, [[10.284931506849315, 9.517808219178082, 10.693150684931506], [6.616438356164384, 5.936986301369863, 7.0849315068493155], [4.2684931506849315, 3.589041095890411, 4.594520547945206]])}\n"
     ]
    },
    {
     "data": {
      "image/png": "[encoded data removed]",
      "text/plain": [
       "<Figure size 640x480 with 1 Axes>"
      ]
     },
     "metadata": {},
     "output_type": "display_data"
    }
   ],
   "source": [
    "# 按年龄的分组\n",
    "ages = np.array(visit_sta_first)[:,labels_visit_sta.index('age')]\n",
    "data_rounds = gconst.get_data_rounds(ages,\"q3\")\n",
    "print(data_rounds)\n",
    "data_rounds_index = gconst.get_data_rounds_indexs(ages,data_rounds)\n",
    "medium_time = get_medium_time(pdid_656,visit_sta_first,days_656,result_path,save,['age'],3)\n",
    "print(medium_time)"
   ]
  },
  {
   "cell_type": "code",
   "execution_count": 12,
   "metadata": {},
   "outputs": [
    {
     "name": "stdout",
     "output_type": "stream",
     "text": [
      "[2, 2, 0, 2, 1, 0, 0, 2, 2, 2, 0, 2, 1, 0, 2, 1, 0, 1, 2, 0, 0, 2, 1, 1, 0, 2, 1, 2, 2, 1, 2, 2, 0, 1, 2, 1, 1, 2, 2, 1, 0, 2, 1, 1, 1, 0, 1, 2, 1, 1, 2, 0, 2, 0, 0, 0, 1, 2, 0, 2, 0, 1, 2, 1, 1, 0, 1, 1, 2, 1, 0, 0, 1, 2, 0, 1, 1, 1, 1, 0, 1, 0, 1, 2, 0, 1, 2, 2, 2, 0, 1, 2, 1, 0, 1, 1, 2, 1, 2, 2, 1, 0, 2, 0, 0, 1, 2, 0, 2, 0, 1, 1, 0, 2, 0, 2, 1, 1, 0, 1, 1, 2, 1, 1, 0, 2, 1, 1, 0, 1, 2, 1, 0, 1, 2, 1, 1, 0, 2, 0, 1, 0, 1, 1, 0, 0, 1, 1, 1, 2, 2, 2, 0, 0, 1, 0, 2, 1, 2, 2, 1, 0, 1, 0, 2, 2, 0, 2, 0, 1, 2, 0, 0, 1, 2, 0, 2, 2, 2, 1, 1, 2, 1, 1, 1, 0, 2, 1, 0, 2, 0, 0, 0, 2, 2, 0, 2, 0, 0, 0, 2, 2, 0, 1, 0, 1, 1, 1, 1, 2, 0, 0, 0, 2, 1, 2, 2, 1, 1, 0, 1, 1, 2, 1, 1, 1, 2, 0, 1, 2, 0, 2, 0, 1, 0, 2, 0, 0, 0, 1, 1, 0, 0, 1, 1, 1, 1, 2, 0, 2, 0, 2, 0, 2, 1, 2, 2, 1, 0, 0, 1, 1, 0, 0, 0, 0, 0, 1, 1, 0, 2, 2, 0, 0, 2, 2, 2, 2, 2, 2, 2, 2, 1, 2, 2, 2, 1, 1, 2, 1, 0, 0, 0, 0, 2, 1, 2, 2, 2, 1, 0, 1, 0, 0, 0, 0, 1, 1, 1, 1, 0, 1, 2, 0, 0, 2, 0, 0, 2, 1, 0, 1, 2, 2, 1, 2, 0, 2, 0, 1, 1, 2, 1, 1, 1, 1, 2, 1, 0, 0, 0, 0, 2, 0, 0, 0, 1, 0, 2, 1, 0, 0, 2, 2, 1, 2, 2, 2, 1, 2, 1, 2, 0, 1, 0, 0, 2, 1, 2, 1, 2, 2, 1, 2, 1, 2, 1, 1, 2, 1, 0, 1, 0, 0, 2, 1, 0, 2, 1, 1, 1, 1, 1, 1, 0, 2, 2, 0, 0, 1, 0, 2, 0, 2, 2, 2, 2, 2, 0, 2, 1, 0, 1, 2, 2, 0, 0, 0, 2, 2, 0, 2, 1, 2, 0, 0, 0, 2, 0, 2, 2, 1, 0, 0, 2, 1, 1, 2, 2, 0, 0, 2, 2, 2, 2, 2, 0, 1, 0, 1, 1, 2, 2, 2, 0, 1, 0, 2, 2, 0, 0, 2, 2, 1, 2, 0, 2, 0, 1, 1, 1, 1, 1, 1, 0, 1, 2, 0, 0, 1, 2, 0, 2, 2, 1, 2, 2, 2, 1, 0, 2, 1, 0, 1, 2, 2, 2, 2, 1, 0, 0, 2, 1, 1, 2, 2, 2, 0, 2, 2, 1, 0, 0, 0, 2, 2, 2, 1, 1, 1, 1, 2, 1, 2, 2, 0, 1, 2, 1, 0, 2, 2, 2, 0, 1, 0, 2, 1, 0, 1, 0, 2, 0, 1, 0, 0, 0, 1, 1, 2, 1, 2, 0, 1, 2, 0, 1, 0, 1, 0, 1, 2, 0, 2, 0, 1, 0, 2, 2, 1, 0, 0, 1, 1, 2, 1, 1, 0, 1, 2, 2, 2, 1, 2, 2, 0, 1, 0, 0, 2, 2, 0, 0, 2, 2, 1, 1, 0, 0, 2, 2, 0, 0, 1, 0, 1, 2, 1, 1, 0, 0, 0, 0, 0, 0, 0, 1, 1, 0, 1, 2, 0, 0, 1, 0, 2, 2, 1, 1, 0, 2, 1, 0, 0, 0, 2, 1, 1, 0, 0, 2, 2, 2, 1, 0, 0, 0, 0, 2, 0, 1, 2, 2, 0, 0, 1]\n"
     ]
    }
   ],
   "source": [
    "print(data_rounds_index)"
   ]
  },
  {
   "cell_type": "code",
   "execution_count": null,
   "metadata": {},
   "outputs": [],
   "source": []
  },
  {
   "cell_type": "code",
   "execution_count": 13,
   "metadata": {},
   "outputs": [
    {
     "name": "stdout",
     "output_type": "stream",
     "text": [
      "[[10.284931506849315, 9.517808219178082, 10.693150684931506], [6.616438356164384, 5.936986301369863, 7.0849315068493155], [4.2684931506849315, 3.589041095890411, 4.594520547945206]]\n",
      "40 177\n",
      "72 144\n",
      "97 126\n",
      "209 447\n"
     ]
    }
   ],
   "source": [
    "# 数据分组 0是坏饮食组\n",
    "feature_label = 'age'\n",
    "groups = []\n",
    "death_ages = np.array(days_656)[:,gconst.get_labels_days().index('death_age')]\n",
    "visit_time = [float(death_ages[i])-float(ages[i]) for i in range(len(pdid_656))]\n",
    "death = np.array(days_656)[:,gconst.get_labels_days().index('death')]\n",
    "cur_medium_time = medium_time[feature_label][1]\n",
    "print(cur_medium_time)\n",
    "for i in range(len(data_rounds)):\n",
    "    groups.append([[],[]])\n",
    "for index,id in enumerate(pdid_656):\n",
    "    q = data_rounds_index[index]\n",
    "    \n",
    "    if visit_time[index] < cur_medium_time[q][0] and death[index] == '1':\n",
    "        if death[index] == '1':\n",
    "            groups[q][0].append(id) # 0是坏饮食组\n",
    "        # groups[q][0].append(id)\n",
    "        \n",
    "    else:\n",
    "        groups[q][1].append(id)\n",
    "sum0,sum1 = 0,0\n",
    "for group in groups:\n",
    "    sum0+=len(group[0])\n",
    "    sum1+=len(group[1])\n",
    "    print(len(group[0]),len(group[1]))\n",
    "print(sum0,sum1)"
   ]
  },
  {
   "cell_type": "code",
   "execution_count": 14,
   "metadata": {},
   "outputs": [
    {
     "name": "stdout",
     "output_type": "stream",
     "text": [
      "209 447\n"
     ]
    }
   ],
   "source": [
    "all_0, all_1 = [],[]\n",
    "for group in groups:\n",
    "    all_0 += group[0]\n",
    "    all_1 += group[1]\n",
    "print(len(all_0),len(all_1))\n",
    "groups.append([all_0,all_1])\n"
   ]
  },
  {
   "cell_type": "code",
   "execution_count": null,
   "metadata": {},
   "outputs": [],
   "source": []
  },
  {
   "cell_type": "markdown",
   "metadata": {},
   "source": [
    "## Examine whether there is a difference between the good diet group and the bad diet group"
   ]
  },
  {
   "cell_type": "code",
   "execution_count": 15,
   "metadata": {},
   "outputs": [
    {
     "name": "stdout",
     "output_type": "stream",
     "text": [
      "(656, 26)\n",
      "['water', 'protein', 'fat', 'carbohydrate', 'Calories', 'df', 'k', 'na', 'mg', 'ca', 'p', 'fe', 'zn', 'cu', 'mn', 'se', 'retinol', 'vitaminA', 'carotene', 'vitaminE', 'thiamine', 'riboflavin', 'nicotinic', 'ascorbic', 'dpi', 'dei']\n"
     ]
    }
   ],
   "source": [
    "# 数据提取，好坏饮食组\n",
    "print(np.array(diet_sta_mean)[:,1:].shape)\n",
    "print(gconst.get_labels_statistics_diet()[1:])"
   ]
  },
  {
   "cell_type": "code",
   "execution_count": 16,
   "metadata": {},
   "outputs": [
    {
     "name": "stderr",
     "output_type": "stream",
     "text": [
      "\u001b[32m2025-01-01 06:41:03.532\u001b[0m | \u001b[34m\u001b[1mDEBUG   \u001b[0m | \u001b[36m__main__\u001b[0m:\u001b[36mget_diff_group_diet\u001b[0m:\u001b[36m27\u001b[0m - \u001b[34m\u001b[1mresult saved at .//result/ttest.xlsx\u001b[0m\n"
     ]
    }
   ],
   "source": [
    "# 计算区别\n",
    "def get_diff_group_diet(diet_means,groups,result_path,pdid):\n",
    "    '''按某指标分组，好坏饮食的区别检验'''\n",
    "    diet_labels = gconst.get_labels_statistics_diet()[1:] #第一列为日期，不参与计算\n",
    "    diet_means = np.array(diet_means)[:,1:] #第一列为日期，不参与计算\n",
    "    df_labels = ['group','nutrition','shapiro0','shapiro1','levene','t_test','kruskal','mean0','mean1','std0','std1']\n",
    "    results = []\n",
    "    for group_index in range(len(groups)):\n",
    "        diet_data_group0 = np.array([diet_means[i] for i in range(len(pdid)) if pdid[i] in groups[group_index][0]],dtype=float)\n",
    "        diet_data_group1 = np.array([diet_means[i] for i in range(len(pdid)) if pdid[i] in groups[group_index][1]],dtype=float)\n",
    "        for index,label in enumerate(diet_labels):\n",
    "            data0 = diet_data_group0[:,index]\n",
    "            data1 = diet_data_group1[:,index]\n",
    "            n_test0 = stats.shapiro(data0)#正态性检验\n",
    "            n_test1 = stats.shapiro(data1)#正态性检验\n",
    "            levene = stats.levene(data0,data1)#方差齐性检验\n",
    "            t_test = stats.ttest_ind(data0,data1,equal_var=False) # t检验\n",
    "            kruskal = stats.kruskal(data0,data1) # kruskal检验\n",
    "            mean0,mean1 = np.mean(data0),np.mean(data1)\n",
    "            std0,std1 = np.std(data0),np.std(data1)\n",
    "            result = [f'{feature_label}_{group_index}',f'{label}',n_test0[1],n_test1[1],levene[1],t_test[1],kruskal[1],mean0,mean1,std0,std1]\n",
    "            results.append(result)\n",
    "    df = pd.DataFrame(results,columns=df_labels)\n",
    "    filename = f'{result_path}ttest.xlsx'\n",
    "    with pd.ExcelWriter(filename) as writer:\n",
    "        df.to_excel(writer,float_format='%.4f')\n",
    "        logger.debug(f'result saved at {filename}')\n",
    "get_diff_group_diet(diet_sta_mean,groups,result_path,pdid_656)"
   ]
  },
  {
   "attachments": {},
   "cell_type": "markdown",
   "metadata": {},
   "source": [
    "## Does the diet vary by indicator\n"
   ]
  },
  {
   "cell_type": "code",
   "execution_count": 17,
   "metadata": {},
   "outputs": [
    {
     "name": "stdout",
     "output_type": "stream",
     "text": [
      "Cl\n",
      "CO2CP\n",
      "WBC\n",
      "Hb\n",
      "Urea\n",
      "Ca\n",
      "K\n",
      "Na\n",
      "Scr\n",
      "P\n",
      "Albumin\n",
      "hs-CRP\n",
      "Glucose\n",
      "Appetite\n",
      "Weight\n",
      "SBP\n",
      "DBP\n",
      "age\n",
      "gender\n",
      "diab\n",
      "height\n",
      "bmi\n",
      "gfr\n"
     ]
    },
    {
     "name": "stderr",
     "output_type": "stream",
     "text": [
      "\u001b[32m2025-01-01 06:41:07.514\u001b[0m | \u001b[34m\u001b[1mDEBUG   \u001b[0m | \u001b[36m__main__\u001b[0m:\u001b[36m<module>\u001b[0m:\u001b[36m52\u001b[0m - \u001b[34m\u001b[1mresult saved as .//result/anova_visit_diet.xlsx\u001b[0m\n"
     ]
    }
   ],
   "source": [
    "# 按年龄段分组\n",
    "from scipy import stats\n",
    "from statsmodels.formula.api import ols\n",
    "from statsmodels.stats.anova import anova_lm\n",
    "from statsmodels.stats.multicomp import MultiComparison\n",
    "diet_sta_mean_np = np.array(diet_sta_mean)\n",
    "q = 3\n",
    "# cols = gconst.get_labels_visit() + ['age','height','bmi','gfr']\n",
    "cols = gconst.get_labels_statistics_visit()\n",
    "res = {'label':labels_diet_sta[1:]}\n",
    "for col in cols:\n",
    "    res[col] = []\n",
    "\n",
    "for col in cols: # 对于visit的每个指标，探究这个指标不同的患者，倾向于如何饮食\n",
    "    print(col)\n",
    "    # data离散化，如果是diab或者gender则不用离散化\n",
    "    if col == 'diab' or col =='gender':\n",
    "        data_rounds_index = np.array(visit_sta_first)[:,labels_visit_sta.index(col)]\n",
    "    else:\n",
    "        datas = np.array(visit_sta_first)[:,labels_visit_sta.index(col)]\n",
    "        data_rounds = gconst.get_data_rounds(datas,f\"q{q}\") # data分组的上下界\n",
    "        data_rounds_index = gconst.get_data_rounds_indexs(datas,data_rounds) # data分组的具体分组\n",
    "    \n",
    "    data_rounds_index = [i + 1 for i in data_rounds_index] # 最小的分组不能为0\n",
    "    for index,diet_label in enumerate(labels_diet_sta): # 对于每个饮食营养指标，检验不同的分组是否有区别\n",
    "        if(index == 0): # 第一列是date要跳过\n",
    "            continue\n",
    "        cur_data = diet_sta_mean_np[:,index] # 获取饮食均值\n",
    "        # print(cur_data)\n",
    "        cur_data = [float(i) for i in cur_data]\n",
    "        data_concated = np.concatenate((np.array(cur_data).reshape(-1,1),np.array(data_rounds_index).reshape(-1,1)),axis=1) # 饮食均值和患者分组匹配\n",
    "        df = pd.DataFrame(data_concated,columns=[\"data\",\"group\"])  \n",
    "        \n",
    "        #example8_2=pd.read_csv(\"example8_2.csv\",encoding=\"gbk\") \n",
    "        model = ols(formula='data~group',data=df).fit()  #拟合方差分析模型\n",
    "        table = anova_lm(model,typ=1)\n",
    "        # print(table)\n",
    "        # print(table['PR(>F)']['group'])\n",
    "\n",
    "        # 分别检验\n",
    "        # mc = MultiComparison(df['data'],groups=df['group'])\n",
    "        # print(mc.tukeyhsd(alpha=0.05))  \n",
    "        \n",
    "        res[col].append(table['PR(>F)']['group']) # 均值记录\n",
    "\n",
    "# print(pd.DataFrame(res))\n",
    "# 保存res\n",
    "df_anova_visit_diet = pd.DataFrame(res)\n",
    "filename = f'{result_path}anova_visit_diet.xlsx'\n",
    "with pd.ExcelWriter(filename) as writer:\n",
    "    df_anova_visit_diet.to_excel(writer,float_format='%.4f')\n",
    "    logger.debug(f'result saved as {filename}')"
   ]
  },
  {
   "attachments": {},
   "cell_type": "markdown",
   "metadata": {},
   "source": [
    "# cox test"
   ]
  },
  {
   "cell_type": "code",
   "execution_count": 18,
   "metadata": {},
   "outputs": [],
   "source": [
    "# def do_cox(pdid,data,days,labels=gconst.get_labels_statistics_visit()):\n",
    "#     data_append, labels_append = append_livedatas(pdid, data,days,labels)\n",
    "#     df = pd.DataFrame(data_append,columns=labels_append)\n",
    "#     cph = CoxPHFitter()\n",
    "#     cph.fit(df,duration_col='live_time',event_col='death')\n",
    "#     cph.print_summary()\n",
    "\n",
    "# do_cox(pdid_656,visit_sta_first,days_656)\n"
   ]
  },
  {
   "cell_type": "code",
   "execution_count": 19,
   "metadata": {},
   "outputs": [
    {
     "name": "stdout",
     "output_type": "stream",
     "text": [
      "result saved as .//result/sta_cox_single.xlsx\n",
      "['Cl', 'WBC', 'Urea', 'K', 'Na', 'Scr', 'P', 'Albumin', 'hs-CRP', 'Glucose', 'Appetite', 'Weight', 'SBP', 'DBP', 'age', 'diab', 'bmi']\n"
     ]
    },
    {
     "name": "stderr",
     "output_type": "stream",
     "text": [
      "/opt/conda/envs/esrd/lib/python3.7/site-packages/lifelines/fitters/coxph_fitter.py:1615: ConvergenceWarning: Newton-Raphson failed to converge sufficiently. Please see the following tips in the lifelines documentation: https://lifelines.readthedocs.io/en/latest/Examples.html#problems-with-convergence-in-the-cox-proportional-hazard-model\n",
      "  \"Newton-Raphson failed to converge sufficiently. {0}\".format(CONVERGENCE_DOCS), exceptions.ConvergenceWarning\n"
     ]
    }
   ],
   "source": [
    "# 单变量分析\n",
    "def do_cox_single(pdid,data,days,result_path,save=True): \n",
    "    '''单变量分析，返回分析结果和p值<0.05的列list'''\n",
    "    results = []\n",
    "    col_p_lt = []\n",
    "    data_append, labels_append = append_livedatas(pdid,data,days)\n",
    "    df = pd.DataFrame(data_append,columns=labels_append)\n",
    "    for index,cur_label in enumerate(labels_visit_sta):\n",
    "        df1 = df[[cur_label,'live_time','death']]\n",
    "        cph = CoxPHFitter()\n",
    "        cph.fit(df1,'live_time','death')\n",
    "        df_summary = cph.summary\n",
    "        results.append(df_summary)\n",
    "        p = float(df_summary['p'])\n",
    "        if p < 0.05:\n",
    "            col_p_lt.append(cur_label)\n",
    "\n",
    "    res = pd.concat(results)\n",
    "    if save :\n",
    "        filename = f'{result_path}sta_cox_single.xlsx'\n",
    "        with pd.ExcelWriter(filename) as writer:\n",
    "            res.to_excel(writer,float_format='%.4f')\n",
    "            print(f'result saved as {filename}')\n",
    "    return res,col_p_lt\n",
    "res,col_p_lt = do_cox_single(pdid_656,visit_sta_first,days_656,result_path,save=True)\n",
    "print(col_p_lt)"
   ]
  },
  {
   "cell_type": "code",
   "execution_count": 20,
   "metadata": {},
   "outputs": [
    {
     "name": "stderr",
     "output_type": "stream",
     "text": [
      "/opt/conda/envs/esrd/lib/python3.7/site-packages/lifelines/fitters/coxph_fitter.py:1615: ConvergenceWarning: Newton-Raphson failed to converge sufficiently. Please see the following tips in the lifelines documentation: https://lifelines.readthedocs.io/en/latest/Examples.html#problems-with-convergence-in-the-cox-proportional-hazard-model\n",
      "  \"Newton-Raphson failed to converge sufficiently. {0}\".format(CONVERGENCE_DOCS), exceptions.ConvergenceWarning\n"
     ]
    },
    {
     "name": "stdout",
     "output_type": "stream",
     "text": [
      "['Cl', 'WBC', 'Urea', 'K', 'Na', 'Scr', 'P', 'Albumin', 'hs-CRP', 'Glucose', 'Appetite', 'Weight', 'SBP', 'DBP', 'age', 'diab', 'bmi']\n",
      "result saved as .//result/sta_cox_multi.xlsx\n"
     ]
    },
    {
     "data": {
      "text/plain": [
       "(             coef  exp(coef)  se(coef)  coef lower 95%  coef upper 95%  \\\n",
       " covariate                                                                \n",
       " Cl        -0.0140     0.9861    0.0124         -0.0383          0.0102   \n",
       " WBC        0.0347     1.0353    0.0297         -0.0236          0.0930   \n",
       " Urea      -0.0107     0.9894    0.0138         -0.0377          0.0163   \n",
       " K          0.0599     1.0617    0.0874         -0.1113          0.2312   \n",
       " Na        -0.0200     0.9802    0.0155         -0.0504          0.0104   \n",
       " Scr       -0.0005     0.9995    0.0003         -0.0011          0.0002   \n",
       " P          0.1097     1.1160    0.1663         -0.2163          0.4357   \n",
       " Albumin   -0.0724     0.9302    0.0150         -0.1018         -0.0429   \n",
       " hs-CRP     0.0010     1.0010    0.0054         -0.0096          0.0115   \n",
       " Glucose    0.0338     1.0344    0.0240         -0.0133          0.0809   \n",
       " Weight     0.0096     1.0096    0.0100         -0.0101          0.0292   \n",
       " SBP       -0.0075     0.9925    0.0040         -0.0152          0.0003   \n",
       " DBP       -0.0023     0.9977    0.0073         -0.0166          0.0121   \n",
       " age        0.0487     1.0499    0.0064          0.0362          0.0612   \n",
       " diab       0.1409     1.1513    0.1553         -0.1635          0.4453   \n",
       " bmi       -0.0339     0.9667    0.0284         -0.0895          0.0217   \n",
       " \n",
       "            exp(coef) lower 95%  exp(coef) upper 95%  cmp to       z      p  \\\n",
       " covariate                                                                    \n",
       " Cl                      0.9625               1.0103  0.0000 -1.1352 0.2563   \n",
       " WBC                     0.9767               1.0974  0.0000  1.1662 0.2435   \n",
       " Urea                    0.9630               1.0165  0.0000 -0.7754 0.4381   \n",
       " K                       0.8946               1.2601  0.0000  0.6857 0.4929   \n",
       " Na                      0.9508               1.0105  0.0000 -1.2879 0.1978   \n",
       " Scr                     0.9989               1.0002  0.0000 -1.4341 0.1515   \n",
       " P                       0.8055               1.5461  0.0000  0.6596 0.5095   \n",
       " Albumin                 0.9032               0.9580  0.0000 -4.8165 0.0000   \n",
       " hs-CRP                  0.9905               1.0116  0.0000  0.1794 0.8576   \n",
       " Glucose                 0.9868               1.0842  0.0000  1.4079 0.1592   \n",
       " Weight                  0.9900               1.0296  0.0000  0.9533 0.3404   \n",
       " SBP                     0.9849               1.0003  0.0000 -1.8960 0.0580   \n",
       " DBP                     0.9835               1.0121  0.0000 -0.3127 0.7545   \n",
       " age                     1.0369               1.0631  0.0000  7.6510 0.0000   \n",
       " diab                    0.8492               1.5609  0.0000  0.9074 0.3642   \n",
       " bmi                     0.9144               1.0219  0.0000 -1.1953 0.2320   \n",
       " \n",
       "            -log2(p)  \n",
       " covariate            \n",
       " Cl           1.9641  \n",
       " WBC          2.0379  \n",
       " Urea         1.1906  \n",
       " K            1.0206  \n",
       " Na           2.3380  \n",
       " Scr          2.7222  \n",
       " P            0.9729  \n",
       " Albumin     19.3850  \n",
       " hs-CRP       0.2216  \n",
       " Glucose      2.6514  \n",
       " Weight       1.5546  \n",
       " SBP          4.1089  \n",
       " DBP          0.4063  \n",
       " age         45.5117  \n",
       " diab         1.4571  \n",
       " bmi          2.1080  ,\n",
       " ['Albumin', 'SBP', 'age'])"
      ]
     },
     "execution_count": 20,
     "metadata": {},
     "output_type": "execute_result"
    }
   ],
   "source": [
    "# 多变量分析\n",
    "def do_cox_multi(pdid, data, days, labels,result_path,filename='sta_cox_multi.xlsx',save=True):\n",
    "    '''多变量分析cox'''\n",
    "    data_append, labels_append = append_livedatas(pdid,data,days,labels)\n",
    "    df = pd.DataFrame(data_append,columns=labels_append)\n",
    "    _,col_p_lt = do_cox_single(pdid,data,days,result_path,save=False)\n",
    "    # print(col_p_lt)\n",
    "    # col_p_lt.remove('bmi')\n",
    "    print(col_p_lt)\n",
    "    if 'Appetite' in col_p_lt:\n",
    "        col_p_lt.remove('Appetite')\n",
    "    df1 = df[(col_p_lt + ['live_time','death'])]\n",
    "    cph = CoxPHFitter()\n",
    "    cph.fit(df1,duration_col='live_time',event_col='death')\n",
    "    df_summary = cph.summary\n",
    "    col_p_lt = []\n",
    "    for index,row in df_summary.iterrows():\n",
    "        if row['p'] < 0.1:\n",
    "            col_p_lt.append(index)\n",
    "    res = df_summary\n",
    "    if save:\n",
    "        filename = f'{result_path}{filename}'\n",
    "        with pd.ExcelWriter(filename) as writer:\n",
    "            res.to_excel(writer,float_format='%.4f')\n",
    "            print(f'result saved as {filename}')\n",
    "    return res,col_p_lt\n",
    "do_cox_multi(pdid_656,visit_sta_first,days_656,labels_visit_sta,result_path,save=True)\n"
   ]
  },
  {
   "cell_type": "code",
   "execution_count": 21,
   "metadata": {},
   "outputs": [],
   "source": [
    "## 某一饮食营养对全因死亡率的影响"
   ]
  },
  {
   "cell_type": "code",
   "execution_count": 22,
   "metadata": {},
   "outputs": [
    {
     "name": "stderr",
     "output_type": "stream",
     "text": [
      "/opt/conda/envs/esrd/lib/python3.7/site-packages/lifelines/fitters/coxph_fitter.py:1615: ConvergenceWarning: Newton-Raphson failed to converge sufficiently. Please see the following tips in the lifelines documentation: https://lifelines.readthedocs.io/en/latest/Examples.html#problems-with-convergence-in-the-cox-proportional-hazard-model\n",
      "  \"Newton-Raphson failed to converge sufficiently. {0}\".format(CONVERGENCE_DOCS), exceptions.ConvergenceWarning\n",
      "19it [00:20,  1.10s/it]/opt/conda/envs/esrd/lib/python3.7/site-packages/seaborn/axisgrid.py:447: RuntimeWarning: More than 20 figures have been opened. Figures created through the pyplot interface (`matplotlib.pyplot.figure`) are retained until explicitly closed and may consume too much memory. (To control this warning, see the rcParam `figure.max_open_warning`).\n",
      "  fig = plt.figure(figsize=figsize)\n",
      "20it [00:21,  1.08s/it]/opt/conda/envs/esrd/lib/python3.7/site-packages/ipykernel_launcher.py:31: RuntimeWarning: More than 20 figures have been opened. Figures created through the pyplot interface (`matplotlib.pyplot.figure`) are retained until explicitly closed and may consume too much memory. (To control this warning, see the rcParam `figure.max_open_warning`).\n",
      "26it [00:28,  1.09s/it]"
     ]
    },
    {
     "name": "stdout",
     "output_type": "stream",
     "text": [
      "result saved as .//result//hazard/sta_cox_diet_single_first.xlsx\n"
     ]
    },
    {
     "name": "stderr",
     "output_type": "stream",
     "text": [
      "\n"
     ]
    },
    {
     "data": {
      "text/plain": [
       "(                coef  exp(coef)  se(coef)  coef lower 95%  coef upper 95%  \\\n",
       " covariate                                                                   \n",
       " water        -0.0001     0.9999    0.0002         -0.0005          0.0003   \n",
       " protein      -0.0207     0.9795    0.0083         -0.0369         -0.0045   \n",
       " fat          -0.0097     0.9904    0.0064         -0.0222          0.0029   \n",
       " carbohydrate -0.0042     0.9958    0.0019         -0.0080         -0.0005   \n",
       " Calories     -0.0007     0.9993    0.0003         -0.0013         -0.0001   \n",
       " df           -0.0693     0.9331    0.0270         -0.1221         -0.0164   \n",
       " k            -0.0005     0.9995    0.0002         -0.0009         -0.0000   \n",
       " na           -0.0001     0.9999    0.0001         -0.0004          0.0001   \n",
       " mg           -0.0031     0.9969    0.0014         -0.0059         -0.0003   \n",
       " ca           -0.0005     0.9995    0.0005         -0.0015          0.0005   \n",
       " p            -0.0011     0.9989    0.0005         -0.0022         -0.0001   \n",
       " fe           -0.0290     0.9714    0.0206         -0.0693          0.0113   \n",
       " zn           -0.0874     0.9164    0.0419         -0.1695         -0.0052   \n",
       " cu           -0.1468     0.8635    0.1835         -0.5064          0.2129   \n",
       " mn           -0.1068     0.8987    0.0702         -0.2444          0.0307   \n",
       " se            0.0064     1.0064    0.0085         -0.0102          0.0230   \n",
       " retinol       0.0010     1.0010    0.0005         -0.0000          0.0021   \n",
       " vitaminA      0.0002     1.0002    0.0003         -0.0004          0.0009   \n",
       " carotene      0.0000     1.0000    0.0001         -0.0002          0.0002   \n",
       " vitaminE     -0.0141     0.9860    0.0126         -0.0389          0.0107   \n",
       " thiamine      0.0244     1.0247    0.0136         -0.0023          0.0511   \n",
       " riboflavin    0.0263     1.0267    0.0140         -0.0011          0.0537   \n",
       " nicotinic    -0.0535     0.9479    0.0225         -0.0975         -0.0095   \n",
       " ascorbic     -0.0029     0.9971    0.0019         -0.0067          0.0008   \n",
       " dpi          -0.9847     0.3736    0.4472         -1.8612         -0.1082   \n",
       " dei          -0.0349     0.9657    0.0164         -0.0670         -0.0028   \n",
       " \n",
       "               exp(coef) lower 95%  exp(coef) upper 95%  cmp to       z      p  \\\n",
       " covariate                                                                       \n",
       " water                      0.9995               1.0003  0.0000 -0.4045 0.6858   \n",
       " protein                    0.9637               0.9955  0.0000 -2.5086 0.0121   \n",
       " fat                        0.9780               1.0029  0.0000 -1.5119 0.1306   \n",
       " carbohydrate               0.9921               0.9995  0.0000 -2.2280 0.0259   \n",
       " Calories                   0.9987               0.9999  0.0000 -2.3779 0.0174   \n",
       " df                         0.8850               0.9837  0.0000 -2.5683 0.0102   \n",
       " k                          0.9991               1.0000  0.0000 -2.0373 0.0416   \n",
       " na                         0.9996               1.0001  0.0000 -1.3313 0.1831   \n",
       " mg                         0.9941               0.9997  0.0000 -2.1391 0.0324   \n",
       " ca                         0.9985               1.0005  0.0000 -0.9328 0.3509   \n",
       " p                          0.9978               0.9999  0.0000 -2.1449 0.0320   \n",
       " fe                         0.9331               1.0114  0.0000 -1.4093 0.1587   \n",
       " zn                         0.8441               0.9948  0.0000 -2.0843 0.0371   \n",
       " cu                         0.6026               1.2373  0.0000 -0.7998 0.4238   \n",
       " mn                         0.7832               1.0312  0.0000 -1.5223 0.1279   \n",
       " se                         0.9898               1.0233  0.0000  0.7548 0.4504   \n",
       " retinol                    1.0000               1.0021  0.0000  1.9097 0.0562   \n",
       " vitaminA                   0.9996               1.0009  0.0000  0.7247 0.4687   \n",
       " carotene                   0.9998               1.0002  0.0000  0.0338 0.9730   \n",
       " vitaminE                   0.9619               1.0107  0.0000 -1.1149 0.2649   \n",
       " thiamine                   0.9977               1.0524  0.0000  1.7938 0.0728   \n",
       " riboflavin                 0.9989               1.0552  0.0000  1.8821 0.0598   \n",
       " nicotinic                  0.9071               0.9905  0.0000 -2.3829 0.0172   \n",
       " ascorbic                   0.9934               1.0008  0.0000 -1.5501 0.1211   \n",
       " dpi                        0.1555               0.8974  0.0000 -2.2020 0.0277   \n",
       " dei                        0.9352               0.9972  0.0000 -2.1312 0.0331   \n",
       " \n",
       "               -log2(p)  \n",
       " covariate               \n",
       " water           0.5441  \n",
       " protein         6.3663  \n",
       " fat             2.9371  \n",
       " carbohydrate    5.2720  \n",
       " Calories        5.8439  \n",
       " df              6.6127  \n",
       " k               4.5867  \n",
       " na              2.4494  \n",
       " mg              4.9466  \n",
       " ca              1.5108  \n",
       " p               4.9676  \n",
       " fe              2.6552  \n",
       " zn              4.7513  \n",
       " cu              1.2385  \n",
       " mn              2.9665  \n",
       " se              1.1509  \n",
       " retinol         4.1541  \n",
       " vitaminA        1.0934  \n",
       " carotene        0.0395  \n",
       " vitaminE        1.9164  \n",
       " thiamine        3.7791  \n",
       " riboflavin      4.0632  \n",
       " nicotinic       5.8632  \n",
       " ascorbic        3.0456  \n",
       " dpi             5.1756  \n",
       " dei             4.9181  ,\n",
       " ['protein',\n",
       "  'carbohydrate',\n",
       "  'Calories',\n",
       "  'df',\n",
       "  'k',\n",
       "  'mg',\n",
       "  'p',\n",
       "  'zn',\n",
       "  'nicotinic',\n",
       "  'dpi',\n",
       "  'dei'])"
      ]
     },
     "execution_count": 22,
     "metadata": {},
     "output_type": "execute_result"
    },
    {
     "data": {
      "text/plain": [
       "<Figure size 640x480 with 0 Axes>"
      ]
     },
     "metadata": {},
     "output_type": "display_data"
    },
    {
     "data": {
      "text/plain": [
       "<Figure size 640x480 with 0 Axes>"
      ]
     },
     "metadata": {},
     "output_type": "display_data"
    },
    {
     "data": {
      "text/plain": [
       "<Figure size 640x480 with 0 Axes>"
      ]
     },
     "metadata": {},
     "output_type": "display_data"
    },
    {
     "data": {
      "text/plain": [
       "<Figure size 640x480 with 0 Axes>"
      ]
     },
     "metadata": {},
     "output_type": "display_data"
    },
    {
     "data": {
      "text/plain": [
       "<Figure size 640x480 with 0 Axes>"
      ]
     },
     "metadata": {},
     "output_type": "display_data"
    },
    {
     "data": {
      "text/plain": [
       "<Figure size 640x480 with 0 Axes>"
      ]
     },
     "metadata": {},
     "output_type": "display_data"
    },
    {
     "data": {
      "text/plain": [
       "<Figure size 640x480 with 0 Axes>"
      ]
     },
     "metadata": {},
     "output_type": "display_data"
    },
    {
     "data": {
      "text/plain": [
       "<Figure size 640x480 with 0 Axes>"
      ]
     },
     "metadata": {},
     "output_type": "display_data"
    },
    {
     "data": {
      "text/plain": [
       "<Figure size 640x480 with 0 Axes>"
      ]
     },
     "metadata": {},
     "output_type": "display_data"
    },
    {
     "data": {
      "text/plain": [
       "<Figure size 640x480 with 0 Axes>"
      ]
     },
     "metadata": {},
     "output_type": "display_data"
    },
    {
     "data": {
      "text/plain": [
       "<Figure size 640x480 with 0 Axes>"
      ]
     },
     "metadata": {},
     "output_type": "display_data"
    },
    {
     "data": {
      "text/plain": [
       "<Figure size 640x480 with 0 Axes>"
      ]
     },
     "metadata": {},
     "output_type": "display_data"
    },
    {
     "data": {
      "text/plain": [
       "<Figure size 640x480 with 0 Axes>"
      ]
     },
     "metadata": {},
     "output_type": "display_data"
    },
    {
     "data": {
      "text/plain": [
       "<Figure size 640x480 with 0 Axes>"
      ]
     },
     "metadata": {},
     "output_type": "display_data"
    },
    {
     "data": {
      "text/plain": [
       "<Figure size 640x480 with 0 Axes>"
      ]
     },
     "metadata": {},
     "output_type": "display_data"
    },
    {
     "data": {
      "text/plain": [
       "<Figure size 640x480 with 0 Axes>"
      ]
     },
     "metadata": {},
     "output_type": "display_data"
    },
    {
     "data": {
      "text/plain": [
       "<Figure size 640x480 with 0 Axes>"
      ]
     },
     "metadata": {},
     "output_type": "display_data"
    },
    {
     "data": {
      "text/plain": [
       "<Figure size 640x480 with 0 Axes>"
      ]
     },
     "metadata": {},
     "output_type": "display_data"
    },
    {
     "data": {
      "text/plain": [
       "<Figure size 640x480 with 0 Axes>"
      ]
     },
     "metadata": {},
     "output_type": "display_data"
    },
    {
     "data": {
      "text/plain": [
       "<Figure size 640x480 with 0 Axes>"
      ]
     },
     "metadata": {},
     "output_type": "display_data"
    },
    {
     "data": {
      "text/plain": [
       "<Figure size 640x480 with 0 Axes>"
      ]
     },
     "metadata": {},
     "output_type": "display_data"
    },
    {
     "data": {
      "text/plain": [
       "<Figure size 640x480 with 0 Axes>"
      ]
     },
     "metadata": {},
     "output_type": "display_data"
    },
    {
     "data": {
      "text/plain": [
       "<Figure size 640x480 with 0 Axes>"
      ]
     },
     "metadata": {},
     "output_type": "display_data"
    },
    {
     "data": {
      "text/plain": [
       "<Figure size 640x480 with 0 Axes>"
      ]
     },
     "metadata": {},
     "output_type": "display_data"
    },
    {
     "data": {
      "text/plain": [
       "<Figure size 640x480 with 0 Axes>"
      ]
     },
     "metadata": {},
     "output_type": "display_data"
    },
    {
     "data": {
      "text/plain": [
       "<Figure size 640x480 with 0 Axes>"
      ]
     },
     "metadata": {},
     "output_type": "display_data"
    }
   ],
   "source": [
    "from lifelines.utils import find_best_parametric_model\n",
    "def do_cox_single_diet(pdid, visit,diet, days,result_path,save=True):\n",
    "    \n",
    "    labels_diet = gconst.get_labels_statistics_diet()\n",
    "    labels_visit = gconst.get_labels_statistics_visit()\n",
    "    labels_for_pic = gconst.get_labels_statistics_diet_for_pic_with_unit()\n",
    "    _, col_p_lt = do_cox_single(pdid,visit,days,result_path,save=False) # 单变量分析，获取调整变量\n",
    "    data =np.concatenate([visit,diet],axis=1) # 拼接visit 和 diet\n",
    "    data_append,label_append = append_livedatas(pdid,data,days,labels_visit + labels_diet)\n",
    "    df = pd.DataFrame(data_append,columns=label_append)\n",
    "    # print(df)\n",
    "    results = []\n",
    "    col_p_lt_diet = []\n",
    "    for index,cur_label in tqdm(enumerate(labels_diet[1:])): # 不需要第一个date\n",
    "        \n",
    "        df1 = df[col_p_lt + [cur_label] + ['live_time','death']]\n",
    "        cph = CoxPHFitter()\n",
    "        cph.fit(df1,duration_col='live_time',event_col='death')\n",
    "        df_summary = cph.summary\n",
    "        cur_df_summary = df_summary[df_summary.index == cur_label] # 获取当前营养元素的行\n",
    "        results.append(cur_df_summary)\n",
    "        p = float(df_summary['p'][cur_label])\n",
    "        if p < 0.05:\n",
    "            col_p_lt_diet.append(cur_label)\n",
    "        hazard = list(cph.predict_partial_hazard(df1))\n",
    "        cur_data = list(df1[cur_label])\n",
    "        cur = np.concatenate([np.array(hazard,dtype=float).reshape(-1,1),np.array(cur_data,dtype=float).reshape(-1,1)],axis=1) # 合并\n",
    "        cur_df = pd.DataFrame(cur,columns=['hazard',cur_label])\n",
    "        # print(cur_df)\n",
    "        # break\n",
    "        plt.figure()\n",
    "        sns.set_style('white')\n",
    "        # sns.scatterplot(x=cur_data,y=hazard)\n",
    "        # sns.color_palette(\"Spectral\", as_cmap=True)\n",
    "        # sns.regplot(data=cur_df,x=f'{cur_label}',y=f'hazard',scatter_kws={\"alpha\":.2,\"color\":\"black\"})\n",
    "        # 删除值大于15的点\n",
    "        cur_df_cur = pd.DataFrame(cur_df[cur_df['hazard']<8])\n",
    "\n",
    "        ax = sns.relplot(data=cur_df_cur,x=f'{cur_label}',y=f'hazard',kind='scatter', alpha=0.5,color='black')\n",
    "        ax.set_xlabels(f'{labels_for_pic[labels_diet.index(cur_label)]}',fontsize=20)\n",
    "        ax.set_ylabels(f'HR',fontsize=20)\n",
    "        # xy标签字号设置\n",
    "        plt.xticks(fontsize=18)\n",
    "        plt.yticks(fontsize=18)\n",
    "        # ax.axes_style()\n",
    "        # 字号\n",
    "\n",
    "        # plt.savefig(f'{result_path}hazard/{cur_label}.svg',dpi=300)\n",
    "        plt.savefig(f'{result_path}{cur_label}.pdf',dpi=300,bbox_inches='tight')\n",
    "        plt.savefig(f'{result_path}{cur_label}.png',dpi=300,bbox_inches='tight')\n",
    "        plt.savefig(f'{result_path}{cur_label}.svg',dpi=300,bbox_inches='tight')\n",
    "\n",
    "        plt.close()\n",
    "        # break\n",
    "        # cph.plot_cumulative_hazard()\n",
    "        # print(hazard,cur_data)\n",
    "        # print(cur_df)  \n",
    "        # break  \n",
    "    res = pd.concat(results)\n",
    "    if save:\n",
    "        filename = f'{result_path}sta_cox_diet_single_first.xlsx'\n",
    "        with pd.ExcelWriter(filename) as writer:\n",
    "            res.to_excel(writer,float_format='%.4f')\n",
    "            print(f'result saved as {filename}')\n",
    "\n",
    "    return res,col_p_lt_diet\n",
    "import os\n",
    "# mkdir\n",
    "os.makedirs(f'{result_path}/hazard/',exist_ok=True)\n",
    "# do_cox_single_diet(pdid_656,visit_sta_first,diet_sta_first,days_656,f'{result_path}/hazard/',save=True)\n",
    "do_cox_single_diet(pdid_656,visit_sta_first,diet_sta_mean,days_656,f'{result_path}/hazard/',save=True)\n",
    "    "
   ]
  },
  {
   "cell_type": "markdown",
   "metadata": {},
   "source": [
    "## cox for different albumin group"
   ]
  },
  {
   "cell_type": "code",
   "execution_count": 23,
   "metadata": {},
   "outputs": [
    {
     "name": "stderr",
     "output_type": "stream",
     "text": [
      "19it [00:16,  1.15it/s]/opt/conda/envs/esrd/lib/python3.7/site-packages/seaborn/axisgrid.py:447: RuntimeWarning: More than 20 figures have been opened. Figures created through the pyplot interface (`matplotlib.pyplot.figure`) are retained until explicitly closed and may consume too much memory. (To control this warning, see the rcParam `figure.max_open_warning`).\n",
      "  fig = plt.figure(figsize=figsize)\n",
      "20it [00:17,  1.04it/s]/opt/conda/envs/esrd/lib/python3.7/site-packages/ipykernel_launcher.py:31: RuntimeWarning: More than 20 figures have been opened. Figures created through the pyplot interface (`matplotlib.pyplot.figure`) are retained until explicitly closed and may consume too much memory. (To control this warning, see the rcParam `figure.max_open_warning`).\n",
      "26it [00:23,  1.11it/s]\n"
     ]
    },
    {
     "name": "stdout",
     "output_type": "stream",
     "text": [
      "result saved as .//result//hazard/0/sta_cox_diet_single_first.xlsx\n"
     ]
    },
    {
     "name": "stderr",
     "output_type": "stream",
     "text": [
      "26it [00:30,  1.16s/it]\n"
     ]
    },
    {
     "name": "stdout",
     "output_type": "stream",
     "text": [
      "result saved as .//result//hazard/1/sta_cox_diet_single_first.xlsx\n"
     ]
    },
    {
     "name": "stderr",
     "output_type": "stream",
     "text": [
      "26it [00:22,  1.15it/s]"
     ]
    },
    {
     "name": "stdout",
     "output_type": "stream",
     "text": [
      "result saved as .//result//hazard/2/sta_cox_diet_single_first.xlsx\n"
     ]
    },
    {
     "name": "stderr",
     "output_type": "stream",
     "text": [
      "\n"
     ]
    },
    {
     "data": {
      "text/plain": [
       "<Figure size 640x480 with 0 Axes>"
      ]
     },
     "metadata": {},
     "output_type": "display_data"
    },
    {
     "data": {
      "text/plain": [
       "<Figure size 640x480 with 0 Axes>"
      ]
     },
     "metadata": {},
     "output_type": "display_data"
    },
    {
     "data": {
      "text/plain": [
       "<Figure size 640x480 with 0 Axes>"
      ]
     },
     "metadata": {},
     "output_type": "display_data"
    },
    {
     "data": {
      "text/plain": [
       "<Figure size 640x480 with 0 Axes>"
      ]
     },
     "metadata": {},
     "output_type": "display_data"
    },
    {
     "data": {
      "text/plain": [
       "<Figure size 640x480 with 0 Axes>"
      ]
     },
     "metadata": {},
     "output_type": "display_data"
    },
    {
     "data": {
      "text/plain": [
       "<Figure size 640x480 with 0 Axes>"
      ]
     },
     "metadata": {},
     "output_type": "display_data"
    },
    {
     "data": {
      "text/plain": [
       "<Figure size 640x480 with 0 Axes>"
      ]
     },
     "metadata": {},
     "output_type": "display_data"
    },
    {
     "data": {
      "text/plain": [
       "<Figure size 640x480 with 0 Axes>"
      ]
     },
     "metadata": {},
     "output_type": "display_data"
    },
    {
     "data": {
      "text/plain": [
       "<Figure size 640x480 with 0 Axes>"
      ]
     },
     "metadata": {},
     "output_type": "display_data"
    },
    {
     "data": {
      "text/plain": [
       "<Figure size 640x480 with 0 Axes>"
      ]
     },
     "metadata": {},
     "output_type": "display_data"
    },
    {
     "data": {
      "text/plain": [
       "<Figure size 640x480 with 0 Axes>"
      ]
     },
     "metadata": {},
     "output_type": "display_data"
    },
    {
     "data": {
      "text/plain": [
       "<Figure size 640x480 with 0 Axes>"
      ]
     },
     "metadata": {},
     "output_type": "display_data"
    },
    {
     "data": {
      "text/plain": [
       "<Figure size 640x480 with 0 Axes>"
      ]
     },
     "metadata": {},
     "output_type": "display_data"
    },
    {
     "data": {
      "text/plain": [
       "<Figure size 640x480 with 0 Axes>"
      ]
     },
     "metadata": {},
     "output_type": "display_data"
    },
    {
     "data": {
      "text/plain": [
       "<Figure size 640x480 with 0 Axes>"
      ]
     },
     "metadata": {},
     "output_type": "display_data"
    },
    {
     "data": {
      "text/plain": [
       "<Figure size 640x480 with 0 Axes>"
      ]
     },
     "metadata": {},
     "output_type": "display_data"
    },
    {
     "data": {
      "text/plain": [
       "<Figure size 640x480 with 0 Axes>"
      ]
     },
     "metadata": {},
     "output_type": "display_data"
    },
    {
     "data": {
      "text/plain": [
       "<Figure size 640x480 with 0 Axes>"
      ]
     },
     "metadata": {},
     "output_type": "display_data"
    },
    {
     "data": {
      "text/plain": [
       "<Figure size 640x480 with 0 Axes>"
      ]
     },
     "metadata": {},
     "output_type": "display_data"
    },
    {
     "data": {
      "text/plain": [
       "<Figure size 640x480 with 0 Axes>"
      ]
     },
     "metadata": {},
     "output_type": "display_data"
    },
    {
     "data": {
      "text/plain": [
       "<Figure size 640x480 with 0 Axes>"
      ]
     },
     "metadata": {},
     "output_type": "display_data"
    },
    {
     "data": {
      "text/plain": [
       "<Figure size 640x480 with 0 Axes>"
      ]
     },
     "metadata": {},
     "output_type": "display_data"
    },
    {
     "data": {
      "text/plain": [
       "<Figure size 640x480 with 0 Axes>"
      ]
     },
     "metadata": {},
     "output_type": "display_data"
    },
    {
     "data": {
      "text/plain": [
       "<Figure size 640x480 with 0 Axes>"
      ]
     },
     "metadata": {},
     "output_type": "display_data"
    },
    {
     "data": {
      "text/plain": [
       "<Figure size 640x480 with 0 Axes>"
      ]
     },
     "metadata": {},
     "output_type": "display_data"
    },
    {
     "data": {
      "text/plain": [
       "<Figure size 640x480 with 0 Axes>"
      ]
     },
     "metadata": {},
     "output_type": "display_data"
    },
    {
     "data": {
      "text/plain": [
       "<Figure size 640x480 with 0 Axes>"
      ]
     },
     "metadata": {},
     "output_type": "display_data"
    },
    {
     "data": {
      "text/plain": [
       "<Figure size 640x480 with 0 Axes>"
      ]
     },
     "metadata": {},
     "output_type": "display_data"
    },
    {
     "data": {
      "text/plain": [
       "<Figure size 640x480 with 0 Axes>"
      ]
     },
     "metadata": {},
     "output_type": "display_data"
    },
    {
     "data": {
      "text/plain": [
       "<Figure size 640x480 with 0 Axes>"
      ]
     },
     "metadata": {},
     "output_type": "display_data"
    },
    {
     "data": {
      "text/plain": [
       "<Figure size 640x480 with 0 Axes>"
      ]
     },
     "metadata": {},
     "output_type": "display_data"
    },
    {
     "data": {
      "text/plain": [
       "<Figure size 640x480 with 0 Axes>"
      ]
     },
     "metadata": {},
     "output_type": "display_data"
    },
    {
     "data": {
      "text/plain": [
       "<Figure size 640x480 with 0 Axes>"
      ]
     },
     "metadata": {},
     "output_type": "display_data"
    },
    {
     "data": {
      "text/plain": [
       "<Figure size 640x480 with 0 Axes>"
      ]
     },
     "metadata": {},
     "output_type": "display_data"
    },
    {
     "data": {
      "text/plain": [
       "<Figure size 640x480 with 0 Axes>"
      ]
     },
     "metadata": {},
     "output_type": "display_data"
    },
    {
     "data": {
      "text/plain": [
       "<Figure size 640x480 with 0 Axes>"
      ]
     },
     "metadata": {},
     "output_type": "display_data"
    },
    {
     "data": {
      "text/plain": [
       "<Figure size 640x480 with 0 Axes>"
      ]
     },
     "metadata": {},
     "output_type": "display_data"
    },
    {
     "data": {
      "text/plain": [
       "<Figure size 640x480 with 0 Axes>"
      ]
     },
     "metadata": {},
     "output_type": "display_data"
    },
    {
     "data": {
      "text/plain": [
       "<Figure size 640x480 with 0 Axes>"
      ]
     },
     "metadata": {},
     "output_type": "display_data"
    },
    {
     "data": {
      "text/plain": [
       "<Figure size 640x480 with 0 Axes>"
      ]
     },
     "metadata": {},
     "output_type": "display_data"
    },
    {
     "data": {
      "text/plain": [
       "<Figure size 640x480 with 0 Axes>"
      ]
     },
     "metadata": {},
     "output_type": "display_data"
    },
    {
     "data": {
      "text/plain": [
       "<Figure size 640x480 with 0 Axes>"
      ]
     },
     "metadata": {},
     "output_type": "display_data"
    },
    {
     "data": {
      "text/plain": [
       "<Figure size 640x480 with 0 Axes>"
      ]
     },
     "metadata": {},
     "output_type": "display_data"
    },
    {
     "data": {
      "text/plain": [
       "<Figure size 640x480 with 0 Axes>"
      ]
     },
     "metadata": {},
     "output_type": "display_data"
    },
    {
     "data": {
      "text/plain": [
       "<Figure size 640x480 with 0 Axes>"
      ]
     },
     "metadata": {},
     "output_type": "display_data"
    },
    {
     "data": {
      "text/plain": [
       "<Figure size 640x480 with 0 Axes>"
      ]
     },
     "metadata": {},
     "output_type": "display_data"
    },
    {
     "data": {
      "text/plain": [
       "<Figure size 640x480 with 0 Axes>"
      ]
     },
     "metadata": {},
     "output_type": "display_data"
    },
    {
     "data": {
      "text/plain": [
       "<Figure size 640x480 with 0 Axes>"
      ]
     },
     "metadata": {},
     "output_type": "display_data"
    },
    {
     "data": {
      "text/plain": [
       "<Figure size 640x480 with 0 Axes>"
      ]
     },
     "metadata": {},
     "output_type": "display_data"
    },
    {
     "data": {
      "text/plain": [
       "<Figure size 640x480 with 0 Axes>"
      ]
     },
     "metadata": {},
     "output_type": "display_data"
    },
    {
     "data": {
      "text/plain": [
       "<Figure size 640x480 with 0 Axes>"
      ]
     },
     "metadata": {},
     "output_type": "display_data"
    },
    {
     "data": {
      "text/plain": [
       "<Figure size 640x480 with 0 Axes>"
      ]
     },
     "metadata": {},
     "output_type": "display_data"
    },
    {
     "data": {
      "text/plain": [
       "<Figure size 640x480 with 0 Axes>"
      ]
     },
     "metadata": {},
     "output_type": "display_data"
    },
    {
     "data": {
      "text/plain": [
       "<Figure size 640x480 with 0 Axes>"
      ]
     },
     "metadata": {},
     "output_type": "display_data"
    },
    {
     "data": {
      "text/plain": [
       "<Figure size 640x480 with 0 Axes>"
      ]
     },
     "metadata": {},
     "output_type": "display_data"
    },
    {
     "data": {
      "text/plain": [
       "<Figure size 640x480 with 0 Axes>"
      ]
     },
     "metadata": {},
     "output_type": "display_data"
    },
    {
     "data": {
      "text/plain": [
       "<Figure size 640x480 with 0 Axes>"
      ]
     },
     "metadata": {},
     "output_type": "display_data"
    },
    {
     "data": {
      "text/plain": [
       "<Figure size 640x480 with 0 Axes>"
      ]
     },
     "metadata": {},
     "output_type": "display_data"
    },
    {
     "data": {
      "text/plain": [
       "<Figure size 640x480 with 0 Axes>"
      ]
     },
     "metadata": {},
     "output_type": "display_data"
    },
    {
     "data": {
      "text/plain": [
       "<Figure size 640x480 with 0 Axes>"
      ]
     },
     "metadata": {},
     "output_type": "display_data"
    },
    {
     "data": {
      "text/plain": [
       "<Figure size 640x480 with 0 Axes>"
      ]
     },
     "metadata": {},
     "output_type": "display_data"
    },
    {
     "data": {
      "text/plain": [
       "<Figure size 640x480 with 0 Axes>"
      ]
     },
     "metadata": {},
     "output_type": "display_data"
    },
    {
     "data": {
      "text/plain": [
       "<Figure size 640x480 with 0 Axes>"
      ]
     },
     "metadata": {},
     "output_type": "display_data"
    },
    {
     "data": {
      "text/plain": [
       "<Figure size 640x480 with 0 Axes>"
      ]
     },
     "metadata": {},
     "output_type": "display_data"
    },
    {
     "data": {
      "text/plain": [
       "<Figure size 640x480 with 0 Axes>"
      ]
     },
     "metadata": {},
     "output_type": "display_data"
    },
    {
     "data": {
      "text/plain": [
       "<Figure size 640x480 with 0 Axes>"
      ]
     },
     "metadata": {},
     "output_type": "display_data"
    },
    {
     "data": {
      "text/plain": [
       "<Figure size 640x480 with 0 Axes>"
      ]
     },
     "metadata": {},
     "output_type": "display_data"
    },
    {
     "data": {
      "text/plain": [
       "<Figure size 640x480 with 0 Axes>"
      ]
     },
     "metadata": {},
     "output_type": "display_data"
    },
    {
     "data": {
      "text/plain": [
       "<Figure size 640x480 with 0 Axes>"
      ]
     },
     "metadata": {},
     "output_type": "display_data"
    },
    {
     "data": {
      "text/plain": [
       "<Figure size 640x480 with 0 Axes>"
      ]
     },
     "metadata": {},
     "output_type": "display_data"
    },
    {
     "data": {
      "text/plain": [
       "<Figure size 640x480 with 0 Axes>"
      ]
     },
     "metadata": {},
     "output_type": "display_data"
    },
    {
     "data": {
      "text/plain": [
       "<Figure size 640x480 with 0 Axes>"
      ]
     },
     "metadata": {},
     "output_type": "display_data"
    },
    {
     "data": {
      "text/plain": [
       "<Figure size 640x480 with 0 Axes>"
      ]
     },
     "metadata": {},
     "output_type": "display_data"
    },
    {
     "data": {
      "text/plain": [
       "<Figure size 640x480 with 0 Axes>"
      ]
     },
     "metadata": {},
     "output_type": "display_data"
    },
    {
     "data": {
      "text/plain": [
       "<Figure size 640x480 with 0 Axes>"
      ]
     },
     "metadata": {},
     "output_type": "display_data"
    },
    {
     "data": {
      "text/plain": [
       "<Figure size 640x480 with 0 Axes>"
      ]
     },
     "metadata": {},
     "output_type": "display_data"
    },
    {
     "data": {
      "text/plain": [
       "<Figure size 640x480 with 0 Axes>"
      ]
     },
     "metadata": {},
     "output_type": "display_data"
    },
    {
     "data": {
      "text/plain": [
       "<Figure size 640x480 with 0 Axes>"
      ]
     },
     "metadata": {},
     "output_type": "display_data"
    }
   ],
   "source": [
    "\n",
    "\n",
    "visit_sta_first_df = pd.DataFrame(visit_sta_first,columns=labels_visit_sta)\n",
    "albumin_data_rounds = gconst.get_data_rounds(visit_sta_first_df['Albumin'])\n",
    "albumin_groups = gconst.get_data_rounds_indexs(visit_sta_first_df['Albumin'],albumin_data_rounds)\n",
    "\n",
    "# 不同albumin组的做cox，保存到 sta_cox_multi_stage_i.xlsx\n",
    "# do_cox_multi(pdid_656,visit_sta_first,days_656,labels_visit_sta,result_path,save=True)\n",
    "\n",
    "\n",
    "for stage in range(3):\n",
    "    # 统计 albumin_groups 中 值为 stage 的 index\n",
    "    cur_index = [i for i in range(len(pdid_656)) if albumin_groups[i] == stage ]\n",
    "    # 筛选值\n",
    "    cur_visit_sta_first = [visit_sta_first[i] for i in cur_index]\n",
    "    cur_diet_sta_first = [diet_sta_first[i] for i in cur_index]\n",
    "    cur_days_656 = [days_656[i] for i in cur_index]\n",
    "    cur_result_path = f'{result_path}/hazard/{stage}/'\n",
    "    import os\n",
    "    if not os.path.exists(cur_result_path):\n",
    "        os.makedirs(cur_result_path)\n",
    "    do_cox_single_diet(cur_index,cur_visit_sta_first,cur_diet_sta_first,cur_days_656,cur_result_path,save=True)\n",
    "    # do_cox_multi(cur_index, cur_visit_sta_first,cur_days_656, labels_visit_sta, result_path=result_path, filename=f'sta_cox_multi_stage{stage}.xlsx',save=True)\n"
   ]
  },
  {
   "cell_type": "code",
   "execution_count": 24,
   "metadata": {},
   "outputs": [
    {
     "name": "stdout",
     "output_type": "stream",
     "text": [
      "['Cl', 'K', 'Na', 'Scr', 'hs-CRP', 'Appetite', 'Weight', 'SBP', 'DBP', 'age', 'gfr']\n",
      "result saved as .//result/sta_cox_multi_stage0.xlsx\n",
      "['Cl', 'Urea', 'Ca', 'Na', 'Scr', 'Albumin', 'SBP', 'DBP', 'age', 'diab', 'gfr']\n",
      "result saved as .//result/sta_cox_multi_stage1.xlsx\n",
      "['Scr', 'Albumin', 'Glucose', 'Appetite', 'DBP', 'age', 'diab', 'gfr']\n",
      "result saved as .//result/sta_cox_multi_stage2.xlsx\n"
     ]
    }
   ],
   "source": [
    "visit_sta_first_df = pd.DataFrame(visit_sta_first,columns=labels_visit_sta)\n",
    "albumin_data_rounds = gconst.get_data_rounds(visit_sta_first_df['Albumin'])\n",
    "albumin_groups = gconst.get_data_rounds_indexs(visit_sta_first_df['Albumin'],albumin_data_rounds)\n",
    "\n",
    "# 不同albumin组的做cox，保存到 sta_cox_multi_stage_i.xlsx\n",
    "# do_cox_multi(pdid_656,visit_sta_first,days_656,labels_visit_sta,result_path,save=True)\n",
    "\n",
    "\n",
    "for stage in range(3):\n",
    "    # 统计 albumin_groups 中 值为 stage 的 index\n",
    "    cur_index = [i for i in range(len(pdid_656)) if albumin_groups[i] == stage ]\n",
    "    # 筛选值\n",
    "    cur_visit_sta_first = [visit_sta_first[i] for i in cur_index]\n",
    "    cur_days_656 = [days_656[i] for i in cur_index]\n",
    "    do_cox_multi(cur_index, cur_visit_sta_first,cur_days_656, labels_visit_sta, result_path=result_path, filename=f'sta_cox_multi_stage{stage}.xlsx',save=True)"
   ]
  },
  {
   "cell_type": "markdown",
   "metadata": {},
   "source": [
    "# about visits"
   ]
  },
  {
   "cell_type": "markdown",
   "metadata": {},
   "source": [
    "## statistc the visit"
   ]
  },
  {
   "cell_type": "code",
   "execution_count": 25,
   "metadata": {},
   "outputs": [
    {
     "name": "stdout",
     "output_type": "stream",
     "text": [
      "date_diet\n",
      "间隔90天 [656, 599, 563, 533, 517, 489, 469]\n",
      "间隔180天 [656, 563, 517, 469, 414, 364, 316]\n",
      "date_visit\n"
     ]
    }
   ],
   "source": [
    "#统计随访\n",
    "\n",
    "dates_visit = date_656\n",
    "dates_diet = [np.array(diet_sta[i])[:,0] for i in range(len(diet_sta))]\n",
    "date_first = [i[0] for i in dates_visit]\n",
    "dates = dates_diet\n",
    "\n",
    "def get_interval_count(dates,date_first,output=False,interval = 180):\n",
    "    '''统计一个患者最远有几次记录\n",
    "    @param dates: 所有患者的全部的随访/饮食记录的时间\n",
    "    @param date_first:所有患者的首次随访时间，作为初始点\n",
    "    @param output:是否输出\n",
    "    @param interval: 统计间隔，90/180\n",
    "    @return 记录属于第几段 '''\n",
    "    date_first = [datetime.datetime.strptime(i,'%Y/%m/%d') for i in date_first]\n",
    "    have6 = [0 for i in range(7)]\n",
    "    have6_180 = [0 for i in range(7)]\n",
    "    visit_count = []\n",
    "\n",
    "    for j in range(len(dates)):\n",
    "        cur_dates_str = dates[j]\n",
    "        # print(cur_dates_str)\n",
    "        cur_dates = [datetime.datetime.strptime(cur_date_str,'%Y/%m/%d') for cur_date_str in cur_dates_str]\n",
    "        \n",
    "        cur_dates_relative = [max(0,(cur_dates[i] - date_first[j]).days) for i in range(len(cur_dates))] # 记录时间 - 第一次就诊时间\n",
    "        cur_belong = [i // 90 for i in cur_dates_relative]\n",
    "        cur_belong_180 = [i // 180 for i in cur_dates_relative]\n",
    "        visit_count.append([i // interval for i in cur_dates_relative])\n",
    "        # if [i // interval for i in cur_dates_relative].count(-1)!=0:\n",
    "        #     print(\"no\",cur_dates_str)\n",
    "\n",
    "        for i in range(7):\n",
    "            if max(cur_belong)>=i:\n",
    "                have6[i] += 1\n",
    "        for i in range(7):\n",
    "            if max(cur_belong_180)>=i:\n",
    "                have6_180[i] += 1\n",
    "    \n",
    "    if output:\n",
    "        print(\"间隔90天\",have6)\n",
    "        print(\"间隔180天\",have6_180)\n",
    "    return visit_count\n",
    "print('date_diet')\n",
    "visit_count_diet = get_interval_count(dates_diet, date_first,output=True)\n",
    "print('date_visit')\n",
    "# visit_count_visit = get_interval_count(dates_visit, date_first,output=True)"
   ]
  },
  {
   "cell_type": "code",
   "execution_count": 52,
   "metadata": {},
   "outputs": [
    {
     "name": "stdout",
     "output_type": "stream",
     "text": [
      "missing diet interval\n",
      "1167 4056\n",
      "0.28772189349112426\n",
      "0.19879843682294737\n"
     ]
    }
   ],
   "source": [
    "all_interval = 0\n",
    "all_interval_miss = 0\n",
    "all_missing_rate = 0\n",
    "for interval in visit_count_diet:\n",
    "    max_interval = max(interval)\n",
    "    miss_interval = 0\n",
    "    for i in range(max_interval + 1):\n",
    "        if i not in set(interval):\n",
    "            miss_interval+=1\n",
    "    all_interval += max_interval\n",
    "    all_interval_miss += miss_interval\n",
    "    all_missing_rate += (miss_interval / (max_interval+1))\n",
    "    # print(interval, f'{miss_interval} / {max_interval + 1}')\n",
    "print(f'missing diet interval')\n",
    "print(all_interval_miss, all_interval)\n",
    "print(all_interval_miss / all_interval)\n",
    "print(all_missing_rate / 656)"
   ]
  },
  {
   "attachments": {},
   "cell_type": "markdown",
   "metadata": {},
   "source": [
    "## Discrete follow-up data"
   ]
  },
  {
   "cell_type": "code",
   "execution_count": 40,
   "metadata": {},
   "outputs": [
    {
     "name": "stdout",
     "output_type": "stream",
     "text": [
      "diet data, removed date\n",
      "[100, 100, 100, 100, 100, 100, 100, 100, 100, 100, 100, 100, 100, 100, 100, 100, 100, 100, 100, 100, 100, 100, 100, 100, 100, 100, 100, 100, 100, 100, 100, 100, 100, 100, 100, 100, 100, 100, 100, 100, 100, 100, 100, 100, 100, 100, 100, 100, 100, 100, 100, 100, 100, 100, 100, 100, 100, 100, 100, 100, 100, 100, 100, 100, 100, 100, 100, 100, 100, 100, 100, 100, 100, 100, 100, 100, 100, 100, 100, 100, 100, 100, 100, 100, 100, 100, 100, 100, 100, 100, 100, 100, 100, 100, 100, 100, 100, 100, 100, 100, 100, 100, 100, 100, 100, 100, 100, 100, 100, 100, 100, 100, 100, 100, 100, 100, 100, 100, 100, 100, 100, 100, 100, 100, 100, 100, 100, 100, 100, 100, 100, 100, 100, 100, 100, 100, 100, 100, 100, 100, 100, 100, 100, 100, 100, 100, 100, 100, 100, 100, 100, 100, 100, 100, 100, 100, 100, 100, 100, 100, 100, 100, 100, 100, 100, 100, 100, 100, 100, 100, 100, 100, 100, 100, 100, 100, 100, 100, 100, 100, 100, 100, 100, 100, 100, 100, 100, 100, 100, 100, 100, 100, 100, 100, 100, 100, 100, 100, 100, 100, 100, 100, 100, 100, 100, 100, 100, 100, 100, 100, 100, 100, 100, 100, 100, 100, 100, 100, 100, 100, 100, 100, 100, 100, 100, 100, 100, 100, 100, 100, 100, 100, 100, 100, 100, 100, 100, 100, 100, 100, 100, 100, 100, 100, 100, 100, 100, 100, 100, 100, 100, 100, 100, 100, 100, 100, 100, 100, 100, 100, 100, 100, 100, 100, 100, 100, 100, 100, 100, 100, 100, 100, 100, 100, 100, 100, 100, 100, 100, 100, 100, 100, 100, 100, 100, 100, 100, 100, 100, 100, 100, 100, 100, 100, 100, 100, 100, 100, 100, 100, 100, 100, 100, 100, 100, 100, 100, 100, 100, 100, 100, 100, 100, 100, 100, 100, 100, 100, 100, 100, 100, 100, 100, 100, 100, 100, 100, 100, 100, 100, 100, 100, 100, 100, 100, 100, 100, 100, 100, 100, 100, 100, 100, 100, 100, 100, 100, 100, 100, 100, 100, 100, 100, 100, 100, 100, 100, 100, 100, 100, 100, 100, 100, 100, 100, 100, 100, 100, 100, 100, 100, 100, 100, 100, 100, 100, 100, 100, 100, 100, 100, 100, 100, 100, 100, 100, 100, 100, 100, 100, 100, 100, 100, 100, 100, 100, 100, 100, 100, 100, 100, 100, 100, 100, 100, 100, 100, 100, 100, 100, 100, 100, 100, 100, 100, 100, 100, 100, 100, 100, 100, 100, 100, 100, 100, 100, 100, 100, 100, 100, 100, 100, 100, 100, 100, 100, 100, 100, 100, 100, 100, 100, 100, 100, 100, 100, 100, 100, 100, 100, 100, 100, 100, 100, 100, 100, 100, 100, 100, 100, 100, 100, 100, 100, 100, 100, 100, 100, 100, 100, 100, 100, 100, 100, 100, 100, 100, 100, 100, 100, 100, 100, 100, 100, 100, 100, 100, 100, 100, 100, 100, 100, 100, 100, 100, 100, 100, 100, 100, 100, 100, 100, 100, 100, 100, 100, 100, 100, 100, 100, 100, 100, 100, 100, 100, 100, 100, 100, 100, 100, 100, 100, 100, 100, 100, 100, 100, 100, 100, 100, 100, 100, 100, 100, 100, 100, 100, 100, 100, 100, 100, 100, 100, 100, 100, 100, 100, 100, 100, 100, 100, 100, 100, 100, 100, 100, 100, 100, 100, 100, 100, 100, 100, 100, 100, 100, 100, 100, 100, 100, 100, 100, 100, 100, 100, 100, 100, 100, 100, 100, 100, 100, 100, 100, 100, 100, 100, 100, 100, 100, 100, 100, 100, 100, 100, 100, 100, 100, 100, 100, 100, 100, 100, 100, 100, 100, 100, 100, 100, 100, 100, 100, 100, 100, 100, 100, 100, 100, 100, 100, 100, 100, 100, 100, 100, 100, 100, 100, 100, 100, 100, 100, 100, 100, 100, 100, 100, 100, 100, 100, 100, 100, 100, 100, 100, 100, 100, 100, 100, 100, 100, 100, 100, 100, 100, 100]\n",
      "[9, 6, 1, 7, 8, 2, 14, 9, 3, 8, 7, 5, 6, 7, 3, 6, 5, 10, 14, 14, 5, 6, 5, 6, 6, 13, 7, 4, 7, 8, 6, 19, 7, 20, 6, 14, 7, 8, 7, 8, 8, 4, 3, 11, 7, 10, 15, 12, 14, 16, 4, 9, 18, 12, 15, 6, 14, 6, 8, 8, 5, 7, 7, 10, 8, 21, 5, 2, 5, 3, 8, 6, 6, 7, 1, 8, 6, 1, 6, 6, 17, 10, 9, 5, 9, 6, 7, 5, 6, 9, 7, 5, 12, 14, 5, 4, 7, 13, 3, 3, 8, 20, 7, 4, 13, 4, 6, 11, 6, 9, 10, 7, 6, 8, 14, 13, 5, 19, 7, 11, 6, 6, 7, 8, 12, 8, 7, 9, 8, 6, 6, 4, 13, 1, 9, 3, 1, 12, 11, 17, 12, 9, 12, 2, 6, 8, 6, 3, 15, 5, 11, 4, 11, 14, 10, 11, 1, 4, 4, 8, 6, 20, 5, 18, 9, 6, 6, 2, 1, 9, 7, 17, 2, 6, 4, 6, 6, 7, 6, 7, 3, 6, 7, 9, 7, 7, 1, 14, 11, 3, 9, 3, 15, 4, 7, 5, 11, 6, 3, 19, 4, 7, 2, 5, 12, 2, 8, 4, 4, 4, 9, 2, 18, 12, 18, 14, 4, 6, 5, 4, 3, 5, 18, 16, 3, 14, 3, 16, 3, 3, 11, 4, 10, 12, 4, 15, 2, 9, 10, 5, 14, 5, 4, 3, 8, 17, 9, 8, 16, 6, 18, 4, 18, 7, 7, 6, 1, 11, 5, 1, 16, 8, 1, 5, 12, 11, 2, 7, 6, 3, 13, 4, 3, 3, 4, 7, 6, 8, 15, 4, 6, 4, 7, 4, 5, 4, 4, 5, 8, 2, 8, 3, 1, 5, 4, 4, 8, 7, 5, 5, 5, 10, 10, 3, 3, 5, 1, 7, 2, 6, 4, 4, 1, 3, 2, 12, 7, 6, 7, 15, 5, 7, 2, 4, 3, 4, 2, 3, 8, 2, 4, 1, 2, 15, 9, 9, 4, 6, 2, 9, 2, 2, 1, 1, 9, 2, 4, 8, 1, 1, 4, 15, 2, 4, 5, 2, 3, 4, 9, 3, 6, 3, 2, 14, 4, 4, 1, 2, 4, 2, 1, 1, 1, 1, 2, 1, 6, 13, 5, 2, 1, 4, 2, 1, 1, 4, 3, 1, 3, 8, 1, 5, 4, 2, 4, 3, 2, 12, 4, 1, 4, 11, 1, 2, 3, 3, 13, 2, 4, 1, 2, 3, 1, 2, 13, 4, 4, 1, 8, 2, 3, 1, 6, 1, 5, 1, 5, 1, 1, 2, 2, 6, 4, 3, 1, 3, 1, 10, 2, 10, 3, 1, 1, 12, 5, 3, 4, 11, 12, 6, 1, 1, 11, 2, 2, 6, 5, 1, 1, 3, 1, 2, 5, 10, 2, 1, 1, 4, 8, 2, 1, 1, 5, 3, 3, 2, 4, 10, 2, 9, 4, 2, 1, 4, 2, 1, 1, 1, 1, 7, 3, 4, 1, 3, 1, 2, 3, 5, 4, 6, 2, 3, 10, 1, 1, 5, 3, 1, 3, 4, 8, 1, 3, 4, 1, 4, 3, 5, 4, 9, 2, 2, 2, 9, 4, 2, 5, 3, 1, 1, 5, 1, 3, 2, 5, 4, 2, 1, 3, 2, 3, 1, 8, 1, 1, 6, 9, 3, 1, 3, 2, 2, 6, 4, 1, 5, 4, 5, 1, 1, 1, 3, 2, 1, 2, 3, 2, 2, 1, 2, 4, 1, 7, 5, 1, 1, 1, 3, 5, 2, 2, 1, 3, 2, 4, 1, 2, 6, 4, 3, 1, 3, 2, 5, 3, 5, 1, 3, 4, 3, 4, 3, 5, 1, 3, 3, 4, 5, 2, 1, 2, 4, 4, 3, 2, 4, 1, 2, 1, 2, 2, 2, 2, 2, 1, 2, 2, 4, 2, 2, 1, 2, 1, 4, 2, 1, 3, 1, 2, 1, 3, 1, 2, 1, 1, 1, 1, 1, 1, 1, 1, 1, 1, 2, 1, 1]\n"
     ]
    }
   ],
   "source": [
    "# 每位患者随访分7次，对应 0-36月，\n",
    "def get_time_average(data, interval_belong,max_interval_index = 7,filled=False):\n",
    "    '''对数据按时间间隔取平均\n",
    "    @param data: 数据 [p visit feature]\n",
    "    @param interval_belong: 数据对应的interval\n",
    "    @param max_interval_index: 最大的interval_index 如果是0-6个月，那就是7个interval\n",
    "    '''\n",
    "    if type(data[0][0][0]) is np.str_:\n",
    "        print('diet data, removed date')\n",
    "        data = [np.array(data_i)[:,1:] for data_i in data] # #去除第一列\n",
    "    \n",
    "    interval_data = [[[] for _ in range(max_interval_index)] for _ in range(len(interval_belong))]\n",
    "    # print(interval_data)\n",
    "    for i,(cur_p_data, cur_p_interval) in enumerate(zip(data,interval_belong)):\n",
    "        for j,  (cur_data, cur_interval) in enumerate(zip(cur_p_data, cur_p_interval)):\n",
    "            if cur_interval < max_interval_index:\n",
    "                interval_data[i][cur_interval].append(cur_data)\n",
    "        # 后向填充\n",
    "        if filled:\n",
    "            for j, cur_interval_data in enumerate(interval_data[i]):\n",
    "                if len(interval_data[i][j]) == 0:\n",
    "                    interval_data[i][j] += interval_data[i][j - 1]\n",
    "\n",
    "    # for p in range(656):\n",
    "    #     print([len(i) for i in interval_data[p]])\n",
    "    # 求平均\n",
    "    count_all = []\n",
    "    count_miss = []\n",
    "    interval_data_average = [[[] for _ in range(max_interval_index)] for _ in range(len(interval_belong))]\n",
    "    for i,cur_p_interval_data in enumerate(interval_data):\n",
    "        count_all.append(len(cur_p_interval_data))\n",
    "        count_miss.append(len(cur_p_interval_data))\n",
    "        for j, cur_interval_data in enumerate(cur_p_interval_data):\n",
    "            if(len(cur_interval_data)!= 0):\n",
    "                interval_data_average[i][j].append(np.mean(np.array(cur_interval_data,dtype=float),axis=0))\n",
    "            else:\n",
    "                count_miss[i] -= 1\n",
    "    print(count_all)\n",
    "    print(count_miss)\n",
    "    return interval_data_average\n",
    "\n",
    "interval_data = get_time_average(diet_sta,visit_count_diet,max_interval_index=100)\n",
    "# print(interval_data[0])\n",
    "# for p in range(656):\n",
    "    # print([len(i) for i in interval_data[p]])\n",
    "# print(interval_data[0][0])\n",
    "# print(np.array(interval_data).shape)\n"
   ]
  },
  {
   "cell_type": "code",
   "execution_count": 27,
   "metadata": {},
   "outputs": [
    {
     "name": "stdout",
     "output_type": "stream",
     "text": [
      "diet data, removed date\n"
     ]
    }
   ],
   "source": [
    "interval_data_time_average = get_time_average(diet_sta,visit_count_diet,max_interval_index=100) #[656,100,1,26]"
   ]
  },
  {
   "cell_type": "code",
   "execution_count": 28,
   "metadata": {},
   "outputs": [
    {
     "name": "stdout",
     "output_type": "stream",
     "text": [
      "100\n",
      "(656, 27)\n"
     ]
    }
   ],
   "source": [
    "print(len(interval_data_time_average[0]))\n",
    "def get_time_average_for_p(time_average_data,):\n",
    "    '''数据类型 [656,100,1,26] 转换为 [656,26], 转换为[656,27]\n",
    "    '''\n",
    "    p_len = len(time_average_data)\n",
    "    diet_mean = []\n",
    "    for time_average_p in time_average_data:\n",
    "        cur_len ,cur_diet_visit = 0, []\n",
    "        for time_average_p_visit in time_average_p:\n",
    "            # print(111111)\n",
    "            # print(len(time_average_p_visit))\n",
    "            # print(time_average_p_visit)\n",
    "            if(len(time_average_p_visit)!=0):\n",
    "                cur_len += 1\n",
    "                cur_diet_visit.append(time_average_p_visit[0])\n",
    "        cur_diet_mean = np.array(cur_diet_visit).mean(axis=0)\n",
    "        diet_mean.append(cur_diet_mean)\n",
    "    diet_mean = np.array(diet_mean)\n",
    "    diet_mean = np.insert(diet_mean,0,[0 for _ in range(len(diet_mean))],axis = 1) # 第一列表示日期\n",
    "    return diet_mean\n",
    "diet_sta_mean_time = get_time_average_for_p(interval_data_time_average)\n",
    "\n",
    "print(diet_sta_mean_time.shape)\n",
    "\n"
   ]
  },
  {
   "cell_type": "code",
   "execution_count": null,
   "metadata": {},
   "outputs": [],
   "source": []
  },
  {
   "cell_type": "code",
   "execution_count": 29,
   "metadata": {},
   "outputs": [],
   "source": [
    "# # 对于每个指标，每个间隔，每位患者的数据\n",
    "def get_interval_data(data,labels,max_interval_index = 7):\n",
    "    if labels[0] == 'date':\n",
    "        labels = labels[1:]\n",
    "    # print(labels)\n",
    "    res = [[[] for _ in range(max_interval_index)] for _ in range(len(labels))]\n",
    "    for i, cur_p_data in enumerate(data):\n",
    "        # print(np.array(cur_p_data).shape)\n",
    "        for j, cur_p_interval in enumerate(cur_p_data):\n",
    "            if len(cur_p_interval) != 0:\n",
    "                for k, label in enumerate(labels):\n",
    "                    res[k][j].append(data[i][j][0][k])\n",
    "    return res\n",
    "        \n",
    "# labels = gconst.get_labels_statistics_diet()\n",
    "# res = get_interval_data(interval_data,labels)\n",
    "# print(np.array(res).shape)"
   ]
  },
  {
   "cell_type": "markdown",
   "metadata": {},
   "source": [
    "## avona test"
   ]
  },
  {
   "cell_type": "code",
   "execution_count": 30,
   "metadata": {},
   "outputs": [],
   "source": [
    "\n",
    "def avona(data,labels,result_path,filename='interval_diet_anova.xlsx',save=True):\n",
    "    '''对数据进行avona检验'''\n",
    "    if labels[0] == 'date':\n",
    "        labels = labels[1:]\n",
    "    res = {'col':labels,'p':[]}\n",
    "    Path(f'{result_path}interval_diet').mkdir(parents=True, exist_ok=True)\n",
    "    Path(f'{result_path}interval_diet/interval_diet_reg').mkdir(parents=True, exist_ok=True)\n",
    "    for i,label in enumerate(labels):\n",
    "        print(label)\n",
    "        cur_data = []\n",
    "        cur_label = []\n",
    "        for j, cur in enumerate(data[i]):\n",
    "            cur_data += cur\n",
    "            cur_label += [j for _ in range(len(cur))]\n",
    "        # print(len(cur_data),len(cur_label))\n",
    "        cur_data_concated = np.concatenate((np.array(cur_data,dtype=float).reshape(-1,1),np.array(cur_label).reshape(-1,1)),axis=1)\n",
    "        cur_df = pd.DataFrame(cur_data_concated,columns=['data','group'])\n",
    "        # print(cur_df)\n",
    "        \n",
    "        model = ols(formula='data~group',data=cur_df).fit()\n",
    "        table = anova_lm(model,typ=1)\n",
    "        # print(table)\n",
    "        mc = MultiComparison(cur_df['data'],groups=cur_df['group'])\n",
    "        # print(mc.tukeyhsd(alpha=0.05))  \n",
    "        \n",
    "        res['p'].append(table['PR(>F)']['group']) # 均值记录\n",
    "        # sns.set_theme(style=\"whitegrid\")\n",
    "        sns.set_theme()\n",
    "        plt.figure(figsize=(6,4),dpi=200)\n",
    "        # sns.catplot(data=cur_df, x=\"group\", y=\"data\", zorder=1,kind=\"point\",capsize=.2, palette=\"YlGnBu_d\", errorbar=\"se\")\n",
    "\n",
    "        sns.violinplot(y=[float(i) for i in cur_df['data']],x=cur_label,bw=.15,palette=\"light:g\")\n",
    "\n",
    "        # sns.catplot(data=cur_df, x=\"group\", y=\"data\", zorder=1,palette=\"light:g\")\n",
    "        plt.title(f\"{label} (p = {table['PR(>F)']['group']:.2f})\")\n",
    "        plt.savefig(f'{result_path}interval_diet/{label}.png')\n",
    "        plt.close()\n",
    "\n",
    "        plt.figure(figsize=(6,6),dpi=200)\n",
    "        # plt.figure()\n",
    "        # sns.regplot(xdata=cur_df, x=\"group\", y=\"data\",scatter=False, truncate=False, order=2, color=\".2\",x_ci='sd')\n",
    "        ax = sns.catplot(data=cur_df, x=\"group\", y=\"data\", kind=\"point\",capsize=.2, palette=\"YlGnBu_d\", errorbar=\"se\")\n",
    "        # sns.relplot(data=cur_df, x=\"group\", y=\"data\",)\n",
    "        # ax.fig.suptitle(\"title\")\n",
    "        ax.fig.suptitle(f\"{label} (p = {table['PR(>F)']['group']:.2f})\")\n",
    "        # plt.title(f\"{label} (p = {table['PR(>F)']['group']:.2f})\")\n",
    "        plt.savefig(f'{result_path}interval_diet/interval_diet_reg/{label}.png')\n",
    "        plt.close()\n",
    "        # break\n",
    "    if save:\n",
    "        filename = f'{result_path}interval_diet_anova.xlsx'\n",
    "        with pd.ExcelWriter(filename) as writer:\n",
    "            pd.DataFrame(res).to_excel(writer,float_format='%.4f')\n",
    "            print(f'result saved as {filename}')\n",
    "    return res\n",
    "# avona_res = avona(res,labels,result_path)"
   ]
  },
  {
   "cell_type": "markdown",
   "metadata": {},
   "source": [
    "## Subdietary Indicators, High, Medium, Low, Test Medical Indicator Changes"
   ]
  },
  {
   "cell_type": "code",
   "execution_count": 31,
   "metadata": {},
   "outputs": [
    {
     "name": "stdout",
     "output_type": "stream",
     "text": [
      "diet data, removed date\n",
      "ok\n",
      "26\n"
     ]
    }
   ],
   "source": [
    "dates_visit = date_656\n",
    "dates_diet = [np.array(diet_sta[i])[:,0] for i in range(len(diet_sta))]\n",
    "date_first = [i[0] for i in dates_visit]\n",
    "# 获取36个月随访饮食指标，并求平均\n",
    "interval_diet_all = get_interval_count(dates_diet, date_first,output=False)\n",
    "# print(interval_diet_all)\n",
    "interval_diet_average = get_time_average(diet_sta,interval_diet_all)\n",
    "# 饮食指标分高中低档，每个指标，每个interval，找到患者和高中低档的对应关系\n",
    "\n",
    "\n",
    "# 获取36个月医疗指标，并求平均\n",
    "interval_visit_all = get_interval_count(dates_visit, date_first,output=False)\n",
    "# print(interval_visit_all)\n",
    "print('ok')\n",
    "\n",
    "interval_visit_average = get_time_average(visit_sta,interval_visit_all)\n",
    "# print(interval_visit_average[0])\n",
    "print(len(interval_diet_average[0][0][0]))\n",
    "# 分别统计7个阶段医疗指标\n",
    "# 检验"
   ]
  },
  {
   "cell_type": "code",
   "execution_count": 32,
   "metadata": {},
   "outputs": [],
   "source": [
    "def get_average_missing(interval_data_average,pdid):\n",
    "    '''存在缺失数据的情况下获取平均值。如果有的患者没有记录，则用其他患者的均值补充，有3位患者没有记录。\n",
    "    @param interval_data_average: 656 7 1 25 （1有可能是0）\n",
    "    @param pdid: 患者id\n",
    "    @return diet_average: 每位患者的饮食营养平均值 656 25 '''\n",
    "    diet_average = []\n",
    "    indexs_miss = []\n",
    "    for i in range(len(pdid)):\n",
    "        avg_cur = []    \n",
    "        for j in range(7):\n",
    "            if len(interval_data_average[i][j]) != 0:\n",
    "                # print(len(interval_diet_average[i][j][0]))\n",
    "                avg_cur.append(interval_data_average[i][j][0])\n",
    "        # print(len(avg_cur))\n",
    "        if(len(avg_cur)!= 0):\n",
    "            diet_average.append(np.mean(avg_cur,axis=0))\n",
    "        else:\n",
    "            indexs_miss.append(i)\n",
    "        # break\n",
    "    diet_average_allmean = np.mean(diet_average,axis=0)\n",
    "    for i in indexs_miss:\n",
    "        diet_average.insert(i,diet_average_allmean)\n",
    "    # for i in indexs_miss:\n",
    "    #     print(diet_average[i])\n",
    "    return np.array(diet_average)"
   ]
  },
  {
   "cell_type": "code",
   "execution_count": 33,
   "metadata": {},
   "outputs": [
    {
     "name": "stdout",
     "output_type": "stream",
     "text": [
      "(656, 27)\n",
      "['date', 'water', 'protein', 'fat', 'carbohydrate', 'Calories', 'df', 'k', 'na', 'mg', 'ca', 'p', 'fe', 'zn', 'cu', 'mn', 'se', 'retinol', 'vitaminA', 'carotene', 'vitaminE', 'thiamine', 'riboflavin', 'nicotinic', 'ascorbic', 'dpi', 'dei']\n",
      "27\n"
     ]
    }
   ],
   "source": [
    "print(np.array(diet_sta_first).shape)\n",
    "print(labels_diet_sta)\n",
    "print(len(diet_sta[0][0]))\n"
   ]
  },
  {
   "cell_type": "markdown",
   "metadata": {},
   "source": [
    "# output table"
   ]
  },
  {
   "cell_type": "code",
   "execution_count": 34,
   "metadata": {},
   "outputs": [
    {
     "name": "stdout",
     "output_type": "stream",
     "text": [
      "visit_data_events [[1.02000000e+02 2.88000000e+01 7.10000000e+00 ... 2.62316699e-02\n",
      "  8.30958904e+00 1.00000000e+00]\n",
      " [1.02000000e+02 2.65000000e+01 9.60000000e+00 ... 2.56479937e-02\n",
      "  4.38904110e+00 1.00000000e+00]\n",
      " [9.40000000e+01 2.59000000e+01 5.00000000e+00 ... 3.24030950e-02\n",
      "  8.08219178e-01 0.00000000e+00]\n",
      " ...\n",
      " [1.03000000e+02 3.05000000e+01 7.79000000e+00 ... 3.27632169e-02\n",
      "  4.19178082e-01 0.00000000e+00]\n",
      " [1.06000000e+02 2.40000000e+01 3.68000000e+00 ... 6.26952248e-02\n",
      "  4.00000000e-01 0.00000000e+00]\n",
      " [1.08000000e+02 2.54000000e+01 4.93000000e+00 ... 4.62380740e-02\n",
      "  1.61643836e-01 0.00000000e+00]]\n",
      "(656, 52)\n",
      "['stage', 'water', 'protein', 'fat', 'carbohydrate', 'Calories', 'df', 'k', 'na', 'mg', 'ca', 'p', 'fe', 'zn', 'cu', 'mn', 'se', 'retinol', 'vitaminA', 'carotene', 'vitaminE', 'thiamine', 'riboflavin', 'nicotinic', 'ascorbic', 'dpi', 'dei', 'Cl', 'CO2CP', 'WBC', 'Hb', 'Urea', 'Ca', 'K', 'Na', 'Scr', 'P', 'Albumin', 'hsCRP', 'Glucose', 'Appetite', 'Weight', 'SBP', 'DBP', 'age', 'gender', 'diab', 'height', 'bmi', 'gfr', 'live_time', 'death']\n",
      "217\n",
      "result saved as .//result/statistics_r/group_data_time_new/group_by_Albumin_0.csv\n",
      "222\n",
      "result saved as .//result/statistics_r/group_data_time_new/group_by_Albumin_1.csv\n"
     ]
    },
    {
     "name": "stderr",
     "output_type": "stream",
     "text": [
      "/opt/conda/envs/esrd/lib/python3.7/site-packages/ipykernel_launcher.py:71: SettingWithCopyWarning: \n",
      "A value is trying to be set on a copy of a slice from a DataFrame.\n",
      "Try using .loc[row_indexer,col_indexer] = value instead\n",
      "\n",
      "See the caveats in the documentation: https://pandas.pydata.org/pandas-docs/stable/user_guide/indexing.html#returning-a-view-versus-a-copy\n"
     ]
    },
    {
     "name": "stdout",
     "output_type": "stream",
     "text": [
      "217\n",
      "result saved as .//result/statistics_r/group_data_time_new/group_by_Albumin_2.csv\n",
      "656\n",
      "result saved as .//result/statistics_r/group_data_time_new/group_by_Albumin_3.csv\n"
     ]
    }
   ],
   "source": [
    "# 输出表格 diet_mean visit_first event livetime\n",
    "# ['date', 'water', 'protein', 'fat', 'carbohydrate', 'Calories', 'df', 'k', 'na', 'mg', 'ca', 'p', 'fe', 'zn', 'cu', 'mn', 'se', 'retinol', 'vitaminA', 'carotene', 'vitaminE', 'thiamine', 'riboflavin', 'nicotinic', 'ascorbic', 'dpi', 'dei']\n",
    "\n",
    "def output_groupby(group_by,q,labels_visit,labels_diet,visit_data,diet_data,days,pdid,result_path):\n",
    "    '''按照group_by分组，输出数据'''\n",
    "\n",
    "\n",
    "    \n",
    "    diet_data = np.array(diet_data)\n",
    "    visit_data_events,labels_appended = append_livedatas(pdid,visit_data,days,labels_visit)\n",
    "    visit_data_events = np.array(visit_data_events)\n",
    "    print('visit_data_events', visit_data_events)\n",
    "    # 删除date一列\n",
    "    if labels_diet[0] == 'date':\n",
    "        labels_diet = labels_diet[1:]\n",
    "        diet_data = diet_data[:,1:]\n",
    "    \n",
    "    # \n",
    "    pos = labels_appended.index('hs-CRP')\n",
    "    labels_appended[pos] = 'hsCRP'\n",
    "\n",
    "    group_targets = np.array(visit_sta_first)[:,labels_visit_sta.index(group_by)]\n",
    "    data_rounds = gconst.get_data_rounds(group_targets,f\"q{q}\")\n",
    "    data_rounds_index = gconst.get_data_rounds_indexs(group_targets,data_rounds)\n",
    "    # medium_time = get_medium_time(pdid_656,visit_sta_first,days_656,result_path,save,['age'],3)\n",
    "    # print(medium_time)\n",
    "    data_labels = ['stage'] + labels_diet + labels_appended\n",
    "    groups = np.array(data_rounds_index,dtype=str).reshape(-1,1)\n",
    "    datas = np.concatenate((groups, diet_data, visit_data_events),axis = 1)\n",
    "    print(datas.shape)\n",
    "    print(data_labels)\n",
    "    datas_df = pd.DataFrame(datas,columns=data_labels)\n",
    "    div_dict = {'water':100,'protein':1,'fat':10,\n",
    "                'carbohydrate':1,'Calories':10,'df':1,'k':10,'na':100,\n",
    "                'mg':10,'ca':100,'p':10,'fe':1,'zn':1,'cu':1,\n",
    "                'mn':1,'se':1,'retinol':10,'vitaminA':100,\n",
    "                'carotene':100,'vitaminE':1,'thiamine':1,'riboflavin':1,\n",
    "                'nicotinic':1,'ascorbic':1,'dpi':0.1,'dei':1,'hsCRP':1}\n",
    "    for key in div_dict.keys():\n",
    "        datas_df[key] = datas_df[key].astype(float) / div_dict[key]\n",
    "        # datas_df[key] = datas_df[key].astype(float) / 1\n",
    "    \n",
    "\n",
    "    for gr in range(q + 1):\n",
    "        cur_df = datas_df[datas_df['stage'] == str(gr)]\n",
    "        if gr == q:\n",
    "            cur_df = datas_df\n",
    "        print(len(cur_df))\n",
    "        filename = f'{result_path}group_by_{group_by}_{gr}.csv'\n",
    "\n",
    "\n",
    "        \n",
    "        \n",
    "        \n",
    "        cur_df.to_csv(filename, index=False)\n",
    "        print(f'result saved as {filename}')\n",
    "\n",
    "\n",
    "\n",
    "        # 分别保存\n",
    "        for diet_label in labels_diet:\n",
    "            sub_labels = ['stage',diet_label] + labels_appended\n",
    "            sub_df = cur_df[sub_labels]\n",
    "            \n",
    "\n",
    "            \n",
    "\n",
    "            sub_df.columns = ['stage','data_col'] + labels_appended\n",
    "\n",
    "            # add a column  + ['Calories']\n",
    "            sub_df['CaloriesAdj'] = cur_df['Calories']\n",
    "            \n",
    "            # remove stage\n",
    "            sub_df = sub_df.drop(columns=['stage'])\n",
    "\n",
    "            filename = f'{result_path}group_by_{group_by}_{diet_label}_{gr}.csv'\n",
    "            sub_df.to_csv(filename, index=False)\n",
    "\n",
    "            # break\n",
    "\n",
    "target_groupby = ['Albumin','age','DBP','SBP','diab']\n",
    "target_q = [3,3,3,3,2]\n",
    "\n",
    "\n",
    "target_groupby = ['Albumin']\n",
    "target_q = [3]\n",
    "output_path = f'{project_path_prefix}/result/statistics_r/group_data_time_new/'\n",
    "Path(output_path).mkdir(parents=True, exist_ok=True)\n",
    "for (cur_groupby,cur_q) in zip(target_groupby,target_q):\n",
    "    # output_groupby(cur_groupby,cur_q,labels_visit_sta,labels_diet_sta,visit_sta_first,diet_sta_mean_time,days_656,pdid_656,result_path+'group_data_time/')\n",
    "    \n",
    "    output_groupby(cur_groupby,cur_q,labels_visit_sta,labels_diet_sta,visit_sta_first,diet_sta_mean_time,days_656,pdid_656,output_path)"
   ]
  },
  {
   "cell_type": "markdown",
   "metadata": {},
   "source": [
    "# Baseline information statistics"
   ]
  },
  {
   "cell_type": "code",
   "execution_count": 35,
   "metadata": {},
   "outputs": [
    {
     "name": "stdout",
     "output_type": "stream",
     "text": [
      "[[102.0, 28.8, 7.1, 112.0, 19.5, 2.37, 3.64, 140.0, 825.0, 2.04, 35.0, 0.64, 7.8, 3034.55, 60.3, 140.0, 70.0, 67.79178082191781, 1.0, 1.0, 160.0, 23.554687499999993, 0.02623166987137913], [102.0, 26.5, 9.6, 133.0, 22.2, 2.45, 4.08, 140.5, 807.0, 1.01, 33.0, 2.05, 5.4, 2582.33, 54.0, 135.0, 70.0, 74.2027397260274, 1.0, 1.0, 165.0, 19.834710743801654, 0.025647993670571162], [94.0, 25.9, 5.0, 75.0, 19.6, 2.1, 5.19, 130.7, 776.0, 1.69, 29.0, 0.07, 8.0, 3675.38, 47.0, 70.0, 45.0, 50.983561643835614, 0.0, 0.0, 163.5, 17.581759859345922, 0.03240309502629356], [103.0, 22.8, 15.1, 138.0, 25.5, 2.24, 3.81, 142.0, 1043.0, 2.26, 38.0, 0.07, 4.8, 3560.58, 65.0, 160.0, 100.0, 71.44383561643835, 1.0, 0.0, 165.0, 23.875114784205696, 0.019209233112908577], [102.0, 22.4, 8.88, 131.0, 20.6, 2.41, 4.63, 139.3, 868.0, 2.1, 40.0, 0.07, 5.2, 3640.29, 65.35, 150.0, 90.0, 64.53150684931506, 0.0, 0.0, 155.5, 27.02618872840438, 0.025647701270028564], [95.0, 25.9, 10.9, 93.0, 27.2, 1.89, 3.99, 133.9, 1121.0, 1.65, 29.0, 0.09, 4.8, 3377.83, 61.3, 110.0, 90.0, 49.73150684931507, 1.0, 0.0, 164.0, 22.79149315883403, 0.020547505402232012], [104.0, 27.1, 7.62, 117.0, 17.2, 2.32, 4.81, 143.1, 837.0, 1.91, 41.0, 0.08, 4.5, 3536.7200000000003, 65.05, 135.0, 70.0, 50.41917808219178, 0.0, 0.0, 160.5, 25.252084121854406, 0.029570198283904], [105.0, 22.4, 6.08, 152.0, 15.5, 3.23, 4.78, 141.4, 357.0, 1.26, 36.0, 0.85, 6.1, 4128.68, 47.45, 120.0, 65.0, 77.45479452054795, 1.0, 1.0, 161.0, 18.305620925118628, 0.06731864618955324], [97.0, 25.3, 9.8, 111.0, 21.4, 2.05, 3.57, 138.5, 1036.0, 2.04, 37.0, 0.08, 5.2, 2674.7400000000002, 68.5, 135.0, 90.0, 70.52876712328766, 0.0, 0.0, 158.0, 27.43951289857394, 0.019853831927565933], [98.0, 27.6, 5.4, 99.0, 26.3, 2.94, 4.38, 140.3, 1137.0, 1.53, 44.0, 4.44, 5.0, 3307.83, 63.2, 80.0, 60.0, 78.79452054794521, 1.0, 0.0, 165.0, 23.21395775941231, 0.016475784145364703], [102.0, 25.0, 5.1, 105.0, 28.5, 2.13, 4.7, 138.3, 1113.0, 1.94, 39.0, 0.76, 6.7, 4359.8099999999995, 71.0, 140.0, 85.0, 44.205479452054796, 1.0, 0.0, 170.0, 24.56747404844291, 0.021467100662643745], [101.0, 26.3, 6.5, 90.0, 16.9, 2.32, 3.87, 136.1, 636.0, 1.52, 38.0, 0.06, 5.9, 2087.3599999999997, 50.0, 125.0, 75.0, 68.93972602739726, 0.0, 0.0, 156.5, 20.414620951525485, 0.036319188437350707], [101.0, 26.5, 5.13, 87.0, 26.8, 2.0, 4.64, 142.9, 1172.0, 2.39, 38.0, 1.8, 4.4, 2095.5299999999997, 51.55, 140.0, 90.0, 57.082191780821915, 0.0, 0.0, 150.0, 22.91111111111111, 0.01873874806694235], [99.0, 22.9, 8.2, 91.0, 24.0, 2.43, 3.74, 141.5, 1114.0, 2.33, 41.0, 0.07, 8.6, 2073.78, 68.55, 130.0, 80.0, 50.07945205479452, 0.0, 0.0, 159.0, 27.11522487243384, 0.020928838162183758], [99.0, 23.1, 8.2, 114.0, 23.9, 2.42, 4.77, 139.1, 980.0, 2.03, 39.0, 0.07, 4.7, 2924.89, 70.65, 150.0, 75.0, 78.59452054794521, 1.0, 0.0, 165.5, 25.7938500013691, 0.019718240974789716], [92.0, 25.2, 10.2, 116.0, 15.4, 2.35, 5.02, 130.4, 647.0, 1.52, 41.0, 0.07, 5.4, 3711.6899999999996, 67.0, 140.0, 80.0, 57.30684931506849, 0.0, 0.0, 168.0, 23.738662131519277, 0.038431804771028096], [101.0, 23.3, 8.2, 103.0, 24.1, 2.3, 4.16, 140.0, 1344.0, 2.12, 44.0, 0.05, 4.7, 3128.8599999999997, 93.0, 110.0, 80.0, 29.268493150684932, 0.0, 0.0, 161.0, 35.878245438061796, 0.019331269754149782], [104.0, 20.1, 6.0, 122.0, 23.2, 2.54, 3.17, 141.0, 1161.0, 2.11, 40.0, 1.1, 8.3, 2779.2799999999997, 61.0, 130.0, 75.0, 63.30684931506849, 1.0, 1.0, 160.0, 23.828124999999996, 0.01785005728490355], [95.0, 22.5, 6.9, 121.0, 25.3, 2.23, 5.06, 135.4, 1029.0, 2.1, 36.0, 0.08, 5.5, 2502.6, 60.05, 115.0, 50.0, 72.9013698630137, 1.0, 0.0, 160.0, 23.457031249999993, 0.019388973462810172], [109.0, 23.0, 8.3, 111.0, 22.6, 2.33, 4.79, 142.0, 673.0, 1.9, 36.0, 1.71, 4.3, 4698.280000000001, 53.3, 145.0, 95.0, 49.07945205479452, 1.0, 0.0, 169.0, 18.661811561219846, 0.03807694321205926], [102.0, 25.1, 6.1, 54.0, 28.1, 2.45, 5.24, 138.2, 1216.0, 2.04, 40.0, 1.75, 4.0, 1602.73, 62.15, 130.0, 80.0, 42.81643835616438, 0.0, 0.0, 152.0, 26.900103878116344, 0.01991363925271732], [106.0, 26.2, 7.3, 104.0, 16.1, 2.14, 4.82, 140.8, 365.0, 1.29, 33.0, 0.07, 4.9, 2422.41, 53.2, 150.0, 70.0, 77.74794520547945, 0.0, 0.0, 153.5, 22.578488896433917, 0.06671860415284792], [109.0, 21.6, 5.7, 114.0, 18.6, 1.87, 4.94, 141.6, 721.0, 1.84, 41.0, 0.49, 5.9, 2749.7, 54.3, 135.0, 80.0, 57.61369863013699, 0.0, 0.0, 153.0, 23.196206587210046, 0.03371555552385396], [105.0, 20.5, 9.9, 123.0, 15.2, 2.29, 3.63, 142.2, 741.0, 2.07, 42.0, 0.08, 7.3, 3143.6400000000003, 73.2, 115.0, 75.0, 66.47945205479452, 0.0, 0.0, 156.5, 29.88700507303331, 0.03062013336375527], [98.0, 27.1, 5.7, 123.0, 15.3, 2.24, 4.87, 135.3, 505.0, 1.41, 36.0, 0.08, 8.0, 2806.1, 45.95, 110.0, 70.0, 52.12054794520548, 0.0, 1.0, 159.0, 18.175705074957477, 0.05370918178031555], [88.0, 22.8, 8.92, 121.0, 23.6, 2.6, 4.47, 136.8, 923.0, 1.76, 41.0, 0.07, 4.3, 3278.16, 52.6, 125.0, 70.0, 70.87397260273973, 0.0, 0.0, 156.0, 21.614069690992768, 0.022828923290572806], [95.0, 26.9, 5.1, 102.0, 24.9, 2.28, 4.19, 141.9, 1117.0, 2.66, 38.0, 0.91, 4.6, 2755.14, 50.15, 130.0, 80.0, 65.8986301369863, 0.0, 0.0, 147.5, 23.050847457627118, 0.01877464597932958], [93.0, 25.0, 18.2, 140.0, 21.8, 2.55, 4.24, 134.2, 942.0, 1.72, 38.0, 0.08, 6.9, 2224.6099999999997, 80.55, 85.0, 55.0, 71.24657534246575, 0.0, 0.0, 154.0, 33.96441221116546, 0.022117497779976663], [102.0, 26.4, 7.1, 107.0, 22.5, 2.16, 3.86, 142.0, 1394.0, 2.27, 40.0, 0.05, 5.3, 3361.33, 68.8, 120.0, 80.0, 67.81369863013698, 1.0, 0.0, 171.0, 23.528607092780685, 0.013912496509014376], [98.0, 25.8, 6.8, 116.0, 27.8, 2.07, 4.97, 138.1, 985.0, 1.57, 39.0, 1.49, 8.2, 4070.37, 73.95, 140.0, 80.0, 67.3013698630137, 1.0, 1.0, 166.0, 26.836260705472494, 0.021171633101118456], [100.0, 27.5, 7.9, 111.0, 20.8, 2.71, 3.5, 139.3, 632.0, 1.36, 35.0, 0.06, 9.3, 2676.8900000000003, 58.25, 135.0, 75.0, 73.93150684931507, 1.0, 1.0, 167.0, 20.886370970633585, 0.034709415889923954], [96.0, 28.0, 6.64, 122.0, 28.0, 2.69, 5.39, 135.8, 1102.0, 1.35, 33.0, 0.92, 4.8, 3894.21, 55.7, 150.0, 80.0, 69.95068493150686, 1.0, 0.0, 169.0, 19.50211827316971, 0.018227189596492346], [95.0, 22.7, 6.7, 122.0, 24.3, 1.67, 4.29, 139.5, 922.0, 1.67, 43.0, 3.34, 5.3, 4040.0599999999995, 58.95, 135.0, 90.0, 49.23835616438356, 1.0, 0.0, 166.0, 21.392800116127162, 0.026023913418245902], [101.0, 27.8, 7.64, 113.0, 18.8, 2.54, 3.39, 142.3, 861.0, 1.77, 41.0, 1.78, 6.9, 2815.7200000000003, 58.0, 130.0, 65.0, 67.11232876712329, 0.0, 1.0, 146.0, 27.209607806342657, 0.025359911272866194], [104.0, 24.5, 7.4, 121.0, 17.7, 2.68, 4.82, 138.9, 661.0, 1.62, 36.0, 1.77, 5.3, 2931.9399999999996, 47.35, 130.0, 80.0, 70.54246575342465, 0.0, 0.0, 155.0, 19.70863683662851, 0.03418146880881007], [103.0, 25.5, 10.82, 124.0, 17.1, 2.62, 4.44, 142.8, 934.0, 1.48, 41.0, 0.05, 6.0, 3438.6000000000004, 83.5, 120.0, 80.0, 59.082191780821915, 0.0, 1.0, 151.0, 36.62120082452524, 0.0243121394728634], [100.0, 25.2, 7.9, 117.0, 21.5, 1.99, 4.66, 138.4, 1340.0, 1.99, 38.0, 3.09, 5.0, 4082.29, 85.0, 130.0, 85.0, 60.556164383561644, 1.0, 0.0, 171.0, 29.06877329776684, 0.015328664580439633], [103.0, 27.5, 7.5, 131.0, 19.3, 2.09, 3.61, 137.7, 815.0, 1.48, 32.0, 0.53, 16.4, 2627.33, 57.75, 110.0, 60.0, 68.94246575342466, 1.0, 1.0, 167.0, 20.70708881637922, 0.026434948056626984], [100.0, 28.6, 10.2, 116.0, 21.4, 2.12, 3.41, 141.8, 777.0, 1.84, 34.0, 0.66, 4.4, 2299.8600000000006, 55.35, 90.0, 60.0, 75.36164383561643, 0.0, 0.0, 159.0, 21.8939124243503, 0.027141979371073707], [103.0, 25.9, 7.8, 119.0, 22.8, 2.06, 3.75, 141.1, 849.0, 2.09, 34.0, 0.07, 4.7, 2058.03, 63.3, 115.0, 70.0, 67.0958904109589, 1.0, 0.0, 158.5, 25.196787708107355, 0.025337826869924467], [106.0, 19.9, 5.4, 90.0, 19.7, 2.05, 5.77, 137.7, 1103.0, 2.61, 39.0, 0.99, 5.1, 3011.4, 46.0, 110.0, 80.0, 38.47945205479452, 0.0, 0.0, 154.6, 19.245927812708672, 0.02304435404466051], [100.0, 25.9, 7.5, 122.0, 17.2, 2.29, 4.37, 142.6, 642.0, 1.84, 38.0, 0.06, 9.1, 1830.0099999999998, 72.0, 150.0, 90.0, 76.88767123287671, 0.0, 1.0, 156.0, 29.585798816568044, 0.033946884860828405], [104.0, 23.1, 6.8, 128.0, 13.4, 3.71, 3.71, 146.4, 906.0, 1.18, 39.0, 0.06, 5.2, 3478.7300000000005, 47.0, 110.0, 70.0, 66.5013698630137, 1.0, 0.0, 166.0, 17.056176513282043, 0.023588565042598833], [105.0, 25.8, 5.46, 115.0, 21.4, 2.23, 5.02, 140.4, 710.0, 1.27, 37.0, 1.31, 3.8, 3799.59, 69.8, 140.0, 70.0, 54.92602739726028, 1.0, 1.0, 172.0, 23.593834505137913, 0.03445935846041941], [109.0, 22.1, 9.72, 114.0, 18.3, 2.37, 4.36, 143.2, 665.0, 1.91, 43.0, 0.07, 7.0, 2882.5600000000004, 51.4, 130.0, 70.0, 64.74520547945205, 0.0, 0.0, 158.0, 20.58964909469636, 0.035393818964435275], [109.0, 24.7, 3.4, 71.0, 29.5, 1.59, 3.88, 141.1, 856.0, 1.5, 40.0, 1.03, 4.9, 4390.83, 69.94550739957717, 160.0, 100.0, 37.983561643835614, 1.0, 0.0, 166.19566596194502, 25.323307975141972, 0.030972804087314083], [107.0, 17.6, 6.15, 133.0, 31.0, 1.96, 5.24, 140.1, 634.0, 2.33, 42.0, 0.52, 5.6, 3120.29, 51.3, 145.0, 90.0, 64.92054794520548, 0.0, 0.0, 154.5, 21.4911867282496, 0.03749668562017452], [104.0, 28.1, 5.5, 104.0, 21.8, 2.32, 4.7, 142.2, 1021.0, 2.09, 38.0, 0.75, 6.4, 2709.73, 68.45, 140.0, 80.0, 68.5068493150685, 0.0, 0.0, 152.0, 29.626904432132964, 0.02049291157691546], [101.0, 28.5, 7.1, 103.0, 29.9, 2.03, 4.34, 140.5, 645.0, 1.67, 39.0, 0.58, 8.9, 3501.1000000000004, 76.1, 120.0, 70.0, 53.64109589041096, 1.0, 1.0, 161.5, 29.176930671241934, 0.038973695518886096], [106.0, 20.9, 6.32, 99.0, 24.8, 2.31, 5.11, 139.1, 1091.0, 2.09, 41.0, 1.44, 5.6, 3319.57, 66.25, 140.0, 90.0, 57.1945205479452, 0.0, 0.0, 148.0, 30.245617238860483, 0.02043355501444964], [102.0, 33.0, 9.6, 122.0, 8.9, 1.98, 2.31, 141.9, 518.0, 1.07, 30.0, 0.07, 5.5, 1705.0299999999997, 39.55, 140.0, 75.0, 75.05205479452054, 0.0, 0.0, 149.0, 17.81451285978109, 0.04431347909693267], [105.0, 26.7, 3.23, 68.0, 27.6, 2.43, 4.48, 144.7, 1268.0, 1.76, 42.0, 0.55, 4.6, 3071.13, 62.7, 135.0, 90.0, 44.821917808219176, 1.0, 0.0, 171.5, 21.31764825880373, 0.01833643354865977], [98.0, 22.4, 9.1, 118.0, 23.7, 3.05, 5.18, 135.5, 938.0, 1.77, 42.0, 1.4, 6.5, 3056.05, 51.7, 120.0, 70.0, 71.7013698630137, 0.0, 0.0, 146.0, 24.254081441170957, 0.022231578622565546], [102.0, 30.7, 7.94, 128.0, 29.1, 1.91, 6.29, 137.4, 740.0, 2.13, 39.0, 0.15, 9.2, 2860.09, 63.35, 140.0, 90.0, 36.534246575342465, 0.0, 1.0, 167.0, 22.715048944028112, 0.037865063313304824], [95.0, 27.7, 8.0, 115.0, 17.8, 2.88, 3.2, 137.0, 1285.0, 1.6, 41.0, 1.95, 4.9, 3533.3200000000006, 76.95, 80.0, 60.0, 51.23835616438356, 1.0, 0.0, 168.0, 27.264030612244902, 0.017177774788619104], [98.0, 24.1, 8.68, 101.0, 30.1, 2.19, 4.98, 136.0, 1614.0, 1.63, 41.0, 2.64, 4.9, 3908.76, 63.6, 176.0, 100.0, 39.131506849315066, 1.0, 0.0, 171.5, 21.623643209887035, 0.014186799656197012], [106.0, 24.0, 5.8, 111.0, 16.4, 2.21, 4.07, 141.2, 788.0, 0.83, 41.0, 0.79, 6.0, 2721.7, 66.2, 140.0, 90.0, 56.75616438356165, 0.0, 0.0, 153.0, 28.279721474646504, 0.030494717148965535], [100.0, 30.3, 4.88, 108.0, 15.8, 2.13, 3.89, 142.7, 1015.0, 1.63, 39.0, 0.6, 5.6, 1583.66, 47.0, 145.0, 80.0, 68.89041095890411, 0.0, 0.0, 157.0, 19.067710657633167, 0.02063946060887009], [104.0, 22.2, 5.6, 113.0, 33.7, 2.18, 5.99, 138.4, 1116.0, 1.98, 44.0, 1.05, 4.3, 3831.91, 91.5, 120.0, 85.0, 46.84931506849315, 1.0, 0.0, 181.0, 27.92955038002503, 0.021098837737708855], [109.0, 25.0, 6.55, 144.0, 15.8, 2.23, 4.04, 145.0, 520.0, 1.08, 44.0, 0.77, 4.8, 2506.63, 62.15, 140.0, 80.0, 71.82465753424657, 1.0, 0.0, 155.5, 25.702794636118323, 0.04456231183375113], [96.0, 27.3, 7.7, 120.0, 28.1, 2.43, 4.2, 131.5, 1396.0, 2.34, 44.0, 1.09, 5.1, 2702.32, 56.0, 120.0, 80.0, 34.49315068493151, 0.0, 0.0, 153.5, 23.76683041729886, 0.017826860613468092], [105.0, 28.6, 6.6, 120.0, 18.8, 1.94, 3.96, 140.4, 599.0, 1.42, 32.0, 0.55, 8.9, 2901.74, 45.95, 125.0, 80.0, 55.81369863013698, 0.0, 0.0, 151.0, 20.15262488487347, 0.042782536509084104], [104.0, 29.2, 7.3, 104.0, 15.6, 2.39, 3.57, 141.9, 840.0, 1.69, 32.0, 0.76, 7.2, 2205.99, 65.0, 140.0, 85.0, 80.35342465753425, 1.0, 1.0, 167.0, 23.306680053067517, 0.023426388184313703], [111.0, 26.0, 5.3, 121.0, 21.8, 1.71, 6.05, 145.1, 783.0, 1.85, 37.0, 0.75, 4.3, 1765.31, 53.0, 110.0, 80.0, 61.56164383561644, 0.0, 0.0, 157.0, 21.50188648626719, 0.02966969477376495], [105.0, 21.5, 8.0, 87.0, 13.5, 2.31, 4.9, 139.5, 534.0, 1.62, 38.0, 0.08, 9.5, 2801.68, 52.35, 140.0, 75.0, 60.271232876712325, 0.0, 1.0, 160.0, 20.449218749999996, 0.04745963792715579], [99.0, 25.5, 6.2, 132.0, 21.7, 2.25, 4.16, 137.3, 943.0, 1.58, 39.0, 2.72, 4.4, 3488.62, 62.1, 150.0, 90.0, 49.868493150684934, 1.0, 0.0, 167.5, 22.134105591445756, 0.02532489494225253], [109.0, 19.7, 6.5, 126.0, 31.3, 1.86, 5.67, 140.0, 850.0, 2.44, 38.0, 0.64, 4.5, 3230.2, 81.9, 165.0, 100.0, 63.26027397260274, 1.0, 1.0, 173.5, 27.207268559659163, 0.026022815743251], [100.0, 24.3, 7.1, 117.0, 22.0, 2.17, 5.17, 139.4, 707.0, 2.38, 40.0, 1.39, 9.1, 2803.15, 50.15, 140.0, 70.0, 63.558904109589044, 0.0, 1.0, 152.5, 21.56409567320613, 0.033099503139890706], [98.0, 29.2, 6.69, 86.0, 19.8, 2.33, 5.58, 139.2, 705.0, 1.58, 40.0, 0.95, 6.4, 2465.49, 60.9, 170.0, 80.0, 69.66301369863014, 0.0, 1.0, 151.5, 26.533346403947327, 0.03184229741089872], [107.0, 21.8, 9.6, 93.0, 26.4, 2.17, 5.64, 139.7, 782.0, 1.79, 43.0, 0.07, 5.2, 3490.66, 62.91, 80.0, 50.0, 59.63013698630137, 1.0, 0.0, 161.0, 24.269896994714706, 0.029603142071486444], [106.4, 27.3, 3.68, 101.0, 15.5, 2.29, 3.39, 139.8, 590.0, 1.68, 41.0, 0.24, 4.5, 3952.11, 57.7, 105.0, 75.0, 52.31780821917808, 0.0, 0.0, 160.0, 22.539062499999996, 0.04450079097149959], [102.0, 33.0, 5.9, 112.0, 23.0, 2.38, 5.39, 137.9, 805.0, 0.9, 46.0, 0.86, 4.9, 3756.74, 56.3, 100.0, 70.0, 46.983561643835614, 0.0, 0.0, 162.0, 21.452522481329062, 0.03188049838607839], [104.0, 18.1, 7.0, 83.0, 23.5, 2.08, 4.47, 139.4, 776.0, 3.0, 33.0, 2.21, 6.6, 2248.52, 57.2, 100.0, 45.0, 66.53150684931506, 0.0, 0.0, 147.0, 26.470452126428807, 0.028958393842720847], [99.0, 26.2, 6.06, 135.0, 15.4, 2.14, 4.02, 138.8, 1081.0, 1.37, 37.0, 2.27, 4.4, 3006.63, 71.8, 120.0, 70.0, 68.98356164383561, 1.0, 0.0, 172.0, 24.269875608436994, 0.01878766234427471], [92.1, 26.3, 11.3, 11.6, 25.3, 2.48, 3.62, 139.0, 1095.0, 2.0, 43.0, 20.43, 6.2, 4034.13, 70.0, 100.0, 65.0, 40.087671232876716, 1.0, 0.0, 183.0, 20.902385858042937, 0.022518392380014702], [104.0, 25.3, 7.1, 124.0, 23.0, 2.17, 4.84, 141.6, 570.0, 1.53, 37.0, 2.02, 6.6, 4381.59, 67.0, 120.0, 70.0, 60.6986301369863, 1.0, 1.0, 170.0, 23.18339100346021, 0.04308452624894658], [103.0, 30.0, 7.75, 93.0, 22.3, 1.98, 4.09, 140.7, 852.0, 1.27, 32.0, 0.07, 5.9, 2572.54, 60.0, 155.0, 85.0, 62.8054794520548, 1.0, 1.0, 167.0, 21.513858510523864, 0.026131903712991428], [88.0, 31.1, 12.4, 100.0, 26.3, 2.44, 4.9, 138.0, 1062.0, 1.9, 42.0, 24.85, 6.9, 2805.2200000000003, 70.0, 130.0, 80.0, 53.271232876712325, 1.0, 1.0, 175.0, 22.857142857142858, 0.021327735305941953], [106.0, 20.4, 5.6, 110.0, 24.0, 1.96, 6.12, 134.7, 950.0, 1.62, 35.0, 3.41, 14.4, 3616.5, 63.8, 140.0, 72.0, 60.52876712328767, 1.0, 1.0, 170.0, 22.07612456747405, 0.02323304767357087], [98.0, 29.3, 7.2, 132.0, 18.7, 2.93, 2.95, 141.9, 907.0, 1.28, 40.0, 23.57, 6.5, 3593.5299999999997, 80.25, 100.0, 70.0, 48.62191780821918, 1.0, 1.0, 169.0, 28.097755680823504, 0.026732269474567], [105.0, 26.5, 5.4, 108.0, 13.4, 2.21, 5.18, 135.5, 618.0, 1.16, 41.0, 0.08, 5.8, 3874.2400000000007, 69.0, 130.0, 90.0, 63.11506849315069, 0.0, 0.0, 155.5, 28.53568511491817, 0.03894614527329623], [108.0, 19.0, 7.8, 110.0, 23.8, 2.17, 4.75, 140.0, 775.0, 1.64, 44.0, 0.32, 5.2, 3135.63, 62.15, 140.0, 80.0, 41.64383561643836, 0.0, 0.0, 155.0, 25.868886576482826, 0.03457166695896655], [99.0, 27.1, 6.4, 117.0, 23.8, 2.19, 3.93, 138.6, 877.0, 1.52, 39.0, 0.57, 6.3, 2589.02, 44.25, 120.0, 80.0, 63.50684931506849, 0.0, 0.0, 154.5, 18.53771954629717, 0.02550838936292192], [98.0, 27.9, 8.0, 91.0, 29.3, 2.15, 5.69, 138.0, 914.0, 2.85, 36.0, 0.07, 5.0, 2947.26, 66.55, 150.0, 70.0, 77.0931506849315, 0.0, 1.0, 146.0, 31.220679301932822, 0.021992523978647215], [101.0, 23.4, 8.6, 109.0, 32.4, 2.36, 5.33, 136.9, 1324.0, 2.66, 41.0, 0.07, 3.5, 3130.0600000000004, 68.0, 145.0, 100.0, 32.986301369863014, 0.0, 1.0, 155.0, 28.303850156087407, 0.019274373411383116], [110.0, 27.6, 7.0, 129.0, 13.7, 2.17, 3.22, 143.6, 618.0, 0.84, 31.0, 1.31, 4.8, 2324.8999999999996, 51.44, 110.0, 70.0, 65.24931506849315, 0.0, 1.0, 154.5, 21.549837140373477, 0.03840280760058847], [100.0, 31.8, -1.0, 113.0, 17.0, 2.15, 4.27, 139.9, 623.0, 1.14, 33.0, 0.08, 5.1, 2503.36, 43.2, 110.0, 75.0, 70.14520547945206, 0.0, 0.0, 150.8, 18.996826826333823, 0.03671793400492818], [110.0, 16.7, 7.0, 139.0, 17.0, 2.06, 4.61, 137.7, 498.0, 1.59, 44.0, 0.56, 4.3, 4914.42, 53.75, 150.0, 90.0, 75.82465753424657, 0.0, 0.0, 146.0, 25.215800337774446, 0.04647402126939212], [96.0, 30.9, 4.7, 103.0, 21.6, 2.45, 5.26, 132.1, 854.0, 2.01, 36.0, 2.82, 3.9, 3106.47, 59.3, 155.0, 65.0, 102.21369863013699, 0.0, 0.0, 157.7, 23.844669469856196, 0.02002892643980271], [102.0, 22.4, 7.2, 88.0, 31.6, 2.18, 4.78, 138.4, 1723.0, 2.68, 36.0, 0.07, 4.8, 3159.55, 64.0, 110.0, 80.0, 28.613698630136987, 0.0, 0.0, 149.0, 28.827530291428314, 0.014417068040638402], [97.0, 29.8, 6.3, 153.0, 25.7, 1.83, 5.72, 127.2, 892.0, 1.36, 29.0, 1.08, 6.7, 2825.86, 64.6, 110.0, 65.0, 61.632876712328766, 1.0, 0.0, 168.0, 22.888321995464853, 0.024896148279032363], [114.0, 25.5, 5.3, 128.0, 25.9, 1.83, 3.51, 143.8, 823.0, 1.0, 33.0, 0.66, 4.6, 3338.0999999999995, 41.0, 130.0, 60.0, 75.91232876712328, 0.0, 0.0, 151.0, 17.981667470724968, 0.025318742217748144], [98.0, 27.4, 7.5, 139.0, 13.0, 2.06, 3.39, 137.0, 604.0, 1.33, 35.0, 0.22, 3.8, 2819.05, 40.5, 105.0, 70.0, 64.64657534246575, 0.0, 0.0, 151.0, 17.7623788430332, 0.0397598864627524], [103.0, 23.9, 7.01, 79.0, 21.9, 1.92, 4.26, 139.9, 943.0, 2.53, 34.0, 0.06, 4.7, 3002.5600000000004, 49.5, 145.0, 100.0, 47.16438356164384, 0.0, 0.0, 148.5, 22.446689113355777, 0.02614549890645706], [103.0, 18.3, 8.34, 93.0, 28.8, 2.64, 4.81, 137.4, 1086.0, 2.32, 45.0, 3.79, 7.9, 3505.95, 71.7, 140.0, 80.0, 56.31232876712329, 1.0, 0.0, 166.0, 26.019741617070697, 0.02032632052479885], [100.0, 28.2, 7.96, 120.0, 15.4, 1.93, 3.43, 139.8, 785.0, 1.86, 34.0, 0.06, 10.1, 2948.77, 69.3, 165.0, 80.0, 62.367123287671234, 1.0, 1.0, 156.0, 28.47633136094674, 0.028851945580221108], [101.0, 29.2, 8.46, 104.0, 21.7, 2.02, 3.04, 140.0, 1110.0, 1.25, 40.0, 2.13, 5.6, 2390.93, 63.85, 115.0, 70.0, 76.69589041095891, 1.0, 0.0, 162.0, 24.329370522786157, 0.01720150780974715], [102.0, 27.9, 11.1, 152.0, 24.8, 3.04, 4.08, 137.2, 626.0, 2.08, 42.0, 3.22, 6.1, 2782.83, 50.8, 110.0, 70.0, 66.02191780821917, 0.0, 0.0, 144.0, 24.498456790123456, 0.03754558906453751], [100.0, 28.7, 8.8, 115.0, 11.2, 2.25, 3.26, 138.8, 711.0, 1.37, 37.0, 0.07, 8.0, 3409.14, 67.3, 125.0, 80.0, 76.92054794520548, 1.0, 0.0, 164.0, 25.02230814991077, 0.029474853217678947], [100.0, 28.9, 9.54, 99.0, 18.3, 2.39, 3.75, 141.8, 437.0, 1.87, 42.0, 7.89, 5.8, 3185.0299999999997, 51.75, 130.0, 80.0, 72.72602739726027, 0.0, 1.0, 156.0, 21.26479289940828, 0.05558667860735874], [105.0, 27.0, 4.6, 119.0, 14.5, 2.18, 4.26, 140.3, 536.0, 1.36, 37.0, 1.24, 5.0, 2518.5599999999995, 54.45, 100.0, 60.0, 66.83561643835617, 0.0, 0.0, 152.0, 23.567347645429365, 0.0452957088629266], [100.0, 26.5, 7.1, 89.0, 19.7, 2.26, 4.32, 138.2, 918.0, 1.98, 40.0, 1.91, 5.5, 2409.2200000000003, 67.6, 120.0, 70.0, 48.945205479452056, 1.0, 0.0, 156.5, 27.600567526462452, 0.026345487478284586], [97.0, 25.4, 7.0, 119.0, 17.4, 2.08, 4.09, 136.7, 825.0, 2.03, 32.0, 0.06, 6.4, 2907.37, 66.95, 85.0, 60.0, 71.21369863013699, 0.0, 0.0, 154.0, 28.229886996120765, 0.025963946766436846], [100.0, 26.9, 7.6, 118.0, 15.9, 2.18, 3.39, 139.4, 833.0, 1.53, 38.0, 0.08, 4.3, 3493.98, 69.0, 135.0, 100.0, 48.66301369863014, 1.0, 0.0, 170.0, 23.87543252595156, 0.02962942569974474], [100.0, 27.7, 8.9, 124.0, 16.5, 2.11, 3.97, 139.3, 967.0, 1.63, 36.0, 1.77, 3.5, 2288.25, 91.0, 150.0, 100.0, 49.16986301369863, 1.0, 0.0, 177.5, 28.883158103550883, 0.024566974880006046], [98.0, 27.1, 7.5, 106.0, 19.7, 2.24, 4.63, 143.4, 419.0, 1.57, 39.0, 0.07, 6.4, 3038.59, 61.5, 140.0, 70.0, 61.8027397260274, 0.0, 1.0, 146.0, 28.851566898104714, 0.06318504441510858], [102.0, 27.7, 10.4, 120.0, 10.1, 1.81, 4.02, 137.4, 277.0, 1.48, 30.0, 43.33, 6.4, 1150.5, 45.9, 100.0, 60.0, 78.77808219178083, 0.0, 1.0, 150.0, 20.4, 0.09248051349670401], [104.0, 28.0, 6.0, 140.0, 29.8, 2.39, 5.84, 144.7, 1228.0, 1.38, 41.0, 0.69, 4.7, 3151.6099999999997, 75.0, 150.0, 100.0, 25.4027397260274, 1.0, 0.0, 174.0, 24.772096710265558, 0.02178258912079828], [104.0, 27.8, 5.9, 135.0, 14.5, 2.08, 3.02, 143.4, 616.0, 1.5, 32.0, 0.07, 9.4, 3060.11, 54.95, 120.0, 80.0, 79.51780821917808, 1.0, 0.0, 158.0, 22.011696843454573, 0.034324693093791395], [104.0, 22.1, 5.2, 141.0, 20.2, 2.15, 4.14, 141.2, 920.0, 1.63, 38.0, 0.48, 3.3, 3117.7, 45.0, 145.0, 110.0, 39.9972602739726, 0.0, 0.0, 156.0, 18.49112426035503, 0.028494963086973097], [108.0, 23.8, 7.8, 110.0, 14.9, 1.94, 5.47, 139.9, 776.0, 1.68, 35.0, 11.69, 4.9, 2971.0600000000004, 55.6, 140.0, 80.0, 65.28767123287672, 0.0, 0.0, 153.0, 23.751548549703106, 0.029162531563666508], [96.0, 26.0, 9.3, 133.0, 17.3, 2.85, 3.24, 135.7, 593.0, 1.27, 39.0, 0.78, 13.4, 2949.7200000000003, 55.8, 160.0, 85.0, 58.553424657534244, 0.0, 1.0, 155.0, 23.2258064516129, 0.04240335102640081], [100.0, 25.9, 12.8, 109.0, 14.6, 2.15, 4.45, 139.0, 631.0, 2.11, 40.0, 1.58, 6.2, 3693.84, 62.0, 120.0, 80.0, 52.342465753424655, 0.0, 0.0, 155.0, 25.806451612903224, 0.041029130850203405], [100.0, 27.8, 13.6, 130.0, 16.1, 2.17, 5.13, 137.8, 508.0, 1.49, 37.0, 0.05, 8.7, 2308.42, 55.2, 140.0, 80.0, 71.23835616438356, 0.0, 1.0, 152.0, 23.89196675900277, 0.046663177199161465], [107.0, 22.8, 7.95, 143.0, 19.7, 2.17, 5.46, 142.7, 682.0, 1.84, 42.0, 1.91, 6.7, 4013.76, 76.6, 135.0, 90.0, 50.676712328767124, 1.0, 1.0, 163.5, 28.654527770763774, 0.037207991600575495], [106.0, 29.3, 8.66, 115.0, 21.1, 2.01, 3.41, 144.4, 371.0, 1.31, 33.0, 3.07, 6.6, 4045.5200000000004, 55.5, 120.0, 70.0, 73.58630136986301, 1.0, 0.0, 164.0, 20.63503866745985, 0.06609082849536554], [99.0, 34.4, 7.6, 116.0, 15.3, 2.54, 4.01, 142.5, 739.0, 0.96, 41.0, 2.84, 4.7, 2807.67, 53.3, 115.0, 80.0, 60.83561643835616, 1.0, 0.0, 156.5, 21.761985934326166, 0.03147624350064153], [104.0, 26.1, 5.3, 137.0, 21.4, 2.09, 4.01, 140.1, 777.0, 1.21, 39.0, 0.35, 5.1, 2456.9, 50.55, 160.0, 80.0, 61.52328767123288, 0.0, 0.0, 154.0, 21.314724236802157, 0.029946911361198095], [105.0, 30.2, 8.3, 114.0, 22.2, 2.19, 4.56, 139.4, 791.0, 1.87, 30.0, 7.69, 9.3, 3012.6, 68.8, 170.0, 100.0, 53.01917808219178, 1.0, 1.0, 165.0, 25.270890725436182, 0.03045326869408555], [109.0, 28.1, 6.9, 121.0, 20.3, 2.09, 5.42, 145.3, 598.0, 1.52, 35.0, 1.14, 7.7, 4273.99, 67.0, 150.0, 70.0, 57.57260273972603, 1.0, 1.0, 160.0, 26.171874999999996, 0.04152355665460582], [108.0, 23.1, 7.04, 118.0, 18.0, 2.19, 4.3, 141.5, 944.0, 1.46, 41.0, 3.11, 5.6, 3810.06, 78.0, 130.0, 75.0, 61.85753424657534, 1.0, 0.0, 172.0, 26.365603028664147, 0.023247814400510363], [103.0, 27.0, 8.6, 127.0, 27.4, 2.4, 3.72, 139.8, 626.0, 2.08, 39.0, 3.4, 5.6, 4232.98, 69.95, 130.0, 75.0, 69.67671232876712, 0.0, 0.0, 158.0, 28.020349302996312, 0.03676263801763766], [109.0, 20.9, 9.02, 131.0, 15.7, 2.11, 3.05, 144.9, 545.0, 1.38, 40.0, 0.07, 8.0, 3470.67, 61.7, 155.0, 90.0, 57.397260273972606, 0.0, 0.0, 150.0, 27.422222222222224, 0.0472901491376685], [101.0, 30.2, 5.7, 131.0, 16.0, 2.12, 3.35, 139.7, 216.0, 1.28, 33.0, 0.5, 4.0, 2265.3999999999996, 46.7, 160.0, 85.0, 56.03013698630137, 0.0, 1.0, 159.0, 18.472370554962225, 0.14580426275187428], [93.1, 26.0, 6.7, 72.0, 28.6, 2.19, 3.54, 143.0, 1309.0, 1.58, 41.0, 4.33, 5.1, 2565.21, 57.5, 130.0, 90.0, 34.8986301369863, 1.0, 0.0, 169.0, 20.132348307132105, 0.018928383604080615], [104.0, 27.1, 7.8, 122.0, 21.6, 1.89, 3.51, 140.0, 380.0, 1.51, 27.0, 3.31, 4.4, 6217.839999999999, 61.0, 150.0, 70.0, 72.95342465753424, 1.0, 1.0, 170.0, 21.107266435986162, 0.06465567290765856], [102.0, 28.2, 8.2, 116.0, 14.4, 1.87, 4.1, 140.1, 338.0, 1.1, 32.0, 0.08, 5.1, 4417.1, 65.5, 100.0, 75.0, 54.15068493150685, 1.0, 0.0, 174.5, 21.510496629748523, 0.0845314348399864], [104.0, 29.3, 8.1, 117.0, 17.8, 2.11, 3.75, 142.9, 701.0, 1.61, 34.0, 0.06, 9.5, 2630.42, 67.7, 150.0, 80.0, 59.49041095890411, 1.0, 1.0, 156.0, 27.81886916502301, 0.03378716013500434], [105.0, 21.7, 5.8, 119.0, 19.3, 2.11, 4.36, 144.3, 773.0, 2.03, 43.0, 3.02, 4.4, 3143.05, 65.7, 100.3, 70.0, 37.42739726027397, 1.0, 0.0, 163.0, 24.728066543716363, 0.03503743449603665], [104.0, 25.8, 7.16, 150.0, 20.1, 2.26, 4.1, 141.1, 670.0, 1.32, 42.0, 0.57, 5.2, 2868.4900000000002, 86.7, 145.0, 80.0, 60.48219178082192, 1.0, 0.0, 170.0, 30.000000000000004, 0.035436399235535126], [96.0, 33.1, 8.86, 145.0, 20.3, 2.68, 3.31, 134.0, 657.0, 1.52, 34.0, 1.66, 6.7, 2265.55, 60.0, 120.0, 75.0, 85.24109589041096, 1.0, 0.0, 165.0, 22.03856749311295, 0.030441686068888116], [108.0, 21.9, 5.6, 101.0, 20.7, 1.27, 4.53, 103.0, 604.0, 1.51, 35.0, 2.14, 4.2, 3060.2000000000003, 41.5, 135.0, 75.0, 53.59178082191781, 0.0, 0.0, 152.0, 17.962257617728532, 0.04295397916234205], [96.0, 30.1, 7.3, 72.0, 17.4, 2.62, 4.8, 138.6, 1259.0, 1.46, 40.0, 0.84, 5.4, 2793.32, 69.8, 140.0, 100.0, 26.556164383561644, 0.0, 0.0, 153.0, 29.81759152462728, 0.021365656596533503], [106.0, 25.4, 5.2, 133.0, 14.0, 2.08, 4.2, 142.3, 749.0, 1.07, 39.0, 0.58, 4.6, 5151.75, 51.9, 125.0, 80.0, 60.536986301369865, 1.0, 0.0, 158.5, 20.658977599538257, 0.03096888039543072], [99.2, 14.0, 6.95, 71.0, 17.8, 2.43, 2.98, 141.9, 453.0, 1.01, 38.0, 0.48, 6.9, 2398.4700000000003, 49.9, 205.0, 80.0, 76.34246575342466, 0.0, 1.0, 146.0, 23.40964533683618, 0.05174722319148887], [103.0, 24.9, 6.9, 118.0, 18.9, 2.04, 4.17, 137.6, 672.0, 1.68, 33.0, 0.41, 5.2, 3910.01, 56.3, 160.0, 90.0, 62.443835616438356, 1.0, 0.0, 169.5, 19.596070343975423, 0.03481633626647785], [100.0, 33.3, 4.8, 109.0, 16.0, 2.27, 3.02, 144.0, 797.0, 1.11, 41.0, 0.78, 5.3, 1893.12, 24.8, 110.0, 75.0, 53.912328767123284, 0.0, 0.0, 160.0, 9.687499999999998, 0.030719486393316595], [104.0, 25.2, 7.3, 145.0, 25.3, 2.16, 4.76, 139.1, 857.0, 1.23, 45.0, 1.39, 4.7, 3741.02, 74.05, 130.0, 80.0, 31.60821917808219, 1.0, 0.0, 172.0, 25.03042184964846, 0.03226056745944337], [105.0, 30.7, 5.6, 126.0, 27.0, 2.51, 4.11, 144.6, 988.0, 1.88, 39.0, 0.86, 3.2, 3404.05, 64.15, 140.0, 90.0, 71.53972602739726, 1.0, 1.0, 167.5, 22.86478057473825, 0.020509478133265688], [106.0, 28.8, 9.3, 146.0, 18.2, 2.4, 4.31, 136.6, 805.0, 1.4, 38.0, 0.36, 4.3, 3109.33, 43.7, 130.0, 80.0, 41.013698630136986, 0.0, 0.0, 148.0, 19.950693937180425, 0.03302013614775256], [118.0, 20.8, 6.08, 134.0, 16.4, 2.06, 4.46, 146.2, 493.0, 1.45, 32.0, 1.02, 6.9, 3645.1099999999997, 69.65, 120.0, 65.0, 62.6958904109589, 1.0, 1.0, 163.5, 26.05467179156263, 0.050631476689485776], [100.0, 28.2, 7.7, 122.0, 16.6, 2.22, 4.55, 138.2, 814.0, 1.05, 40.0, 0.58, 3.3, 2504.85, 55.7, 156.0, 96.0, 30.936986301369863, 0.0, 0.0, 167.5, 19.852973936288706, 0.0351964968689347], [102.0, 26.5, 8.2, 145.0, 21.3, 2.2, 3.85, 140.4, 729.0, 1.71, 38.0, 1.16, 5.6, 3766.2, 69.5, 145.0, 65.0, 63.3013698630137, 1.0, 1.0, 165.0, 25.528007346189167, 0.031331716347301496], [106.0, 30.0, 7.4, 112.0, 15.6, 2.08, 4.24, 143.5, 4.4, 1.27, 33.0, 1.76, 2.9, 1493.32, 76.0, 170.0, 76.0, 63.37808219178082, 0.0, 1.0, 165.0, 27.915518824609737, 15.375712860069935], [103.0, 34.3, 6.2, 86.0, 21.1, 2.14, 5.92, 138.8, 990.0, 1.98, 39.0, 33.36, 4.6, 3188.38, 45.0, 135.0, 95.0, 26.9013698630137, 0.0, 0.0, 160.0, 17.578124999999996, 0.028570931586960033], [104.0, 29.9, 6.6, 101.0, 17.8, 2.38, 4.88, 140.7, 443.0, 1.16, 41.0, 0.96, 16.8, 0.0, 40.2, 140.0, 76.0, 52.07397260273972, 0.0, 1.0, 147.0, 18.603359711231434, 0.06292535979111027], [98.0, 26.7, 5.3, 75.0, 26.8, 2.01, 3.66, 133.0, 737.0, 1.88, 25.0, 0.09, 5.4, 3641.16, 68.0, 140.0, 80.0, 67.02739726027397, 1.0, 0.0, 173.0, 22.720438370810918, 0.030064263489737054], [95.0, 25.7, 11.0, 77.0, 11.9, 2.5, 3.32, 140.8, 357.0, 1.58, 33.0, 0.76, 7.4, 1910.7, 56.0, 170.0, 90.0, 55.06849315068493, 0.0, 1.0, 161.0, 21.60410477990818, 0.07998336741806707], [106.0, 24.1, 7.3, 96.0, 23.0, 2.19, 3.93, 140.5, 1060.0, 1.12, 40.0, 0.06, 7.2, 3765.2, 77.4, 145.0, 80.0, 58.032876712328765, 1.0, 0.0, 164.0, 28.777513384889954, 0.020638623774640694], [110.0, 26.2, 4.5, 97.0, 33.2, 2.23, 3.94, 140.0, 653.0, 1.98, 38.0, 1.92, 4.9, 3456.19, 48.4, 90.0, 55.0, 69.43287671232876, 0.0, 0.0, 151.0, 21.227139160563134, 0.034932928958727294], [109.0, 21.0, 5.0, 131.0, 27.2, 2.34, 3.96, 143.8, 655.0, 1.71, 45.0, 2.52, 5.4, 5306.7300000000005, 69.9, 120.0, 70.0, 77.0027397260274, 1.0, 0.0, 162.0, 26.63465935070873, 0.032320309810601924], [104.0, 31.5, 5.3, 113.0, 15.0, 2.56, 3.63, 138.3, 678.0, 1.45, 38.0, 0.65, 4.3, 3583.49, 49.4, 120.0, 70.0, 72.61369863013698, 1.0, 0.0, 170.0, 17.093425605536332, 0.03210763405146352], [112.0, 26.7, 5.7, 125.0, 18.0, 2.02, 4.41, 143.9, 832.0, 1.34, 39.0, 1.22, 7.0, 2439.94, 66.7, 180.0, 110.0, 39.54520547945206, 1.0, 0.0, 163.5, 24.951135800390915, 0.031608996070910056], [99.0, 23.4, 7.9, 139.0, 24.9, 2.4, 3.83, 140.2, 1357.0, 1.5, 48.0, 0.08, 5.0, 2675.75, 64.5, 140.0, 110.0, 37.12876712328767, 1.0, 0.0, 168.0, 22.85289115646259, 0.017744030330630323], [110.0, 21.8, 3.78, 101.0, 20.6, 2.23, 4.51, 140.9, 611.0, 1.6, 44.0, 0.41, 6.9, 3255.67, 55.65, 140.0, 75.0, 63.50684931506849, 0.0, 1.0, 162.0, 21.20484682213077, 0.03948623471019535], [94.0, 29.5, 6.5, 101.0, 23.2, 2.04, 5.89, 136.1, 470.0, 1.12, 30.0, 0.08, 12.0, 3013.19, 63.7, 135.0, 90.0, 47.33150684931507, 1.0, 1.0, 168.0, 22.56944444444445, 0.059602912446281055], [93.0, 26.4, 5.74, 116.0, 13.2, 3.27, 4.02, 135.8, 857.0, 1.72, 41.0, 2.36, 5.5, 2470.59, 57.6, 150.0, 90.0, 72.8, 0.0, 0.0, 154.0, 24.287400910777535, 0.02462288680726596], [52.0, 25.0, 6.6, 108.0, 15.7, 2.08, 2.28, 68.6, 797.0, 2.11, 34.0, 0.08, 9.0, 2422.5699999999997, 92.0, 180.0, 100.0, 54.78082191780822, 0.0, 1.0, 163.0, 34.62682073092702, 0.030504449988563373], [97.0, 32.3, 6.08, 142.0, 14.9, 2.55, 5.13, 137.3, 577.0, 1.76, 41.0, 0.53, 7.2, 2067.67, 59.0, 160.0, 75.0, 72.0986301369863, 1.0, 1.0, 170.0, 20.41522491349481, 0.03902145385358257], [103.0, 26.2, 8.0, 98.0, 29.8, 2.77, 4.23, 138.2, 656.0, 2.2, 42.0, 0.07, 6.5, 2829.25, 51.9, 160.0, 90.0, 76.37260273972603, 0.0, 0.0, 155.0, 21.602497398543182, 0.03307295763037591], [104.0, 25.3, 7.8, 97.0, 23.1, 2.28, 5.36, 138.8, 753.0, 1.12, 40.0, 2.1, 6.5, 3267.35, 79.0, 170.0, 70.0, 64.7095890410959, 0.0, 1.0, 170.0, 27.33564013840831, 0.030456056405558388], [110.0, 18.8, 7.0, 106.0, 19.5, 2.12, 4.19, 139.9, 589.0, 1.42, 47.0, 0.61, 5.2, 2514.42, 37.5, 100.0, 70.0, 31.375342465753423, 0.0, 0.0, 140.0, 19.13265306122449, 0.05168020201408445], [108.0, 25.0, 4.8, 114.0, 12.5, 2.09, 3.92, 140.9, 466.0, 1.06, 42.0, 2.37, 5.0, 3423.45, 59.6, 130.0, 90.0, 57.76986301369863, 0.0, 0.0, 150.0, 26.48888888888889, 0.0571472691058043], [98.0, 26.7, 8.8, 57.0, 20.0, 2.27, 3.79, 138.8, 777.0, 1.07, 37.0, 1.81, 5.7, 2923.6900000000005, 50.5, 170.0, 100.0, 41.74794520547945, 0.0, 0.0, 152.0, 21.85768698060942, 0.03446410995772694], [103.0, 17.3, 6.98, 100.0, 24.3, 2.35, 4.23, 137.7, 591.0, 2.0, 43.0, 1.25, 5.5, 3915.29, 49.5, 134.0, 62.0, 76.40547945205479, 0.0, 1.0, 153.0, 21.14571318723568, 0.03751979975994653], [109.3, 28.0, 7.4, 72.0, 10.2, 2.43, 2.99, 138.9, 616.0, 0.68, 34.0, 0.07, 3.8, 1747.54, 76.0, 120.0, 60.0, 68.12328767123287, 0.0, 1.0, 158.0, 30.443839128344813, 0.037749630699898146], [112.0, 25.0, 5.5, 65.0, 19.7, 2.61, 4.12, 142.8, 728.0, 1.63, 38.0, 0.69, 9.1, 1603.9499999999998, 57.95, 145.0, 105.0, 45.30958904109589, 1.0, 1.0, 163.0, 21.81113327562197, 0.035613811636199776], [105.0, 23.8, 10.8, 139.0, 11.8, 2.25, 3.4, 138.9, 547.0, 1.28, 32.0, 0.07, 5.3, 2447.8999999999996, 86.0, 160.0, 80.0, 74.38356164383562, 0.0, 1.0, 178.0, 27.143037495265748, 0.04178155524334882], [100.0, 25.1, 5.6, 94.0, 22.9, 2.28, 4.17, 140.3, 823.0, 1.75, 44.0, 0.73, 6.5, 3001.1099999999997, 93.0, 150.0, 90.0, 42.99452054794521, 1.0, 1.0, 165.0, 34.159779614325075, 0.03135950137704801], [106.0, 20.1, 8.69, 125.0, 26.1, 2.41, 4.81, 143.0, 502.0, 1.63, 47.0, 6.21, 6.0, 3949.9900000000002, 77.65, 130.0, 80.0, 65.26027397260275, 0.0, 1.0, 155.0, 32.32049947970864, 0.049376152853415844], [101.0, 21.2, 6.83, 117.0, 16.7, 2.13, 3.73, 136.1, 302.0, 1.15, 45.0, 1.28, 7.3, 3394.3500000000004, 88.2, 130.0, 85.0, 73.7972602739726, 1.0, 1.0, 175.0, 28.8, 0.08475900675047092], [101.0, 27.2, 7.9, 107.0, 27.7, 2.03, 4.33, 141.2, 1128.0, 1.71, 39.0, 1.26, 4.9, 2337.88, 71.0, 190.0, 115.0, 46.556164383561644, 1.0, 1.0, 172.0, 23.99945916711736, 0.020827773300974697], [101.0, 30.6, 7.2, 160.0, 12.8, 2.27, 4.61, 138.0, 1093.0, 1.41, 45.0, 2.09, 4.3, 3219.9500000000003, 70.0, 80.0, 50.0, 51.1945205479452, 1.0, 0.0, 175.0, 22.857142857142858, 0.020890027424435225], [103.0, 27.2, 5.34, 144.0, 27.0, 2.05, 3.62, 141.4, 553.0, 1.6, 39.0, 0.49, 5.4, 2843.3199999999997, 38.0, 180.0, 110.0, 54.28767123287671, 0.0, 0.0, 145.0, 18.07372175980975, 0.04745386885093108], [98.0, 29.3, 5.9, 126.0, 19.2, 2.18, 4.05, 137.7, 357.0, 1.45, 37.0, 0.05, 5.3, 2270.43, 57.0, 130.0, 70.0, 75.61643835616438, 0.0, 0.0, 155.0, 23.725286160249738, 0.06949997598594512], [100.0, 31.2, 6.8, 138.0, 17.5, 2.37, 4.45, 139.8, 691.0, 2.1, 41.0, 0.49, 5.0, 4638.7, 60.0, 150.0, 100.0, 29.23835616438356, 1.0, 0.0, 166.0, 21.773842357381334, 0.04244420072841694], [95.0, 32.0, 5.48, 127.0, 9.0, 2.21, 3.03, 136.5, 489.0, 1.15, 31.0, 0.79, 7.4, 1817.96, 84.0, 140.0, 58.0, 69.96164383561644, 0.0, 1.0, 156.0, 34.51676528599605, 0.04955535893828881], [103.0, 27.6, 7.04, 112.0, 13.5, 2.25, 5.34, 141.8, 189.0, 1.29, 44.0, 0.06, 5.1, 3454.23, 58.0, 110.0, 60.0, 75.20821917808219, 0.0, 1.0, 155.0, 24.141519250780433, 0.14994024169362036], [89.0, 27.1, 5.03, 99.0, 11.5, 2.08, 2.85, 127.1, 735.0, 1.27, 32.0, 0.07, 6.1, 1566.55, 41.2, 148.0, 70.0, 76.07123287671233, 0.0, 0.0, 153.0, 17.60006834978, 0.028824938100566615], [102.0, 29.5, 7.9, 119.0, 15.4, 1.93, 4.04, 141.6, 626.0, 1.23, 44.0, 98.42, 6.7, 5020.04, 68.0, 120.0, 80.0, 59.657534246575345, 1.0, 0.0, 175.0, 22.20408163265306, 0.03874060556673915], [110.0, 19.3, 6.9, 127.0, 17.6, 2.22, 4.37, 140.8, 621.0, 1.73, 42.0, 1.7, 5.3, 2780.5, 62.0, 177.0, 108.0, 61.85479452054795, 0.0, 0.0, 159.0, 24.524346347059055, 0.03926660053093004], [99.0, 32.6, 4.9, 85.0, 11.3, 2.24, 3.37, 137.9, 603.0, 1.16, 29.0, 0.07, 5.1, 3034.06, 55.0, 160.0, 85.0, 73.01369863013699, 0.0, 0.0, 154.0, 23.19109461966605, 0.0373988631255935], [99.0, 30.7, 6.2, 110.0, 18.4, 1.97, 3.17, 137.4, 623.0, 1.29, 37.0, 0.07, 8.0, 2183.09, 73.4, 125.0, 80.0, 66.6109589041096, 0.0, 0.0, 155.0, 30.551508844953172, 0.03776428295027259], [105.0, 22.7, 6.4, 129.0, 22.4, 1.5, 4.41, 143.1, 1073.0, 1.99, 42.0, 1.54, 5.1, 3840.5299999999997, 79.0, 130.0, 80.0, 53.43561643835616, 1.0, 0.0, 177.0, 25.2162533116282, 0.021063678579854972], [101.0, 26.0, 5.7, 127.0, 23.8, 1.91, 4.51, 137.0, 521.0, 1.07, 31.0, 0.66, 10.3, 2485.62, 62.45, 120.0, 75.0, 64.23287671232876, 1.0, 1.0, 173.0, 20.86604965084032, 0.0466997127136873], [105.0, 23.6, 6.3, 113.0, 24.0, 2.12, 4.71, 141.7, 815.0, 1.66, 43.0, 0.49, 5.6, 3127.83, 69.0, 140.0, 80.0, 50.41095890410959, 0.0, 0.0, 160.0, 26.953124999999996, 0.030537942038042033], [100.0, 29.8, 13.3, 89.0, 22.1, 3.67, 4.5, 137.8, 750.0, 1.64, 38.0, 0.07, 7.3, 2644.41, 70.0, 150.0, 80.0, 70.85205479452055, 0.0, 1.0, 147.0, 32.39390994493036, 0.029340345113518188], [109.0, 14.9, 11.65, 102.0, 40.4, 1.92, 6.31, 137.0, 488.0, 2.51, 33.0, 37.82, 5.3, 4017.1800000000003, 51.5, 140.0, 80.0, 66.91780821917808, 1.0, 1.0, 166.0, 18.689214690085645, 0.04983907215554817], [104.0, 24.5, 6.06, 88.0, 19.2, 1.8, 3.35, 143.2, 1026.0, 1.76, 37.0, 0.65, 3.35, 1348.04, 68.0, 160.0, 100.0, 50.0986301369863, 0.0, 0.0, 160.0, 26.562499999999996, 0.023118100971782136], [96.0, 30.8, 6.3, 157.0, 21.4, 2.3, 3.28, 134.9, 492.0, 1.29, 37.0, 0.05, 6.1, 2460.85, 40.0, 110.0, 75.0, 85.47671232876712, 0.0, 0.0, 156.0, 16.43655489809336, 0.04396096361692791], [102.0, 23.6, 9.4, 136.0, 27.1, 2.26, 5.23, 141.2, 1077.0, 1.81, 41.0, 0.64, 4.8, 2274.8799999999997, 80.0, 135.0, 80.0, 34.69041095890411, 1.0, 0.0, 173.0, 26.729927495071667, 0.023963198000641155], [109.0, 13.0, 5.4, 109.0, 21.5, 1.93, 5.98, 142.0, 925.0, 1.81, 37.0, 0.37, 4.6, 5011.5599999999995, 70.0, 165.0, 92.0, 38.824657534246576, 1.0, 0.0, 173.0, 23.38868655818771, 0.02800433089688798], [101.0, 27.0, 10.5, 105.0, 21.0, 2.49, 5.37, 136.3, 532.0, 1.59, 38.0, 4.93, 6.3, 2500.3, 62.0, 110.0, 75.0, 35.35616438356164, 0.0, 1.0, 154.0, 26.14268848035082, 0.05682813775527381], [112.0, 25.6, 4.8, 106.0, 19.7, 2.09, 4.84, 143.0, 369.0, 1.44, 29.0, 0.94, 4.1, 2278.64, 45.0, 190.0, 85.0, 83.48493150684932, 0.0, 1.0, 150.0, 20.0, 0.06312765240915241], [112.0, 21.3, 6.3, 93.0, 25.1, 2.09, 4.32, 141.9, 529.0, 1.35, 42.0, 1.14, 4.7, 3352.75, 45.0, 140.0, 70.0, 67.96712328767123, 0.0, 0.0, 149.0, 20.269357236160534, 0.04569920367050759], [103.0, 27.3, 6.6, 155.0, 15.3, 2.12, 3.67, 142.8, 538.0, 1.37, 44.0, 0.85, 4.6, 3019.6499999999996, 55.0, 110.0, 60.0, 43.5013698630137, 0.0, 0.0, 160.0, 21.484374999999996, 0.052999137824819346], [107.0, 25.1, 5.1, 94.0, 15.8, 2.1, 3.39, 141.1, 714.0, 0.75, 37.0, 0.04, 5.8, 3076.75, 64.4, 120.0, 75.0, 77.35890410958905, 1.0, 0.0, 167.0, 23.09154146796228, 0.029119915389545913], [104.0, 27.5, 6.8, 146.0, 17.7, 2.28, 4.3, 138.7, 470.0, 1.33, 40.0, 0.66, 4.8, 3326.25, 59.0, 110.0, 75.0, 27.246575342465754, 1.0, 0.0, 174.0, 19.487382745408905, 0.0685934286702754], [102.0, 23.3, 7.4, 90.0, 26.0, 1.66, 4.11, 142.0, 1122.0, 1.98, 44.0, 5.83, 5.3, 2780.88, 70.0, 130.0, 80.0, 29.575342465753426, 1.0, 0.0, 165.0, 25.71166207529844, 0.023621417463263846], [92.0, 26.1, 7.6, 118.0, 25.5, 2.35, 3.88, 135.7, 1077.0, 2.61, 47.0, 4.45, 4.4, 3735.6900000000005, 59.5, 140.0, 100.0, 33.73972602739726, 1.0, 0.0, 160.0, 23.242187499999996, 0.024132122860665815], [98.0, 30.1, 9.5, 116.0, 16.3, 2.5, 4.27, 135.8, 456.0, 1.15, 34.0, 1.51, 4.3, 3061.04, 88.0, 130.0, 60.0, 75.41917808219178, 1.0, 1.0, 164.0, 32.718619869125526, 0.05078369011906358], [98.0, 29.0, 5.9, 131.0, 17.3, 2.12, 4.13, 138.7, 503.0, 0.79, 35.0, 1.19, 4.6, 3402.79, 30.05, 110.0, 70.0, 72.93698630136986, 0.0, 0.0, 148.0, 13.718955441928415, 0.04689397940782054], [102.0, 24.1, 7.3, 107.0, 25.1, 2.17, 4.69, 139.4, 909.0, 1.38, 46.0, 1.36, 4.7, 3916.12, 49.0, 85.0, 50.0, 37.583561643835615, 0.0, 0.0, 159.0, 19.382144693643447, 0.02932144372132069], [93.0, 23.9, 8.3, 103.0, 16.6, 1.74, 2.5, 131.3, 598.0, 1.24, 24.0, 14.42, 6.3, 3005.3999999999996, 56.3, 60.0, 30.0, 64.45753424657535, 0.0, 0.0, 155.0, 23.43392299687825, 0.04024269553469184], [103.0, 27.6, 3.58, 85.0, 17.1, 2.28, 3.44, 146.0, 799.0, 0.97, 41.0, 0.77, 4.9, 3434.1100000000006, 40.75, 105.0, 75.0, 50.05205479452055, 0.0, 0.0, 155.0, 16.961498439125908, 0.03127881268165162], [102.0, 29.6, 4.42, 97.0, 21.8, 2.22, 4.0, 140.0, 542.0, 1.45, 37.0, 1.12, 11.3, 2314.86, 65.0, 135.0, 70.0, 53.701369863013696, 0.0, 1.0, 160.0, 25.390624999999996, 0.04896344014273954], [108.0, 19.3, 5.29, 127.0, 17.8, 2.69, 3.67, 137.9, 510.0, 1.7, 37.0, 2.28, 4.8, 3290.2300000000005, 52.35, 120.0, 80.0, 62.704109589041096, 0.0, 0.0, 161.0, 20.195980093360593, 0.049472966743695855], [105.0, 29.6, 6.4, 134.0, 19.3, 2.05, 3.9, 141.0, 463.0, 1.55, 36.0, 0.73, 10.2, 2251.16, 72.95, 140.0, 90.0, 60.1972602739726, 0.0, 1.0, 160.0, 28.496093749999996, 0.056394192473856415], [108.0, 30.9, 5.1, 100.0, 25.1, 2.22, 4.24, 142.0, 615.0, 1.55, 40.0, 40.0, 3.7, 3967.8700000000003, 76.4, 185.0, 100.0, 63.76986301369863, 1.0, 1.0, 171.0, 26.127697411169255, 0.038483250956808955], [104.0, 30.4, 4.76, 83.0, 28.2, 2.16, 3.46, 104.0, 548.0, 1.68, 35.0, 7.3, 4.8, 4108.72, 74.0, 150.0, 70.0, 78.87671232876713, 1.0, 1.0, 170.0, 25.605536332179934, 0.03981757438764565], [98.0, 33.0, 6.93, 109.0, 29.1, 2.31, 4.64, 143.9, 1171.0, 1.56, 43.0, 0.73, 4.8, 3727.8900000000003, 59.0, 135.0, 90.0, 34.28219178082192, 1.0, 0.0, 171.0, 20.177148524332274, 0.021657497620527735], [94.0, 29.1, 10.2, 124.0, 37.2, 2.48, 5.1, 142.0, 1349.0, 2.23, 36.6, 0.53, 8.1, 2632.8599999999997, 76.0, 140.0, 100.0, 38.868493150684934, 1.0, 1.0, 173.0, 25.393431120318084, 0.01774623009945215], [100.0, 31.1, 5.02, 123.0, 17.2, 2.14, 3.69, 139.0, 595.0, 1.03, 43.0, 0.17, 4.4, 2742.01, 71.0, 165.0, 90.0, 51.76438356164383, 1.0, 0.0, 172.0, 23.99945916711736, 0.043575238655018285], [107.0, 25.5, 6.6, 127.0, 16.8, 2.44, 4.44, 139.2, 392.0, 1.51, 39.0, 0.8, 6.0, 2876.6499999999996, 66.5, 150.0, 75.0, 70.65753424657534, 0.0, 0.0, 155.0, 27.67950052029136, 0.06428822429877584], [99.3, 28.0, 7.5, 116.0, 29.5, 2.1, 4.85, 142.0, 766.2, 1.38, 34.4, 0.98, 6.7, 3245.4700000000003, 66.5, 140.0, 75.0, 54.37534246575343, 1.0, 1.0, 166.0, 24.132675279430977, 0.031427430518497834], [102.0, 27.0, 4.73, 121.0, 23.1, 2.37, 3.99, 138.0, 571.0, 0.81, 39.0, 2.93, 4.8, 2450.95, 65.15, 105.0, 70.0, 76.88767123287671, 0.0, 0.0, 146.0, 30.563895665228003, 0.039114404387450515], [106.0, 27.8, 4.6, 120.0, 20.2, 2.38, 4.73, 143.0, 787.0, 1.02, 41.0, 2.88, 4.8, 2257.9800000000005, 59.0, 140.0, 80.0, 69.58356164383562, 0.0, 0.0, 158.0, 23.634033007530842, 0.02787607250348446], [107.0, 24.1, 9.19, 118.0, 26.8, 2.09, 4.74, 138.5, 589.0, 1.61, 31.0, 7.92, 6.4, 2567.1400000000003, 66.5, 150.0, 60.0, 65.86575342465754, 0.0, 1.0, 160.0, 25.976562499999996, 0.040700397563718675], [106.0, 28.9, 6.2, 81.0, 11.9, 2.0, 4.26, 136.0, 373.0, 1.2, 38.0, 4.03, 13.0, 3811.97, 64.0, 160.0, 70.0, 62.772602739726025, 0.0, 1.0, 160.0, 24.999999999999996, 0.0722144852167983], [95.0, 26.0, 4.3, 104.0, 25.0, 2.16, 5.1, 140.0, 1018.0, 1.49, 43.0, 14.17, 19.0, 3068.05, 67.0, 135.0, 163.0, 51.47397260273973, 1.0, 0.0, 172.0, 22.647376960519203, 0.02276479387482672], [99.0, 26.9, 4.8, 94.0, 29.1, 2.42, 5.33, 136.2, 1188.0, 2.23, 39.0, 1.02, 4.5, 3186.82, 55.0, 160.0, 80.0, 54.83561643835616, 0.0, 0.0, 153.0, 23.49523687470631, 0.018826657968170058], [110.0, 30.8, 5.9, 142.0, 19.9, 2.45, 7.2, 145.0, 519.0, 1.43, 40.0, 24.32, 5.7, 5209.67, 49.0, 120.0, 80.0, 56.394520547945206, 1.0, 0.0, 170.0, 16.955017301038065, 0.049629476333970975], [97.0, 24.4, 8.4, 125.0, 23.5, 2.08, 4.84, 134.0, 643.0, 1.75, 44.0, 12.41, 6.0, 3435.91, 60.05, 125.0, 75.0, 69.4, 1.0, 0.0, 170.0, 20.77854671280277, 0.03496151087516414], [108.0, 22.2, 5.4, 89.0, 24.8, 2.3, 5.2, 138.0, 724.0, 0.9, 45.0, 9.27, 5.7, 3210.58, 67.45, 170.0, 110.0, 54.83287671232877, 0.0, 0.0, 156.0, 27.716140696909928, 0.03426118523157426], [114.0, 18.4, 4.07, 106.0, 27.7, 2.19, 5.3, 140.0, 414.0, 1.45, 35.0, 0.21, 6.1, 3624.2700000000004, 58.5, 135.0, 65.0, 57.50410958904109, 0.0, 1.0, 153.0, 24.99038831218762, 0.06593570323132956], [105.0, 20.9, 6.7, 114.0, 12.9, 2.41, 4.04, 139.0, 432.0, 1.17, 43.0, 9.57, 5.7, 3264.6400000000003, 58.2, 150.0, 85.0, 61.44931506849315, 0.0, 0.0, 160.0, 22.734374999999996, 0.06089353674773042], [98.5, 29.2, 6.6, 122.0, 19.03, 2.33, 3.17, 138.9, 774.0, 1.35, 34.7, 3.04, 5.63, 3059.45, 47.0, 115.0, 70.0, 72.76712328767124, 1.0, 1.0, 156.0, 19.312952005259696, 0.027357548817270542], [105.0, 29.5, 8.3, 137.0, 21.4, 2.4, 3.59, 146.0, 630.0, 1.0, 43.0, 0.86, 1.4, 3313.88, 60.5, 180.0, 90.0, 34.97534246575343, 1.0, 1.0, 165.0, 22.222222222222225, 0.04582377218784107], [103.0, 22.6, 5.77, 111.0, 25.4, 1.98, 5.0, 134.0, 950.0, 2.26, 40.0, 6.26, 5.2, 3179.0, 79.5, 150.0, 90.0, 61.0958904109589, 1.0, 0.0, 180.0, 24.537037037037035, 0.023070416339855872], [111.0, 19.5, 5.06, 93.0, 21.9, 1.52, 5.39, 141.0, 591.0, 1.29, 43.0, 0.92, 5.0, 2452.0299999999997, 60.0, 165.0, 80.0, 79.8027397260274, 0.0, 0.0, 150.0, 26.666666666666668, 0.036737386506261044], [101.0, 27.7, 7.0, 119.0, 20.6, 2.42, 4.77, 139.0, 802.0, 1.18, 47.0, 0.67, 4.8, 3811.54, 69.6, 135.0, 90.0, 21.34246575342466, 0.0, 0.0, 168.0, 24.659863945578234, 0.038172824690032886], [98.0, 26.0, 6.14, 128.0, 15.0, 2.14, 3.53, 139.0, 637.0, 0.61, 33.0, 2.48, 4.6, 2098.31, 48.0, 160.0, 75.0, 83.6027397260274, 1.0, 0.0, 170.0, 16.60899653979239, 0.0320480909229344], [110.0, 15.4, 4.05, 90.0, 32.3, 2.53, 3.22, 140.0, 767.0, 1.8, 40.0, 0.9, 5.7, 4049.91, 71.8, 150.0, 80.0, 52.95890410958904, 1.0, 0.0, 174.0, 23.715153917294224, 0.03183189102844396], [100.0, 35.5, 7.4, 111.0, 20.7, 3.02, 4.74, 140.0, 806.0, 1.44, 41.0, 10.8, 4.7, 3243.88, 59.5, 150.0, 100.0, 55.465753424657535, 0.0, 0.0, 158.0, 23.834321422848898, 0.029882470012779203], [97.0, 30.4, 7.0, 101.0, 30.0, 2.24, 4.05, 142.0, 1422.0, 1.41, 42.0, 0.36, 5.3, 2851.0200000000004, 72.0, 110.0, 70.0, 35.61369863013699, 1.0, 0.0, 178.0, 22.724403484408533, 0.01700541355265556], [115.0, 14.1, 5.97, 92.0, 15.9, 2.48, 3.71, 142.0, 663.0, 1.37, 43.0, 1.42, 5.4, 1552.94, 52.8, 154.0, 75.0, 72.6027397260274, 0.0, 0.0, 150.0, 23.466666666666665, 0.033581719247433015], [99.0, 28.6, 7.9, 140.0, 30.9, 2.42, 3.29, 141.0, 1045.0, 1.49, 49.0, 0.18, 6.4, 4570.219999999999, 55.0, 130.0, 90.0, 26.15890410958904, 1.0, 0.0, 170.0, 19.031141868512112, 0.026289842142146712], [104.0, 25.8, 6.58, 90.0, 26.8, 2.57, 4.22, 139.0, 1057.0, 1.82, 45.0, 0.36, 4.5, 3277.2300000000005, 52.5, 145.0, 90.0, 36.33698630136986, 0.0, 0.0, 163.0, 19.759870525800746, 0.024605555649248833], [110.0, 22.7, 4.35, 96.0, 16.1, 2.11, 4.07, 139.0, 515.0, 0.93, 31.0, 3.14, 5.9, 3591.4700000000003, 68.0, 150.0, 95.0, 43.9041095890411, 1.0, 1.0, 165.0, 24.977043158861342, 0.0548860349778002], [105.0, 26.2, 9.5, 74.0, 30.7, 2.22, 5.79, 141.0, 954.0, 1.6, 40.0, 31.43, 5.0, 3744.0699999999997, 83.1, 130.0, 85.0, 58.35616438356164, 1.0, 1.0, 175.0, 27.13469387755102, 0.023442371299240667], [102.0, 28.5, 5.0, 131.0, 22.4, 2.34, 4.66, 141.0, 667.0, 1.31, 42.0, 1.64, 4.9, 2987.63, 85.6, 148.0, 100.0, 58.794520547945204, 1.0, 0.0, 173.0, 28.601022419726682, 0.036133280476337445], [107.0, 28.3, 4.38, 96.0, 20.9, 2.23, 4.09, 140.0, 768.0, 1.35, 39.0, 2.13, 4.7, 2782.91, 53.65, 145.0, 90.0, 37.97534246575343, 0.0, 0.0, 163.0, 20.192705784937335, 0.03594904601751486], [100.0, 22.9, 7.28, 131.0, 15.9, 22.200000000000003, 4.31, 139.0, 624.0, 0.99, 41.0, 0.77, 4.8, 3501.9700000000003, 50.15, 125.0, 85.0, 44.37260273972603, 0.0, 0.0, 160.0, 19.589843749999996, 0.043990171541228085], [101.0, 20.7, 3.21, 100.0, 14.6, 2.05, 3.6, 141.0, 640.0, 1.28, 38.0, 7.95, 5.3, 2915.39, 66.5, 120.0, 70.0, 56.64383561643836, 0.0, 0.0, 153.0, 28.4078773121449, 0.03921509016097095], [102.0, 23.7, 5.9, 94.0, 23.5, 2.4, 5.1, 140.0, 978.0, 1.97, 42.0, 0.62, 5.1, 3169.38, 67.0, 145.0, 90.0, 64.36986301369863, 1.0, 0.0, 173.0, 22.386314277122523, 0.02180978281947747], [102.0, 26.7, 6.32, 123.0, 28.4, 2.02, 6.17, 140.0, 620.0, 1.75, 41.0, 1.57, 5.1, 3495.07, 68.9, 160.0, 85.0, 63.23835616438356, 0.0, 0.0, 160.0, 26.914062499999996, 0.03879430655196005], [105.0, 21.3, 11.8, 116.0, 14.5, 2.08, 3.9, 138.0, 550.0, 1.97, 43.0, 6.37, 6.6, 3839.76, 59.0, 140.0, 75.0, 55.821917808219176, 0.0, 0.0, 160.0, 23.046874999999996, 0.047432614778420826], [106.0, 24.1, 6.9, 103.0, 21.3, 2.1, 4.21, 144.0, 555.0, 1.75, 33.0, 16.45, 6.1, 3537.26, 67.0, 160.0, 70.0, 78.35616438356165, 1.0, 1.0, 167.0, 24.023808670084982, 0.03921121311552356], [100.0, 31.0, 6.2, 88.0, 26.3, 2.7, 4.8, 140.0, 1095.0, 0.98, 41.0, 2.54, 5.1, 3737.4300000000003, 60.5, 145.0, 90.0, 48.50684931506849, 1.0, 0.0, 174.0, 19.982824679614215, 0.02128782887134453], [105.0, 25.8, 7.34, 109.0, 16.8, 2.2, 4.17, 143.0, 260.0, 1.17, 38.0, 1.75, 6.7, 2362.66, 53.08, 140.0, 70.0, 72.5095890410959, 0.0, 1.0, 156.0, 21.811308349769885, 0.10413818510499545], [95.0, 26.8, 5.15, 101.0, 14.8, 2.16, 3.4, 137.0, 620.0, 1.65, 38.0, 2.72, 13.5, 2738.6800000000003, 85.2, 160.0, 75.0, 49.52328767123288, 1.0, 1.0, 172.0, 28.799351000540838, 0.042046585766112685], [100.0, 30.2, 4.0, 131.0, 13.7, 2.29, 4.18, 139.0, 411.0, 1.13, 39.0, 5.32, 7.0, 4239.320000000001, 71.65, 140.0, 80.0, 74.30684931506849, 1.0, 0.0, 170.0, 24.792387543252598, 0.05798674602945669], [108.0, 22.9, 9.44, 115.0, 22.1, 2.53, 4.49, 142.0, 640.0, 1.58, 42.0, 0.48, 4.5, 3925.34, 54.7, 120.0, 80.0, 48.18904109589041, 0.0, 0.0, 159.0, 21.63680234167952, 0.04148195632345969], [103.0, 26.9, 10.3, 114.0, 17.1, 2.8, 4.86, 140.0, 734.0, 1.7, 43.0, 1.81, 4.6, 3881.3100000000004, 56.84, 130.0, 75.0, 72.56164383561644, 1.0, 0.0, 164.0, 21.13325401546699, 0.029170136936677783], [99.0, 26.4, 4.19, 101.0, 22.3, 2.69, 4.1, 140.0, 897.0, 1.74, 42.0, 8.06, 5.3, 2657.06, 49.4, 120.0, 80.0, 59.31506849315068, 0.0, 0.0, 152.0, 21.38157894736842, 0.025529745664392655], [100.0, 27.2, 11.08, 132.0, 20.6, 2.67, 3.7, 141.0, 654.0, 1.72, 42.0, 4.27, 5.8, 3120.2999999999997, 62.8, 125.0, 80.0, 73.0054794520548, 0.0, 0.0, 158.0, 25.15622496394808, 0.03390225085817304], [99.0, 23.7, 7.6, 127.0, 20.6, 1.94, 4.52, 140.0, 938.0, 1.95, 41.0, 4.43, 5.0, 2453.69, 63.0, 160.0, 80.0, 74.78630136986301, 0.0, 0.0, 168.0, 22.321428571428577, 0.021767975888117717], [103.0, 31.3, 6.1, 124.0, 20.6, 2.21, 5.53, 142.0, 607.0, 1.06, 36.0, 4.51, 4.6, 2631.24, 52.65, 125.0, 80.0, 61.057534246575344, 0.0, 0.0, 163.5, 19.695311842437505, 0.04036416021878146], [22.8, 30.3, 6.7, 125.0, 26.5, 2.1, 5.29, 137.0, 883.0, 1.08, 39.0, 0.73, 5.1, 3082.87, 73.9, 140.0, 85.0, 48.69041095890411, 1.0, 1.0, 182.0, 22.31010747494264, 0.027613188004647144], [103.0, 29.1, 6.7, 143.0, 14.6, 2.45, 4.3, 138.0, 759.0, 1.67, 42.0, 1.25, 16.1, 4151.92, 80.0, 115.0, 78.0, 36.9041095890411, 1.0, 1.0, 170.0, 27.68166089965398, 0.03607279148750271], [102.0, 30.0, 7.66, 120.0, 17.9, 3.05, 3.3, 142.0, 701.0, 0.98, 42.0, 1.78, 5.5, 2871.1, 56.5, 140.0, 80.0, 63.221917808219175, 0.0, 0.0, 160.0, 22.070312499999996, 0.03344232492386914], [100.0, 30.4, 7.2, 134.0, 24.0, 3.2, 4.7, 138.0, 843.0, 1.56, 40.0, 5.43, 4.0, 2543.85, 62.35, 135.0, 80.0, 55.3013698630137, 0.0, 1.0, 160.0, 24.355468749999996, 0.028304143680353805], [103.0, 26.4, 6.0, 124.0, 17.0, 2.18, 4.6, 141.0, 765.0, 1.16, 42.0, 0.65, 5.4, 3086.96, 62.0, 110.0, 75.0, 38.40821917808219, 0.0, 0.0, 150.0, 27.555555555555557, 0.03586671966788809], [111.0, 22.9, 5.47, 116.0, 19.6, 2.29, 4.6, 143.0, 698.0, 1.41, 44.0, 0.56, 4.6, 4221.76, 68.25, 110.0, 70.0, 28.506849315068493, 1.0, 0.0, 173.0, 22.803969394233018, 0.042225700653333725], [93.0, 27.0, 6.4, 133.0, 12.7, 2.55, 3.66, 141.0, 979.0, 0.87, 45.0, 0.9, 6.7, 2596.6200000000003, 66.75, 105.0, 75.0, 39.18630136986302, 0.0, 0.0, 160.0, 26.074218749999996, 0.026432078021803772], [106.0, 22.6, 6.8, 138.0, 20.5, 2.42, 5.66, 140.0, 941.0, 1.46, 46.0, 0.1, 5.8, 4564.88, 80.5, 155.0, 100.0, 45.61643835616438, 1.0, 0.0, 168.0, 28.521825396825403, 0.026113521398806027], [102.0, 26.1, 3.59, 106.0, 28.9, 2.17, 4.5, 141.0, 811.0, 1.58, 34.0, 2.25, 5.2, 1723.75, 62.2, 160.0, 110.0, 50.632876712328766, 0.0, 0.0, 158.0, 24.915878865566413, 0.03072013378390701], [101.0, 28.0, 6.3, 138.0, 24.4, 2.3, 3.93, 142.0, 843.0, 1.09, 43.0, 4.41, 6.1, 4388.77, 63.0, 165.0, 90.0, 62.87671232876713, 1.0, 0.0, 166.0, 22.8625344752504, 0.02646957581649392], [96.0, 31.0, 6.4, 116.0, 20.4, 2.12, 4.72, 137.0, 640.0, 1.27, 38.0, 5.31, 9.3, 2116.8599999999997, 59.7, 140.0, 70.0, 61.69315068493151, 1.0, 1.0, 165.0, 21.928374655647385, 0.03719218404899279], [97.0, 25.5, 7.06, 97.0, 23.6, 2.39, 3.66, 140.0, 815.0, 1.91, 42.0, 0.81, 5.1, 2808.6400000000003, 47.0, 120.0, 88.0, 25.410958904109588, 0.0, 0.0, 165.0, 17.263544536271812, 0.03640060098765729], [102.0, 27.4, 7.5, 103.0, 15.8, 1.93, 4.54, 146.0, 464.0, 0.76, 34.0, 0.67, 4.5, 1323.97, 51.1, 180.0, 100.0, 68.33424657534246, 0.0, 0.0, 156.0, 20.997698882314264, 0.05317353701886088], [95.0, 31.3, 7.7, 104.0, 26.0, 3.07, 4.69, 135.0, 745.0, 2.16, 38.5, 17.38, 5.5, 2963.1800000000003, 50.0, 145.0, 70.0, 72.69315068493151, 0.0, 0.0, 155.0, 20.811654526534856, 0.029165931305836647], [105.0, 23.1, 7.89, 131.0, 25.2, 2.13, 5.6, 141.0, 687.0, 1.84, 40.0, 1.68, 2.6, 4358.92, 70.0, 130.0, 80.0, 51.983561643835614, 1.0, 1.0, 177.0, 22.34351559258195, 0.036622677350617416], [98.0, 24.7, 10.71, 98.0, 16.3, 2.45, 3.84, 142.0, 706.0, 2.04, 44.0, 5.93, 4.7, 2250.73, 67.75, 120.0, 100.0, 20.76164383561644, 0.0, 0.0, 157.0, 27.485902064992494, 0.044848402386922406], [93.0, 28.5, 15.04, 147.0, 12.0, 2.42, 4.55, 140.0, 503.0, 1.66, 34.0, 20.62, 4.7, 1925.92, 49.75, 120.0, 70.0, 81.7095890410959, 0.0, 0.0, 143.0, 24.328818035111745, 0.04402104266327206], [95.0, 24.3, 8.2, 120.0, 24.1, 2.09, 3.4, 139.0, 624.0, 1.62, 37.0, 9.48, 5.3, 3567.65, 58.0, 130.0, 60.0, 76.7068493150685, 0.0, 0.0, 155.0, 24.141519250780433, 0.0351343244404309], [102.0, 25.3, 5.63, 112.0, 23.4, 2.11, 5.12, 139.0, 985.0, 2.21, 41.0, 0.77, 6.7, 3642.95, 83.0, 145.0, 68.0, 71.18630136986302, 1.0, 1.0, 174.0, 27.414453692693883, 0.020585022837771347], [104.0, 27.0, 5.1, 85.0, 13.5, 1.92, 4.13, 144.0, 321.0, 1.02, 36.0, 2.95, 5.9, 3324.6, 77.65, 120.0, 60.0, 77.41095890410959, 1.0, 1.0, 161.0, 29.956406002854827, 0.07655025868173056], [86.0, 24.1, 13.51, 110.0, 23.7, 2.03, 3.96, 135.0, 351.0, 1.73, 35.0, 50.76, 10.5, 3853.92, 63.35, 155.0, 70.0, 78.5123287671233, 0.0, 1.0, 160.0, 24.746093749999996, 0.06945955065910438], [105.0, 16.3, 5.39, 121.0, 13.0, 1.98, 4.31, 141.0, 297.0, 1.34, 31.0, 42.68, 4.6, 4454.469999999999, 69.0, 140.0, 70.0, 78.74520547945205, 1.0, 1.0, 174.0, 22.79032897344431, 0.08350220581588651], [104.0, 24.34, 4.62, 102.0, 19.5, 2.28, 3.31, 140.0, 456.0, 1.6, 36.0, 4.74, 8.3, 3210.19, 63.5, 130.0, 60.0, 82.57534246575342, 1.0, 0.0, 168.0, 22.498582766439913, 0.04834694031188732], [87.0, 25.3, 7.4, 110.0, 16.6, 2.12, 3.5, 129.0, 827.0, 1.99, 37.1, 4.47, 8.0, 2807.17, 52.0, 110.0, 50.0, 77.82191780821918, 0.0, 1.0, 165.0, 19.100091827364558, 0.024819604900570634], [96.0, 25.6, 5.5, 108.0, 23.6, 1.7, 4.95, 138.0, 1196.0, 2.54, 46.0, 2.28, 4.9, 3273.07, 59.0, 160.0, 100.0, 67.22465753424657, 0.0, 0.0, 163.0, 22.20633068613798, 0.017044707140420032], [103.0, 22.7, 9.94, 126.0, 10.6, 2.17, 3.47, 139.0, 243.0, 1.1, 38.0, 24.14, 5.0, 2987.6400000000003, 68.0, 105.0, 70.0, 80.97808219178083, 1.0, 0.0, 178.0, 21.461936624163616, 0.1049448201251425], [96.0, 25.0, 5.96, 73.0, 19.8, 1.92, 4.28, 139.0, 731.0, 1.44, 35.0, 1.37, 4.5, 5082.29, 69.75, 160.0, 90.0, 68.27945205479452, 1.0, 0.0, 170.0, 24.134948096885815, 0.030150318314407062], [104.0, 17.5, 7.9, 105.0, 26.3, 2.1, 4.04, 139.0, 744.0, 2.07, 39.0, 1.5, 7.2, 2465.34, 58.5, 150.0, 80.0, 77.12054794520547, 1.0, 1.0, 155.0, 24.34963579604578, 0.027706366050353825], [105.0, 21.9, 7.17, 94.0, 19.2, 2.23, 5.5, 140.0, 668.0, 1.67, 37.0, 11.16, 6.6, 3605.42, 51.0, 150.0, 80.0, 55.42739726027397, 0.0, 0.0, 160.0, 19.921874999999996, 0.037499097429865215], [95.0, 32.8, 4.65, 106.0, 23.3, 2.21, 4.37, 139.0, 1138.0, 1.25, 42.0, 2.39, 5.4, 4957.0599999999995, 61.0, 132.0, 74.0, 56.62465753424657, 1.0, 0.0, 170.0, 21.107266435986162, 0.019208835332125963], [113.0, 19.5, 7.36, 105.0, 19.3, 2.45, 4.68, 140.0, 561.0, 1.5, 37.0, 1.23, 7.6, 3952.56, 49.5, 105.0, 50.0, 81.76164383561644, 1.0, 0.0, 170.0, 17.128027681660903, 0.037897637865186316], [97.0, 26.8, 12.98, 116.0, 13.6, 2.3, 3.56, 142.0, 708.0, 1.16, 36.2, 36.47, 9.4, 2271.6499999999996, 56.7, 144.0, 70.0, 63.397260273972606, 1.0, 1.0, 167.0, 20.33059629244505, 0.032458732687966445], [101.0, 29.6, 6.92, 62.0, 17.8, 2.25, 5.13, 139.0, 741.0, 1.49, 37.0, 1.67, 3.9, 4824.8, 56.25, 145.0, 100.0, 43.97260273972603, 0.0, 0.0, 152.0, 24.34643351800554, 0.03598937979418192], [95.0, 28.0, 4.16, 68.0, 17.2, 2.58, 3.27, 140.0, 977.0, 2.21, 36.0, 3.5, 7.8, 1925.6399999999999, 48.0, 110.0, 80.0, 20.063013698630137, 0.0, 0.0, 168.0, 17.006802721088437, 0.030280938629759814], [108.5, 22.4, 7.45, 126.0, 21.6, 2.83, 5.11, 141.0, 1218.5, 2.06, 42.8, 0.0, 4.9, 3491.9849999999997, 62.0, 107.0, 73.0, 52.413698630136984, 1.0, 0.0, 170.0, 21.453287197231838, 0.018189340980457058], [97.0, 28.5, 6.9, 101.0, 26.9, 2.35, 4.37, 138.0, 757.0, 1.43, 37.2, 1.04, 4.5, 3595.2799999999997, 50.5, 140.0, 100.0, 45.58082191780822, 0.0, 0.0, 163.0, 19.00711355338929, 0.03458248160738962], [97.0, 33.1, 7.05, 130.0, 13.8, 2.35, 3.78, 139.0, 515.0, 1.11, 40.0, 6.24, 5.8, 3466.46, 74.5, 180.0, 100.0, 77.17260273972603, 1.0, 1.0, 177.0, 23.779884452105076, 0.043225129880178015], [103.0, 24.5, 5.98, 89.0, 33.9, 2.1, 4.93, 140.0, 630.0, 1.57, 32.0, 8.18, 4.7, 2793.15, 60.0, 110.0, 60.0, 58.175342465753424, 1.0, 0.0, 173.0, 20.04744562130375, 0.0387144239072973], [96.0, 34.6, 5.9, 126.0, 16.8, 2.51, 3.36, 141.0, 308.0, 1.18, 39.0, 7.57, 10.4, 2776.3599999999997, 62.6, 160.0, 80.0, 78.87397260273973, 0.0, 1.0, 156.0, 25.723208415516105, 0.08134867002991569], [100.0, 19.0, 4.5, 118.0, 26.7, 2.3, 4.09, 139.0, 535.0, 1.18, 36.0, 0.83, 4.7, 1963.74, 39.6, 100.0, 60.0, 80.55890410958904, 0.0, 0.0, 154.0, 16.697588126159555, 0.041145945624863206], [108.0, 21.1, 6.6, 134.0, 17.3, 1.83, 3.96, 142.0, 407.0, 1.42, 36.0, 2.33, 5.5, 3113.34, 36.7, 145.0, 70.0, 74.30958904109589, 0.0, 0.0, 156.0, 15.080539119000658, 0.059732630221210226], [100.9, 29.6, 7.09, 114.0, 12.81, 2.69, 5.29, 140.7, 1061.0, 0.74, 34.7, 4.71, 5.18, 3106.79, 65.3, 130.0, 70.0, 59.0986301369863, 1.0, 0.0, 165.0, 23.98530762167126, 0.020470802804556265], [106.0, 23.3, 8.04, 126.0, 12.4, 2.06, 3.47, 141.0, 531.0, 1.44, 30.8, 1.76, 4.5, 2405.1099999999997, 48.4, 140.0, 100.0, 27.30958904109589, 0.0, 1.0, 160.0, 18.906249999999996, 0.06025003784534607], [99.0, 26.1, 9.36, 138.0, 22.3, 2.36, 5.35, 141.0, 960.0, 1.84, 45.0, 0.75, 7.6, 4141.13, 66.9, 150.0, 90.0, 55.14246575342466, 1.0, 0.0, 166.0, 24.277834228480188, 0.023760843790043604], [102.0, 28.2, 7.75, 148.0, 27.4, 2.39, 4.93, 143.0, 1366.0, 1.86, 36.0, 4.14, 7.1, 4117.04, 57.2, 157.0, 83.0, 24.926027397260274, 1.0, 0.0, 172.0, 19.33477555435371, 0.019285956418836788], [95.0, 33.7, 8.09, 152.0, 16.9, 2.31, 4.21, 139.0, 778.0, 1.65, 45.0, 1.34, 5.3, 2830.26, 44.7, 100.0, 70.0, 23.756164383561643, 0.0, 0.0, 154.0, 18.848035081801317, 0.03904858250764598], [99.0, 27.3, 9.33, 128.0, 28.1, 2.82, 4.49, 138.0, 944.0, 1.54, 44.0, 0.89, 4.5, 2672.8999999999996, 81.0, 184.0, 115.0, 49.30958904109589, 1.0, 0.0, 175.0, 26.448979591836736, 0.02529246442564896], [101.0, 33.2, 6.11, 133.0, 16.0, 2.07, 2.92, 144.0, 329.0, 1.08, 32.0, 1.97, 4.4, 1973.0800000000002, 44.0, 122.0, 8.0, 50.45479452054794, 0.0, 0.0, 161.0, 16.97465375564214, 0.0914406858463282], [104.0, 25.0, 4.18, 124.0, 28.3, 1.51, 5.07, 142.0, 873.0, 2.13, 34.1, 2.2, 4.4, 4442.759999999999, 62.0, 151.0, 81.0, 66.0931506849315, 0.0, 0.0, 167.0, 22.230987127541326, 0.02511487787702451], [86.0, 31.4, 8.76, 145.0, 21.8, 2.17, 4.04, 128.0, 869.0, 1.71, 38.0, 2.09, 9.8, 2559.08, 48.1, 120.0, 60.0, 65.21917808219177, 0.0, 1.0, 160.0, 18.789062499999996, 0.025432738925581785], [102.0, 30.0, 7.4, 138.0, 19.0, 2.03, 3.5, 140.0, 1108.0, 2.03, 32.1, 3.39, 6.0, 4067.9900000000002, 64.0, 160.0, 80.0, 59.484931506849314, 1.0, 1.0, 165.0, 23.507805325987146, 0.019425678803940614], [90.0, 25.0, 3.16, 89.0, 30.2, 3.25, 3.85, 136.0, 1382.0, 1.98, 44.0, 6.64, 7.9, 2201.8, 61.5, 95.0, 65.0, 56.88767123287671, 1.0, 0.0, 172.0, 20.78826392644673, 0.015188077493757744], [99.0, 32.2, 10.0, 116.0, 18.6, 2.61, 4.45, 141.0, 1073.0, 1.3, 39.0, 1.55, 5.2, 2733.41, 51.0, 140.0, 80.0, 48.56438356164384, 0.0, 0.0, 160.0, 19.921874999999996, 0.02220934520926837], [101.0, 33.1, 6.08, 102.0, 9.4, 2.34, 4.75, 139.0, 362.0, 1.06, 33.0, 0.77, 5.6, 1891.3500000000001, 42.7, 170.0, 90.0, 67.01369863013699, 0.0, 0.0, 153.0, 18.24084753727199, 0.07229160685123955], [94.0, 30.1, 5.55, 94.0, 22.2, 2.28, 4.24, 140.0, 621.0, 1.6, 30.0, 173.76, 7.4, 3518.46, 64.0, 138.0, 80.0, 72.36164383561643, 1.0, 1.0, 173.0, 21.383941996057334, 0.035704031723529324], [98.0, 25.2, 4.79, 95.0, 33.7, 2.19, 3.76, 140.0, 1403.0, 1.83, 34.7, 16.69, 7.6, 3523.5999999999995, 62.0, 160.0, 100.0, 19.56986301369863, 1.0, 1.0, 176.0, 20.015495867768596, 0.019340251164195306], [103.0, 28.8, 3.69, 115.0, 22.8, 2.36, 4.66, 135.0, 772.0, 1.35, 38.0, 1.07, 4.3, 3927.21, 63.5, 125.0, 90.0, 44.986301369863014, 1.0, 0.0, 172.0, 21.464305029745812, 0.0334084810417053], [114.0, 20.9, 6.02, 115.0, 10.9, 2.25, 3.56, 144.0, 537.0, 1.21, 34.0, 1.79, 7.5, 6235.25, 67.6, 130.0, 60.0, 70.0958904109589, 1.0, 1.0, 170.0, 23.391003460207614, 0.04316458759596689], [95.0, 28.1, 7.4, 152.0, 19.1, 2.39, 4.56, 140.0, 808.0, 1.32, 38.0, 13.98, 5.9, 2200.25, 51.4, 80.0, 60.0, 41.821917808219176, 1.0, 0.0, 161.0, 19.829481887272866, 0.03229073762253978], [105.0, 22.5, 3.52, 87.0, 19.2, 2.17, 4.25, 141.0, 662.0, 1.5, 38.0, 0.99, 5.4, 2338.1099999999997, 50.0, 138.0, 98.0, 39.16164383561644, 0.0, 0.0, 168.0, 17.71541950113379, 0.04241996176613492], [98.0, 25.6, 6.2, 128.0, 15.6, 2.2, 3.36, 135.0, 580.0, 1.2, 33.0, 8.68, 5.1, 1782.96, 48.6, 170.0, 90.0, 75.0986301369863, 0.0, 0.0, 153.0, 20.761245674740486, 0.0386523660322622], [104.0, 28.1, 6.66, 114.0, 20.9, 2.09, 4.65, 148.0, 512.0, 1.65, 32.0, 1.27, 7.7, 2885.02, 72.5, 160.0, 80.0, 64.21643835616439, 0.0, 1.0, 160.0, 28.320312499999993, 0.04855247927452866], [103.0, 25.7, 3.73, 86.0, 25.7, 2.27, 4.85, 140.0, 800.0, 1.69, 40.0, 1.18, 4.4, 3556.3500000000004, 53.5, 130.0, 80.0, 36.4, 1.0, 0.0, 154.0, 22.558610220947884, 0.033849812252198935], [102.0, 31.9, 5.81, 131.0, 16.4, 2.38, 4.05, 140.0, 510.0, 1.24, 37.0, 4.15, 4.9, 3551.0699999999997, 52.5, 90.0, 60.0, 66.5123287671233, 0.0, 0.0, 156.0, 21.572978303747533, 0.048102200968969236], [105.0, 34.0, 6.24, 112.0, 25.8, 2.05, 3.64, 147.0, 693.0, 1.04, 29.0, 3.9, 3.7, 4055.09, 57.3, 120.0, 58.0, 73.81369863013698, 1.0, 0.0, 170.0, 19.826989619377162, 0.031050440961625615], [96.0, 26.3, 6.02, 112.0, 12.1, 2.78, 2.97, 140.0, 911.0, 1.58, 39.0, 11.84, 6.5, 2233.67, 62.3, 125.0, 73.0, 70.04657534246576, 0.0, 0.0, 153.0, 26.613695587167328, 0.023192980752308596], [105.0, 25.0, 7.5, 123.0, 17.4, 1.74, 3.35, 147.0, 682.0, 0.93, 39.0, 0.44, 4.9, 3328.25, 49.9, 90.0, 70.0, 62.276712328767125, 1.0, 0.0, 165.0, 18.328741965105603, 0.03420008696616891], [100.0, 33.1, 5.95, 129.0, 18.3, 2.51, 3.72, 140.0, 489.0, 1.1, 36.0, 6.34, 8.2, 2298.16, 71.2, 140.0, 80.0, 69.01643835616439, 1.0, 0.0, 170.0, 24.636678200692046, 0.048679134516983115], [98.0, 28.1, 4.2, 138.0, 22.8, 2.36, 3.53, 142.0, 705.0, 1.75, 39.0, 0.92, 4.2, 3818.26, 62.9, 120.0, 70.0, 42.78082191780822, 0.0, 0.0, 156.0, 25.846482577251805, 0.03849237295240917], [115.0, 14.2, 5.8, 93.0, 20.0, 2.18, 4.43, 138.0, 481.0, 1.04, 38.0, 2.68, 5.9, 2827.55, 46.1, 190.0, 79.0, 81.8027397260274, 1.0, 0.0, 150.0, 20.48888888888889, 0.04564517152926949], [99.0, 27.5, 5.1, 117.0, 17.4, 2.39, 4.47, 141.0, 853.0, 1.68, 38.8, 7.51, 4.3, 2002.8300000000002, 62.0, 186.0, 116.0, 50.035616438356165, 0.0, 0.0, 160.0, 24.218749999999996, 0.028900937895491027], [95.0, 27.0, 18.32, 91.0, 16.4, 2.41, 3.11, 135.0, 599.0, 1.41, 36.0, 49.77, 4.7, 981.4100000000001, 54.2, 120.0, 60.0, 65.36712328767123, 0.0, 0.0, 165.0, 19.908172635445364, 0.03988035490848393], [105.0, 29.3, 5.4, 89.0, 23.1, 2.91, 5.71, 141.0, 686.0, 1.45, 37.0, 2.46, 9.6, 3591.6600000000003, 65.0, 150.0, 78.0, 59.035616438356165, 1.0, 1.0, 172.0, 21.971335857220122, 0.03468238205147117], [103.0, 29.4, 4.82, 119.0, 35.2, 2.22, 5.01, 138.0, 1323.0, 2.72, 39.2, 8.84, 4.0, 4648.63, 61.0, 103.0, 58.0, 80.12876712328767, 1.0, 0.0, 170.0, 21.107266435986162, 0.013526739944316572], [101.0, 28.1, 12.12, 110.0, 13.1, 2.46, 3.47, 143.0, 408.0, 1.51, 39.0, 1.67, 5.8, 3690.29, 50.0, 140.0, 90.0, 59.961643835616435, 0.0, 1.0, 160.0, 19.531249999999996, 0.06617354709352766], [101.0, 27.4, 9.5, 140.0, 21.8, 2.32, 4.74, 142.0, 802.0, 1.42, 43.0, 7.43, 3.8, 4256.41, 70.0, 140.0, 90.0, 53.8054794520548, 1.0, 0.0, 170.0, 24.221453287197235, 0.02994901005592274], [108.0, 23.4, 11.8, 118.0, 24.4, 2.34, 4.29, 142.0, 758.0, 1.24, 41.0, 0.08, 5.7, 3653.2200000000003, 76.9, 170.0, 80.0, 54.704109589041096, 0.0, 1.0, 162.0, 29.3019356805365, 0.03241203056623037], [109.0, 23.5, 3.9, 94.0, 24.9, 2.18, 4.77, 142.0, 556.0, 1.73, 40.2, 8.72, 4.9, 3699.8, 60.0, 120.0, 70.0, 57.61643835616438, 0.0, 0.0, 150.0, 26.666666666666668, 0.0461613638696414], [103.0, 26.7, 5.68, 117.0, 31.4, 2.01, 3.63, 142.0, 531.0, 1.6, 30.0, 5.45, 6.1, 3165.05, 60.6, 78.0, 42.0, 74.0958904109589, 1.0, 0.0, 160.0, 23.671874999999996, 0.04254261929273962], [101.0, 28.0, 8.32, 132.0, 26.5, 2.38, 5.55, 140.0, 786.0, 1.49, 35.9, 47.45, 7.0, 3078.7700000000004, 70.1, 110.0, 60.0, 59.95068493150685, 1.0, 1.0, 170.0, 24.2560553633218, 0.029421100648065603], [102.0, 28.2, 5.9, 130.0, 15.8, 2.21, 3.63, 143.0, 587.0, 1.11, 39.0, 1.91, 5.7, 1502.33, 45.55, 148.0, 90.0, 43.087671232876716, 0.0, 0.0, 158.0, 18.24627463547508, 0.047698103492032476], [106.0, 17.4, 5.56, 99.0, 23.2, 2.25, 4.67, 141.0, 619.0, 1.62, 41.0, 1.63, 5.3, 3154.42, 60.8, 130.0, 70.0, 51.07123287671233, 0.0, 1.0, 160.0, 23.749999999999993, 0.04228872284197476], [96.0, 35.1, 7.71, 136.0, 16.7, 3.06, 3.39, 136.0, 563.0, 1.52, 34.0, 7.5, 5.6, 3141.94, 75.0, 120.0, 70.0, 47.3013698630137, 0.0, 0.0, 165.0, 27.548209366391188, 0.04877720607101203], [103.0, 27.2, 6.9, 89.0, 23.9, 2.11, 3.84, 138.0, 564.0, 1.69, 40.2, 2.53, 4.0, 2821.25, 48.6, 142.0, 100.0, 21.438356164383563, 1.0, 0.0, 155.0, 20.22892819979188, 0.057392731456115016], [91.0, 24.1, 5.4, 137.0, 15.9, 2.4, 4.83, 134.0, 413.0, 1.8, 31.8, 4.85, 5.9, 2099.96, 46.4, 90.0, 45.0, 84.41643835616438, 0.0, 1.0, 164.0, 17.25163593099346, 0.054704134571829745], [102.0, 25.1, 6.2, 105.0, 13.9, 2.21, 3.87, 140.0, 604.0, 1.39, 40.7, 22.06, 6.2, 3476.56, 61.0, 136.0, 100.0, 33.55068493150685, 0.0, 0.0, 163.0, 22.95908765854944, 0.049433166683458686], [104.0, 27.4, 6.6, 114.0, 13.0, 2.13, 5.69, 142.0, 295.0, 1.41, 30.6, 1.1, 11.0, 2369.38, 56.8, 150.0, 90.0, 25.07945205479452, 0.0, 1.0, 150.0, 25.244444444444444, 0.12436073659381472], [100.0, 21.3, 5.78, 169.0, 22.5, 1.65, 4.27, 144.0, 1024.0, 1.93, 41.1, 0.56, 4.9, 4008.3799999999997, 53.0, 160.0, 110.0, 19.45205479452055, 1.0, 0.0, 172.0, 17.915089237425637, 0.028301026401287708], [93.0, 32.8, 7.93, 153.0, 22.9, 2.56, 4.26, 139.0, 1071.0, 1.26, 36.5, 3.36, 4.6, 3221.29, 52.3, 130.0, 80.0, 60.657534246575345, 1.0, 0.0, 160.0, 20.429687499999996, 0.02009826425716185], [99.0, 22.9, 6.64, 145.0, 14.6, 2.4, 4.39, 132.0, 659.0, 1.34, 40.8, 0.56, 19.7, 5479.43, 58.4, 138.0, 78.0, 41.78356164383562, 1.0, 1.0, 168.0, 20.691609977324266, 0.04131481712278323], [107.0, 22.8, 6.16, 111.0, 21.4, 2.45, 4.13, 138.0, 354.0, 1.21, 33.6, 8.0, 6.1, 2598.25, 41.0, 138.0, 70.0, 90.61369863013698, 0.0, 0.0, 153.0, 17.51463112478107, 0.06319086661873555], [100.0, 37.7, 7.73, 139.0, 13.5, 2.42, 3.25, 145.0, 365.0, 0.83, 30.7, 1.09, 7.1, 2571.49, 69.0, 120.0, 60.0, 64.8, 1.0, 1.0, 180.0, 21.296296296296294, 0.07180570379303099], [93.0, 29.3, 10.1, 170.0, 14.4, 2.49, 3.53, 141.0, 887.0, 1.43, 41.2, 1.08, 4.1, 2739.2799999999997, 38.9, 120.0, 90.0, 20.923287671232877, 0.0, 0.0, 150.0, 17.288888888888888, 0.034033938064568614], [99.0, 19.4, 7.45, 113.0, 22.8, 2.22, 4.74, 138.0, 711.0, 2.09, 42.7, 1.86, 5.0, 3680.43, 46.75, 128.0, 70.0, 51.04383561643836, 0.0, 0.0, 152.0, 20.234591412742382, 0.03576582247967234], [98.0, 30.2, 6.94, 130.0, 18.8, 2.27, 4.18, 142.0, 715.0, 1.28, 32.6, 35.44, 5.9, 1817.12, 47.26, 164.0, 80.0, 80.13150684931507, 1.0, 0.0, 163.0, 17.78764725808273, 0.028464462525615276], [100.0, 33.6, 7.0, 100.0, 22.8, 2.29, 3.13, 137.0, 740.0, 1.43, 33.2, 29.38, 5.1, 3156.85, 64.428530259366, 100.0, 55.0, 77.05205479452054, 1.0, 1.0, 175.0, 21.037887431629713, 0.027887533028350047], [92.0, 28.8, 11.78, 80.0, 26.0, 2.61, 4.44, 140.0, 915.0, 2.35, 35.8, 40.95, 4.4, 2993.7299999999996, 65.5, 180.0, 70.0, 65.28767123287672, 0.0, 0.0, 160.0, 25.585937499999996, 0.023895159849427954], [102.0, 23.5, 8.15, 101.0, 17.6, 2.24, 3.13, 143.0, 516.0, 1.41, 35.2, 1.24, 4.3, 3617.8899999999994, 47.2, 150.0, 80.0, 70.54246575342465, 0.0, 0.0, 157.0, 19.14884985192097, 0.04611272592925998], [102.0, 25.2, 7.07, 107.0, 28.8, 2.14, 3.8, 141.0, 503.0, 1.99, 37.9, 13.82, 5.1, 4064.96, 51.2, 130.0, 64.0, 70.55342465753425, 1.0, 1.0, 157.0, 20.771633737676986, 0.04671655544280231], [105.0, 22.5, 7.92, 123.0, 13.3, 2.24, 3.49, 139.0, 604.0, 1.08, 37.3, 2.75, 5.0, 3952.3599999999997, 72.85, 125.0, 60.0, 79.40821917808219, 1.0, 0.0, 180.0, 22.484567901234566, 0.035150870527955284], [99.0, 27.4, 9.87, 109.0, 19.6, 2.19, 4.31, 142.0, 826.0, 1.46, 39.4, 2.1, 5.7, 2751.33, 54.9, 100.0, 70.0, 58.93698630136986, 0.0, 0.0, 160.0, 21.445312499999996, 0.028404975967924243], [105.0, 24.4, 6.05, 116.0, 19.6, 2.33, 4.69, 139.0, 788.0, 1.6, 36.3, 11.45, 5.1, 3096.62, 73.5, 118.0, 65.0, 74.91232876712328, 0.0, 0.0, 158.0, 29.442397051754522, 0.026872686298283106], [98.0, 23.8, 7.64, 111.0, 28.9, 2.19, 5.2, 133.0, 739.0, 1.99, 39.3, 10.13, 5.4, 3132.65, 57.0, 160.0, 90.0, 55.35068493150685, 1.0, 0.0, 165.0, 20.936639118457304, 0.032601430292095404], [102.0, 34.4, 7.93, 133.0, 27.4, 2.22, 3.33, 142.0, 880.0, 1.57, 37.2, 1.56, 5.8, 4238.317499999999, 68.5, 160.0, 90.0, 69.53424657534246, 1.0, 1.0, 170.0, 23.702422145328722, 0.023924215637397744], [104.0, 25.2, 6.3, 78.0, 27.4, 2.27, 6.14, 137.0, 1187.0, 1.71, 33.5, 0.24, 5.1, 4277.57, 59.1, 140.0, 90.0, 34.010958904109586, 0.0, 0.0, 160.0, 23.085937499999996, 0.021688545120685254], [101.0, 28.1, 6.25, 132.0, 23.6, 2.54, 4.82, 138.0, 951.0, 0.93, 35.6, 3.03, 6.4, 3820.42, 52.1, 130.0, 78.0, 63.06301369863014, 1.0, 0.0, 166.0, 18.90695311365946, 0.02271964404539523], [98.0, 30.1, 6.3, 80.0, 20.1, 2.01, 4.31, 139.0, 729.0, 1.71, 40.0, 1.67, 5.6, 4253.7675, 83.0, 140.0, 80.0, 40.83013698630137, 1.0, 1.0, 173.0, 27.732299776136855, 0.03682573899437522], [101.0, 29.8, 5.85, 142.0, 19.6, 2.04, 5.26, 136.0, 668.0, 1.68, 36.2, 2.03, 4.9, 3334.6600000000003, 41.5, 150.0, 100.0, 42.556164383561644, 0.0, 0.0, 160.0, 16.210937499999996, 0.041084743915822675], [101.0, 22.8, 6.5, 106.0, 19.3, 2.28, 3.6, 139.0, 710.0, 2.06, 39.5, 8.71, 6.2, 2270.8199999999997, 75.0, 130.0, 68.0, 80.16986301369863, 0.0, 0.0, 159.0, 29.666548000474663, 0.029223715192049984], [97.0, 32.7, 8.0, 131.0, 22.8, 2.29, 4.43, 136.0, 676.0, 1.55, 36.4, 7.28, 8.2, 2594.5024999999996, 66.5, 138.0, 80.0, 58.6, 1.0, 1.0, 163.0, 25.029169332680947, 0.035552485665793346], [104.0, 27.6, 5.07, 104.0, 20.0, 2.24, 3.15, 142.0, 420.0, 1.16, 33.0, 11.6, 7.2, 2884.2925, 51.7, 160.0, 50.0, 78.01369863013699, 0.0, 1.0, 144.0, 24.932484567901238, 0.055911337463285804], [91.0, 28.7, 5.2, 148.0, 10.2, 2.35, 3.08, 133.0, 688.0, 1.6, 36.7, 1.2, 12.7, 2325.4, 53.17157360406091, 68.0, 40.0, 65.47945205479452, 1.0, 1.0, 169.0, 18.616845910178537, 0.03313415068979382], [97.0, 37.0, 5.7, 89.0, 25.1, 2.79, 3.12, 134.0, 543.0, 1.44, 36.5, 4.12, 5.4, 2767.46, 55.3, 135.0, 70.0, 77.0027397260274, 0.0, 0.0, 168.0, 19.593253968253972, 0.041274900103726454], [97.0, 24.9, 7.99, 135.0, 14.8, 2.18, 4.49, 134.0, 462.0, 1.34, 36.6, 5.88, 12.7, 3423.6849999999995, 75.5, 166.0, 82.0, 80.14246575342466, 1.0, 1.0, 165.0, 27.731864095500462, 0.04826216986125517], [95.0, 30.4, 7.06, 126.0, 12.2, 2.08, 3.64, 134.0, 494.0, 1.31, 29.7, 1.48, 14.2, 3826.62, 68.9, 150.0, 70.0, 61.90684931506849, 1.0, 1.0, 178.0, 21.745991667718723, 0.050863634480240616], [97.0, 32.1, 8.1, 98.0, 23.8, 2.22, 4.7, 137.0, 679.0, 1.36, 37.7, 0.95, 5.0, 2365.345, 47.7, 110.0, 60.0, 73.14246575342466, 0.0, 1.0, 153.0, 20.37677816224529, 0.032398990142519006], [99.0, 24.2, 6.3, 102.0, 17.2, 2.11, 4.54, 137.0, 1139.0, 1.82, 37.3, 0.87, 4.3, 2906.71, 58.0, 160.0, 90.0, 56.75616438356165, 1.0, 0.0, 163.0, 21.829952199932254, 0.019188447842455277], [97.0, 28.3, 7.8, 120.0, 20.7, 2.22, 3.76, 137.0, 636.0, 1.41, 37.3, 5.16, 6.6, 3891.27, 64.48520710059172, 140.0, 70.0, 74.91780821917808, 1.0, 0.0, 169.0, 22.578063478376713, 0.03420454742753251], [103.0, 25.3, 4.45, 122.0, 25.9, 2.19, 5.23, 141.0, 804.0, 1.62, 39.5, 0.91, 4.8, 3029.7574999999997, 61.9, 110.0, 80.0, 60.50410958904109, 1.0, 0.0, 163.0, 23.297828296134593, 0.028426242684834242], [95.0, 31.7, 6.7, 126.0, 24.4, 2.94, 5.22, 137.0, 854.0, 2.06, 39.5, 0.79, 16.0, 3514.0274999999997, 64.3, 125.0, 70.0, 57.863013698630134, 1.0, 1.0, 164.0, 23.9069006543724, 0.026989429913336454], [100.0, 29.3, 11.58, 118.0, 16.5, 2.3, 3.37, 138.0, 613.0, 1.29, 35.6, 10.13, 5.8, 2677.92, 63.0, 108.0, 76.0, 75.99178082191781, 1.0, 0.0, 160.0, 24.609374999999996, 0.0355118286198338], [103.0, 25.5, 4.05, 77.0, 19.9, 2.09, 4.35, 138.0, 472.0, 1.28, 31.7, 1.83, 11.8, 3715.0500000000006, 81.3, 145.0, 70.0, 53.1972602739726, 1.0, 1.0, 178.0, 25.659638934477968, 0.056850384530818], [100.0, 30.4, 11.11, 114.0, 22.1, 2.33, 6.04, 138.0, 707.0, 1.75, 44.4, 1.06, 5.4, 5484.8, 74.0, 140.0, 90.0, 46.536986301369865, 1.0, 0.0, 166.0, 26.854405574103644, 0.036638397672025605], [105.0, 27.0, 6.7, 83.0, 22.4, 2.04, 3.44, 143.0, 690.0, 1.26, 31.4, 1.87, 6.6, 2819.76, 52.0, 135.0, 75.0, 65.14794520547945, 1.0, 0.0, 160.0, 20.312499999999996, 0.03301807229840675], [95.0, 25.0, 7.5, 112.0, 26.7, 2.09, 4.31, 141.0, 853.0, 2.1, 38.2, 2.82, 7.9, 3823.2200000000003, 63.5, 100.0, 60.0, 45.42739726027397, 1.0, 1.0, 165.0, 23.32415059687787, 0.029404778768419883], [100.0, 30.1, 6.19, 106.0, 21.6, 1.76, 3.7, 139.0, 676.0, 1.56, 31.5, 1.53, 8.4, 1475.8049999999998, 54.73235294117647, 150.0, 80.0, 50.21095890410959, 1.0, 1.0, 160.0, 21.379825367647054, 0.037607631437926815], [99.0, 25.8, 8.04, 113.0, 21.1, 1.85, 3.64, 136.0, 66.5, 1.62, 34.9, 2.61, 5.1, 5422.3099999999995, 60.5, 138.0, 80.0, 69.69041095890411, 1.0, 0.0, 169.0, 21.182731697069432, 0.5431576362575761], [101.0, 34.1, 8.87, 123.0, 22.5, 2.4, 5.07, 139.0, 559.0, 1.14, 31.3, 0.46, 6.4, 3185.56, 63.0, 135.0, 75.0, 61.33424657534247, 1.0, 0.0, 166.0, 22.8625344752504, 0.043802852689594454], [100.0, 29.5, 5.7, 149.0, 24.9, 2.49, 5.3, 137.0, 762.0, 1.29, 39.7, 0.61, 6.2, 5106.139999999999, 64.0, 130.0, 80.0, 41.59452054794521, 1.0, 1.0, 169.0, 22.40817898532965, 0.03466208960458938], [94.0, 26.2, 5.4, 108.0, 21.4, 1.98, 3.87, 133.0, 440.0, 1.52, 31.5, 3.11, 4.4, 3177.585, 80.0, 120.0, 65.0, 85.81643835616438, 0.0, 0.0, 163.0, 30.11027889645828, 0.050317461954281474], [97.0, 26.6, 8.3, 99.0, 19.1, 2.24, 4.02, 139.0, 591.0, 1.63, 39.1, 2.73, 4.3, 3601.8549999999996, 61.5, 132.0, 76.0, 56.83287671232877, 0.0, 0.0, 164.0, 22.86585365853659, 0.04317929448290727], [100.0, 28.8, 11.25, 154.0, 15.8, 2.42, 3.59, 141.0, 733.0, 1.24, 39.1, 3.19, 4.1, 2404.205, 75.9, 150.0, 90.0, 58.66301369863014, 0.0, 0.0, 161.0, 29.281277728482696, 0.03281803682873393], [96.0, 30.6, 8.2, 102.0, 20.4, 2.54, 5.65, 139.0, 560.0, 1.26, 37.5, 4.36, 6.5, 1781.79, 57.0, 140.0, 80.0, 67.4958904109589, 0.0, 1.0, 153.0, 24.34960912469563, 0.04265866058832903], [100.0, 23.1, 5.3, 109.0, 38.4, 2.27, 5.39, 137.0, 879.0, 2.3, 35.6, 0.58, 4.3, 3290.1674999999996, 51.2, 140.0, 98.0, 55.47671232876712, 0.0, 0.0, 169.0, 17.926543188263718, 0.026908718035860008], [103.0, 25.8, 4.9, 92.0, 14.9, 1.83, 4.21, 141.0, 666.0, 1.26, 32.6, 3.24, 5.6, 3369.1, 55.3, 135.0, 90.0, 58.99452054794521, 0.0, 0.0, 160.0, 21.601562499999996, 0.03685046397485977], [100.0, 29.0, 8.2, 91.0, 18.2, 2.18, 4.2, 141.0, 469.0, 1.56, 36.5, 12.0, 6.3, 3709.67, 64.07906976744185, 125.0, 70.0, 63.9041095890411, 0.0, 1.0, 155.27906976744185, 26.576045410279033, 0.05436527372621393], [105.0, 28.3, 9.36, 95.0, 22.7, 2.2, 5.4, 141.0, 327.0, 1.34, 40.1, 6.17, 4.5, 3146.58, 48.70629370629371, 160.0, 90.0, 47.16438356164384, 0.0, 0.0, 149.45104895104896, 21.80655936924788, 0.0940791396128129], [101.0, 24.7, 7.28, 158.0, 19.3, 2.17, 5.0, 137.0, 456.0, 0.9, 35.1, 1.11, 6.0, 2541.88, 46.46029411764706, 120.0, 70.0, 81.66027397260274, 1.0, 0.0, 156.0, 19.091179371156745, 0.048687754594045646], [107.0, 15.8, 13.3, 72.0, 23.5, 1.93, 3.78, 140.0, 654.0, 2.26, 34.0, 68.35, 10.3, 1712.07, 70.0, 180.0, 100.0, 69.24931506849315, 0.0, 1.0, 155.0, 29.1363163371488, 0.03486836143578588], [103.0, 21.5, 8.58, 99.0, 19.8, 2.16, 4.12, 138.0, 530.0, 1.72, 39.2, 1.36, 7.7, 2605.2974999999997, 77.7, 165.0, 100.0, 41.704109589041096, 0.0, 1.0, 156.0, 31.92800788954635, 0.05473139940942209], [98.0, 27.3, 5.2, 134.0, 15.9, 2.33, 4.7, 138.0, 642.0, 1.39, 40.5, 0.85, 5.1, 3479.2925, 50.7, 110.0, 80.0, 25.63013698630137, 0.0, 0.0, 158.0, 20.30924531325108, 0.048572253629647184], [98.0, 23.3, 7.6, 128.0, 16.3, 2.91, 3.76, 139.0, 820.0, 1.55, 33.9, 1.52, 11.1, 4732.5, 67.8, 140.0, 65.0, 65.07123287671233, 0.0, 1.0, 153.0, 28.963219274637957, 0.027281427769945302], [116.0, 19.6, 7.1, 82.0, 21.2, 1.74, 5.51, 144.0, 807.0, 1.6, 20.9, 1.81, 3.9, 5142.92, 59.3, 110.0, 75.0, 36.25753424657534, 1.0, 0.0, 177.0, 18.92814963771585, 0.033495152159119954], [93.0, 28.4, 5.8, 129.0, 19.2, 2.05, 3.31, 133.0, 699.0, 2.52, 34.2, 0.87, 15.6, 2350.8274999999994, 56.7, 130.0, 65.0, 74.43013698630136, 0.0, 1.0, 160.0, 22.148437499999996, 0.031062640742510313], [90.0, 30.6, 6.48, 142.0, 18.5, 2.69, 4.03, 129.0, 771.0, 0.81, 39.0, 0.38, 5.8, 3753.9825, 43.7, 140.0, 90.0, 32.84931506849315, 0.0, 0.0, 167.0, 15.669260281831548, 0.03705903441466811], [95.0, 28.3, 4.5, 88.0, 10.3, 1.9, 3.48, 134.0, 483.0, 0.85, 31.5, 4.59, 5.16, 2759.69, 40.5, 135.0, 68.0, 77.87945205479453, 0.0, 0.0, 152.0, 17.52943213296399, 0.04755179809373876], [106.0, 24.3, 6.23, 122.0, 15.2, 1.84, 3.91, 140.0, 486.0, 1.15, 28.4, 0.74, 4.9, 4377.089999999999, 78.4717213114754, 130.0, 60.0, 79.43561643835616, 1.0, 1.0, 170.0, 27.152844744455162, 0.04571581791394897], [99.0, 24.9, 8.4, 110.0, 17.5, 2.18, 3.91, 135.0, 577.0, 1.57, 31.9, 1.71, 5.2, 2247.34, 52.3, 180.0, 90.0, 85.14246575342466, 0.0, 0.0, 150.0, 23.244444444444444, 0.036256965611393], [94.0, 26.8, 5.6, 123.0, 22.7, 2.28, 3.74, 133.0, 726.0, 1.87, 38.3, 0.75, 5.3, 2761.7349999999997, 55.751937984496124, 110.0, 80.0, 69.04383561643836, 1.0, 0.0, 161.0, 21.50840553392852, 0.03018873286377071], [102.0, 29.5, 6.66, 119.0, 12.5, 1.92, 3.71, 139.0, 367.0, 1.09, 36.7, 4.11, 6.5, 2575.2874999999995, 62.03193277310925, 110.0, 70.0, 69.87123287671233, 0.0, 1.0, 164.91596638655463, 22.808141831311612, 0.0701106131371529], [96.0, 27.5, 5.47, 128.0, 12.6, 2.76, 3.81, 139.0, 629.0, 2.04, 42.3, 0.53, 4.2, 3591.9500000000003, 35.42934782608695, 96.0, 58.0, 30.39178082191781, 0.0, 0.0, 150.0, 15.746376811594201, 0.048070176326996], [96.0, 30.3, 9.17, 127.0, 16.5, 2.81, 3.96, 138.0, 494.0, 1.12, 35.6, 4.73, 9.1, 3521.36, 53.95918367346939, 172.0, 70.0, 80.20821917808219, 0.0, 1.0, 158.0, 21.61479877963042, 0.04530966894696731], [98.0, 30.4, 6.08, 144.0, 16.1, 3.52, 3.65, 135.0, 546.0, 1.24, 29.9, 1.49, 6.2, 3270.6275000000005, 51.4, 100.0, 60.0, 65.87123287671233, 1.0, 0.0, 174.0, 16.977143612101994, 0.04381818249866918], [104.0, 31.5, 5.53, 102.0, 13.8, 2.11, 4.05, 141.0, 510.0, 1.09, 33.5, 0.78, 8.8, 3897.8774999999996, 67.0, 150.0, 75.0, 49.5013698630137, 1.0, 1.0, 169.0, 23.458562375266975, 0.05324513665816343], [92.0, 30.6, 6.3, 104.0, 11.5, 2.13, 3.01, 130.0, 274.0, 0.64, 26.0, 13.13, 8.8, 3289.7200000000003, 53.0, 140.0, 80.0, 58.673972602739724, 0.0, 1.0, 158.80645161290323, 21.0154931548116, 0.10784074338223748], [95.0, 32.4, 4.94, 110.0, 10.5, 2.53, 4.39, 137.0, 440.0, 0.99, 32.0, 0.75, 13.7, 2486.69, 49.93716216216217, 130.0, 60.0, 83.15068493150685, 0.0, 1.0, 151.09459459459458, 21.873888956200947, 0.051029372733283514], [97.0, 26.2, 6.61, 123.0, 24.3, 2.41, 4.64, 140.0, 769.0, 2.25, 40.1, 2.59, 4.1, 4035.3324999999995, 74.0, 120.0, 70.0, 69.12876712328767, 0.0, 0.0, 157.0, 30.021501886486266, 0.02866685779142095], [96.0, 27.5, 4.99, 81.0, 25.7, 2.32, 4.23, 139.0, 970.0, 2.38, 38.8, 0.5, 4.8, 3942.3, 70.45, 130.0, 90.0, 24.7013698630137, 1.0, 0.0, 187.0, 20.146415396494035, 0.029173870431807095], [98.0, 27.8, 8.1, 78.0, 23.9, 2.0, 3.53, 139.0, 760.0, 1.75, 43.6, 27.83, 5.2, 5227.370000000001, 84.8, 120.0, 80.0, 38.487671232876714, 1.0, 1.0, 173.0, 28.333723144775966, 0.035512964106639636], [100.0, 29.5, 5.39, 96.0, 13.9, 2.01, 4.87, 138.0, 527.0, 1.35, 34.4, 0.86, 9.6, 3232.08, 76.8, 140.0, 80.0, 35.56986301369863, 1.0, 1.0, 170.0, 26.574394463667822, 0.056464277602953], [100.0, 26.7, 7.85, 100.0, 11.1, 1.5, 4.18, 139.0, 323.0, 1.41, 35.2, 37.44, 5.0, 3753.5299999999997, 56.9, 130.0, 65.0, 77.78904109589041, 0.0, 1.0, 154.0, 23.99224152470906, 0.07734516589573218], [100.0, 31.5, 5.13, 107.0, 20.8, 2.0, 3.87, 141.0, 516.0, 1.34, 34.2, 4.42, 8.0, 1980.6, 52.0, 100.0, 60.0, 85.31232876712329, 1.0, 0.0, 172.0, 17.577068685776098, 0.040767280871110825], [96.0, 29.0, 5.07, 110.0, 19.0, 2.23, 3.8, 140.0, 826.0, 1.89, 49.2, 1.06, 3.6, 4828.217499999999, 60.5, 120.0, 75.0, 36.24383561643835, 1.0, 0.0, 172.0, 20.45024337479719, 0.032565907222877326], [99.0, 28.1, 6.97, 96.0, 23.3, 2.29, 4.7, 138.0, 457.0, 0.79, 35.9, 1.47, 4.8, 4388.84, 63.0, 165.0, 80.0, 73.84109589041095, 0.0, 1.0, 165.0, 23.140495867768596, 0.05229056626711593], [106.0, 27.4, 4.3, 112.0, 23.0, 1.88, 5.87, 140.0, 591.0, 1.22, 27.1, 0.18, 8.2, 3011.3399999999997, 70.61315789473683, 150.0, 90.0, 61.723287671232875, 1.0, 1.0, 176.0, 22.796086613745103, 0.040951895327076396], [84.0, 18.4, 5.3, 90.0, 25.3, 2.39, 4.37, 117.0, 560.0, 2.09, 38.4, 6.41, 3.7, 2917.45, 56.0, 114.0, 68.0, 81.5095890410959, 0.0, 0.0, 150.0, 24.88888888888889, 0.03866310190460121], [93.0, 27.2, 7.36, 99.0, 15.5, 2.42, 4.03, 137.0, 488.0, 1.47, 34.2, 8.43, 7.4, 1734.165, 44.5, 150.0, 70.0, 48.893150684931506, 0.0, 1.0, 152.0, 19.26073407202216, 0.05757464298608215], [103.0, 29.1, 6.4, 114.0, 14.5, 1.85, 4.06, 140.0, 484.0, 1.03, 19.9, 18.65, 11.9, 4495.57, 67.51724137931035, 150.0, 90.0, 48.912328767123284, 1.0, 1.0, 174.0, 22.300581774114924, 0.05712220956624482], [95.0, 24.4, 7.08, 115.0, 17.9, 2.14, 4.35, 134.0, 850.0, 1.55, 42.4, 1.08, 5.4, 3355.745, 68.78031496062992, 130.0, 80.0, 31.745205479452054, 0.0, 1.0, 155.0, 28.628643063737737, 0.03316852147878256], [104.1, 25.3, 10.16, 146.0, 13.07, 2.48, 4.05, 137.3, 317.6, 2.07, 30.1, 5.29, 8.47, 2356.0299999999997, 47.5, 140.0, 80.0, 71.94520547945206, 0.0, 0.0, 151.0, 20.83241963071795, 0.08233604784158477], [103.0, 14.2, 4.01, 102.0, 41.9, 2.16, 3.95, 137.0, 954.0, 2.28, 46.9, 1.38, 4.6, 3031.2349999999997, 70.4, 126.0, 88.0, 46.20821917808219, 0.0, 0.0, 164.0, 26.174895895300423, 0.02596320703094344], [94.0, 28.2, 6.81, 128.0, 16.3, 2.82, 4.23, 137.0, 545.0, 1.43, 36.8, 2.15, 10.0, 4148.0650000000005, 85.17971014492754, 150.0, 70.0, 77.6, 1.0, 1.0, 178.0, 26.884140305809726, 0.040365271278705595], [111.0, 10.9, 4.9, 90.0, 31.7, 2.06, 4.91, 139.0, 858.0, 2.5, 39.5, 45.6, 5.0, 1973.8324999999995, 44.0, 118.0, 68.0, 82.5123287671233, 0.0, 0.0, 153.0, 18.79618949976505, 0.022920238702272062], [102.0, 25.2, 7.14, 109.0, 22.8, 2.04, 4.17, 142.0, 483.0, 1.28, 40.9, 8.83, 4.4, 4416.2725, 54.963694267515926, 153.0, 93.0, 63.61369863013699, 0.0, 0.0, 153.343949044586, 23.37451607720336, 0.05246594078899154], [105.0, 23.4, 3.42, 113.0, 13.9, 2.11, 4.36, 138.0, 384.0, 1.27, 36.6, 0.85, 7.6, 5317.3724999999995, 74.0, 149.0, 110.0, 47.11506849315069, 1.0, 1.0, 176.0, 23.889462809917354, 0.07609871821106745], [99.0, 22.9, 5.64, 133.0, 19.4, 2.03, 4.72, 136.0, 940.0, 1.89, 35.7, 0.64, 6.0, 3065.1949999999997, 58.9, 130.0, 83.0, 45.413698630136984, 1.0, 0.0, 176.0, 19.014721074380166, 0.02614711156494372], [95.0, 31.6, 6.6, 91.0, 15.8, 2.36, 4.45, 136.0, 501.0, 1.01, 31.0, 8.01, 4.8, 2908.7149999999992, 54.6, 124.0, 46.0, 77.9013698630137, 1.0, 0.0, 162.0, 20.804755372656604, 0.04468969968675992], [104.9, 36.0, 5.4, 87.0, 19.3, 2.59, 3.79, 147.5, 718.0, 1.33, 32.4, 1.15, 10.3, 2566.57, 50.0, 130.0, 78.0, 53.205479452054796, 0.0, 1.0, 155.0, 20.811654526534856, 0.0348515909263947], [104.3, 30.0, 6.33, 69.0, 24.0, 1.78, 3.78, 140.8, 820.0, 1.56, 30.7, 1.94, 4.6, 4174.26, 65.0, 154.0, 77.0, 62.73698630136986, 1.0, 1.0, 171.0, 22.229061933586404, 0.02736979671948524], [104.0, 27.8, 6.53, 99.0, 22.8, 1.55, 4.0, 143.0, 823.0, 1.82, 40.0, 3.67, 5.8, 4766.43, 74.0, 124.0, 63.0, 69.32328767123288, 1.0, 1.0, 172.0, 25.013520822065985, 0.02594172540986338], [97.0, 29.8, 6.79, 96.0, 13.8, 2.41, 3.84, 139.0, 681.0, 1.22, 37.2, 11.97, 6.3, 2467.9575, 64.5, 136.0, 70.0, 79.5123287671233, 1.0, 1.0, 162.0, 24.57704618198445, 0.030404291347773275], [104.0, 31.1, 10.2, 98.0, 17.6, 2.24, 3.74, 141.0, 570.0, 1.49, 25.9, 4.72, 6.8, 3154.7924999999996, 80.92014388489208, 150.0, 89.0, 30.28767123287671, 1.0, 1.0, 168.0, 28.67068590025939, 0.053191699567615616], [97.0, 29.1, 6.6, 69.0, 14.8, 2.09, 3.89, 135.0, 699.0, 1.16, 30.4, 2.27, 6.1, 3255.28, 62.0, 180.0, 101.0, 48.38082191780822, 0.0, 1.0, 162.0, 23.624447492760247, 0.03728704037148381], [107.0, 24.7, 12.38, 95.0, 24.4, 2.2, 3.99, 138.0, 604.0, 1.33, 33.0, 7.19, 4.6, 2951.62, 60.2, 144.0, 77.0, 72.41369863013699, 0.0, 1.0, 156.0, 24.737015121630506, 0.03758712632231913], [98.0, 26.7, 6.16, 79.0, 18.4, 2.7, 3.75, 138.0, 504.0, 1.53, 33.8, 51.34, 5.5, 5694.42, 62.0, 141.0, 75.0, 76.78082191780823, 1.0, 0.0, 170.0, 21.453287197231838, 0.04468106124533811], [98.0, 31.2, 8.41, 150.0, 15.9, 2.52, 5.01, 141.0, 571.0, 1.63, 42.2, 7.68, 4.8, 6793.639999999999, 67.7, 177.0, 110.0, 71.9068493150685, 0.0, 0.0, 155.0, 28.178980228928197, 0.04051263385442767], [103.0, 24.0, 8.15, 108.0, 24.0, 2.46, 4.62, 139.0, 419.0, 1.35, 43.0, 12.12, 23.7, 2697.425, 70.7, 152.0, 71.0, 69.32054794520548, 1.0, 1.0, 160.0, 27.617187499999996, 0.05867600069814911], [104.0, 33.7, 7.21, 106.0, 18.4, 2.27, 4.72, 145.0, 445.0, 1.2, 27.4, 146.52, 4.1, 2336.5275, 56.5, 148.0, 57.0, 83.75890410958904, 1.0, 1.0, 157.0, 22.921822386303703, 0.04944694726804804], [101.0, 26.7, 5.88, 92.0, 28.9, 2.25, 4.23, 141.0, 1011.0, 1.84, 40.2, 1.52, 5.4, 10029.06, 52.0, 170.0, 95.0, 25.4, 1.0, 0.0, 170.0, 17.99307958477509, 0.027555365624354206], [100.0, 28.7, 5.48, 123.0, 21.3, 2.48, 4.43, 140.0, 1017.0, 1.92, 37.8, 1.33, 5.8, 3803.83, 68.0, 147.0, 92.0, 60.74246575342466, 1.0, 0.0, 170.0, 23.529411764705884, 0.02139552710336098], [103.0, 22.5, 6.5, 69.0, 47.6, 2.88, 4.04, 140.0, 1422.0, 3.03, 41.4, 0.56, 7.4, 2339.7025000000003, 55.0, 148.0, 105.0, 46.74520547945205, 0.0, 0.0, 160.0, 21.484374999999996, 0.016024213009980647], [95.0, 23.8, 9.48, 118.0, 24.7, 2.26, 3.41, 135.0, 868.0, 2.04, 37.8, 24.9, 5.9, 6079.64, 70.0, 120.0, 70.0, 67.22191780821917, 0.0, 1.0, 152.0, 30.297783933518005, 0.025112860958283124], [99.0, 26.2, 9.36, 96.0, 19.7, 2.07, 3.78, 137.0, 656.0, 1.92, 35.1, 7.59, 5.3, 3024.2599999999998, 67.0, 150.0, 89.0, 60.863013698630134, 0.0, 0.0, 162.0, 25.529644871208653, 0.03700710041855556], [93.0, 20.7, 14.59, 124.0, 22.9, 2.29, 4.17, 133.0, 805.0, 2.28, 34.7, 16.07, 7.8, 7300.7, 56.0, 130.0, 80.0, 76.37534246575342, 0.0, 1.0, 150.0, 24.88888888888889, 0.02582275393923956], [111.0, 23.4, 4.7, 77.0, 30.1, 1.85, 5.94, 142.0, 628.0, 1.95, 33.1, 3.31, 4.3, 5561.244999999999, 61.5, 159.0, 86.0, 71.73698630136987, 0.0, 1.0, 152.0, 26.61876731301939, 0.03611023581404626], [97.0, 25.7, 4.39, 113.0, 12.9, 2.2, 3.8, 138.0, 732.0, 0.92, 38.5, 1.57, 5.9, 5798.9, 53.8, 125.0, 85.0, 82.71506849315068, 1.0, 0.0, 160.0, 21.015624999999996, 0.0272812077170994], [97.0, 27.8, 6.45, 81.0, 22.5, 2.06, 3.44, 137.0, 995.0, 1.64, 37.7, 2.18, 5.5, 5268.66, 54.0, 141.0, 86.0, 30.410958904109588, 1.0, 0.0, 160.0, 21.093749999999996, 0.027122421624554898], [108.0, 19.9, 7.9, 127.0, 24.4, 2.14, 4.5, 140.7, 711.0, 1.6, 42.0, 0.39, 4.8, 3773.7200000000003, 63.6, 160.0, 80.0, 66.07671232876713, 1.0, 1.0, 171.0, 21.750282138093777, 0.031619803454080705], [103.0, 25.7, 6.65, 75.0, 25.4, 1.91, 4.76, 138.0, 642.0, 1.33, 36.7, 0.28, 9.2, 6013.580000000002, 52.0, 156.0, 90.0, 33.75890410958904, 0.0, 1.0, 160.0, 20.312499999999996, 0.04591792370050164], [110.9, 26.0, 7.15, 83.0, 13.8, 1.88, 3.46, 141.3, 363.0, 0.9, 36.8, 1.35, 6.1, 7293.16, 53.0, 125.0, 64.0, 82.40547945205479, 0.0, 1.0, 160.0, 20.703124999999996, 0.06484524830777925], [115.0, 13.8, 5.5, 77.0, 39.2, 1.8, 5.28, 141.0, 760.0, 2.72, 34.5, 26.42, 4.8, 6676.639999999999, 52.0, 145.0, 82.0, 76.18630136986302, 1.0, 0.0, 168.0, 18.42403628117914, 0.027193077801329364], [101.0, 26.9, 5.47, 76.0, 25.9, 1.79, 4.3, 139.0, 917.0, 1.95, 29.6, 10.81, 4.9, 4302.5599999999995, 74.0, 150.0, 92.0, 34.0, 1.0, 0.0, 178.0, 23.355636914530994, 0.029106436274684486], [107.0, 20.7, 5.0, 86.0, 28.3, 1.38, 5.01, 143.0, 757.0, 2.05, 33.6, 11.9, 4.1, 4336.669999999999, 56.0, 147.0, 93.0, 47.172602739726024, 1.0, 0.0, 171.0, 19.15119181970521, 0.033497074073167904], [109.0, 17.1, 6.0, 107.0, 26.8, 2.06, 5.84, 139.0, 334.0, 1.71, 38.9, 3.65, 4.3, 3400.6175000000003, 60.5, 114.0, 65.0, 85.88493150684931, 1.0, 0.0, 177.0, 19.311181333588685, 0.06897564278834142], [105.0, 26.3, 9.68, 111.0, 10.3, 2.04, 2.92, 140.0, 379.0, 1.45, 39.7, 4.31, 5.6, 3476.9825, 53.6265306122449, 115.0, 70.0, 71.72054794520548, 0.0, 0.0, 158.0, 21.481545670663714, 0.06649495998028747], [100.0, 26.6, 7.1, 74.0, 10.4, 1.87, 3.67, 136.0, 459.0, 0.65, 41.1, 0.53, 3.9, 3880.8200000000006, 56.0, 138.0, 91.0, 54.28219178082192, 1.0, 0.0, 160.0, 21.874999999999996, 0.05839114541899524], [103.0, 23.9, 5.45, 100.0, 20.4, 2.09, 4.97, 136.0, 424.0, 1.39, 31.8, 3.43, 7.9, 4389.77, 56.206896551724135, 122.0, 54.0, 81.20547945205479, 1.0, 1.0, 168.0, 19.914575025412464, 0.05316464523048459], [113.2, 18.0, 4.78, 74.0, 35.0, 2.14, 4.94, 143.6, 984.0, 2.03, 29.8, 5.29, 5.3, 2911.565, 63.2, 120.0, 96.0, 45.12054794520548, 0.0, 0.0, 157.0, 25.63998539494503, 0.0251855824499406], [103.0, 24.7, 9.9, 94.0, 14.2, 1.58, 3.37, 137.0, 415.0, 1.21, 24.1, 14.96, 4.1, 2628.845, 50.9, 116.0, 65.0, 68.94246575342466, 0.0, 1.0, 154.0, 21.4623039298364, 0.06085491209438418], [105.0, 22.8, 6.86, 105.0, 29.2, 1.84, 5.44, 139.0, 761.0, 1.94, 24.4, 0.1, 4.5, 3842.6274999999996, 66.6, 148.0, 90.0, 50.64657534246575, 1.0, 1.0, 170.0, 23.044982698961938, 0.03259023464910002], [104.3, 19.0, 4.46, 69.0, 35.0, 1.76, 4.3, 135.9, 668.0, 1.52, 31.4, 16.25, 4.8, 4006.375, 63.85, 173.0, 102.0, 64.83287671232877, 1.0, 0.0, 170.0, 22.093425605536336, 0.034579306032480446], [106.0, 13.7, 6.4, 101.0, 31.2, 2.03, 3.98, 136.0, 850.0, 2.04, 44.1, 3.73, 5.3, 3222.4574999999995, 50.0, 165.0, 82.0, 64.40821917808219, 0.0, 1.0, 159.0, 19.77769866698311, 0.026305787841643113], [105.0, 23.0, 5.8, 85.0, 33.3, 2.1, 5.3, 140.0, 700.0, 1.38, 31.91, 10.6, 13.8, 3241.125, 76.0, 135.0, 92.0, 61.62739726027397, 1.0, 1.0, 166.0, 27.58020031934969, 0.033373345188962886], [98.7, 23.8, 4.86, 79.0, 23.7, 1.95, 4.03, 134.6, 896.0, 2.08, 34.3, 10.53, 4.7, 4255.495000000001, 68.0, 127.0, 71.0, 64.74246575342465, 1.0, 0.0, 167.0, 24.38237297859371, 0.024245471413466592], [113.0, 16.7, 4.76, 74.0, 35.0, 1.67, 3.42, 145.0, 863.0, 2.0, 35.4, 1.68, 5.8, 2924.015, 74.0, 147.0, 105.0, 53.92602739726028, 0.0, 0.0, 164.0, 27.513384889946465, 0.027902300323781493], [104.2, 34.0, 6.9, 87.0, 17.6, 1.94, 3.79, 141.4, 844.0, 1.67, 31.4, 2.17, 3.9, 3626.4350000000004, 85.0, 152.0, 91.0, 53.59452054794521, 1.0, 0.0, 170.0, 29.411764705882355, 0.028156668318431964], [99.0, 26.0, 5.13, 82.0, 17.2, 2.31, 4.76, 139.0, 933.0, 2.61, 37.9, 0.99, 4.8, 2985.33, 49.0, 123.0, 83.0, 41.8054794520548, 0.0, 0.0, 156.0, 20.134779750164363, 0.027624801857932212], [107.0, 16.2, 5.95, 91.0, 34.8, 1.95, 4.66, 140.0, 640.0, 1.95, 36.7, 2.19, 5.3, 5739.629999999999, 78.25, 147.0, 101.0, 53.42739726027397, 1.0, 1.0, 172.0, 26.45010816657653, 0.039342114169863066], [96.0, 26.2, 10.97, 114.0, 15.4, 1.83, 3.61, 139.0, 444.0, 1.49, 22.8, 16.71, 5.5, 3015.21, 54.0, 151.0, 77.0, 70.36438356164383, 1.0, 0.0, 175.0, 17.632653061224488, 0.054322593545423466], [106.0, 19.0, 6.8, 138.0, 31.5, 2.29, 4.14, 142.1, 827.0, 6.63, 42.0, 6.29, 5.2, 2603.265, 51.5, 119.0, 78.0, 52.93150684931507, 0.0, 0.0, 153.0, 22.000085437225, 0.029584460325830803], [102.0, 28.5, 6.53, 135.0, 22.2, 2.03, 5.15, 140.0, 669.0, 1.51, 35.1, 3.86, 3.9, 6163.859999999999, 73.0, 164.0, 105.0, 52.6, 1.0, 0.0, 174.0, 24.111507464658473, 0.03755258674836743], [104.0, 25.8, 4.85, 88.0, 23.4, 2.01, 3.93, 142.0, 442.0, 1.72, 27.6, 1.1, 9.7, 3645.1099999999997, 70.5, 140.0, 76.0, 55.92054794520548, 1.0, 1.0, 170.0, 24.394463667820073, 0.06068931788146465], [99.1, 28.6, 11.54, 94.0, 14.9, 2.12, 4.29, 140.0, 363.0, 1.34, 33.4, 3.77, 6.85, 3166.79, 50.8, 120.0, 52.0, 72.13972602739726, 0.0, 1.0, 155.0, 21.144640998959414, 0.0695641803974521], [97.0, 27.1, 8.16, 97.0, 20.9, 1.86, 4.1, 136.0, 1185.0, 1.91, 29.0, 6.19, 4.9, 4362.46, 80.0, 170.0, 90.0, 49.73424657534247, 1.0, 0.0, 170.0, 27.68166089965398, 0.019213514097462768], [88.0, 24.0, 5.0, 128.0, 25.3, 2.53, 2.89, 126.0, 445.0, 1.03, 24.6, 19.5, 4.1, 2119.92, 45.5, 109.0, 63.0, 76.65753424657534, 0.0, 0.0, 156.0, 18.696581196581196, 0.05287404338219919], [104.0, 28.6, 4.69, 95.0, 16.2, 1.85, 4.78, 140.0, 471.0, 1.39, 27.2, 6.63, 5.8, 3497.6625, 72.0, 170.0, 60.0, 68.08219178082192, 1.0, 1.0, 175.0, 23.510204081632654, 0.051296263741818136], [100.0, 8.8, 14.1, 85.0, 51.9, 1.91, 6.85, 129.0, 1440.0, 3.07, 29.9, 53.48, 5.8, 3590.49, 62.75, 148.0, 93.0, 57.701369863013696, 1.0, 0.0, 169.0, 21.970519239522428, 0.01435046665711048], [104.0, 24.4, 3.14, 85.0, 23.2, 2.02, 4.16, 140.0, 395.0, 1.65, 29.1, 5.73, 5.7, 2583.3450000000003, 67.0, 130.0, 66.0, 78.52602739726028, 0.0, 0.0, 158.0, 26.83864765261977, 0.06021745332514116], [103.0, 26.8, 8.74, 113.0, 14.4, 2.07, 4.73, 143.0, 461.0, 1.4, 36.2, 15.24, 4.8, 3341.4974999999995, 75.0, 132.0, 64.0, 84.58356164383562, 1.0, 0.0, 175.0, 24.489795918367346, 0.047048043449539056], [99.0, 30.6, 10.37, 104.0, 19.4, 2.89, 3.79, 139.0, 401.0, 1.01, 39.7, 3.47, 7.6, 3089.245, 48.0, 147.0, 77.0, 73.24657534246575, 0.0, 1.0, 160.0, 18.749999999999996, 0.061243567988414016], [102.0, 20.2, 7.88, 74.0, 19.2, 1.91, 4.4, 139.0, 851.0, 1.81, 29.5, 7.04, 8.1, 4519.53, 79.0, 143.0, 84.0, 58.41095890410959, 1.0, 1.0, 176.0, 25.50361570247934, 0.02691477088860507], [107.0, 23.3, 5.2, 66.0, 30.8, 2.32, 3.77, 145.0, 977.0, 1.96, 36.6, 2.97, 5.0, 3522.6049999999996, 62.0, 109.0, 69.0, 28.364383561643837, 0.0, 0.0, 155.0, 25.806451612903224, 0.028626174938940818], [99.0, 24.0, 7.46, 161.0, 20.0, 2.19, 4.64, 143.0, 869.0, 1.96, 46.5, 10.78, 6.8, 3548.0975000000008, 68.8, 130.0, 70.0, 68.2958904109589, 0.0, 0.0, 157.0, 27.911882835003446, 0.02490238129733718], [111.0, 25.1, 5.93, 138.0, 13.3, 2.13, 4.31, 148.0, 458.0, 1.55, 40.9, 0.48, 4.9, 4412.505, 50.8, 124.0, 79.0, 58.14794520547945, 0.0, 0.0, 162.0, 19.356805365035815, 0.057947798391797437], [98.0, 35.7, 4.88, 78.0, 21.2, 2.21, 4.46, 142.0, 1310.0, 1.95, 37.5, 8.77, 5.2, 4305.41, 90.0, 150.0, 100.0, 29.934246575342467, 1.0, 0.0, 183.0, 26.874496103198062, 0.019586927805109705], [107.0, 29.5, 4.28, 127.0, 13.5, 2.06, 3.35, 141.0, 281.0, 1.11, 30.1, 2.59, 8.8, 3330.91, 57.9, 117.0, 73.0, 58.20821917808219, 1.0, 1.0, 175.0, 18.90612244897959, 0.10275183455757245], [95.6, 25.0, 9.08, 78.0, 26.2, 2.07, 5.31, 126.7, 523.0, 1.5, 35.4, 1.41, 3.8, 3260.2475, 59.0, 137.0, 61.0, 85.6, 1.0, 0.0, 174.0, 19.487382745408905, 0.04010852517767674], [97.0, 30.7, 6.02, 108.0, 17.3, 1.6, 2.5, 137.0, 881.0, 2.24, 30.6, 20.7, 6.8, 3548.75, 61.0, 110.0, 60.0, 76.42465753424658, 0.0, 1.0, 156.0, 25.06574621959237, 0.023154419802935505], [101.0, 29.5, 4.21, 94.0, 15.8, 2.02, 5.96, 137.0, 476.0, 1.16, 33.8, 0.84, 5.1, 2915.77, 49.2, 148.0, 66.0, 81.15616438356165, 0.0, 0.0, 155.0, 20.4786680541103, 0.047057539227738046], [96.0, 25.1, 4.67, 113.0, 16.9, 2.59, 3.18, 139.0, 697.0, 1.32, 36.4, 0.81, 5.2, 4248.85, 42.0, 100.0, 38.0, 77.23013698630137, 0.0, 0.0, 157.0, 17.03923080043815, 0.030520426346521804], [96.0, 30.9, 7.4, 101.0, 11.5, 2.45, 3.11, 138.0, 585.0, 0.93, 40.6, 6.23, 5.3, 3149.2250000000004, 54.0, 144.0, 81.0, 60.28493150684932, 0.0, 0.0, 160.0, 21.093749999999996, 0.042504054354949514], [116.0, 15.0, 4.5, 107.0, 27.3, 1.39, 3.98, 146.0, 763.0, 1.92, 44.2, 0.18, 4.5, 5479.380000000001, 69.5, 138.0, 86.0, 39.24383561643835, 1.0, 0.0, 170.0, 24.048442906574397, 0.03509680943301008], [103.0, 25.8, 8.05, 91.0, 23.5, 2.19, 4.28, 140.0, 876.0, 1.57, 38.9, 4.27, 5.0, 6623.91, 74.5, 140.0, 90.0, 47.465753424657535, 1.0, 0.0, 176.0, 24.050878099173556, 0.028076717196898828], [105.0, 24.7, 7.1, 98.0, 25.1, 2.14, 4.62, 142.0, 515.0, 1.05, 34.8, 3.84, 4.2, 3435.95, 54.5, 133.0, 66.0, 74.69589041095891, 1.0, 1.0, 157.0, 22.110430443425695, 0.04414571563019493], [100.0, 21.6, 9.19, 119.0, 32.3, 2.42, 4.41, 136.0, 469.0, 1.96, 44.0, 7.07, 4.8, 2791.495, 40.0, 145.0, 72.0, 62.61095890410959, 0.0, 0.0, 152.0, 17.31301939058172, 0.05474851331945008], [95.0, 25.1, 9.93, 135.0, 22.7, 1.47, 3.6, 135.0, 487.0, 1.91, 22.7, 4.63, 5.8, 3776.5599999999995, 50.0, 82.0, 57.0, 59.1013698630137, 0.0, 1.0, 162.0, 19.05197378448407, 0.05342567744374872], [95.0, 27.8, 3.5, 89.0, 20.0, 1.94, 3.6, 135.0, 545.0, 1.96, 31.8, 1.36, 6.6, 1437.6675, 50.0, 159.0, 53.0, 81.41095890410959, 0.0, 0.0, 156.0, 20.5456936226167, 0.0399532991926142], [100.0, 25.7, 3.8, 75.0, 8.6, 1.95, 4.0, 138.0, 363.0, 1.04, 28.9, 3.6, 4.7, 2665.915, 59.0, 146.0, 76.0, 75.96986301369863, 0.0, 1.0, 160.0, 23.046874999999996, 0.06811353468311016], [99.0, 32.2, 7.47, 111.0, 12.6, 3.08, 4.01, 139.0, 651.0, 0.86, 40.4, 4.19, 6.1, 2774.8025, 50.8, 130.0, 82.0, 76.64931506849315, 0.0, 0.0, 156.0, 20.874424720578563, 0.03338030965486124], [106.0, 17.0, 5.42, 59.0, 32.6, 2.13, 6.31, 136.0, 928.0, 2.33, 45.5, 0.51, 4.9, 2771.4300000000003, 45.6, 119.0, 79.0, 23.232876712328768, 0.0, 0.0, 165.0, 16.749311294765842, 0.03155252378583862], [107.0, 19.9, 5.3, 104.0, 25.0, 1.95, 3.37, 139.0, 609.0, 1.96, 33.5, 32.95, 4.4, 2928.9624999999996, 59.0, 130.0, 70.0, 76.23013698630137, 0.0, 1.0, 156.0, 24.243918474687703, 0.03618324139022083], [100.0, 31.6, 8.33, 114.0, 10.3, 3.26, 3.93, 139.0, 505.0, 0.72, 32.8, 1.1, 5.4, 2392.075, 50.511574074074076, 124.0, 67.0, 73.8054794520548, 0.0, 0.0, 154.0, 21.29852170436586, 0.04634285171658971], [105.0, 23.6, 6.5, 73.0, 28.6, 2.08, 3.62, 143.0, 550.0, 2.07, 28.6, 14.5, 5.54, 3391.28, 61.0, 119.0, 66.0, 58.23013698630137, 1.0, 1.0, 166.0, 22.136739730004358, 0.045622285061944545], [108.0, 15.6, 5.6, 73.0, 35.8, 2.13, 5.25, 142.0, 1090.0, 2.76, 43.5, 1.2, 5.0, 2719.1499999999996, 90.1, 135.0, 73.0, 22.054794520547944, 1.0, 0.0, 180.0, 27.80864197530864, 0.025695314849394753], [101.0, 27.2, 4.4, 98.0, 15.7, 2.12, 4.22, 140.0, 467.0, 1.49, 30.4, 8.77, 9.3, 1854.3400000000001, 50.0, 155.0, 93.0, 44.40821917808219, 0.0, 1.0, 158.0, 20.028841531805796, 0.06244960788822979], [99.0, 23.6, 5.18, 98.0, 20.8, 1.78, 3.74, 136.0, 451.0, 2.0, 25.8, 1.43, 5.4, 3589.09, 43.0, 130.0, 80.0, 40.54246575342466, 0.0, 0.0, 163.0, 16.184274906846326, 0.06699422867832623], [90.0, 23.7, 14.48, 155.0, 16.4, 1.73, 3.83, 129.0, 452.0, 1.65, 26.1, 6.97, 30.1, 2838.2199999999993, 59.0, 145.0, 85.0, 78.8027397260274, 0.0, 1.0, 155.0, 24.55775234131113, 0.05116181059864053], [121.0, 15.0, 6.0, 77.0, 16.9, 1.87, 6.5, 148.0, 606.0, 1.48, 35.6, 1.74, 4.8, 3187.3099999999995, 57.35, 127.0, 71.0, 69.2931506849315, 1.0, 0.0, 162.0, 21.852613930803226, 0.037558466877609026], [90.0, 37.8, 8.99, 127.0, 15.5, 2.1, 4.25, 136.0, 539.0, 0.86, 35.6, 6.25, 10.3, 3368.185, 59.0, 142.0, 78.0, 71.97808219178083, 1.0, 1.0, 159.0, 23.337684427040067, 0.04267022557158043], [95.0, 30.6, 9.48, 103.0, 22.1, 2.14, 3.83, 141.0, 577.0, 1.53, 33.0, 2.16, 7.1, 2968.625, 74.6, 150.0, 80.0, 61.6, 1.0, 1.0, 167.0, 26.748897414751333, 0.042156224899718854], [98.0, 31.8, 4.02, 81.0, 18.2, 2.21, 3.53, 139.0, 545.0, 1.3, 26.8, 2.23, 4.5, 3444.3224999999998, 59.5, 150.0, 81.0, 60.97260273972603, 1.0, 1.0, 170.0, 20.58823529411765, 0.045485256814518205], [111.0, 20.2, 4.6, 92.0, 17.2, 2.08, 4.22, 145.0, 512.0, 1.71, 38.8, 0.94, 4.4, 3149.005, 65.1, 122.0, 71.0, 61.45753424657534, 0.0, 0.0, 153.0, 27.809816737152374, 0.04958652406911977], [99.6, 29.0, 6.0, 102.0, 22.1, 2.18, 3.8, 133.7, 330.0, 0.86, 35.2, 9.77, 7.6, 3595.3525, 74.9, 123.0, 74.0, 65.17534246575343, 1.0, 1.0, 165.0, 27.511478420569336, 0.08054468948068823], [108.0, 26.8, 5.88, 64.0, 23.9, 1.56, 3.72, 147.0, 450.0, 1.58, 40.3, 4.3, 5.7, 2486.18, 44.5, 129.0, 76.0, 78.33150684931506, 0.0, 0.0, 154.0, 18.763703828638896, 0.05143684759177113], [104.0, 21.4, 2.76, 82.0, 35.3, 1.87, 4.22, 139.0, 783.0, 2.45, 31.8, 0.61, 5.9, 3127.7650000000003, 54.0, 139.0, 90.0, 64.14794520547945, 1.0, 0.0, 166.0, 19.5964581216432, 0.02853731085652488], [99.0, 23.4, 4.4, 101.0, 19.6, 2.14, 3.99, 138.0, 401.0, 1.35, 45.0, 0.68, 5.3, 3506.7875, 60.0, 146.0, 85.0, 73.27397260273973, 1.0, 0.0, 165.0, 22.03856749311295, 0.06016067582358941], [95.0, 31.5, 8.0, 137.0, 14.7, 2.36, 4.08, 139.0, 758.0, 1.21, 35.5, 37.8, 6.6, 3755.135, 72.1, 115.0, 75.0, 72.2931506849315, 1.0, 0.0, 72.0, 139.08179012345678, 0.028057239199706107], [106.6, 21.0, 7.9, 113.0, 22.3, 2.1, 4.84, 142.2, 504.0, 2.17, 36.6, 2.38, 9.3, 4950.68, 69.0, 126.0, 75.0, 52.726027397260275, 0.0, 1.0, 165.0, 25.344352617079892, 0.05383804657657808], [98.0, 21.1, 4.55, 128.0, 26.5, 2.2, 4.11, 139.0, 572.0, 1.56, 43.8, 0.81, 4.2, 2599.33, 45.0, 109.0, 76.0, 54.843835616438355, 0.0, 0.0, 154.0, 18.974531961544947, 0.045554838423469066], [104.0, 30.0, 5.59, 106.0, 13.9, 1.86, 3.94, 141.0, 275.0, 1.39, 33.9, 0.67, 9.9, 3081.885, 62.0, 133.0, 51.0, 76.0986301369863, 1.0, 0.0, 180.0, 19.1358024691358, 0.0929413061335947], [101.0, 17.2, 9.9, 98.0, 30.0, 1.81, 3.0, 141.0, 826.0, 2.36, 38.1, 9.13, 5.4, 3984.5099999999993, 60.6, 155.0, 100.0, 55.38630136986301, 0.0, 0.0, 162.0, 23.090992226794693, 0.029009929988377873], [102.0, 26.1, 7.0, 121.0, 21.6, 1.96, 5.55, 143.0, 856.0, 1.7, 25.6, 0.24, 4.8, 3941.2124999999996, 68.0, 133.0, 86.0, 42.00821917808219, 1.0, 0.0, 173.0, 22.720438370810918, 0.029903826752850804], [106.0, 28.7, 4.1, 94.0, 27.8, 2.48, 3.58, 141.0, 634.0, 1.57, 37.1, 0.55, 5.0, 6051.3475, 69.0, 116.0, 67.0, 71.95616438356164, 1.0, 1.0, 170.0, 23.87543252595156, 0.035066291851089136], [104.0, 19.8, 5.55, 112.0, 26.5, 2.14, 4.05, 138.0, 626.0, 1.58, 43.8, 1.47, 6.6, 2883.54, 54.1, 164.0, 63.0, 84.63835616438357, 0.0, 0.0, 148.0, 24.698685171658145, 0.03308608608785839], [109.0, 21.5, 4.0, 74.0, 17.8, 2.14, 5.29, 141.0, 760.0, 1.49, 32.8, 4.81, 4.5, 4391.82, 54.0, 132.0, 72.0, 87.07123287671233, 0.0, 0.0, 153.0, 23.06805074971165, 0.02562405611226266], [96.7, 20.0, 4.21, 72.0, 42.0, 1.29, 6.18, 133.0, 1162.0, 2.88, 31.0, 0.43, 3.2, 3937.95, 40.0, 130.0, 90.0, 42.07123287671233, 0.0, 0.0, 155.0, 16.649323621227886, 0.021037838586314108], [103.0, 32.0, 7.78, 94.0, 37.0, 1.79, 4.81, 149.0, 701.0, 2.41, 38.0, 16.88, 6.9, 2902.99, 56.6, 138.0, 75.0, 67.5041095890411, 1.0, 1.0, 167.0, 20.294739861594177, 0.03194079181429632], [102.0, 30.3, 5.66, 105.0, 23.7, 2.14, 5.56, 137.0, 794.0, 1.61, 28.7, 0.1, 7.5, 2852.38, 76.5, 147.0, 86.0, 43.38082191780822, 1.0, 1.0, 173.0, 25.56049316716228, 0.03252024512834039], [105.0, 22.7, 10.6, 91.0, 17.9, 2.1, 4.68, 141.0, 380.0, 1.55, 35.4, 4.26, 6.1, 3841.8975, 50.0, 92.0, 45.0, 79.33150684931506, 1.0, 0.0, 165.0, 18.36547291092746, 0.061553304841824655], [99.3, 30.0, 6.08, 104.0, 16.5, 2.26, 3.86, 137.0, 695.0, 1.31, 34.2, 0.22, 9.5, 2850.825, 46.5, 149.0, 74.0, 64.43013698630136, 1.0, 1.0, 168.0, 16.475340136054424, 0.032961835496784275], [113.0, 17.0, 7.76, 87.0, 21.2, 2.0, 5.14, 142.0, 727.0, 1.37, 30.7, 3.42, 2.1, 2845.71, 81.0, 128.0, 63.0, 44.178082191780824, 1.0, 1.0, 177.0, 25.854639471416256, 0.03592451748848522], [103.0, 28.0, 6.24, 114.0, 17.9, 2.23, 4.75, 143.0, 483.0, 1.49, 33.6, 3.22, 11.6, 2944.1549999999997, 58.5, 154.0, 103.0, 61.18904109589041, 1.0, 1.0, 167.0, 20.976012047760765, 0.05226743523751681], [99.0, 24.6, 5.8, 68.0, 27.1, 2.06, 4.41, 140.0, 991.0, 2.56, 43.7, 3.5, 4.7, 3793.735, 58.4, 165.0, 87.0, 32.4027397260274, 0.0, 0.0, 164.0, 21.71326591314694, 0.027358343258426066], [98.4, 27.0, 5.94, 101.0, 12.7, 2.01, 3.74, 136.0, 681.0, 1.9, 32.7, 0.21, 11.9, 3176.6800000000003, 50.0, 153.0, 79.0, 68.68767123287671, 0.0, 1.0, 155.0, 20.811654526534856, 0.03343804901428684], [106.0, 27.9, 5.5, 60.0, 16.1, 2.01, 4.41, 146.0, 609.0, 2.23, 29.2, 4.41, 4.41, 2893.6549999999997, 64.3, 164.0, 86.0, 42.38630136986301, 1.0, 0.0, 173.0, 21.484179224163853, 0.045132068919790845], [111.0, 20.0, 4.66, 72.0, 15.7, 1.82, 5.66, 141.0, 492.0, 1.29, 30.0, 6.9, 8.0, 2082.455, 61.85, 166.0, 80.0, 63.02191780821918, 0.0, 1.0, 163.0, 23.27900937182431, 0.051307840575161426], [103.0, 20.9, 5.34, 91.0, 31.5, 2.29, 3.88, 143.0, 832.0, 2.72, 42.4, 0.68, 4.2, 3923.8975, 53.0, 143.0, 79.0, 50.18630136986302, 0.0, 0.0, 160.0, 20.703124999999996, 0.029785178966894796], [104.0, 28.6, 6.92, 106.0, 20.5, 1.98, 4.96, 141.0, 744.0, 1.33, 34.0, 0.85, 4.5, 4234.035, 69.6, 150.0, 87.0, 50.75068493150685, 0.0, 1.0, 158.0, 27.88014741227367, 0.0340955449636489], [104.0, 17.1, 5.28, 78.0, 38.9, 1.68, 4.51, 141.0, 1293.0, 3.08, 26.4, 1.4, 5.4, 3631.2649999999994, 60.8, 84.0, 63.0, 43.78630136986301, 0.0, 0.0, 160.0, 23.749999999999993, 0.018359546918825954], [97.0, 27.0, 5.17, 123.0, 20.0, 2.23, 5.68, 137.0, 909.0, 1.45, 37.3, 3.53, 4.5, 3659.1525, 61.0, 126.0, 84.0, 55.87123287671233, 0.0, 0.0, 156.0, 25.06574621959237, 0.02583876922309945], [107.0, 27.6, 5.23, 99.0, 14.7, 1.94, 4.75, 137.0, 376.0, 1.58, 29.2, 2.09, 5.7, 3715.2200000000007, 75.0, 160.0, 97.0, 54.93150684931507, 1.0, 1.0, 168.0, 26.573129251700685, 0.07431499054750292], [104.0, 22.7, 8.55, 102.0, 21.8, 1.95, 4.06, 144.0, 356.0, 1.63, 34.9, 2.34, 9.0, 3463.7000000000003, 55.5, 139.0, 75.0, 68.58904109589041, 0.0, 1.0, 154.0, 23.401922752572105, 0.07325086217792073], [102.0, 18.4, 4.8, 94.0, 21.0, 1.96, 4.43, 131.0, 798.0, 2.2, 39.5, 25.46, 5.8, 2905.92, 57.35, 137.0, 77.0, 63.06575342465754, 0.0, 0.0, 153.0, 24.49912426844376, 0.028592231416749825], [96.8, 30.0, 6.07, 117.0, 13.7, 2.89, 4.45, 141.0, 407.0, 1.76, 39.5, 7.43, 10.1, 3289.585, 48.0, 140.0, 64.0, 81.37260273972603, 0.0, 1.0, 148.0, 21.91380569758948, 0.05686648412524101], [95.0, 26.3, 17.14, 85.0, 20.8, 2.25, 4.4, 134.0, 792.0, 1.69, 37.6, 63.44, 6.0, 2809.4, 80.0, 135.0, 80.0, 43.967123287671235, 0.0, 0.0, 155.0, 33.29864724245577, 0.03320670862393067], [111.0, 19.3, 7.4, 80.0, 20.8, 1.49, 3.75, 142.0, 525.0, 1.52, 38.1, 9.17, 8.6, 3510.2574999999997, 77.0, 141.0, 77.0, 63.14246575342466, 1.0, 1.0, 174.0, 25.43268595587264, 0.046596057234868336], [107.0, 17.0, 7.6, 93.0, 39.0, 2.0, 5.29, 135.0, 791.0, 1.94, 39.6, 31.0, 5.5, 4245.57, 73.45, 129.0, 63.0, 92.64931506849315, 1.0, 0.0, 168.0, 26.023951247165538, 0.02315552359131269], [104.0, 32.0, 4.11, 87.0, 20.9, 2.04, 4.42, 155.0, 587.0, 1.69, 27.0, 1.14, 3.5, 4083.1174999999994, 64.0, 131.0, 77.0, 36.44931506849315, 1.0, 1.0, 165.0, 23.507805325987146, 0.049216258412940035], [97.0, 30.7, 7.39, 106.0, 30.9, 2.11, 5.62, 139.0, 689.0, 1.91, 40.0, 0.11, 13.6, 3793.8575, 79.0, 150.0, 90.0, 55.83835616438356, 1.0, 1.0, 180.0, 24.382716049382715, 0.03548303344722194], [103.0, 28.2, 4.43, 80.0, 26.2, 1.94, 5.11, 139.0, 490.0, 1.19, 25.0, 1.77, 5.2, 5265.2775, 72.0, 97.0, 64.0, 53.035616438356165, 1.0, 0.0, 172.0, 24.337479718766904, 0.05433531912891087], [107.0, 23.5, 6.67, 108.0, 13.8, 2.15, 3.37, 140.0, 460.0, 0.82, 38.8, 6.19, 8.6, 2765.3599999999997, 62.2, 140.0, 80.0, 63.54246575342466, 0.0, 1.0, 165.0, 22.84664830119376, 0.05565386463453004], [101.0, 30.9, 5.83, 86.0, 20.1, 2.19, 2.94, 143.0, 696.0, 1.57, 37.4, 0.1, 5.9, 3277.68, 54.0, 150.0, 105.0, 45.49315068493151, 0.0, 0.0, 160.0, 21.093749999999996, 0.038279697948877], [102.0, 26.8, 8.35, 134.0, 17.5, 2.21, 5.51, 137.0, 551.0, 1.12, 41.9, 0.32, 6.2, 3071.64, 70.0, 165.0, 80.0, 62.68767123287671, 1.0, 1.0, 170.0, 24.221453287197235, 0.04426089956618842], [99.0, 32.3, 8.5, 125.0, 12.3, 2.41, 5.13, 141.0, 542.0, 0.56, 33.3, 3.3, 12.5, 2740.165, 53.0, 147.0, 76.0, 68.53698630136986, 1.0, 1.0, 170.0, 18.339100346020764, 0.04328753671550553], [101.0, 22.0, 5.63, 117.0, 18.5, 2.16, 5.16, 137.0, 745.0, 1.58, 39.0, 3.37, 5.02, 3783.97, 70.45, 139.0, 96.0, 37.446575342465756, 1.0, 0.0, 170.0, 24.377162629757787, 0.03663568980910016], [104.0, 21.4, 6.71, 91.0, 28.1, 2.16, 4.53, 137.0, 653.0, 1.7, 41.0, 0.45, 3.3, 4077.05, 56.3, 115.0, 65.0, 71.31232876712329, 1.0, 0.0, 172.0, 19.03055705786912, 0.033836522266035444], [103.0, 27.6, 5.78, 96.0, 23.8, 1.89, 4.23, 142.0, 668.0, 2.04, 32.6, 2.16, 5.2, 3912.557500000001, 67.0, 116.0, 69.0, 44.52876712328767, 1.0, 0.0, 175.0, 21.877551020408163, 0.03979525604464934], [100.0, 30.3, 9.23, 102.0, 12.4, 2.11, 3.45, 141.0, 385.0, 0.81, 30.5, 7.72, 4.5, 3363.0599999999995, 69.0, 136.0, 75.0, 61.104109589041094, 1.0, 1.0, 178.0, 21.777553339224845, 0.06875451912072958], [97.0, 29.3, 7.17, 100.0, 16.4, 2.08, 3.81, 135.0, 947.0, 1.74, 27.2, 1.05, 4.7, 3980.81, 49.0, 170.0, 105.0, 25.03835616438356, 1.0, 0.0, 170.0, 16.955017301038065, 0.029822441849171717], [108.0, 14.7, 5.2, 98.0, 34.8, 1.87, 5.95, 140.0, 835.0, 2.14, 40.5, 9.72, 6.6, 4720.16, 72.0, 132.0, 76.0, 79.59178082191781, 1.0, 0.0, 169.0, 25.209201358495854, 0.023762426958485426], [98.0, 26.4, 4.3, 92.0, 21.6, 2.07, 4.57, 138.0, 417.0, 1.98, 36.5, 7.71, 12.7, 1771.06, 70.0, 130.0, 76.0, 81.42191780821918, 1.0, 0.0, 175.0, 22.857142857142858, 0.054245504211626376], [105.0, 22.8, 7.49, 91.0, 12.9, 2.11, 4.67, 142.0, 403.0, 1.24, 42.7, 6.1, 7.3, 4089.04, 79.0, 156.0, 75.0, 62.635616438356166, 0.0, 0.0, 170.0, 27.33564013840831, 0.06576676752932142], [103.0, 26.3, 4.33, 78.0, 29.2, 2.25, 3.28, 141.0, 671.0, 1.72, 41.2, 0.14, 6.9, 4734.145, 70.5, 120.0, 80.0, 50.88767123287671, 1.0, 0.0, 175.0, 23.020408163265305, 0.03794669971063197], [107.0, 14.9, 4.8, 97.0, 27.2, 1.67, 4.54, 136.0, 759.0, 1.72, 37.6, 6.66, 3.5, 4307.7699999999995, 67.0, 143.0, 99.0, 50.035616438356165, 1.0, 0.0, 166.0, 24.31412396574249, 0.03269408823507037], [90.0, 27.0, 2.77, 82.0, 16.6, 2.71, 3.33, 129.0, 566.0, 1.41, 39.4, 2.93, 5.1, 4183.537499999999, 41.0, 120.0, 80.0, 66.44657534246575, 0.0, 0.0, 155.0, 17.065556711758582, 0.042409409555755305], [101.0, 20.0, 3.51, 68.0, 24.6, 1.96, 3.78, 135.0, 582.0, 1.88, 37.4, 2.22, 4.2, 2859.46, 84.0, 94.0, 73.0, 60.87671232876713, 0.0, 0.0, 170.0, 29.065743944636683, 0.04276908035757018], [107.0, 23.3, 8.35, 94.0, 18.1, 2.3, 4.3, 142.0, 318.0, 1.44, 33.7, 3.75, 5.8, 4324.79, 46.0, 131.0, 59.0, 82.53698630136986, 0.0, 0.0, 155.0, 19.14672216441207, 0.07609758584255377], [104.0, 28.0, 6.09, 110.0, 15.7, 2.2, 4.77, 144.0, 544.0, 1.6, 35.1, 1.18, 5.8, 3574.4799999999996, 57.0, 170.0, 90.0, 66.82465753424657, 0.0, 0.0, 150.0, 25.333333333333332, 0.044491620238836155], [96.0, 29.2, 3.9, 109.0, 39.5, 2.38, 4.36, 137.0, 795.0, 2.51, 41.8, 0.2, 3.6, 3699.685, 54.5, 145.0, 75.0, 67.26849315068493, 0.0, 0.0, 153.0, 23.28164381220898, 0.027926896873947126], [111.0, 18.5, 7.1, 87.0, 28.3, 2.09, 4.93, 144.0, 783.0, 2.08, 40.5, 1.96, 3.7, 4025.4375000000005, 83.5, 122.0, 84.0, 50.4027397260274, 1.0, 0.0, 185.0, 24.397370343316286, 0.03148644050691795], [102.0, 22.5, 4.29, 85.0, 34.0, 1.85, 5.26, 138.0, 909.0, 3.13, 37.2, 0.36, 5.3, 2477.77, 44.6, 178.0, 90.0, 54.824657534246576, 0.0, 0.0, 154.0, 18.805869455220105, 0.02602091563252714], [96.0, 27.6, 7.2, 128.0, 19.4, 2.47, 3.89, 137.0, 452.0, 1.51, 42.6, 2.14, 4.9, 4135.9325, 52.0, 140.0, 73.0, 77.87397260273973, 0.0, 0.0, 150.0, 23.11111111111111, 0.051522467873756826], [102.0, 39.7, 5.0, 105.0, 11.9, 2.21, 3.56, 141.0, 105.0, 0.91, 30.7, 0.57, 4.3, 3713.67, 36.7, 120.0, 70.0, 72.21095890410959, 0.0, 0.0, 150.0, 16.311111111111114, 0.3116699416978305], [105.0, 26.7, 4.37, 67.0, 19.9, 2.01, 4.0, 136.0, 457.0, 2.25, 35.5, 27.45, 4.6, 2668.085, 50.7, 167.0, 94.0, 89.3890410958904, 0.0, 0.0, 144.0, 24.450231481481485, 0.04673167211321307], [104.0, 24.8, 7.67, 124.0, 16.1, 2.3, 3.96, 140.0, 582.0, 1.19, 37.1, 1.21, 4.7, 3689.5424999999996, 74.5, 124.0, 76.0, 57.2, 1.0, 0.0, 180.0, 22.993827160493826, 0.04290761631455376], [96.0, 28.8, 8.41, 87.0, 15.1, 2.02, 3.04, 139.0, 551.0, 1.21, 36.4, 7.96, 7.0, 3365.2749999999996, 49.0, 176.0, 88.0, 73.81917808219178, 0.0, 0.0, 150.0, 21.77777777777778, 0.0417070764239784], [103.0, 25.1, 7.93, 134.0, 15.8, 2.89, 3.84, 142.0, 724.0, 1.56, 42.2, 5.89, 6.5, 3032.895, 50.5, 125.0, 67.0, 71.4958904109589, 0.0, 0.0, 155.0, 21.019771071800207, 0.03040462191610747], [96.0, 28.0, 5.25, 115.0, 23.0, 2.08, 5.31, 145.0, 1239.0, 2.01, 40.0, 1.51, 5.0, 3594.09, 53.5, 158.0, 97.0, 39.78082191780822, 1.0, 0.0, 170.0, 18.512110726643602, 0.019530645380303628], [102.0, 33.7, 3.14, 103.0, 20.8, 2.07, 5.97, 139.0, 882.0, 1.49, 38.2, 0.46, 4.9, 4270.3675, 75.7, 160.0, 93.0, 54.673972602739724, 1.0, 1.0, 167.0, 27.14331815411094, 0.02650983422688941], [101.0, 24.1, 6.11, 92.0, 38.9, 2.2, 4.08, 140.0, 1109.0, 1.39, 42.0, 8.36, 4.8, 4560.9825, 76.0, 137.0, 85.0, 51.47671232876712, 1.0, 0.0, 177.0, 24.258674071946118, 0.020526199547455246], [101.0, 29.6, 12.34, 130.0, 14.5, 2.79, 3.44, 139.0, 608.0, 1.08, 49.1, 2.62, 5.3, 4008.2950000000005, 40.0, 131.0, 97.0, 27.06027397260274, 0.0, 0.0, 145.0, 19.024970273483948, 0.051151358536254375], [103.0, 26.7, 3.51, 105.0, 30.8, 1.55, 3.81, 141.0, 566.0, 1.66, 35.4, 16.9, 5.6, 3487.6074999999996, 41.5, 144.0, 73.0, 76.2, 0.0, 0.0, 155.0, 17.27367325702393, 0.039532539268298264], [107.0, 26.7, 5.2, 78.0, 24.0, 1.95, 4.39, 143.0, 829.0, 1.74, 31.2, 0.15, 7.0, 3451.3, 66.94871794871794, 139.0, 70.0, 71.47123287671234, 1.0, 1.0, 168.0, 23.72049247049247, 0.025356150941049167], [108.0, 25.2, 7.02, 123.0, 30.3, 2.0, 5.9, 139.0, 735.0, 1.53, 27.4, 0.4, 3.0, 3825.32, 53.4, 120.0, 80.0, 44.227397260273975, 1.0, 0.0, 169.0, 18.696824340884426, 0.03545231941365646], [104.0, 27.3, 5.27, 73.0, 15.5, 2.02, 3.93, 145.0, 700.0, 0.95, 35.1, 1.44, 5.2, 3405.505, 61.0, 140.0, 101.0, 44.45753424657534, 0.0, 0.0, 160.0, 23.828124999999996, 0.038283381751357044], [103.0, 23.0, 6.4, 121.0, 22.8, 2.27, 5.7, 142.0, 541.0, 2.17, 36.9, 7.33, 4.6, 2968.2875000000004, 53.9, 127.0, 67.0, 84.82739726027397, 1.0, 1.0, 163.0, 20.286800406488766, 0.03877220432508304], [98.0, 25.1, 7.3, 115.0, 31.0, 2.57, 4.5, 137.0, 878.0, 1.63, 38.6, 0.32, 3.5, 2313.3949999999995, 57.0, 115.0, 55.0, 72.9945205479452, 0.0, 0.0, 157.0, 23.124670372023203, 0.023912661303651106], [100.0, 21.2, 5.26, 102.0, 28.8, 1.74, 4.68, 138.0, 647.0, 1.85, 31.9, 11.71, 5.4, 2588.2799999999997, 34.5, 139.0, 80.0, 63.40547945205479, 1.0, 0.0, 145.0, 16.409036860879905, 0.03619415921927437], [95.0, 27.9, 5.8, 97.0, 18.8, 2.58, 4.37, 137.0, 812.0, 2.24, 38.1, 14.15, 5.2, 5544.040000000001, 39.4, 95.0, 59.0, 60.016438356164386, 0.0, 0.0, 155.0, 16.399583766909466, 0.028593581798889926], [102.0, 26.8, 6.92, 110.0, 21.4, 2.02, 5.09, 137.0, 857.0, 1.67, 40.0, 0.26, 5.4, 4730.9175, 62.0, 135.0, 92.0, 39.76712328767123, 1.0, 0.0, 173.0, 20.715693808680545, 0.03049762291106538], [108.0, 19.8, 5.79, 85.0, 24.5, 2.09, 4.56, 143.0, 785.0, 1.82, 37.0, 0.61, 4.5, 2997.8300000000004, 58.0, 126.0, 96.0, 34.583561643835615, 1.0, 0.0, 178.0, 18.30576947355132, 0.03512336739459765], [104.0, 29.4, 5.3, 77.0, 13.1, 1.79, 4.31, 140.0, 527.0, 1.54, 28.5, 17.13, 4.9, 4150.41, 48.5, 140.0, 65.0, 85.18082191780822, 0.0, 1.0, 150.0, 21.555555555555557, 0.040456096725656726], [99.0, 27.4, 4.86, 92.0, 19.4, 2.32, 5.97, 136.0, 666.0, 1.66, 35.1, 1.88, 8.9, 3389.7649999999994, 80.0, 134.0, 66.0, 73.82191780821918, 1.0, 1.0, 170.0, 27.68166089965398, 0.032578711945992475], [102.0, 32.0, 4.0, 80.0, 19.3, 1.94, 6.07, 138.0, 565.0, 1.88, 36.0, 4.5, 11.3, 3628.9125, 63.7, 137.0, 85.0, 51.9041095890411, 1.0, 1.0, 176.0, 20.564307851239672, 0.04638784661947333], [105.0, 26.8, 5.83, 118.0, 15.5, 2.12, 4.74, 141.0, 757.0, 1.28, 39.9, 0.68, 4.1, 4789.5525, 62.59090909090909, 130.0, 90.0, 49.4027397260274, 1.0, 0.0, 181.06060606060606, 19.092522890005426, 0.03302975639277314], [106.0, 25.1, 8.36, 106.0, 15.7, 2.06, 4.34, 140.0, 559.0, 0.85, 44.6, 4.89, 4.6, 3760.5675, 76.1, 134.0, 93.0, 57.51780821917808, 1.0, 0.0, 174.0, 25.13542079534945, 0.045051100172927336], [104.0, 25.9, 3.14, 93.0, 20.1, 2.21, 4.19, 144.0, 1050.0, 1.57, 37.7, 0.88, 5.9, 3796.4474999999998, 77.3, 152.0, 93.0, 45.78904109589041, 1.0, 1.0, 175.0, 25.240816326530613, 0.022872699926082117], [102.0, 22.9, 3.71, 78.0, 28.9, 1.69, 4.91, 139.0, 1089.0, 2.37, 39.9, 1.46, 4.4, 3512.6725, 61.5, 156.0, 90.0, 62.07397260273972, 1.0, 0.0, 172.0, 20.78826392644673, 0.01942253052831182], [101.0, 27.5, 4.98, 92.0, 24.3, 2.57, 5.88, 136.0, 707.0, 2.07, 40.6, 1.26, 5.2, 3147.1500000000005, 72.56875, 150.0, 85.0, 73.28493150684932, 1.0, 0.0, 170.0, 25.110294117647058, 0.030308621315028598], [99.0, 23.7, 8.2, 88.0, 17.7, 2.03, 4.82, 137.0, 840.0, 1.28, 34.1, 3.47, 5.3, 2936.0725, 58.0, 130.0, 84.0, 62.72054794520548, 0.0, 0.0, 151.0, 25.437480812245077, 0.027062420663766067], [106.0, 21.6, 8.0, 82.0, 15.2, 2.22, 3.53, 143.0, 761.0, 2.19, 32.0, 7.36, 44.0, 5522.6, 95.0, 164.0, 94.0, 62.013698630136986, 1.0, 1.0, 180.0, 29.320987654320987, 0.029955630801363452], [91.0, 33.9, 7.22, 88.0, 21.4, 2.38, 4.83, 138.0, 1110.0, 2.69, 37.6, 7.77, 5.6, 3551.575, 55.0, 138.0, 94.0, 34.50958904109589, 0.0, 0.0, 165.0, 20.202020202020204, 0.02352046254381144], [102.0, 26.3, 4.7, 77.0, 35.8, 2.29, 4.54, 145.0, 824.0, 1.99, 38.4, 3.11, 4.8, 3832.6974999999993, 51.6, 136.0, 92.0, 29.85753424657534, 1.0, 0.0, 175.0, 16.848979591836734, 0.034307677588640735], [93.0, 32.7, 8.84, 120.0, 19.3, 2.36, 8.25, 131.0, 926.0, 1.37, 34.0, 0.41, 5.6, 3155.7999999999993, 77.9, 150.0, 107.0, 32.413698630136984, 0.0, 1.0, 169.0, 27.274955358705935, 0.029696834564792197], [106.0, 25.9, 6.88, 157.0, 11.4, 2.15, 4.01, 144.0, 451.0, 1.18, 35.3, 4.49, 5.9, 4467.139999999999, 52.0, 165.0, 94.0, 48.534246575342465, 1.0, 0.0, 170.0, 17.99307958477509, 0.06221335199000787], [101.0, 22.8, 6.43, 67.0, 31.9, 2.07, 5.25, 140.9, 1019.0, 1.96, 38.6, 0.43, 5.0, 4620.495, 65.0, 147.0, 86.0, 50.821917808219176, 1.0, 0.0, 171.0, 22.229061933586404, 0.02289807370521281], [107.0, 25.6, 3.86, 105.0, 23.1, 1.66, 4.05, 142.0, 1055.0, 1.77, 35.4, 2.0, 4.8, 3980.68, 97.0, 179.0, 110.0, 43.97260273972603, 1.0, 0.0, 171.0, 33.1726001162751, 0.023063466010679184], [101.0, 24.1, 6.3, 82.0, 17.7, 1.72, 4.28, 137.0, 640.0, 1.06, 27.8, 10.11, 4.3, 2985.5675, 39.0, 140.0, 88.0, 46.706849315068496, 1.0, 0.0, 158.0, 15.622496394808522, 0.041325008816326315], [99.0, 20.4, 6.33, 125.0, 19.2, 2.66, 4.2, 139.0, 801.0, 1.96, 42.0, 0.83, 5.5, 2962.64, 52.0, 128.0, 65.0, 54.1945205479452, 0.0, 0.0, 160.0, 20.312499999999996, 0.030320377034962428], [92.0, 32.9, 5.36, 106.0, 33.2, 2.56, 5.03, 138.0, 1417.0, 1.75, 40.0, 3.05, 3.9, 3439.85, 67.0, 160.0, 100.0, 59.227397260273975, 1.0, 0.0, 166.0, 24.31412396574249, 0.014428414987740916], [99.0, 29.4, 4.45, 153.0, 11.3, 2.47, 4.01, 139.0, 671.0, 0.96, 36.8, 2.27, 4.1, 4891.22, 49.0, 163.0, 119.0, 25.936986301369863, 1.0, 0.0, 150.0, 21.77777777777778, 0.04523168827959852], [96.0, 28.8, 9.47, 133.0, 20.0, 2.39, 4.91, 136.0, 600.0, 1.99, 31.0, 2.19, 4.6, 2082.88, 48.0, 130.0, 80.0, 62.032876712328765, 0.0, 1.0, 157.0, 19.473406629072173, 0.04064764936979478], [88.0, 24.4, 10.0, 127.0, 12.9, 2.18, 3.87, 133.0, 775.0, 2.18, 33.1, 2.25, 6.2, 2592.94, 49.5, 126.0, 75.0, 69.68493150684931, 0.0, 1.0, 160.0, 19.335937499999996, 0.02839875352814409], [99.0, 26.2, 7.49, 94.0, 23.9, 2.43, 4.13, 137.0, 804.0, 2.23, 51.3, 0.64, 5.2, 3379.5375000000004, 48.5, 124.0, 77.0, 42.52602739726027, 0.0, 0.0, 158.0, 19.427976285851624, 0.03283830744093955], [101.0, 33.7, 4.15, 73.0, 16.5, 2.15, 5.05, 138.0, 726.0, 1.68, 38.5, 3.63, 5.8, 2821.8899999999994, 67.0, 150.0, 80.0, 41.0027397260274, 0.0, 0.0, 162.0, 25.529644871208653, 0.03741223938435139], [103.0, 26.3, 7.3, 86.0, 28.1, 2.23, 3.83, 146.0, 1512.0, 1.95, 36.9, 91.92, 2.5, 2819.3524999999995, 74.0, 128.0, 78.0, 58.14520547945205, 1.0, 1.0, 176.0, 23.889462809917354, 0.013433754577485408], [103.0, 26.2, 8.68, 91.0, 19.7, 2.18, 3.79, 139.0, 603.0, 1.39, 30.7, 5.22, 8.6, 2518.48, 53.0, 160.0, 90.0, 45.31506849315068, 1.0, 1.0, 170.0, 18.339100346020764, 0.044723075835881206], [105.0, 24.5, 6.3, 127.0, 15.4, 2.11, 3.51, 141.0, 599.0, 1.26, 31.4, 8.97, 7.0, 6012.795, 67.5, 100.0, 75.0, 75.36986301369863, 0.0, 1.0, 170.0, 23.356401384083046, 0.037175044712202523], [108.0, 18.2, 6.17, 98.0, 31.3, 2.05, 4.13, 141.0, 673.0, 2.18, 43.2, 0.78, 4.7, 4041.53, 73.0, 157.0, 79.0, 83.36712328767123, 1.0, 1.0, 171.0, 24.96494647925858, 0.02998724204521486], [104.0, 14.6, 4.72, 98.0, 35.9, 2.04, 5.08, 137.0, 1039.0, 2.4, 40.9, 0.77, 6.0, 3197.76, 82.0, 148.0, 92.0, 54.23561643835617, 1.0, 1.0, 180.0, 25.30864197530864, 0.021746548331209217], [106.0, 29.7, 5.64, 95.0, 25.2, 1.85, 5.36, 143.0, 395.0, 1.52, 30.4, 1.35, 5.2, 4098.860000000001, 52.5, 160.0, 93.0, 55.69041095890411, 1.0, 0.0, 160.0, 20.507812499999996, 0.06952514307854908], [97.8, 25.0, 8.93, 91.0, 22.6, 2.07, 6.31, 141.0, 1165.0, 2.23, 34.7, 2.28, 5.5, 4132.42, 97.0, 147.0, 102.0, 39.68767123287671, 1.0, 1.0, 181.0, 29.60837581270413, 0.021040291878486612], [105.0, 18.9, 4.96, 79.0, 15.5, 2.03, 4.94, 139.0, 449.0, 1.36, 29.6, 7.42, 10.9, 3413.0699999999997, 72.0, 152.0, 88.0, 68.9041095890411, 1.0, 1.0, 172.0, 24.337479718766904, 0.05435032984023289], [108.0, 23.0, 4.3, 74.0, 26.6, 2.04, 3.69, 143.0, 1172.0, 1.57, 37.8, 20.24, 4.8, 2607.4400000000005, 60.2, 149.0, 80.0, 55.90684931506849, 1.0, 0.0, 176.0, 19.434400826446282, 0.01866784977629824], [98.0, 30.1, 7.55, 108.0, 13.5, 2.12, 3.77, 138.0, 676.0, 1.26, 37.5, 25.03, 6.5, 3128.165, 93.6, 140.0, 90.0, 50.3041095890411, 1.0, 1.0, 175.0, 30.563265306122446, 0.037607631437926815], [107.0, 22.5, 7.11, 157.0, 20.8, 1.84, 4.12, 142.0, 713.0, 1.3, 36.3, 0.39, 6.1, 2886.3275, 34.0, 118.0, 85.0, 37.556164383561644, 0.0, 1.0, 143.0, 16.626729913443203, 0.0393281794995542], [108.5, 26.0, 4.6, 91.0, 19.2, 2.03, 4.9, 140.4, 676.0, 1.33, 32.2, 1.92, 4.6, 3399.37, 89.0, 141.0, 69.0, 46.98082191780822, 1.0, 1.0, 180.0, 27.469135802469133, 0.038679334042073736], [109.0, 17.3, 22.13, 75.0, 29.9, 1.94, 3.47, 139.0, 516.0, 2.26, 35.2, 7.82, 5.4, 2160.0600000000004, 29.3, 128.0, 64.0, 76.64657534246575, 0.0, 1.0, 146.0, 13.745543253893791, 0.04420956961659435], [97.0, 26.5, 5.97, 64.0, 26.2, 2.27, 4.5, 135.0, 669.0, 1.02, 33.7, 1.33, 4.6, 4077.2225000000003, 59.4, 134.0, 72.0, 64.23287671232876, 1.0, 1.0, 170.0, 20.55363321799308, 0.03451682494410432], [100.0, 26.7, 7.04, 121.0, 16.3, 2.11, 4.79, 137.0, 458.0, 1.49, 38.5, 0.92, 4.2, 4352.26, 70.0, 143.0, 69.0, 63.515068493150686, 1.0, 0.0, 170.0, 24.221453287197235, 0.05495856758648076], [109.0, 17.0, 4.1, 66.0, 38.1, 2.19, 5.2, 141.0, 1049.0, 2.38, 38.0, 0.53, 4.1, 4089.95, 53.5, 140.0, 100.0, 26.805479452054794, 1.0, 0.0, 168.0, 18.955498866213155, 0.026168691556422125], [110.0, 25.7, 7.5, 77.0, 22.0, 2.09, 4.04, 148.0, 954.0, 1.79, 33.1, 9.65, 6.5, 3461.6825, 89.15, 144.0, 80.0, 44.676712328767124, 1.0, 1.0, 178.0, 28.137230147708625, 0.025864974908308722], [104.0, 22.3, 5.74, 92.0, 6.9, 2.24, 3.8, 138.0, 164.0, 1.24, 34.8, 0.53, 9.6, 3487.6824999999994, 58.0, 108.0, 70.0, 72.72328767123288, 0.0, 1.0, 155.0, 24.141519250780433, 0.18178856860167705], [102.0, 17.9, 12.19, 114.0, 16.1, 2.19, 4.65, 139.0, 814.0, 2.32, 42.6, 13.12, 7.9, 3833.705, 93.0, 102.0, 70.0, 69.93150684931507, 1.0, 1.0, 172.0, 31.435911303407252, 0.026288896302478014], [103.0, 16.0, 11.43, 93.0, 23.6, 2.32, 4.53, 136.0, 511.0, 1.67, 42.3, 1.54, 11.0, 6661.605, 67.0, 144.0, 77.0, 71.12054794520547, 0.0, 1.0, 160.0, 26.171874999999996, 0.046332172602671556], [97.0, 18.9, 3.26, 94.0, 30.6, 1.6, 4.34, 135.0, 702.0, 2.49, 45.3, 0.26, 9.1, 2119.9624999999996, 47.0, 134.0, 78.0, 60.95890410958904, 0.0, 1.0, 155.0, 19.562955254942764, 0.03409574872865706], [103.0, 27.8, 3.14, 95.0, 14.6, 2.02, 3.64, 141.0, 472.0, 1.1, 25.9, 1.54, 8.2, 5049.660000000001, 49.4, 111.0, 79.0, 30.315068493150687, 0.0, 1.0, 161.0, 19.05790671656186, 0.06802185467409412], [95.8, 21.0, 3.23, 70.0, 50.9, 2.55, 5.44, 138.3, 1177.0, 2.12, 43.4, 3.4, 5.4, 9696.265, 62.5, 125.0, 85.0, 50.534246575342465, 1.0, 0.0, 170.0, 21.626297577854675, 0.019235912542166524], [108.0, 16.0, 8.92, 68.0, 33.2, 1.81, 4.73, 138.0, 1483.0, 2.06, 40.6, 0.4, 5.9, 8001.529999999999, 73.0, 161.0, 94.0, 46.364383561643834, 1.0, 0.0, 169.0, 25.55932915514163, 0.014961491557461433], [95.0, 25.1, 5.43, 90.0, 23.9, 2.24, 4.17, 134.0, 1000.0, 2.45, 38.7, 0.65, 6.2, 9235.45, 57.0, 134.0, 79.0, 32.21095890410959, 1.0, 0.0, 172.0, 19.2671714440238, 0.0265824536014812], [108.0, 18.6, 6.09, 103.0, 17.3, 2.23, 4.43, 139.0, 658.0, 1.85, 39.5, 10.65, 4.5, 5298.4400000000005, 55.6, 148.0, 77.0, 80.12876712328767, 0.0, 1.0, 152.0, 24.065096952908586, 0.03203846238471937], [93.0, 22.9, 9.63, 106.0, 18.5, 2.71, 4.06, 134.0, 581.0, 2.1, 35.4, 6.1, 7.1, 4443.174999999999, 39.0, 95.0, 60.0, 30.96164383561644, 0.0, 1.0, 160.0, 15.234374999999996, 0.052912149111850874], [106.0, 25.0, 5.37, 98.0, 16.9, 2.15, 4.1, 142.0, 604.0, 1.1, 39.0, 42.18, 5.0, 6352.200000000001, 57.5, 157.0, 96.0, 61.821917808219176, 1.0, 1.0, 158.0, 23.033167761576667, 0.03988867515483146], [100.0, 24.4, 9.21, 68.0, 26.0, 2.14, 4.81, 134.0, 623.0, 2.04, 30.2, 14.35, 7.6, 4553.33, 44.0, 103.0, 58.0, 67.87945205479453, 1.0, 1.0, 166.0, 15.967484395412978, 0.03683686932182778], [106.0, 20.3, 3.91, 97.0, 18.5, 1.91, 4.43, 138.0, 523.0, 1.5, 41.6, 0.43, 4.5, 5895.08, 56.0, 112.0, 57.0, 81.69041095890411, 1.0, 1.0, 161.0, 21.60410477990818, 0.04125149561314159], [103.0, 30.5, 7.79, 113.0, 14.5, 2.33, 5.16, 142.0, 856.0, 1.67, 44.2, 0.78, 4.8, 8025.025, 73.0, 110.0, 85.0, 29.53150684931507, 1.0, 0.0, 183.0, 21.798202394816204, 0.032763216942536914], [106.0, 24.0, 3.68, 81.0, 16.3, 2.06, 4.31, 140.0, 482.0, 1.14, 35.4, 0.17, 3.5, 7105.660000000001, 50.6, 141.0, 98.0, 38.16712328767123, 0.0, 0.0, 158.0, 20.269187630187467, 0.06269522484688661], [108.0, 25.4, 4.93, 77.0, 47.4, 2.0, 4.49, 146.0, 565.0, 1.92, 32.8, 1.85, 6.4, 5715.445, 58.0, 160.0, 80.0, 54.46027397260274, 0.0, 1.0, 160.0, 22.656249999999996, 0.04623807403185801]]\n",
      "['Cl', 'CO2CP', 'WBC', 'Hb', 'Urea', 'Ca', 'K', 'Na', 'Scr', 'P', 'Albumin', 'hsCRP', 'Glucose', 'Appetite', 'Weight', 'SBP', 'DBP', 'age', 'gender', 'diab', 'height', 'bmi', 'gfr']\n",
      "data rounds: [(19.9, 35.215), (35.215, 39.5), (39.5, 51.3)]\n",
      "data counter: Counter({1: 222, 0: 217, 2: 217})\n",
      "(656, 50) 50\n",
      "group 0.0, all count 217\n",
      "sum of diabetes: 121.0, ratio: 0.56\n",
      "sum of female: 100.0, ratio: 0.46\n",
      "group 1.0, all count 222\n",
      "sum of diabetes: 76.0, ratio: 0.34\n",
      "sum of female: 117.0, ratio: 0.53\n",
      "group 2.0, all count 217\n",
      "sum of diabetes: 47.0, ratio: 0.22\n",
      "sum of female: 110.0, ratio: 0.51\n",
      "group all\n",
      "sum of diabetes: 244.0, ratio: 0.37\n",
      "sum of female: 327.0, ratio: 0.50\n",
      "(49, 3) (49,) (49, 1)\n",
      "result saved as .//result/baseline_sta_Albumin.xlsx\n",
      "Albumin & g/L & 37.15 & 4.90 & 31.58 & 3.00 & 37.56 & 1.20 & 42.29 & 2.12 & <0.001 \\\\\n",
      "Age & year & 59.11 & 15.78 & 63.39 & 14.03 & 60.27 & 15.85 & 53.64 & 15.84 & <0.001 \\\\\n",
      "Gender & male & 0.50 & 0.50 & 0.54 & 0.50 & 0.47 & 0.50 & 0.49 & 0.50 & 0.34 \\\\\n",
      "Height & cm & 162.60 & 9.46 & 162.86 & 8.68 & 161.89 & 10.47 & 163.08 & 9.10 & 0.81 \\\\\n",
      "Weight & kg & 61.17 & 11.95 & 59.95 & 12.13 & 60.44 & 11.58 & 63.13 & 11.95 & <0.01 \\\\\n",
      "BMI & - & 23.19 & 5.89 & 22.50 & 3.66 & 23.42 & 8.71 & 23.66 & 3.67 & 0.04 \\\\\n",
      "Diab & yes & 0.37 & 0.48 & 0.56 & 0.50 & 0.34 & 0.48 & 0.22 & 0.41 & <0.001 \\\\\n",
      "SBP & mmHg & 135.65 & 21.38 & 137.24 & 21.97 & 135.15 & 21.69 & 134.58 & 20.44 & 0.19 \\\\\n",
      "DBP & mmHg & 78.97 & 14.20 & 75.74 & 14.55 & 79.37 & 14.42 & 81.79 & 12.98 & <0.001 \\\\\n",
      "WBC & $\times 10^{9}$/L & 6.88 & 2.28 & 6.88 & 2.46 & 6.77 & 2.40 & 7.00 & 1.94 & 0.58 \\\\\n",
      "Hb & g/L & 108.11 & 21.78 & 104.12 & 20.54 & 109.05 & 21.70 & 111.15 & 22.55 & <0.001 \\\\\n",
      "Urea & mmol/L & 21.26 & 6.54 & 20.02 & 6.91 & 21.13 & 5.82 & 22.63 & 6.62 & <0.001 \\\\\n",
      "Scr & umol/L & 720.38 & 254.87 & 616.76 & 225.81 & 734.61 & 243.01 & 809.44 & 258.08 & <0.001 \\\\\n",
      "K & mmol/L & 4.33 & 0.78 & 4.23 & 0.87 & 4.32 & 0.73 & 4.45 & 0.70 & <0.01 \\\\\n",
      "Na & mmol/L & 139.17 & 4.87 & 138.51 & 7.06 & 139.13 & 3.66 & 139.88 & 2.71 & <0.01 \\\\\n",
      "Cl & mmol/L & 101.48 & 6.33 & 101.63 & 6.31 & 100.76 & 7.47 & 102.06 & 4.86 & 0.48 \\\\\n",
      "Ca & mmol/L & 2.24 & 0.84 & 2.09 & 0.28 & 2.25 & 0.29 & 2.39 & 1.39 & <0.001 \\\\\n",
      "P & mmol/L & 1.61 & 0.49 & 1.52 & 0.45 & 1.63 & 0.44 & 1.69 & 0.55 & <0.001 \\\\\n",
      "Hs-CRP & mg/L & 5.66 & 13.29 & 7.45 & 18.04 & 5.73 & 11.19 & 3.78 & 8.69 & <0.01 \\\\\n",
      "Glucose & mmol/L & 6.19 & 2.94 & 6.74 & 3.88 & 6.09 & 2.13 & 5.74 & 2.45 & <0.001 \\\\\n",
      "CO2CP & mmol/L & 25.87 & 4.44 & 26.56 & 4.33 & 26.13 & 4.42 & 24.93 & 4.43 & <0.001 \\\\\n",
      "Appetite & g & 3395.54 & 1092.43 & 3281.11 & 1031.30 & 3343.14 & 1092.89 & 3563.59 & 1135.29 & <0.01 \\\\\n",
      "GFR & ml/min & 0.06 & 0.60 & 0.12 & 1.04 & 0.04 & 0.01 & 0.03 & 0.02 & 0.14 \\\\\n",
      "Water &g/d & & 1520.81 & 572.28 & 1486.04 & 561.38 & 1490.19 & 585.03 & 1586.90 & 566.77 & 0.07 \\\\\n",
      "Protein &g/d & & 52.01 & 18.30 & 51.40 & 17.36 & 50.96 & 18.89 & 53.69 & 18.57 & 0.19 \\\\\n",
      "Fat &g/d & & 58.32 & 24.01 & 57.85 & 23.15 & 56.65 & 22.79 & 60.49 & 25.93 & 0.25 \\\\\n",
      "Carbohydrate &g/d & & 214.39 & 82.84 & 197.58 & 70.78 & 214.50 & 82.95 & 231.09 & 90.52 & <0.001 \\\\\n",
      "Calories &kcal/d & & 1544.92 & 523.92 & 1471.84 & 477.13 & 1528.79 & 518.59 & 1634.50 & 562.02 & <0.01 \\\\\n",
      "Df &g/d & & 9.89 & 5.90 & 9.18 & 4.37 & 10.04 & 5.86 & 10.44 & 7.10 & 0.03 \\\\\n",
      "K &mg/d & & 1475.64 & 591.13 & 1431.76 & 543.80 & 1457.93 & 625.32 & 1537.64 & 598.10 & 0.06 \\\\\n",
      "Na &mg/d & & 2307.36 & 1182.15 & 2432.96 & 1285.46 & 2267.54 & 1207.20 & 2222.48 & 1034.19 & 0.06 \\\\\n",
      "Mg &mg/d & & 246.99 & 98.91 & 239.63 & 89.11 & 244.99 & 100.59 & 256.40 & 105.96 & 0.08 \\\\\n",
      "Ca &mg/d & & 445.67 & 230.32 & 457.24 & 248.81 & 423.02 & 213.19 & 457.28 & 227.29 & 1.00 \\\\\n",
      "P &mg/d & & 792.38 & 283.65 & 779.30 & 264.41 & 783.71 & 282.33 & 814.33 & 302.94 & 0.20 \\\\\n",
      "Fe &mg/d & & 15.29 & 6.58 & 14.86 & 5.75 & 15.36 & 7.16 & 15.65 & 6.72 & 0.21 \\\\\n",
      "Zn &mg/d & & 7.87 & 3.33 & 7.80 & 3.15 & 7.89 & 3.57 & 7.93 & 3.26 & 0.67 \\\\\n",
      "Cu &mg/d & & 1.33 & 0.89 & 1.19 & 0.76 & 1.28 & 0.63 & 1.51 & 1.16 & <0.001 \\\\\n",
      "Mn &mg/d & & 3.93 & 1.86 & 3.64 & 1.58 & 3.97 & 1.94 & 4.18 & 2.00 & <0.01 \\\\\n",
      "Se &mg/d & & 36.77 & 21.34 & 35.62 & 16.06 & 35.34 & 15.07 & 39.39 & 29.68 & 0.07 \\\\\n",
      "Retinol &ug/d & & 166.30 & 207.21 & 177.98 & 179.76 & 165.28 & 245.23 & 155.67 & 190.00 & 0.26 \\\\\n",
      "VitaminA &ugRAE/d & & 463.23 & 392.35 & 461.16 & 401.21 & 471.56 & 416.81 & 456.78 & 357.71 & 0.91 \\\\\n",
      "Carotene &ug/d & & 1743.30 & 1978.37 & 1671.51 & 2068.62 & 1769.53 & 2071.96 & 1788.24 & 1785.82 & 0.54 \\\\\n",
      "VitaminE &mg/d & & 20.96 & 12.88 & 20.74 & 14.13 & 20.10 & 11.63 & 22.05 & 12.75 & 0.29 \\\\\n",
      "Thiamine &mg/d & & 1.66 & 10.08 & 1.98 & 12.96 & 1.16 & 3.71 & 1.86 & 11.22 & 0.90 \\\\\n",
      "Riboflavin &mg/d & & 1.73 & 9.85 & 2.11 & 12.86 & 1.22 & 3.38 & 1.88 & 10.80 & 0.81 \\\\\n",
      "Nicotinic &mg/d & & 11.98 & 6.00 & 11.61 & 5.17 & 12.13 & 6.76 & 12.20 & 5.94 & 0.31 \\\\\n",
      "Ascorbic &mg/d & & 88.58 & 72.44 & 83.90 & 71.42 & 85.61 & 68.44 & 96.31 & 76.99 & 0.07 \\\\\n",
      "DPI &g/(kg·d) & & 0.91 & 0.30 & 0.89 & 0.29 & 0.89 & 0.31 & 0.93 & 0.29 & 0.19 \\\\\n",
      "DEI &kcal/(kg·d) & & 26.93 & 8.58 & 25.60 & 8.12 & 26.88 & 8.71 & 28.32 & 8.72 & <0.001 \\\\\n",
      "[[98.4, 29.900000000000006, 6.230799999999999, 116.68, 18.759999999999998, 2.4484, 3.7484, 139.028, 754.92, 1.4076, 36.88, 1.0531999999999997, 8.588, 2733.6952000000015, 59.28729905761404, 131.36, 71.04, 70.90334246575343, 1.0, 1.0, 160.0, 23.159101194380483, 0.028911824662749556], [94.5, 29.907142857142855, 9.50357142857143, 129.0, 22.450000000000006, 2.625, 3.5249999999999995, 133.95714285714286, 761.1428571428571, 0.9542857142857144, 32.05714285714286, 5.645714285714285, 6.47142857142857, 2626.6971428571437, 54.0, 135.42857142857142, 69.64285714285714, 76.22113502935419, 1.0, 1.0, 165.0, 19.834710743801654, 0.027397005313445237], [93.5, 26.049999999999997, 4.25, 92.25, 20.325000000000003, 2.2225, 4.6225, 133.025, 772.0, 1.84, 29.75, 0.065, 7.125, 3111.0725, 47.0, 73.75, 45.0, 51.44041095890411, 0.0, 0.0, 163.5, 17.581759859345922, 0.03255529710748888], [98.92307692307692, 26.315384615384616, 14.65153846153846, 134.15384615384616, 19.584615384615383, 2.4407692307692312, 3.664615384615385, 141.24615384615385, 1005.1538461538462, 1.855384615384615, 37.87692307692308, 19.900000000000002, 5.407692307692309, 4055.8346153846146, 65.0, 122.0, 68.6923076923077, 73.16712328767122, 1.0, 0.0, 165.0, 23.8751147842057, 0.020113621726464918], [94.11785714285715, 26.010714285714283, 11.416428571428568, 118.85714285714286, 20.92142857142857, 2.5892857142857144, 3.970714285714286, 135.35714285714286, 884.4285714285714, 1.9074999999999993, 35.628571428571426, 45.77642857142856, 4.539285714285715, 3103.5419642857146, 66.94852250283684, 122.53571428571429, 69.67857142857143, 67.82592954990216, 0.0, 0.0, 155.5, 27.687274739854566, 0.024594517322592525], [102.5, 24.85, 7.975, 119.25, 31.174999999999997, 1.975, 4.047499999999999, 134.72500000000002, 1213.5, 1.81, 30.75, 0.07500000000000001, 4.8, 3892.5775, 63.325, 97.5, 67.5, 50.11986301369863, 1.0, 0.0, 164.0, 23.544393218322433, 0.01868317599760415], [95.1695652173913, 30.247826086956533, 8.327536231884057, 119.97101449275362, 16.18478260869565, 2.575072463768116, 4.532463768115944, 134.73768115942028, 868.7898550724638, 1.6330434782608696, 39.19855072463767, 19.795942028985507, 6.231739130434784, 3318.621050724643, 66.51869714612309, 118.98550724637681, 72.66666666666667, 56.90085368274768, 0.0, 0.0, 160.5, 25.822224996311355, 0.13188096347613207], [99.0, 27.875, 7.489, 118.95, 18.434999999999995, 2.301, 4.22, 136.73, 384.7, 1.134, 31.6, 40.999500000000005, 5.790000000000001, 3712.47725, 50.80955024251012, 124.05, 58.85, 79.88917808219176, 1.0, 1.0, 161.0, 19.601693701057105, 0.06292699629374358], [94.875, 25.799999999999997, 10.0475, 118.625, 22.3125, 2.39875, 3.9475, 135.5375, 983.625, 1.9112499999999997, 36.5875, 8.47, 5.3625, 2981.6887500000003, 68.875, 117.125, 68.875, 72.93116438356165, 0.0, 0.0, 158.0, 27.589729210062487, 0.02094721797018058], [96.61282051282052, 26.925641025641024, 6.323846153846154, 143.69230769230768, 19.166666666666668, 2.6420512820512814, 4.006923076923078, 139.62820512820514, 861.8717948717949, 1.6853846153846155, 37.88205128205128, 17.78717948717949, 6.579487179487178, 3010.4630769230757, 60.79753993326112, 100.53846153846153, 62.8974358974359, 83.55208991921323, 1.0, 0.0, 165.0, 22.33151145390675, 0.023184445861126654], [96.8125, 27.887500000000003, 6.086875000000002, 101.5625, 30.450000000000003, 2.595625, 4.558125, 141.0875, 1193.875, 2.210625, 41.912499999999994, 2.6212499999999994, 5.687499999999998, 3719.2018749999997, 71.0, 127.25, 81.8125, 46.04383561643836, 1.0, 0.0, 170.0, 24.567474048442914, 0.01986967552893332], [97.84615384615384, 26.56153846153846, 5.874615384615385, 83.92307692307692, 21.1, 2.226923076923077, 4.024615384615385, 138.7153846153846, 758.4615384615385, 1.6830769230769234, 35.38461538461539, 25.709230769230768, 5.1692307692307695, 2191.326923076923, 50.0, 134.15384615384616, 73.0, 70.48935721812434, 0.0, 0.0, 156.5, 20.41462095152548, 0.029359070452811806], [98.45454545454545, 27.272727272727277, 5.607272727272728, 98.54545454545455, 31.58181818181818, 1.9490909090909092, 4.249999999999999, 138.72727272727272, 1186.5454545454545, 1.9254545454545455, 38.63636363636363, 0.5909090909090909, 4.71818181818182, 1814.2745454545454, 51.55, 152.27272727272728, 89.0, 58.68318804483187, 0.0, 0.0, 150.0, 22.911111111111108, 0.018306492637523118], [99.15806451612903, 24.483870967741936, 8.14322580645161, 118.74193548387096, 24.703225806451613, 2.45516129032258, 3.9238709677419346, 139.45483870967743, 956.8064516129032, 1.9164516129032259, 36.774193548387096, 7.458709677419355, 8.796774193548385, 2782.700806451612, 64.88816251760379, 142.6451612903226, 84.61290322580645, 54.03137428192664, 0.0, 0.0, 159.0, 25.666770506547927, 0.02503421931479607], [96.8, 26.560000000000002, 9.386000000000001, 117.6, 22.68, 2.4520000000000004, 3.9579999999999997, 139.35999999999999, 1005.3, 1.7920000000000003, 38.4, 27.023000000000003, 5.569999999999999, 2460.316000000001, 70.64999999999999, 149.0, 76.5, 79.72438356164383, 1.0, 0.0, 165.5, 25.7938500013691, 0.019116196209513256], [91.648, 26.591999999999995, 9.8936, 126.44, 16.052, 2.4596, 4.047999999999999, 132.996, 688.52, 1.3980000000000001, 40.692, 9.793999999999999, 6.512, 3306.2241000000004, 67.04123059160518, 126.68, 73.2, 60.57128767123289, 0.0, 0.0, 168.0, 23.753270476050588, 0.03548054256469857], [98.71428571428571, 24.916071428571435, 6.1282142857142885, 113.875, 23.871428571428574, 2.4485714285714275, 4.383035714285714, 138.9267857142857, 1344.6964285714287, 2.0762499999999995, 41.62142857142858, 4.679107142857144, 5.885714285714287, 5047.281250000002, 86.91390276585062, 138.94642857142858, 82.28571428571429, 35.28825831702544, 0.0, 0.0, 161.0, 33.530304681860535, 0.018695245275923752], [99.73076923076923, 26.07307692307692, 5.153846153846154, 111.26923076923077, 26.907692307692308, 2.480384615384615, 3.710769230769231, 136.9923076923077, 961.7961538461539, 1.6400000000000001, 37.81923076923077, 4.019230769230769, 6.6, 3273.2361538461532, 62.26548967290507, 102.61538461538461, 60.61538461538461, 66.52096944151741, 1.0, 1.0, 160.0, 24.32245690347854, 0.2672774901065433], [97.46829268292683, 28.673170731707327, 5.57658536585366, 118.39024390243902, 24.914634146341463, 2.5904878048780495, 5.000243902439024, 139.1048780487805, 864.2682926829268, 1.7919512195121947, 33.11219512195121, 14.281463414634148, 6.226829268292684, 3145.193902439025, 61.6107004271324, 143.0731707317073, 66.53658536585365, 77.47250250584698, 1.0, 0.0, 160.0, 24.066679854348592, 0.023789784180656092], [98.46428571428571, 27.274999999999995, 10.362499999999999, 123.32142857142857, 17.221428571428568, 2.598749999999999, 4.508571428571428, 138.94285714285715, 853.4642857142857, 1.728392857142857, 36.557142857142864, 14.991785714285713, 4.860714285714285, 3560.0540178571414, 52.33542767749872, 124.60714285714286, 80.51785714285714, 54.69877690802349, 1.0, 0.0, 169.0, 18.32408797923696, 0.028727877099340604], [98.94347826086955, 27.139130434782604, 7.979130434782608, 71.8695652173913, 20.695652173913043, 2.6360869565217384, 4.600434782608697, 139.6695652173913, 1024.8260869565217, 2.0782608695652174, 35.68695652173913, 13.212608695652174, 4.73913043478261, 2822.6760869565205, 65.06611982865279, 160.8695652173913, 91.1304347826087, 45.87361524717094, 0.0, 0.0, 152.0, 28.16227485658448, 0.025689284223748447], [99.79230769230769, 29.96923076923077, 7.126153846153846, 117.6923076923077, 19.484615384615385, 2.3076923076923075, 4.476923076923076, 140.92307692307693, 521.1538461538462, 1.6192307692307695, 34.84615384615385, 20.106153846153845, 5.092307692307694, 2792.223076923077, 53.20000000000001, 147.76923076923077, 69.84615384615384, 79.24952581664913, 0.0, 0.0, 153.5, 22.578488896433917, 0.04538120908887344], [102.4074074074074, 25.59629629629629, 6.244814814814815, 109.18518518518519, 17.922222222222228, 2.1255555555555556, 4.72888888888889, 140.17777777777778, 862.3333333333334, 1.5407407407407405, 38.15185185185185, 3.861111111111111, 5.1111111111111125, 3400.5700000000006, 52.61394019001195, 137.85185185185185, 74.81481481481481, 61.645560629122265, 0.0, 0.0, 153.0, 22.475945230472036, 0.026802780928446575], [101.07692307692308, 22.315384615384612, 11.708461538461536, 123.84615384615384, 20.023076923076925, 2.6092307692307695, 4.021538461538461, 140.56153846153845, 872.8461538461538, 1.8276923076923075, 41.87692307692308, 8.892307692307693, 6.176923076923076, 2763.3276923076924, 73.20000000000002, 131.30769230769232, 75.61538461538461, 67.97892518440463, 0.0, 0.0, 156.5, 29.88700507303332, 0.0254927721942299], [95.63636363636364, 25.87272727272727, 5.951818181818182, 107.63636363636364, 17.827272727272728, 2.3, 4.319090909090909, 134.43636363636364, 509.27272727272725, 1.4463636363636363, 36.31818181818182, 17.76181818181818, 8.554545454545455, 2308.1927272727276, 45.949999999999996, 119.63636363636364, 67.27272727272727, 53.790286425902856, 0.0, 1.0, 159.0, 18.175705074957477, 0.053247019037723706], [94.6875, 26.703124999999996, 8.597812500000002, 123.9375, 19.590625000000003, 2.596562499999999, 4.250937499999998, 137.578125, 858.4375, 1.7903125000000004, 38.559374999999996, 5.256875000000002, 4.796875, 3794.33765625, 54.26123201533244, 137.625, 75.75, 75.194948630137, 0.0, 0.0, 156.0, 22.29669297145481, 0.024381432497827718], [96.55, 25.616499999999995, 5.8315, 108.6, 28.585000000000008, 2.3619999999999997, 4.5685, 138.79000000000002, 1039.05, 2.6690000000000014, 36.93, 7.8115, 5.319999999999999, 3128.498499999999, 46.804150793650784, 140.2, 83.05, 68.50835616438357, 0.0, 0.0, 147.5, 21.512967902855863, 0.020769652434694426], [96.54545454545455, 25.290909090909096, 11.158181818181818, 129.3090909090909, 20.12727272727273, 2.838181818181818, 3.751818181818182, 135.98181818181817, 900.4545454545455, 1.9090909090909092, 35.47272727272727, 11.006363636363636, 6.263636363636365, 2475.695454545454, 80.54999999999998, 79.72727272727273, 50.36363636363637, 72.7332503113325, 0.0, 0.0, 154.0, 33.96441221116545, 0.023616618421250637], [97.28571428571429, 27.535714285714285, 7.545000000000001, 112.85714285714286, 25.792857142857144, 2.4199999999999995, 3.9071428571428575, 143.45714285714286, 1354.357142857143, 2.3057142857142856, 41.82857142857143, 6.9, 5.864285714285715, 3543.1500000000005, 65.09619387755102, 141.07142857142858, 82.0, 69.5252446183953, 1.0, 0.0, 171.0, 22.26195885145892, 0.014438724005854475], [94.36842105263158, 27.94736842105263, 6.465789473684212, 109.57894736842105, 23.921052631578945, 2.1999999999999997, 4.644210526315789, 136.6157894736842, 1082.9473684210527, 1.5752631578947371, 36.76842105263158, 9.596315789473683, 7.326315789473684, 2882.080394736842, 73.63382122163205, 130.78947368421052, 70.10526315789474, 70.3913482335977, 1.0, 1.0, 166.0, 26.721520257523608, 0.0313641876630416], [96.46153846153847, 30.82307692307692, 8.664615384615384, 119.07692307692308, 23.076923076923077, 2.8523076923076927, 4.938461538461539, 136.03076923076924, 700.6153846153846, 1.6223076923076922, 36.15384615384615, 4.142307692307693, 6.823076923076922, 2798.269999999999, 58.25, 126.84615384615384, 69.84615384615384, 75.39367755532139, 1.0, 1.0, 167.0, 20.886370970633582, 0.030400301269567536], [92.975, 29.012500000000006, 7.930250000000001, 127.1, 23.257499999999997, 2.48225, 4.359750000000002, 136.3825, 972.0, 1.735, 37.312500000000014, 11.857499999999998, 4.784249999999999, 3552.463687500001, 57.40554617407791, 147.025, 77.875, 74.86472602739728, 1.0, 0.0, 169.0, 20.099277397177225, 0.02073737433011586], [96.0, 25.580000000000002, 5.220666666666667, 111.53333333333333, 29.76666666666667, 1.4333333333333333, 4.704666666666667, 139.41333333333333, 1091.4666666666667, 1.582, 43.126666666666665, 2.1620000000000004, 5.426666666666667, 3999.621333333333, 60.176956521739136, 133.2, 86.53333333333333, 51.124200913242014, 1.0, 0.0, 166.0, 21.838059414188976, 0.021224520598185508], [96.11803278688524, 28.373770491803274, 8.550819672131146, 120.09344262295082, 15.847540983606557, 2.6975409836065576, 4.03, 138.38032786885248, 764.5295081967214, 1.3311475409836062, 37.90983606557377, 5.216229508196721, 9.31475409836065, 3392.2234426229525, 54.62111653195519, 131.54098360655738, 68.52459016393442, 73.2032786885246, 0.0, 1.0, 146.0, 25.62446825481105, 0.029095706891013214], [93.3157894736842, 28.0, 7.8784210526315785, 111.0, 14.747368421052634, 2.4963157894736843, 4.312631578947368, 133.47368421052633, 642.7894736842105, 1.6315789473684208, 35.66315789473684, 7.785789473684212, 5.326315789473685, 2123.0415789473677, 48.287378344338, 116.15789473684211, 74.0, 72.86085075702958, 0.0, 0.0, 155.0, 20.09880472188886, 0.0372682323673636], [96.45217391304348, 26.8695652173913, 12.06869565217391, 111.34782608695652, 21.456521739130434, 2.50304347826087, 4.725652173913044, 138.11304347826086, 936.5956521739131, 1.77304347826087, 36.70434782608696, 15.480434782608697, 7.317391304347824, 3334.3156521739147, 75.74626281794335, 126.82608695652173, 73.43478260869566, 62.93543776057176, 0.0, 1.0, 151.0, 33.220588052253554, 0.27688942882082324], [97.28125, 27.99375, 8.929687500000002, 115.46875, 19.9125, 2.2509375, 4.245937500000001, 139.45625, 1159.5625, 1.581250000000001, 34.946875, 15.004062500000002, 5.453125000000001, 3147.9858593750014, 74.93024705868395, 124.53125, 74.9375, 63.96515410958905, 1.0, 0.0, 171.0, 25.625063116406388, 0.018514918244211448], [97.0, 28.01764705882353, 8.136470588235296, 131.2941176470588, 19.55882352941176, 2.1876470588235297, 3.8011764705882354, 138.51176470588234, 885.7647058823529, 1.5405882352941176, 35.594117647058816, 1.3447058823529408, 9.476470588235294, 2459.403676470588, 59.722720010091244, 123.82352941176471, 67.0, 71.04399677679292, 1.0, 1.0, 167.0, 21.41443580267892, 0.023627456722948283], [99.53846153846153, 28.853846153846156, 11.702307692307691, 118.84615384615384, 23.607692307692307, 2.7484615384615383, 3.721538461538461, 139.54615384615386, 798.6153846153846, 1.5476923076923077, 35.61538461538461, 1.3476923076923077, 4.592307692307691, 2767.3215384615387, 55.350000000000016, 99.46153846153847, 62.69230769230769, 76.90495258166492, 0.0, 0.0, 159.0, 21.893912424350297, 0.026129412731928887], [100.175, 24.8, 7.49375, 113.625, 23.437500000000007, 2.316875, 3.9218749999999996, 140.28750000000002, 753.1875, 1.654375, 34.0375, 31.3875, 5.10625, 2435.6075, 62.645367427075534, 121.0625, 67.1875, 69.06335616438356, 1.0, 0.0, 158.5, 24.93620890926391, 0.02957903466255391], [97.91891891891892, 28.18918918918919, 7.328108108108108, 105.43243243243244, 16.378378378378375, 2.5064864864864864, 4.098918918918918, 139.74594594594595, 961.2972972972973, 1.6486486486486485, 39.25405405405404, 2.212162162162162, 5.11891891891892, 2278.7000000000003, 49.7300654691959, 165.0, 93.5945945945946, 44.6741206960385, 0.0, 0.0, 154.60000000000008, 20.806548916117844, 0.027146450540088164], [98.21428571428571, 27.442857142857143, 9.209285714285713, 122.0, 15.557142857142852, 2.4778571428571428, 3.958571428571429, 139.5142857142857, 688.9285714285714, 1.4235714285714285, 36.67857142857143, 8.912142857142857, 10.171428571428573, 1903.5285714285715, 72.0, 130.85714285714286, 77.64285714285714, 78.56242661448141, 0.0, 1.0, 156.0, 29.585798816568055, 0.03100212801523345], [96.83333333333333, 27.79166666666666, 8.421666666666669, 133.16666666666666, 12.858333333333334, 2.6408333333333336, 3.6624999999999996, 140.07500000000002, 984.5, 1.1525, 39.25, 9.280833333333332, 5.699999999999999, 1881.528333333333, 47.0, 118.0, 78.33333333333333, 67.88812785388129, 1.0, 0.0, 166.0, 17.056176513282047, 0.02134422663233136], [98.61904761904762, 28.30476190476191, 6.403333333333333, 117.47619047619048, 25.295238095238098, 2.4009523809523805, 4.721428571428571, 138.8761904761905, 887.3809523809524, 1.3976190476190478, 36.73809523809524, 8.723333333333333, 7.019047619047621, 3288.9079761904763, 73.12502631502782, 129.14285714285714, 69.57142857142857, 57.83118069145466, 1.0, 1.0, 172.0, 24.717761734392855, 0.02662224869801886], [104.0, 25.28125, 10.0375, 116.8125, 20.2375, 2.565625, 4.533125, 138.3125, 719.0625, 1.5306250000000001, 40.8, 6.436875000000001, 6.000000000000001, 2576.636875, 48.57369577412117, 130.0, 73.6875, 66.91078767123288, 0.0, 0.0, 158.0, 19.457497105480353, 0.031950336489731855], [101.10666666666667, 23.876666666666665, 3.9673333333333334, 72.23333333333333, 36.06333333333334, 1.3393333333333333, 4.178333333333333, 140.12, 1099.4233333333332, 1.8106666666666662, 33.333333333333336, 3.533333333333333, 5.266666666666664, 3735.4076666666665, 71.92580589410987, 120.1, 80.33333333333333, 42.731689497716914, 1.0, 0.0, 166.19566596194508, 26.040261937221107, 0.14758068555432896], [96.92291666666667, 27.137500000000006, 7.706874999999999, 101.45833333333333, 21.67916666666666, 2.335833333333334, 4.346875, 139.1625, 706.2083333333334, 1.735625, 33.87500000000001, 15.064374999999997, 6.3500000000000005, 2602.489427083333, 53.94942412470005, 133.85416666666666, 75.5625, 70.30205479452057, 0.0, 0.0, 154.5, 22.601113991139613, 0.03320613015053448], [97.26603773584907, 28.60754716981132, 8.062075471698115, 120.84905660377359, 19.556603773584907, 2.503207547169811, 4.187169811320755, 138.58490566037736, 859.2471698113208, 1.5890566037735847, 34.91320754716983, 6.842641509433963, 7.167358490566037, 3119.4370754716965, 62.763210627398564, 124.16981132075472, 70.49056603773585, 74.01225122770742, 0.0, 0.0, 152.0, 27.16551706518291, 0.05893365136548944], [98.35897435897436, 27.305128205128213, 8.030000000000001, 118.48717948717949, 27.46410256410256, 2.23, 4.467179487179486, 139.4, 1030.923076923077, 1.5312820512820515, 37.70000000000001, 3.4664102564102577, 8.617948717948718, 3685.738974358974, 75.31555819009652, 128.33333333333334, 70.92307692307692, 58.61053740779767, 1.0, 1.0, 161.5, 28.876173715878224, 0.022253180618958975], [95.9, 23.213333333333345, 8.142, 107.80033333333334, 19.199999999999996, 2.268333333333333, 4.209, 136.60666666666665, 1040.9333333333334, 1.642666666666667, 41.193333333333335, 5.132333333333334, 12.183333333333334, 3152.2030833333324, 62.75338956666209, 143.36666666666667, 85.1, 62.11497716894978, 0.0, 0.0, 148.0, 28.649283038103583, 0.021917502072645565], [100.375, 28.912499999999998, 10.67875, 110.625, 14.950000000000001, 2.2012500000000004, 3.4362500000000002, 140.95, 645.125, 1.3062500000000001, 34.4125, 8.67625, 6.4375, 2077.07625, 39.550000000000004, 144.75, 75.0, 76.15856164383561, 0.0, 0.0, 149.0, 17.81451285978109, 0.04292159277755946], [98.15625, 26.065625, 3.6912500000000006, 105.1875, 25.253124999999994, 2.6415625, 4.601562499999999, 137.2, 1215.6875, 1.8553124999999995, 42.071875, 1.6740624999999993, 4.799999999999998, 2794.646796875002, 64.54975788675772, 125.34375, 78.59375, 48.74837328767123, 1.0, 0.0, 171.5, 21.94655556333083, 0.018861016648802603], [94.09444444444443, 25.858333333333334, 10.535833333333334, 116.41666666666667, 19.67777777777778, 2.533611111111112, 4.297222222222221, 136.21944444444443, 682.4166666666666, 1.5694444444444446, 35.28611111111111, 14.896388888888888, 7.747222222222222, 2553.955902777778, 52.30090632334142, 96.86111111111111, 58.97222222222222, 76.52427701674281, 0.0, 0.0, 146.0, 24.535985327144594, 0.03305313955779971], [95.2195652173913, 30.52391304347826, 8.68630434782609, 129.41304347826087, 28.09565217391304, 2.4039130434782607, 5.062608695652174, 137.55434782608697, 964.6739130434783, 1.9906521739130427, 38.695652173913025, 0.9104347826086956, 10.130434782608695, 3659.326086956518, 64.03220042130944, 129.8695652173913, 79.17391304347827, 41.31846337105419, 0.0, 1.0, 167.0, 22.9596616663593, 0.02684486558963062], [90.32121212121211, 28.64545454545455, 8.115454545454543, 123.48484848484848, 19.17272727272727, 2.735151515151516, 3.845151515151515, 134.27878787878788, 1142.2121212121212, 1.6160606060606058, 40.15454545454545, 5.451515151515153, 4.745454545454544, 3934.767954545454, 71.57954294463381, 108.60606060606061, 72.15151515151516, 55.38787878787879, 1.0, 0.0, 168.0, 25.361232619272183, 0.019865966698007255], [94.6875, 28.112500000000004, 7.98875, 119.625, 28.431250000000002, 2.81125, 4.977499999999999, 135.86875, 1364.6875, 1.7412499999999995, 42.7375, 2.131875, 5.16875, 4953.946875000001, 69.36523905781718, 139.3125, 80.5625, 41.628595890410956, 1.0, 0.0, 171.5, 23.583792147087415, 0.017369315573189863], [100.53846153846153, 29.02051282051282, 5.807948717948719, 113.6923076923077, 19.430769230769233, 2.375128205128205, 4.333589743589744, 142.22564102564104, 982.6666666666666, 1.4205128205128206, 39.54102564102564, 1.6392307692307695, 5.695384615384615, 2384.7553205128206, 65.51033507163017, 157.5897435897436, 89.1025641025641, 61.622409553916405, 0.0, 0.0, 153.0, 27.985106186351477, 0.02281961264879077], [96.66666666666667, 30.191666666666663, 7.155833333333334, 112.16666666666667, 19.999999999999996, 2.363333333333333, 3.6183333333333336, 140.10833333333332, 1026.8333333333333, 1.5916666666666666, 40.40833333333333, 1.5574999999999999, 5.625, 1850.055, 47.0, 143.0, 76.91666666666667, 70.5986301369863, 0.0, 0.0, 157.0, 19.067710657633167, 0.02030565628498939], [96.15555555555555, 27.042222222222225, 8.11111111111111, 119.42222222222222, 27.02422222222223, 2.5222222222222213, 4.8519999999999985, 140.79333333333332, 1480.1777777777777, 2.0306666666666664, 43.364444444444445, 7.567555555555558, 5.564444444444446, 3958.0953333333373, 91.5863053958006, 139.0888888888889, 90.66666666666667, 52.326453576864516, 1.0, 0.0, 181.0, 27.955894324288206, 0.014635827185427431], [102.94130434782609, 28.582608695652176, 8.576739130434783, 129.8913043478261, 15.286956521739132, 2.3795652173913053, 3.943913043478261, 143.15652173913043, 721.3478260869565, 1.2849999999999997, 37.69999999999999, 0.9604347826086957, 5.683695652173914, 2918.406304347828, 66.77033896879598, 138.7608695652174, 78.1086956521739, 76.6922572960095, 1.0, 0.0, 155.5, 27.613585041013213, 0.031045021733462918], [94.7, 26.8, 9.180000000000001, 113.1, 20.779999999999994, 2.7920000000000003, 4.793000000000001, 136.64000000000001, 1271.2, 1.7559999999999998, 45.5, 4.061, 5.280000000000001, 2941.793, 56.0, 136.8, 89.5, 35.62301369863013, 0.0, 0.0, 153.5, 23.766830417298856, 0.019961604602934727], [99.73076923076923, 27.784615384615385, 7.714615384615385, 121.6923076923077, 18.4, 2.331538461538462, 3.668461538461538, 140.6846153846154, 765.0, 1.6500000000000001, 35.92307692307692, 1.293076923076923, 6.261538461538461, 3113.0038461538466, 45.50920155793574, 123.3076923076923, 77.61538461538461, 57.62866174920969, 0.0, 0.0, 151.0, 19.959300713975587, 0.03313777840881154], [97.88235294117646, 27.0764705882353, 7.420000000000001, 113.05882352941177, 22.714705882352945, 2.307647058823529, 4.041764705882352, 138.75882352941176, 1081.8823529411766, 1.8352941176470587, 33.04117647058823, 6.901176470588236, 9.152941176470588, 2263.2598529411766, 64.77058823529411, 135.41176470588235, 70.29411764705883, 82.6622078968574, 1.0, 1.0, 167.0, 23.224421182291984, 0.017468176207026915], [100.5, 28.165, 9.1485, 124.5, 20.745000000000005, 2.4005, 4.4510000000000005, 141.615, 858.95, 1.4789999999999999, 37.55499999999999, 5.507500000000001, 4.775, 2002.01125, 53.10576923076924, 117.75, 73.5, 64.49109589041095, 0.0, 0.0, 157.0, 21.544796637092468, 0.02653686062407521], [96.28333333333335, 25.64166666666667, 8.2175, 107.58333333333333, 17.849999999999998, 2.620833333333333, 5.409166666666668, 134.75, 733.25, 1.7683333333333335, 39.025, 6.4750000000000005, 7.866666666666667, 2479.4662499999995, 54.40555403228305, 140.0, 74.91666666666667, 62.70456621004566, 0.0, 1.0, 160.0, 21.252169543860564, 0.03292866066311212], [98.04761904761905, 24.87857142857143, 6.7928571428571445, 121.14285714285714, 21.86452380952381, 2.44, 4.265714285714287, 137.62857142857143, 1266.452380952381, 1.8359523809523806, 38.7809523809524, 5.060952380952381, 5.321428571428572, 3956.775357142858, 62.53069364081251, 144.6904761904762, 89.04761904761905, 55.15792563600784, 1.0, 0.0, 167.5, 22.287616356716416, 0.01796890544832433], [100.76923076923077, 24.45384615384615, 7.408461538461538, 113.46153846153847, 32.43076923076923, 2.3615384615384616, 5.064615384615384, 142.3846153846154, 1211.923076923077, 2.5900000000000003, 40.44615384615384, 3.2199999999999998, 4.5307692307692315, 2429.3715384615384, 85.13076923076922, 157.30769230769232, 87.61538461538461, 65.04889357218124, 1.0, 1.0, 173.5, 28.28053359159838, 0.017286725492041584], [95.0, 26.810526315789474, 6.813684210526315, 123.57894736842105, 15.900000000000004, 2.3778947368421055, 4.301052631578948, 138.0421052631579, 694.421052631579, 1.6673684210526318, 38.52105263157894, 14.436842105263159, 10.189473684210522, 2237.324736842104, 52.48906894429055, 136.8421052631579, 63.0, 65.94044700793079, 0.0, 1.0, 152.5, 22.569876460861295, 0.03360171380678414], [95.8, 27.48, 9.225999999999999, 115.0, 18.750000000000004, 2.72, 4.571, 137.58, 729.5, 1.4420000000000002, 39.6, 6.889, 7.62, 2869.53, 60.89999999999999, 133.0, 66.5, 70.82876712328768, 0.0, 1.0, 151.5, 26.533346403947327, 0.030425608342141214], [103.71428571428571, 22.071428571428573, 8.214285714285715, 101.14285714285714, 27.685714285714283, 2.18, 5.501428571428571, 138.71428571428572, 1040.857142857143, 1.8057142857142858, 44.142857142857146, 8.945714285714285, 5.928571428571429, 3308.3142857142857, 62.90999999999998, 124.28571428571429, 73.28571428571429, 60.46262230919765, 1.0, 0.0, 161.0, 24.26989699471471, 0.022183279372693748], [98.4388888888889, 27.288888888888888, 5.892222222222221, 111.66666666666667, 20.200555555555557, 2.591111111111111, 3.5555555555555554, 137.9, 779.5722222222222, 1.5816666666666668, 41.11666666666667, 1.895, 5.196111111111112, 3201.8005555555555, 57.70000000000002, 107.55555555555556, 74.88888888888889, 54.891780821917806, 0.0, 0.0, 160.0, 22.539062499999996, 0.03497134367742704], [98.0, 28.578571428571426, 5.282857142857142, 114.21428571428571, 22.842857142857138, 2.3899999999999997, 4.547142857142857, 140.07142857142858, 897.0, 1.1457142857142857, 42.42142857142857, 10.185714285714283, 5.221428571428572, 3162.847142857143, 61.73214285714284, 106.5, 72.71428571428571, 48.57592954990215, 0.0, 0.0, 162.0, 23.522383347486215, 0.02792337516715031], [100.58333333333333, 22.983333333333334, 9.119166666666667, 95.16666666666667, 23.116666666666664, 2.243333333333334, 4.055, 139.55833333333334, 728.5833333333334, 2.091666666666667, 37.0, 9.688333333333334, 7.9750000000000005, 2620.7741666666666, 57.20000000000001, 110.0, 58.75, 67.89999999999999, 0.0, 0.0, 147.0, 26.470452126428807, 0.03208741074430611], [95.28571428571429, 28.857142857142854, 7.5249999999999995, 117.92857142857143, 17.692857142857143, 2.3364285714285713, 3.907857142857143, 137.71428571428572, 1044.642857142857, 1.2735714285714288, 37.957142857142856, 10.775000000000002, 4.792857142857143, 3043.406428571429, 73.8696017116524, 119.5, 69.64285714285714, 70.94618395303327, 1.0, 0.0, 172.0, 24.969443520704573, 0.019386148750503623], [94.55, 26.3, 9.95, 49.3, 25.3, 2.48, 3.62, 139.0, 1095.0, 2.0, 43.0, 20.43, 6.2, 4034.13, 70.0, 80.0, 53.5, 41.07260273972603, 1.0, 0.0, 183.0, 20.902385858042937, 0.02236131533396791], [97.73913043478261, 26.078260869565216, 8.339130434782609, 115.04347826086956, 21.113043478260867, 2.402608695652174, 4.151739130434782, 138.07391304347826, 769.6086956521739, 1.3708695652173915, 36.66521739130435, 7.473478260869564, 7.226086956521739, 2431.3647826086954, 67.26503727799671, 109.0, 61.56521739130435, 64.22156045265038, 1.0, 1.0, 170.0, 23.275099404151113, 0.030167090357436543], [96.66666666666667, 28.124999999999996, 7.695, 105.83333333333333, 27.933333333333334, 2.1375000000000006, 4.590833333333333, 140.38333333333333, 1048.0833333333333, 1.7700000000000002, 36.333333333333336, 24.555000000000003, 7.550000000000001, 2545.169166666667, 60.0, 139.58333333333334, 79.58333333333333, 64.19543378995434, 1.0, 1.0, 167.0, 21.51385851052387, 0.020348003692604304], [89.0, 28.866666666666664, 11.806666666666667, 100.66666666666667, 29.400000000000002, 2.5066666666666664, 4.73, 137.33333333333334, 1164.6666666666667, 2.0433333333333334, 42.0, 25.676666666666666, 7.2, 2726.3133333333335, 70.0, 130.0, 80.0, 53.75890410958905, 1.0, 1.0, 175.0, 22.857142857142858, 0.019407232612592102], [95.73913043478261, 25.72608695652174, 6.558695652173911, 115.47826086956522, 23.813043478260873, 2.469130434782609, 5.07086956521739, 136.5391304347826, 1143.9130434782608, 1.8713043478260867, 38.33913043478261, 6.034782608695653, 12.921739130434782, 3122.5313043478272, 64.79904445617358, 132.47826086956522, 69.82608695652173, 63.82680166765932, 1.0, 1.0, 170.0, 22.421814690717508, 0.018383998332146056], [97.53846153846153, 30.66923076923077, 7.157692307692307, 120.84615384615384, 19.392307692307693, 2.63923076923077, 3.903076923076922, 140.6, 1011.8461538461538, 1.813076923076923, 38.5, 11.572307692307692, 9.461538461538462, 3699.9076923076927, 81.86538461538461, 117.3076923076923, 73.07692307692308, 50.135511064278184, 1.0, 1.0, 169.0, 28.663346736943602, 0.02392589475234986], [101.38297872340425, 26.41489361702128, 7.273191489361702, 117.08510638297872, 16.425531914893618, 2.264255319148936, 4.1680851063829785, 139.4531914893617, 784.6595744680851, 1.1517021276595742, 39.800000000000004, 10.023829787234046, 6.834042553191489, 3537.5146808510644, 67.89597879859876, 126.7872340425532, 77.27659574468085, 68.20040804430195, 0.0, 0.0, 155.5, 28.07910538501414, 0.029225551355690927], [99.86571428571429, 26.791428571428565, 9.207428571428572, 116.8, 23.28, 2.577428571428572, 4.792571428571429, 139.04000000000002, 840.2571428571429, 1.5874285714285716, 40.89714285714285, 4.118571428571428, 5.845714285714286, 3155.730428571429, 61.691941206373926, 152.37142857142857, 88.14285714285714, 46.4989432485323, 0.0, 0.0, 155.0, 25.67822734916708, 0.030790660357487246], [95.85, 27.82, 6.0975, 116.95, 22.09, 2.645, 3.716, 137.925, 865.15, 1.6139999999999997, 40.47499999999999, 1.561, 5.71, 3095.7138750000004, 44.34281659449901, 136.4, 82.9, 66.14890410958903, 0.0, 0.0, 154.5, 18.576603342863617, 0.025624067983229266], [95.33333333333333, 26.775000000000002, 9.572499999999998, 104.5, 22.100000000000005, 2.531666666666667, 4.3, 136.76666666666668, 908.0833333333334, 1.7958333333333332, 36.76666666666667, 4.733333333333333, 5.2, 2604.528333333334, 66.54999999999998, 147.83333333333334, 73.16666666666667, 78.63995433789954, 0.0, 1.0, 146.0, 31.220679301932822, 0.022059440022157928], [92.91142857142857, 22.711428571428566, 9.254857142857142, 89.48571428571428, 22.797142857142862, 2.398857142857142, 4.276000000000001, 134.3, 1070.942857142857, 2.956285714285715, 44.29714285714286, 17.932, 9.345714285714283, 4613.244857142856, 66.70829918404368, 178.71428571428572, 94.45714285714286, 37.42872798434443, 0.0, 1.0, 155.0, 27.766201533420872, 0.05360414176295014], [101.33333333333333, 28.600000000000005, 7.198333333333334, 123.66666666666667, 15.633333333333331, 2.42, 3.596666666666667, 138.775, 737.6666666666666, 1.0825, 33.56666666666667, 1.0783333333333334, 4.9, 2440.0658333333326, 51.44, 116.08333333333333, 65.08333333333333, 66.57648401826484, 0.0, 1.0, 154.5, 21.54983714037348, 0.03100319446939613], [94.07692307692308, 29.484615384615385, 494.9392307692308, 112.92307692307692, 20.846153846153847, 2.433076923076923, 4.155384615384616, 135.06923076923076, 724.2307692307693, 1.209230769230769, 35.58461538461539, 4.146923076923077, 4.392307692307692, 2201.2238461538464, 43.2, 89.84615384615384, 61.61538461538461, 71.8086406743941, 0.0, 0.0, 150.79999999999998, 18.996826826333827, 0.030707976928895906], [101.58333333333333, 24.59166666666667, 6.665, 123.16666666666667, 14.716666666666663, 2.446666666666667, 4.3149999999999995, 136.8083333333333, 641.8333333333334, 1.4174999999999998, 39.083333333333336, 2.93, 4.633333333333335, 2418.5125000000003, 53.75, 119.83333333333333, 69.58333333333333, 77.20547945205477, 0.0, 0.0, 146.0, 25.21580033777445, 0.03516857506269145], [92.58333333333333, 26.316666666666666, 5.370000000000001, 109.25, 20.833333333333332, 2.508333333333333, 4.161666666666666, 130.88333333333333, 843.1666666666666, 1.6716666666666666, 33.916666666666664, 7.43, 5.341666666666665, 2954.4541666666664, 59.29999999999999, 141.08333333333334, 62.916666666666664, 103.67191780821916, 0.0, 0.0, 157.70000000000002, 23.844669469856196, 0.02026961810038987], [97.92307692307692, 25.43076923076924, 8.889615384615384, 93.57692307692308, 25.496153846153852, 2.5030769230769234, 4.737307692307692, 139.81538461538463, 1387.576923076923, 2.3938461538461535, 40.78846153846153, 10.265384615384617, 6.511538461538461, 2772.736538461538, 63.540908630365124, 158.84615384615384, 95.76923076923077, 31.824341412012643, 0.0, 0.0, 149.0, 28.620741691980147, 0.018564743154059652], [95.78571428571429, 28.492857142857144, 5.282142857142857, 128.0, 26.042857142857144, 2.4442857142857144, 5.05, 134.7, 994.4285714285714, 1.5785714285714287, 31.92142857142857, 1.3242857142857143, 5.242857142857143, 2759.4435714285714, 64.50714285714285, 126.42857142857143, 69.28571428571429, 63.277103718199605, 1.0, 0.0, 168.0, 22.85542193067704, 0.02167962416102803], [102.71538461538461, 32.02307692307693, 6.789230769230769, 125.92307692307692, 17.007692307692302, 2.2707692307692304, 4.9399999999999995, 141.36153846153846, 699.5384615384615, 0.643076923076923, 32.69230769230769, 1.556923076923077, 4.746153846153845, 2011.9369230769228, 41.0, 93.07692307692308, 50.0, 77.54520547945206, 0.0, 0.0, 151.0, 17.981667470724968, 0.030976893945591253], [96.08333333333333, 27.93055555555555, 8.325000000000001, 121.36111111111111, 16.42777777777778, 2.3694444444444445, 4.354166666666665, 136.76666666666668, 841.6944444444445, 1.3011111111111116, 36.25555555555555, 21.75166666666666, 5.194444444444443, 3017.774097222224, 43.732510786719736, 121.91666666666667, 73.63888888888889, 69.70555555555556, 0.0, 0.0, 151.0, 19.18008455187042, 0.026719795586322412], [94.71071428571427, 24.928571428571423, 8.31017857142857, 119.66071428571429, 16.973214285714285, 2.4775, 4.045892857142857, 136.5875, 799.0357142857143, 2.0576785714285717, 40.732142857142854, 17.93071428571429, 6.621428571428571, 2995.890937499998, 46.672460591995595, 117.76785714285714, 79.76785714285714, 52.823581213307236, 0.0, 0.0, 148.5, 21.164489152805544, 0.031951549490945634], [98.7, 22.54, 8.253, 105.7, 25.53, 2.4910000000000005, 4.238, 137.48, 1141.4, 2.903, 44.489999999999995, 3.999, 7.2360000000000015, 3062.865999999999, 71.49541887592788, 147.6, 85.5, 59.41150684931508, 1.0, 0.0, 166.0, 25.945499664656666, 0.018847162243100114], [96.42857142857143, 27.95, 9.654285714285715, 110.85714285714286, 19.592857142857138, 2.2228571428571433, 4.02642857142857, 135.0142857142857, 1074.857142857143, 1.7564285714285712, 38.142857142857146, 13.030714285714284, 11.485714285714286, 2654.7157142857145, 69.29999999999998, 160.14285714285714, 78.07142857142857, 63.98649706457926, 1.0, 1.0, 156.0, 28.47633136094674, 0.019869415010634207], [96.57142857142857, 28.71428571428572, 9.415714285714285, 109.85714285714286, 23.8, 2.652857142857143, 3.9664285714285716, 139.6642857142857, 1196.4285714285713, 1.3514285714285716, 41.69285714285714, 4.361428571428571, 5.257142857142857, 2318.558571428571, 63.850000000000016, 110.92857142857143, 70.71428571428571, 78.3426614481409, 1.0, 0.0, 162.0, 24.329370522786157, 0.015612614994916596], [96.34642857142858, 27.86785714285715, 8.77892857142857, 118.85714285714286, 20.3, 2.5957142857142856, 4.325000000000001, 139.05714285714285, 696.2142857142857, 1.3917857142857144, 38.05357142857143, 15.226428571428572, 5.360714285714286, 2737.7515178571416, 50.7377359168555, 117.60714285714286, 62.92857142857143, 69.63189823874755, 0.0, 0.0, 144.0, 24.46842974385392, 0.03326315897575852], [98.26666666666667, 26.349999999999998, 9.983333333333334, 116.83333333333333, 15.066666666666668, 2.3833333333333333, 4.016666666666666, 136.75, 623.3333333333334, 1.39, 37.5, 11.758333333333333, 7.550000000000001, 2837.396666666667, 67.3, 132.5, 82.5, 77.59406392694065, 1.0, 0.0, 164.0, 25.02230814991077, 0.03944962587217463], [97.0, 26.9, 13.307500000000001, 102.5, 19.875, 2.2475, 3.7675, 140.7, 705.25, 2.0175, 41.175, 11.525, 8.850000000000001, 2789.875, 52.625, 134.5, 80.0, 75.22808219178083, 0.0, 1.0, 156.0, 21.624342537804075, 0.03393823938987314], [101.125, 25.881249999999998, 5.768125, 122.0625, 15.575000000000001, 2.4375000000000004, 3.9093750000000007, 139.25625, 722.3125, 1.7149999999999999, 39.943749999999994, 3.1575000000000006, 5.374999999999999, 2589.7526562499997, 53.18035543893131, 107.25, 68.4375, 68.85342465753425, 0.0, 0.0, 152.0, 23.01781312280614, 0.03218478881954611], [98.99117647058823, 28.457352941176453, 7.288970588235294, 115.3529411764706, 21.78676470588235, 2.524117647058823, 4.904705882352941, 140.1794117647059, 922.8235294117648, 1.812647058823529, 38.435294117647054, 3.8110294117647054, 4.838235294117646, 3570.57356617647, 63.47594870878098, 136.9264705882353, 85.54411764705883, 55.20322320709107, 1.0, 0.0, 156.5, 25.91674864856476, 0.025151367301769298], [93.92857142857143, 24.271428571428576, 8.93357142857143, 127.35714285714286, 14.350000000000003, 2.305, 3.7171428571428575, 133.7642857142857, 841.8571428571429, 1.7607142857142857, 32.471428571428575, 10.387857142857143, 5.078571428571429, 2493.7321428571427, 63.83928571428573, 92.07142857142857, 60.285714285714285, 72.9187866927593, 0.0, 0.0, 154.0, 26.918234826398084, 0.025297993673358467], [100.6, 26.47, 9.193999999999999, 94.8, 18.71, 2.5140000000000002, 4.045999999999999, 139.68, 1044.9, 1.655, 39.5, 7.429, 5.45, 4153.932999999999, 69.0, 146.1, 102.0, 49.858082191780824, 1.0, 0.0, 170.0, 23.875432525951563, 0.022761077633967976], [95.91372549019609, 26.080392156862747, 9.253137254901963, 128.33333333333334, 24.874509803921573, 2.5203921568627448, 4.300784313725489, 137.73333333333332, 1098.1960784313726, 1.7970588235294114, 38.07058823529411, 11.303921568627452, 5.176470588235293, 3832.448578431371, 94.13194256205014, 132.58823529411765, 82.23529411764706, 54.3378458232608, 1.0, 0.0, 177.5, 29.87722834740731, 0.021185721486424405], [100.625, 26.837500000000002, 8.465, 107.75, 16.5125, 2.48375, 3.9575000000000005, 142.325, 522.375, 1.3575000000000002, 39.0, 2.19125, 6.687500000000001, 2446.1787500000005, 61.5, 144.25, 75.0, 62.55376712328767, 0.0, 1.0, 146.0, 28.851566898104718, 0.04991022635616508], [97.82142857142857, 26.178571428571427, 9.387142857142857, 119.07142857142857, 14.871428571428572, 2.084285714285714, 3.7935714285714277, 137.0, 460.7142857142857, 1.167857142857143, 32.214285714285715, 31.750000000000004, 8.721428571428572, 1727.580714285714, 47.85, 118.85714285714286, 70.21428571428571, 80.34344422700588, 0.0, 1.0, 150.0, 21.26666666666667, 0.05431259475767072], [91.3, 29.99, 8.717666666666666, 121.86666666666666, 26.693333333333335, 2.6353333333333344, 4.3696666666666655, 137.92999999999998, 1485.7, 1.768, 44.69666666666669, 6.992, 4.6833333333333345, 3100.8540833333327, 69.15786295879488, 132.46666666666667, 83.08666666666666, 28.479817351598168, 1.0, 0.0, 174.0, 22.842470259874123, 0.017099453766352104], [99.0, 33.24999999999999, 6.019166666666666, 127.91666666666667, 15.325000000000001, 2.4475, 3.6966666666666668, 140.73333333333335, 753.6666666666666, 1.2191666666666667, 32.333333333333336, 8.889166666666666, 5.491666666666666, 3032.2408333333333, 54.95000000000001, 125.25, 77.83333333333333, 80.98630136986301, 1.0, 0.0, 158.0, 22.01169684345457, 0.02685786344783812], [96.84, 28.424, 6.464799999999998, 123.12, 24.200000000000003, 2.7403999999999993, 4.9192, 138.54, 1146.8, 1.7056000000000002, 39.568, 2.5491999999999986, 5.151999999999999, 3059.8088000000007, 45.88349049964813, 129.0, 86.8, 43.12986301369863, 0.0, 0.0, 156.0, 18.854162762840296, 0.02142675422041283], [98.42105263157895, 28.900000000000002, 8.416842105263159, 106.94736842105263, 21.189473684210526, 2.2652631578947364, 4.404736842105263, 139.23157894736843, 911.0, 1.767894736842105, 37.06315789473685, 12.453157894736842, 5.426315789473685, 2611.3911842105267, 56.34125295640617, 123.3157894736842, 73.84210526315789, 68.36178803172315, 0.0, 0.0, 153.0, 24.068201527791096, 0.02371646595876683], [95.76923076923077, 25.67692307692308, 10.173846153846153, 143.84615384615384, 19.46923076923077, 2.6838461538461544, 4.205384615384615, 137.6846153846154, 704.9230769230769, 1.5838461538461541, 41.44615384615384, 1.4792307692307696, 9.46153846153846, 2183.1938461538457, 55.79999999999999, 128.15384615384616, 75.61538461538461, 60.1445732349842, 0.0, 1.0, 155.0, 23.225806451612904, 0.034445539238971416], [97.88888888888889, 26.033333333333335, 10.681111111111111, 116.14444444444445, 20.622222222222224, 2.611111111111111, 4.378888888888889, 139.29999999999998, 883.8888888888889, 2.0044444444444447, 39.55555555555556, 28.77333333333333, 6.111111111111111, 3145.333333333334, 62.0, 105.77777777777777, 69.77777777777777, 53.68736681887367, 0.0, 0.0, 155.0, 25.806451612903228, 0.027623756694973904], [98.27222222222223, 27.527777777777782, 11.692777777777781, 120.55555555555556, 17.57777777777778, 2.232777777777778, 4.508333333333334, 139.16666666666666, 747.2777777777778, 1.4638888888888888, 37.46666666666667, 2.13, 8.838888888888889, 2627.354722222221, 52.73490099009902, 142.33333333333334, 77.27777777777777, 73.59330289193302, 0.0, 1.0, 152.0, 22.82500908504978, 0.02966905202597902], [100.19756097560976, 28.346341463414635, 7.9558536585365855, 112.95121951219512, 21.492682926829268, 2.53439024390244, 5.1207317073170735, 141.6951219512195, 999.170731707317, 1.7197560975609754, 41.470731707317086, 2.350975609756098, 8.097560975609756, 3766.342378048783, 72.03520455895246, 136.9268292682927, 81.90243902439025, 56.03735382559303, 1.0, 1.0, 163.5, 26.946929105837498, 0.023089789287415237], [101.86666666666667, 29.843589743589746, 9.060000000000002, 122.41025641025641, 19.853846153846153, 2.3538461538461535, 4.284615384615386, 140.87948717948717, 559.7948717948718, 1.1387179487179484, 33.505128205128194, 7.833846153846152, 5.961538461538459, 3293.181025641026, 57.42547444170006, 127.12820512820512, 68.43589743589743, 77.93789954337902, 1.0, 0.0, 164.0, 21.350934875706454, 0.04420327002121704], [98.1, 27.360000000000003, 8.128, 118.1, 21.9, 2.4679999999999995, 4.388, 139.32, 916.7, 1.215, 42.5, 12.893, 5.3999999999999995, 2895.683, 53.3, 135.6, 82.6, 62.003287671232876, 1.0, 0.0, 156.5, 21.761985934326166, 0.02454437354100585], [95.8, 28.875000000000007, 6.229500000000002, 118.725, 21.3875, 2.51475, 4.579749999999999, 136.31, 851.475, 1.4129999999999998, 37.96499999999999, 1.97, 5.532500000000001, 3063.8663750000005, 50.795549831137876, 131.375, 75.675, 67.22020547945206, 0.0, 0.0, 154.0, 21.41826186167054, 0.026108266662638158], [99.58333333333333, 29.84166666666667, 9.081666666666667, 119.41666666666667, 20.83333333333334, 2.3058333333333336, 4.314166666666666, 138.19166666666666, 957.1666666666666, 1.4358333333333337, 33.05833333333333, 7.1116666666666655, 7.558333333333333, 2658.9100000000003, 68.79999999999998, 163.33333333333334, 89.16666666666667, 54.58150684931507, 1.0, 1.0, 165.0, 25.27089072543618, 0.024138015835630116], [100.60333333333332, 29.999999999999993, 8.908666666666667, 123.1, 22.796666666666667, 2.202, 4.793333333333334, 142.44000000000003, 975.8, 1.6949999999999996, 34.37333333333333, 9.187666666666665, 8.506666666666666, 3200.684333333333, 69.88875943612052, 134.96666666666667, 70.86666666666666, 61.39050228310502, 1.0, 1.0, 160.0, 27.300296654734574, 0.023586456763944982], [100.83333333333333, 26.266666666666666, 7.015, 110.83333333333333, 18.150000000000002, 2.3716666666666666, 4.6883333333333335, 141.79999999999998, 1211.3333333333333, 1.6916666666666664, 40.28333333333333, 4.858333333333333, 5.483333333333334, 4664.929999999999, 78.16666666666667, 136.33333333333334, 72.5, 64.52237442922375, 1.0, 0.0, 172.0, 26.421939787272404, 0.01766389745665451], [95.6923076923077, 26.507692307692313, 7.820000000000001, 113.0, 28.523076923076925, 2.5607692307692314, 4.654615384615385, 135.04615384615383, 704.4615384615385, 2.0161538461538457, 38.42307692307692, 12.836923076923082, 6.130769230769232, 2838.221538461539, 69.95000000000002, 133.53846153846155, 73.3076923076923, 71.20526870389884, 0.0, 0.0, 158.0, 28.020349302996312, 0.0316497356009709], [102.08333333333333, 21.216666666666665, 9.548333333333334, 116.29166666666667, 22.570833333333336, 2.3216666666666668, 3.7233333333333327, 138.75833333333333, 769.0, 1.8420833333333333, 40.11666666666667, 11.852916666666667, 10.112500000000002, 1897.8437499999993, 57.443817217217344, 135.70833333333334, 79.54166666666667, 60.967808219178075, 0.0, 0.0, 150.0, 25.530585429874375, 0.032164100505320904], [99.04761904761905, 29.93809523809524, 7.0233333333333325, 121.23809523809524, 16.004761904761903, 2.425238095238095, 4.141428571428572, 139.9, 443.4761904761905, 1.2733333333333334, 35.26190476190476, 2.4690476190476187, 5.819047619047619, 2561.1509523809523, 50.8130274196231, 160.52380952380952, 78.85714285714286, 59.70971950424006, 0.0, 1.0, 159.0, 20.09929489324912, 0.07428083792181754], [96.69473684210527, 27.515789473684215, 7.050000000000001, 102.26315789473684, 31.121052631578944, 2.666315789473684, 4.095789473684211, 141.5894736842105, 1228.7263157894736, 1.997894736842105, 42.5421052631579, 3.584736842105263, 4.7, 3149.965394736842, 55.90983118172791, 131.21052631578948, 86.21052631578948, 38.621341023792354, 1.0, 0.0, 169.0, 19.575586002495687, 0.03791758230560777], [97.47619047619048, 26.19523809523809, 7.693809523809524, 113.9047619047619, 23.80952380952381, 2.1123809523809522, 3.32047619047619, 128.88571428571427, 726.0952380952381, 1.5552380952380953, 32.74285714285715, 21.063333333333333, 10.095238095238098, 3942.3066666666673, 61.330191798941804, 126.66666666666667, 66.0, 75.40939334637963, 1.0, 1.0, 170.0, 21.22151965361308, 0.032992780831494505], [98.53846153846153, 26.49230769230769, 8.900000000000002, 101.76923076923077, 16.630769230769232, 2.196923076923077, 3.552307692307692, 137.2846153846154, 673.5384615384615, 1.1353846153846154, 35.30769230769231, 20.339230769230767, 7.446153846153846, 3105.548461538461, 65.5, 98.76923076923077, 65.38461538461539, 55.676923076923075, 1.0, 0.0, 174.5, 21.510496629748523, 0.04129227149039608], [97.22222222222223, 26.888888888888886, 11.025555555555556, 119.24444444444445, 20.644444444444446, 2.4761111111111114, 4.130555555555556, 140.13888888888889, 882.3888888888889, 1.6516666666666668, 35.28333333333333, 37.422222222222224, 6.577777777777778, 3126.6547222222225, 67.82404847529898, 133.88888888888889, 73.88888888888889, 61.86179604261796, 1.0, 1.0, 156.0, 27.869842404379924, 0.025637610766473577], [98.8125, 28.068749999999998, 6.226875, 124.5, 22.53125, 2.5575, 4.55125, 137.16875, 929.5, 1.63375, 41.46875, 3.02375, 4.587500000000001, 3984.3525000000004, 62.887691494360915, 117.89375, 78.625, 39.67791095890411, 1.0, 0.0, 163.0, 23.66957412562042, 0.028261313122648943], [102.45454545454545, 27.53636363636364, 8.80090909090909, 130.8181818181818, 23.854545454545452, 2.4854545454545454, 4.0154545454545465, 141.16363636363636, 748.5454545454545, 1.2090909090909092, 42.09090909090909, 1.2863636363636364, 5.472727272727273, 3406.7745454545443, 86.70000000000003, 154.1818181818182, 84.0, 61.857783312577844, 1.0, 0.0, 170.0, 30.000000000000004, 0.031098045735572278], [95.3, 29.869999999999997, 8.647, 121.5, 16.69, 2.6290000000000004, 3.4450000000000003, 136.54, 710.6, 1.4949999999999999, 34.4, 11.526, 5.299999999999999, 2298.0459999999994, 60.0, 140.6, 76.6, 86.43287671232875, 1.0, 0.0, 165.0, 22.038567493112954, 0.028572755141776228], [102.0, 22.72857142857143, 8.521428571428572, 96.57142857142857, 21.442857142857143, 1.3514285714285716, 4.121428571428571, 131.18571428571428, 873.0, 1.7485714285714284, 33.857142857142854, 12.155714285714286, 4.557142857142857, 2792.0728571428576, 41.5, 138.57142857142858, 83.42857142857143, 54.89510763209393, 0.0, 0.0, 152.0, 17.962257617728536, 0.029166594610203277], [94.71875, 26.456249999999997, 10.755625000000004, 102.875, 20.706250000000004, 2.668124999999999, 4.6509374999999995, 136.271875, 1304.78125, 2.021875, 39.959375, 7.618124999999999, 4.962499999999999, 3248.7131249999993, 71.24792762784976, 139.9375, 90.40625, 30.5035102739726, 0.0, 0.0, 153.0, 30.43612611724112, 0.019998194574532436], [106.0, 25.4, 5.2, 133.0, 14.0, 2.08, 4.2, 142.3, 749.0, 1.07, 39.0, 0.58, 4.6, 5151.75, 51.9, 125.0, 80.0, 60.536986301369865, 1.0, 0.0, 158.5, 20.658977599538257, 0.03096888039543072], [93.39999999999999, 26.460714285714293, 6.80107142857143, 115.28571428571429, 19.2, 2.3489285714285706, 3.353928571428572, 135.15714285714287, 629.7142857142857, 1.3053571428571427, 37.20357142857143, 7.831785714285715, 10.932142857142853, 2637.6783035714284, 49.15691853030664, 150.46428571428572, 69.32142857142857, 79.89608610567514, 0.0, 1.0, 146.0, 23.06104265824106, 0.034917285600246366], [99.125, 26.3875, 8.3125, 119.875, 21.9625, 2.30625, 3.65875, 137.41250000000002, 882.25, 1.335, 40.625, 1.8125, 5.812500000000001, 3260.755, 56.300000000000004, 146.25, 77.5, 63.32191780821918, 1.0, 0.0, 169.5, 19.596070343975423, 0.025773471993966297], [100.0, 33.3, 4.8, 109.0, 16.0, 2.27, 3.02, 144.0, 797.0, 1.11, 41.0, 0.78, 5.3, 1893.12, 24.8, 110.0, 75.0, 53.912328767123284, 0.0, 0.0, 160.0, 9.687499999999998, 0.030719486393316595], [99.72, 25.75384615384616, 9.894769230769228, 113.32307692307693, 22.71230769230769, 2.453846153846154, 4.583230769230767, 141.16923076923078, 1413.4615384615386, 1.8284615384615377, 44.73076923076923, 2.4130769230769236, 5.289230769230769, 3906.7306538461557, 75.27260599576418, 147.06153846153848, 95.23076923076923, 37.293234984193894, 1.0, 0.0, 172.0, 25.443687802786695, 0.017682529268109568], [99.5, 29.658333333333335, 7.7562500000000005, 124.5, 21.33708333333334, 2.6979166666666665, 4.139583333333334, 142.04583333333332, 1123.7083333333333, 1.7083333333333333, 38.12500000000001, 2.0858333333333334, 8.441249999999998, 2560.8275000000003, 61.31298917110206, 144.91666666666666, 79.33333333333333, 74.57591324200912, 1.0, 1.0, 167.5, 21.853593823515997, 0.017341458934968513], [98.58695652173913, 31.21739130434783, 9.30978260869565, 122.95652173913044, 17.55434782608696, 2.457391304347826, 4.008260869565217, 140.1086956521739, 890.8260869565217, 1.409782608695652, 37.6804347826087, 1.548695652173913, 4.447826086956519, 3051.3063586956523, 44.6335426108523, 146.41304347826087, 86.52173913043478, 45.96998213222156, 0.0, 0.0, 148.0, 20.37689125769371, 0.028788263587516183], [104.1, 29.310000000000002, 8.444500000000001, 122.55, 20.04, 2.384, 4.2995, 145.77, 853.7, 1.317, 38.94500000000001, 3.357, 5.665000000000001, 2767.1313749999995, 71.0847023681986, 137.15, 72.25, 65.25082191780822, 1.0, 1.0, 163.5, 26.591365249164813, 0.02900279853850136], [96.4, 29.360000000000003, 6.865333333333335, 118.06666666666666, 19.619999999999997, 2.322, 4.278666666666666, 139.10666666666665, 1296.9333333333334, 1.7766666666666666, 42.03333333333333, 1.4213333333333333, 4.466666666666667, 3073.4046666666663, 56.11941520467837, 151.13333333333333, 94.06666666666666, 32.9510502283105, 0.0, 0.0, 167.5, 20.002464764420893, 0.021351054205479843], [96.46428571428571, 27.178571428571434, 9.938214285714285, 124.25, 21.22142857142857, 2.3525, 3.6446428571428577, 138.05357142857142, 923.8928571428571, 1.8303571428571435, 38.982142857142854, 13.080714285714288, 6.653571428571428, 4615.844196428572, 70.5075701320471, 133.03571428571428, 70.28571428571429, 66.41741682974559, 1.0, 1.0, 165.0, 25.89809738550857, 0.023504603535410444], [103.0, 31.700000000000003, 6.02, 97.75, 15.75, 2.105, 3.7625, 142.75, 254.45, 1.385, 33.5, 2.1575, 4.275, 1473.8575, 76.0, 167.5, 74.25, 63.8472602739726, 0.0, 1.0, 165.0, 27.915518824609737, 7.713121306216837], [96.26315789473684, 31.442105263157895, 6.501052631578947, 99.0, 21.28421052631579, 2.4194736842105264, 5.6157894736842096, 139.11052631578946, 1190.1052631578948, 1.8594736842105262, 41.67894736842104, 7.76578947368421, 4.610526315789475, 2512.7763157894738, 46.07796430732002, 135.6315789473684, 87.63157894736842, 29.77793799567412, 0.0, 0.0, 160.0, 17.99920480754688, 0.022684763145355075], [97.17391304347827, 30.078260869565206, 6.9386956521739105, 107.08695652173913, 13.87391304347826, 2.4817391304347827, 4.381739130434783, 138.1478260869565, 540.2173913043479, 1.477391304347826, 38.30434782608695, 2.13304347826087, 11.660869565217393, 2187.009782608696, 43.678274408839755, 145.04347826086956, 74.8695652173913, 54.80405002977964, 0.0, 1.0, 147.0, 20.21300125357016, 0.05067850294854683], [96.8, 28.6, 6.761999999999999, 98.73333333333333, 27.426666666666673, 2.3106666666666666, 3.575999999999999, 136.94666666666666, 665.4666666666667, 1.6153333333333333, 26.94, 15.19, 5.6, 3253.366000000001, 68.0, 118.66666666666667, 74.8, 68.70100456621003, 1.0, 0.0, 173.0, 22.72043837081092, 0.03403892700762965], [98.2, 26.909999999999997, 10.889, 103.5, 15.13, 2.4260000000000006, 3.8549999999999995, 138.9, 514.9, 1.548, 33.1, 3.3569999999999993, 8.54, 2185.5080000000003, 56.0, 154.0, 78.5, 56.364383561643834, 0.0, 1.0, 161.0, 21.604104779908177, 0.05913032505244411], [96.90217391304348, 28.20652173913044, 6.8734782608695655, 109.45652173913044, 24.589130434782607, 2.393695652173913, 3.95695652173913, 138.84782608695653, 1233.8260869565217, 2.0013043478260872, 39.41086956521739, 16.376956521739128, 5.467391304347825, 3738.5710869565196, 80.73171164098498, 138.1086956521739, 79.5, 63.13150684931507, 1.0, 0.0, 164.0, 30.016252097332313, 0.016842357575720574], [103.21666666666665, 27.483333333333338, 6.636666666666667, 114.08333333333333, 29.900000000000002, 2.2816666666666667, 3.8666666666666667, 140.16666666666666, 639.1666666666666, 1.7466666666666668, 37.0, 19.316666666666666, 5.1000000000000005, 3178.275, 48.4, 110.83333333333333, 62.5, 70.58493150684932, 0.0, 0.0, 151.0, 21.22713916056313, 0.035714468920972485], [94.70967741935483, 27.83548387096775, 5.684838709677419, 118.51612903225806, 24.348387096774196, 2.621612903225806, 4.3009677419354855, 136.29677419354837, 914.4677419354839, 1.7064516129032254, 39.358064516129026, 9.670645161290322, 5.2464516129032255, 3472.5641935483873, 67.71328363761735, 124.87096774193549, 71.12903225806451, 80.16880247459126, 1.0, 0.0, 162.0, 25.801434094504398, 0.02153594986222973], [97.0, 30.984615384615378, 7.542307692307692, 117.0, 13.215384615384611, 2.379230769230769, 3.7930769230769235, 137.1153846153846, 764.8461538461538, 1.4776923076923079, 33.59230769230769, 2.4753846153846153, 4.530769230769231, 2642.3900000000003, 49.399999999999984, 109.07692307692308, 66.46153846153847, 74.03371970495259, 1.0, 0.0, 170.0, 17.093425605536336, 0.029063849057922177], [103.3265306122449, 27.485714285714284, 7.041020408163266, 111.3265306122449, 20.373469387755108, 2.3663265306122447, 4.145510204081634, 143.10816326530613, 1142.8367346938776, 1.6110204081632649, 37.93673469387754, 5.3742857142857146, 5.8265306122448965, 3846.7459183673473, 68.87520287775436, 150.46938775510205, 97.6734693877551, 45.23712608331004, 1.0, 0.0, 163.5, 25.76483568639166, 0.02188575502290198], [96.68333333333334, 26.93333333333334, 7.156666666666668, 118.71666666666667, 21.771666666666665, 2.466666666666667, 5.036333333333332, 137.94500000000002, 1428.9666666666667, 1.8415000000000001, 42.27666666666667, 8.649833333333332, 4.9399999999999995, 3868.4948749999976, 64.6356289830938, 130.35, 90.95, 43.217990867579914, 1.0, 0.0, 168.0, 22.900945643102975, 0.016124745150797003], [100.88, 25.78, 6.1255999999999995, 120.4, 20.3, 2.5036000000000005, 4.2244, 139.204, 763.64, 1.6472000000000002, 41.832, 1.9044000000000003, 8.447999999999999, 2726.9807, 55.84384255359091, 121.72, 69.0, 66.46509589041094, 0.0, 1.0, 162.0, 21.278708487117402, 0.030175061882803327], [97.45384615384616, 27.29615384615384, 4.173846153846154, 108.23076923076923, 24.518076923076926, 2.183846153846154, 4.9861538461538455, 135.29999999999998, 791.9192307692308, 1.5169230769230768, 32.15384615384616, 1.9707692307692304, 10.097307692307693, 3756.688557692308, 62.3636305343792, 136.92307692307693, 77.92307692307692, 50.43688092729188, 1.0, 1.0, 168.0, 22.095957530604878, 0.032655868470177055], [92.25, 28.575, 9.085, 107.5, 19.25, 2.7675, 4.619999999999999, 137.72500000000002, 766.25, 1.425, 39.5, 1.8224999999999998, 4.95, 2800.4425, 57.6, 141.25, 82.5, 73.16506849315067, 0.0, 0.0, 154.0, 24.287400910777535, 0.02822927133639627], [94.0, 25.22222222222222, 7.220000000000001, 106.66666666666667, 25.633333333333333, 2.1177777777777775, 5.088888888888889, 131.08888888888887, 966.3333333333334, 2.392222222222222, 35.77777777777778, 31.696666666666665, 6.411111111111112, 2060.3155555555554, 92.0, 167.22222222222223, 84.44444444444444, 55.80639269406393, 0.0, 1.0, 163.0, 34.62682073092702, 0.024659462963776968], [97.0, 30.15, 8.3275, 134.25, 13.475, 2.46, 4.375, 139.1, 480.75, 1.585, 40.0, 2.9475, 8.275, 2957.925, 59.0, 139.5, 68.25, 73.14520547945206, 1.0, 1.0, 170.0, 20.41522491349481, 0.049496160602642655], [98.36451612903227, 26.177419354838708, 8.70483870967742, 109.51612903225806, 22.048387096774192, 2.86258064516129, 3.8177419354838715, 139.19354838709677, 635.3225806451613, 1.6941935483870967, 37.719354838709684, 18.16838709677419, 7.641935483870966, 3319.212580645162, 52.070414746543776, 128.5483870967742, 74.54838709677419, 79.44365885992046, 0.0, 0.0, 155.0, 21.6734296551691, 0.033853035991638754], [98.95, 23.271428571428576, 8.194285714285716, 101.21428571428571, 18.89285714285714, 2.416428571428571, 4.5635714285714295, 136.52142857142857, 859.5, 1.7149999999999999, 38.878571428571426, 4.581428571428572, 7.807142857142857, 2603.155, 78.57142857142857, 155.42857142857142, 66.07142857142857, 66.40352250489236, 0.0, 1.0, 170.0, 27.18734552644588, 0.02597658051340301], [98.36585365853658, 27.07317073170733, 8.29731707317073, 123.48780487804878, 18.034146341463416, 2.5260975609756096, 4.148536585365854, 137.59268292682927, 625.8780487804878, 1.5626829268292681, 41.351219512195144, 3.887560975609755, 5.514634146341463, 3139.2160975609754, 36.61364961017594, 109.14634146341463, 68.26829268292683, 36.701169395255604, 0.0, 0.0, 140.0, 18.680433474579573, 0.04656172028419639], [102.66666666666667, 25.700000000000003, 6.755, 121.58333333333333, 13.591666666666663, 2.123333333333333, 4.335833333333333, 141.03333333333333, 367.3333333333333, 1.4841666666666669, 42.0, 12.324999999999998, 5.283333333333333, 2913.1491666666666, 59.600000000000016, 141.0, 95.5, 59.11438356164384, 0.0, 0.0, 150.0, 26.488888888888884, 0.11624447331707971], [96.6888888888889, 29.77777777777778, 7.919444444444442, 125.41666666666667, 16.211111111111116, 2.4066666666666667, 4.291666666666667, 139.40277777777777, 904.0833333333334, 1.274166666666667, 40.04722222222221, 1.5813888888888892, 5.441666666666666, 3124.8278472222228, 51.26494425856237, 139.72222222222223, 88.94444444444444, 46.64010654490108, 0.0, 0.0, 152.0, 22.188774350139518, 0.02786036541799576], [101.16666666666667, 23.083333333333332, 9.07875, 110.375, 20.522083333333338, 2.2345833333333336, 4.329999999999999, 137.63750000000002, 548.4333333333333, 1.7987499999999998, 36.81666666666667, 5.869583333333335, 5.930833333333335, 3076.875, 49.326357075929074, 132.66666666666666, 63.625, 79.21952054794521, 0.0, 1.0, 153.0, 21.071535339369074, 0.04096427543821065], [99.94615384615385, 27.06153846153847, 10.753846153846155, 117.84615384615384, 17.338461538461534, 2.1799999999999997, 3.677692307692307, 140.35384615384615, 717.3846153846154, 1.5146153846153847, 36.63076923076923, 10.974615384615383, 7.43846153846154, 2163.583846153846, 76.0, 136.23076923076923, 69.15384615384616, 69.61053740779768, 0.0, 1.0, 158.0, 30.44383912834481, 0.034086249490458256], [99.0, 30.40769230769231, 6.545384615384616, 113.3076923076923, 20.77692307692308, 2.424615384615384, 4.206153846153845, 141.8923076923077, 1024.3076923076924, 1.6207692307692305, 40.107692307692304, 2.5653846153846156, 9.623076923076924, 2575.5615384615385, 57.95000000000001, 144.92307692307693, 90.92307692307692, 46.692096944151736, 1.0, 1.0, 163.0, 21.811133275621962, 0.024727924062701974], [100.55555555555556, 28.522222222222222, 9.303333333333333, 130.88888888888889, 13.422222222222224, 2.151111111111111, 3.5955555555555554, 139.13333333333333, 530.5555555555555, 1.4377777777777778, 35.0, 14.146666666666668, 5.777777777777777, 3194.1288888888885, 86.0, 149.22222222222223, 79.33333333333333, 75.5062404870624, 0.0, 1.0, 178.0, 27.14303749526575, 0.04345751699296632], [103.2, 24.300000000000004, 7.802, 93.9, 25.48, 2.234, 4.038, 141.64000000000001, 911.6, 1.8699999999999997, 42.8, 1.943, 6.840000000000001, 3020.0860000000007, 93.0, 142.6, 83.0, 44.060547945205485, 1.0, 1.0, 165.0, 34.15977961432508, 0.028596714794509683], [101.0, 25.133333333333333, 9.06361111111111, 113.36111111111111, 19.375, 2.4697222222222224, 3.8783333333333334, 140.58333333333334, 660.6944444444445, 1.416388888888889, 38.04722222222222, 17.291666666666664, 8.477777777777781, 2654.5065277777785, 76.19044098211474, 130.44444444444446, 79.66666666666667, 69.80707762557078, 0.0, 1.0, 155.0, 31.7129827188823, 0.03678022866699731], [99.8, 23.993333333333336, 7.591333333333335, 108.86666666666666, 15.366666666666667, 2.0840000000000005, 3.796666666666667, 136.34666666666666, 415.46666666666664, 1.3699999999999999, 41.220000000000006, 9.633999999999999, 10.000000000000002, 3466.756, 87.80000000000001, 114.93333333333334, 67.2, 75.67634703196349, 1.0, 1.0, 175.0, 28.66938775510205, 0.06763265069202487], [96.13953488372093, 27.679069767441856, 9.81, 117.46511627906976, 22.76744186046512, 2.461395348837209, 4.396744186046511, 138.83953488372094, 1292.3720930232557, 1.7462790697674413, 41.858139534883726, 2.3293023255813954, 5.044186046511627, 4329.04488372093, 69.94824854634174, 138.1627906976744, 91.02325581395348, 51.5920356801529, 1.0, 1.0, 172.0, 23.6439455605536, 0.017286173062068016], [99.5, 28.6, 6.522500000000001, 144.25, 12.8, 2.27, 4.61, 138.0, 1093.0, 1.41, 45.0, 1.9175, 4.3, 3006.085, 70.0, 86.25, 57.5, 51.62602739726028, 1.0, 0.0, 175.0, 22.857142857142858, 0.020853469876442463], [107.175, 21.475, 5.2562500000000005, 102.875, 23.9375, 1.6887499999999998, 4.05125, 141.1125, 602.75, 1.43, 40.325, 0.41, 5.1875, 2897.81125, 38.125, 131.625, 80.5, 56.00719178082192, 0.0, 0.0, 145.0, 18.13317479191439, 0.04273733607175529], [91.0, 29.425, 7.21875, 122.25, 16.3125, 2.56875, 3.72125, 133.175, 630.875, 1.4687499999999998, 36.75, 8.7875, 5.6875, 2289.63875, 57.0, 120.0, 66.875, 76.53904109589041, 0.0, 0.0, 155.0, 23.725286160249738, 0.038364960155069516], [104.17, 29.54, 5.723, 109.8, 20.45, 2.237, 4.204000000000001, 139.49, 837.5, 1.591, 41.0, 55.839999999999996, 4.56, 3721.8299999999995, 60.0, 136.8, 91.4, 30.391780821917813, 1.0, 0.0, 166.0, 21.773842357381337, 0.03508708607904291], [94.83333333333333, 30.066666666666663, 7.811666666666667, 114.0, 11.066666666666668, 2.6750000000000003, 3.877499999999999, 134.65833333333333, 518.9166666666666, 1.4208333333333334, 34.675, 3.701666666666666, 8.353333333333333, 2398.486666666666, 84.0, 137.16666666666666, 71.66666666666667, 71.31826484018264, 0.0, 1.0, 156.0, 34.516765285996044, 0.04635892430252325], [102.3375, 28.643750000000004, 7.569375, 115.125, 16.525000000000002, 2.129375, 4.707500000000001, 140.0, 263.3125, 1.218125, 38.05625, 16.6625, 8.225, 2717.1650000000004, 58.0, 135.25, 72.8125, 77.3416095890411, 0.0, 1.0, 155.0, 24.14151925078044, 0.12356129657221375], [94.0, 28.41818181818182, 6.03, 92.27272727272727, 14.418181818181818, 2.4063636363636367, 3.980909090909091, 132.70909090909092, 633.4545454545455, 1.1963636363636363, 36.99090909090909, 2.295454545454546, 5.890909090909091, 2654.17, 41.199999999999996, 135.1818181818182, 65.72727272727273, 77.32901618929014, 0.0, 0.0, 153.0, 17.60006834978, 0.038086108027957366], [97.6875, 26.493750000000002, 8.5975, 145.875, 21.5375, 2.1050000000000004, 4.53, 137.6125, 809.4375, 1.6187499999999997, 42.9125, 29.661250000000003, 6.89375, 4173.9671875, 68.29910714285714, 115.5625, 77.6875, 61.59554794520548, 1.0, 0.0, 175.0, 22.30174927113703, 0.02905253176136734], [111.4, 23.04, 7.204000000000001, 114.0, 17.14, 2.064, 4.688, 140.48000000000002, 606.2, 1.528, 39.8, 1.658, 5.279999999999999, 2649.424, 62.0, 167.8, 102.4, 64.02849315068492, 0.0, 0.0, 159.0, 24.524346347059055, 0.039724472212994286], [98.16666666666667, 26.891666666666666, 7.439166666666666, 116.33333333333333, 15.675000000000002, 2.419166666666667, 4.285833333333334, 138.92499999999998, 761.75, 1.3475000000000001, 38.00833333333333, 8.720833333333333, 4.983333333333333, 2266.2566666666667, 55.0, 129.0, 74.58333333333333, 74.39680365296805, 0.0, 0.0, 154.0, 23.19109461966605, 0.028638255728249462], [98.60000000000001, 29.094117647058823, 8.239999999999998, 120.76470588235294, 15.735294117647058, 2.237058823529411, 3.9958823529411776, 138.47058823529412, 746.1764705882352, 1.2829411764705885, 35.05882352941177, 25.725882352941174, 6.223529411764706, 2550.04, 72.01478384124734, 103.41176470588235, 64.3529411764706, 68.6317485898469, 0.0, 0.0, 155.0, 29.974936042142495, 0.030622662207874723], [99.03448275862068, 26.958620689655174, 7.831724137931035, 115.96551724137932, 21.327586206896555, 2.2296551724137936, 4.918275862068966, 141.33103448275864, 1477.7931034482758, 1.775862068965517, 40.6551724137931, 3.2100000000000013, 5.224137931034484, 3676.095258620691, 80.3716942621845, 141.27586206896552, 86.6896551724138, 56.7609825224374, 1.0, 0.0, 177.0, 25.654088627847834, 0.014380213621929646], [92.2423076923077, 31.400000000000002, 8.007692307692308, 134.46153846153845, 19.988461538461532, 2.463076923076923, 4.101538461538462, 134.53076923076924, 784.6538461538462, 1.241153846153846, 34.50769230769232, 1.6696153846153847, 10.857692307692307, 3001.999519230769, 62.671646353320014, 127.8076923076923, 75.11538461538461, 67.39704952581666, 1.0, 1.0, 173.0, 20.94010703776271, 0.029104229214513902], [98.63157894736842, 25.715789473684215, 7.740526315789474, 108.63157894736842, 19.431578947368426, 2.4800000000000004, 3.9200000000000004, 138.9842105263158, 749.0105263157895, 1.9252631578947368, 39.95789473684211, 9.216315789473686, 7.1421052631578945, 3221.5822368421045, 65.98356814246968, 120.47368421052632, 77.3157894736842, 54.27959625090123, 0.0, 0.0, 160.0, 25.774831305652214, 0.050640542718344776], [99.0, 29.3, 13.3, 89.0, 22.1, 3.67, 4.5, 137.8, 750.0, 1.64, 38.0, 0.07, 7.3, 2212.335, 70.0, 150.0, 80.0, 71.19863013698631, 0.0, 1.0, 147.0, 32.39390994493036, 0.029237653905620876], [96.46226415094341, 27.103773584905664, 9.314150943396225, 84.01886792452831, 22.63962264150943, 2.3052830188679234, 4.14566037735849, 137.08113207547171, 599.9622641509434, 1.4505660377358487, 32.75660377358492, 23.493584905660377, 9.537735849056604, 3117.2545283018867, 51.52497090532011, 119.83018867924528, 55.9811320754717, 71.34846213491859, 1.0, 1.0, 166.0, 18.69827656601833, 0.03971734593992676], [98.57407407407408, 26.461111111111123, 6.39111111111111, 109.42592592592592, 23.559259259259253, 2.332777777777778, 4.677407407407409, 139.32222222222222, 1195.7962962962963, 1.9529629629629628, 38.427777777777784, 1.6472222222222217, 5.053703703703703, 2436.3695370370347, 64.44419338106266, 142.94444444444446, 89.94444444444444, 55.70299340436327, 0.0, 0.0, 160.0, 25.173513039477598, 0.01897992446585616], [98.42857142857143, 30.414285714285715, 6.4871428571428575, 107.42857142857143, 19.814285714285717, 2.31, 3.6571428571428575, 135.54285714285714, 480.14285714285717, 1.2214285714285713, 34.84285714285714, 1.35, 4.742857142857143, 2600.11, 40.0, 107.14285714285714, 63.57142857142857, 86.46262230919766, 0.0, 0.0, 156.0, 16.43655489809336, 0.04518863358905835], [94.83333333333333, 27.450000000000003, 11.361111111111112, 110.72222222222223, 26.188888888888894, 2.5327777777777776, 4.718888888888888, 138.85000000000002, 1188.8333333333333, 2.1183333333333336, 41.53888888888889, 6.323888888888889, 4.572222222222221, 4030.3900000000003, 79.99432776157568, 147.05555555555554, 93.88888888888889, 36.93348554033486, 1.0, 0.0, 173.0, 26.72803226354896, 0.021189441180170552], [105.62222222222222, 20.17777777777778, 6.017777777777778, 87.88888888888889, 29.311111111111106, 1.7566666666666668, 5.340000000000001, 140.44444444444446, 1294.6666666666667, 1.8511111111111112, 33.73333333333333, 0.6455555555555555, 4.522222222222222, 3511.730000000001, 70.0, 153.77777777777777, 91.66666666666667, 40.465753424657535, 1.0, 0.0, 173.0, 23.38868655818771, 0.019473531588270556], [95.48571428571428, 31.765714285714292, 10.031999999999998, 109.68571428571428, 19.611428571428572, 2.4237142857142855, 4.124857142857143, 139.25714285714287, 869.4, 1.3585714285714285, 34.30571428571427, 6.855714285714288, 5.302857142857143, 2400.772928571428, 57.90439200908192, 142.14285714285714, 76.88571428571429, 39.55553816046966, 0.0, 1.0, 154.0, 24.415749708670063, 0.0318282864639607], [103.2, 26.080000000000002, 8.414, 103.4, 19.54, 2.2979999999999996, 4.231999999999999, 140.85999999999999, 452.4, 1.6960000000000002, 33.4, 11.602, 9.16, 3237.6020000000003, 45.0, 190.0, 85.0, 84.3841095890411, 0.0, 1.0, 150.0, 20.0, 0.05081614576232093], [108.72142857142856, 19.35, 6.562142857142858, 104.14285714285714, 29.35714285714286, 2.052857142857143, 4.821428571428571, 141.62857142857143, 684.7142857142857, 1.6414285714285717, 41.25, 1.197142857142857, 4.828571428571428, 2249.124285714286, 44.60321428571429, 134.64285714285714, 69.78571428571429, 69.9628180039139, 0.0, 0.0, 149.0, 20.090632983070265, 0.033431803481579904], [104.55555555555556, 22.81111111111111, 7.01, 127.22222222222223, 15.777777777777779, 2.1977777777777776, 3.8644444444444446, 141.06666666666666, 532.0, 1.2222222222222223, 43.77777777777778, 2.353333333333333, 4.9444444444444455, 2847.769999999999, 55.0, 129.55555555555554, 88.44444444444444, 44.54490106544901, 0.0, 0.0, 160.0, 21.484374999999996, 0.0533513771657739], [102.22692307692309, 27.415384615384617, 6.437692307692307, 112.76923076923077, 15.869230769230768, 2.178461538461538, 4.248461538461538, 139.6, 733.5192307692307, 0.7930769230769231, 32.97692307692308, 8.12846153846154, 5.846153846153848, 2908.9837499999994, 63.972330704381015, 125.88461538461539, 74.15384615384616, 80.26290832455217, 1.0, 0.0, 167.0, 22.938194522708248, 0.06840594778879426], [100.44444444444444, 27.122222222222224, 6.234444444444445, 102.88888888888889, 30.755555555555556, 2.248888888888889, 5.2700000000000005, 137.3777777777778, 972.0, 1.4766666666666666, 36.333333333333336, 6.94888888888889, 5.21111111111111, 3304.1566666666663, 59.0, 144.77777777777777, 101.11111111111111, 28.326331811263323, 1.0, 0.0, 174.0, 19.487382745408905, 0.03559258314704913], [94.5, 28.45, 5.95, 81.5, 38.325, 1.7574999999999998, 4.125, 140.25, 1275.75, 2.36, 40.725, 4.6775, 4.975, 3181.34, 70.0, 130.0, 80.0, 30.706164383561646, 1.0, 0.0, 165.0, 25.71166207529844, 0.020343194914021305], [93.66382978723404, 24.77021276595745, 8.519148936170213, 135.70212765957447, 22.848510638297874, 2.686170212765957, 4.108723404255319, 137.5212765957447, 1152.404255319149, 1.867446808510638, 46.327659574468065, 11.288936170212764, 6.01191489361702, 3901.2655851063832, 56.109491492574655, 126.29787234042553, 84.48936170212765, 38.91454386476246, 1.0, 0.0, 160.0, 21.917770114286977, 0.021710551627266164], [97.1875, 29.487500000000004, 8.76375, 116.3125, 19.706249999999997, 2.338125, 4.37125, 136.25, 663.4375, 1.4856249999999998, 32.131249999999994, 9.932500000000001, 5.51875, 4258.791875, 88.88242574257426, 145.5, 77.5, 77.448801369863, 1.0, 1.0, 164.0, 33.046707964966636, 0.03561158941665555], [92.25, 29.931818181818187, 7.7681818181818185, 113.95454545454545, 16.35909090909091, 2.519545454545454, 3.8395454545454553, 134.82272727272726, 605.9090909090909, 1.1549999999999998, 36.93636363636363, 3.8904545454545456, 4.754545454545455, 2864.545227272727, 32.873377617157004, 111.54545454545455, 62.0, 75.46077210460771, 0.0, 0.0, 148.0, 15.007933535955537, 0.03716751069350289], [98.8, 24.44, 7.08, 107.6, 19.66, 2.274, 3.9620000000000006, 139.32000000000002, 1020.2, 1.3479999999999999, 43.6, 52.658, 4.9399999999999995, 3464.7, 49.0, 107.0, 66.0, 38.43287671232876, 0.0, 0.0, 159.0, 19.382144693643447, 0.025441742896778606], [99.63636363636364, 20.0, 9.503636363636362, 112.63636363636364, 18.09090909090909, 1.9090909090909092, 3.480909090909091, 132.26363636363638, 754.8181818181819, 1.1690909090909094, 22.918181818181818, 19.166363636363638, 8.163636363636364, 2819.3309090909092, 56.3, 59.36363636363637, 34.54545454545455, 65.63163138231631, 0.0, 0.0, 155.0, 23.433922996878245, 0.03132665992130756], [100.52173913043478, 30.13478260869565, 4.173043478260869, 119.17826086956521, 15.026086956521736, 2.384347826086956, 3.8652173913043493, 142.47826086956522, 762.0, 1.128695652173913, 38.73913043478261, 0.8282608695652174, 4.820869565217392, 3027.2639130434777, 41.5366019790972, 151.69565217391303, 85.56521739130434, 53.03335318642048, 0.0, 0.0, 155.0, 17.2889082119031, 0.03273033940596968], [99.6, 27.580000000000002, 5.0280000000000005, 92.2, 22.22, 2.3760000000000003, 5.26, 141.2, 579.8, 1.5939999999999999, 40.6, 5.876, 10.459999999999999, 2125.182, 65.0, 133.0, 68.0, 54.424109589041095, 0.0, 1.0, 160.0, 25.390624999999996, 0.04499807989054612], [94.10810810810811, 26.559459459459458, 7.418648648648649, 109.24324324324324, 15.672972972972973, 2.6778378378378376, 3.7481081081081076, 134.15945945945944, 561.4594594594595, 1.6054054054054057, 32.54054054054055, 20.11378378378378, 5.324324324324322, 3285.078918918921, 50.11103802998089, 129.56756756756758, 77.83783783783784, 66.8571640133284, 0.0, 0.0, 161.0, 19.33221636124413, 0.0437593668770895], [95.26153846153846, 27.61538461538461, 7.736923076923077, 114.3076923076923, 23.707692307692305, 2.203076923076923, 4.7446153846153845, 138.22307692307692, 684.0769230769231, 1.8376923076923077, 38.06923076923077, 3.965384615384615, 11.96923076923077, 2838.0615384615385, 74.8923076923077, 153.69230769230768, 83.23076923076923, 62.13403582718651, 0.0, 1.0, 160.0, 29.254807692307686, 0.03784807902763475], [103.0125, 25.9875, 5.866250000000001, 109.75, 25.8875, 2.095, 4.296250000000001, 140.125, 783.5, 1.8887500000000002, 39.7375, 10.782499999999999, 5.95, 4218.788750000001, 76.55, 160.75, 84.0, 65.43082191780822, 1.0, 1.0, 171.0, 26.17899524640061, 0.031202557551857784], [102.5, 27.3125, 5.39875, 105.0, 26.224999999999998, 2.34125, 3.8037499999999995, 127.25, 665.875, 2.00875, 38.275, 27.903749999999995, 7.800000000000001, 3310.9537499999997, 74.0, 133.75, 65.625, 79.79828767123288, 1.0, 1.0, 170.0, 25.60553633217993, 0.03347134907652925], [95.42857142857143, 29.133333333333336, 6.89, 117.61904761904762, 26.12380952380953, 2.5176190476190476, 4.385, 140.9, 1314.9761904761904, 1.7980952380952384, 43.4902380952381, 1.2666666666666662, 4.826190476190475, 4536.474226190475, 60.16987450224286, 122.54761904761905, 84.21428571428571, 39.290410958904104, 1.0, 0.0, 171.0, 20.577228720715055, 0.018329115597448115], [96.0, 27.8, 9.344999999999999, 108.0, 37.85, 2.5300000000000002, 4.875, 141.0, 1273.0, 1.98, 36.6, 0.53, 7.8, 3745.4899999999993, 76.0, 145.5, 96.5, 41.323287671232876, 1.0, 1.0, 173.0, 25.393431120318084, 0.018772107076615644], [103.67567567567568, 27.459459459459467, 5.97108108108108, 123.05405405405405, 22.029729729729734, 2.274594594594594, 4.675945945945946, 142.1891891891892, 635.027027027027, 1.0259459459459457, 41.0054054054054, 1.035675675675676, 5.624324324324325, 3995.42777027027, 72.21130765896667, 129.94594594594594, 85.16216216216216, 56.48833765272121, 1.0, 0.0, 172.0, 24.40890605021859, 0.03965561095018018], [96.77142857142857, 27.58571428571429, 8.64885714285714, 118.2, 12.742857142857142, 2.406571428571428, 4.171714285714286, 136.14857142857142, 620.0571428571428, 1.3408571428571432, 36.97999999999999, 3.5791428571428576, 7.819999999999998, 2972.692857142858, 59.46057333412867, 142.25714285714287, 66.71428571428571, 74.56101761252447, 0.0, 0.0, 155.0, 24.74945820359153, 0.037276023239447245], [95.90645161290323, 28.23193548387096, 7.29741935483871, 118.12903225806451, 25.204838709677418, 2.383225806451613, 4.530645161290323, 137.59677419354838, 1040.9032258064517, 1.5838709677419351, 36.57096774193548, 1.1119354838709676, 7.725806451612902, 3262.366774193548, 67.93879570311016, 145.74193548387098, 77.64516129032258, 59.05735749005745, 1.0, 1.0, 166.0, 24.65481045983094, 0.0218985606950085], [98.38787878787879, 28.07575757575758, 5.7615151515151535, 122.48484848484848, 20.19909090909091, 2.3893939393939387, 3.9690909090909097, 142.36060606060605, 675.7272727272727, 1.2603030303030305, 34.506060606060615, 13.05454545454545, 6.244545454545453, 2537.487272727272, 66.29835123557903, 127.03030303030303, 73.12121212121212, 80.73308426733082, 0.0, 0.0, 146.0, 31.10262302288377, 0.03223076741357389], [99.22222222222223, 27.877777777777776, 7.658888888888888, 105.11111111111111, 17.677777777777774, 2.2933333333333334, 4.045555555555556, 140.77777777777777, 790.6666666666666, 0.9688888888888889, 34.77777777777778, 60.78555555555555, 10.28888888888889, 2284.9500000000003, 59.0, 114.44444444444444, 73.66666666666667, 70.58051750380518, 0.0, 0.0, 158.0, 23.63403300753084, 0.027619043581980317], [93.55555555555556, 25.0962962962963, 10.869259259259259, 113.14814814814815, 19.555555555555557, 2.3851851851851857, 4.645925925925926, 136.0185185185185, 785.7777777777778, 1.8255555555555558, 37.61111111111111, 30.725185185185186, 7.6000000000000005, 2947.960555555556, 72.43643271003506, 143.55555555555554, 71.88888888888889, 68.35281582952815, 0.0, 1.0, 160.0, 28.295481527357442, 0.02872527483473098], [102.81818181818181, 26.154545454545453, 6.45090909090909, 94.72727272727273, 14.427272727272724, 2.1327272727272724, 4.216363636363636, 136.9090909090909, 447.3636363636364, 1.3227272727272725, 36.96363636363636, 5.159090909090908, 12.509090909090908, 3569.485454545455, 64.0, 149.0, 68.0, 64.37559153175593, 0.0, 1.0, 160.0, 24.999999999999996, 0.05996105690692069], [96.375, 27.4625, 6.0725, 101.875, 24.65, 2.12125, 4.758749999999999, 139.25, 1061.25, 1.60125, 41.8375, 14.17, 16.2625, 3028.6600000000003, 67.0, 148.75, 93.5, 52.1, 1.0, 0.0, 172.0, 22.647376960519207, 0.021645187472534078], [96.2, 27.440000000000005, 6.2700000000000005, 96.4, 28.26, 2.664, 5.268, 136.88, 1095.2, 1.7559999999999998, 37.8, 1.424, 5.0600000000000005, 2520.792, 55.0, 155.8, 79.0, 55.4482191780822, 0.0, 0.0, 153.0, 23.49523687470631, 0.020934645518015174], [108.0, 23.31, 6.771000000000001, 122.2, 22.700000000000003, 2.347, 6.226999999999999, 142.2, 566.0, 1.5310000000000001, 39.33, 7.177, 5.64, 4006.346, 49.0, 106.0, 74.2, 57.47589041095891, 1.0, 0.0, 170.0, 16.955017301038062, 0.04514879702488901], [93.42857142857143, 28.482857142857142, 8.306000000000003, 132.25714285714287, 22.21428571428572, 2.3982857142857137, 4.380857142857142, 135.0, 883.8857142857142, 1.699428571428571, 37.94571428571427, 7.688571428571431, 5.234285714285714, 4146.841142857143, 57.77123611940268, 123.51428571428572, 75.42857142857143, 73.76109589041097, 1.0, 0.0, 170.0, 19.990047100139332, 0.02347841740371434], [100.6984126984127, 27.319047619047623, 8.362222222222222, 110.01587301587301, 19.09047619047619, 2.6355555555555545, 4.816666666666666, 139.38095238095238, 871.3015873015873, 1.5655555555555556, 39.695238095238075, 29.00301587301589, 6.979365079365079, 2818.3104365079366, 65.8909921598145, 132.55555555555554, 79.80952380952381, 60.44783648619268, 0.0, 0.0, 156.0, 27.07552274811575, 0.02711997756561539], [103.71428571428571, 22.414285714285715, 5.471428571428572, 111.71428571428571, 26.24285714285714, 2.1357142857142857, 5.285714285714286, 137.28571428571428, 461.85714285714283, 1.5714285714285714, 35.714285714285715, 0.5314285714285714, 8.22857142857143, 2768.208571428572, 58.5, 154.57142857142858, 72.0, 58.84148727984344, 0.0, 1.0, 153.0, 24.990388312187616, 0.05839358372240989], [94.98461538461538, 26.75076923076923, 8.068615384615384, 112.93846153846154, 20.485076923076928, 2.5739999999999994, 4.048307692307695, 138.4323076923077, 810.8661538461539, 1.7066153846153844, 37.646153846153844, 12.921538461538455, 5.8712307692307695, 2714.7992692307735, 58.83401553706766, 117.1076923076923, 70.78461538461538, 66.73551106427817, 0.0, 0.0, 160.0, 22.982037319167077, 0.027970804767447663], [97.72, 27.76, 7.651999999999999, 106.6, 17.874, 2.6180000000000003, 3.9979999999999998, 138.66, 794.8, 1.6059999999999999, 34.18, 2.9899999999999998, 5.134, 2624.4519999999998, 47.0, 109.0, 64.0, 73.41753424657534, 1.0, 1.0, 156.0, 19.312952005259696, 0.02631913327598333], [97.10344827586206, 29.741379310344833, 8.342758620689658, 117.27586206896552, 26.820689655172405, 2.445517241379311, 4.317241379310345, 141.10344827586206, 1215.5172413793102, 1.2989655172413794, 40.06551724137931, 2.519310344827587, 6.999999999999999, 2553.2445689655174, 61.26495358063464, 136.27586206896552, 79.3103448275862, 38.95729806329711, 1.0, 1.0, 165.0, 22.503196907487457, 0.020724924632239766], [99.2, 25.28, 5.861999999999999, 98.0, 26.879999999999995, 2.04, 4.736, 135.6, 995.0, 2.186, 39.8, 3.6419999999999995, 5.12, 3745.7240000000006, 79.5, 138.0, 81.6, 61.67178082191781, 1.0, 0.0, 180.0, 24.537037037037035, 0.021955105424359526], [107.0, 23.485714285714288, 5.8914285714285715, 107.42857142857143, 20.857142857142854, 1.8442857142857145, 5.038571428571428, 141.28571428571428, 635.1428571428571, 1.3685714285714285, 41.785714285714285, 7.191428571428571, 5.314285714285715, 2804.461428571429, 60.0, 149.28571428571428, 84.28571428571429, 80.63561643835615, 0.0, 0.0, 150.0, 26.666666666666664, 0.03397745830198061], [94.64285714285714, 28.60238095238095, 5.629523809523809, 120.57142857142857, 21.469047619047615, 2.6735714285714276, 4.96452380952381, 136.35714285714286, 1196.6190476190477, 1.9176190476190471, 44.73095238095238, 0.959761904761905, 4.947619047619048, 4713.724166666668, 62.89580498866214, 118.88095238095238, 84.5, 26.69432485322896, 0.0, 0.0, 168.0, 22.284511404713058, 0.023482102467706663], [95.14285714285714, 26.871428571428574, 5.72, 114.71428571428571, 19.457142857142856, 2.0914285714285716, 3.7785714285714285, 136.85714285714286, 801.7142857142857, 1.1285714285714286, 31.585714285714285, 11.105714285714285, 4.928571428571429, 2643.464285714286, 48.0, 123.85714285714286, 62.285714285714285, 84.35538160469666, 1.0, 0.0, 170.0, 16.60899653979239, 0.02518288538193676], [98.17073170731707, 28.480487804878045, 4.073414634146342, 124.70731707317073, 26.890243902439025, 2.4573170731707323, 4.133902439024391, 141.6829268292683, 1078.2682926829268, 1.9848780487804887, 40.073170731707314, 3.7051219512195113, 5.443902439024389, 3382.044085365852, 73.50434091928231, 124.85365853658537, 75.97560975609755, 57.32001336451719, 1.0, 0.0, 174.0, 24.278088558357222, 0.021078702773359614], [94.65185185185184, 30.118518518518517, 7.997407407407407, 114.85185185185185, 23.818518518518527, 2.755555555555555, 4.082592592592592, 138.73703703703703, 1110.111111111111, 1.689259259259259, 39.43703703703704, 18.22259259259259, 5.274074074074075, 3653.9841666666653, 58.12248911329384, 126.70370370370371, 73.5925925925926, 59.04129883307966, 0.0, 0.0, 158.0, 23.282522477685397, 0.020023303014843348], [97.6, 30.32, 7.465999999999999, 109.6, 25.360000000000003, 2.42, 3.6879999999999997, 141.6, 1338.2, 1.418, 41.839999999999996, 0.674, 4.94, 2664.486, 72.4, 116.8, 76.6, 37.438904109589046, 1.0, 0.0, 178.0, 22.850650170433028, 0.018079776059259967], [98.48648648648648, 27.32702702702703, 8.472702702702703, 119.21621621621621, 16.9945945945946, 2.4205405405405407, 3.8740540540540542, 139.48648648648648, 817.8918918918919, 1.4097297297297298, 36.55945945945947, 6.687027027027026, 5.162162162162162, 2455.5904054054063, 52.44867491462862, 133.6216216216216, 71.27027027027027, 77.43843021103294, 0.0, 0.0, 150.0, 23.31052218427938, 0.025602746994787772], [95.75, 27.5, 7.3925, 125.75, 28.275, 2.4850000000000003, 3.7350000000000003, 139.0, 1064.25, 1.5575, 49.0, 0.89, 5.725, 3323.31, 55.0, 121.25, 85.0, 26.584246575342465, 1.0, 0.0, 170.0, 19.031141868512112, 0.025706287194279573], [93.94444444444444, 27.930555555555554, 8.797777777777776, 117.47222222222223, 20.883333333333336, 2.5002777777777783, 4.6275, 136.66666666666666, 1169.888888888889, 1.910277777777778, 42.63055555555556, 6.085277777777779, 4.394444444444443, 3363.6715972222205, 57.47703093197578, 122.08333333333333, 82.52777777777777, 41.13272450532724, 0.0, 0.0, 163.0, 21.633117893776884, 0.021340032406633954], [97.36744186046512, 28.239534883720935, 6.648139534883721, 113.27906976744185, 19.38837209302325, 2.272325581395349, 4.173953488372093, 136.8279069767442, 733.3720930232558, 1.5125581395348835, 33.369767441860475, 5.77953488372093, 8.76046511627907, 3588.3095930232566, 67.20167971990612, 130.8139534883721, 76.53488372093024, 48.168652437081874, 1.0, 1.0, 165.0, 24.683812569295185, 0.03747743969706438], [95.9090909090909, 27.64545454545454, 9.756363636363638, 110.27272727272727, 29.63636363636364, 2.532727272727273, 5.076363636363636, 137.9090909090909, 1117.0, 1.968181818181818, 39.14545454545454, 17.885454545454547, 4.963636363636363, 3621.3272727272724, 83.33181818181819, 126.72727272727273, 79.18181818181819, 59.6744707347447, 1.0, 1.0, 175.0, 27.210389610389612, 0.019423255214294638], [98.7175, 27.232499999999998, 5.26575, 117.5, 23.124999999999996, 2.3375000000000004, 4.737499999999999, 138.85250000000002, 1016.65, 1.498, 40.1225, 5.27425, 4.6, 3797.8478125, 86.41134672529196, 137.275, 87.375, 63.3631506849315, 1.0, 0.0, 173.0, 28.872112908981897, 0.02260198006960181], [93.62857142857143, 29.494285714285713, 9.428857142857142, 117.85714285714286, 20.934285714285718, 2.5120000000000005, 3.990571428571428, 137.0, 931.8, 1.719142857142857, 38.54571428571429, 11.679428571428572, 4.597142857142857, 2682.296285714284, 50.55938160499538, 137.6, 85.82857142857142, 41.83882583170254, 0.0, 0.0, 163.0, 19.029463511985924, 0.027881480921085753], [98.54545454545455, 28.036363636363635, 7.606363636363636, 126.0, 19.645454545454545, 5.913636363636365, 4.802727272727272, 139.1818181818182, 662.2727272727273, 1.290909090909091, 42.25454545454546, 1.839090909090909, 5.072727272727273, 3103.6995454545454, 50.03956043956043, 133.8181818181818, 89.18181818181819, 45.67247820672478, 0.0, 0.0, 160.0, 19.546703296703296, 0.04074581016830412], [98.42857142857143, 25.38571428571429, 7.470000000000001, 93.28571428571429, 18.428571428571427, 2.1614285714285715, 4.651428571428572, 138.71428571428572, 648.1428571428571, 1.5985714285714285, 36.542857142857144, 14.967142857142859, 5.542857142857143, 2845.9185714285713, 66.71428571428571, 135.42857142857142, 77.0, 58.32446183953033, 0.0, 0.0, 153.0, 28.49941719607233, 0.03821760987437032], [94.4608695652174, 27.721739130434784, 5.6786956521739125, 110.08695652173913, 22.85217391304348, 2.4186956521739122, 5.101739130434783, 138.91304347826087, 1184.1739130434783, 1.7947826086956524, 40.900000000000006, 3.8943478260869573, 5.63913043478261, 3036.8897826086964, 64.76750589940582, 129.47826086956522, 79.30434782608695, 67.21870160810006, 1.0, 0.0, 173.0, 21.640384209096794, 0.01719049042693932], [95.57857142857144, 29.83333333333334, 8.387142857142857, 118.38095238095238, 19.664285714285707, 2.359523809523809, 4.6607142857142865, 137.8952380952381, 633.5357142857143, 1.2895238095238097, 38.43571428571428, 5.227142857142856, 5.188095238095237, 3246.3884523809525, 69.44473530585051, 138.95238095238096, 75.11904761904762, 68.01076320939339, 0.0, 0.0, 160.0, 27.12684972884785, 0.2217655162907592], [99.53333333333333, 26.366666666666667, 10.265333333333333, 112.13333333333334, 18.19333333333333, 2.3400000000000003, 4.469333333333333, 137.73333333333332, 679.8, 1.7833333333333334, 42.480000000000004, 13.391999999999998, 6.02, 2886.0638333333345, 58.387250384024576, 148.8, 72.46666666666667, 58.2613698630137, 0.0, 0.0, 160.0, 22.807519681259596, 0.03737045209604943], [99.91304347826087, 28.347826086956523, 6.574347826086957, 116.08695652173913, 20.639130434782604, 2.258695652173913, 4.2126086956521736, 141.2173913043478, 872.795652173913, 1.6104347826086955, 34.71739130434783, 12.281739130434783, 7.1695652173913045, 2808.556956521739, 68.40485904907057, 133.56521739130434, 64.6086956521739, 80.98749255509235, 1.0, 1.0, 167.0, 24.5275409835672, 0.034270026231735466], [95.23939393939395, 29.272727272727277, 6.598484848484849, 113.33333333333333, 26.20909090909091, 2.433030303030303, 5.139090909090909, 136.65454545454546, 1159.1818181818182, 1.374848484848485, 38.187878787878795, 7.713636363636362, 5.251515151515149, 3259.0665909090903, 59.13938068015132, 143.1818181818182, 82.3030303030303, 52.80979659609797, 1.0, 0.0, 174.0, 19.533419434585593, 0.019473335291327536], [102.42857142857143, 27.799999999999994, 7.8307142857142855, 122.21428571428571, 17.678571428571427, 2.3378571428571426, 4.587142857142856, 140.07142857142858, 339.57142857142856, 1.2564285714285715, 38.392857142857146, 4.918571428571427, 8.492857142857144, 2847.4303571428577, 52.366432485322896, 139.78571428571428, 64.5, 74.20528375733856, 0.0, 1.0, 156.0, 21.51809355905773, 0.07732718947261132], [89.33333333333333, 25.778571428571436, 9.720714285714287, 108.19047619047619, 21.11666666666666, 2.391190476190476, 4.1499999999999995, 131.6904761904762, 881.1666666666666, 1.546190476190476, 38.157380952380954, 28.545, 8.188095238095238, 3176.507559523809, 83.13590379998544, 144.64285714285714, 68.69047619047619, 54.3379647749511, 1.0, 1.0, 172.0, 28.101644064354197, 0.027200853829035476], [97.76190476190476, 29.538095238095234, 5.822857142857142, 127.42857142857143, 15.595238095238095, 2.2866666666666666, 4.204285714285715, 138.76190476190476, 543.1904761904761, 1.0838095238095238, 38.42380952380953, 8.780952380952382, 6.147619047619047, 2669.1504761904753, 76.01163249317644, 118.0952380952381, 65.95238095238095, 77.17586431833008, 1.0, 0.0, 170.0, 26.30160293881538, 0.04284296797495062], [104.328125, 24.407812500000006, 7.447656250000001, 121.3125, 18.682812500000008, 2.6245312500000004, 4.653281249999999, 140.25, 747.984375, 1.6159375000000007, 41.989062499999996, 3.1568749999999994, 4.8203125, 4289.012929687501, 55.27970576109424, 133.84375, 81.34375, 53.84246575342465, 0.0, 0.0, 159.0, 21.86610725884823, 0.03606172562205034], [98.0, 30.584, 8.692000000000002, 112.76, 15.436000000000002, 2.5632000000000006, 4.118399999999999, 139.12, 795.36, 1.7620000000000002, 37.14000000000001, 10.756000000000002, 4.776, 2879.861100000001, 56.50308111652411, 133.52, 73.08, 75.74432876712329, 1.0, 0.0, 164.0, 21.007986732794507, 0.02626935367656178], [96.15263157894736, 25.763157894736846, 7.958947368421051, 106.73684210526316, 18.289473684210524, 2.4331578947368424, 4.0473684210526315, 138.79473684210527, 860.578947368421, 1.6321052631578947, 40.69473684210527, 34.50157894736841, 5.33684210526316, 2600.258421052631, 51.33710526315791, 131.1578947368421, 81.36842105263158, 61.751405912040376, 0.0, 0.0, 152.0, 22.220007471934686, 0.026755514939183857], [97.22941176470589, 28.61176470588235, 10.680588235294115, 118.17647058823529, 14.36470588235294, 2.6164705882352943, 3.7652941176470582, 138.76470588235293, 622.7470588235294, 1.5023529411764707, 36.65882352941176, 8.216470588235293, 5.81764705882353, 2928.3802941176473, 59.45734717163224, 111.0, 66.82352941176471, 75.14037066881549, 0.0, 0.0, 158.0, 23.81723568804367, 0.4512124000660594], [95.83333333333333, 27.399999999999995, 8.241666666666667, 131.33333333333334, 24.649999999999995, 1.915, 4.943333333333333, 138.83333333333334, 910.6666666666666, 1.7599999999999998, 37.36666666666667, 7.291666666666668, 7.433333333333333, 2642.3733333333334, 63.0, 151.83333333333334, 80.66666666666667, 75.37625570776255, 0.0, 0.0, 168.0, 22.32142857142858, 0.022556809676728063], [96.85714285714286, 31.585714285714285, 6.798928571428571, 108.35714285714286, 15.049285714285714, 2.591071428571428, 4.167857142857143, 135.39285714285714, 685.8571428571429, 1.1796428571428572, 36.699999999999996, 3.5932142857142852, 4.9350000000000005, 3080.9253571428585, 52.9367224559495, 138.57142857142858, 83.57142857142857, 65.10107632093934, 0.0, 0.0, 163.5, 19.802568977901043, 0.03452082147684945], [87.47999999999999, 31.880000000000003, 6.017000000000001, 110.1, 25.53, 2.2529999999999997, 4.494999999999999, 138.6, 1884.9, 1.366, 39.46, 1.3139999999999998, 4.799999999999999, 2854.73525, 74.71207373271889, 142.4, 81.9, 49.92, 1.0, 1.0, 182.0, 22.55526921045734, 0.02310762177604115], [98.16666666666667, 29.333333333333332, 8.598333333333331, 127.5, 15.283333333333333, 2.408333333333333, 4.463333333333334, 139.16666666666666, 819.6666666666666, 1.6483333333333334, 41.449999999999996, 1.6216666666666668, 12.666666666666666, 4151.919999999999, 80.0, 112.5, 72.16666666666667, 37.666666666666664, 1.0, 1.0, 170.0, 27.68166089965398, 0.033159010515022555], [98.8, 30.130000000000003, 8.242499999999996, 119.325, 16.526750000000007, 2.55625, 3.9094999999999986, 137.75, 751.46, 1.5939999999999994, 42.57999999999998, 2.464, 5.47725, 3158.6066875000006, 56.3492202258815, 135.675, 79.075, 67.44986301369862, 0.0, 0.0, 160.0, 22.011414150734964, 0.03067884566522148], [94.7016393442623, 26.075409836065575, 8.43672131147541, 112.73770491803279, 19.84098360655738, 2.59016393442623, 4.50295081967213, 138.04098360655738, 1015.360655737705, 1.92, 39.519672131147544, 26.641147540983606, 9.940983606557378, 3022.1055737704896, 63.27350645399328, 139.65573770491804, 78.0, 60.126656186840336, 0.0, 1.0, 160.0, 24.71621345859112, 0.022656820778131467], [104.0, 25.549999999999997, 5.95, 129.5, 17.0, 2.18, 4.6, 141.0, 765.0, 1.16, 42.0, 0.75, 5.4, 2727.1349999999998, 62.0, 130.0, 87.5, 38.52465753424657, 0.0, 0.0, 150.0, 27.555555555555557, 0.03586671966788809], [104.75, 25.450000000000003, 5.77875, 121.0625, 19.375, 2.3537499999999993, 4.3256250000000005, 141.75, 739.71875, 1.3424999999999998, 43.9125, 0.769375, 4.731250000000001, 4241.761249999999, 68.35739715189874, 110.6875, 71.125, 30.88047945205479, 1.0, 0.0, 173.0, 22.839853370275897, 0.6501189812802856], [100.88372093023256, 24.934883720930227, 8.241395348837209, 120.30232558139535, 19.002325581395347, 2.587906976744186, 3.8295348837209313, 139.48837209302326, 874.4418604651163, 1.4253488372093024, 42.41627906976744, 1.9655813953488368, 5.746511627906975, 4252.56011627907, 65.5351394682145, 123.16279069767442, 77.65116279069767, 44.03676330041415, 0.0, 0.0, 160.0, 25.59966385477128, 0.04541895383156305], [94.24324324324324, 26.700000000000003, 8.322162162162162, 121.29729729729729, 22.65405405405405, 2.5954054054054057, 5.1870270270270264, 136.2972972972973, 1055.4594594594594, 1.9300000000000006, 43.32432432432434, 2.4297297297297304, 6.062162162162161, 4132.919391891893, 79.89035005468779, 138.0, 87.8108108108108, 49.149796371714196, 1.0, 0.0, 168.0, 28.305821306224416, 0.022230598021012106], [97.51111111111112, 28.477777777777778, 4.372222222222223, 81.88888888888889, 21.62222222222222, 2.2055555555555557, 4.825555555555555, 138.66666666666666, 749.5555555555555, 1.586666666666667, 31.688888888888886, 44.22777777777778, 5.155555555555555, 2550.1066666666666, 62.199999999999996, 168.33333333333334, 92.44444444444444, 51.69771689497717, 0.0, 0.0, 158.0, 24.915878865566413, 0.03364803944290056], [94.12068965517241, 30.682758620689665, 7.325862068965518, 119.65517241379311, 24.410344827586208, 2.51, 4.059655172413793, 136.20344827586206, 1168.2413793103449, 1.5806896551724139, 40.56551724137931, 6.366896551724138, 6.220689655172414, 3831.637586206898, 62.41181730710128, 146.13793103448276, 75.34482758620689, 66.51743032593293, 1.0, 0.0, 166.0, 22.649084521375123, 0.017858235494420564], [94.89473684210526, 28.69473684210526, 6.633157894736842, 118.21052631578948, 20.847368421052632, 2.1942105263157887, 4.292105263157896, 136.31578947368422, 822.6315789473684, 1.577894736842105, 38.36315789473684, 7.9557894736842085, 11.494736842105263, 5356.876578947366, 58.86172091186872, 130.10526315789474, 68.36842105263158, 64.40374909877433, 1.0, 1.0, 165.0, 21.620466817949943, 0.027663849162883773], [97.75, 27.025000000000002, 6.9437500000000005, 114.625, 19.150000000000002, 2.4650000000000003, 3.87, 139.0, 813.125, 1.4387500000000002, 42.025000000000006, 0.6025, 5.1375, 3218.4675000000007, 47.0, 118.0, 83.625, 26.220890410958905, 0.0, 0.0, 165.0, 17.263544536271812, 0.03631267215385596], [101.24324324324324, 28.10810810810811, 6.898918918918921, 109.21621621621621, 16.475675675675678, 2.183513513513514, 4.292432432432432, 140.43243243243242, 770.1351351351351, 1.137837837837838, 31.678378378378376, 2.0127027027027027, 5.116216216216217, 3190.084594594596, 50.09075515643312, 135.8108108108108, 75.70270270270271, 72.7592002961866, 0.0, 0.0, 156.0, 20.58298617539164, 0.029594461964818485], [93.66666666666667, 27.82222222222222, 8.278888888888888, 100.33333333333333, 21.27777777777778, 2.5877777777777777, 4.181111111111111, 136.77777777777777, 723.0, 1.8077777777777777, 35.388888888888886, 12.582222222222223, 6.944444444444445, 2496.0666666666666, 54.04307391091532, 149.0, 73.22222222222223, 76.06027397260273, 0.0, 0.0, 155.0, 22.49451567571917, 0.029970786136525214], [97.33333333333333, 26.78333333333333, 9.973333333333333, 115.16666666666667, 17.0, 2.5133333333333336, 4.111666666666666, 137.66666666666666, 787.3333333333334, 1.03, 35.6, 5.581666666666667, 10.133333333333333, 2810.9533333333334, 70.0, 118.33333333333333, 74.66666666666667, 52.84292237442923, 1.0, 1.0, 177.0, 22.34351559258195, 0.03126865747088307], [98.0, 25.483333333333334, 11.676666666666668, 98.16666666666667, 17.533333333333335, 2.3733333333333335, 3.858333333333333, 142.0, 820.3333333333334, 2.0566666666666666, 42.833333333333336, 11.271666666666667, 4.3500000000000005, 3000.681666666667, 62.0, 133.5, 100.16666666666667, 22.371689497716897, 0.0, 0.0, 157.0, 25.153150229218223, 0.03798214916734222], [94.14285714285714, 28.971428571428568, 8.602857142857143, 126.28571428571429, 12.642857142857144, 2.5185714285714282, 3.768571428571429, 137.42857142857142, 520.2857142857143, 1.441428571428571, 34.57142857142857, 17.4, 4.971428571428572, 2502.9514285714286, 49.75, 129.71428571428572, 71.42857142857143, 82.5013698630137, 0.0, 0.0, 143.0, 24.32881803511174, 0.04199961321848622], [94.38, 26.53, 10.6275, 127.9, 16.588, 2.415, 3.8270000000000004, 137.1, 702.4, 1.5645000000000002, 36.31000000000001, 8.869999999999997, 5.788500000000001, 2964.3222500000015, 55.64928081232493, 132.2, 66.5, 79.11739726027398, 0.0, 0.0, 155.0, 23.16307213832463, 0.033681002306579264], [97.25384615384615, 27.592307692307696, 7.602307692307691, 115.0, 21.769230769230774, 2.1992307692307693, 4.372307692307692, 138.92307692307693, 1067.2153846153847, 2.136923076923077, 39.13846153846153, 4.12923076923077, 6.176923076923078, 3323.3830769230767, 82.21349721053565, 140.3846153846154, 72.61538461538461, 72.87818756585881, 1.0, 1.0, 174.0, 27.154676050513824, 0.018666140650994183], [96.74193548387096, 29.13225806451613, 9.584516129032256, 117.2258064516129, 14.422580645161286, 2.141290322580645, 4.062580645161291, 138.80645161290323, 737.3225806451613, 1.408064516129032, 34.187096774193556, 15.726774193548389, 8.2, 2555.6738709677406, 76.96719669954109, 123.96774193548387, 64.45161290322581, 80.66327883340698, 1.0, 1.0, 161.0, 29.692988966298, 0.031072292955749842], [93.54545454545455, 29.163636363636368, 10.52727272727273, 114.84848484848484, 16.745454545454546, 2.287575757575758, 4.092424242424243, 134.12121212121212, 550.030303030303, 1.0081818181818183, 30.863636363636367, 22.645757575757578, 11.748484848484848, 3145.6978787878793, 65.81711781761021, 130.0909090909091, 68.57575757575758, 82.52885014528852, 0.0, 1.0, 160.0, 25.709811647503983, 0.04211783994477051], [105.0, 24.741666666666664, 5.649166666666666, 112.66666666666667, 17.64166666666667, 1.9916666666666665, 4.849166666666667, 139.83333333333334, 365.3333333333333, 1.4666666666666668, 33.583333333333336, 8.544166666666667, 6.058333333333331, 3868.653333333333, 69.0, 142.08333333333334, 70.08333333333333, 80.23698630136987, 1.0, 1.0, 174.0, 22.790328973444307, 0.06758018958039769], [99.37777777777778, 28.741111111111106, 5.978333333333333, 119.33333333333333, 21.144444444444446, 2.3655555555555554, 3.647777777777778, 137.82222222222222, 572.8222222222222, 1.5883333333333334, 35.45555555555555, 12.409444444444441, 8.111111111111107, 3307.4694444444444, 63.53076673863901, 131.72222222222223, 65.72222222222223, 85.19984779299847, 1.0, 0.0, 168.0, 22.509483680073348, 0.12338995164966998], [96.90882352941176, 26.01058823529411, 6.991176470588236, 119.73529411764706, 15.741176470588233, 2.454117647058823, 3.901176470588236, 135.5705882352941, 802.965, 1.6185294117647058, 32.76470588235294, 16.013529411764708, 7.788235294117648, 1931.297941176471, 52.091339661080745, 123.91176470588235, 63.6764705882353, 80.22304593070106, 0.0, 1.0, 165.0, 19.13364174878999, 0.025457299039754716], [92.8125, 28.387500000000003, 7.610625, 118.6875, 19.756250000000005, 2.3156250000000003, 3.63625, 136.4375, 927.875, 1.45625, 40.75, 12.316875, 6.59375, 2540.93, 59.243916383861226, 137.5625, 81.6875, 70.09811643835616, 0.0, 0.0, 163.0, 22.298135565456445, 0.023476744939053086], [98.11428571428571, 30.34285714285715, 7.317142857142858, 124.85714285714286, 17.585714285714285, 2.48, 3.704285714285714, 141.14285714285714, 645.7142857142857, 1.56, 40.142857142857146, 10.969999999999999, 5.757142857142858, 2845.401428571429, 68.0, 97.14285714285714, 64.0, 81.69275929549902, 1.0, 0.0, 178.0, 21.46193662416362, 0.0474028999705605], [94.9090909090909, 27.86363636363637, 8.322272727272727, 104.4090909090909, 22.204545454545457, 2.2818181818181817, 4.4359090909090915, 137.39090909090908, 872.3772727272727, 1.539090909090909, 37.727272727272734, 6.263636363636365, 4.876363636363638, 3715.201363636363, 69.2108028008669, 136.6818181818182, 78.27272727272727, 71.63424657534246, 1.0, 0.0, 170.0, 23.948374671580247, 0.02412777120656916], [102.75, 27.9125, 7.3525, 104.125, 21.612499999999997, 2.07625, 3.9937500000000004, 141.125, 549.25, 1.6799999999999997, 36.9, 1.8587500000000001, 6.975, 2592.8615625, 57.2, 115.125, 58.75, 78.5458904109589, 1.0, 1.0, 155.0, 23.80853277835588, 0.044382534016938265], [96.28571428571429, 27.095238095238102, 7.420476190476189, 81.0952380952381, 15.857142857142858, 2.365238095238095, 5.32952380952381, 135.1904761904762, 742.0, 1.7147619047619047, 32.733333333333334, 22.97, 7.337142857142856, 3141.9233333333327, 50.22950020438909, 169.95238095238096, 84.9047619047619, 57.72302674494455, 0.0, 0.0, 160.0, 19.620898517339484, 0.03294150519329573], [93.38461538461539, 31.323076923076925, 6.402307692307692, 119.0, 22.73846153846154, 2.5215384615384617, 4.413076923076923, 137.6153846153846, 1181.076923076923, 1.2476923076923079, 39.76153846153845, 4.554615384615384, 5.815384615384616, 4589.7669230769225, 63.139582859590334, 104.84615384615384, 67.6923076923077, 59.76628029504742, 1.0, 0.0, 170.0, 21.84760652580981, 0.018030761658431402], [98.4470588235294, 26.588235294117645, 7.0870588235294125, 119.6470588235294, 20.01176470588235, 2.4452941176470584, 4.408235294117646, 138.7058823529412, 594.4117647058823, 1.61, 35.923529411764704, 1.328235294117647, 8.205882352941176, 3929.0664705882346, 49.70882352941176, 125.70588235294117, 57.11764705882353, 84.44770346494764, 1.0, 0.0, 170.0, 17.200284958273972, 0.03532288652902785], [93.94117647058823, 27.17058823529412, 15.232941176470584, 140.35294117647058, 15.005882352941178, 2.2982352941176476, 3.7952941176470585, 137.05882352941177, 697.6058823529411, 1.2476470588235296, 33.417647058823526, 21.274117647058826, 10.505882352941178, 2128.641176470588, 56.76009595327493, 136.35294117647058, 73.82352941176471, 65.23883964544723, 1.0, 1.0, 167.0, 20.35214455637524, 0.5038864518446229], [97.77777777777777, 28.622222222222224, 8.076111111111112, 109.38888888888889, 17.727777777777778, 2.5044444444444443, 4.418333333333333, 139.22222222222223, 823.0, 1.372777777777778, 36.72777777777778, 9.257777777777777, 4.361111111111111, 3739.8049999999994, 53.69708535835988, 130.72222222222223, 87.66666666666667, 46.419025875190265, 0.0, 0.0, 152.0, 23.24146700067515, 0.03153734912975553], [94.33333333333333, 28.73333333333333, 6.406666666666666, 76.66666666666667, 16.7, 2.4133333333333336, 3.1966666666666668, 140.66666666666666, 1023.6666666666666, 2.02, 36.300000000000004, 8.51, 6.466666666666666, 2991.8666666666663, 48.666666666666664, 114.66666666666667, 76.33333333333333, 22.015525114155253, 0.0, 0.0, 168.0, 17.24300831443689, 0.02834118326056578], [100.9090909090909, 26.83636363636364, 7.899090909090909, 141.54545454545453, 18.636363636363637, 2.733636363636364, 5.0218181818181815, 140.45454545454547, 1039.8181818181818, 2.087272727272728, 39.73636363636364, 1.8645454545454543, 4.736363636363635, 3491.985, 60.28838618745596, 119.9090909090909, 75.18181818181819, 55.71407222914072, 1.0, 0.0, 170.0, 20.861033282856734, 0.02269185846314942], [98.29411764705883, 29.01176470588235, 6.029411764705883, 107.29411764705883, 21.917647058823526, 2.5164705882352942, 4.14764705882353, 138.05882352941177, 858.1764705882352, 1.5023529411764704, 36.635294117647064, 1.7435294117647056, 4.582352941176471, 3183.4089705882348, 50.69677650917628, 127.29411764705883, 88.3529411764706, 48.35938759065268, 0.0, 0.0, 163.0, 19.081175998033906, 0.02948160043572862], [97.41666666666667, 28.36666666666666, 6.807500000000001, 123.75, 23.575, 2.2516666666666665, 4.705, 137.25, 606.9166666666666, 1.31, 39.15833333333333, 4.775833333333333, 9.15, 5840.9775, 74.71758078231292, 161.75, 88.91666666666667, 78.50844748858448, 1.0, 1.0, 177.0, 23.84933473213729, 0.03608102295984424], [95.25, 26.064999999999998, 6.301500000000001, 92.0, 23.71, 2.227, 4.2965, 134.95, 713.45, 1.526, 33.015, 14.410499999999999, 5.265, 2269.201000000001, 60.743928590191864, 90.95, 54.85, 60.053835616438356, 1.0, 0.0, 173.0, 20.2960100872705, 0.03317812001741847], [95.792, 28.888, 7.228399999999999, 107.32, 19.046400000000002, 2.5324, 4.4664, 139.22000000000003, 629.4, 1.4108000000000005, 35.35600000000001, 15.722800000000001, 9.149199999999997, 2621.6802999999995, 62.533950197046536, 137.48, 64.56, 81.77753424657534, 0.0, 1.0, 156.0, 25.696067635209783, 0.03656361383145202], [96.79411764705883, 26.15294117647059, 6.213529411764706, 120.73529411764706, 17.355588235294118, 2.385294117647059, 4.117647058823529, 136.58823529411765, 561.25, 1.2988235294117647, 33.05588235294118, 4.3273529411764695, 5.2620588235294115, 2433.4908823529404, 41.50951817913095, 131.44117647058823, 76.11764705882354, 84.74987912973408, 0.0, 0.0, 154.0, 17.502748431072252, 0.03914871666363909], [97.125, 25.020833333333332, 8.021666666666665, 108.75, 17.09166666666667, 2.0691666666666664, 3.966666666666667, 135.75, 579.2916666666666, 1.46875, 33.529166666666676, 16.754583333333333, 6.079166666666666, 3797.9546874999974, 38.046608816599225, 149.0, 81.125, 77.22260273972603, 0.0, 0.0, 156.0, 15.633879362507903, 0.03910905832163636], [94.83846153846154, 28.9, 9.22, 116.92307692307692, 16.442307692307693, 2.6907692307692304, 4.146153846153846, 137.85384615384615, 930.823076923077, 1.2192307692307691, 37.63076923076924, 5.762307692307693, 5.060769230769231, 2940.9873076923072, 67.78796595561302, 134.23076923076923, 77.0, 60.31738672286618, 1.0, 0.0, 165.0, 24.89916104889367, 0.024142284057938206], [97.89655172413794, 29.555172413793102, 8.904137931034484, 98.10344827586206, 13.62068965517241, 2.314827586206897, 4.09551724137931, 138.31034482758622, 648.6206896551724, 1.2493103448275864, 34.54482758620689, 10.805517241379311, 6.048275862068966, 2388.127586206895, 46.55139617162581, 134.44827586206895, 87.86206896551724, 31.375247992442134, 0.0, 1.0, 160.0, 18.18413912954133, 0.04750430364496767], [95.66551724137932, 26.10517241379311, 13.941206896551725, 126.8103448275862, 17.58844827586207, 2.519310344827587, 4.446206896551724, 137.76724137931035, 1097.6896551724137, 1.8381034482758623, 41.28103448275861, 6.558275862068964, 6.281896551724137, 3437.596465517242, 62.56028425647911, 131.93103448275863, 89.27586206896552, 59.18176665092111, 1.0, 0.0, 166.0, 22.702962787225708, 0.019883319713880885], [98.77931034482758, 28.682758620689658, 7.084827586206897, 106.34482758620689, 24.48275862068965, 2.4775862068965515, 4.854827586206897, 141.15862068965518, 1241.9068965517242, 1.8337931034482762, 39.66896551724138, 1.7731034482758619, 5.458620689655171, 3940.498620689656, 59.90129033669461, 160.93103448275863, 105.03448275862068, 28.943788379782706, 1.0, 0.0, 172.0, 20.247867204128788, 0.08691359497749158], [97.75, 28.900000000000002, 6.300000000000001, 111.5, 23.174999999999997, 2.14, 4.1000000000000005, 139.0, 872.0, 1.6925000000000001, 38.225, 1.2325, 4.725, 3635.1674999999996, 44.7, 115.0, 77.5, 24.184931506849317, 0.0, 0.0, 154.0, 18.848035081801317, 0.03425501786051358], [97.2, 26.68, 8.898, 119.6, 27.7, 2.48, 4.396, 138.8, 1149.8, 1.6280000000000001, 38.94, 2.39, 4.64, 4071.0899999999992, 81.0, 174.6, 104.0, 49.844931506849306, 1.0, 0.0, 175.0, 26.448979591836736, 0.020342862139669786], [100.08461538461538, 29.83846153846154, 5.9376923076923065, 95.46153846153847, 17.169230769230772, 2.255384615384615, 3.8784615384615386, 141.26153846153846, 558.2307692307693, 1.3323076923076926, 29.753846153846155, 16.300769230769227, 5.023076923076923, 2599.797884615385, 45.7840432453119, 144.6153846153846, 72.23076923076923, 52.224868282402525, 0.0, 0.0, 161.0, 17.66291549142082, 0.05021924826260774], [104.9, 23.91, 4.965, 105.1, 31.110000000000003, 1.5909999999999997, 5.011, 139.8, 1000.3, 2.0810000000000004, 33.290000000000006, 3.239, 4.640000000000001, 4442.76, 62.0, 155.3, 86.8, 69.61232876712329, 0.0, 0.0, 167.0, 22.230987127541322, 0.02132604881593074], [88.39999999999999, 29.708333333333332, 10.575416666666667, 118.95833333333333, 17.0125, 2.3387499999999997, 3.9037500000000005, 132.01250000000002, 786.8125, 1.8195833333333338, 38.37916666666667, 12.99708333333333, 10.94166666666667, 2942.708020833333, 45.70374420395961, 131.29166666666666, 66.45833333333333, 67.1980593607306, 0.0, 1.0, 160.0, 17.85302507967172, 0.30900045892064637], [96.8, 28.03666666666667, 9.091999999999997, 123.93333333333334, 21.17333333333334, 2.3176666666666668, 4.188, 137.66666666666666, 1055.8333333333333, 1.533333333333333, 32.02, 11.21533333333333, 9.080000000000002, 3830.6663333333327, 64.35642045454546, 128.16666666666666, 69.46666666666667, 63.62420091324199, 1.0, 1.0, 165.0, 23.638721930044245, 0.02025990681521248], [95.89090909090909, 26.345454545454547, 2.620909090909091, 54.45454545454545, 29.519090909090902, 2.5454545454545454, 4.058181818181818, 138.75454545454545, 1067.4727272727273, 1.6554545454545453, 38.99090909090909, 6.020909090909091, 7.568181818181819, 2966.365909090909, 64.11161297380305, 119.54545454545455, 75.63636363636364, 58.99103362391033, 1.0, 0.0, 172.0, 21.671042784546742, 0.021818813805662498], [95.125, 29.875, 11.2775, 124.875, 17.125, 2.63375, 3.93375, 138.625, 991.875, 1.54, 39.0, 1.85125, 5.1375, 3285.4574999999995, 51.0, 131.875, 88.875, 49.80719178082191, 0.0, 0.0, 160.0, 19.921874999999996, 0.024270100437626833], [94.25, 29.674999999999997, 8.36125, 122.75, 10.912500000000001, 2.55875, 3.7624999999999993, 135.0, 457.25, 1.1125, 35.512499999999996, 1.59125, 6.762500000000001, 2022.63875, 42.625, 131.125, 96.5, 68.05924657534247, 0.0, 0.0, 153.0, 18.20880857789739, 0.05624650321631639], [96.0, 28.0, 8.075, 92.5, 22.2, 2.28, 4.24, 140.0, 621.0, 1.6, 30.0, 143.70499999999998, 7.4, 3518.46, 64.0, 124.0, 72.5, 72.48630136986301, 1.0, 1.0, 173.0, 21.383941996057334, 0.035704031723529324], [96.85714285714286, 27.42142857142857, 5.885714285714285, 79.42857142857143, 26.371428571428574, 2.329285714285714, 3.6607142857142856, 138.42857142857142, 1274.2857142857142, 1.8314285714285712, 34.971428571428575, 16.123571428571427, 6.435714285714286, 3761.190000000001, 60.87766106442575, 149.35714285714286, 89.42857142857143, 23.29373776908024, 1.0, 1.0, 176.0, 19.653170539910178, 0.02138775682245237], [101.6, 27.860000000000003, 5.390000000000001, 118.4, 21.860000000000003, 2.34, 4.709999999999999, 137.6, 885.6, 1.48, 36.5, 9.690000000000001, 4.4, 3822.318, 63.5, 123.4, 86.4, 45.43506849315069, 1.0, 0.0, 172.0, 21.464305029745812, 0.028677212246440313], [99.7304347826087, 28.171739130434784, 7.840652173913048, 111.28260869565217, 15.747173913043483, 2.447391304347826, 3.9054347826086953, 140.74347826086955, 925.35, 1.5532608695652177, 36.610869565217385, 5.875869565217392, 7.25413043478261, 3415.959728260871, 67.85293484090214, 137.3695652173913, 65.8695652173913, 76.34907683144728, 1.0, 1.0, 170.0, 23.47852416640213, 0.02431070091780989], [95.63636363636364, 28.427272727272726, 8.160000000000002, 114.72727272727273, 17.14090909090909, 2.4404545454545454, 4.465, 136.77272727272728, 889.4909090909091, 1.3127272727272727, 40.809090909090905, 7.371363636363636, 5.477272727272726, 3933.6422159090916, 54.14234063371778, 132.9090909090909, 87.13636363636364, 44.05977584059775, 1.0, 0.0, 161.0, 20.88744285857714, 0.5917846245827698], [97.9375, 29.175, 6.821875, 100.9375, 18.2375, 2.3493749999999998, 4.2631250000000005, 141.5, 742.5, 1.3175, 40.449999999999996, 3.6675000000000004, 4.937499999999999, 2663.3371875, 52.13125, 121.9375, 82.1875, 41.08150684931507, 0.0, 0.0, 168.0, 18.470539257369616, 0.03697664095422659], [93.57499999999999, 27.403846153846146, 7.521346153846153, 137.1153846153846, 11.440384615384618, 2.559423076923077, 4.012499999999999, 135.23076923076923, 553.5961538461538, 1.3442307692307696, 34.05769230769231, 13.459230769230768, 9.93269230769231, 2409.3832692307697, 46.729905519933205, 128.8653846153846, 66.46153846153847, 78.19483667017911, 0.0, 0.0, 153.0, 19.96236726042684, 0.040811002719454564], [100.02857142857142, 28.597142857142863, 8.817428571428572, 96.02857142857142, 23.071428571428573, 2.3902857142857137, 3.938857142857144, 142.5142857142857, 944.7714285714286, 1.5779999999999994, 34.66857142857143, 7.555428571428573, 7.737142857142859, 2202.3145, 75.889446502917, 137.42857142857142, 66.54285714285714, 67.79960861056752, 0.0, 1.0, 160.0, 29.64431504020196, 0.024324028263067916], [99.6470588235294, 27.247058823529418, 3.9405882352941184, 89.29411764705883, 25.323529411764707, 2.2899999999999996, 4.465294117647058, 139.2941176470588, 988.7058823529412, 1.7523529411764702, 40.229411764705866, 0.9299999999999998, 4.552941176470588, 4785.195294117646, 51.85748220591421, 132.52941176470588, 82.82352941176471, 38.70104754230459, 1.0, 0.0, 154.0, 21.86603230136373, 0.02652308672779998], [96.13333333333334, 30.30666666666666, 7.354666666666666, 120.8, 15.353333333333332, 2.4880000000000004, 4.212666666666667, 138.33333333333334, 632.2666666666667, 1.34, 37.93999999999999, 8.296666666666667, 5.613333333333333, 2974.331, 51.917672990728796, 106.86666666666666, 67.93333333333334, 68.2931506849315, 0.0, 0.0, 156.0, 21.33369205733432, 0.03740895449847572], [101.66666666666667, 29.46666666666667, 8.513333333333334, 113.33333333333333, 27.366666666666664, 2.0833333333333335, 3.353333333333333, 144.33333333333334, 882.0, 1.27, 31.833333333333332, 5.57, 3.8333333333333335, 3814.0500000000006, 57.29999999999999, 112.66666666666667, 52.0, 74.07214611872148, 1.0, 0.0, 170.0, 19.826989619377162, 0.024353452744113727], [95.88461538461539, 25.861538461538466, 6.587692307692308, 124.38461538461539, 19.97153846153846, 2.6361538461538463, 4.06576923076923, 139.15384615384616, 889.5, 1.8423076923076918, 38.95, 13.68576923076923, 5.5346153846153845, 2559.408653846155, 61.212783005543095, 105.23076923076923, 68.46153846153847, 72.27481559536355, 0.0, 0.0, 153.0, 26.149251572276945, 0.023735897220858063], [98.42857142857143, 27.171428571428574, 7.915714285714286, 118.14285714285714, 19.54285714285714, 1.772857142857143, 3.4071428571428575, 141.57142857142858, 953.0, 1.0557142857142856, 38.642857142857146, 0.8557142857142858, 5.514285714285714, 2699.9928571428572, 49.6, 96.57142857142857, 60.857142857142854, 63.2481409001957, 1.0, 0.0, 165.0, 18.21854912764004, 0.023313526316006954], [102.0, 27.061111111111114, 7.801111111111112, 107.77777777777777, 19.35, 2.2622222222222224, 4.98, 138.27777777777777, 621.1111111111111, 1.2538888888888888, 35.644444444444446, 7.79222222222222, 8.816666666666668, 3823.312222222222, 73.74734040366671, 133.61111111111111, 79.0, 71.39649923896499, 1.0, 0.0, 170.0, 25.51811086632067, 0.03835865263354423], [100.5, 28.8, 4.470000000000001, 117.0, 18.45, 2.325, 4.235, 142.5, 757.0, 1.89, 38.3, 0.9450000000000001, 4.75, 3729.9675, 62.9, 130.0, 80.0, 44.272602739726025, 0.0, 0.0, 156.0, 25.846482577251805, 0.03520289509787408], [101.96, 26.968000000000004, 5.672, 110.48, 16.788, 2.3404000000000003, 4.053599999999999, 139.32, 547.8, 1.3647999999999998, 34.69199999999999, 1.5692000000000008, 5.704000000000001, 2779.8372, 44.25276654504631, 149.24, 64.52, 86.46947945205478, 1.0, 0.0, 150.0, 19.667896242242804, 0.03818953393973926], [96.37931034482759, 27.544827586206885, 7.487068965517242, 106.39655172413794, 16.59310344827586, 2.5786206896551733, 4.153620689655172, 138.5, 868.2241379310345, 1.661724137931034, 39.5310344827586, 19.25568965517241, 4.924137931034482, 3237.9212068965544, 63.8020119060852, 136.89655172413794, 85.55172413793103, 54.543693906471404, 0.0, 0.0, 160.0, 24.92266090081456, 0.027905931231752803], [94.25, 25.925, 12.4225, 95.25, 15.5, 2.4175, 3.4699999999999998, 135.75, 594.0, 1.4349999999999998, 36.85, 18.9875, 4.8500000000000005, 1588.5550000000003, 54.2, 132.5, 72.5, 65.71232876712328, 0.0, 0.0, 165.0, 19.908172635445364, 0.040225496194194], [99.55555555555556, 30.35555555555556, 5.808888888888889, 111.82222222222222, 21.6, 2.6655555555555557, 5.148888888888889, 140.0, 684.6666666666666, 1.421111111111111, 37.87777777777778, 2.1399999999999997, 9.322222222222221, 3195.490555555556, 65.49180327868852, 148.0, 78.33333333333333, 60.083713850837135, 1.0, 1.0, 172.0, 22.13757547278547, 0.03470245656187077], [100.94117647058823, 28.43529411764706, 5.244705882352941, 106.29411764705883, 21.341176470588238, 2.3676470588235294, 4.093529411764705, 140.47058823529412, 991.2941176470588, 1.9594117647058824, 33.82941176470588, 11.60294117647059, 4.470588235294117, 4648.629999999999, 63.34107326639739, 127.47058823529412, 68.47058823529412, 82.76809024979856, 1.0, 0.0, 170.0, 21.917326389756884, 0.02015735499582884], [99.75, 28.475, 11.435, 118.5, 12.649999999999999, 2.4275, 3.66, 143.5, 401.5, 1.5050000000000001, 38.85, 1.775, 5.949999999999999, 3580.77, 50.0, 133.25, 82.25, 60.71232876712328, 0.0, 1.0, 160.0, 19.531249999999996, 0.06706285371368001], [96.37288135593221, 28.571186440677963, 10.410677966101694, 111.37288135593221, 21.88813559322033, 2.5210169491525423, 4.276610169491525, 138.64406779661016, 1107.8305084745762, 1.4877966101694913, 40.952542372881375, 12.90457627118643, 5.1830508474576265, 4341.792627118644, 70.53676315675301, 136.864406779661, 82.62711864406779, 58.50963547713023, 1.0, 0.0, 170.0, 24.407184483305507, 0.019907870356676367], [98.33333333333333, 26.58750000000001, 11.04979166666667, 106.35416666666667, 24.539583333333344, 2.4772916666666664, 4.742708333333332, 139.66666666666666, 986.25, 1.6606250000000002, 42.300000000000004, 10.953333333333333, 6.152083333333331, 4139.144791666667, 78.27388091712982, 143.04166666666666, 71.70833333333333, 60.926655251141575, 0.0, 1.0, 162.0, 29.82543854485966, 0.023025023322108693], [100.075, 26.275, 5.854249999999999, 107.6, 21.332500000000003, 2.459249999999999, 4.547499999999999, 139.15, 964.325, 1.7287499999999998, 38.52500000000001, 10.14125, 5.307500000000001, 3249.7208125000006, 62.851613184034946, 123.25, 74.475, 61.728356164383555, 0.0, 0.0, 150.0, 27.934050304015518, 0.02512502490515709], [94.11764705882354, 26.15294117647059, 5.589999999999999, 91.58823529411765, 30.041176470588233, 2.121176470588235, 4.555294117647058, 135.94117647058823, 623.7647058823529, 2.1, 35.70588235294117, 12.631764705882352, 6.064705882352941, 2650.8823529411766, 59.05467212526037, 83.76470588235294, 49.294117647058826, 75.55471394037066, 1.0, 0.0, 160.0, 23.06823129892982, 0.03514163879693954], [98.41666666666667, 27.129166666666666, 7.402083333333334, 109.45833333333333, 22.816666666666674, 2.3212500000000005, 4.710833333333333, 141.0, 988.9166666666666, 1.67125, 36.537499999999994, 25.060000000000013, 5.5249999999999995, 3196.1110416666675, 68.52880268526287, 129.25, 67.66666666666667, 62.33561643835617, 1.0, 1.0, 170.0, 23.7123884724093, 0.022318303229647313], [103.57142857142857, 23.357142857142858, 5.43, 104.14285714285714, 17.78571428571429, 2.1142857142857143, 5.085714285714286, 140.42857142857142, 585.9142857142857, 2.09, 37.42857142857143, 1.554285714285714, 4.914285714285714, 2662.5271428571427, 44.24557823129252, 138.42857142857142, 85.0, 44.46340508806262, 0.0, 0.0, 158.0, 17.72375349755348, 0.05035209233548592], [96.52, 26.227999999999998, 7.340599999999999, 120.4, 23.198, 2.5532, 4.667200000000001, 137.21, 833.3860000000001, 1.8036, 40.354, 3.0029999999999997, 6.675999999999999, 3466.5253499999976, 61.712875361445974, 143.9, 81.66, 55.78498630136987, 0.0, 1.0, 160.0, 24.10659193806483, 0.08634145127991966], [96.5, 30.25, 7.71, 136.0, 16.7, 3.06, 3.39, 136.0, 594.0, 1.52, 34.0, 4.4399999999999995, 4.8, 3346.9700000000003, 75.0, 116.0, 70.0, 47.42602739726027, 0.0, 0.0, 165.0, 27.548209366391188, 0.04588336466612951], [102.0, 26.91666666666667, 7.9816666666666665, 106.33333333333333, 21.849999999999998, 2.0716666666666668, 4.295000000000001, 138.16666666666666, 617.1666666666666, 1.6583333333333332, 37.18333333333333, 3.3233333333333337, 4.3, 3104.3633333333332, 48.53716475095786, 139.83333333333334, 91.5, 24.110502283105024, 1.0, 0.0, 155.0, 20.202774089888806, 0.05137993898172554], [89.66666666666667, 24.366666666666664, 9.156666666666666, 116.0, 17.5, 2.3033333333333332, 4.94, 132.66666666666666, 420.3333333333333, 1.6733333333333331, 29.166666666666668, 47.85333333333333, 5.833333333333333, 1887.573333333333, 46.4, 93.33333333333333, 51.666666666666664, 84.64200913242009, 0.0, 1.0, 164.0, 17.25163593099346, 0.0535951493068108], [102.5, 27.121666666666666, 6.2058333333333335, 116.16666666666667, 16.383333333333333, 2.231666666666667, 4.324166666666667, 139.83333333333334, 706.5, 1.2025, 41.516666666666666, 4.579166666666668, 5.6499999999999995, 3009.9308333333342, 61.0, 148.83333333333334, 105.41666666666667, 36.45776255707763, 0.0, 0.0, 163.0, 22.95908765854944, 0.04124064061985124], [97.9672131147541, 29.296721311475412, 7.586393442622953, 102.98360655737704, 18.678688524590168, 2.3768852459016396, 5.724098360655736, 138.31147540983608, 836.9721311475411, 2.0057377049180323, 38.77868852459016, 1.971967213114754, 7.344262295081964, 3084.2697131147534, 54.877759920456576, 140.47540983606558, 81.29508196721312, 29.732000898270822, 0.0, 1.0, 150.0, 24.39011552020293, 0.05370450629416412], [98.0, 24.933333333333337, 5.3, 97.0, 33.63333333333333, 1.5333333333333332, 4.993333333333333, 140.66666666666666, 1070.0, 1.9833333333333334, 36.300000000000004, 4.873333333333334, 4.966666666666667, 3855.713333333333, 56.333333333333336, 133.66666666666666, 87.33333333333333, 20.65936073059361, 1.0, 0.0, 172.0, 19.041824409590774, 0.026775655631797898], [94.78260869565217, 30.391304347826093, 9.96608695652174, 120.69565217391305, 17.769565217391307, 2.416086956521739, 3.7421739130434792, 136.65217391304347, 984.2608695652174, 1.2347826086956524, 35.734782608695646, 2.047391304347826, 4.852173913043479, 3815.0100000000016, 55.350626962373205, 131.0, 79.78260869565217, 63.89303156640859, 1.0, 0.0, 160.0, 21.621338657177027, 0.021870842723885557], [95.83333333333333, 28.87142857142857, 6.285952380952379, 123.78571428571429, 13.699999999999998, 2.4009523809523814, 4.607380952380953, 135.4047619047619, 823.6190476190476, 1.3619047619047617, 38.33571428571429, 1.7230952380952382, 13.057142857142859, 3240.62410714286, 56.79154382430763, 126.07142857142857, 81.19047619047619, 45.88708414872798, 1.0, 1.0, 168.0, 20.121720459292685, 0.03229591762223955], [104.0, 27.0, 5.78, 125.5, 21.4, 2.45, 4.13, 138.0, 354.0, 1.21, 33.6, 8.0, 6.1, 2598.25, 41.0, 140.5, 67.0, 90.84931506849315, 0.0, 0.0, 153.0, 17.51463112478107, 0.06296969858556997], [99.55555555555556, 30.88888888888889, 9.558888888888891, 129.33333333333334, 15.100000000000001, 2.141111111111111, 4.101111111111112, 140.22222222222223, 537.1111111111111, 1.1900000000000002, 32.444444444444436, 2.311111111111111, 7.877777777777778, 3957.3922222222227, 71.68324324324323, 113.0, 64.11111111111111, 65.99847792998477, 1.0, 1.0, 180.0, 22.124457791124456, 0.0472734538229309], [95.22500000000001, 31.39583333333334, 8.961666666666668, 117.08333333333333, 14.508333333333328, 2.494166666666667, 4.127916666666667, 137.10416666666666, 873.9, 1.5558333333333334, 38.475, 2.018333333333334, 4.437500000000001, 4411.526458333335, 42.105029241359134, 140.91666666666666, 91.41666666666667, 23.311986301369867, 0.0, 0.0, 150.0, 18.71334632949296, 0.36410478021319254], [94.67307692307692, 26.365384615384617, 7.525384615384614, 118.46153846153847, 20.615384615384624, 2.5788461538461536, 4.689807692307692, 134.1153846153846, 799.6153846153846, 1.609038461538462, 39.92884615384615, 2.055769230769231, 4.73846153846154, 4009.4686538461533, 54.851964356758295, 131.8653846153846, 75.51923076923077, 55.15300316122234, 0.0, 0.0, 152.0, 23.741328063001358, 0.030358017960348656], [95.375, 29.8375, 7.470000000000001, 121.125, 16.1625, 2.34375, 3.99125, 137.75, 781.75, 1.1112499999999998, 34.6375, 15.993749999999999, 7.375000000000001, 2381.61875, 53.71630953285735, 135.5, 74.25, 81.08972602739726, 1.0, 0.0, 163.0, 20.217663266535197, 0.025876424208834015], [98.41875, 29.299999999999994, 6.635000000000001, 116.0, 22.166875, 2.19125, 4.05375, 138.6875, 847.6875, 1.4362500000000002, 31.837500000000002, 18.776875000000004, 4.761875000000001, 2927.1595312500003, 65.30404791075456, 138.6875, 74.4375, 78.31284246575343, 1.0, 1.0, 175.0, 21.323770746368837, 0.02394103399989488], [94.55263157894737, 29.842105263157883, 8.163157894736845, 116.02631578947368, 19.426315789473687, 2.419736842105263, 4.454999999999999, 137.02631578947367, 836.0, 1.8781578947368422, 33.857894736842105, 34.305263157894736, 5.05, 2965.7626315789466, 63.27626765538352, 158.78947368421052, 69.36842105263158, 68.6746214852199, 0.0, 0.0, 160.0, 24.717292052884194, 0.026226912158837053], [95.54285714285713, 26.942857142857147, 11.744285714285715, 97.57142857142857, 23.24285714285714, 2.611428571428571, 3.5914285714285716, 137.85714285714286, 664.0, 1.7814285714285718, 36.699999999999996, 2.6671428571428573, 5.3428571428571425, 2413.1307142857145, 51.323376623376625, 118.28571428571429, 71.0, 71.74324853228963, 0.0, 0.0, 157.0, 20.821687136750626, 0.03498128186715172], [95.9125, 30.525, 8.6075, 127.25, 22.762499999999996, 2.215, 3.8099999999999996, 138.375, 586.0, 1.67625, 36.3, 7.711250000000001, 5.487500000000001, 3370.397499999999, 54.772862921538774, 140.5, 73.375, 71.27328767123288, 1.0, 1.0, 157.0, 22.22112983144906, 0.0397391180246745], [99.21428571428571, 26.633333333333333, 10.216666666666667, 114.19047619047619, 15.257142857142862, 2.2466666666666666, 3.9747619047619045, 139.04761904761904, 703.3809523809524, 1.4138095238095238, 36.46190476190476, 6.7285714285714295, 5.957142857142857, 3692.419285714286, 75.75678667319204, 126.33333333333333, 64.23809523809524, 81.91780821917807, 1.0, 0.0, 180.0, 23.381724281849387, 0.029217638520238207], [98.1025641025641, 27.658974358974355, 11.180769230769231, 115.53846153846153, 16.112820512820516, 2.5641025641025643, 3.855384615384615, 141.84615384615384, 835.2820512820513, 1.6402564102564101, 37.05128205128205, 14.65025641025641, 6.454358974358974, 2887.1911538461522, 59.83457188204327, 130.6153846153846, 80.66666666666667, 62.45802599227256, 0.0, 0.0, 160.0, 23.37287964142316, 0.027587594568298606], [98.7625, 25.0375, 5.4468749999999995, 103.5, 17.50625, 2.4343749999999997, 4.296875, 137.00625, 768.125, 1.64875, 32.862500000000004, 18.5425, 8.274999999999999, 3589.8624999999993, 72.35491558441558, 112.4375, 61.875, 76.69743150684933, 0.0, 0.0, 158.0, 28.98370276574891, 0.02812138530396882], [95.3157894736842, 26.573684210526316, 6.857894736842105, 115.44736842105263, 22.57894736842105, 2.368421052631579, 3.9276315789473677, 135.8684210526316, 833.078947368421, 1.463684210526315, 38.24210526315789, 9.940263157894739, 5.636842105263157, 4863.582368421049, 56.86808934366129, 143.28947368421052, 86.47368421052632, 58.05183850036049, 1.0, 0.0, 165.0, 20.888187086744278, 0.027900316470711298], [98.52222222222223, 29.644444444444446, 8.053333333333335, 119.22222222222223, 26.540000000000003, 2.258888888888889, 4.465555555555556, 141.2, 959.9111111111112, 1.5599999999999998, 38.611111111111114, 2.248888888888889, 7.477777777777778, 4532.259444444444, 71.46317823039135, 147.44444444444446, 76.66666666666667, 70.18143074581431, 1.0, 1.0, 170.0, 24.72774333231535, 0.021560836850241873], [100.70588235294117, 26.958823529411767, 5.775294117647057, 70.6470588235294, 24.370588235294118, 2.430588235294118, 4.988823529411765, 139.0, 1143.4705882352941, 1.918823529411765, 36.064705882352946, 0.5729411764705884, 5.170588235294116, 4831.237058823529, 54.679286302603096, 179.11764705882354, 108.52941176470588, 37.82546333601934, 0.0, 0.0, 160.0, 21.359096211954334, 0.022424457393443842], [95.12909090909092, 27.079999999999995, 4.885818181818181, 105.14545454545454, 19.98727272727273, 2.7692727272727278, 3.9949090909090903, 134.9309090909091, 788.7600000000001, 1.4003636363636358, 33.19090909090908, 5.976909090909092, 5.749090909090909, 3673.607500000002, 51.156060245755256, 93.0909090909091, 57.30909090909091, 66.48642590286426, 1.0, 0.0, 166.0, 18.564399856929608, 0.03900646599075798], [97.84615384615384, 27.692307692307693, 6.867692307692308, 104.0, 18.446153846153845, 1.9776923076923079, 4.089230769230769, 137.6153846153846, 879.6153846153846, 1.6323076923076922, 37.23076923076923, 3.383076923076923, 6.215384615384617, 4654.651730769229, 85.96527923257146, 134.23076923076923, 72.84615384615384, 42.45353003161222, 1.0, 1.0, 173.0, 28.723071012252827, 0.029426953294362644], [95.57142857142857, 27.771428571428572, 8.198571428571428, 111.28571428571429, 20.085714285714285, 2.037142857142857, 5.148571428571429, 137.28571428571428, 665.4285714285714, 1.5485714285714283, 35.142857142857146, 31.461428571428574, 5.328571428571429, 3062.616071428571, 46.901008403361345, 132.14285714285714, 89.57142857142857, 43.67358121330724, 0.0, 0.0, 160.0, 18.320706407563023, 0.041245417401225136], [99.23529411764706, 26.588235294117645, 6.4258823529411755, 109.3529411764706, 16.788235294117648, 2.5241176470588234, 3.8952941176470586, 139.8235294117647, 775.5882352941177, 2.1064705882352937, 33.95882352941176, 24.578823529411768, 5.847058823529413, 2270.8199999999997, 73.89043231832618, 124.11764705882354, 65.29411764705883, 81.90362610797744, 0.0, 0.0, 159.0, 29.227654095299304, 0.028595257064573932], [94.9, 27.572727272727274, 9.909090909090908, 112.27272727272727, 21.962727272727275, 2.38, 4.372727272727273, 137.53636363636363, 875.6454545454545, 1.6763636363636365, 37.47272727272727, 11.362727272727271, 10.001818181818182, 3098.996136363636, 73.04307401056234, 140.9090909090909, 80.81818181818181, 59.30161892901619, 1.0, 1.0, 163.0, 27.49184162390844, 0.027022304364823658], [101.82380952380953, 24.33809523809524, 6.02809523809524, 110.23809523809524, 17.44380952380952, 2.3390476190476193, 3.5071428571428567, 138.64285714285714, 573.7619047619048, 1.6180952380952383, 34.15238095238095, 5.073333333333334, 6.438095238095237, 3374.358809523809, 53.09370170548719, 145.57142857142858, 55.42857142857143, 78.95042400521852, 0.0, 1.0, 144.0, 25.604601516920916, 0.04216668401398899], [92.0, 30.41176470588235, 5.642941176470589, 129.58823529411765, 11.241176470588233, 2.317647058823529, 3.9629411764705886, 131.54705882352943, 567.5294117647059, 1.2394117647058824, 31.235294117647065, 1.9158823529411761, 11.988235294117644, 2067.0170588235296, 51.03038930758664, 108.47058823529412, 68.94117647058823, 66.12119258662369, 1.0, 1.0, 169.0, 17.86715777024146, 0.04220510902033267], [94.9, 31.775, 6.4015, 113.05, 20.255000000000003, 2.584, 4.074, 139.1, 714.85, 1.5314999999999999, 34.78, 5.604499999999999, 5.865000000000001, 2491.43575, 57.801626418078534, 113.25, 60.95, 78.39260273972602, 0.0, 0.0, 168.0, 20.479601196881568, 0.02983921120650395], [94.58333333333333, 24.974999999999998, 8.119166666666667, 122.25, 14.833333333333334, 2.231666666666667, 4.171666666666667, 136.0, 735.8333333333334, 1.4016666666666666, 35.30833333333334, 16.099999999999998, 14.299999999999999, 3423.684999999998, 76.20219951923077, 127.5, 64.5, 80.89246575342466, 1.0, 1.0, 165.0, 27.98978862047044, 0.02870342714424459], [101.13333333333334, 26.705555555555552, 6.654444444444445, 124.83333333333333, 14.605555555555554, 2.02, 4.094444444444444, 137.64444444444445, 584.2222222222222, 1.413333333333333, 30.238888888888887, 1.9255555555555555, 10.755555555555555, 4036.3533333333344, 71.49521478354937, 139.88888888888889, 72.05555555555556, 63.1158295281583, 1.0, 1.0, 178.0, 22.565084832580915, 0.042223486926121885], [97.5, 27.97, 7.378, 92.4, 21.6, 2.1590000000000003, 4.168000000000001, 139.6, 578.5, 1.479, 37.589999999999996, 5.921, 5.59, 2365.3450000000003, 54.876168714861436, 135.4, 72.8, 73.66602739726028, 0.0, 1.0, 153.0, 23.44233786785486, 0.03999921085683398], [96.82400000000001, 25.252, 6.418399999999999, 98.36, 23.688000000000002, 2.3464000000000005, 4.6224, 138.4, 1210.28, 1.9812, 43.016000000000005, 1.6131999999999997, 5.796, 3133.9393, 58.43986389894968, 150.52, 89.72, 59.98213698630138, 1.0, 0.0, 163.0, 21.99550750835548, 0.017937232632235144], [93.98518518518519, 28.068518518518513, 12.121111111111112, 113.96296296296296, 18.869629629629628, 2.358148148148148, 4.076296296296296, 136.5074074074074, 757.7174074074073, 1.6185185185185185, 34.44074074074074, 39.24888888888889, 6.780740740740741, 3891.270000000001, 64.3854895374749, 137.74074074074073, 73.85185185185185, 76.898833079655, 1.0, 0.0, 169.0, 22.54314958771574, 0.027494557240248865], [98.53333333333333, 27.699999999999996, 4.844333333333333, 116.73333333333333, 24.773333333333333, 2.414, 4.817333333333334, 136.9, 967.5333333333333, 1.654666666666667, 38.059999999999995, 0.6046666666666668, 4.449999999999999, 4726.050666666667, 61.77372519268417, 131.06666666666666, 85.23333333333333, 63.639269406392714, 1.0, 0.0, 163.0, 23.250301175311165, 0.022481227614103243], [95.66216216216216, 29.591891891891887, 6.442702702702703, 120.13513513513513, 22.31621621621622, 2.6210810810810807, 4.612972972972973, 138.45945945945945, 996.5405405405405, 1.8181081081081083, 37.42162162162163, 1.6927027027027022, 17.13783783783784, 3233.7979054054053, 63.441982463561665, 138.9189189189189, 76.05405405405405, 60.58726397630505, 1.0, 1.0, 164.0, 23.58788759055684, 0.022279792965873003], [97.32799999999999, 27.228, 10.760399999999999, 132.44, 12.488000000000001, 2.4412000000000003, 3.6964000000000006, 139.968, 849.56, 1.3564, 34.17199999999999, 27.9072, 9.012, 2898.8592999999987, 58.82679228440338, 117.96, 67.48, 78.44153424657533, 1.0, 0.0, 160.0, 22.979215736095068, 0.02372362720751582], [96.02666666666666, 26.2, 5.865999999999999, 98.46666666666667, 19.300000000000004, 2.194, 4.240666666666667, 137.0, 895.5333333333333, 1.7826666666666673, 37.493333333333325, 8.993333333333334, 13.0, 3225.9699999999993, 82.36742082392406, 148.93333333333334, 78.86666666666666, 54.54867579908675, 1.0, 1.0, 178.0, 25.99653478851282, 0.028740724771987306], [100.88888888888889, 27.351851851851862, 9.165185185185184, 122.29629629629629, 20.08888888888889, 2.1225925925925933, 5.162222222222221, 139.66666666666666, 828.8518518518518, 1.4981481481481482, 43.8, 2.8181481481481483, 5.7111111111111095, 5484.8, 73.54641991791524, 121.55555555555556, 80.5925925925926, 48.10705225773719, 1.0, 0.0, 166.0, 26.689802554040952, 0.03119126942147657], [106.65384615384616, 26.273076923076925, 7.220384615384615, 112.61538461538461, 22.261538461538468, 2.1734615384615386, 4.500384615384616, 143.0, 901.5384615384615, 1.3896153846153845, 35.2576923076923, 2.685769230769231, 5.26153846153846, 3538.4842307692325, 53.36079683595597, 139.3846153846154, 83.3076923076923, 68.09989462592202, 1.0, 0.0, 160.0, 20.8440612640453, 0.02474975227974354], [98.2, 25.186666666666667, 8.808666666666666, 118.13333333333334, 24.613333333333333, 2.293333333333334, 4.378666666666667, 139.13333333333333, 1031.0666666666666, 2.083333333333333, 37.74, 9.760666666666667, 9.786666666666665, 3989.878999999999, 66.28553731743118, 124.26666666666667, 71.66666666666667, 46.17753424657534, 1.0, 1.0, 165.0, 24.34730479979107, 0.024156995980085704], [96.33333333333333, 29.299999999999997, 8.067499999999999, 114.5, 23.308333333333334, 1.905833333333333, 4.199166666666666, 138.66666666666666, 1095.0, 1.5483333333333331, 34.74166666666667, 1.67, 8.541666666666666, 1475.805, 59.40566311139841, 156.58333333333334, 79.16666666666667, 51.65388127853881, 1.0, 1.0, 160.0, 23.205337152889996, 0.022206547912467473], [96.29166666666667, 27.00833333333333, 8.051666666666668, 115.0, 21.820833333333336, 2.1970833333333335, 3.895833333333334, 136.5, 820.8958333333334, 1.4804166666666665, 37.03333333333333, 5.390000000000001, 5.137499999999999, 5422.309999999999, 64.82478946482424, 132.95833333333334, 80.83333333333333, 72.37694063926939, 1.0, 0.0, 169.0, 22.6969607033452, 0.046488413685895874], [97.03846153846153, 27.199999999999992, 8.040384615384616, 116.11538461538461, 25.0, 2.358461538461539, 4.9350000000000005, 136.69230769230768, 829.1923076923077, 1.640769230769231, 37.438461538461546, 2.3815384615384616, 7.773076923076923, 3924.869807692307, 63.968692857593844, 139.23076923076923, 78.53846153846153, 62.86080084299264, 1.0, 0.0, 166.0, 23.214070568149904, 0.028588285302866927], [96.6842105263158, 27.313157894736843, 7.7042105263157925, 116.78947368421052, 24.37368421052632, 2.5671052631578952, 5.067105263157896, 138.68421052631578, 1173.6315789473683, 1.7899999999999998, 40.64473684210527, 2.4878947368421054, 8.852631578947369, 4474.802499999998, 67.76820697202373, 147.23684210526315, 86.44736842105263, 44.757029560201865, 1.0, 1.0, 169.0, 23.727532989749577, 0.02066526442998174], [92.375, 26.150000000000002, 5.53125, 117.0, 23.6375, 2.0649999999999995, 4.4, 131.5, 649.625, 1.7325000000000002, 34.8, 7.965, 4.5874999999999995, 2857.3303125, 81.5, 137.5, 69.375, 86.10171232876714, 0.0, 0.0, 163.0, 30.674846625766868, 0.03343905009245104], [97.9090909090909, 27.16363636363636, 8.986363636363636, 107.45454545454545, 20.663636363636364, 2.349090909090909, 4.6090909090909085, 138.9090909090909, 697.1818181818181, 1.6081818181818184, 39.218181818181826, 4.002727272727273, 4.654545454545455, 3401.0554545454547, 61.68950721409738, 136.45454545454547, 83.0, 57.63860523038606, 0.0, 0.0, 164.0, 22.936312914224192, 0.036059433612273706], [98.73888888888888, 27.37777777777778, 13.291944444444447, 142.66666666666666, 20.58888888888889, 2.6197222222222227, 4.105833333333333, 141.76944444444445, 1039.75, 1.5541666666666663, 41.319444444444436, 2.0436111111111104, 5.200000000000001, 3553.214861111109, 70.99282781410741, 134.83333333333334, 78.41666666666667, 61.98797564687974, 0.0, 0.0, 161.0, 27.388151619963498, 0.021367525182433397], [96.28571428571429, 27.014285714285716, 8.000000000000002, 116.14285714285714, 17.842857142857145, 2.355714285714286, 4.227142857142858, 140.42857142857142, 662.5714285714286, 1.5328571428571427, 37.214285714285715, 14.87857142857143, 9.128571428571428, 1781.7900000000004, 56.46533071059749, 144.71428571428572, 75.71428571428571, 67.84148727984345, 0.0, 1.0, 153.0, 24.12120582280212, 0.035434286447674095], [98.29032258064517, 28.945161290322577, 4.728064516129032, 114.6774193548387, 23.148387096774186, 2.504838709677419, 4.643225806451614, 139.0, 956.0322580645161, 1.9632258064516124, 37.52580645161291, 2.504516129032258, 5.077419354838712, 3785.4325806451593, 52.345618674449334, 134.96774193548387, 90.03225806451613, 57.40653999116217, 0.0, 0.0, 169.0, 18.327656130544916, 0.024708395862783273], [100.0, 23.202222222222225, 7.64533333333333, 110.4, 23.171111111111106, 2.2302222222222223, 5.234222222222222, 139.3111111111111, 1034.0666666666666, 1.6368888888888897, 38.07555555555557, 3.017777777777779, 5.446666666666668, 4176.764888888889, 61.05156336557071, 140.6888888888889, 88.93333333333334, 62.38757990867581, 0.0, 0.0, 160.0, 23.84826693967606, 0.02305616914614582], [94.74374999999999, 29.050000000000004, 10.975624999999999, 92.0625, 16.295624999999998, 2.2337499999999997, 3.866875, 137.80625, 680.49375, 1.6643749999999997, 35.831250000000004, 10.989375, 6.2875000000000005, 3492.8668749999997, 64.56016458429995, 153.8125, 86.5625, 64.761301369863, 0.0, 1.0, 155.27906976744183, 26.77557386388913, 0.03725791041288049], [104.0909090909091, 25.972727272727273, 8.357272727272727, 109.27272727272727, 21.672727272727272, 2.1436363636363636, 4.820909090909091, 140.63636363636363, 391.6363636363636, 1.4754545454545458, 37.56363636363636, 5.909090909090909, 4.945454545454546, 2810.616363636363, 51.99190605486272, 155.36363636363637, 92.36363636363636, 48.26351183063511, 0.0, 0.0, 149.45104895104896, 23.2775787240658, 0.07659799453019402], [97.89999999999999, 27.078947368421048, 8.103684210526314, 124.42105263157895, 20.662105263157898, 2.2926315789473684, 4.177894736842105, 134.39473684210526, 567.3684210526316, 1.148947368421053, 33.92631578947368, 4.825263157894736, 5.2484210526315795, 3506.7742105263155, 49.6286255340739, 122.89473684210526, 66.63157894736842, 83.17649603460707, 1.0, 0.0, 156.0, 20.393090702693087, 0.03795902257013138], [97.83846153846154, 27.76923076923077, 10.797692307692309, 101.92307692307692, 16.815384615384616, 2.226923076923077, 3.8115384615384618, 139.63076923076923, 730.1538461538462, 1.6276923076923073, 35.54615384615385, 20.50076923076923, 9.038461538461538, 2423.4438461538466, 67.67144001831504, 155.92307692307693, 86.0, 70.52750263435195, 0.0, 1.0, 155.0, 28.167092619485956, 0.031187741689002627], [95.9375, 24.920833333333338, 10.078749999999998, 118.875, 15.610416666666667, 2.454166666666667, 4.043541666666665, 136.35416666666666, 870.1458333333334, 1.6939583333333328, 39.375, 4.189791666666667, 12.112499999999997, 2758.4537890624997, 73.00986738442457, 143.4375, 83.375, 44.645319634703185, 0.0, 1.0, 156.0, 30.000767334165243, 0.031138343608001152], [98.4375, 28.312499999999996, 5.030625, 117.875, 14.943750000000001, 2.281875, 4.518749999999999, 138.25, 643.9375, 1.3525, 40.84375, 0.8450000000000001, 5.106249999999999, 3285.1039062500004, 48.85857990911652, 122.9375, 85.9375, 26.48236301369863, 0.0, 0.0, 158.0, 19.571615089375307, 0.048646934316365624], [97.0, 24.900000000000002, 8.895, 122.5, 19.5, 2.823333333333333, 3.8916666666666657, 137.83333333333334, 938.3333333333334, 1.8083333333333336, 36.31666666666666, 5.976666666666667, 13.016666666666666, 4732.5, 70.46666666666667, 137.83333333333334, 67.5, 65.36712328767123, 0.0, 1.0, 153.0, 30.10238227462372, 0.023960950103237854], [98.58064516129032, 28.758064516129032, 7.0116129032258065, 117.80645161290323, 24.332258064516136, 2.3048387096774197, 4.488064516129032, 141.03225806451613, 1150.3548387096773, 1.8483870967741933, 38.93548387096775, 1.0212903225806451, 4.683870967741934, 5658.1835483870955, 56.340950534755606, 134.38709677419354, 89.70967741935483, 38.722669023420224, 1.0, 0.0, 177.0, 17.983641525345725, 0.022610659302780937], [99.16, 27.936000000000003, 7.437199999999999, 123.04, 16.76, 2.4072, 4.002000000000001, 139.88, 680.8, 1.5504, 35.94, 3.3020000000000005, 10.948, 2653.6953999999996, 60.840462297630474, 124.04, 65.6, 76.77227397260273, 0.0, 1.0, 160.0, 23.765805585011908, 0.03362367263283606], [93.0, 31.100000000000005, 5.716666666666668, 141.66666666666666, 19.5, 2.5400000000000005, 4.346666666666667, 135.0, 784.3333333333334, 0.9666666666666668, 39.53333333333333, 0.3933333333333333, 5.433333333333334, 3228.4474999999998, 49.76666666666667, 126.66666666666667, 90.0, 32.93150684931506, 0.0, 0.0, 167.0, 17.844550420117848, 0.036221920132614986], [95.41111111111111, 26.899999999999995, 8.52222222222222, 113.27777777777777, 25.694444444444446, 2.2222222222222228, 4.211111111111112, 137.10555555555555, 746.0555555555555, 2.3372222222222225, 34.65555555555555, 21.86111111111111, 5.693333333333333, 2837.6438888888883, 41.472224140738305, 137.55555555555554, 71.83333333333333, 78.59482496194825, 0.0, 0.0, 152.0, 17.95023551797884, 0.02983280239310306], [99.5764705882353, 26.229411764705883, 6.325882352941176, 109.0, 18.11764705882353, 2.1194117647058826, 4.721176470588236, 136.51176470588234, 651.3529411764706, 1.4411764705882353, 32.03529411764706, 2.5752941176470587, 6.064705882352942, 3966.1376470588234, 84.67752261109334, 149.05882352941177, 72.17647058823529, 81.03883964544721, 1.0, 1.0, 170.0, 29.30018083428835, 0.03439189304105299], [94.27272727272727, 25.781818181818185, 9.77909090909091, 115.63636363636364, 16.536363636363635, 2.579090909090909, 4.502727272727273, 136.5, 756.5772727272728, 1.7395454545454547, 36.18636363636363, 9.791363636363638, 4.745454545454546, 2757.592272727272, 52.53752413543995, 129.27272727272728, 72.54545454545455, 85.9293897882939, 0.0, 0.0, 150.0, 23.35001072686219, 0.28462287450593765], [97.16129032258064, 27.812903225806455, 7.620322580645162, 125.12903225806451, 25.329032258064515, 2.4270967741935485, 4.118064516129032, 137.93548387096774, 864.8387096774194, 1.5496774193548386, 37.12258064516128, 8.855483870967742, 5.067741935483871, 4129.184596774194, 57.63178938255804, 137.38709677419354, 85.35483870967742, 71.87132125497126, 1.0, 0.0, 161.0, 22.233628865614, 0.02451983719236355], [100.22, 27.216, 6.587999999999999, 119.6, 11.9, 2.074, 4.154, 138.78, 390.0, 1.152, 36.94, 4.11, 6.56, 2196.4404999999997, 62.82120448179271, 114.0, 74.0, 70.77589041095891, 0.0, 1.0, 164.91596638655463, 23.098344316875597, 0.06639109524838087], [98.16666666666667, 28.86944444444445, 7.079722222222223, 114.44444444444444, 11.405555555555557, 2.308333333333334, 4.1775, 137.94444444444446, 728.2916666666666, 1.509444444444444, 39.06666666666667, 0.6727777777777777, 4.422222222222223, 3778.2133333333313, 43.39746053445476, 135.69444444444446, 85.16666666666667, 33.129756468797574, 0.0, 0.0, 150.0, 19.287760237535444, 0.05287800285620428], [96.3, 27.840000000000003, 9.065999999999999, 113.1, 18.279999999999998, 2.7, 4.026000000000001, 138.1, 692.2, 1.6620000000000001, 36.09, 5.86, 10.579999999999998, 3614.577500000001, 56.68133736176035, 156.3, 69.7, 80.70630136986301, 0.0, 1.0, 158.0, 22.705230476590422, 0.032671797395065115], [102.24242424242425, 28.56363636363637, 7.78909090909091, 128.84848484848484, 16.40909090909091, 2.228787878787878, 3.595757575757575, 141.75757575757575, 559.8787878787879, 1.2687878787878788, 35.20606060606061, 3.5121212121212126, 5.945454545454543, 3141.536969696968, 66.7100762852812, 128.0909090909091, 79.27272727272727, 68.4967206309672, 1.0, 0.0, 174.0, 22.033979483842373, 0.04316038776855407], [99.45, 27.433333333333334, 8.035833333333331, 112.25, 17.75, 2.121666666666667, 3.9233333333333333, 139.34166666666667, 761.8333333333334, 1.45, 36.675, 4.225833333333333, 7.633333333333334, 4803.512291666667, 67.72049549549548, 142.5, 76.58333333333333, 50.202511415525116, 1.0, 1.0, 169.0, 23.710827875598024, 0.03437989972841562], [97.30434782608695, 27.791304347826095, 6.901739130434783, 122.3913043478261, 15.130434782608694, 2.272608695652174, 4.373913043478261, 137.3913043478261, 466.6521739130435, 1.410869565217391, 34.02173913043478, 5.566521739130435, 10.504347826086958, 3171.2643478260866, 59.631522243189686, 146.47826086956522, 85.52173913043478, 61.281953543776055, 0.0, 1.0, 158.8064516129033, 23.645015990806566, 0.06119458030616221], [92.57142857142857, 27.114285714285717, 6.731428571428571, 125.85714285714286, 17.357142857142858, 2.2257142857142855, 4.602857142857142, 135.0, 465.42857142857144, 1.5199999999999998, 37.699999999999996, 0.9385714285714286, 12.914285714285711, 3075.0764285714286, 49.20702316602317, 120.71428571428571, 58.57142857142857, 83.41252446183954, 0.0, 1.0, 151.09459459459458, 21.554067431856538, 0.053948744209521164], [97.04186046511629, 26.15813953488372, 9.3246511627907, 124.37209302325581, 18.709302325581394, 2.5581395348837215, 4.057441860465114, 138.7906976744186, 914.8837209302326, 1.6388372093023265, 36.9860465116279, 14.285116279069772, 5.662790697674419, 3018.0009883720923, 76.83124800839987, 116.90697674418605, 70.30232558139535, 72.18642879898056, 0.0, 0.0, 157.0, 31.17012779763879, 0.02343899897671804], [94.36400000000002, 25.868, 7.728399999999999, 100.2, 28.804000000000002, 2.5944, 4.6304, 136.96, 1237.56, 2.1144, 42.995999999999995, 3.8284, 5.287999999999999, 5430.212600000003, 80.27625082225082, 130.6, 84.72, 27.42301369863014, 1.0, 0.0, 187.0, 22.95640447889583, 0.022089923026385114], [97.98571428571428, 25.700000000000003, 8.132857142857144, 100.4, 25.417142857142853, 2.3522857142857143, 4.079428571428572, 141.08285714285714, 1369.7142857142858, 2.322000000000001, 41.682857142857145, 12.032, 5.554285714285715, 5806.599142857144, 88.04643064351939, 141.28571428571428, 87.8, 41.052446183953045, 1.0, 1.0, 173.0, 29.41843384126412, 0.01870870865591247], [99.4, 29.7, 5.055999999999999, 88.0, 17.5, 1.922, 5.108, 137.6, 702.6, 1.6199999999999999, 32.160000000000004, 4.312, 9.620000000000001, 3232.08, 72.16, 136.4, 82.0, 36.08164383561644, 1.0, 1.0, 170.0, 24.968858131487888, 0.041402691476802686], [100.4, 25.816000000000003, 10.141600000000002, 122.8, 16.704, 2.2108000000000003, 4.3212, 139.32, 434.96, 1.6603999999999997, 37.628, 16.775199999999998, 5.239999999999998, 4129.097100000001, 60.70304143049852, 147.48, 73.56, 80.28876712328767, 0.0, 1.0, 154.0, 25.59581777302179, 0.05696741190250086], [96.85714285714286, 26.4, 6.235, 122.14285714285714, 16.750000000000004, 2.3164285714285713, 4.297142857142857, 135.57142857142858, 357.57142857142856, 0.9857142857142858, 35.17142857142857, 7.2128571428571435, 7.3500000000000005, 2553.2458928571427, 49.619052911910046, 135.78571428571428, 77.64285714285714, 85.98864970645793, 1.0, 0.0, 172.0, 16.772259637611562, 0.06565434277551176], [95.72727272727273, 27.536363636363635, 5.91090909090909, 121.72727272727273, 19.78181818181818, 2.3700000000000006, 4.282727272727272, 138.63636363636363, 1341.2727272727273, 1.792727272727273, 44.52727272727273, 3.5490909090909097, 4.772727272727273, 4968.992954545454, 61.96758270742798, 130.1818181818182, 86.45454545454545, 36.708592777085926, 1.0, 0.0, 172.0, 20.946316491153315, 0.019372327475051906], [96.02000000000001, 30.1, 9.502, 103.2, 18.799999999999997, 2.54, 3.97, 138.26, 447.73999999999995, 0.776, 36.81999999999999, 3.0740000000000003, 11.28, 4388.84, 63.0, 120.2, 68.0, 74.07068493150685, 0.0, 1.0, 165.0, 23.140495867768596, 1.4803791746570016], [103.19354838709677, 28.19354838709678, 5.146774193548388, 109.80645161290323, 21.219354838709673, 2.1577419354838714, 4.1012903225806445, 142.4516129032258, 942.741935483871, 1.5461290322580643, 28.787096774193547, 3.6041935483870953, 9.148387096774192, 2929.883548387096, 66.09233536983372, 154.38709677419354, 83.19354838709677, 64.1610251878038, 1.0, 1.0, 176.0, 21.336626862678745, 0.02409656181551992], [92.75, 23.425, 5.935, 90.0, 21.2, 2.3924999999999996, 4.5375, 131.5, 672.5, 1.9875, 37.2, 6.890000000000001, 4.95, 3146.16, 55.25, 121.5, 72.75, 81.63767123287671, 0.0, 0.0, 150.0, 24.555555555555554, 0.031801334913128976], [93.33333333333333, 28.433333333333334, 8.955333333333332, 122.73333333333333, 13.926666666666668, 2.476666666666666, 3.7786666666666666, 136.13333333333333, 610.1333333333333, 1.3760000000000001, 36.339999999999996, 2.6146666666666665, 6.293333333333333, 2212.9745, 49.71204674034638, 135.6, 60.8, 49.88493150684932, 0.0, 1.0, 152.0, 21.51664072902804, 0.045934852090401754], [99.94444444444444, 28.77777777777777, 8.373333333333333, 106.88888888888889, 18.949999999999996, 2.1622222222222223, 4.156666666666667, 139.61111111111111, 835.1666666666666, 1.5050000000000001, 30.08888888888889, 3.265555555555556, 13.366666666666669, 3665.9066666666654, 68.23751504375284, 153.61111111111111, 88.05555555555556, 50.3923896499239, 1.0, 1.0, 174.0, 22.538484292427285, 0.03095582247328338], [96.0, 27.568421052631578, 7.662105263157895, 104.73684210526316, 17.225789473684216, 2.4242105263157896, 4.890526315789473, 139.26315789473685, 923.578947368421, 1.656842105263158, 44.510526315789484, 3.6031578947368423, 5.512105263157894, 2781.9423684210524, 72.34865798652146, 132.47368421052633, 81.36842105263158, 33.16322999279019, 0.0, 1.0, 155.0, 30.113905509478233, 0.030421723660802525], [97.0, 28.78, 8.232, 128.2, 18.113999999999997, 2.5740000000000003, 4.366, 138.2, 560.8, 1.9119999999999997, 35.019999999999996, 3.842, 7.054, 2356.0299999999997, 47.5, 130.8, 78.4, 72.76602739726027, 0.0, 0.0, 151.0, 20.83241963071795, 0.04565276857526214], [101.36666666666667, 17.7, 6.12, 108.33333333333333, 27.0, 2.2100000000000004, 3.6633333333333336, 137.0, 758.6666666666666, 1.71, 44.800000000000004, 1.38, 4.829999999999999, 3031.234999999999, 70.4, 126.0, 88.0, 46.282191780821925, 0.0, 0.0, 164.0, 26.174895895300423, 0.03593637691513085], [97.5, 29.606666666666666, 7.579333333333335, 112.66666666666667, 20.419999999999998, 2.4666666666666663, 4.005999999999999, 140.11333333333332, 737.6666666666666, 1.4626666666666666, 37.193333333333335, 8.542, 10.900000000000002, 3482.0143333333335, 84.5222682088443, 140.6, 67.8, 78.24109589041095, 1.0, 1.0, 178.0, 26.676640641599644, 0.029976255826328128], [94.65833333333333, 28.519444444444446, 7.354444444444446, 111.69444444444444, 11.81111111111111, 2.5569444444444445, 3.815277777777778, 134.75833333333333, 641.5277777777778, 1.4355555555555557, 36.811111111111096, 4.576388888888891, 5.7138888888888895, 1750.5252083333316, 46.475286440373495, 133.22222222222223, 65.72222222222223, 84.74992389649928, 0.0, 0.0, 153.0, 19.85359752248003, 0.0324545999630919], [97.77272727272727, 28.099999999999998, 8.253636363636364, 120.63636363636364, 20.94090909090909, 2.581818181818182, 4.367272727272728, 141.04545454545453, 587.3636363636364, 1.6713636363636366, 41.095454545454544, 5.009545454545454, 5.2272727272727275, 3097.062784090909, 54.05531805489952, 136.63636363636363, 81.18181818181819, 64.85442092154422, 0.0, 0.0, 153.34394904458605, 22.98820917645887, 0.042431989934573096], [97.8851851851852, 26.181481481481484, 5.543703703703704, 138.1851851851852, 17.40740740740741, 2.1755555555555555, 4.503703703703703, 137.77777777777777, 734.7407407407408, 1.6433333333333333, 36.425925925925924, 10.671851851851851, 5.755925925925924, 3323.232314814816, 69.39823267680464, 130.44444444444446, 88.48148148148148, 49.651445966514466, 1.0, 1.0, 176.0, 22.403871602790755, 0.03696013599557318], [99.70967741935483, 27.741935483870968, 7.265161290322582, 116.93548387096774, 22.735483870967744, 2.287741935483871, 3.8567741935483872, 138.70967741935485, 1148.4193548387098, 1.4090322580645158, 35.28387096774194, 1.1635483870967742, 5.535483870967741, 4266.906451612903, 64.74879961896454, 151.70967741935485, 93.6774193548387, 48.33239063190454, 1.0, 0.0, 176.0, 20.90289243897358, 0.020304559896948668], [94.33333333333333, 24.95, 8.033333333333333, 104.66666666666667, 23.21666666666667, 2.1833333333333336, 3.926666666666667, 136.0, 677.8333333333334, 1.3266666666666667, 33.400000000000006, 9.218333333333334, 5.183333333333333, 2904.7841666666664, 51.550000000000004, 111.66666666666667, 44.833333333333336, 78.13470319634702, 1.0, 0.0, 162.0, 19.64258497180308, 0.03209307734858439], [100.19666666666667, 29.400000000000002, 10.053333333333333, 114.6, 18.4, 2.5393333333333334, 4.491333333333333, 141.11666666666667, 740.8, 1.501333333333333, 36.31666666666668, 5.73, 11.520000000000001, 2336.505250000001, 56.61811405941473, 142.86666666666667, 76.23333333333333, 55.989406392694086, 0.0, 1.0, 155.0, 23.5663325949697, 0.03507703491685906], [103.88333333333333, 29.033333333333335, 8.816666666666666, 98.0, 16.683333333333334, 1.9416666666666664, 4.3966666666666665, 142.13333333333333, 786.0, 1.45, 37.06666666666667, 1.7066666666666668, 7.8, 3507.025, 62.91842105263158, 146.5, 80.16666666666667, 63.80547945205479, 1.0, 1.0, 171.0, 21.517191974498676, 0.030387788010270287], [96.15135135135135, 28.294594594594585, 7.199189189189191, 109.91891891891892, 21.608108108108098, 2.3448648648648653, 4.829459459459459, 138.22702702702702, 1100.7783783783784, 1.6548648648648652, 37.9081081081081, 4.2467567567567555, 5.696216216216215, 4360.617094594596, 71.95716289870376, 139.32432432432432, 68.4054054054054, 72.00584968530174, 1.0, 1.0, 172.0, 24.322999898155683, 0.019732963364459344], [97.18181818181819, 29.218181818181815, 7.22909090909091, 117.36363636363636, 11.681818181818182, 2.319090909090909, 3.6609090909090907, 139.27272727272728, 702.5454545454545, 1.170909090909091, 31.49090909090909, 16.69363636363636, 7.072727272727274, 2954.5684090909085, 65.70352312203926, 111.27272727272727, 59.90909090909091, 80.24582814445829, 1.0, 1.0, 162.0, 25.035636001386695, 0.029379705604680253], [94.5, 26.45652173913044, 10.809130434782608, 93.93478260869566, 21.402173913043473, 2.401086956521739, 4.059565217391304, 135.30434782608697, 1027.7652173913043, 1.6943478260869564, 34.306521739130424, 15.57521739130435, 11.221739130434784, 4024.444239130434, 80.257735637524, 148.47826086956522, 82.6086956521739, 33.039428231089936, 1.0, 1.0, 168.0, 28.43598910059666, 0.039997464070327206], [97.15789473684211, 26.52631578947369, 10.218947368421054, 113.36842105263158, 19.173684210526314, 2.2768421052631576, 3.7400000000000007, 135.73684210526315, 805.5263157894736, 1.3157894736842104, 33.46842105263158, 4.948947368421052, 10.368421052631579, 3028.209605263157, 66.36719432654026, 119.63157894736842, 67.42105263157895, 49.604181687094446, 0.0, 1.0, 162.0, 25.288520929180105, 0.03228772729269652], [96.7, 26.847058823529412, 10.400588235294116, 120.05882352941177, 15.023529411764706, 2.477058823529412, 4.32, 136.76470588235293, 567.4117647058823, 1.398823529411765, 37.45294117647058, 8.113529411764706, 8.788235294117648, 2951.6200000000003, 59.32391130235414, 137.52941176470588, 66.3529411764706, 73.47590652699436, 0.0, 1.0, 156.0, 24.377018122269124, 0.040719795774785975], [98.66666666666667, 25.633333333333336, 5.7, 65.33333333333333, 16.4, 2.526666666666667, 3.65, 137.33333333333334, 541.3333333333334, 1.4266666666666665, 31.599999999999998, 48.74666666666667, 6.2, 5694.420000000001, 62.0, 140.33333333333334, 78.33333333333333, 76.85388127853882, 1.0, 0.0, 170.0, 21.453287197231834, 0.04130729301953173], [94.71794871794872, 26.31282051282052, 7.404871794871797, 120.02564102564102, 20.951282051282053, 2.4071794871794867, 4.3589743589743595, 135.71794871794873, 772.8205128205128, 1.7158974358974355, 37.553846153846145, 28.604358974358977, 6.892307692307691, 3790.867435897435, 67.69475402518738, 142.2051282051282, 79.46153846153847, 74.78988408851426, 0.0, 0.0, 155.0, 28.17679668061909, 0.028124611908884056], [99.77727272727275, 25.286363636363635, 9.618181818181817, 105.45454545454545, 18.327272727272728, 2.3009090909090903, 4.541818181818182, 140.38181818181818, 514.2272727272727, 1.4209090909090907, 37.42727272727273, 23.031818181818185, 16.950000000000003, 3649.3745454545465, 69.86731712525874, 142.22727272727272, 73.5, 70.4444582814446, 1.0, 1.0, 160.0, 27.291920752054192, 0.055999501740642076], [95.77777777777777, 27.805555555555557, 7.671111111111112, 107.27777777777777, 16.722222222222218, 2.1350000000000002, 5.028333333333332, 138.61111111111111, 557.6111111111111, 2.311111111111111, 30.916666666666668, 78.64222222222223, 6.811111111111111, 2517.8518055555555, 58.63379228093658, 158.16666666666666, 74.05555555555556, 84.47473363774733, 1.0, 1.0, 157.0, 23.787493318567318, 0.03816733003298888], [97.96875, 28.2, 6.733124999999999, 109.25, 23.321875000000006, 2.44625, 4.2896875, 139.625, 1120.84375, 1.526875, 40.471875, 0.8500000000000002, 4.75625, 4201.390703125, 53.6123399107437, 140.34375, 93.84375, 28.008647260273968, 1.0, 0.0, 170.0, 18.550982668077413, 0.024386008548003227], [98.32727272727273, 28.19090909090909, 6.362424242424241, 117.48484848484848, 25.145454545454548, 2.5421212121212124, 4.448787878787878, 138.21212121212122, 1339.3939393939395, 1.6584848484848485, 37.990909090909085, 0.846969696969697, 5.642424242424243, 4410.345227272727, 68.55392855095664, 139.4848484848485, 82.12121212121212, 63.55433789954336, 1.0, 0.0, 170.0, 23.721082543583616, 0.015529674091419355], [97.96285714285713, 29.017142857142865, 8.625142857142855, 100.11428571428571, 21.30285714285714, 2.5731428571428574, 3.969142857142857, 139.76285714285714, 963.5714285714286, 1.5848571428571425, 42.32285714285715, 1.8202857142857147, 6.082857142857141, 2859.3476428571425, 54.775002844353466, 140.28571428571428, 86.82857142857142, 49.109589041095894, 0.0, 0.0, 160.0, 21.396485486075573, 0.02597610465785176], [101.21153846153847, 26.876923076923074, 7.427307692307691, 102.53846153846153, 18.609615384615385, 2.4861538461538455, 3.8509615384615383, 142.3653846153846, 932.0961538461538, 1.7326923076923086, 34.767307692307696, 19.173461538461538, 6.174999999999997, 3973.4480769230804, 66.43651446043431, 134.94230769230768, 79.61538461538461, 70.05621707060061, 0.0, 1.0, 152.0, 28.755416577404066, 0.02336225515264387], [97.0, 28.4, 8.53, 99.5, 17.85, 2.05, 3.7249999999999996, 138.0, 731.0, 1.865, 33.25, 6.0600000000000005, 4.85, 3333.085, 68.3, 168.5, 97.0, 61.079452054794515, 0.0, 0.0, 162.0, 26.02499618960524, 0.0328281331928602], [91.375, 23.674999999999997, 13.355, 120.5, 17.6, 2.4775, 3.9124999999999996, 132.0, 780.75, 2.0700000000000003, 35.025, 52.769999999999996, 14.475000000000001, 6518.7575, 56.0, 126.5, 70.25, 76.44657534246575, 0.0, 1.0, 150.0, 24.88888888888889, 0.027217025096274498], [98.20588235294117, 29.917647058823526, 6.001176470588234, 117.8529411764706, 22.35, 2.4479411764705885, 4.374411764705882, 139.55882352941177, 738.2647058823529, 1.5467647058823528, 33.28235294117647, 8.653529411764708, 8.602941176470589, 3307.4790441176483, 64.76374016207959, 144.58823529411765, 73.88235294117646, 74.52304593070104, 0.0, 1.0, 152.0, 28.031397230816992, 0.02964490157719924], [99.72, 28.468000000000004, 5.380800000000001, 120.72, 16.276, 2.3487999999999998, 4.2852, 140.12, 769.44, 1.3579999999999999, 37.632, 9.292, 5.96, 4355.695199999997, 58.76856159754224, 125.28, 73.88, 85.44920547945206, 1.0, 0.0, 160.0, 22.956469374039933, 0.026391612020384578], [97.14, 24.768571428571423, 7.0757142857142865, 104.22857142857143, 25.40857142857143, 2.2754285714285714, 4.66742857142857, 137.12857142857143, 1034.4285714285713, 2.284, 38.32000000000001, 7.8279999999999985, 5.66857142857143, 5660.180000000004, 54.2395745000366, 128.68571428571428, 80.51428571428572, 33.136516634050885, 1.0, 0.0, 160.0, 21.187333789076796, 0.025665794288727208], [100.4, 24.04666666666667, 9.280666666666667, 116.73333333333333, 20.69066666666667, 2.3419999999999996, 3.842, 139.33333333333334, 922.4666666666667, 1.7866666666666664, 40.518666666666675, 2.7873333333333337, 7.173333333333334, 3280.651333333333, 63.600000000000016, 143.2, 77.6, 68.00310502283106, 1.0, 1.0, 171.0, 21.750282138093777, 0.024008441237420373], [98.13513513513513, 30.30270270270271, 6.576486486486487, 110.27297297297297, 17.27297297297297, 2.398108108108109, 4.665675675675676, 138.97297297297297, 851.5135135135135, 1.5554054054054054, 38.189189189189186, 0.6759459459459458, 8.375675675675678, 3946.190000000001, 51.822197752176706, 145.24324324324326, 89.72972972972973, 36.43694927804518, 0.0, 1.0, 160.0, 20.24304599694402, 0.035977199397081966], [108.17999999999999, 23.220000000000002, 7.51, 98.4, 11.6, 1.89, 4.748, 139.26, 328.8, 1.028, 36.38, 4.997999999999999, 9.1, 7293.160000000001, 51.4, 126.4, 65.6, 82.84876712328767, 0.0, 1.0, 160.0, 20.078124999999996, 0.07342176826883165], [99.35, 25.41, 5.411000000000001, 113.5, 24.500000000000004, 2.2350000000000003, 4.038, 138.42, 755.7, 1.3609999999999998, 34.49999999999999, 11.357, 5.35, 4088.2387500000004, 54.0890625, 130.0, 81.9, 76.73890410958906, 1.0, 0.0, 168.0, 19.164208652210885, 0.02936482647030032], [98.17241379310344, 28.610344827586204, 5.204827586206896, 112.79310344827586, 24.124137931034486, 2.1006896551724137, 4.567586206896553, 139.79310344827587, 1360.1724137931035, 1.7751724137931029, 38.09310344827586, 1.6548275862068962, 4.69655172413793, 3199.455862068966, 74.47320940549399, 157.75862068965517, 98.44827586206897, 36.07019367028814, 1.0, 0.0, 178.0, 23.504989712629076, 0.01846478553260935], [103.33333333333333, 22.63333333333333, 5.8500000000000005, 110.33333333333333, 23.3, 1.6833333333333333, 5.213333333333334, 140.66666666666666, 842.3333333333334, 1.8666666666666665, 33.43333333333334, 16.953333333333333, 4.34, 4336.669999999999, 56.0, 147.0, 93.0, 47.28401826484018, 1.0, 0.0, 171.0, 19.15119181970521, 0.029889243318821982], [101.3029411764706, 28.623529411764707, 7.56764705882353, 110.61764705882354, 15.585294117647061, 2.2720588235294112, 4.6347058823529395, 139.8205882352941, 738.2647058823529, 1.51, 30.50882352941177, 4.867058823529412, 5.0176470588235285, 3821.434852941177, 59.72208628532804, 108.08823529411765, 59.05882352941177, 87.8899274778405, 1.0, 0.0, 177.0, 19.062876659110742, 0.030779736044915764], [102.3076923076923, 24.97692307692307, 8.605384615384613, 118.15384615384616, 15.872307692307693, 2.0953846153846154, 3.4815384615384612, 141.15384615384616, 428.46153846153845, 1.473076923076923, 38.46923076923077, 4.446153846153846, 7.26923076923077, 3658.610961538462, 56.29128783304608, 119.15384615384616, 69.61538461538461, 72.5277133825079, 0.0, 0.0, 158.0, 22.548985672586955, 0.057490361914028704], [98.10714285714286, 27.93571428571429, 5.867500000000001, 114.82142857142857, 17.58571428571429, 1.9503571428571431, 3.846071428571429, 137.03571428571428, 782.8571428571429, 1.4271428571428573, 39.40000000000001, 0.5539285714285715, 5.203571428571428, 4968.056964285715, 58.29582351703002, 153.53571428571428, 90.10714285714286, 56.537769080234845, 1.0, 0.0, 160.0, 22.771806061339845, 0.0347111872181943], [102.125, 25.625, 6.0175, 95.125, 20.862500000000004, 2.03375, 4.18375, 139.125, 570.25, 1.4062499999999998, 32.4625, 4.32375, 8.05, 3994.4600000000005, 59.96138422086425, 144.75, 65.125, 82.06164383561644, 1.0, 1.0, 168.0, 21.244821506825488, 0.03877786742203262], [97.95294117647059, 27.358823529411765, 5.515882352941176, 95.3529411764706, 17.017647058823535, 2.6852941176470586, 4.501176470588235, 139.32941176470587, 1119.4117647058824, 2.248823529411765, 39.41176470588236, 2.6358823529411763, 4.735294117647059, 2909.354705882351, 68.22598540921486, 103.0, 68.70588235294117, 46.508944399677674, 0.0, 0.0, 157.0, 27.679007427974703, 0.022601892858133996], [101.16666666666667, 27.75, 7.168333333333333, 128.0, 16.3, 1.9699999999999998, 4.821666666666666, 135.5, 342.3333333333333, 1.1683333333333332, 27.733333333333334, 4.180000000000001, 6.133333333333333, 3028.5508333333332, 50.300000000000004, 148.33333333333334, 75.66666666666667, 69.07168949771689, 0.0, 1.0, 154.0, 21.209310170349134, 0.07827025038383216], [99.0, 28.597499999999997, 6.516750000000002, 139.325, 14.2925, 2.1342500000000006, 4.47425, 137.325, 734.2, 1.3412500000000005, 30.585, 5.3075, 7.6774999999999975, 3289.6019374999996, 56.42060994855393, 118.475, 76.025, 53.505136986301366, 1.0, 1.0, 170.0, 19.522702404343928, 0.03646398307882677], [99.49428571428572, 27.08571428571429, 5.7865714285714285, 117.48571428571428, 26.054285714285715, 2.337428571428572, 4.992285714285715, 137.9685714285714, 921.2, 1.603714285714286, 38.048571428571414, 3.0797142857142856, 5.717142857142856, 4552.707892857143, 66.59473997957373, 136.28571428571428, 78.88571428571429, 67.2879060665362, 1.0, 0.0, 170.0, 23.04316262268988, 0.024503013495231395], [98.78947368421052, 26.98421052631578, 6.515, 114.07894736842105, 19.63947368421052, 2.5273684210526315, 4.385263157894735, 138.57894736842104, 798.9473684210526, 1.6334210526315789, 41.15263157894738, 7.181842105263159, 6.434210526315787, 2520.7293421052623, 54.116062538021744, 138.73684210526315, 71.10526315789474, 67.31362653208365, 0.0, 1.0, 159.0, 21.40582355841215, 0.028813131344903754], [104.25, 27.225, 6.364999999999999, 107.25, 22.825, 2.0275, 4.4350000000000005, 141.25, 506.25, 1.5775000000000001, 34.6525, 10.6, 10.35, 3241.125, 76.65, 132.25, 87.5, 61.711643835616435, 1.0, 1.0, 166.0, 27.816083611554653, 0.05244051512029499], [99.95, 27.283333333333335, 5.581666666666667, 115.83333333333333, 19.233333333333334, 2.0016666666666665, 4.63, 137.93333333333334, 720.0, 1.3849999999999998, 33.31666666666666, 5.278333333333333, 4.933333333333334, 3681.7449999999994, 67.2541081186573, 133.0, 75.16666666666667, 64.98082191780821, 1.0, 0.0, 167.0, 24.11492277193779, 0.031996710790822905], [100.62962962962963, 25.355555555555558, 5.998888888888891, 96.66666666666667, 26.34444444444445, 2.3148148148148144, 4.278148148148147, 140.11111111111111, 1057.2962962962963, 1.6685185185185187, 36.24444444444444, 1.5314814814814819, 5.877777777777778, 3655.5155555555557, 74.78743961352657, 144.2962962962963, 93.51851851851852, 56.507458143074565, 0.0, 0.0, 164.0, 27.80615690568359, 0.023140333525410513], [103.27407407407408, 29.625925925925927, 10.226296296296297, 135.11111111111111, 12.166666666666666, 2.2225925925925925, 3.7551851851851854, 143.3111111111111, 828.5518518518519, 1.3611111111111116, 33.088888888888896, 11.589999999999998, 5.227407407407408, 3507.138333333332, 85.7727182714004, 132.59259259259258, 81.74074074074075, 55.86362252663624, 1.0, 0.0, 170.0, 29.679141270380757, 0.029089302584467076], [97.9090909090909, 28.795454545454547, 8.806363636363635, 117.18181818181819, 15.027272727272731, 2.5063636363636363, 4.4327272727272735, 137.8181818181818, 886.7272727272727, 1.3818181818181818, 39.35000000000001, 1.0604545454545453, 5.281818181818181, 2887.212272727272, 50.376493086201826, 123.72727272727273, 79.54545454545455, 43.76301369863014, 0.0, 0.0, 156.0, 20.700399854619416, 0.029250334756879773], [101.0, 24.858333333333334, 6.1662500000000025, 113.875, 24.787500000000005, 2.1662500000000002, 3.695833333333333, 139.04166666666666, 885.25, 1.7941666666666665, 36.43333333333333, 9.0175, 7.612499999999998, 5859.709166666665, 75.99573838035413, 141.45833333333334, 90.75, 55.58082191780821, 1.0, 1.0, 172.0, 25.688121410341456, 0.0281343309540317], [99.34285714285714, 25.185714285714287, 12.322142857142856, 126.57142857142857, 19.385714285714283, 2.107857142857143, 3.7657142857142856, 141.64285714285714, 703.8571428571429, 1.717857142857143, 34.91428571428571, 15.285714285714286, 6.807142857142857, 4023.9192857142857, 58.5072823959377, 142.78571428571428, 67.14285714285714, 71.30998043052837, 1.0, 0.0, 175.0, 19.10441874153068, 0.03419798392036565], [94.46875, 24.303125000000005, 9.504062499999998, 122.46875, 21.36874999999999, 2.6053125, 4.266562499999999, 133.690625, 760.75, 1.8603125000000003, 42.646875000000016, 2.6274999999999995, 5.137500000000001, 4430.316718749999, 54.75247975866374, 131.03125, 78.8125, 55.52183219178082, 0.0, 0.0, 153.0, 23.389499661952144, 0.03309512710580491], [100.95454545454545, 29.400000000000002, 6.46409090909091, 117.68181818181819, 22.87272727272727, 2.366818181818182, 4.687727272727272, 142.1818181818182, 1088.8636363636363, 1.6790909090909087, 36.1, 3.42, 6.431818181818181, 3409.5586363636367, 70.10421217857092, 145.45454545454547, 85.13636363636364, 54.939476961394774, 1.0, 0.0, 174.0, 23.155044318460465, 0.02116100442678593], [100.66666666666667, 28.175757575757586, 6.434545454545455, 118.06060606060606, 20.439393939393938, 2.1727272727272724, 4.909696969696969, 139.42424242424244, 599.6666666666666, 1.4403030303030304, 37.50909090909092, 1.6278787878787881, 12.478787878787875, 3386.298939393939, 74.92289741556084, 146.06060606060606, 78.87878787878788, 58.10992112909922, 1.0, 1.0, 170.0, 25.924877998463952, 0.045916124247796855], [96.79473684210525, 27.22105263157895, 12.181052631578945, 111.36842105263158, 13.861052631578948, 2.3910526315789475, 4.129473684210526, 138.2263157894737, 494.0736842105263, 1.5394736842105259, 39.126315789473686, 4.02842105263158, 12.676315789473684, 2400.665460526316, 51.587847953216375, 149.21052631578948, 71.63157894736842, 73.93395818312905, 0.0, 1.0, 155.0, 21.47256938739495, 0.04983590152985182], [99.33333333333333, 27.077777777777776, 7.75388888888889, 113.22222222222223, 23.711111111111112, 2.2822222222222224, 4.390555555555555, 139.55555555555554, 1309.111111111111, 1.9716666666666667, 37.96666666666666, 12.044444444444444, 6.455555555555555, 3947.088055555555, 81.26634944232124, 136.27777777777777, 83.22222222222223, 51.54414003044141, 1.0, 0.0, 170.0, 28.119844097689015, 0.017013552059396916], [91.9, 27.625, 5.9625, 95.75, 15.024999999999999, 2.4725, 3.58, 130.95, 529.75, 1.035, 23.95, 20.915, 4.8, 2119.92, 45.5, 110.5, 61.75, 76.75, 0.0, 0.0, 156.0, 18.696581196581196, 0.043525420749671896], [101.94500000000001, 27.065000000000005, 6.470999999999999, 105.42, 19.658499999999997, 2.0920000000000005, 4.327000000000001, 139.49, 655.45, 1.109, 30.675000000000004, 6.698999999999998, 7.293499999999999, 2937.737250000001, 69.13479591836735, 153.1, 75.6, 69.52219178082193, 1.0, 1.0, 175.0, 22.57462723865057, 0.03616656045088515], [93.65517241379311, 29.02413793103448, 9.04655172413793, 116.79310344827586, 21.499999999999996, 2.457241379310344, 4.628620689655173, 137.55172413793105, 996.2758620689655, 1.6444827586206896, 37.31724137931034, 27.73103448275863, 5.862068965517241, 3563.0886206896535, 62.392330885694996, 138.86206896551724, 86.34482758620689, 60.11053377420878, 1.0, 0.0, 169.0, 21.845289340602562, 0.0229235350494152], [102.57500000000002, 27.224999999999998, 3.735, 96.0, 20.145, 2.4175, 4.2575, 141.65, 455.5, 1.6675, 34.725, 5.73, 5.7, 2583.3450000000003, 67.0, 146.5, 75.5, 78.83287671232877, 0.0, 0.0, 158.0, 26.83864765261977, 0.05296060054004625], [103.8, 25.0, 8.226, 127.0, 16.78, 2.07, 4.779999999999999, 141.6, 592.2, 1.304, 35.86, 14.962, 4.8, 3341.497499999999, 75.0, 123.2, 67.2, 84.82739726027397, 1.0, 0.0, 175.0, 24.489795918367346, 0.04262225922177006], [100.28571428571429, 30.24285714285714, 9.278571428571428, 120.85714285714286, 15.22857142857143, 2.5042857142857144, 3.8128571428571436, 141.0, 354.42857142857144, 1.1942857142857142, 34.82857142857143, 8.84142857142857, 10.9, 3089.2449999999994, 48.0, 142.0, 75.71428571428571, 73.4692759295499, 0.0, 1.0, 160.0, 18.749999999999996, 0.07351094614062507], [98.0, 25.299999999999997, 8.211666666666666, 91.0, 17.816666666666666, 2.0333333333333337, 3.895, 138.5, 755.1666666666666, 1.3583333333333332, 33.86666666666667, 12.214999999999998, 7.366666666666666, 4538.683333333333, 79.0, 119.33333333333333, 79.0, 58.582191780821915, 1.0, 1.0, 176.0, 25.50361570247934, 0.03215591947528024], [103.6, 29.013333333333332, 5.811999999999999, 112.86666666666666, 16.98, 2.4299999999999997, 3.619333333333333, 143.6, 838.6, 1.2946666666666669, 41.620000000000005, 0.7720000000000001, 4.9799999999999995, 3901.2815000000014, 57.82881651606426, 133.73333333333332, 90.66666666666667, 30.003287671232876, 0.0, 0.0, 155.0, 24.070267020214047, 0.034573797672582736], [100.33333333333333, 26.955555555555552, 6.668333333333334, 113.72222222222223, 18.455555555555552, 2.3705555555555553, 4.3677777777777775, 141.22222222222223, 838.2222222222222, 1.4344444444444442, 40.96666666666667, 10.641666666666667, 8.633333333333333, 3885.138333333334, 68.27780752685432, 145.83333333333334, 77.33333333333333, 69.72861491628616, 0.0, 0.0, 157.0, 27.700031452332468, 0.026728010236590737], [104.10526315789474, 26.105263157894733, 5.604210526315789, 123.36842105263158, 16.87894736842105, 2.262631578947368, 5.045789473684211, 141.49473684210525, 650.8789473684211, 1.7042105263157896, 42.142105263157895, 0.4689473684210526, 5.705263157894738, 3745.21947368421, 50.54711447742886, 144.05263157894737, 85.78947368421052, 60.004902667627974, 0.0, 0.0, 162.0, 19.260445998105798, 0.4555075001016533], [96.11818181818184, 31.013636363636365, 5.066818181818183, 79.86363636363636, 25.077272727272728, 2.2322727272727274, 4.384545454545454, 142.04090909090908, 1374.090909090909, 2.281818181818182, 36.595454545454544, 42.000454545454545, 4.449999999999998, 3462.95, 75.87470928174291, 149.4090909090909, 89.77272727272727, 31.406849315068495, 1.0, 0.0, 183.0, 22.656606432483173, 0.01861978660846519], [103.0, 27.677777777777774, 5.393333333333333, 128.33333333333334, 15.044444444444443, 2.1933333333333334, 3.6133333333333337, 141.8777777777778, 453.0, 1.2400000000000002, 32.27777777777778, 2.002222222222222, 9.366666666666667, 3427.4758333333334, 59.72115059221657, 137.22222222222223, 79.33333333333333, 58.72876712328767, 1.0, 1.0, 175.0, 19.50078386684623, 0.06350383360947343], [101.44, 27.160000000000004, 6.668000000000001, 75.2, 23.68, 2.116, 5.247999999999999, 136.85999999999999, 389.51, 1.4140000000000001, 36.739999999999995, 7.109999999999999, 4.94, 3260.2475, 60.6, 143.4, 67.2, 85.77150684931507, 1.0, 0.0, 174.0, 20.015854141894568, 2.520718679584014], [97.20294117647059, 28.40294117647059, 8.07764705882353, 117.23529411764706, 12.273529411764706, 2.21764705882353, 3.8958823529411766, 138.23529411764707, 647.0882352941177, 1.2376470588235293, 34.84411764705883, 23.993235294117646, 8.047058823529412, 3052.8841176470573, 59.2866272536633, 117.55882352941177, 66.47058823529412, 78.31853344077358, 0.0, 1.0, 156.0, 24.361697589440865, 0.034846476259788636], [99.23599999999999, 28.131999999999998, 6.531999999999999, 118.44, 16.18, 2.4144, 4.709999999999999, 138.184, 635.7919999999999, 1.2756, 36.788, 1.8716000000000006, 6.484, 3485.3899999999994, 51.53132984607683, 152.4, 72.16, 83.23167123287672, 0.0, 0.0, 155.0, 21.449044680989317, 0.03453967613477499], [101.00357142857142, 28.52714285714286, 5.463571428571428, 109.85714285714286, 18.428571428571423, 2.410357142857143, 3.775357142857143, 141.05357142857142, 624.9892857142858, 1.0550000000000002, 35.29285714285714, 1.901071428571429, 5.5739285714285725, 3131.569910714286, 49.27799027852647, 144.39285714285714, 63.714285714285715, 79.2082191780822, 0.0, 0.0, 157.0, 19.991882136608577, 0.03689176334011568], [97.92500000000001, 29.306250000000002, 11.393125, 94.28125, 19.150000000000002, 2.5084375000000003, 3.7399999999999998, 141.8, 584.3996875, 1.464375, 37.49375, 11.191562500000007, 5.868749999999999, 2111.160624999999, 55.330623893111245, 141.59375, 75.0, 61.64965753424657, 0.0, 0.0, 160.0, 21.61352495824658, 0.8275543094945012], [104.51612903225806, 24.20967741935484, 5.783225806451615, 111.35483870967742, 18.11612903225807, 2.1119354838709676, 3.922580645161289, 143.80645161290323, 882.3548387096774, 1.5277419354838715, 47.79032258064515, 0.5909677419354838, 6.541935483870967, 7342.8695161290325, 65.54875967863298, 145.03225806451613, 96.7741935483871, 41.50375607600532, 1.0, 0.0, 170.0, 22.681231722710386, 0.03104255686431549], [100.9090909090909, 26.363636363636363, 9.215454545454547, 116.63636363636364, 23.572727272727274, 2.3663636363636367, 4.76090909090909, 139.0, 1134.2727272727273, 1.7299999999999998, 40.554545454545455, 2.7881818181818185, 4.736363636363637, 4965.9190909090885, 73.6522555875497, 139.0, 90.36363636363636, 48.10958904109589, 1.0, 0.0, 176.0, 23.77720028007157, 0.020726559485703688], [103.05263157894737, 26.5, 7.821578947368423, 110.73684210526316, 19.668421052631583, 2.1189473684210527, 4.316842105263158, 142.47368421052633, 650.2631578947369, 1.5536842105263158, 36.34210526315788, 4.476315789473683, 5.41578947368421, 3689.653289473685, 53.00974922925249, 138.6315789473684, 66.47368421052632, 76.15659697188175, 1.0, 1.0, 157.0, 21.50584170929956, 0.035944799441023], [100.93548387096774, 28.197741935483872, 7.1632258064516146, 124.7741935483871, 16.370967741935484, 2.503225806451612, 3.8774193548387097, 140.16129032258064, 453.03225806451616, 1.2970967741935482, 37.548387096774185, 6.966451612903224, 5.245806451612904, 3462.6405241935477, 43.45419078996002, 128.09677419354838, 70.70967741935483, 64.88705258506407, 0.0, 0.0, 152.0, 18.808081193715392, 0.05675902058529151], [96.62727272727274, 24.777272727272727, 8.223636363636363, 125.54545454545455, 21.622727272727268, 1.8227272727272728, 3.6349999999999993, 135.04545454545453, 641.6363636363636, 1.8572727272727276, 25.04090909090909, 5.001363636363636, 5.2272727272727275, 3776.559999999998, 59.26663941644113, 66.4090909090909, 45.09090909090909, 60.05354919053548, 0.0, 1.0, 162.0, 22.58292920913014, 0.0389816074822651], [95.80909090909091, 27.83636363636364, 7.203636363636364, 108.0909090909091, 15.254545454545458, 2.4627272727272724, 4.1381818181818195, 138.51818181818183, 627.5454545454545, 1.6809090909090911, 35.2, 24.226363636363637, 6.6, 2359.2572727272727, 54.43555853740356, 136.45454545454547, 60.90909090909091, 82.31631382316313, 0.0, 0.0, 156.0, 22.3683261577102, 0.03425198741280702], [99.91666666666667, 27.16666666666667, 6.993333333333333, 117.33333333333333, 12.241666666666665, 2.153333333333333, 3.9899999999999998, 138.91666666666666, 425.5, 1.1808333333333334, 34.074999999999996, 10.541666666666666, 7.575000000000002, 2614.4883333333332, 62.05638723138722, 144.41666666666666, 82.75, 76.77534246575344, 0.0, 1.0, 160.0, 24.240776262260635, 0.05820692687178205], [97.27586206896552, 27.124137931034486, 7.452413793103449, 118.24137931034483, 16.482758620689655, 2.259655172413793, 3.646551724137931, 137.48275862068965, 680.0275862068966, 1.2703448275862073, 37.0448275862069, 7.412758620689657, 6.200000000000001, 2774.891637931035, 51.12528313871454, 122.62068965517241, 75.65517241379311, 78.73065658951347, 0.0, 0.0, 156.0, 21.00808807475121, 0.042812196433727176], [97.5, 25.200000000000003, 6.076666666666667, 128.5, 25.615, 2.5416666666666665, 4.585, 138.06666666666666, 922.8333333333334, 1.7850000000000001, 45.26666666666667, 0.37666666666666665, 4.858333333333333, 3297.41, 44.26666666666667, 106.0, 68.66666666666667, 23.409132420091325, 0.0, 0.0, 165.0, 16.259565350474443, 0.032015310180237185], [97.57142857142857, 26.342857142857145, 7.9607142857142845, 119.57142857142857, 15.200000000000001, 2.4028571428571426, 3.514285714285714, 141.21428571428572, 713.0, 1.6621428571428571, 36.28571428571429, 25.775714285714287, 6.335714285714286, 2874.4685714285706, 58.47539094253266, 126.85714285714286, 66.14285714285714, 77.13639921722113, 0.0, 1.0, 156.0, 24.02834933536023, 0.031194393535640613], [97.44594594594595, 26.483783783783785, 9.75891891891892, 121.16216216216216, 12.394594594594595, 2.5683783783783785, 3.8772972972972966, 138.97297297297297, 777.918918918919, 1.221081081081081, 36.04594594594595, 8.868108108108105, 6.724324324324325, 2498.925270270271, 57.21655448997316, 121.83783783783784, 71.32432432432432, 75.66471677156609, 0.0, 0.0, 154.0, 24.12571870887721, 0.027747109556104557], [98.13333333333334, 26.119999999999994, 8.777666666666665, 113.26666666666667, 21.305, 2.423666666666667, 4.404000000000001, 137.5, 739.7333333333333, 1.9966666666666661, 34.413333333333334, 7.257666666666669, 7.239333333333334, 3932.3444999999997, 64.43936569480746, 123.53333333333333, 70.5, 60.608401826484034, 1.0, 1.0, 166.0, 23.38487650413977, 0.03350704693793507], [102.57142857142857, 27.514285714285712, 5.563571428571429, 87.07142857142857, 20.75, 2.2914285714285714, 3.842142857142857, 143.64285714285714, 1233.0714285714287, 1.8771428571428572, 40.32857142857143, 1.5664285714285715, 4.928571428571429, 3792.948571428572, 90.62316675719717, 149.78571428571428, 88.14285714285714, 22.76771037181996, 1.0, 0.0, 180.0, 27.9701131966658, 0.023356528570008205], [97.57222222222222, 27.530555555555548, 7.64777777777778, 110.88888888888889, 15.358333333333333, 2.371388888888889, 3.776666666666666, 137.74444444444444, 715.4444444444445, 1.3899999999999997, 33.95833333333334, 11.039722222222222, 9.344444444444441, 2650.767222222224, 56.09641092195326, 143.33333333333334, 79.02777777777777, 46.23394216133945, 0.0, 1.0, 158.0, 22.470922497177217, 0.04037754701127618], [98.27906976744185, 26.725581395348833, 5.2695348837209295, 108.67441860465117, 23.48837209302326, 2.5141860465116284, 4.141395348837209, 137.53488372093022, 862.4883720930233, 1.753255813953488, 32.688372093023254, 0.8874418604651162, 4.937209302325583, 3147.8261627907023, 50.99566016938999, 128.34883720930233, 80.76744186046511, 43.03383243071042, 0.0, 0.0, 163.0, 19.19366937761679, 0.032190751351299444], [96.5, 27.83333333333334, 13.066666666666668, 113.33333333333333, 18.100000000000005, 1.9583333333333333, 4.484999999999999, 136.66666666666666, 589.8333333333334, 1.615, 29.433333333333334, 5.635000000000001, 14.466666666666669, 2654.9966666666664, 58.166666666666664, 148.0, 76.5, 79.18447488584475, 0.0, 1.0, 155.0, 24.21089143253555, 0.0381468105316496], [105.92857142857143, 25.567857142857143, 7.733214285714283, 123.64285714285714, 11.1, 2.2321428571428577, 4.145714285714285, 141.67857142857142, 636.2142857142857, 1.0774999999999995, 35.328571428571436, 1.8707142857142856, 5.6428571428571415, 3442.4376785714276, 60.295876389602896, 118.35714285714286, 67.03571428571429, 71.09334637964776, 1.0, 0.0, 162.0, 22.97510912574413, 0.03603846539544899], [94.53636363636365, 30.80909090909091, 10.07090909090909, 124.63636363636364, 15.47272727272727, 2.3636363636363638, 4.206363636363636, 136.45454545454547, 513.5454545454545, 1.0636363636363635, 35.57272727272727, 1.8945454545454548, 10.872727272727273, 2991.0725, 62.80463117909758, 120.18181818181819, 66.54545454545455, 72.5997509339975, 1.0, 1.0, 159.0, 24.84262140702408, 0.04532059242483497], [99.15789473684211, 27.56842105263158, 10.598421052631576, 118.84210526315789, 16.98421052631579, 2.2384210526315784, 3.8810526315789478, 139.47368421052633, 730.3684210526316, 1.4305263157894739, 36.18421052631579, 7.300526315789472, 7.394736842105265, 3439.847763157894, 78.41538126405119, 143.26315789473685, 83.3157894736842, 63.12847873107426, 1.0, 1.0, 167.0, 28.11695695939302, 0.03363667223839464], [98.33333333333333, 30.34444444444445, 6.373333333333334, 124.0, 16.26666666666667, 2.2755555555555556, 4.080555555555556, 139.94444444444446, 736.8333333333334, 1.2777777777777777, 36.24444444444445, 5.595000000000001, 8.294444444444444, 3019.729166666667, 64.6147057313724, 139.38888888888889, 81.77777777777777, 62.28386605783866, 1.0, 1.0, 170.0, 22.35802966483474, 0.03293591936511257], [99.13157894736842, 27.478947368421046, 8.508684210526312, 115.55263157894737, 13.847368421052632, 2.4926315789473676, 3.7652631578947364, 140.8421052631579, 805.0263157894736, 1.3934210526315791, 40.49736842105262, 1.9142105263157898, 6.657894736842107, 3101.532171052632, 64.97177882334975, 113.26315789473684, 65.42105263157895, 63.40958904109589, 0.0, 0.0, 153.0, 27.755042429556898, 0.030168179659527058], [101.55, 28.100000000000005, 7.005, 110.83333333333333, 23.683333333333337, 2.164166666666667, 4.7491666666666665, 139.55833333333334, 567.4166666666666, 1.2825, 36.225, 27.984166666666667, 9.200000000000001, 2659.089375, 78.13276527862112, 132.16666666666666, 76.41666666666667, 65.93356164383562, 1.0, 1.0, 165.0, 28.698903683607387, 0.047388879149906395], [102.96666666666667, 27.016666666666662, 4.886333333333332, 114.63333333333334, 21.313333333333336, 2.2120000000000006, 3.833333333333334, 141.0, 431.23333333333335, 1.4363333333333335, 38.02, 2.743999999999999, 5.7666666666666675, 2861.442249999999, 48.289466981228735, 112.9, 65.7, 79.96210045662097, 0.0, 0.0, 154.0, 20.36155632536209, 0.05753552004138217], [98.71428571428571, 28.37142857142857, 5.405714285714287, 118.71428571428571, 22.357142857142858, 2.1699999999999995, 4.58, 141.0, 720.4285714285714, 1.7371428571428573, 36.38571428571429, 1.3257142857142858, 5.728571428571429, 3597.547857142857, 55.27150974025974, 133.0, 82.14285714285714, 64.45362035225048, 1.0, 0.0, 166.0, 20.05788566564804, 0.032232911986782284], [99.32105263157894, 28.905263157894726, 6.977368421052633, 123.57894736842105, 10.876315789473686, 2.2715789473684214, 3.8031578947368416, 139.3421052631579, 408.3157894736842, 1.2010526315789476, 38.573684210526324, 2.2221052631578946, 9.132105263157895, 3680.4435526315783, 62.04081988984735, 135.47368421052633, 74.57894736842105, 75.23561643835616, 1.0, 0.0, 165.0, 22.788179941174427, 0.05945643056977968], [95.03529411764706, 28.799999999999997, 8.897647058823528, 138.35294117647058, 15.7, 2.478235294117647, 4.465882352941176, 134.3235294117647, 903.1764705882352, 1.566470588235294, 34.688235294117646, 28.65941176470588, 6.682352941176472, 3644.5422058823524, 67.85197364400307, 126.11764705882354, 75.29411764705883, 74.35197421434326, 1.0, 0.0, 72.0, 130.88729483796885, 0.022731368941713397], [104.6, 24.799999999999994, 8.330952380952382, 105.28571428571429, 18.75714285714286, 2.243333333333333, 4.2804761904761905, 140.77142857142857, 683.9047619047619, 1.5785714285714287, 40.79047619047619, 3.1780952380952385, 9.838095238095242, 4585.689523809525, 64.02238428943937, 135.95238095238096, 78.28571428571429, 54.8133072407045, 0.0, 1.0, 165.0, 23.51602728721373, 0.04068691847080522], [100.68333333333334, 29.087499999999995, 5.79, 115.875, 17.60958333333333, 2.4270833333333326, 3.938333333333333, 140.60416666666666, 638.625, 1.3466666666666667, 37.12083333333334, 1.8266666666666669, 5.412499999999999, 3596.513333333334, 47.43729600986044, 117.29166666666667, 80.95833333333333, 56.54965753424656, 0.0, 0.0, 154.0, 20.00223309574146, 0.04006125407336648], [100.9, 30.125, 5.11875, 110.25, 13.668750000000001, 2.10875, 3.6775, 139.4375, 305.6875, 1.135625, 37.79374999999999, 1.4187500000000002, 10.337499999999999, 3523.0275000000015, 72.56618197068448, 140.9375, 61.5, 77.19794520547946, 1.0, 0.0, 180.0, 22.39696974403842, 0.084379106468937], [101.0, 25.791666666666668, 8.769166666666665, 114.33333333333333, 20.716666666666665, 2.2666666666666666, 4.298333333333334, 140.75, 743.25, 1.8658333333333335, 40.15, 4.7975, 5.125000000000001, 4297.003750000001, 61.56805722891567, 134.5, 84.41666666666667, 56.42625570776256, 0.0, 0.0, 162.0, 23.459860245738323, 0.033342879001384], [103.25, 28.15, 7.7775, 108.0, 14.625, 2.2725, 4.4825, 141.25, 770.25, 1.3125, 30.300000000000004, 0.24, 5.0249999999999995, 3941.2124999999996, 68.0, 141.5, 90.5, 42.097945205479455, 1.0, 0.0, 173.0, 22.720438370810918, 0.03444774471641789], [99.85185185185185, 27.170370370370375, 6.290370370370368, 124.31851851851852, 17.9, 2.453703703703704, 4.367777777777779, 141.4814814814815, 937.4444444444445, 2.3522222222222218, 38.148148148148145, 2.2588888888888885, 6.133333333333332, 3808.354259259259, 70.9866392129833, 110.62962962962963, 64.29629629629629, 73.01948249619481, 1.0, 1.0, 170.0, 24.562850938748564, 0.022721444650180625], [102.875, 23.7375, 5.63625, 116.75, 20.3625, 2.1975000000000002, 3.8099999999999996, 140.3625, 612.5, 1.3362500000000002, 39.4125, 2.70875, 6.2875, 2883.5400000000004, 54.278125, 144.25, 62.0, 85.1, 0.0, 0.0, 148.0, 24.780005934989045, 0.034257843492058564], [103.0, 24.133333333333336, 5.2749999999999995, 110.16666666666667, 25.033333333333335, 2.2083333333333335, 4.713333333333334, 140.33333333333334, 914.5, 1.8849999999999998, 36.5, 1.973333333333333, 5.083333333333333, 3476.9466666666663, 56.0, 121.5, 72.16666666666667, 87.6082191780822, 0.0, 0.0, 153.0, 23.92242299970097, 0.020676391819575046], [99.925, 25.875, 4.765000000000001, 100.0, 27.79, 1.7325, 4.68, 138.25, 1026.5, 2.6950000000000003, 37.45, 0.43, 4.525, 3988.8799999999997, 40.0, 133.0, 83.25, 43.03219178082192, 0.0, 0.0, 155.0, 16.649323621227886, 0.026300116107691014], [99.10499999999999, 29.274999999999995, 12.884, 119.3, 17.590000000000003, 2.3979999999999997, 4.246999999999999, 139.64000000000001, 721.6, 1.7675, 32.714999999999996, 48.4535, 8.434999999999999, 2859.292375, 59.63666950201052, 112.5, 66.8, 69.00041095890411, 1.0, 1.0, 167.0, 21.383581161752126, 0.03080296990831451], [95.08250000000001, 28.634999999999998, 9.016000000000002, 116.95, 21.762499999999996, 2.5332500000000007, 4.991000000000001, 136.825, 1017.225, 1.5690000000000004, 43.394999999999996, 1.4680000000000002, 7.1625, 3320.1400625000015, 72.75133801551738, 135.725, 77.425, 45.28801369863014, 1.0, 1.0, 173.0, 24.30797487905288, 0.031798766797944834], [99.8913043478261, 28.5304347826087, 9.732608695652173, 112.6086956521739, 15.982608695652175, 2.216521739130435, 3.703478260869565, 140.68260869565216, 565.7391304347826, 1.4369565217391302, 32.75652173913044, 20.07347826086956, 5.054782608695653, 3084.07108695652, 53.08063719121816, 112.43478260869566, 58.30434782608695, 80.17415128052414, 1.0, 0.0, 165.0, 19.497020088601708, 0.03934895030470734], [97.21666666666665, 30.23333333333333, 6.815, 132.66666666666666, 18.55, 2.4549999999999996, 4.075, 137.16666666666666, 665.6666666666666, 1.3116666666666668, 35.28333333333333, 2.566666666666667, 10.55, 3252.8345833333333, 49.9, 138.16666666666666, 75.0, 64.62602739726027, 1.0, 1.0, 168.0, 17.679988662131525, 0.03521068515205654], [100.22222222222223, 31.444444444444443, 6.301481481481481, 80.81481481481481, 17.870370370370367, 2.3666666666666667, 4.066296296296296, 141.92592592592592, 898.5555555555555, 1.6222222222222216, 32.78148148148147, 19.343703703703703, 5.151851851851852, 3403.9488888888877, 73.30954752271522, 140.11111111111111, 77.33333333333333, 46.06575342465754, 1.0, 1.0, 177.0, 23.39990025941307, 0.029370270618377128], [98.06666666666666, 27.48611111111111, 6.230833333333335, 111.88888888888889, 18.525, 2.4205555555555556, 4.638333333333333, 137.7472222222222, 1029.0555555555557, 1.527777777777778, 35.983333333333334, 1.1830555555555549, 11.372222222222216, 3013.91902777778, 65.98702499984171, 154.13888888888889, 91.02777777777777, 63.07998477929985, 1.0, 1.0, 167.0, 23.660591989616577, 0.02270790970222349], [96.69565217391305, 26.852173913043483, 7.284347826086957, 107.69565217391305, 21.01304347826087, 2.2626086956521743, 4.752173913043477, 136.7391304347826, 1032.8826086956522, 1.9117391304347826, 41.699999999999996, 3.2813043478260875, 4.826086956521738, 3127.106195652174, 59.82085492457852, 152.04347826086956, 94.52173913043478, 33.966051220964864, 0.0, 0.0, 164.0, 22.24154332412944, 0.12408379483390079], [100.1, 31.55, 7.3475, 122.5, 12.999999999999998, 2.07, 3.305, 139.5, 522.0, 1.1975, 30.525000000000002, 0.31, 12.225, 3176.6800000000003, 51.0, 155.5, 78.25, 68.83904109589042, 0.0, 1.0, 155.0, 21.227887617065555, 0.04805503354350583], [99.64761904761905, 28.30952380952381, 8.499999999999996, 110.61904761904762, 18.090476190476192, 2.3957142857142855, 4.266190476190476, 141.0952380952381, 1035.1904761904761, 1.412857142857143, 38.00476190476189, 3.996666666666667, 5.162857142857143, 4087.3080952380947, 54.38721209100099, 125.52380952380952, 78.80952380952381, 44.30828440965428, 1.0, 0.0, 173.0, 18.172077948144267, 0.024158530044544067], [100.6, 25.490000000000002, 11.600999999999999, 114.35, 15.48, 2.33, 4.7055, 141.0, 738.0, 1.5815000000000001, 35.574999999999996, 20.197999999999997, 9.395, 2082.455000000001, 67.55337268308317, 141.25, 70.55, 64.68301369863016, 0.0, 1.0, 163.0, 25.42563614855026, 0.03462643948130446], [101.47826086956522, 27.51304347826087, 7.112173913043478, 113.34782608695652, 18.369565217391305, 2.5126086956521743, 4.213478260869565, 141.3913043478261, 764.1739130434783, 1.6556521739130434, 36.982608695652175, 2.5065217391304353, 5.265217391304349, 3996.8741304347814, 52.26151079712628, 136.82608695652175, 80.47826086956522, 51.88552709946397, 0.0, 0.0, 160.0, 20.414652655127462, 0.03291382889834312], [98.25806451612904, 30.741935483870964, 8.214193548387096, 116.19354838709677, 17.225806451612904, 2.5996774193548386, 4.757096774193549, 139.25806451612902, 907.4516129032259, 1.509677419354839, 39.66451612903225, 2.2516129032258063, 11.9741935483871, 4601.2462903225805, 65.44098254841045, 149.41935483870967, 80.83870967741936, 52.76791869200179, 0.0, 1.0, 158.0, 26.21414138295564, 0.02682520744118062], [98.97142857142858, 26.16285714285715, 8.85114285714286, 112.68571428571428, 18.32285714285715, 2.5405714285714285, 4.318, 138.77142857142857, 1092.6571428571428, 1.916571428571429, 39.114285714285714, 10.741142857142856, 6.137142857142856, 4234.140571428571, 62.997015999020014, 134.25714285714287, 89.68571428571428, 46.05158512720157, 0.0, 0.0, 160.0, 24.608209374617196, 0.02250555928966782], [98.55555555555556, 25.796296296296298, 6.0559259259259255, 113.22222222222223, 21.711111111111112, 2.5022222222222217, 4.120370370370371, 137.7037037037037, 925.7037037037037, 1.7011111111111115, 39.10740740740739, 4.68888888888889, 5.374074074074075, 3174.683518518516, 62.024543059011336, 134.88888888888889, 79.66666666666667, 58.00984271943176, 0.0, 0.0, 156.0, 25.48674517546488, 0.025671723488255423], [100.54375, 28.118749999999995, 5.675000000000001, 102.5625, 18.08125, 2.06, 5.0275, 138.3375, 668.25, 1.539375, 29.4125, 9.92875, 6.925000000000002, 3715.2200000000007, 76.65822219955037, 144.625, 85.0625, 56.05633561643836, 1.0, 1.0, 168.0, 27.160651289523237, 0.0404058998339542], [97.13636363636364, 25.34545454545454, 10.287272727272729, 124.81818181818181, 14.754545454545456, 2.3563636363636364, 3.8763636363636356, 136.36363636363637, 559.9545454545455, 1.512272727272727, 37.24545454545455, 8.348636363636363, 12.118181818181817, 4223.983181818184, 58.69983076429665, 128.04545454545453, 65.04545454545455, 70.49178082191781, 0.0, 1.0, 154.0, 24.751151443876143, 0.044390534137043074], [95.625, 26.830000000000002, 8.342249999999998, 110.35, 13.862499999999997, 2.60525, 3.9567500000000004, 136.775, 757.15, 1.5697500000000004, 36.427500000000016, 11.901000000000005, 7.575000000000001, 4541.673, 56.864207670820804, 123.15, 76.3, 65.25705479452054, 0.0, 0.0, 153.0, 24.291600525789555, 0.03110898877490952], [99.78, 28.400000000000006, 9.076, 119.7, 14.459999999999999, 2.417, 4.039, 137.5, 527.1, 1.561, 36.540000000000006, 14.561000000000002, 12.02, 2991.7255, 50.609409836065566, 127.5, 56.1, 82.02547945205478, 0.0, 1.0, 148.0, 23.105099450358644, 0.042357135001997975], [98.04166666666667, 24.89166666666667, 13.46375, 111.70833333333333, 22.441666666666663, 2.3887500000000004, 4.6933333333333325, 137.91666666666666, 964.7916666666666, 2.0695833333333336, 37.40416666666666, 33.423333333333325, 7.366666666666667, 2946.0505208333343, 82.6003891941392, 154.29166666666666, 89.08333333333333, 45.673630136986304, 0.0, 0.0, 155.0, 34.38101527331497, 0.027552784484285543], [100.78571428571429, 28.150000000000006, 10.554285714285713, 116.28571428571429, 19.36428571428571, 2.0678571428571426, 4.207857142857143, 141.78571428571428, 645.8571428571429, 1.5314285714285716, 39.87142857142857, 11.717857142857142, 10.707142857142857, 3739.6421428571416, 83.30898876404494, 148.92857142857142, 83.07142857142857, 63.95088062622309, 1.0, 1.0, 174.0, 27.516511019964643, 0.037931806573074545], [93.81818181818181, 25.318181818181817, 8.525454545454549, 106.36363636363636, 21.400000000000002, 2.0845454545454545, 4.913636363636363, 133.36363636363637, 711.2727272727273, 1.81, 32.73636363636364, 22.067272727272726, 6.681818181818182, 4245.57, 73.47727272727273, 87.36363636363636, 49.27272727272727, 93.09115815691158, 1.0, 0.0, 168.0, 26.03361420325707, 0.027956906334306076], [102.6896551724138, 31.06206896551724, 6.653793103448274, 113.06896551724138, 17.472413793103446, 2.537931034482759, 4.484827586206896, 142.72413793103448, 892.551724137931, 1.3768965517241383, 37.30689655172414, 0.6510344827586206, 6.568965517241378, 4115.23620689655, 64.86474097024607, 144.51724137931035, 83.37931034482759, 38.29003306565896, 1.0, 1.0, 165.0, 23.825432863267608, 0.03160722239682028], [98.36363636363636, 28.154545454545453, 6.177272727272728, 109.81818181818181, 25.772727272727273, 2.2627272727272727, 4.709090909090909, 138.72727272727272, 1000.7272727272727, 1.9354545454545458, 37.32727272727272, 1.02, 12.145454545454545, 3795.127727272727, 83.86404466205009, 149.27272727272728, 79.45454545454545, 57.158156911581564, 1.0, 1.0, 180.0, 25.88396440186731, 0.025205401320729893], [98.07142857142857, 28.460714285714285, 5.213571428571429, 97.46428571428571, 24.017857142857135, 2.3660714285714293, 3.8724999999999996, 137.55, 781.75, 1.641428571428572, 32.19642857142857, 10.627142857142857, 5.575, 4425.152366071428, 73.64735352453077, 105.21428571428571, 66.64285714285714, 54.61810176125244, 1.0, 0.0, 172.0, 24.894319065890624, 0.032908720588816685], [107.57142857142857, 23.228571428571428, 7.311428571428572, 106.42857142857143, 15.307142857142855, 2.2171428571428575, 4.055000000000001, 141.21428571428572, 511.07142857142856, 1.2435714285714285, 38.07142857142857, 7.821428571428572, 7.1, 2765.36, 61.7432783227506, 136.64285714285714, 75.42857142857143, 64.79569471624266, 0.0, 1.0, 165.0, 22.67889010936661, 0.04895735205220131], [98.57142857142857, 30.371428571428567, 6.3742857142857146, 92.85714285714286, 18.171428571428574, 2.1714285714285713, 3.6028571428571428, 140.14285714285714, 731.8571428571429, 1.552857142857143, 35.614285714285714, 0.5957142857142858, 5.414285714285714, 3462.9014285714284, 54.995049504950494, 157.85714285714286, 99.85714285714286, 45.83522504892368, 0.0, 0.0, 160.0, 21.482441212871286, 0.03611836059598521], [98.54545454545455, 29.60909090909091, 9.960909090909091, 123.9090909090909, 17.909090909090907, 2.3254545454545457, 4.2327272727272724, 138.8181818181818, 818.4545454545455, 1.49, 40.663636363636364, 14.280909090909091, 7.963636363636363, 2961.60590909091, 68.62051290481669, 147.36363636363637, 81.0, 63.85504358655044, 1.0, 1.0, 170.0, 23.744122112393324, 0.02923444553896432], [97.27777777777777, 28.27777777777778, 8.869444444444445, 121.33333333333333, 17.833333333333332, 2.3866666666666667, 3.967222222222223, 139.77777777777777, 801.5, 1.4555555555555555, 37.86666666666667, 6.705555555555557, 12.127777777777776, 2968.933472222223, 61.66142736664559, 135.22222222222223, 73.94444444444444, 70.11415525114155, 1.0, 1.0, 170.0, 21.336134036901594, 0.030185410266612107], [99.76923076923077, 26.699999999999996, 6.73, 118.6923076923077, 20.807692307692307, 2.3815384615384616, 4.539230769230769, 138.07692307692307, 1205.076923076923, 1.991538461538461, 43.91538461538461, 3.6669230769230765, 4.716923076923077, 3317.5361538461534, 74.63610324608143, 138.23076923076923, 94.84615384615384, 38.30347734457323, 1.0, 0.0, 170.0, 25.82564126161988, 0.022688300072586504], [100.07142857142857, 27.271428571428572, 7.273571428571429, 107.07142857142857, 21.814285714285717, 2.382857142857143, 4.1085714285714285, 139.14285714285714, 594.8571428571429, 1.3564285714285715, 38.76428571428572, 0.6285714285714287, 7.492857142857143, 3932.2703571428583, 61.235714285714266, 122.5, 65.35714285714286, 72.69843444227006, 1.0, 0.0, 172.0, 20.69892992351078, 0.04006467225458076], [99.5625, 29.825000000000003, 6.744375000000001, 110.125, 19.6875, 2.3249999999999993, 4.299375, 141.0625, 904.1875, 1.5699999999999998, 34.41875, 6.89125, 5.24375, 3953.264218750001, 60.40227538849757, 140.0625, 93.75, 45.97602739726028, 1.0, 0.0, 175.0, 19.723191963591045, 0.02871973160168329], [102.76923076923077, 29.869230769230775, 8.42, 127.38461538461539, 15.284615384615385, 2.3346153846153848, 3.4607692307692304, 144.46153846153845, 465.46153846153845, 1.0223076923076921, 33.792307692307695, 9.466923076923077, 5.748461538461537, 2624.2694230769225, 69.85179050707634, 140.30769230769232, 77.23076923076923, 62.072708113804, 1.0, 1.0, 178.0, 22.04639266098862, 0.0566228470280301], [98.55454545454545, 30.545454545454547, 8.771818181818183, 129.1818181818182, 19.30909090909091, 2.658181818181818, 3.8927272727272726, 139.56363636363636, 1232.0, 1.450909090909091, 35.663636363636364, 1.481818181818182, 4.963636363636363, 4165.505454545454, 50.48721860957483, 148.36363636363637, 95.81818181818181, 26.247322540473228, 1.0, 0.0, 170.0, 17.469625816461885, 0.02229493122351592], [102.125, 26.175, 6.575, 121.0, 23.687499999999996, 2.07125, 4.64875, 137.375, 627.375, 1.5500000000000003, 35.68750000000001, 13.135000000000002, 6.7, 4074.984375, 70.66428571428571, 139.25, 72.25, 80.02808219178083, 1.0, 0.0, 169.0, 24.741530658690422, 0.0340820758691977], [97.16, 28.839999999999996, 4.824, 121.2, 17.014, 2.0, 4.484, 136.78, 460.6, 1.654, 31.7, 7.709999999999999, 12.639999999999999, 1967.282, 70.0, 125.4, 74.4, 81.7950684931507, 1.0, 0.0, 175.0, 22.857142857142858, 0.04843433500625037], [100.07692307692308, 24.83846153846154, 7.786923076923076, 114.53846153846153, 16.215384615384615, 2.229230769230769, 4.735384615384615, 137.92307692307693, 674.3846153846154, 1.5907692307692307, 41.176923076923075, 5.489999999999999, 11.946153846153846, 3978.744615384615, 77.8561351466654, 153.30769230769232, 81.46153846153847, 64.13256059009484, 0.0, 0.0, 170.0, 26.939839151095292, 0.03887750858754697], [102.28571428571429, 27.900000000000002, 6.36142857142857, 129.07142857142858, 22.657142857142862, 2.306428571428571, 4.135, 140.71428571428572, 714.3571428571429, 1.257857142857143, 41.457142857142856, 0.897142857142857, 6.107142857142856, 3757.8451785714283, 67.47830455259027, 135.35714285714286, 92.42857142857143, 51.96829745596868, 1.0, 0.0, 175.0, 22.033732098804983, 0.03517409505490559], [102.55555555555556, 26.555555555555557, 6.711111111111111, 125.88888888888889, 14.111111111111112, 2.0422222222222217, 4.497777777777778, 137.77777777777777, 586.1111111111111, 1.2033333333333331, 34.72222222222222, 3.446666666666667, 4.711111111111111, 4307.7699999999995, 63.65781183482333, 141.44444444444446, 92.33333333333333, 51.18599695585996, 1.0, 0.0, 166.0, 23.101252661788116, 0.045290388407150196], [95.08333333333333, 27.291666666666668, 5.199166666666667, 108.08333333333333, 16.3, 2.315, 3.851666666666666, 135.08333333333334, 644.1666666666666, 1.3991666666666667, 39.59166666666666, 5.958333333333333, 5.2, 4193.236875, 44.85833333333333, 133.16666666666666, 85.25, 67.68972602739726, 0.0, 0.0, 155.0, 18.671522719389525, 0.0367582816090015], [97.11666666666667, 29.000000000000004, 4.33125, 101.0, 18.62083333333333, 2.3695833333333334, 4.407916666666666, 137.37916666666666, 775.0833333333334, 1.3954166666666667, 36.67499999999999, 6.5633333333333335, 5.591666666666665, 3925.8320833333346, 84.1319700854504, 144.20833333333334, 84.625, 62.39931506849316, 0.0, 0.0, 170.0, 29.11140833406588, 0.032615284664188476], [97.02499999999999, 21.77, 6.755000000000001, 80.9, 21.45, 2.1624999999999996, 4.1125, 136.5, 533.55, 2.115, 32.599999999999994, 5.91, 14.045000000000002, 4324.79, 45.650000000000006, 109.5, 56.0, 82.97397260273974, 0.0, 0.0, 155.0, 19.001040582726326, 0.04522960840014623], [101.875, 27.549999999999997, 7.8375, 112.875, 21.2625, 2.205, 4.625, 141.625, 720.25, 1.7100000000000002, 34.3625, 13.0275, 5.5874999999999995, 3574.4799999999996, 60.497142857142855, 155.625, 77.375, 67.41404109589041, 0.0, 0.0, 150.0, 26.88761904761905, 0.03294505937840837], [98.5, 30.5, 4.215, 120.5, 31.55, 2.37, 4.12, 140.0, 699.5, 2.0749999999999997, 39.65, 0.245, 4.55, 3699.685, 54.5, 145.0, 75.0, 67.53013698630137, 0.0, 0.0, 153.0, 23.28164381220898, 0.033428828393325345], [101.89230769230768, 26.16923076923077, 7.654230769230771, 118.07692307692308, 18.553846153846152, 2.313846153846154, 4.555769230769231, 139.93846153846152, 961.7307692307693, 1.7453846153846149, 36.38846153846154, 2.7357692307692307, 4.323076923076923, 5035.752403846155, 84.26914254090367, 132.53846153846155, 92.15384615384616, 51.76944151738671, 1.0, 0.0, 185.0, 24.62210154591779, 0.025748012102744317], [97.81481481481481, 25.981481481481485, 5.361111111111111, 126.18518518518519, 23.76666666666667, 2.3514814814814815, 4.424074074074074, 138.0, 953.4814814814815, 1.948148148148148, 38.974074074074075, 1.122962962962963, 4.925925925925926, 3676.385740740742, 47.75562863062645, 134.37037037037038, 88.92592592592592, 56.139827498731606, 0.0, 0.0, 154.0, 20.136460039899823, 0.02447222767390083], [96.47692307692309, 28.22307692307693, 9.970769230769232, 111.53846153846153, 18.537692307692307, 2.389230769230769, 4.409230769230769, 136.84615384615384, 567.8692307692307, 1.5469230769230768, 35.53076923076923, 3.6246153846153844, 8.763076923076923, 3511.307115384616, 55.65067455738104, 128.30769230769232, 63.61538461538461, 78.52160168598526, 0.0, 0.0, 150.0, 24.73363313661379, 0.04207576469122716], [102.6969696969697, 30.25757575757577, 4.766969696969697, 122.9090909090909, 14.748484848484846, 2.173636363636364, 3.8703030303030297, 139.33333333333334, 139.5151515151515, 1.1006060606060606, 33.260606060606065, 0.9696969696969702, 4.942424242424244, 4255.107575757576, 39.109794928133454, 115.81818181818181, 65.78787878787878, 73.6038190120382, 0.0, 0.0, 150.0, 17.382131079170417, 0.22862412256487274], [100.61250000000001, 27.0375, 9.3275, 125.0, 19.1375, 2.4225, 4.67875, 137.425, 469.125, 1.6087500000000001, 35.15, 18.70375, 4.991250000000001, 2668.0849999999996, 50.699999999999996, 135.25, 81.625, 89.78527397260274, 0.0, 0.0, 144.0, 24.450231481481488, 0.047293818381277254], [103.05555555555556, 26.616666666666664, 8.487222222222224, 127.05555555555556, 20.57222222222222, 2.3855555555555554, 4.093333333333333, 141.55555555555554, 852.2777777777778, 1.1272222222222217, 36.98333333333332, 3.6749999999999994, 4.9833333333333325, 3555.6336111111113, 77.32038773641501, 128.94444444444446, 79.44444444444444, 58.30289193302892, 1.0, 0.0, 180.0, 23.86431720259722, 0.02884110524976223], [97.1, 27.090000000000003, 8.442, 104.0, 17.93, 2.2050000000000005, 3.8049999999999997, 137.9, 757.7, 1.4829999999999999, 37.83, 12.529, 8.899999999999999, 3040.8960000000006, 51.457416267942584, 144.6, 86.3, 74.31506849315068, 0.0, 0.0, 150.0, 22.869962785752257, 0.029377812092802567], [99.87096774193549, 24.509677419354848, 6.653548387096775, 124.45161290322581, 17.174193548387095, 2.5403225806451615, 3.8593548387096774, 137.96774193548387, 792.0419354838709, 1.598387096774194, 38.122580645161285, 8.020645161290323, 6.8032258064516125, 3887.225483870968, 50.410112335943275, 135.58064516129033, 71.7741935483871, 72.85399911621741, 0.0, 0.0, 155.0, 20.9823568515893, 0.2429840148298554], [97.5, 29.199999999999996, 6.183749999999999, 119.75, 19.525, 2.1487499999999997, 3.9875, 140.125, 1127.0, 1.43125, 40.037499999999994, 1.99625, 5.8625, 3594.09, 53.84263392857143, 152.25, 100.125, 40.15958904109589, 1.0, 0.0, 170.0, 18.630669179436484, 0.021966815898449246], [94.94642857142857, 31.835714285714285, 4.442857142857142, 111.28571428571429, 19.146428571428572, 2.326071428571429, 4.872142857142856, 139.56071428571428, 1241.7857142857142, 1.7521428571428568, 40.114285714285714, 0.6364285714285715, 4.667857142857142, 2640.3235714285724, 76.46849499826924, 172.28571428571428, 103.32142857142857, 55.97260273972604, 1.0, 1.0, 167.0, 27.41887303175778, 0.017647103355334193], [102.8, 23.84, 7.070000000000002, 117.95, 22.525, 2.3175, 4.802499999999999, 139.85, 982.35, 1.474, 36.489999999999995, 8.254500000000002, 4.899999999999999, 4860.39175, 80.80175263120552, 134.55, 83.7, 52.747671232876726, 1.0, 0.0, 177.0, 25.791360283189846, 0.0240866358796889], [101.52727272727272, 25.56363636363636, 13.13090909090909, 111.9090909090909, 15.018181818181818, 2.453636363636364, 3.7290909090909086, 138.8181818181818, 818.8181818181819, 1.4990909090909093, 46.33636363636364, 4.707272727272727, 5.823636363636362, 5700.885454545455, 41.66415903506813, 142.9090909090909, 79.63636363636364, 28.10884184308842, 0.0, 0.0, 145.0, 19.816484677796964, 0.03861165074612132], [100.61111111111111, 27.82222222222222, 4.749444444444444, 123.61111111111111, 20.011111111111113, 2.258888888888889, 4.250555555555556, 140.11111111111111, 731.6666666666666, 0.948888888888889, 35.12777777777778, 1.4961111111111112, 5.338888888888889, 4038.239861111111, 41.248878617354485, 126.55555555555556, 63.0, 77.27975646879754, 0.0, 0.0, 155.0, 17.16914822782704, 0.02969617087253276], [102.0, 26.882352941176467, 7.2570588235294125, 110.47058823529412, 18.688235294117646, 2.146470588235294, 4.943529411764706, 139.1764705882353, 843.7647058823529, 1.4464705882352942, 33.46470588235294, 0.30941176470588233, 11.38235294117647, 3451.300000000001, 67.78682410793611, 147.2941176470588, 80.05882352941177, 72.58759065269945, 1.0, 1.0, 168.0, 24.017440514433154, 0.025634160477982657], [99.85714285714286, 27.678571428571427, 11.519285714285715, 128.71428571428572, 22.335714285714285, 2.4964285714285714, 4.289285714285714, 138.21428571428572, 1048.7071428571428, 1.4564285714285714, 35.93571428571429, 4.0528571428571425, 4.978571428571428, 4142.878392857142, 53.28435280189423, 113.5, 75.64285714285714, 44.828180039138935, 1.0, 0.0, 169.0, 18.656333042223398, 0.4837469753719766], [103.0, 26.829411764705885, 6.673529411764707, 97.52941176470588, 17.58235294117647, 2.1805882352941173, 4.3376470588235305, 140.47058823529412, 773.3176470588235, 1.2135294117647057, 39.94117647058823, 4.0717647058823525, 5.211764705882352, 2756.5882352941185, 60.13925095217942, 137.0, 94.23529411764706, 45.580016116035466, 0.0, 0.0, 160.0, 23.49189490319509, 0.2268182735353968], [102.04761904761905, 26.557142857142864, 4.969047619047619, 115.23809523809524, 22.54285714285714, 2.6047619047619044, 4.60095238095238, 139.23809523809524, 751.3809523809524, 1.7842857142857145, 35.147619047619045, 7.49190476190476, 4.866666666666667, 3696.789880952381, 54.77813791088504, 132.28571428571428, 74.52380952380952, 85.74142204827135, 1.0, 1.0, 163.0, 20.617312624067544, 0.026677597484768605], [96.71428571428571, 27.078571428571426, 10.029285714285715, 125.28571428571429, 20.742857142857144, 2.6378571428571425, 4.260714285714286, 137.14285714285714, 839.6428571428571, 1.6564285714285714, 36.76428571428571, 5.652142857142857, 5.92857142857143, 2459.011071428572, 59.21137976929903, 106.28571428571429, 58.92857142857143, 73.71272015655576, 0.0, 0.0, 157.0, 24.021818235749524, 0.025446281591333723], [96.25, 27.819999999999993, 8.1855, 118.55, 19.365000000000002, 2.427, 3.9339999999999997, 137.1, 716.7, 1.554, 34.915, 24.8415, 5.304999999999999, 3206.5209999999993, 38.53317586792831, 140.25, 87.85, 64.49630136986302, 1.0, 0.0, 145.0, 18.32731313575663, 0.032682805916938805], [93.8, 28.72, 5.7620000000000005, 92.0, 19.48, 2.7079999999999997, 4.394, 134.0, 776.2, 1.812, 36.260000000000005, 15.386000000000001, 5.2, 5544.040000000001, 44.68, 109.8, 64.2, 60.9145205479452, 0.0, 0.0, 155.0, 18.59729448491155, 0.030249520532092213], [99.3157894736842, 27.736842105263165, 6.983684210526316, 116.21052631578948, 20.22631578947368, 2.5205263157894735, 4.101578947368421, 139.68421052631578, 1143.8947368421052, 1.454736842105263, 40.11578947368421, 0.3305263157894737, 5.052631578947367, 3696.521184210526, 64.96347241342794, 137.52631578947367, 84.0, 40.78154289834174, 1.0, 0.0, 173.0, 21.705861342987713, 0.02203480889185347], [100.85714285714286, 26.7, 6.041428571428573, 111.71428571428571, 26.014285714285712, 2.262857142857143, 4.871428571428572, 139.71428571428572, 1021.2857142857143, 1.7671428571428571, 39.41428571428571, 0.4142857142857143, 4.785714285714286, 4448.225714285714, 59.02857142857142, 134.14285714285714, 93.28571428571429, 35.499412915851266, 1.0, 0.0, 178.0, 18.630403809042868, 0.027922311782632797], [94.15384615384616, 25.915384615384614, 7.058461538461538, 107.46153846153847, 17.707692307692305, 2.29, 4.187692307692307, 133.15384615384616, 658.5384615384615, 1.553846153846154, 34.55384615384616, 23.592307692307692, 11.7, 3339.008269230769, 47.80769230769231, 148.69230769230768, 71.46153846153847, 86.09610115911485, 0.0, 1.0, 150.0, 21.247863247863247, 0.03187627719113133], [99.77499999999999, 28.666666666666668, 5.0025, 118.25, 16.96666666666667, 2.283333333333333, 4.554166666666666, 137.75, 713.0, 1.4249999999999998, 33.325, 2.583333333333333, 8.941666666666666, 4023.67375, 83.6347619047619, 143.91666666666666, 76.25, 74.5972602739726, 1.0, 1.0, 170.0, 28.93936398088648, 0.030201107831795856], [99.0, 28.62666666666667, 5.121333333333334, 128.2, 21.213333333333335, 2.279333333333333, 5.016666666666666, 138.26666666666668, 748.8, 1.5360000000000003, 41.67999999999999, 0.8879999999999999, 10.566666666666665, 3400.587666666666, 66.3287044807045, 140.73333333333332, 83.46666666666667, 52.75890410958903, 1.0, 1.0, 176.0, 21.41293403948363, 0.03333612645661221], [105.41666666666667, 24.75833333333334, 7.068333333333334, 129.75, 18.525, 2.2616666666666667, 4.849166666666666, 139.83333333333334, 881.0, 1.3533333333333335, 39.525, 1.5641666666666667, 4.833333333333333, 5122.528541666667, 66.20869124314005, 126.33333333333333, 86.66666666666667, 50.25045662100457, 1.0, 0.0, 181.06060606060603, 20.196079134127068, 0.027658747055935212], [103.4375, 23.993750000000002, 8.15, 110.375, 20.787499999999998, 2.3925000000000005, 4.692500000000001, 139.1875, 791.4375, 1.4306249999999998, 41.0875, 5.708124999999999, 5.525, 5011.070625, 77.77825829383886, 137.25, 83.75, 58.28184931506848, 1.0, 0.0, 174.0, 25.68974048547988, 0.031275439443584935], [99.125, 24.856250000000003, 5.491249999999999, 90.3125, 27.88125, 2.255000000000001, 4.971875, 137.9375, 1043.5625, 2.115625, 38.356249999999996, 8.398125, 5.924999999999999, 2592.0040625, 75.87522879498735, 151.75, 86.1875, 46.465582191780825, 1.0, 1.0, 175.0, 24.775584912648924, 0.024468383473090445], [98.0, 25.176470588235293, 4.856470588235294, 119.47058823529412, 24.088235294117645, 2.278235294117647, 5.285294117647059, 136.2941176470588, 913.4705882352941, 1.6141176470588237, 40.07058823529411, 5.240000000000001, 5.1117647058823525, 4596.129411764708, 61.6303590048594, 138.47058823529412, 81.6470588235294, 62.824496373892025, 1.0, 0.0, 172.0, 20.832327949181792, 0.024289590287013614], [96.17894736842106, 27.86315789473684, 5.359473684210527, 113.73684210526316, 18.926315789473684, 2.3989473684210525, 4.671578947368421, 136.89473684210526, 959.3157894736842, 1.823157894736842, 40.142105263157895, 5.672631578947367, 5.526315789473685, 4003.7098684210537, 75.35072852760736, 131.1578947368421, 79.42105263157895, 74.05580389329488, 1.0, 0.0, 170.0, 26.072916445538887, 0.02184742255538083], [100.26666666666667, 24.926666666666666, 8.804666666666664, 121.53333333333333, 21.640000000000004, 2.356666666666667, 4.432666666666666, 140.0, 910.3333333333334, 1.494, 38.653333333333336, 7.9753333333333325, 5.386666666666668, 2989.0288333333333, 60.31476507918368, 127.93333333333334, 84.06666666666666, 63.37589041095892, 0.0, 0.0, 151.0, 26.45268412753112, 0.0245583080264063], [104.2, 25.76, 7.472000000000001, 94.3, 16.36, 2.236, 4.603, 138.8, 776.9, 1.7120000000000002, 35.690000000000005, 9.323, 14.289999999999997, 3969.1400000000003, 95.0, 157.9, 87.4, 62.595342465753426, 1.0, 1.0, 180.0, 29.320987654320994, 0.06857737635824283], [93.6470588235294, 26.929411764705883, 7.772941176470589, 103.70588235294117, 22.73529411764706, 2.3394117647058823, 4.561176470588235, 137.11764705882354, 1043.1176470588234, 1.8941176470588232, 36.65882352941178, 18.554117647058824, 5.3235294117647065, 3551.574999999999, 51.23529411764706, 140.8235294117647, 90.23529411764706, 35.31458501208702, 0.0, 0.0, 165.0, 18.819208124020953, 0.025495025041524944], [101.47058823529412, 28.45294117647059, 5.366470588235295, 119.88235294117646, 20.400000000000006, 2.4347058823529406, 4.266470588235293, 140.41176470588235, 654.3529411764706, 1.0035294117647058, 41.252941176470586, 0.4158823529411765, 5.129411764705882, 6038.698529411764, 52.614814814814814, 136.88235294117646, 90.58823529411765, 30.533763094278804, 1.0, 0.0, 175.0, 17.180347694633404, 0.04557952521312634], [95.20370370370371, 27.774074074074072, 7.725925925925927, 109.18518518518519, 18.87185185185185, 2.448888888888889, 5.348888888888888, 136.0, 974.4814814814815, 1.632592592592593, 37.42222222222222, 12.180000000000003, 7.214814814814817, 5531.520092592593, 77.98484848484848, 135.03703703703704, 81.22222222222223, 33.25347539320142, 0.0, 1.0, 169.0, 27.30466317175467, 0.02862746423210101], [103.17647058823529, 26.835294117647056, 6.444705882352941, 126.94117647058823, 19.2, 2.179411764705883, 4.156470588235295, 140.94117647058823, 623.4705882352941, 1.423529411764706, 38.03529411764706, 1.4964705882352944, 4.91764705882353, 5637.627647058825, 52.58119824698798, 156.8235294117647, 93.52941176470588, 49.23771152296535, 1.0, 0.0, 170.0, 18.19418624463252, 0.04294911708003269], [102.77777777777777, 25.055555555555557, 8.346666666666668, 115.88888888888889, 23.8, 2.164444444444444, 4.665555555555556, 139.9888888888889, 872.5555555555555, 1.6333333333333333, 39.96666666666667, 0.9677777777777778, 5.388888888888888, 6051.5233333333335, 64.55303847536857, 148.0, 94.0, 51.25053272450533, 1.0, 0.0, 171.0, 22.07620754261775, 0.027763595775669322], [102.4, 24.926666666666666, 6.175333333333333, 117.26666666666667, 22.42, 2.015333333333333, 4.257333333333333, 141.2, 1140.8666666666666, 1.8139999999999996, 38.78666666666666, 1.304, 4.44, 3766.3, 95.4, 155.06666666666666, 92.46666666666667, 44.756894977168955, 1.0, 0.0, 171.0, 32.62542320714065, 0.02097932414116546], [95.4, 26.809999999999995, 8.587, 120.65, 14.080000000000002, 2.2279999999999998, 4.125, 136.35, 586.2, 1.2150000000000003, 38.39, 8.274000000000001, 5.264999999999999, 4654.4574999999995, 41.4505974753919, 136.4, 86.8, 47.41671232876713, 1.0, 0.0, 158.0, 16.604148964665875, 0.05122785613894648], [96.0, 24.666666666666668, 5.449999999999999, 133.0, 19.799999999999997, 2.54, 4.136666666666667, 139.33333333333334, 833.6666666666666, 1.83, 40.26666666666667, 0.8233333333333334, 5.666666666666667, 2962.64, 52.0, 144.66666666666666, 64.33333333333333, 56.48127853881278, 0.0, 0.0, 160.0, 20.312499999999996, 0.028987607103175984], [93.33333333333333, 32.06666666666666, 6.12, 114.33333333333333, 32.43333333333334, 2.5933333333333333, 4.866666666666667, 138.33333333333334, 1464.3333333333333, 1.8499999999999999, 41.0, 3.0499999999999994, 4.033333333333333, 3697.0633333333335, 67.0, 138.66666666666666, 92.0, 59.47762557077626, 1.0, 0.0, 166.0, 24.314123965742493, 0.013903960489493924], [96.75, 28.95, 5.6575, 133.0, 14.125, 2.505, 3.8875, 138.25, 861.0, 1.27, 42.425, 1.6575, 4.775, 3698.815, 50.799632352941174, 158.25, 105.25, 26.09178082191781, 1.0, 0.0, 150.0, 22.57761437908497, 0.03568515788358767], [100.44444444444444, 26.755555555555556, 7.774444444444446, 122.88888888888889, 16.533333333333335, 2.3800000000000003, 4.874444444444445, 139.77777777777777, 566.6666666666666, 1.3755555555555556, 31.87777777777778, 3.7222222222222223, 5.044444444444444, 2280.8255555555556, 50.95555555555556, 130.22222222222223, 69.0, 62.38599695585997, 0.0, 1.0, 157.0, 20.672463611325227, 0.04398003219680462], [102.53846153846153, 25.26153846153846, 9.074615384615385, 119.3076923076923, 10.5, 2.3407692307692307, 4.205384615384615, 141.84615384615384, 397.9230769230769, 1.3269230769230766, 35.91538461538461, 5.399230769230769, 8.323076923076924, 3097.1430769230774, 52.39867174365655, 136.76923076923077, 77.61538461538461, 70.28514225500527, 0.0, 1.0, 160.0, 20.468231149865836, 0.06736152321840938], [99.0, 26.880000000000003, 8.113000000000001, 111.4, 17.009999999999998, 2.5119999999999996, 4.098000000000001, 137.5, 702.0, 1.5290000000000001, 43.529999999999994, 0.807, 5.140000000000001, 3333.0234999999993, 54.45, 132.9, 82.6, 42.837808219178086, 0.0, 0.0, 158.0, 21.811408428136513, 0.03944231977626203], [100.16666666666667, 26.816666666666666, 6.3725, 118.83333333333333, 18.458333333333332, 2.3308333333333335, 4.453333333333333, 138.33333333333334, 817.4166666666666, 1.4025, 39.65, 0.6841666666666666, 5.100000000000001, 3218.401666666667, 66.54166666666667, 140.5, 91.16666666666667, 41.80159817351598, 0.0, 0.0, 162.0, 25.355001778184217, 0.0326476817353391], [98.53846153846153, 25.076923076923077, 8.833846153846155, 119.3076923076923, 20.62307692307692, 2.2246153846153844, 4.121538461538463, 139.23076923076923, 1254.5384615384614, 1.7176923076923076, 38.93076923076923, 17.373076923076923, 5.630769230769231, 3886.0603846153836, 77.6923076923077, 136.3846153846154, 86.38461538461539, 58.77239199157006, 1.0, 1.0, 176.0, 25.08145263827081, 0.017183176701412728], [100.33333333333333, 28.28333333333333, 9.345, 120.5, 14.25, 2.35, 3.9749999999999996, 139.0, 624.1666666666666, 1.4383333333333332, 33.666666666666664, 2.2883333333333327, 7.3, 2518.48, 53.0, 155.0, 82.5, 45.639726027397266, 1.0, 1.0, 170.0, 18.33910034602076, 0.04391132028179356], [105.44444444444444, 24.08888888888889, 8.087777777777777, 131.0, 15.022222222222224, 2.2566666666666664, 4.028888888888889, 139.77777777777777, 500.0666666666667, 1.2411111111111113, 31.74444444444445, 4.255555555555556, 7.900000000000001, 6256.912222222221, 68.66666666666667, 134.55555555555554, 80.55555555555556, 75.86362252663622, 0.0, 1.0, 170.0, 23.760092272203007, 0.8468629237265113], [100.26666666666667, 24.59333333333333, 6.009333333333332, 98.93333333333334, 20.853333333333335, 2.250666666666667, 4.408666666666666, 138.0, 912.6666666666666, 1.6693333333333331, 38.03333333333333, 4.1593333333333335, 5.673333333333333, 3983.4914166666663, 77.01565995525726, 145.93333333333334, 73.4, 83.9192694063927, 1.0, 1.0, 171.0, 26.33824423079144, 0.022489676447266384], [99.72222222222223, 26.12777777777778, 6.193333333333334, 109.83333333333333, 21.444444444444443, 2.2783333333333338, 4.014444444444446, 138.22222222222223, 1098.5, 1.663888888888889, 36.861111111111114, 0.6305555555555556, 6.233333333333333, 4604.944722222222, 78.69928644240571, 150.5, 90.05555555555556, 54.93911719939116, 1.0, 1.0, 180.0, 24.28990322296472, 0.02054115988278506], [104.61538461538461, 23.61538461538461, 6.30076923076923, 118.76923076923077, 21.684615384615384, 2.06923076923077, 4.776923076923077, 139.3846153846154, 433.53846153846155, 1.3953846153846154, 34.91538461538462, 2.066153846153846, 5.199999999999999, 4953.656923076923, 51.23076923076923, 139.07692307692307, 87.07692307692308, 56.255637513171756, 1.0, 0.0, 160.0, 20.012019230769226, 0.06292966088468593], [100.05833333333334, 24.495833333333334, 10.952499999999999, 120.79166666666667, 21.504166666666663, 2.3766666666666665, 5.548333333333333, 136.875, 1032.25, 1.5908333333333333, 43.59166666666667, 2.1462499999999998, 4.783333333333332, 4381.690104166668, 89.13840206185563, 136.125, 95.0, 40.36369863013698, 1.0, 1.0, 181.0, 27.20869389269427, 0.024489869245757873], [100.0, 23.781818181818185, 6.265454545454546, 110.27272727272727, 15.0, 2.1736363636363634, 4.655454545454545, 136.1818181818182, 571.2727272727273, 1.3027272727272725, 33.74545454545455, 3.9345454545454555, 15.263636363636364, 2858.0224999999996, 74.72727272727273, 132.0, 82.72727272727273, 69.44657534246575, 1.0, 1.0, 172.0, 25.259353950538376, 0.04187265044864922], [99.4, 26.52, 5.360000000000001, 106.4, 22.830000000000002, 2.351, 4.232, 140.3, 1251.9, 1.5170000000000001, 38.160000000000004, 2.9379999999999997, 4.9799999999999995, 3997.5225000000005, 62.6, 134.4, 84.8, 56.442191780821915, 1.0, 0.0, 176.0, 20.209194214876035, 0.01724878706150089], [98.8, 29.659999999999997, 8.466, 111.4, 18.14, 2.162, 3.972, 141.6, 988.0, 1.518, 35.18, 17.178000000000004, 5.840000000000001, 2595.8975, 93.6, 146.0, 90.0, 50.46465753424658, 1.0, 1.0, 175.0, 30.563265306122446, 0.025593823284587848], [100.4, 26.040000000000003, 8.171999999999999, 127.53333333333333, 14.193333333333332, 2.406, 4.311333333333334, 138.13333333333333, 496.93333333333334, 1.3746666666666667, 39.5, 0.7146666666666667, 8.866666666666667, 3488.4363333333336, 36.08578947368421, 151.86666666666667, 94.13333333333334, 38.16091324200913, 0.0, 1.0, 143.0, 17.64672574389174, 0.06260133358582393], [103.13888888888889, 24.983333333333334, 6.072222222222222, 112.88888888888889, 19.855555555555554, 2.1500000000000004, 5.426666666666666, 138.02222222222224, 848.2222222222222, 1.6155555555555559, 35.672222222222224, 1.123888888888889, 7.794444444444445, 3597.561111111111, 87.11111111111111, 144.55555555555554, 75.05555555555556, 47.40821917808219, 1.0, 1.0, 180.0, 26.88614540466392, 0.02985207385195369], [96.35555555555555, 26.1, 37.52851851851852, 109.70370370370371, 17.977777777777778, 2.5081481481481482, 4.305185185185185, 135.61851851851853, 514.3703703703703, 1.5707407407407408, 31.196296296296296, 10.947407407407407, 6.685185185185187, 2685.9716666666664, 29.299999999999986, 91.85185185185185, 52.22222222222222, 77.335565702689, 0.0, 1.0, 146.0, 13.745543253893796, 0.0453329716331227], [99.66666666666667, 26.622222222222224, 5.922222222222222, 103.66666666666667, 22.566666666666666, 2.152222222222222, 5.032222222222222, 136.55555555555554, 711.6666666666666, 1.2333333333333334, 33.56666666666667, 1.5166666666666668, 5.166666666666667, 5181.254444444446, 58.97721179624664, 139.22222222222223, 64.77777777777777, 64.70654490106546, 1.0, 1.0, 170.0, 20.407339721884654, 0.032263712254689596], [102.6, 26.3, 6.726000000000001, 124.6, 19.4, 2.216, 4.424, 141.0, 464.0, 1.4460000000000002, 38.339999999999996, 1.288, 4.68, 4311.034, 70.0, 132.8, 70.4, 63.8345205479452, 1.0, 0.0, 170.0, 24.221453287197235, 0.054416943122276476], [106.33333333333333, 21.53333333333333, 5.573333333333333, 101.16666666666667, 21.450000000000003, 2.3233333333333333, 4.783333333333334, 141.0, 976.0, 1.9133333333333333, 39.833333333333336, 0.44166666666666665, 4.616666666666666, 5546.275000000001, 54.75, 137.16666666666666, 95.33333333333333, 27.16712328767123, 1.0, 0.0, 168.0, 19.398384353741502, 0.028651485819008823], [100.0, 24.406250000000004, 7.894375, 93.3125, 23.289375000000003, 2.2812499999999996, 5.184374999999999, 139.1875, 1046.48125, 1.7143749999999998, 35.225, 18.866249999999997, 6.075, 5333.175, 89.15000000000002, 134.0625, 80.25, 45.05770547945206, 1.0, 1.0, 178.0, 28.13723014770863, 0.02353348505071529], [105.14285714285714, 25.142857142857142, 6.457142857142857, 122.28571428571429, 10.757142857142856, 2.3685714285714288, 4.244285714285715, 140.28571428571428, 188.42857142857142, 1.33, 38.9, 0.7285714285714285, 12.942857142857145, 4814.548928571428, 58.528448979591836, 119.42857142857143, 72.0, 73.1385518590998, 0.0, 1.0, 155.0, 24.36147720274374, 0.15552316589313858], [92.55555555555556, 22.044444444444444, 12.819999999999999, 130.0, 16.400000000000002, 2.3111111111111113, 4.466666666666666, 135.66666666666666, 882.4444444444445, 2.2666666666666666, 37.611111111111114, 12.868888888888888, 7.91111111111111, 5411.057777777776, 93.0, 100.0, 69.11111111111111, 70.43257229832572, 1.0, 1.0, 172.0, 31.435911303407245, 0.025686659741621685], [100.12142857142858, 23.078571428571426, 10.92, 117.42857142857143, 18.407142857142855, 2.435, 4.255, 138.6142857142857, 548.7142857142857, 1.6785714285714286, 38.021428571428565, 7.042857142857144, 10.085714285714285, 6629.886428571429, 69.35714285714286, 133.14285714285714, 74.71428571428571, 71.59491193737769, 0.0, 1.0, 160.0, 27.092633928571423, 0.04275832283669697], [98.14285714285714, 27.142857142857142, 3.5642857142857145, 107.28571428571429, 19.0, 2.0285714285714285, 4.278571428571429, 137.57142857142858, 496.57142857142856, 1.5514285714285714, 40.42857142857143, 0.2571428571428572, 13.685714285714285, 2119.9624999999996, 47.0, 144.14285714285714, 85.42857142857143, 61.26731898238747, 0.0, 1.0, 155.0, 19.56295525494276, 0.05329675564011327], [101.14285714285714, 28.39285714285714, 5.08, 127.92857142857143, 14.085714285714287, 2.373571428571428, 5.04, 138.78571428571428, 480.5, 1.3764285714285711, 36.14285714285715, 0.4635714285714288, 10.499999999999998, 5049.660000000002, 49.399999999999984, 124.35714285714286, 84.78571428571429, 30.671428571428574, 0.0, 1.0, 161.0, 19.05790671656186, 0.0684048130307954], [102.55, 23.47, 4.849000000000001, 118.2, 25.430000000000003, 2.2600000000000002, 5.298, 138.53, 889.9, 1.6990000000000003, 41.629999999999995, 2.449, 5.58, 8236.178499999998, 62.95, 140.0, 94.1, 50.8186301369863, 1.0, 0.0, 170.0, 21.78200692041522, 0.027794665164646893], [100.28571428571429, 25.842857142857145, 7.5, 104.71428571428571, 20.45, 2.4571428571428577, 4.477857142857144, 138.57142857142858, 1395.357142857143, 1.4485714285714286, 39.33571428571429, 0.4, 5.271428571428571, 7018.777142857143, 73.0, 162.71428571428572, 105.21428571428571, 46.77240704500979, 1.0, 0.0, 169.0, 25.559329155141633, 0.016573111992597978], [97.4, 23.919999999999998, 5.467999999999999, 128.0, 19.26, 2.2439999999999998, 4.226, 136.6, 1051.4, 2.06, 39.839999999999996, 0.7060000000000001, 5.5, 9235.45, 57.0, 141.2, 87.0, 32.36767123287672, 1.0, 0.0, 172.0, 19.2671714440238, 0.02507261874059008], [100.77777777777777, 22.455555555555556, 10.352222222222224, 134.33333333333334, 15.399999999999999, 2.4188888888888886, 4.334444444444444, 135.66666666666666, 596.4444444444445, 1.7333333333333334, 33.211111111111116, 13.515555555555558, 12.855555555555558, 6005.517777777779, 55.60000000000001, 140.77777777777777, 75.33333333333333, 80.48645357686455, 0.0, 1.0, 152.0, 24.065096952908586, 0.03705123449943958], [102.625, 25.1375, 8.30125, 113.25, 17.75, 2.57875, 3.92375, 138.75, 505.375, 1.5812499999999998, 31.462500000000002, 4.7625, 7.1000000000000005, 4443.174999999999, 39.0, 112.125, 73.375, 31.173287671232877, 0.0, 1.0, 160.0, 15.234374999999998, 0.06399778858114685], [103.14285714285714, 24.314285714285717, 4.764285714285715, 123.85714285714286, 16.957142857142856, 2.2157142857142857, 4.702857142857142, 139.28571428571428, 658.8571428571429, 1.2899999999999998, 38.971428571428575, 21.02, 4.985714285714286, 6281.955000000001, 57.5, 145.85714285714286, 90.57142857142857, 61.99412915851271, 1.0, 1.0, 158.0, 23.033167761576667, 0.03607459466726885], [95.14285714285714, 23.457142857142856, 10.700000000000001, 115.0, 23.699999999999996, 2.218571428571429, 5.427142857142857, 135.37142857142857, 734.0, 2.1457142857142855, 32.385714285714286, 14.349999999999998, 5.885714285714284, 4553.330000000001, 44.0, 125.71428571428571, 72.71428571428571, 68.03287671232876, 1.0, 1.0, 166.0, 15.96748439541298, 0.03284511411891836], [82.675, 25.4625, 5.51, 119.25, 18.25, 2.3412499999999996, 4.07375, 128.15, 486.0, 1.2924999999999998, 38.662499999999994, 8.206249999999999, 6.1125, 6467.487500000001, 56.0, 122.0, 62.75, 81.94623287671232, 1.0, 1.0, 161.0, 21.604104779908177, 0.0452153780528605], [104.5, 25.462500000000002, 9.30375, 129.625, 14.8125, 2.3737499999999994, 4.8325, 141.375, 873.25, 1.28625, 42.87500000000001, 1.88, 4.9, 10610.310000000001, 73.0, 125.125, 94.5, 29.726027397260278, 1.0, 0.0, 183.0, 21.798202394816204, 0.03210013346474965], [102.71428571428571, 25.45714285714286, 4.911428571428572, 117.14285714285714, 20.3, 2.2357142857142853, 4.840000000000001, 137.85714285714286, 704.8571428571429, 1.3914285714285715, 38.42857142857142, 0.16428571428571428, 4.357142857142857, 7105.660000000002, 50.60000000000001, 141.85714285714286, 99.85714285714286, 38.35655577299413, 0.0, 0.0, 158.0, 20.26918763018747, 0.041027656186910566], [103.2, 27.22, 5.447999999999999, 94.2, 31.78, 2.176, 4.718, 141.8, 581.0, 1.8540000000000003, 30.3, 1.6060000000000003, 6.24, 5010.464999999999, 58.0, 154.4, 82.6, 54.5413698630137, 0.0, 1.0, 160.0, 22.656249999999996, 0.045235930188765816]]\n",
      "['Cl', 'CO2CP', 'WBC', 'Hb', 'Urea', 'Ca', 'K', 'Na', 'Scr', 'P', 'Albumin', 'hsCRP', 'Glucose', 'Appetite', 'Weight', 'SBP', 'DBP', 'age', 'gender', 'diab', 'height', 'bmi', 'gfr']\n",
      "data rounds: [(22.918181818181818, 35.99272522522523), (35.99272522522523, 38.768606557377055), (38.768606557377055, 49.0)]\n",
      "data counter: Counter({2: 223, 0: 217, 1: 216})\n",
      "(656, 50) 50\n",
      "group 0.0, all count 217\n",
      "sum of diabetes: 103.0, ratio: 0.47\n",
      "sum of female: 101.0, ratio: 0.47\n",
      "group 1.0, all count 216\n",
      "sum of diabetes: 90.0, ratio: 0.42\n",
      "sum of female: 116.0, ratio: 0.54\n",
      "group 2.0, all count 223\n",
      "sum of diabetes: 51.0, ratio: 0.23\n",
      "sum of female: 110.0, ratio: 0.49\n",
      "group all\n",
      "sum of diabetes: 244.0, ratio: 0.37\n",
      "sum of female: 327.0, ratio: 0.50\n",
      "(49, 3) (49,) (49, 1)\n",
      "result saved as .//result/baseline_mean_sta_Albumin.xlsx\n",
      "Albumin & g/L & 37.36 & 3.50 & 33.54 & 2.09 & 37.39 & 0.76 & 41.06 & 1.80 & <0.001 \\\\\n",
      "Age & year & 61.12 & 15.59 & 68.20 & 13.87 & 63.34 & 14.26 & 52.07 & 14.03 & <0.001 \\\\\n",
      "Gender & male & 0.50 & 0.50 & 0.53 & 0.50 & 0.46 & 0.50 & 0.51 & 0.50 & 0.57 \\\\\n",
      "Height & cm & 162.60 & 9.46 & 162.21 & 10.43 & 161.77 & 8.74 & 163.80 & 9.03 & 0.07 \\\\\n",
      "Weight & kg & 61.68 & 11.56 & 60.33 & 11.84 & 61.50 & 11.13 & 63.17 & 11.55 & <0.01 \\\\\n",
      "BMI & - & 23.38 & 5.52 & 23.23 & 8.28 & 23.43 & 3.40 & 23.47 & 3.45 & 0.65 \\\\\n",
      "Diab & yes & 0.37 & 0.48 & 0.47 & 0.50 & 0.42 & 0.49 & 0.23 & 0.42 & <0.001 \\\\\n",
      "SBP & mmHg & 133.37 & 15.84 & 131.43 & 19.48 & 133.87 & 12.53 & 134.76 & 14.59 & 0.03 \\\\\n",
      "DBP & mmHg & 77.25 & 10.61 & 72.84 & 10.83 & 76.21 & 9.28 & 82.54 & 9.28 & <0.001 \\\\\n",
      "WBC & $\times 10^{9}$/L & 8.45 & 19.15 & 10.07 & 33.19 & 7.75 & 1.85 & 7.55 & 1.90 & 0.17 \\\\\n",
      "Hb & g/L & 113.76 & 12.04 & 112.88 & 13.24 & 113.60 & 10.67 & 114.78 & 12.02 & 0.10 \\\\\n",
      "Urea & mmol/L & 20.00 & 4.31 & 18.92 & 4.08 & 20.12 & 4.31 & 20.94 & 4.30 & <0.001 \\\\\n",
      "Scr & umol/L & 817.47 & 239.41 & 708.38 & 189.61 & 802.02 & 214.59 & 938.60 & 250.86 & <0.001 \\\\\n",
      "K & mmol/L & 4.29 & 0.45 & 4.19 & 0.45 & 4.30 & 0.42 & 4.39 & 0.46 & <0.001 \\\\\n",
      "Na & mmol/L & 138.53 & 2.42 & 138.03 & 2.72 & 138.45 & 2.36 & 139.08 & 2.04 & <0.001 \\\\\n",
      "Cl & mmol/L & 98.37 & 3.33 & 98.51 & 3.23 & 98.00 & 3.19 & 98.58 & 3.54 & 0.82 \\\\\n",
      "Ca & mmol/L & 2.36 & 0.25 & 2.29 & 0.22 & 2.37 & 0.21 & 2.42 & 0.31 & <0.001 \\\\\n",
      "P & mmol/L & 1.58 & 0.29 & 1.50 & 0.28 & 1.59 & 0.28 & 1.66 & 0.30 & <0.001 \\\\\n",
      "Hs-CRP & mg/L & 8.75 & 10.82 & 12.43 & 14.89 & 8.00 & 7.16 & 5.89 & 7.60 & <0.001 \\\\\n",
      "Glucose & mmol/L & 6.72 & 2.30 & 7.11 & 2.40 & 6.96 & 2.44 & 6.10 & 1.94 & <0.001 \\\\\n",
      "CO2CP & mmol/L & 27.26 & 2.10 & 27.49 & 2.15 & 27.41 & 1.82 & 26.89 & 2.26 & <0.01 \\\\\n",
      "Appetite & g & 3420.86 & 994.86 & 3194.10 & 821.65 & 3424.64 & 940.21 & 3637.85 & 1144.39 & <0.001 \\\\\n",
      "GFR & ml/min & 0.06 & 0.33 & 0.08 & 0.53 & 0.06 & 0.21 & 0.04 & 0.07 & 0.17 \\\\\n",
      "Water &g/d & & 1512.00 & 522.61 & 1441.07 & 471.74 & 1518.35 & 495.35 & 1574.88 & 585.45 & <0.01 \\\\\n",
      "Protein &g/d & & 52.52 & 15.78 & 49.91 & 13.48 & 52.50 & 14.43 & 55.09 & 18.50 & <0.001 \\\\\n",
      "Fat &g/d & & 61.28 & 17.76 & 58.63 & 17.49 & 61.71 & 16.84 & 63.45 & 18.61 & <0.01 \\\\\n",
      "Carbohydrate &g/d & & 215.34 & 68.68 & 192.29 & 54.77 & 216.08 & 64.83 & 237.06 & 77.04 & <0.001 \\\\\n",
      "Calories &kcal/d & & 1582.30 & 450.26 & 1451.05 & 374.35 & 1593.96 & 423.44 & 1698.71 & 507.52 & <0.001 \\\\\n",
      "Df &g/d & & 10.18 & 3.75 & 9.03 & 3.42 & 10.52 & 3.86 & 10.96 & 3.69 & <0.001 \\\\\n",
      "K &mg/d & & 1493.33 & 481.10 & 1388.68 & 428.49 & 1525.76 & 503.01 & 1563.75 & 492.45 & <0.001 \\\\\n",
      "Na &mg/d & & 2595.51 & 925.01 & 2511.73 & 892.66 & 2628.97 & 879.93 & 2644.62 & 994.49 & 0.13 \\\\\n",
      "Mg &mg/d & & 253.39 & 80.37 & 236.79 & 75.59 & 257.28 & 76.78 & 265.78 & 85.72 & <0.001 \\\\\n",
      "Ca &mg/d & & 437.14 & 168.42 & 447.75 & 184.32 & 441.10 & 163.93 & 422.98 & 155.83 & 0.12 \\\\\n",
      "P &mg/d & & 799.52 & 244.67 & 764.02 & 220.35 & 804.01 & 227.36 & 829.70 & 277.75 & <0.01 \\\\\n",
      "Fe &mg/d & & 15.70 & 5.17 & 14.72 & 4.94 & 15.75 & 4.75 & 16.59 & 5.60 & <0.001 \\\\\n",
      "Zn &mg/d & & 8.18 & 2.87 & 7.77 & 2.51 & 8.26 & 2.65 & 8.49 & 3.34 & <0.01 \\\\\n",
      "Cu &mg/d & & 1.26 & 0.44 & 1.15 & 0.38 & 1.27 & 0.41 & 1.37 & 0.49 & <0.001 \\\\\n",
      "Mn &mg/d & & 3.92 & 1.56 & 3.51 & 1.27 & 3.96 & 1.38 & 4.28 & 1.87 & <0.001 \\\\\n",
      "Se &mg/d & & 35.71 & 11.36 & 34.44 & 10.95 & 34.96 & 10.25 & 37.68 & 12.50 & <0.01 \\\\\n",
      "Retinol &ug/d & & 166.44 & 152.01 & 193.04 & 208.15 & 152.79 & 99.26 & 153.78 & 124.27 & <0.01 \\\\\n",
      "VitaminA &ugRAE/d & & 469.28 & 272.27 & 473.60 & 314.27 & 469.66 & 248.05 & 464.70 & 251.00 & 0.73 \\\\\n",
      "Carotene &ug/d & & 1705.64 & 1228.01 & 1503.12 & 1238.72 & 1786.06 & 1211.35 & 1824.82 & 1214.32 & <0.01 \\\\\n",
      "VitaminE &mg/d & & 21.99 & 9.31 & 19.82 & 7.89 & 22.43 & 8.67 & 23.68 & 10.71 & <0.001 \\\\\n",
      "Thiamine &mg/d & & 1.24 & 3.73 & 1.90 & 6.25 & 0.85 & 1.16 & 0.96 & 1.07 & <0.01 \\\\\n",
      "Riboflavin &mg/d & & 1.32 & 3.58 & 2.01 & 6.00 & 0.96 & 1.05 & 1.00 & 0.96 & <0.01 \\\\\n",
      "Nicotinic &mg/d & & 12.45 & 5.15 & 11.59 & 4.41 & 12.43 & 4.51 & 13.32 & 6.19 & <0.001 \\\\\n",
      "Ascorbic &mg/d & & 88.43 & 48.69 & 80.11 & 51.27 & 91.20 & 45.00 & 93.84 & 48.69 & <0.01 \\\\\n",
      "DPI &g/(kg·d) & & 0.92 & 0.26 & 0.88 & 0.24 & 0.93 & 0.24 & 0.94 & 0.29 & <0.01 \\\\\n",
      "DEI &kcal/(kg·d) & & 27.60 & 7.37 & 25.44 & 6.70 & 28.29 & 7.13 & 29.04 & 7.76 & <0.001 \\\\\n"
     ]
    }
   ],
   "source": [
    "import collections\n",
    "# 按基线白蛋白分组\n",
    "def get_labels_dict_statistics_diet_for_tab():\n",
    "    return {'date': 'Date', 'water': 'Water', 'protein': 'Protein', 'fat': 'Fat', 'carbohydrate': 'Carbohydrate', 'Calories': 'Calories', 'df': 'Df', 'k': 'K', 'na': 'Na', 'mg': 'Mg', 'ca': 'Ca', 'p': 'P', 'fe': 'Fe', 'zn': 'Zn', 'cu': 'Cu', 'mn': 'Mn', 'se': 'Se', 'retinol': 'Retinol', 'vitaminA': 'VitaminA', 'carotene': 'Carotene', 'vitaminE': 'VitaminE', 'thiamine': 'Thiamine', 'riboflavin': 'Riboflavin', 'nicotinic': 'Nicotinic', 'ascorbic': 'Ascorbic', 'dpi': 'DPI', 'dei': 'DEI'}\n",
    "def get_baseline_sta_group_by(visit_first,diet_first,labels_visit,labels_diet,resule_path, target_col = 'Albumin',q=3,filename='baseline_sta.xlsx'):\n",
    "    print(visit_first)\n",
    "    pos = labels_visit.index('hs-CRP')\n",
    "    labels_visit = list(labels_visit)\n",
    "    labels_visit[pos] = 'hsCRP'\n",
    "    print(labels_visit)\n",
    "    visit_first = np.array(visit_first)\n",
    "    if labels_diet[0] == 'date':\n",
    "        labels_diet = labels_diet[1:]\n",
    "        diet_first  = np.array(diet_first)[:,1:]\n",
    "    # 获取目标基线数据\n",
    "    target_data = visit_first[:,labels_visit.index(target_col)]\n",
    "    # 按目标基线数据分组\n",
    "    data_rounds = gconst.get_data_rounds(target_data,'q'+str(q))\n",
    "    data_stage = gconst.get_data_rounds_indexs(target_data,data_rounds)\n",
    "    if target_col in ['death']:\n",
    "        data_stage = visit_first[target_col]\n",
    "    if 'death' in labels_visit:\n",
    "        labels_visit = labels_visit[:-1]\n",
    "        visit_first = visit_first[:,:-1]\n",
    "        print(labels_visit)\n",
    "        print(np.array(visit_first).shape)\n",
    "    print(f'data rounds: {data_rounds}')\n",
    "    counter = collections.Counter(data_stage)\n",
    "    print(f'data counter: {counter}')\n",
    "    # 患者分组 [col, datas]\n",
    "    data_merge = np.concatenate((visit_first,diet_first,np.array(data_stage).reshape(-1,1)),axis=1)\n",
    "    labels_merge = labels_visit + labels_diet + ['group']\n",
    "    print(data_merge.shape,len(labels_merge))\n",
    "    data_merge_df = pd.DataFrame(data_merge,dtype = float, columns=labels_merge)\n",
    "    grouped_data_df = data_merge_df.groupby('group')\n",
    "\n",
    "    # 对于每个group，输出一下\n",
    "    for group_index, group_data in grouped_data_df:\n",
    "        print(f'group {group_index}, all count {len(group_data)}')\n",
    "        print(f'sum of diabetes: {sum(group_data[\"diab\"])}, ratio: {sum(group_data[\"diab\"])/len(group_data):.2f}')\n",
    "        print(f'sum of female: {len(group_data) - sum(group_data[\"gender\"])}, ratio: {(1 - sum(group_data[\"gender\"])/len(group_data)):.2f}')\n",
    "    # for all\n",
    "    print(f'group all')\n",
    "    print(f'sum of diabetes: {sum(data_merge_df[\"diab\"])}, ratio: {sum(data_merge_df[\"diab\"])/len(data_merge_df):.2f}')\n",
    "    print(f'sum of female: {len(data_merge_df) - sum(data_merge_df[\"gender\"])}, ratio: {(1 - sum(data_merge_df[\"gender\"])/len(data_merge_df)):.2f}')\n",
    "    \n",
    "\n",
    "    means = grouped_data_df.mean()\n",
    "    stds = grouped_data_df.std()\n",
    "    mean_all = data_merge_df.mean().drop(labels=['group']) # 删除最后一行group\n",
    "    std_all = data_merge_df.std().drop(labels=['group'])\n",
    "    ps = []\n",
    "    group_ps = []\n",
    "    # 检验\n",
    "    for col in labels_visit + labels_diet:\n",
    "        model = ols(formula=f'{col}~group',data=data_merge_df).fit()\n",
    "        table = anova_lm(model,typ=1)\n",
    "        p_val = table['PR(>F)']['group']\n",
    "        ps.append(p_val)\n",
    "\n",
    "        mc = MultiComparison(data_merge_df[col],groups=data_merge_df['group'])\n",
    "        res_group = mc.tukeyhsd(alpha=0.05)\n",
    "        res_group = ['y' if i else 'n' for i in res_group.reject]\n",
    "        group_ps.append(''.join(res_group))\n",
    "        # print(group_ps)\n",
    "        # break\n",
    "    means, stds = means.transpose(), stds.transpose()\n",
    "    ps = pd.DataFrame(np.array(ps).reshape(-1,1),columns=['p'],index=means.index)\n",
    "    inner_ps = pd.DataFrame(np.array(group_ps).reshape(-1,1),columns=['inner_p'],index=means.index)\n",
    "    print(means.shape, mean_all.shape,ps.shape)\n",
    "    res = pd.concat([means,stds,mean_all,std_all,ps,inner_ps],axis=1)\n",
    "    res.columns = [f'mean{i}' for i in range(q)] + [f'std{i}' for i in range(q)] + ['mean3','std3','p','inner_p']\n",
    "\n",
    "    # 增加一列p_str, 如果p<0.001, p_str = \"<0.001\", 如果p<0.01, p_str = \"<0.01\",否则p_str = p\n",
    "    res['p_str'] = res['p'].apply(lambda x: '<0.001' if x < 0.001 else '<0.01' if x < 0.01 else f'{x:.2f}')\n",
    "    # 增加一列order, 用于排序, Albumin、age、gender、height、weight、BMI、diab、SBP、DBP、WBC、Hb、Urea、Scr、K、Na、Cl、P、hs-Crp、Glucose、CO2CP分别为1-20\n",
    "    res['unit'] = [\"mmol/L\", \"mmol/L\", \"$\\times 10^{9}$/L\", \"g/L\", \"mmol/L\", \"mmol/L\", \"mmol/L\", \"mmol/L\", \"umol/L\", \"mmol/L\", \"g/L\", \"mg/L\", \"mmol/L\",\"g\", \"kg\", \"mmHg\", \"mmHg\", \"year\", \"male\", \"yes\", \"cm\", \"-\", \"ml/min\", \"g/d\", \"g/d\", \"g/d\", \"g/d\", \"kcal/d\", \"g/d\", \"mg/d\", \"mg/d\", \"mg/d\", \"mg/d\", \"mg/d\", \"mg/d\", \"mg/d\", \"mg/d\", \"mg/d\", \"mg/d\", \"ug/d\", \"ugRAE/d\", \"ug/d\", \"mg/d\", \"mg/d\", \"mg/d\", \"mg/d\", \"mg/d\", \"g/(kg·d)\", \"kcal/(kg·d)\"]\n",
    "\n",
    "    order_list = [\n",
    "    'Albumin',  # 白蛋白\n",
    "    'age', 'gender', 'height', 'Weight', 'bmi', 'diab',  # 年龄、性别、身高、体重、BMI、糖尿病\n",
    "    'SBP', 'DBP',  # 收缩压、舒张压\n",
    "    'WBC', 'Hb', 'Urea', 'Scr', 'K', 'Na', 'Cl', 'Ca', 'P', 'hsCRP', 'Glucose', 'CO2CP',  # 白细胞计数、血红蛋白、尿素、血清肌酐、钾、钠、氯、钙、磷、高敏C反应蛋白、葡萄糖、二氧化碳结合能力\n",
    "    'Appetite', 'gfr'  # 食欲、肾小球滤过率\n",
    "    ]\n",
    "\n",
    "    visit_labels_dict = gconst.get_labels_dict_statistics_visit_for_tab()\n",
    "    diet_labels_dict = get_labels_dict_statistics_diet_for_tab()\n",
    "    # print(res)\n",
    "    filename = f'{result_path}{filename}'\n",
    "    with pd.ExcelWriter(filename) as writer:\n",
    "            res.to_excel(writer,float_format='%.2f',index=True)\n",
    "    print(f'result saved as {filename}')\n",
    "\n",
    "    # 前面的25个指标按照order_list排序，每行输出index, Unit, mean3, std3, mean0, std0, mean1, std1, mean2, std2, p_str,latex表格格式\n",
    "    for cur_visit_label in order_list:\n",
    "        cur_visit_label_output = visit_labels_dict[cur_visit_label]\n",
    "        cur_res = res.loc[cur_visit_label]\n",
    "        if q == 3:\n",
    "            cur_res = cur_res[['unit','mean3','std3','mean0','std0','mean1','std1','mean2','std2','p_str']]\n",
    "            print(f'{cur_visit_label_output} & {cur_res[\"unit\"]} & {cur_res[\"mean3\"]:.2f} & {cur_res[\"std3\"]:.2f} & {cur_res[\"mean0\"]:.2f} & {cur_res[\"std0\"]:.2f} & {cur_res[\"mean1\"]:.2f} & {cur_res[\"std1\"]:.2f} & {cur_res[\"mean2\"]:.2f} & {cur_res[\"std2\"]:.2f} & {cur_res[\"p_str\"]} \\\\\\\\')\n",
    "        else:\n",
    "            cur_res = cur_res[['unit','mean3','std3','mean0','std0','mean1','std1','p_str']]\n",
    "            print(f'{cur_visit_label_output} & {cur_res[\"unit\"]} & {cur_res[\"mean3\"]:.2f} & {cur_res[\"std3\"]:.2f} & {cur_res[\"mean0\"]:.2f} & {cur_res[\"std0\"]:.2f} & {cur_res[\"mean1\"]:.2f} & {cur_res[\"std1\"]:.2f} & {cur_res[\"p_str\"]} \\\\\\\\')\n",
    "\n",
    "\n",
    "    for cur_diet_label in labels_diet_sta:\n",
    "        if cur_diet_label == 'date':\n",
    "            continue\n",
    "        cur_diet_label_output = diet_labels_dict[cur_diet_label]\n",
    "        cur_res = res.loc[cur_diet_label]\n",
    "        if q == 3:\n",
    "            cur_res = cur_res[['unit','mean3','std3','mean0','std0','mean1','std1','mean2','std2','p_str']]\n",
    "            print(f'{cur_diet_label_output} &{cur_res[\"unit\"]} & & {cur_res[\"mean3\"]:.2f} & {cur_res[\"std3\"]:.2f} & {cur_res[\"mean0\"]:.2f} & {cur_res[\"std0\"]:.2f} & {cur_res[\"mean1\"]:.2f} & {cur_res[\"std1\"]:.2f} & {cur_res[\"mean2\"]:.2f} & {cur_res[\"std2\"]:.2f} & {cur_res[\"p_str\"]} \\\\\\\\')\n",
    "\n",
    "        else:\n",
    "            cur_res = cur_res[['unit','mean3','std3','mean0','std0','mean1','std1','p_str']]\n",
    "            print(f'{cur_diet_label_output} & {cur_res[\"unit\"]} & {cur_res[\"mean3\"]:.2f} & {cur_res[\"std3\"]:.2f} & {cur_res[\"mean0\"]:.2f} & {cur_res[\"std0\"]:.2f} & {cur_res[\"mean1\"]:.2f} & {cur_res[\"std1\"]:.2f} & {cur_res[\"p_str\"]} \\\\\\\\')\n",
    "\n",
    "# 统计按白蛋白分组后，各个基线指标的特征\n",
    "get_baseline_sta_group_by(visit_sta_first,diet_sta_first,labels_visit_sta,labels_diet_sta,'Albumin',filename='baseline_sta_Albumin.xlsx')\n",
    "get_baseline_sta_group_by(visit_sta_mean,diet_sta_mean_time,labels_visit_sta,labels_diet_sta,'Albumin',filename='baseline_mean_sta_Albumin.xlsx')"
   ]
  },
  {
   "cell_type": "code",
   "execution_count": 36,
   "metadata": {},
   "outputs": [
    {
     "name": "stdout",
     "output_type": "stream",
     "text": [
      "['Cl', 'CO2CP', 'WBC', 'Hb', 'Urea', 'Ca', 'K', 'Na', 'Scr', 'P', 'Albumin', 'hs-CRP', 'Glucose', 'Appetite', 'Weight', 'SBP', 'DBP', 'age', 'gender', 'diab', 'height', 'bmi', 'gfr', 'live_time', 'death']\n",
      "sum of death is 289\n",
      "[[1.02000000e+02 2.88000000e+01 7.10000000e+00 ... 2.35546875e+01\n",
      "  2.62316699e-02 1.00000000e+00]\n",
      " [1.02000000e+02 2.65000000e+01 9.60000000e+00 ... 1.98347107e+01\n",
      "  2.56479937e-02 1.00000000e+00]\n",
      " [9.40000000e+01 2.59000000e+01 5.00000000e+00 ... 1.75817599e+01\n",
      "  3.24030950e-02 0.00000000e+00]\n",
      " ...\n",
      " [1.03000000e+02 3.05000000e+01 7.79000000e+00 ... 2.17982024e+01\n",
      "  3.27632169e-02 0.00000000e+00]\n",
      " [1.06000000e+02 2.40000000e+01 3.68000000e+00 ... 2.02691876e+01\n",
      "  6.26952248e-02 0.00000000e+00]\n",
      " [1.08000000e+02 2.54000000e+01 4.93000000e+00 ... 2.26562500e+01\n",
      "  4.62380740e-02 0.00000000e+00]]\n",
      "['Cl', 'CO2CP', 'WBC', 'Hb', 'Urea', 'Ca', 'K', 'Na', 'Scr', 'P', 'Albumin', 'hsCRP', 'Glucose', 'Appetite', 'Weight', 'SBP', 'DBP', 'age', 'gender', 'diab', 'height', 'bmi', 'gfr', 'death']\n",
      "['Cl', 'CO2CP', 'WBC', 'Hb', 'Urea', 'Ca', 'K', 'Na', 'Scr', 'P', 'Albumin', 'hsCRP', 'Glucose', 'Appetite', 'Weight', 'SBP', 'DBP', 'age', 'gender', 'diab', 'height', 'bmi', 'gfr']\n",
      "(656, 23)\n",
      "data rounds: [(19.9, 37.7), (37.7, 51.3)]\n",
      "data counter: Counter({0: 329, 1: 327})\n",
      "(656, 50) 50\n",
      "group 0.0, all count 329\n",
      "sum of diabetes: 161.0, ratio: 0.49\n",
      "sum of female: 157.0, ratio: 0.48\n",
      "group 1.0, all count 327\n",
      "sum of diabetes: 83.0, ratio: 0.25\n",
      "sum of female: 170.0, ratio: 0.52\n",
      "group all\n",
      "sum of diabetes: 244.0, ratio: 0.37\n",
      "sum of female: 327.0, ratio: 0.50\n",
      "(49, 2) (49,) (49, 1)\n",
      "result saved as .//result/baseline_sta_death.xlsx\n",
      "Albumin & g/L & 37.15 & 4.90 & 33.27 & 3.40 & 41.05 & 2.47 & <0.001 \\\\\n",
      "Age & year & 59.11 & 15.78 & 62.72 & 15.09 & 55.48 & 15.64 & <0.001 \\\\\n",
      "Gender & male & 0.50 & 0.50 & 0.52 & 0.50 & 0.48 & 0.50 & 0.28 \\\\\n",
      "Height & cm & 162.60 & 9.46 & 162.77 & 9.94 & 162.44 & 8.95 & 0.66 \\\\\n",
      "Weight & kg & 61.17 & 11.95 & 60.29 & 12.23 & 62.05 & 11.61 & 0.06 \\\\\n",
      "BMI & - & 23.19 & 5.89 & 22.92 & 7.43 & 23.46 & 3.74 & 0.24 \\\\\n",
      "Diab & yes & 0.37 & 0.48 & 0.49 & 0.50 & 0.25 & 0.44 & <0.001 \\\\\n",
      "SBP & mmHg & 135.65 & 21.38 & 136.07 & 21.75 & 135.24 & 21.02 & 0.62 \\\\\n",
      "DBP & mmHg & 78.97 & 14.20 & 76.57 & 14.92 & 81.39 & 13.02 & <0.001 \\\\\n",
      "WBC & $\times 10^{9}$/L & 6.88 & 2.28 & 6.88 & 2.46 & 6.88 & 2.09 & 0.97 \\\\\n",
      "Hb & g/L & 108.11 & 21.78 & 105.60 & 21.56 & 110.63 & 21.74 & <0.01 \\\\\n",
      "Urea & mmol/L & 21.26 & 6.54 & 20.21 & 6.52 & 22.31 & 6.40 & <0.001 \\\\\n",
      "Scr & umol/L & 720.38 & 254.87 & 648.18 & 239.98 & 793.02 & 249.03 & <0.001 \\\\\n",
      "K & mmol/L & 4.33 & 0.78 & 4.26 & 0.84 & 4.40 & 0.70 & 0.02 \\\\\n",
      "Na & mmol/L & 139.17 & 4.87 & 138.72 & 6.04 & 139.63 & 3.24 & 0.02 \\\\\n",
      "Cl & mmol/L & 101.48 & 6.33 & 101.42 & 6.02 & 101.53 & 6.63 & 0.82 \\\\\n",
      "Ca & mmol/L & 2.24 & 0.84 & 2.13 & 0.29 & 2.35 & 1.14 & <0.001 \\\\\n",
      "P & mmol/L & 1.61 & 0.49 & 1.54 & 0.44 & 1.69 & 0.51 & <0.001 \\\\\n",
      "Hs-CRP & mg/L & 5.66 & 13.29 & 7.19 & 16.62 & 4.12 & 8.50 & <0.01 \\\\\n",
      "Glucose & mmol/L & 6.19 & 2.94 & 6.53 & 3.38 & 5.84 & 2.37 & <0.01 \\\\\n",
      "CO2CP & mmol/L & 25.87 & 4.44 & 26.53 & 4.37 & 25.21 & 4.42 & <0.001 \\\\\n",
      "Appetite & g & 3395.54 & 1092.43 & 3314.88 & 1041.90 & 3476.70 & 1136.83 & 0.06 \\\\\n",
      "GFR & ml/min & 0.06 & 0.60 & 0.09 & 0.85 & 0.03 & 0.02 & 0.23 \\\\\n",
      "Water & g/d & 1520.81 & 572.28 & 1493.35 & 568.83 & 1548.43 & 575.28 & 0.22 \\\\\n",
      "Protein & g/d & 52.01 & 18.30 & 51.49 & 17.21 & 52.53 & 19.35 & 0.47 \\\\\n",
      "Fat & g/d & 58.32 & 24.01 & 58.08 & 23.02 & 58.56 & 24.99 & 0.80 \\\\\n",
      "Carbohydrate & g/d & 214.39 & 82.84 & 204.21 & 74.56 & 224.64 & 89.35 & <0.01 \\\\\n",
      "Calories & kcal/d & 1544.92 & 523.92 & 1499.83 & 481.71 & 1590.28 & 560.28 & 0.03 \\\\\n",
      "Df & g/d & 9.89 & 5.90 & 9.47 & 5.08 & 10.31 & 6.60 & 0.07 \\\\\n",
      "K & mg/d & 1475.64 & 591.13 & 1454.35 & 594.16 & 1497.05 & 588.20 & 0.36 \\\\\n",
      "Na & mg/d & 2307.36 & 1182.15 & 2403.03 & 1275.02 & 2211.10 & 1074.08 & 0.04 \\\\\n",
      "Mg & mg/d & 246.99 & 98.91 & 243.91 & 96.17 & 250.09 & 101.65 & 0.42 \\\\\n",
      "Ca & mg/d & 445.67 & 230.32 & 450.36 & 244.19 & 440.96 & 215.74 & 0.60 \\\\\n",
      "P & mg/d & 792.38 & 283.65 & 785.43 & 263.10 & 799.37 & 303.16 & 0.53 \\\\\n",
      "Fe & mg/d & 15.29 & 6.58 & 15.12 & 6.30 & 15.45 & 6.85 & 0.52 \\\\\n",
      "Zn & mg/d & 7.87 & 3.33 & 7.88 & 3.15 & 7.86 & 3.50 & 0.95 \\\\\n",
      "Cu & mg/d & 1.33 & 0.89 & 1.24 & 0.73 & 1.42 & 1.02 & 0.01 \\\\\n",
      "Mn & mg/d & 3.93 & 1.86 & 3.77 & 1.71 & 4.09 & 1.99 & 0.03 \\\\\n",
      "Se & mg/d & 36.77 & 21.34 & 35.66 & 15.84 & 37.88 & 25.69 & 0.18 \\\\\n",
      "Retinol & ug/d & 166.30 & 207.21 & 171.70 & 170.04 & 160.87 & 238.99 & 0.50 \\\\\n",
      "VitaminA & ugRAE/d & 463.23 & 392.35 & 460.42 & 394.39 & 466.05 & 390.86 & 0.85 \\\\\n",
      "Carotene & ug/d & 1743.30 & 1978.37 & 1691.74 & 2071.80 & 1795.17 & 1881.45 & 0.50 \\\\\n",
      "VitaminE & mg/d & 20.96 & 12.88 & 20.54 & 13.14 & 21.38 & 12.61 & 0.41 \\\\\n",
      "Thiamine & mg/d & 1.66 & 10.08 & 1.78 & 10.90 & 1.54 & 9.21 & 0.76 \\\\\n",
      "Riboflavin & mg/d & 1.73 & 9.85 & 1.90 & 10.77 & 1.56 & 8.85 & 0.67 \\\\\n",
      "Nicotinic & mg/d & 11.98 & 6.00 & 11.90 & 5.44 & 12.06 & 6.51 & 0.72 \\\\\n",
      "Ascorbic & mg/d & 88.58 & 72.44 & 83.78 & 70.05 & 93.42 & 74.56 & 0.09 \\\\\n",
      "DPI & g/(kg·d) & 0.91 & 0.30 & 0.89 & 0.29 & 0.92 & 0.30 & 0.28 \\\\\n",
      "DEI & kcal/(kg·d) & 26.93 & 8.58 & 26.04 & 8.35 & 27.83 & 8.73 & <0.01 \\\\\n"
     ]
    }
   ],
   "source": [
    "def get_death(pdid,visit_data,days,labels_visit):\n",
    "    visit_data_events,labels_appended = append_livedatas(pdid,visit_data,days,labels_visit)\n",
    "    print(labels_appended)\n",
    "    return visit_data_events, labels_appended\n",
    "# def get_baseline_sta_group_by_death(visit_first,diet_first,labels_visit,labels_diet,resule_path, target_col = 'Albumin',q=3,filename='baseline_sta.xlsx'):\n",
    "    \n",
    "\n",
    "visit_data_events,labels_appended = get_death(pdid_656, visit_sta_first, days_656, labels_visit_sta)\n",
    "death = pd.DataFrame(visit_data_events,columns=labels_appended)['death']\n",
    "print(f'sum of death is {sum(death)}')\n",
    "visit_sta_first_with_death = np.concatenate((visit_sta_first,np.array(death).reshape(-1,1)), axis=1)\n",
    "labels_visit_sta_with_death = labels_visit_sta + ['death']\n",
    "get_baseline_sta_group_by(visit_sta_first_with_death,diet_sta_first,labels_visit_sta_with_death,labels_diet_sta,'death',filename='baseline_sta_death.xlsx',q = 2)\n",
    "\n"
   ]
  },
  {
   "cell_type": "code",
   "execution_count": 37,
   "metadata": {},
   "outputs": [
    {
     "name": "stdout",
     "output_type": "stream",
     "text": [
      "2723.4849315068504\n"
     ]
    }
   ],
   "source": [
    "# calculate person-year\n",
    "livetime = pd.DataFrame(visit_data_events,columns=labels_appended)['live_time']\n",
    "print(sum(livetime))"
   ]
  },
  {
   "cell_type": "code",
   "execution_count": null,
   "metadata": {},
   "outputs": [],
   "source": []
  }
 ],
 "metadata": {
  "kernelspec": {
   "display_name": "esrd",
   "language": "python",
   "name": "python3"
  },
  "language_info": {
   "codemirror_mode": {
    "name": "ipython",
    "version": 3
   },
   "file_extension": ".py",
   "mimetype": "text/x-python",
   "name": "python",
   "nbconvert_exporter": "python",
   "pygments_lexer": "ipython3",
   "version": "3.7.13"
  },
  "orig_nbformat": 4
 },
 "nbformat": 4,
 "nbformat_minor": 2
}
